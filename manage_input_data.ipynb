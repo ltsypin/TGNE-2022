{
 "cells": [
  {
   "cell_type": "markdown",
   "metadata": {},
   "source": [
    "# IMPORTS"
   ]
  },
  {
   "cell_type": "code",
   "execution_count": 1,
   "metadata": {},
   "outputs": [],
   "source": [
    "import os\n",
    "from glob import glob\n",
    "import pandas as pd\n",
    "from Bio import SeqIO\n",
    "\n",
    "from utils import file_utils"
   ]
  },
  {
   "cell_type": "markdown",
   "metadata": {},
   "source": [
    "# EGGNOG ANNOTATIONS FILE"
   ]
  },
  {
   "cell_type": "code",
   "execution_count": 2,
   "metadata": {},
   "outputs": [],
   "source": [
    "eggnog_input_path = './input_data/eggnog_annotations_file'\n",
    "\n",
    "eggnog_input_ext = '.annotations'\n",
    "\n",
    "eggnog_folder_files = glob(os.path.join(eggnog_input_path, f'*{eggnog_input_ext}'))\n",
    "\n",
    "if len(eggnog_folder_files) < 1:\n",
    "    raise ValueError(f'EGGNOG ANNOTATIONS FILE WITH EXTENSION \\\"{eggnog_input_ext}\\\" NOT DETECTED. PLEASE DEPOSIT THE REVEVANT FILE IN THE FOLLOWING FOLDER: {os.path.abspath(eggnog_input_path)}')\n",
    "elif len(eggnog_folder_files) > 1:\n",
    "    raise ValueError(f'MULTIPLE EGGNOG ANNOTATIONS FILES WITH EXTENSION \\\"{eggnog_input_ext}\\\" DETECTED. PLEASE DEPOSIT ONLY ONE REVEVANT FILE FOLLOWING FOLDER: {os.path.abspath(eggnog_input_path)}')"
   ]
  },
  {
   "cell_type": "code",
   "execution_count": 3,
   "metadata": {},
   "outputs": [],
   "source": [
    "annotations = pd.read_csv(eggnog_folder_files[0], comment='#', delimiter='\\t')"
   ]
  },
  {
   "cell_type": "code",
   "execution_count": 4,
   "metadata": {},
   "outputs": [],
   "source": [
    "annotations.to_csv('./active_files/eggnog_annotations.csv', index=False)"
   ]
  },
  {
   "cell_type": "markdown",
   "metadata": {},
   "source": [
    "# INTERPROSCAN TSV FILE"
   ]
  },
  {
   "cell_type": "code",
   "execution_count": 5,
   "metadata": {},
   "outputs": [],
   "source": [
    "interproscan_input_path = './input_data/interproscan_tsv_file'\n",
    "\n",
    "interproscan_input_ext = '.tsv'\n",
    "\n",
    "interproscan_folder_files = glob(os.path.join(interproscan_input_path, f'*{interproscan_input_ext}'))\n",
    "\n",
    "if len(interproscan_folder_files) < 1:\n",
    "    raise ValueError(f'INTERPROSCAN TSV FILE WITH EXTENSION \\\"{interproscan_input_ext}\\\" NOT DETECTED. PLEASE DEPOSIT THE REVEVANT FILE IN THE FOLLOWING FOLDER: {os.path.abspath(interproscan_input_path)}')\n",
    "elif len(interproscan_folder_files) > 1:\n",
    "    raise ValueError(f'MULTIPLE INTERPROSCAN TSV FILES WITH EXTENSION \\\"{interproscan_input_ext}\\\" DETECTED. PLEASE DEPOSIT ONLY ONE REVEVANT FILE FOLLOWING FOLDER: {os.path.abspath(interproscan_input_path)}')"
   ]
  },
  {
   "cell_type": "markdown",
   "metadata": {},
   "source": [
    "# KALLISTO TSV FILES"
   ]
  },
  {
   "cell_type": "code",
   "execution_count": 6,
   "metadata": {},
   "outputs": [
    {
     "ename": "ValueError",
     "evalue": "KALLISTO TSV DATA FILE(S) WITH EXTENSION \".tsv\" NOT DETECTED. PLEASE DEPOSIT THE REVEVANT FOLDER(S) CONTAINING THESE FILE(S) IN THE FOLLOWING FOLDER: /Users/lmt/git/TGNE-2022/input_data/kallisto_data_folders",
     "output_type": "error",
     "traceback": [
      "\u001b[0;31m---------------------------------------------------------------------------\u001b[0m",
      "\u001b[0;31mValueError\u001b[0m                                Traceback (most recent call last)",
      "Cell \u001b[0;32mIn[6], line 8\u001b[0m\n\u001b[1;32m      5\u001b[0m kallisto_folder_files \u001b[38;5;241m=\u001b[39m glob(os\u001b[38;5;241m.\u001b[39mpath\u001b[38;5;241m.\u001b[39mjoin(kallisto_input_path, \u001b[38;5;124mf\u001b[39m\u001b[38;5;124m'\u001b[39m\u001b[38;5;124m**/*\u001b[39m\u001b[38;5;132;01m{\u001b[39;00mkallisto_input_ext\u001b[38;5;132;01m}\u001b[39;00m\u001b[38;5;124m'\u001b[39m))\n\u001b[1;32m      7\u001b[0m \u001b[38;5;28;01mif\u001b[39;00m \u001b[38;5;28mlen\u001b[39m(kallisto_folder_files) \u001b[38;5;241m<\u001b[39m \u001b[38;5;241m1\u001b[39m:\n\u001b[0;32m----> 8\u001b[0m     \u001b[38;5;28;01mraise\u001b[39;00m \u001b[38;5;167;01mValueError\u001b[39;00m(\u001b[38;5;124mf\u001b[39m\u001b[38;5;124m'\u001b[39m\u001b[38;5;124mKALLISTO TSV DATA FILE(S) WITH EXTENSION \u001b[39m\u001b[38;5;130;01m\\\"\u001b[39;00m\u001b[38;5;132;01m{\u001b[39;00mkallisto_input_ext\u001b[38;5;132;01m}\u001b[39;00m\u001b[38;5;130;01m\\\"\u001b[39;00m\u001b[38;5;124m NOT DETECTED. PLEASE DEPOSIT THE REVEVANT FOLDER(S) CONTAINING THESE FILE(S) IN THE FOLLOWING FOLDER: \u001b[39m\u001b[38;5;132;01m{\u001b[39;00mos\u001b[38;5;241m.\u001b[39mpath\u001b[38;5;241m.\u001b[39mabspath(kallisto_input_path)\u001b[38;5;132;01m}\u001b[39;00m\u001b[38;5;124m'\u001b[39m)\n",
      "\u001b[0;31mValueError\u001b[0m: KALLISTO TSV DATA FILE(S) WITH EXTENSION \".tsv\" NOT DETECTED. PLEASE DEPOSIT THE REVEVANT FOLDER(S) CONTAINING THESE FILE(S) IN THE FOLLOWING FOLDER: /Users/lmt/git/TGNE-2022/input_data/kallisto_data_folders"
     ]
    }
   ],
   "source": [
    "kallisto_input_path = './input_data/kallisto_data_folders'\n",
    "\n",
    "kallisto_input_ext = '.tsv'\n",
    "\n",
    "kallisto_folder_files = glob(os.path.join(kallisto_input_path, f'**/*{kallisto_input_ext}'))\n",
    "\n",
    "if len(kallisto_folder_files) < 1:\n",
    "    raise ValueError(f'KALLISTO TSV DATA FILE(S) WITH EXTENSION \\\"{kallisto_input_ext}\\\" NOT DETECTED. PLEASE DEPOSIT THE REVEVANT FOLDER(S) CONTAINING THESE FILE(S) IN THE FOLLOWING FOLDER: {os.path.abspath(kallisto_input_path)}')"
   ]
  },
  {
   "cell_type": "markdown",
   "metadata": {},
   "source": [
    "# GENOME MODEL FILES"
   ]
  },
  {
   "cell_type": "markdown",
   "metadata": {},
   "source": [
    "Get the fasta file for the CDSs of the 2021 genome"
   ]
  },
  {
   "cell_type": "code",
   "execution_count": 7,
   "metadata": {},
   "outputs": [
    {
     "name": "stdout",
     "output_type": "stream",
     "text": [
      "FILE SAVED: /Users/lmt/git/TGNE-2022/new_raw_data/Tthermophila_MAC_CDS_2021.fasta\n"
     ]
    }
   ],
   "source": [
    "file_utils.download_file_chunks('https://tet.ciliate.org/common/downloads/tet/legacy/3-upd-cds-fasta-2021.fasta', \n",
    "                                './new_raw_data/Tthermophila_MAC_CDS_2021.fasta')"
   ]
  },
  {
   "cell_type": "markdown",
   "metadata": {},
   "source": [
    "Get the fasta file for the protein sequences of the 2021 genome"
   ]
  },
  {
   "cell_type": "code",
   "execution_count": 8,
   "metadata": {},
   "outputs": [
    {
     "name": "stdout",
     "output_type": "stream",
     "text": [
      "FILE SAVED: /Users/lmt/git/TGNE-2022/new_raw_data/Tthermophila_MAC_protein_2021.fasta\n"
     ]
    }
   ],
   "source": [
    "file_utils.download_file_chunks('https://tet.ciliate.org/common/downloads/tet/legacy/4-upd-Protein-fasta-2021.fasta', \n",
    "                                './new_raw_data/Tthermophila_MAC_protein_2021.fasta')"
   ]
  },
  {
   "cell_type": "code",
   "execution_count": 2,
   "metadata": {},
   "outputs": [],
   "source": [
    "url = 'https://github.com/yefei521/GAET/releases/download/V2024.2/'"
   ]
  },
  {
   "cell_type": "code",
   "execution_count": 3,
   "metadata": {},
   "outputs": [],
   "source": [
    "cds_input_path = './input_data/genome_model/cds_fasta'\n",
    "\n",
    "file_utils.create_directories(cds_input_path)\n",
    "\n",
    "cds_input_ext = '.fasta'\n",
    "\n",
    "cds_folder_files = glob(os.path.join(cds_input_path, f'*{cds_input_ext}'))\n",
    "\n",
    "if len(cds_folder_files) < 1:\n",
    "    print(f'GENOME MODEL CDS FILE WITH EXTENSION \\\"{cds_input_ext}\\\" NOT DETECTED. DOWNLOADING TO THE FOLLOWING FOLDER: {os.path.abspath(cds_input_path)}')\n",
    "    cds_file = os.path.join(url, 'Tetrahymena_Genome_annotation_V2024_CDS.fasta')\n",
    "    file_utils.download_file_chunks(cds_file, os.path.join(cds_input_path, os.path.basename(cds_file)))\n",
    "    cds_folder_files.append(os.path.join(cds_input_path, os.path.basename(cds_file)))\n",
    "elif len(cds_folder_files) > 1:\n",
    "    raise ValueError(f'MULTIPLE GENOME MODEL CDS FILES WITH EXTENSION \\\"{cds_input_ext}\\\" DETECTED. PLEASE DEPOSIT ONLY ONE REVEVANT FILE FOLLOWING FOLDER: {os.path.abspath(cds_input_path)}')"
   ]
  },
  {
   "cell_type": "code",
   "execution_count": 4,
   "metadata": {},
   "outputs": [
    {
     "data": {
      "text/plain": [
       "26687"
      ]
     },
     "execution_count": 4,
     "metadata": {},
     "output_type": "execute_result"
    }
   ],
   "source": [
    "with open(cds_folder_files[0], 'r') as f:\n",
    "    cds_records = list(SeqIO.parse(f, 'fasta'))\n",
    "    \n",
    "SeqIO.write(cds_records, './active_files/cds.fasta', 'fasta')"
   ]
  },
  {
   "cell_type": "code",
   "execution_count": 12,
   "metadata": {},
   "outputs": [],
   "source": [
    "pep_input_path = './input_data/genome_model/pep_fasta'\n",
    "\n",
    "file_utils.create_directories(pep_input_path)\n",
    "\n",
    "pep_input_ext = '.fasta'\n",
    "\n",
    "pep_folder_files = glob(os.path.join(pep_input_path, f'*{pep_input_ext}'))\n",
    "\n",
    "if len(pep_folder_files) < 1:\n",
    "    print(f'GENOME MODEL PEP FILE WITH EXTENSION \\\"{pep_input_ext}\\\" NOT DETECTED. DOWNLOADING TO THE FOLLOWING FOLDER: {os.path.abspath(pep_input_path)}')\n",
    "    pep_file = os.path.join(url, 'Tetrahymena_Genome_annotation_V2024_Protein_addAnno.fasta')\n",
    "    file_utils.download_file_chunks(pep_file, os.path.join(pep_input_path, os.path.basename(pep_file)))\n",
    "    pep_folder_files.append(os.path.join(pep_input_path, os.path.basename(pep_file)))\n",
    "elif len(pep_folder_files) > 1:\n",
    "    raise ValueError(f'MULTIPLE GENOME MODEL PEP FILES WITH EXTENSION \\\"{pep_input_ext}\\\" DETECTED. PLEASE DEPOSIT ONLY ONE REVEVANT FILE FOLLOWING FOLDER: {os.path.abspath(pep_input_path)}')"
   ]
  },
  {
   "cell_type": "code",
   "execution_count": 13,
   "metadata": {},
   "outputs": [],
   "source": [
    "with open(pep_folder_files[0], 'r') as f:\n",
    "    pep_records = list(SeqIO.parse(f, 'fasta'))\n",
    "\n",
    "common_name_dict = {'TTHERM_ID': [], 'common_name': []}\n",
    "\n",
    "for idx, r in enumerate(pep_records):\n",
    "    id_name_split = r.id.split('|')\n",
    "    r.id = id_name_split[0]\n",
    "\n",
    "    if r.id in common_name_dict['TTHERM_ID']:\n",
    "        raise(ValueError(f'{r.id} appears more than once in the protein fasta file.'))\n",
    "    \n",
    "    common_name_dict['TTHERM_ID'].append(id_name_split[0])\n",
    "    common_name_dict['common_name'].append('-' if len(id_name_split) < 2 else id_name_split[1])\n",
    "\n",
    "common_name_df = pd.DataFrame(common_name_dict)\n",
    "\n",
    "SeqIO.write(pep_records, './active_files/pep.fasta', 'fasta')\n",
    "common_name_df.to_csv('./active_files/common_names.csv', index=False)"
   ]
  },
  {
   "cell_type": "code",
   "execution_count": null,
   "metadata": {},
   "outputs": [],
   "source": []
  }
 ],
 "metadata": {
  "kernelspec": {
   "display_name": "Python 3 (ipykernel)",
   "language": "python",
   "name": "python3"
  },
  "language_info": {
   "codemirror_mode": {
    "name": "ipython",
    "version": 3
   },
   "file_extension": ".py",
   "mimetype": "text/x-python",
   "name": "python",
   "nbconvert_exporter": "python",
   "pygments_lexer": "ipython3",
   "version": "3.8.16"
  }
 },
 "nbformat": 4,
 "nbformat_minor": 4
}

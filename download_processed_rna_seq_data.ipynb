{
 "cells": [
  {
   "cell_type": "code",
   "execution_count": 2,
   "metadata": {},
   "outputs": [
    {
     "name": "stdout",
     "output_type": "stream",
     "text": [
      "['mc-e22-08-0326-s01.xls', 'mc-e22-08-0326-s02.xls', 'mc-e22-08-0326-s03.xls', 'mc-e22-08-0326-s04.xls', 'mc-e22-08-0326-s05.xls', 'mc-e22-08-0326-s06.xls', 'mc-e22-08-0326-s07.xls', 'mc-e22-08-0326-s08.xls', 'mc-e22-08-0326-s09.xls', 'mc-e22-08-0326-s10.xls']\n",
      "Failed to download the file. Status code: 403\n",
      "Failed to download the file. Status code: 403\n",
      "Failed to download the file. Status code: 403\n",
      "Failed to download the file. Status code: 403\n",
      "Failed to download the file. Status code: 403\n",
      "Failed to download the file. Status code: 403\n",
      "Failed to download the file. Status code: 403\n",
      "Failed to download the file. Status code: 403\n",
      "Failed to download the file. Status code: 403\n",
      "Failed to download the file. Status code: 403\n"
     ]
    }
   ],
   "source": [
    "import requests\n",
    "import os\n",
    "\n",
    "url_dir = 'https://www.molbiolcell.org/doi/suppl/10.1091/mbc.E22-08-0326/suppl_file/'\n",
    "\n",
    "url_files = [f'mc-e22-08-0326-s{str(num).zfill(2)}.xls' for num in list(range(1,11))]\n",
    "\n",
    "print(url_files)\n",
    "\n",
    "output_dir = './new_raw_data/rna_seq_processed'\n",
    "\n",
    "if not os.path.exists(output_dir):\n",
    "    os.makedirs(output_dir)\n",
    "\n",
    "for url_file in url_files:\n",
    "\n",
    "    response = requests.get(f'{url_dir}{url_file}')\n",
    "\n",
    "    if response.status_code == 200:\n",
    "\n",
    "        with open(f'{output_dir}{url_file}', \"wb\") as f:\n",
    "            f.write(response.content)\n",
    "\n",
    "        print(f\"File downloaded successfully to {f'{output_dir}{url_file}'}\")\n",
    "    else:\n",
    "        print(f\"Failed to download the file. Status code: {response.status_code}\")\n"
   ]
  }
 ],
 "metadata": {
  "kernelspec": {
   "display_name": "Python 3",
   "language": "python",
   "name": "python3"
  },
  "language_info": {
   "codemirror_mode": {
    "name": "ipython",
    "version": 3
   },
   "file_extension": ".py",
   "mimetype": "text/x-python",
   "name": "python",
   "nbconvert_exporter": "python",
   "pygments_lexer": "ipython3",
   "version": "3.9.9"
  }
 },
 "nbformat": 4,
 "nbformat_minor": 2
}

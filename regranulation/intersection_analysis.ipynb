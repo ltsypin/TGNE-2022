{
 "cells": [
  {
   "cell_type": "code",
   "execution_count": 1,
   "metadata": {},
   "outputs": [
    {
     "data": {
      "text/plain": [
       "0.2630344058337938"
      ]
     },
     "execution_count": 1,
     "metadata": {},
     "output_type": "execute_result"
    }
   ],
   "source": [
    "import numpy\n",
    "numpy.log2(1.2)"
   ]
  },
  {
   "cell_type": "code",
   "execution_count": 2,
   "metadata": {},
   "outputs": [
    {
     "data": {
      "text/plain": [
       "-2.0"
      ]
     },
     "execution_count": 2,
     "metadata": {},
     "output_type": "execute_result"
    }
   ],
   "source": [
    "numpy.log10(0.01)"
   ]
  },
  {
   "cell_type": "code",
   "execution_count": 3,
   "metadata": {},
   "outputs": [
    {
     "data": {
      "text/html": [
       "<div>\n",
       "<style scoped>\n",
       "    .dataframe tbody tr th:only-of-type {\n",
       "        vertical-align: middle;\n",
       "    }\n",
       "\n",
       "    .dataframe tbody tr th {\n",
       "        vertical-align: top;\n",
       "    }\n",
       "\n",
       "    .dataframe thead th {\n",
       "        text-align: right;\n",
       "    }\n",
       "</style>\n",
       "<table border=\"1\" class=\"dataframe\">\n",
       "  <thead>\n",
       "    <tr style=\"text-align: right;\">\n",
       "      <th></th>\n",
       "      <th>Unnamed: 0</th>\n",
       "      <th>logFC</th>\n",
       "      <th>AveExpr</th>\n",
       "      <th>t</th>\n",
       "      <th>P.Value</th>\n",
       "      <th>adj.P.Val</th>\n",
       "      <th>B</th>\n",
       "      <th>negLogPValue</th>\n",
       "    </tr>\n",
       "  </thead>\n",
       "  <tbody>\n",
       "    <tr>\n",
       "      <th>0</th>\n",
       "      <td>TTHERM_01127520</td>\n",
       "      <td>6.690659</td>\n",
       "      <td>7.767126</td>\n",
       "      <td>28.975787</td>\n",
       "      <td>1.738046e-11</td>\n",
       "      <td>1.703019e-07</td>\n",
       "      <td>16.456865</td>\n",
       "      <td>6.768781</td>\n",
       "    </tr>\n",
       "    <tr>\n",
       "      <th>1</th>\n",
       "      <td>TTHERM_00056190</td>\n",
       "      <td>5.203817</td>\n",
       "      <td>6.252868</td>\n",
       "      <td>28.805550</td>\n",
       "      <td>1.849421e-11</td>\n",
       "      <td>1.703019e-07</td>\n",
       "      <td>16.407094</td>\n",
       "      <td>6.768781</td>\n",
       "    </tr>\n",
       "    <tr>\n",
       "      <th>2</th>\n",
       "      <td>TTHERM_00261850</td>\n",
       "      <td>5.452655</td>\n",
       "      <td>9.897292</td>\n",
       "      <td>27.734807</td>\n",
       "      <td>2.756464e-11</td>\n",
       "      <td>1.703019e-07</td>\n",
       "      <td>16.083683</td>\n",
       "      <td>6.768781</td>\n",
       "    </tr>\n",
       "    <tr>\n",
       "      <th>3</th>\n",
       "      <td>TTHERM_00196410</td>\n",
       "      <td>5.811264</td>\n",
       "      <td>7.579225</td>\n",
       "      <td>26.745544</td>\n",
       "      <td>4.039968e-11</td>\n",
       "      <td>1.703019e-07</td>\n",
       "      <td>15.768151</td>\n",
       "      <td>6.768781</td>\n",
       "    </tr>\n",
       "    <tr>\n",
       "      <th>4</th>\n",
       "      <td>TTHERM_01338520</td>\n",
       "      <td>4.718828</td>\n",
       "      <td>8.746926</td>\n",
       "      <td>26.424358</td>\n",
       "      <td>4.587431e-11</td>\n",
       "      <td>1.703019e-07</td>\n",
       "      <td>15.662054</td>\n",
       "      <td>6.768781</td>\n",
       "    </tr>\n",
       "    <tr>\n",
       "      <th>...</th>\n",
       "      <td>...</td>\n",
       "      <td>...</td>\n",
       "      <td>...</td>\n",
       "      <td>...</td>\n",
       "      <td>...</td>\n",
       "      <td>...</td>\n",
       "      <td>...</td>\n",
       "      <td>...</td>\n",
       "    </tr>\n",
       "    <tr>\n",
       "      <th>23655</th>\n",
       "      <td>TTHERM_00191520</td>\n",
       "      <td>0.000098</td>\n",
       "      <td>4.811380</td>\n",
       "      <td>0.000479</td>\n",
       "      <td>9.996263e-01</td>\n",
       "      <td>9.997953e-01</td>\n",
       "      <td>-7.289677</td>\n",
       "      <td>0.000089</td>\n",
       "    </tr>\n",
       "    <tr>\n",
       "      <th>23656</th>\n",
       "      <td>TTHERM_00619877</td>\n",
       "      <td>0.000114</td>\n",
       "      <td>12.186715</td>\n",
       "      <td>0.000316</td>\n",
       "      <td>9.997538e-01</td>\n",
       "      <td>9.998806e-01</td>\n",
       "      <td>-7.289677</td>\n",
       "      <td>0.000052</td>\n",
       "    </tr>\n",
       "    <tr>\n",
       "      <th>23657</th>\n",
       "      <td>TTHERM_01068180</td>\n",
       "      <td>-0.000044</td>\n",
       "      <td>15.102700</td>\n",
       "      <td>-0.000216</td>\n",
       "      <td>9.998314e-01</td>\n",
       "      <td>9.999159e-01</td>\n",
       "      <td>-7.289677</td>\n",
       "      <td>0.000037</td>\n",
       "    </tr>\n",
       "    <tr>\n",
       "      <th>23658</th>\n",
       "      <td>TTHERM_01652016</td>\n",
       "      <td>-0.000044</td>\n",
       "      <td>13.414645</td>\n",
       "      <td>-0.000118</td>\n",
       "      <td>9.999082e-01</td>\n",
       "      <td>9.999275e-01</td>\n",
       "      <td>-7.289677</td>\n",
       "      <td>0.000031</td>\n",
       "    </tr>\n",
       "    <tr>\n",
       "      <th>23659</th>\n",
       "      <td>TTHERM_00666810</td>\n",
       "      <td>-0.000024</td>\n",
       "      <td>5.421573</td>\n",
       "      <td>-0.000093</td>\n",
       "      <td>9.999275e-01</td>\n",
       "      <td>9.999275e-01</td>\n",
       "      <td>-7.289677</td>\n",
       "      <td>0.000031</td>\n",
       "    </tr>\n",
       "  </tbody>\n",
       "</table>\n",
       "<p>23660 rows × 8 columns</p>\n",
       "</div>"
      ],
      "text/plain": [
       "            Unnamed: 0     logFC    AveExpr          t       P.Value  \\\n",
       "0      TTHERM_01127520  6.690659   7.767126  28.975787  1.738046e-11   \n",
       "1      TTHERM_00056190  5.203817   6.252868  28.805550  1.849421e-11   \n",
       "2      TTHERM_00261850  5.452655   9.897292  27.734807  2.756464e-11   \n",
       "3      TTHERM_00196410  5.811264   7.579225  26.745544  4.039968e-11   \n",
       "4      TTHERM_01338520  4.718828   8.746926  26.424358  4.587431e-11   \n",
       "...                ...       ...        ...        ...           ...   \n",
       "23655  TTHERM_00191520  0.000098   4.811380   0.000479  9.996263e-01   \n",
       "23656  TTHERM_00619877  0.000114  12.186715   0.000316  9.997538e-01   \n",
       "23657  TTHERM_01068180 -0.000044  15.102700  -0.000216  9.998314e-01   \n",
       "23658  TTHERM_01652016 -0.000044  13.414645  -0.000118  9.999082e-01   \n",
       "23659  TTHERM_00666810 -0.000024   5.421573  -0.000093  9.999275e-01   \n",
       "\n",
       "          adj.P.Val          B  negLogPValue  \n",
       "0      1.703019e-07  16.456865      6.768781  \n",
       "1      1.703019e-07  16.407094      6.768781  \n",
       "2      1.703019e-07  16.083683      6.768781  \n",
       "3      1.703019e-07  15.768151      6.768781  \n",
       "4      1.703019e-07  15.662054      6.768781  \n",
       "...             ...        ...           ...  \n",
       "23655  9.997953e-01  -7.289677      0.000089  \n",
       "23656  9.998806e-01  -7.289677      0.000052  \n",
       "23657  9.999159e-01  -7.289677      0.000037  \n",
       "23658  9.999275e-01  -7.289677      0.000031  \n",
       "23659  9.999275e-01  -7.289677      0.000031  \n",
       "\n",
       "[23660 rows x 8 columns]"
      ]
     },
     "execution_count": 3,
     "metadata": {},
     "output_type": "execute_result"
    }
   ],
   "source": [
    "import pandas as pd\n",
    "\n",
    "ttherm_df = pd.read_csv('./tt.csv')\n",
    "\n",
    "ttherm_df"
   ]
  },
  {
   "cell_type": "code",
   "execution_count": 4,
   "metadata": {},
   "outputs": [],
   "source": [
    "import numpy as np\n",
    "\n",
    "def probability_from_bstat(b_stat):\n",
    "    # Calculate odds using exponential function\n",
    "    odds = np.exp(b_stat)\n",
    "    \n",
    "    # Calculate probability of differential expression\n",
    "    probability = odds / (1 + odds)\n",
    "    \n",
    "    return probability"
   ]
  },
  {
   "cell_type": "code",
   "execution_count": 5,
   "metadata": {},
   "outputs": [
    {
     "data": {
      "text/plain": [
       "0.7310585786300049"
      ]
     },
     "execution_count": 5,
     "metadata": {},
     "output_type": "execute_result"
    }
   ],
   "source": [
    "probability_from_bstat(1)"
   ]
  },
  {
   "cell_type": "code",
   "execution_count": 6,
   "metadata": {},
   "outputs": [],
   "source": [
    "ttherm_df['diff_exp_prob'] = ttherm_df['B'].apply(probability_from_bstat)"
   ]
  },
  {
   "cell_type": "code",
   "execution_count": 7,
   "metadata": {},
   "outputs": [
    {
     "data": {
      "text/html": [
       "<div>\n",
       "<style scoped>\n",
       "    .dataframe tbody tr th:only-of-type {\n",
       "        vertical-align: middle;\n",
       "    }\n",
       "\n",
       "    .dataframe tbody tr th {\n",
       "        vertical-align: top;\n",
       "    }\n",
       "\n",
       "    .dataframe thead th {\n",
       "        text-align: right;\n",
       "    }\n",
       "</style>\n",
       "<table border=\"1\" class=\"dataframe\">\n",
       "  <thead>\n",
       "    <tr style=\"text-align: right;\">\n",
       "      <th></th>\n",
       "      <th>Unnamed: 0</th>\n",
       "      <th>logFC</th>\n",
       "      <th>AveExpr</th>\n",
       "      <th>t</th>\n",
       "      <th>P.Value</th>\n",
       "      <th>adj.P.Val</th>\n",
       "      <th>B</th>\n",
       "      <th>negLogPValue</th>\n",
       "      <th>diff_exp_prob</th>\n",
       "    </tr>\n",
       "  </thead>\n",
       "  <tbody>\n",
       "    <tr>\n",
       "      <th>5037</th>\n",
       "      <td>TTHERM_01018540</td>\n",
       "      <td>1.283340</td>\n",
       "      <td>14.967231</td>\n",
       "      <td>4.944065</td>\n",
       "      <td>0.000482</td>\n",
       "      <td>0.002264</td>\n",
       "      <td>-0.401125</td>\n",
       "      <td>2.645122</td>\n",
       "      <td>0.401042</td>\n",
       "    </tr>\n",
       "    <tr>\n",
       "      <th>7050</th>\n",
       "      <td>TTHERM_00473020</td>\n",
       "      <td>0.913899</td>\n",
       "      <td>15.096574</td>\n",
       "      <td>3.817792</td>\n",
       "      <td>0.003016</td>\n",
       "      <td>0.010120</td>\n",
       "      <td>-2.301385</td>\n",
       "      <td>1.994838</td>\n",
       "      <td>0.091008</td>\n",
       "    </tr>\n",
       "    <tr>\n",
       "      <th>8266</th>\n",
       "      <td>TTHERM_00321730</td>\n",
       "      <td>0.935501</td>\n",
       "      <td>5.996553</td>\n",
       "      <td>3.273905</td>\n",
       "      <td>0.007710</td>\n",
       "      <td>0.022065</td>\n",
       "      <td>-3.259021</td>\n",
       "      <td>1.656305</td>\n",
       "      <td>0.037004</td>\n",
       "    </tr>\n",
       "    <tr>\n",
       "      <th>14071</th>\n",
       "      <td>TTHERM_00527180</td>\n",
       "      <td>0.237263</td>\n",
       "      <td>15.763545</td>\n",
       "      <td>1.571913</td>\n",
       "      <td>0.145145</td>\n",
       "      <td>0.244040</td>\n",
       "      <td>-6.080455</td>\n",
       "      <td>0.612539</td>\n",
       "      <td>0.002282</td>\n",
       "    </tr>\n",
       "    <tr>\n",
       "      <th>15566</th>\n",
       "      <td>TTHERM_00624720</td>\n",
       "      <td>0.180335</td>\n",
       "      <td>15.830153</td>\n",
       "      <td>1.271762</td>\n",
       "      <td>0.230491</td>\n",
       "      <td>0.350319</td>\n",
       "      <td>-6.470176</td>\n",
       "      <td>0.455536</td>\n",
       "      <td>0.001547</td>\n",
       "    </tr>\n",
       "    <tr>\n",
       "      <th>18514</th>\n",
       "      <td>TTHERM_00624730</td>\n",
       "      <td>0.112218</td>\n",
       "      <td>15.792016</td>\n",
       "      <td>0.755993</td>\n",
       "      <td>0.466024</td>\n",
       "      <td>0.595525</td>\n",
       "      <td>-6.986634</td>\n",
       "      <td>0.225100</td>\n",
       "      <td>0.000923</td>\n",
       "    </tr>\n",
       "    <tr>\n",
       "      <th>18569</th>\n",
       "      <td>TTHERM_00522600</td>\n",
       "      <td>0.115056</td>\n",
       "      <td>15.775699</td>\n",
       "      <td>0.748228</td>\n",
       "      <td>0.470502</td>\n",
       "      <td>0.599465</td>\n",
       "      <td>-6.992671</td>\n",
       "      <td>0.222236</td>\n",
       "      <td>0.000918</td>\n",
       "    </tr>\n",
       "    <tr>\n",
       "      <th>21328</th>\n",
       "      <td>TTHERM_01055600</td>\n",
       "      <td>0.049038</td>\n",
       "      <td>15.936676</td>\n",
       "      <td>0.340273</td>\n",
       "      <td>0.740258</td>\n",
       "      <td>0.821122</td>\n",
       "      <td>-7.226986</td>\n",
       "      <td>0.085592</td>\n",
       "      <td>0.000726</td>\n",
       "    </tr>\n",
       "    <tr>\n",
       "      <th>22792</th>\n",
       "      <td>TTHERM_00378890</td>\n",
       "      <td>0.018124</td>\n",
       "      <td>15.922759</td>\n",
       "      <td>0.127367</td>\n",
       "      <td>0.901019</td>\n",
       "      <td>0.935292</td>\n",
       "      <td>-7.280853</td>\n",
       "      <td>0.029053</td>\n",
       "      <td>0.000688</td>\n",
       "    </tr>\n",
       "  </tbody>\n",
       "</table>\n",
       "</div>"
      ],
      "text/plain": [
       "            Unnamed: 0     logFC    AveExpr         t   P.Value  adj.P.Val  \\\n",
       "5037   TTHERM_01018540  1.283340  14.967231  4.944065  0.000482   0.002264   \n",
       "7050   TTHERM_00473020  0.913899  15.096574  3.817792  0.003016   0.010120   \n",
       "8266   TTHERM_00321730  0.935501   5.996553  3.273905  0.007710   0.022065   \n",
       "14071  TTHERM_00527180  0.237263  15.763545  1.571913  0.145145   0.244040   \n",
       "15566  TTHERM_00624720  0.180335  15.830153  1.271762  0.230491   0.350319   \n",
       "18514  TTHERM_00624730  0.112218  15.792016  0.755993  0.466024   0.595525   \n",
       "18569  TTHERM_00522600  0.115056  15.775699  0.748228  0.470502   0.599465   \n",
       "21328  TTHERM_01055600  0.049038  15.936676  0.340273  0.740258   0.821122   \n",
       "22792  TTHERM_00378890  0.018124  15.922759  0.127367  0.901019   0.935292   \n",
       "\n",
       "              B  negLogPValue  diff_exp_prob  \n",
       "5037  -0.401125      2.645122       0.401042  \n",
       "7050  -2.301385      1.994838       0.091008  \n",
       "8266  -3.259021      1.656305       0.037004  \n",
       "14071 -6.080455      0.612539       0.002282  \n",
       "15566 -6.470176      0.455536       0.001547  \n",
       "18514 -6.986634      0.225100       0.000923  \n",
       "18569 -6.992671      0.222236       0.000918  \n",
       "21328 -7.226986      0.085592       0.000726  \n",
       "22792 -7.280853      0.029053       0.000688  "
      ]
     },
     "execution_count": 7,
     "metadata": {},
     "output_type": "execute_result"
    }
   ],
   "source": [
    "ttherm_df.loc[\n",
    "    (ttherm_df['Unnamed: 0'].isin(['TTHERM_01018540',\n",
    "'TTHERM_00473020',\n",
    "'TTHERM_01055600',\n",
    "'TTHERM_00624730',\n",
    "'TTHERM_00624720',\n",
    "'TTHERM_00527180',\n",
    "'TTHERM_00522600',\n",
    "'TTHERM_00378890',\n",
    "'TTHERM_00321730',]))\n",
    "]"
   ]
  },
  {
   "cell_type": "code",
   "execution_count": 8,
   "metadata": {},
   "outputs": [],
   "source": [
    "ttherm_df.loc[\n",
    "    (ttherm_df['Unnamed: 0'].isin(['TTHERM_01018540',\n",
    "'TTHERM_00473020',\n",
    "'TTHERM_01055600',\n",
    "'TTHERM_00624730',\n",
    "'TTHERM_00624720',\n",
    "'TTHERM_00527180',\n",
    "'TTHERM_00522600',\n",
    "'TTHERM_00378890',\n",
    "'TTHERM_00321730',]))\n",
    "].to_csv('~/grls.csv')"
   ]
  },
  {
   "cell_type": "code",
   "execution_count": 9,
   "metadata": {},
   "outputs": [
    {
     "data": {
      "text/html": [
       "<div>\n",
       "<style scoped>\n",
       "    .dataframe tbody tr th:only-of-type {\n",
       "        vertical-align: middle;\n",
       "    }\n",
       "\n",
       "    .dataframe tbody tr th {\n",
       "        vertical-align: top;\n",
       "    }\n",
       "\n",
       "    .dataframe thead th {\n",
       "        text-align: right;\n",
       "    }\n",
       "</style>\n",
       "<table border=\"1\" class=\"dataframe\">\n",
       "  <thead>\n",
       "    <tr style=\"text-align: right;\">\n",
       "      <th></th>\n",
       "      <th>Unnamed: 0</th>\n",
       "      <th>logFC</th>\n",
       "      <th>AveExpr</th>\n",
       "      <th>t</th>\n",
       "      <th>P.Value</th>\n",
       "      <th>adj.P.Val</th>\n",
       "      <th>B</th>\n",
       "      <th>negLogPValue</th>\n",
       "      <th>diff_exp_prob</th>\n",
       "    </tr>\n",
       "  </thead>\n",
       "  <tbody>\n",
       "    <tr>\n",
       "      <th>6100</th>\n",
       "      <td>TTHERM_00471040</td>\n",
       "      <td>0.794310</td>\n",
       "      <td>15.354026</td>\n",
       "      <td>4.300681</td>\n",
       "      <td>0.001346</td>\n",
       "      <td>0.005220</td>\n",
       "      <td>-1.469043</td>\n",
       "      <td>2.282299</td>\n",
       "      <td>0.187088</td>\n",
       "    </tr>\n",
       "    <tr>\n",
       "      <th>6600</th>\n",
       "      <td>TTHERM_00537380</td>\n",
       "      <td>0.965906</td>\n",
       "      <td>14.913944</td>\n",
       "      <td>4.039515</td>\n",
       "      <td>0.002075</td>\n",
       "      <td>0.007437</td>\n",
       "      <td>-1.916428</td>\n",
       "      <td>2.128586</td>\n",
       "      <td>0.128260</td>\n",
       "    </tr>\n",
       "    <tr>\n",
       "      <th>7050</th>\n",
       "      <td>TTHERM_00473020</td>\n",
       "      <td>0.913899</td>\n",
       "      <td>15.096574</td>\n",
       "      <td>3.817792</td>\n",
       "      <td>0.003016</td>\n",
       "      <td>0.010120</td>\n",
       "      <td>-2.301385</td>\n",
       "      <td>1.994838</td>\n",
       "      <td>0.091008</td>\n",
       "    </tr>\n",
       "    <tr>\n",
       "      <th>7583</th>\n",
       "      <td>TTHERM_01002870</td>\n",
       "      <td>0.550788</td>\n",
       "      <td>15.557526</td>\n",
       "      <td>3.553549</td>\n",
       "      <td>0.004742</td>\n",
       "      <td>0.014795</td>\n",
       "      <td>-2.764957</td>\n",
       "      <td>1.829899</td>\n",
       "      <td>0.059247</td>\n",
       "    </tr>\n",
       "    <tr>\n",
       "      <th>12692</th>\n",
       "      <td>TTHERM_00221120</td>\n",
       "      <td>0.321584</td>\n",
       "      <td>15.623353</td>\n",
       "      <td>1.903509</td>\n",
       "      <td>0.084292</td>\n",
       "      <td>0.157123</td>\n",
       "      <td>-5.592849</td>\n",
       "      <td>0.803761</td>\n",
       "      <td>0.003711</td>\n",
       "    </tr>\n",
       "    <tr>\n",
       "      <th>14071</th>\n",
       "      <td>TTHERM_00527180</td>\n",
       "      <td>0.237263</td>\n",
       "      <td>15.763545</td>\n",
       "      <td>1.571913</td>\n",
       "      <td>0.145145</td>\n",
       "      <td>0.244040</td>\n",
       "      <td>-6.080455</td>\n",
       "      <td>0.612539</td>\n",
       "      <td>0.002282</td>\n",
       "    </tr>\n",
       "    <tr>\n",
       "      <th>15566</th>\n",
       "      <td>TTHERM_00624720</td>\n",
       "      <td>0.180335</td>\n",
       "      <td>15.830153</td>\n",
       "      <td>1.271762</td>\n",
       "      <td>0.230491</td>\n",
       "      <td>0.350319</td>\n",
       "      <td>-6.470176</td>\n",
       "      <td>0.455536</td>\n",
       "      <td>0.001547</td>\n",
       "    </tr>\n",
       "    <tr>\n",
       "      <th>16681</th>\n",
       "      <td>TTHERM_01002860</td>\n",
       "      <td>0.158960</td>\n",
       "      <td>15.808957</td>\n",
       "      <td>1.062549</td>\n",
       "      <td>0.311455</td>\n",
       "      <td>0.441735</td>\n",
       "      <td>-6.705603</td>\n",
       "      <td>0.354838</td>\n",
       "      <td>0.001223</td>\n",
       "    </tr>\n",
       "    <tr>\n",
       "      <th>18514</th>\n",
       "      <td>TTHERM_00624730</td>\n",
       "      <td>0.112218</td>\n",
       "      <td>15.792016</td>\n",
       "      <td>0.755993</td>\n",
       "      <td>0.466024</td>\n",
       "      <td>0.595525</td>\n",
       "      <td>-6.986634</td>\n",
       "      <td>0.225100</td>\n",
       "      <td>0.000923</td>\n",
       "    </tr>\n",
       "    <tr>\n",
       "      <th>18569</th>\n",
       "      <td>TTHERM_00522600</td>\n",
       "      <td>0.115056</td>\n",
       "      <td>15.775699</td>\n",
       "      <td>0.748228</td>\n",
       "      <td>0.470502</td>\n",
       "      <td>0.599465</td>\n",
       "      <td>-6.992671</td>\n",
       "      <td>0.222236</td>\n",
       "      <td>0.000918</td>\n",
       "    </tr>\n",
       "    <tr>\n",
       "      <th>21328</th>\n",
       "      <td>TTHERM_01055600</td>\n",
       "      <td>0.049038</td>\n",
       "      <td>15.936676</td>\n",
       "      <td>0.340273</td>\n",
       "      <td>0.740258</td>\n",
       "      <td>0.821122</td>\n",
       "      <td>-7.226986</td>\n",
       "      <td>0.085592</td>\n",
       "      <td>0.000726</td>\n",
       "    </tr>\n",
       "    <tr>\n",
       "      <th>22792</th>\n",
       "      <td>TTHERM_00378890</td>\n",
       "      <td>0.018124</td>\n",
       "      <td>15.922759</td>\n",
       "      <td>0.127367</td>\n",
       "      <td>0.901019</td>\n",
       "      <td>0.935292</td>\n",
       "      <td>-7.280853</td>\n",
       "      <td>0.029053</td>\n",
       "      <td>0.000688</td>\n",
       "    </tr>\n",
       "  </tbody>\n",
       "</table>\n",
       "</div>"
      ],
      "text/plain": [
       "            Unnamed: 0     logFC    AveExpr         t   P.Value  adj.P.Val  \\\n",
       "6100   TTHERM_00471040  0.794310  15.354026  4.300681  0.001346   0.005220   \n",
       "6600   TTHERM_00537380  0.965906  14.913944  4.039515  0.002075   0.007437   \n",
       "7050   TTHERM_00473020  0.913899  15.096574  3.817792  0.003016   0.010120   \n",
       "7583   TTHERM_01002870  0.550788  15.557526  3.553549  0.004742   0.014795   \n",
       "12692  TTHERM_00221120  0.321584  15.623353  1.903509  0.084292   0.157123   \n",
       "14071  TTHERM_00527180  0.237263  15.763545  1.571913  0.145145   0.244040   \n",
       "15566  TTHERM_00624720  0.180335  15.830153  1.271762  0.230491   0.350319   \n",
       "16681  TTHERM_01002860  0.158960  15.808957  1.062549  0.311455   0.441735   \n",
       "18514  TTHERM_00624730  0.112218  15.792016  0.755993  0.466024   0.595525   \n",
       "18569  TTHERM_00522600  0.115056  15.775699  0.748228  0.470502   0.599465   \n",
       "21328  TTHERM_01055600  0.049038  15.936676  0.340273  0.740258   0.821122   \n",
       "22792  TTHERM_00378890  0.018124  15.922759  0.127367  0.901019   0.935292   \n",
       "\n",
       "              B  negLogPValue  diff_exp_prob  \n",
       "6100  -1.469043      2.282299       0.187088  \n",
       "6600  -1.916428      2.128586       0.128260  \n",
       "7050  -2.301385      1.994838       0.091008  \n",
       "7583  -2.764957      1.829899       0.059247  \n",
       "12692 -5.592849      0.803761       0.003711  \n",
       "14071 -6.080455      0.612539       0.002282  \n",
       "15566 -6.470176      0.455536       0.001547  \n",
       "16681 -6.705603      0.354838       0.001223  \n",
       "18514 -6.986634      0.225100       0.000923  \n",
       "18569 -6.992671      0.222236       0.000918  \n",
       "21328 -7.226986      0.085592       0.000726  \n",
       "22792 -7.280853      0.029053       0.000688  "
      ]
     },
     "execution_count": 9,
     "metadata": {},
     "output_type": "execute_result"
    }
   ],
   "source": [
    "ttherm_df.loc[\n",
    "    (ttherm_df['Unnamed: 0'].isin(\n",
    "[\n",
    "'TTHERM_00378890',\n",
    "'TTHERM_00527180',\n",
    "'TTHERM_00522600',\n",
    "'TTHERM_00624720',\n",
    "'TTHERM_00537380',\n",
    "'TTHERM_01055600',\n",
    "'TTHERM_00221120',\n",
    "'TTHERM_00471040',\n",
    "'TTHERM_00624730',\n",
    "'TTHERM_01002870',\n",
    "'TTHERM_00473020',\n",
    "'TTHERM_01002860',\n",
    "]\n",
    "    ))\n",
    "]"
   ]
  },
  {
   "cell_type": "code",
   "execution_count": 10,
   "metadata": {},
   "outputs": [
    {
     "data": {
      "text/html": [
       "<div>\n",
       "<style scoped>\n",
       "    .dataframe tbody tr th:only-of-type {\n",
       "        vertical-align: middle;\n",
       "    }\n",
       "\n",
       "    .dataframe tbody tr th {\n",
       "        vertical-align: top;\n",
       "    }\n",
       "\n",
       "    .dataframe thead th {\n",
       "        text-align: right;\n",
       "    }\n",
       "</style>\n",
       "<table border=\"1\" class=\"dataframe\">\n",
       "  <thead>\n",
       "    <tr style=\"text-align: right;\">\n",
       "      <th></th>\n",
       "      <th>Unnamed: 0</th>\n",
       "      <th>logFC</th>\n",
       "      <th>AveExpr</th>\n",
       "      <th>t</th>\n",
       "      <th>P.Value</th>\n",
       "      <th>adj.P.Val</th>\n",
       "      <th>B</th>\n",
       "      <th>negLogPValue</th>\n",
       "      <th>diff_exp_prob</th>\n",
       "    </tr>\n",
       "  </thead>\n",
       "  <tbody>\n",
       "    <tr>\n",
       "      <th>4360</th>\n",
       "      <td>TTHERM_00038880</td>\n",
       "      <td>1.258277</td>\n",
       "      <td>15.241014</td>\n",
       "      <td>5.453522</td>\n",
       "      <td>0.000223</td>\n",
       "      <td>0.001209</td>\n",
       "      <td>0.405397</td>\n",
       "      <td>2.917595</td>\n",
       "      <td>0.599984</td>\n",
       "    </tr>\n",
       "    <tr>\n",
       "      <th>6100</th>\n",
       "      <td>TTHERM_00471040</td>\n",
       "      <td>0.794310</td>\n",
       "      <td>15.354026</td>\n",
       "      <td>4.300681</td>\n",
       "      <td>0.001346</td>\n",
       "      <td>0.005220</td>\n",
       "      <td>-1.469043</td>\n",
       "      <td>2.282299</td>\n",
       "      <td>0.187088</td>\n",
       "    </tr>\n",
       "    <tr>\n",
       "      <th>6600</th>\n",
       "      <td>TTHERM_00537380</td>\n",
       "      <td>0.965906</td>\n",
       "      <td>14.913944</td>\n",
       "      <td>4.039515</td>\n",
       "      <td>0.002075</td>\n",
       "      <td>0.007437</td>\n",
       "      <td>-1.916428</td>\n",
       "      <td>2.128586</td>\n",
       "      <td>0.128260</td>\n",
       "    </tr>\n",
       "    <tr>\n",
       "      <th>7050</th>\n",
       "      <td>TTHERM_00473020</td>\n",
       "      <td>0.913899</td>\n",
       "      <td>15.096574</td>\n",
       "      <td>3.817792</td>\n",
       "      <td>0.003016</td>\n",
       "      <td>0.010120</td>\n",
       "      <td>-2.301385</td>\n",
       "      <td>1.994838</td>\n",
       "      <td>0.091008</td>\n",
       "    </tr>\n",
       "    <tr>\n",
       "      <th>7583</th>\n",
       "      <td>TTHERM_01002870</td>\n",
       "      <td>0.550788</td>\n",
       "      <td>15.557526</td>\n",
       "      <td>3.553549</td>\n",
       "      <td>0.004742</td>\n",
       "      <td>0.014795</td>\n",
       "      <td>-2.764957</td>\n",
       "      <td>1.829899</td>\n",
       "      <td>0.059247</td>\n",
       "    </tr>\n",
       "    <tr>\n",
       "      <th>12692</th>\n",
       "      <td>TTHERM_00221120</td>\n",
       "      <td>0.321584</td>\n",
       "      <td>15.623353</td>\n",
       "      <td>1.903509</td>\n",
       "      <td>0.084292</td>\n",
       "      <td>0.157123</td>\n",
       "      <td>-5.592849</td>\n",
       "      <td>0.803761</td>\n",
       "      <td>0.003711</td>\n",
       "    </tr>\n",
       "    <tr>\n",
       "      <th>14071</th>\n",
       "      <td>TTHERM_00527180</td>\n",
       "      <td>0.237263</td>\n",
       "      <td>15.763545</td>\n",
       "      <td>1.571913</td>\n",
       "      <td>0.145145</td>\n",
       "      <td>0.244040</td>\n",
       "      <td>-6.080455</td>\n",
       "      <td>0.612539</td>\n",
       "      <td>0.002282</td>\n",
       "    </tr>\n",
       "    <tr>\n",
       "      <th>15566</th>\n",
       "      <td>TTHERM_00624720</td>\n",
       "      <td>0.180335</td>\n",
       "      <td>15.830153</td>\n",
       "      <td>1.271762</td>\n",
       "      <td>0.230491</td>\n",
       "      <td>0.350319</td>\n",
       "      <td>-6.470176</td>\n",
       "      <td>0.455536</td>\n",
       "      <td>0.001547</td>\n",
       "    </tr>\n",
       "    <tr>\n",
       "      <th>16681</th>\n",
       "      <td>TTHERM_01002860</td>\n",
       "      <td>0.158960</td>\n",
       "      <td>15.808957</td>\n",
       "      <td>1.062549</td>\n",
       "      <td>0.311455</td>\n",
       "      <td>0.441735</td>\n",
       "      <td>-6.705603</td>\n",
       "      <td>0.354838</td>\n",
       "      <td>0.001223</td>\n",
       "    </tr>\n",
       "    <tr>\n",
       "      <th>18514</th>\n",
       "      <td>TTHERM_00624730</td>\n",
       "      <td>0.112218</td>\n",
       "      <td>15.792016</td>\n",
       "      <td>0.755993</td>\n",
       "      <td>0.466024</td>\n",
       "      <td>0.595525</td>\n",
       "      <td>-6.986634</td>\n",
       "      <td>0.225100</td>\n",
       "      <td>0.000923</td>\n",
       "    </tr>\n",
       "    <tr>\n",
       "      <th>18569</th>\n",
       "      <td>TTHERM_00522600</td>\n",
       "      <td>0.115056</td>\n",
       "      <td>15.775699</td>\n",
       "      <td>0.748228</td>\n",
       "      <td>0.470502</td>\n",
       "      <td>0.599465</td>\n",
       "      <td>-6.992671</td>\n",
       "      <td>0.222236</td>\n",
       "      <td>0.000918</td>\n",
       "    </tr>\n",
       "    <tr>\n",
       "      <th>21328</th>\n",
       "      <td>TTHERM_01055600</td>\n",
       "      <td>0.049038</td>\n",
       "      <td>15.936676</td>\n",
       "      <td>0.340273</td>\n",
       "      <td>0.740258</td>\n",
       "      <td>0.821122</td>\n",
       "      <td>-7.226986</td>\n",
       "      <td>0.085592</td>\n",
       "      <td>0.000726</td>\n",
       "    </tr>\n",
       "    <tr>\n",
       "      <th>22792</th>\n",
       "      <td>TTHERM_00378890</td>\n",
       "      <td>0.018124</td>\n",
       "      <td>15.922759</td>\n",
       "      <td>0.127367</td>\n",
       "      <td>0.901019</td>\n",
       "      <td>0.935292</td>\n",
       "      <td>-7.280853</td>\n",
       "      <td>0.029053</td>\n",
       "      <td>0.000688</td>\n",
       "    </tr>\n",
       "  </tbody>\n",
       "</table>\n",
       "</div>"
      ],
      "text/plain": [
       "            Unnamed: 0     logFC    AveExpr         t   P.Value  adj.P.Val  \\\n",
       "4360   TTHERM_00038880  1.258277  15.241014  5.453522  0.000223   0.001209   \n",
       "6100   TTHERM_00471040  0.794310  15.354026  4.300681  0.001346   0.005220   \n",
       "6600   TTHERM_00537380  0.965906  14.913944  4.039515  0.002075   0.007437   \n",
       "7050   TTHERM_00473020  0.913899  15.096574  3.817792  0.003016   0.010120   \n",
       "7583   TTHERM_01002870  0.550788  15.557526  3.553549  0.004742   0.014795   \n",
       "12692  TTHERM_00221120  0.321584  15.623353  1.903509  0.084292   0.157123   \n",
       "14071  TTHERM_00527180  0.237263  15.763545  1.571913  0.145145   0.244040   \n",
       "15566  TTHERM_00624720  0.180335  15.830153  1.271762  0.230491   0.350319   \n",
       "16681  TTHERM_01002860  0.158960  15.808957  1.062549  0.311455   0.441735   \n",
       "18514  TTHERM_00624730  0.112218  15.792016  0.755993  0.466024   0.595525   \n",
       "18569  TTHERM_00522600  0.115056  15.775699  0.748228  0.470502   0.599465   \n",
       "21328  TTHERM_01055600  0.049038  15.936676  0.340273  0.740258   0.821122   \n",
       "22792  TTHERM_00378890  0.018124  15.922759  0.127367  0.901019   0.935292   \n",
       "\n",
       "              B  negLogPValue  diff_exp_prob  \n",
       "4360   0.405397      2.917595       0.599984  \n",
       "6100  -1.469043      2.282299       0.187088  \n",
       "6600  -1.916428      2.128586       0.128260  \n",
       "7050  -2.301385      1.994838       0.091008  \n",
       "7583  -2.764957      1.829899       0.059247  \n",
       "12692 -5.592849      0.803761       0.003711  \n",
       "14071 -6.080455      0.612539       0.002282  \n",
       "15566 -6.470176      0.455536       0.001547  \n",
       "16681 -6.705603      0.354838       0.001223  \n",
       "18514 -6.986634      0.225100       0.000923  \n",
       "18569 -6.992671      0.222236       0.000918  \n",
       "21328 -7.226986      0.085592       0.000726  \n",
       "22792 -7.280853      0.029053       0.000688  "
      ]
     },
     "execution_count": 10,
     "metadata": {},
     "output_type": "execute_result"
    }
   ],
   "source": [
    "ttherm_df.loc[\n",
    "    (ttherm_df['Unnamed: 0'].isin(\n",
    "['TTHERM_00046372', 'TTHERM_00537380', 'TTHERM_00473020', 'TTHERM_00038880', 'TTHERM_00527180', 'TTHERM_01002860', 'TTHERM_01055600', 'TTHERM_00378890', 'TTHERM_00624730', 'TTHERM_00624720', 'TTHERM_01002870', 'TTHERM_00471040', 'TTHERM_00522600', 'TTHERM_00221120'\n",
    "]\n",
    "    ))\n",
    "]"
   ]
  },
  {
   "cell_type": "code",
   "execution_count": 11,
   "metadata": {},
   "outputs": [
    {
     "data": {
      "text/plain": [
       "(13, 9)"
      ]
     },
     "execution_count": 11,
     "metadata": {},
     "output_type": "execute_result"
    }
   ],
   "source": [
    "ttherm_df.loc[\n",
    "    (ttherm_df['Unnamed: 0'].isin(\n",
    "['TTHERM_00046372', 'TTHERM_00537380', 'TTHERM_00473020', 'TTHERM_00038880', 'TTHERM_00527180', 'TTHERM_01002860', 'TTHERM_01055600', 'TTHERM_00378890', 'TTHERM_00624730', 'TTHERM_00624720', 'TTHERM_01002870', 'TTHERM_00471040', 'TTHERM_00522600', 'TTHERM_00221120'\n",
    "]\n",
    "    ))\n",
    "].shape"
   ]
  },
  {
   "cell_type": "code",
   "execution_count": 12,
   "metadata": {},
   "outputs": [
    {
     "data": {
      "text/html": [
       "<div>\n",
       "<style scoped>\n",
       "    .dataframe tbody tr th:only-of-type {\n",
       "        vertical-align: middle;\n",
       "    }\n",
       "\n",
       "    .dataframe tbody tr th {\n",
       "        vertical-align: top;\n",
       "    }\n",
       "\n",
       "    .dataframe thead th {\n",
       "        text-align: right;\n",
       "    }\n",
       "</style>\n",
       "<table border=\"1\" class=\"dataframe\">\n",
       "  <thead>\n",
       "    <tr style=\"text-align: right;\">\n",
       "      <th></th>\n",
       "      <th>Unnamed: 0</th>\n",
       "      <th>logFC</th>\n",
       "      <th>AveExpr</th>\n",
       "      <th>t</th>\n",
       "      <th>P.Value</th>\n",
       "      <th>adj.P.Val</th>\n",
       "      <th>B</th>\n",
       "      <th>negLogPValue</th>\n",
       "      <th>diff_exp_prob</th>\n",
       "    </tr>\n",
       "  </thead>\n",
       "  <tbody>\n",
       "    <tr>\n",
       "      <th>0</th>\n",
       "      <td>TTHERM_01127520</td>\n",
       "      <td>6.690659</td>\n",
       "      <td>7.767126</td>\n",
       "      <td>28.975787</td>\n",
       "      <td>1.738046e-11</td>\n",
       "      <td>1.703019e-07</td>\n",
       "      <td>16.456865</td>\n",
       "      <td>6.768781</td>\n",
       "      <td>1.000000</td>\n",
       "    </tr>\n",
       "    <tr>\n",
       "      <th>1</th>\n",
       "      <td>TTHERM_00056190</td>\n",
       "      <td>5.203817</td>\n",
       "      <td>6.252868</td>\n",
       "      <td>28.805550</td>\n",
       "      <td>1.849421e-11</td>\n",
       "      <td>1.703019e-07</td>\n",
       "      <td>16.407094</td>\n",
       "      <td>6.768781</td>\n",
       "      <td>1.000000</td>\n",
       "    </tr>\n",
       "    <tr>\n",
       "      <th>2</th>\n",
       "      <td>TTHERM_00261850</td>\n",
       "      <td>5.452655</td>\n",
       "      <td>9.897292</td>\n",
       "      <td>27.734807</td>\n",
       "      <td>2.756464e-11</td>\n",
       "      <td>1.703019e-07</td>\n",
       "      <td>16.083683</td>\n",
       "      <td>6.768781</td>\n",
       "      <td>1.000000</td>\n",
       "    </tr>\n",
       "    <tr>\n",
       "      <th>3</th>\n",
       "      <td>TTHERM_00196410</td>\n",
       "      <td>5.811264</td>\n",
       "      <td>7.579225</td>\n",
       "      <td>26.745544</td>\n",
       "      <td>4.039968e-11</td>\n",
       "      <td>1.703019e-07</td>\n",
       "      <td>15.768151</td>\n",
       "      <td>6.768781</td>\n",
       "      <td>1.000000</td>\n",
       "    </tr>\n",
       "    <tr>\n",
       "      <th>4</th>\n",
       "      <td>TTHERM_01338520</td>\n",
       "      <td>4.718828</td>\n",
       "      <td>8.746926</td>\n",
       "      <td>26.424358</td>\n",
       "      <td>4.587431e-11</td>\n",
       "      <td>1.703019e-07</td>\n",
       "      <td>15.662054</td>\n",
       "      <td>6.768781</td>\n",
       "      <td>1.000000</td>\n",
       "    </tr>\n",
       "    <tr>\n",
       "      <th>...</th>\n",
       "      <td>...</td>\n",
       "      <td>...</td>\n",
       "      <td>...</td>\n",
       "      <td>...</td>\n",
       "      <td>...</td>\n",
       "      <td>...</td>\n",
       "      <td>...</td>\n",
       "      <td>...</td>\n",
       "      <td>...</td>\n",
       "    </tr>\n",
       "    <tr>\n",
       "      <th>3424</th>\n",
       "      <td>TTHERM_00398050</td>\n",
       "      <td>1.119343</td>\n",
       "      <td>10.771853</td>\n",
       "      <td>6.252404</td>\n",
       "      <td>7.150893e-05</td>\n",
       "      <td>4.939858e-04</td>\n",
       "      <td>1.596612</td>\n",
       "      <td>3.306286</td>\n",
       "      <td>0.831544</td>\n",
       "    </tr>\n",
       "    <tr>\n",
       "      <th>3426</th>\n",
       "      <td>TTHERM_00499460</td>\n",
       "      <td>1.376162</td>\n",
       "      <td>9.646617</td>\n",
       "      <td>6.248973</td>\n",
       "      <td>7.184545e-05</td>\n",
       "      <td>4.960208e-04</td>\n",
       "      <td>1.591687</td>\n",
       "      <td>3.304500</td>\n",
       "      <td>0.830853</td>\n",
       "    </tr>\n",
       "    <tr>\n",
       "      <th>3427</th>\n",
       "      <td>TTHERM_00194535</td>\n",
       "      <td>2.320703</td>\n",
       "      <td>6.870020</td>\n",
       "      <td>6.246755</td>\n",
       "      <td>7.206381e-05</td>\n",
       "      <td>4.973832e-04</td>\n",
       "      <td>1.588503</td>\n",
       "      <td>3.303309</td>\n",
       "      <td>0.830405</td>\n",
       "    </tr>\n",
       "    <tr>\n",
       "      <th>3429</th>\n",
       "      <td>TTHERM_00499430</td>\n",
       "      <td>2.130878</td>\n",
       "      <td>6.207094</td>\n",
       "      <td>6.244293</td>\n",
       "      <td>7.230713e-05</td>\n",
       "      <td>4.987251e-04</td>\n",
       "      <td>1.584967</td>\n",
       "      <td>3.302139</td>\n",
       "      <td>0.829907</td>\n",
       "    </tr>\n",
       "    <tr>\n",
       "      <th>3430</th>\n",
       "      <td>TTHERM_01227760</td>\n",
       "      <td>1.832935</td>\n",
       "      <td>10.018836</td>\n",
       "      <td>6.244148</td>\n",
       "      <td>7.232147e-05</td>\n",
       "      <td>4.987251e-04</td>\n",
       "      <td>1.584760</td>\n",
       "      <td>3.302139</td>\n",
       "      <td>0.829878</td>\n",
       "    </tr>\n",
       "  </tbody>\n",
       "</table>\n",
       "<p>1643 rows × 9 columns</p>\n",
       "</div>"
      ],
      "text/plain": [
       "           Unnamed: 0     logFC    AveExpr          t       P.Value  \\\n",
       "0     TTHERM_01127520  6.690659   7.767126  28.975787  1.738046e-11   \n",
       "1     TTHERM_00056190  5.203817   6.252868  28.805550  1.849421e-11   \n",
       "2     TTHERM_00261850  5.452655   9.897292  27.734807  2.756464e-11   \n",
       "3     TTHERM_00196410  5.811264   7.579225  26.745544  4.039968e-11   \n",
       "4     TTHERM_01338520  4.718828   8.746926  26.424358  4.587431e-11   \n",
       "...               ...       ...        ...        ...           ...   \n",
       "3424  TTHERM_00398050  1.119343  10.771853   6.252404  7.150893e-05   \n",
       "3426  TTHERM_00499460  1.376162   9.646617   6.248973  7.184545e-05   \n",
       "3427  TTHERM_00194535  2.320703   6.870020   6.246755  7.206381e-05   \n",
       "3429  TTHERM_00499430  2.130878   6.207094   6.244293  7.230713e-05   \n",
       "3430  TTHERM_01227760  1.832935  10.018836   6.244148  7.232147e-05   \n",
       "\n",
       "         adj.P.Val          B  negLogPValue  diff_exp_prob  \n",
       "0     1.703019e-07  16.456865      6.768781       1.000000  \n",
       "1     1.703019e-07  16.407094      6.768781       1.000000  \n",
       "2     1.703019e-07  16.083683      6.768781       1.000000  \n",
       "3     1.703019e-07  15.768151      6.768781       1.000000  \n",
       "4     1.703019e-07  15.662054      6.768781       1.000000  \n",
       "...            ...        ...           ...            ...  \n",
       "3424  4.939858e-04   1.596612      3.306286       0.831544  \n",
       "3426  4.960208e-04   1.591687      3.304500       0.830853  \n",
       "3427  4.973832e-04   1.588503      3.303309       0.830405  \n",
       "3429  4.987251e-04   1.584967      3.302139       0.829907  \n",
       "3430  4.987251e-04   1.584760      3.302139       0.829878  \n",
       "\n",
       "[1643 rows x 9 columns]"
      ]
     },
     "execution_count": 12,
     "metadata": {},
     "output_type": "execute_result"
    }
   ],
   "source": [
    "FC = 1.5\n",
    "logFC = numpy.log2(FC)\n",
    "adj_P_Val = 0.0005\n",
    "B = 1\n",
    "\n",
    "ttherm_df_filtered = ttherm_df.loc[\n",
    "    (ttherm_df['logFC'] > logFC)\n",
    "    &\n",
    "    (ttherm_df['adj.P.Val'] < adj_P_Val)\n",
    "    &\n",
    "    (ttherm_df['B'] > B)\n",
    "].sort_values(by=('B'), ascending=False)\n",
    "\n",
    "ttherm_df_filtered"
   ]
  },
  {
   "cell_type": "code",
   "execution_count": 13,
   "metadata": {},
   "outputs": [
    {
     "data": {
      "image/png": "[encoded data removed]",
      "text/plain": [
       "<Figure size 1000x600 with 1 Axes>"
      ]
     },
     "metadata": {},
     "output_type": "display_data"
    }
   ],
   "source": [
    "import matplotlib.pyplot as plt\n",
    "\n",
    "# Define thresholds\n",
    "fold_change_threshold = logFC  # Threshold for log2 fold change\n",
    "pvalue_threshold = -np.log10(adj_P_Val)  # Threshold for p-value\n",
    "b_value_threshold = B\n",
    "\n",
    "# Create a new figure\n",
    "plt.figure(figsize=(10, 6))\n",
    "\n",
    "# Scatter plot: points with different colors for significance\n",
    "# Color significant points differently\n",
    "colors = np.where(\n",
    "    (ttherm_df['logFC'] > fold_change_threshold)\n",
    "    & \n",
    "    (ttherm_df['negLogPValue'] > pvalue_threshold)\n",
    "    & \n",
    "    (ttherm_df['B'] > B), \n",
    "    'red', \n",
    "    'grey'\n",
    ")\n",
    "\n",
    "plt.scatter(\n",
    "    ttherm_df['logFC'], \n",
    "    ttherm_df['negLogPValue'], \n",
    "    c=colors, \n",
    "    alpha=0.4,\n",
    ")\n",
    "\n",
    "# Add labels and title\n",
    "plt.title('Volcano Plot')\n",
    "plt.xlabel('Log2 Fold Change')\n",
    "plt.ylabel('-Log10(p-value)')\n",
    "\n",
    "# Add horizontal and vertical threshold lines\n",
    "plt.axhline(y=pvalue_threshold, color='blue', linestyle='--')\n",
    "plt.axvline(x=fold_change_threshold, color='blue', linestyle='--')\n",
    "\n",
    "# # Annotate significant genes\n",
    "# for i, row in ttherm_df.iterrows():\n",
    "#     if (abs(row['log2FoldChange']) >= fold_change_threshold) and (row['pvalue'] <= pvalue_threshold):\n",
    "#         plt.text(\n",
    "#             row['log2FoldChange'], \n",
    "#             row['-log10(pvalue)'], \n",
    "#             row['Gene'], \n",
    "#             fontsize=8,\n",
    "#             ha='right'\n",
    "#         )\n",
    "\n",
    "# Save the figure as an SVG file\n",
    "plt.savefig('regranulation_volcano_plot.svg', format='svg')\n",
    "\n",
    "# Show the plot\n",
    "plt.show()"
   ]
  },
  {
   "cell_type": "code",
   "execution_count": 14,
   "metadata": {},
   "outputs": [
    {
     "data": {
      "text/plain": [
       "1643"
      ]
     },
     "execution_count": 14,
     "metadata": {},
     "output_type": "execute_result"
    }
   ],
   "source": [
    "np.count_nonzero(colors == 'red')"
   ]
  },
  {
   "cell_type": "code",
   "execution_count": 15,
   "metadata": {},
   "outputs": [
    {
     "data": {
      "text/plain": [
       "'/Users/michaelbertagna/git/TGNE-2022/regranulation'"
      ]
     },
     "execution_count": 15,
     "metadata": {},
     "output_type": "execute_result"
    }
   ],
   "source": [
    "ttherm_df_filtered.to_csv(f'./de_regranulation_FC_{FC}_adj_P_Val_{adj_P_Val}_B_{B}.csv', index=False)\n",
    "\n",
    "import os\n",
    "os.path.abspath('./')"
   ]
  },
  {
   "cell_type": "code",
   "execution_count": 16,
   "metadata": {},
   "outputs": [],
   "source": [
    "muco_exp = set([\n",
    "'TTHERM_00052190',\n",
    "'TTHERM_00011710',\n",
    "'TTHERM_00321680',\n",
    "'TTHERM_00445920',\n",
    "'TTHERM_00410180',\n",
    "'TTHERM_00410210',\n",
    "'TTHERM_00313130',\n",
    "'TTHERM_00059370',\n",
    "'TTHERM_00283800',\n",
    "'TTHERM_00241790',\n",
    "'TTHERM_00318900',\n",
    "'TTHERM_00852790',\n",
    "'TTHERM_00467390',\n",
    "'TTHERM_01332070',\n",
    "'TTHERM_00497590',\n",
    "'TTHERM_00013410',\n",
    "'TTHERM_00527180',\n",
    "'TTHERM_00624730',\n",
    "'TTHERM_00624720',\n",
    "'TTHERM_00378890',\n",
    "'TTHERM_00522600',\n",
    "'TTHERM_01055600',\n",
    "'TTHERM_00558350',\n",
    "'TTHERM_00221120',\n",
    "'TTHERM_00572100',\n",
    "'TTHERM_00420770',\n",
    "'TTHERM_00566910',\n",
    "'TTHERM_00658810',\n",
    "'TTHERM_00047330',\n",
    "'TTHERM_000193469',\n",
    "'TTHERM_000486279',\n",
    "'TTHERM_00141040',\n",
    "'TTHERM_00227750',\n",
    "'TTHERM_00317390',\n",
    "'TTHERM_00670750',\n",
    "'TTHERM_01122800',\n",
    "'TTHERM_01213910',\n",
    "'TTHERM_00886960',\n",
    "'TTHERM_01287970',\n",
    "'TTHERM_00498010',\n",
    "])"
   ]
  },
  {
   "cell_type": "code",
   "execution_count": 17,
   "metadata": {},
   "outputs": [],
   "source": [
    "# ttherm_df_filtered = ttherm_df_filtered.loc[\n",
    "#     (ttherm_df_filtered['diff_exp_prob'] > 0.9)\n",
    "# ]\n",
    "# ttherm_df_filtered"
   ]
  },
  {
   "cell_type": "code",
   "execution_count": 18,
   "metadata": {},
   "outputs": [
    {
     "name": "stdout",
     "output_type": "stream",
     "text": [
      "TTHERM_01127520,TTHERM_00056190,TTHERM_00261850,TTHERM_00196410,TTHERM_01338520,TTHERM_00516395,TTHERM_00188500,TTHERM_00558440,TTHERM_00481170,TTHERM_00822150,TTHERM_00239350,TTHERM_01014580,TTHERM_00285550,TTHERM_01002630,TTHERM_00227130,TTHERM_00011660,TTHERM_00666210,TTHERM_01043140,TTHERM_00480150,TTHERM_00516330,TTHERM_01084400,TTHERM_00989430,TTHERM_00845880,TTHERM_01161080,TTHERM_00532720,TTHERM_00999152,TTHERM_00600240,TTHERM_01143870,TTHERM_00339900,TTHERM_01080440,TTHERM_00730330,TTHERM_00402020,TTHERM_00194210,TTHERM_00137740,TTHERM_00256990,TTHERM_00047020,TTHERM_00462890,TTHERM_00299979,TTHERM_00348960,TTHERM_00133760,TTHERM_00320460,TTHERM_01312368,TTHERM_01043130,TTHERM_00437690,TTHERM_00290740,TTHERM_00040350,TTHERM_00545770,TTHERM_00301830,TTHERM_00842410,TTHERM_00624120,TTHERM_00338350,TTHERM_01349994,TTHERM_00361750,TTHERM_01495770,TTHERM_00467430,TTHERM_00713420,TTHERM_00085580,TTHERM_00815160,TTHERM_00261790,TTHERM_00193820,TTHERM_00522740,TTHERM_01097960,TTHERM_01085670,TTHERM_00344200,TTHERM_00263450,TTHERM_00420760,TTHERM_00317430,TTHERM_00322900,TTHERM_00492900,TTHERM_00171630,TTHERM_00338410,TTHERM_00158290,TTHERM_00785850,TTHERM_01125260,TTHERM_00338490,TTHERM_00492540,TTHERM_00042744,TTHERM_00285500,TTHERM_00040340,TTHERM_01256510,TTHERM_00607160,TTHERM_00541520,TTHERM_00780630,TTHERM_00455120,TTHERM_00294590,TTHERM_00138290,TTHERM_00390010,TTHERM_00194310,TTHERM_00036880,TTHERM_00222350,TTHERM_00049110,TTHERM_00685960,TTHERM_00424660,TTHERM_00122500,TTHERM_00156770,TTHERM_00058400,TTHERM_00732780,TTHERM_00658840,TTHERM_00530240,TTHERM_00640030,TTHERM_01013240,TTHERM_00242080,TTHERM_00444390,TTHERM_00292100,TTHERM_00052150,TTHERM_00470630,TTHERM_00498030,TTHERM_01039810,TTHERM_00450940,TTHERM_00479100,TTHERM_01085710,TTHERM_00035150,TTHERM_00316490,TTHERM_00079580,TTHERM_01087790,TTHERM_01133960,TTHERM_01085660,TTHERM_00628650,TTHERM_00834890,TTHERM_00684770,TTHERM_01132940,TTHERM_00516380,TTHERM_00317390,TTHERM_00130000,TTHERM_00289440,TTHERM_00874744,TTHERM_00693230,TTHERM_00038960,TTHERM_00449670,TTHERM_00471810,TTHERM_00112940,TTHERM_00685950,TTHERM_00590280,TTHERM_00590370,TTHERM_00357060,TTHERM_01289120,TTHERM_00497650,TTHERM_00575400,TTHERM_00672229,TTHERM_00013400,TTHERM_01041999,TTHERM_00279790,TTHERM_00425930,TTHERM_01156770,TTHERM_00414240,TTHERM_00059390,TTHERM_00221130,TTHERM_00450850,TTHERM_00703870,TTHERM_01043150,TTHERM_00941590,TTHERM_00760850,TTHERM_00227140,TTHERM_00171800,TTHERM_00332190,TTHERM_00030200,TTHERM_00197860,TTHERM_00389880,TTHERM_00570550,TTHERM_00572100,TTHERM_00494040,TTHERM_01008660,TTHERM_00340010,TTHERM_00047330,TTHERM_00732837,TTHERM_01018500,TTHERM_00954390,TTHERM_00414520,TTHERM_01049340,TTHERM_00283150,TTHERM_00411410,TTHERM_00227120,TTHERM_00449050,TTHERM_00372410,TTHERM_00841350,TTHERM_00678400,TTHERM_00189430,TTHERM_00024280,TTHERM_00691750,TTHERM_00497520,TTHERM_00794510,TTHERM_00726360,TTHERM_00191490,TTHERM_00036970,TTHERM_00649480,TTHERM_00599910,TTHERM_00227750,TTHERM_00348870,TTHERM_00371140,TTHERM_00797945,TTHERM_00660200,TTHERM_00238820,TTHERM_00878200,TTHERM_00048970,TTHERM_00193310,TTHERM_00185860,TTHERM_00140857,TTHERM_00490940,TTHERM_00035110,TTHERM_01220430,TTHERM_00040330,TTHERM_01044380,TTHERM_00442740,TTHERM_00216080,TTHERM_00305641,TTHERM_00136460,TTHERM_00254490,TTHERM_00922915,TTHERM_00723140,TTHERM_00198150,TTHERM_00933360,TTHERM_01084110,TTHERM_00444300,TTHERM_00193300,TTHERM_00823960,TTHERM_00448900,TTHERM_00837800,TTHERM_00353530,TTHERM_00170430,TTHERM_00077040,TTHERM_00581590,TTHERM_00709730,TTHERM_00617812,TTHERM_00490900,TTHERM_00552685,TTHERM_00268260,TTHERM_00874750,TTHERM_00496990,TTHERM_00189000,TTHERM_00715670,TTHERM_00494700,TTHERM_00430070,TTHERM_00325678,TTHERM_00344240,TTHERM_00999110,TTHERM_00519812,TTHERM_00349060,TTHERM_00188490,TTHERM_00670750,TTHERM_00151905,TTHERM_00122200,TTHERM_00149310,TTHERM_01044390,TTHERM_01106040,TTHERM_00630030,TTHERM_00214836,TTHERM_00197870,TTHERM_00721690,TTHERM_00059505,TTHERM_00185710,TTHERM_00684580,TTHERM_00241850,TTHERM_00186030,TTHERM_00577270,TTHERM_00420430,TTHERM_00566910,TTHERM_00259610,TTHERM_00085590,TTHERM_00052190,TTHERM_00566800,TTHERM_00684510,TTHERM_01297430,TTHERM_01289190,TTHERM_00571705,TTHERM_00046373,TTHERM_01019605,TTHERM_00348120,TTHERM_00721570,TTHERM_00567960,TTHERM_00571580,TTHERM_00052600,TTHERM_00825610,TTHERM_00079490,TTHERM_00329940,TTHERM_00549650,TTHERM_01213910,TTHERM_00516410,TTHERM_00658810,TTHERM_00171640,TTHERM_00654262,TTHERM_00187110,TTHERM_00013640,TTHERM_00263100,TTHERM_00590330,TTHERM_00437680,TTHERM_00310380,TTHERM_00245120,TTHERM_01109910,TTHERM_00455270,TTHERM_01099060,TTHERM_00721340,TTHERM_00969620,TTHERM_00152080,TTHERM_00655550,TTHERM_00586730,TTHERM_00997740,TTHERM_00932000,TTHERM_00864340,TTHERM_00657400,TTHERM_00497370,TTHERM_00543620,TTHERM_00476940,TTHERM_00129415,TTHERM_00113080,TTHERM_00133729,TTHERM_00592740,TTHERM_00013390,TTHERM_00590170,TTHERM_00471450,TTHERM_00616370,TTHERM_00567990,TTHERM_00927110,TTHERM_00277100,TTHERM_00599750,TTHERM_00660250,TTHERM_00617815,TTHERM_00285480,TTHERM_00221000,TTHERM_00191510,TTHERM_00471770,TTHERM_00840010,TTHERM_00790830,TTHERM_00658700,TTHERM_01020640,TTHERM_00773630,TTHERM_01005020,TTHERM_00316390,TTHERM_00471735,TTHERM_00526730,TTHERM_00442850,TTHERM_00394440,TTHERM_00378830,TTHERM_01099170,TTHERM_00310060,TTHERM_00490890,TTHERM_00773640,TTHERM_00373740,TTHERM_00448780,TTHERM_00145750,TTHERM_00128950,TTHERM_00826860,TTHERM_00013620,TTHERM_00038970,TTHERM_01197130,TTHERM_00502690,TTHERM_00471740,TTHERM_00773710,TTHERM_00028630,TTHERM_00974140,TTHERM_00463760,TTHERM_00787390,TTHERM_00092820,TTHERM_00780590,TTHERM_00143590,TTHERM_00000030,TTHERM_00652540,TTHERM_00815180,TTHERM_00011290,TTHERM_00194220,TTHERM_00480160,TTHERM_01005060,TTHERM_00340180,TTHERM_00411560,TTHERM_00502300,TTHERM_00622670,TTHERM_00321725,TTHERM_00532330,TTHERM_00497680,TTHERM_00242590,TTHERM_00600010,TTHERM_00653790,TTHERM_01071420,TTHERM_00639959,TTHERM_01044570,TTHERM_00532100,TTHERM_00038850,TTHERM_00024220,TTHERM_00577070,TTHERM_00160600,TTHERM_00299970,TTHERM_00732765,TTHERM_00083295,TTHERM_00629910,TTHERM_00142240,TTHERM_00245470,TTHERM_00401970,TTHERM_00884660,TTHERM_00039110,TTHERM_00343930,TTHERM_01248850,TTHERM_00242240,TTHERM_00530220,TTHERM_01093580,TTHERM_00755930,TTHERM_00727840,TTHERM_00196250,TTHERM_00318650,TTHERM_00193465,TTHERM_00194600,TTHERM_00049280,TTHERM_00557970,TTHERM_01287970,TTHERM_00581580,TTHERM_00189010,TTHERM_00697290,TTHERM_00079510,TTHERM_00925360,TTHERM_00012970,TTHERM_00533910,TTHERM_00784360,TTHERM_00430050,TTHERM_00274570,TTHERM_00141170,TTHERM_00640020,TTHERM_00215930,TTHERM_00125290,TTHERM_01424460,TTHERM_00149710,TTHERM_00320450,TTHERM_00941370,TTHERM_00290670,TTHERM_00569330,TTHERM_00133630,TTHERM_00412130,TTHERM_00391520,TTHERM_00285610,TTHERM_00439280,TTHERM_00554190,TTHERM_00470870,TTHERM_00806890,TTHERM_01228910,TTHERM_00865090,TTHERM_00721270,TTHERM_00292090,TTHERM_00527190,TTHERM_00011740,TTHERM_00938950,TTHERM_01144900,TTHERM_00392720,TTHERM_00660300,TTHERM_00374990,TTHERM_00283760,TTHERM_00202960,TTHERM_00262990,TTHERM_00245460,TTHERM_00085600,TTHERM_00400750,TTHERM_00529800,TTHERM_00627210,TTHERM_00185980,TTHERM_00145350,TTHERM_00884580,TTHERM_00554320,TTHERM_00301760,TTHERM_00039280,TTHERM_00219170,TTHERM_00486275,TTHERM_00483660,TTHERM_00873670,TTHERM_00498010,TTHERM_00819540,TTHERM_00077430,TTHERM_00420770,TTHERM_00312750,TTHERM_00160580,TTHERM_00239340,TTHERM_00053930,TTHERM_00586720,TTHERM_00355410,TTHERM_00392830,TTHERM_00444520,TTHERM_00576980,TTHERM_00075720,TTHERM_00241989,TTHERM_01079220,TTHERM_00452010,TTHERM_00579280,TTHERM_01027530,TTHERM_00680620,TTHERM_01335312,TTHERM_00290710,TTHERM_01055440,TTHERM_00467750,TTHERM_00463640,TTHERM_00420250,TTHERM_00624690,TTHERM_00558200,TTHERM_00805860,TTHERM_00334460,TTHERM_00532040,TTHERM_00954240,TTHERM_00772010,TTHERM_00264990,TTHERM_00285430,TTHERM_00759030,TTHERM_00492550,TTHERM_00259670,TTHERM_00732570,TTHERM_01106100,TTHERM_00942750,TTHERM_00690080,TTHERM_00102690,TTHERM_00716150,TTHERM_00691790,TTHERM_00142360,TTHERM_00079860,TTHERM_00218900,TTHERM_00777260,TTHERM_00145000,TTHERM_00149090,TTHERM_01049180,TTHERM_00711840,TTHERM_00051830,TTHERM_00497920,TTHERM_00283870,TTHERM_00600810,TTHERM_00094080,TTHERM_00420750,TTHERM_00450930,TTHERM_00361390,TTHERM_00558000,TTHERM_00852790,TTHERM_01332070,TTHERM_00658710,TTHERM_00151910,TTHERM_00691630,TTHERM_00522880,TTHERM_00103880,TTHERM_00355730,TTHERM_00136480,TTHERM_00156700,TTHERM_00554645,TTHERM_00683040,TTHERM_00329730,TTHERM_00069410,TTHERM_00146440,TTHERM_00457020,TTHERM_00726329,TTHERM_00278630,TTHERM_00011710,TTHERM_00695660,TTHERM_00283800,TTHERM_00450870,TTHERM_00502100,TTHERM_00600370,TTHERM_00773620,TTHERM_00854210,TTHERM_00694330,TTHERM_00161780,TTHERM_00085187,TTHERM_00191050,TTHERM_00561470,TTHERM_00701100,TTHERM_00013500,TTHERM_00115430,TTHERM_00816260,TTHERM_00332180,TTHERM_00530760,TTHERM_00392686,TTHERM_00527260,TTHERM_01123870,TTHERM_00031760,TTHERM_00709750,TTHERM_00877070,TTHERM_01171640,TTHERM_00717885,TTHERM_00011350,TTHERM_00012960,TTHERM_00976510,TTHERM_00339630,TTHERM_01016180,TTHERM_00475045,TTHERM_00079679,TTHERM_00585130,TTHERM_00191070,TTHERM_00857980,TTHERM_00998970,TTHERM_00589970,TTHERM_00703490,TTHERM_00534080,TTHERM_00073738,TTHERM_00538820,TTHERM_01321550,TTHERM_00723460,TTHERM_00141040,TTHERM_00361399,TTHERM_00059200,TTHERM_00647150,TTHERM_00895615,TTHERM_00312460,TTHERM_01107240,TTHERM_00410180,TTHERM_00095380,TTHERM_00463800,TTHERM_00348380,TTHERM_00289550,TTHERM_00390080,TTHERM_00898290,TTHERM_00318900,TTHERM_00312900,TTHERM_00624910,TTHERM_00078860,TTHERM_00494230,TTHERM_00706290,TTHERM_00035390,TTHERM_01108570,TTHERM_00145480,TTHERM_01045780,TTHERM_00264800,TTHERM_00938850,TTHERM_00261800,TTHERM_00600710,TTHERM_00715800,TTHERM_00338480,TTHERM_00899550,TTHERM_00161090,TTHERM_00312650,TTHERM_00028690,TTHERM_00355700,TTHERM_01122800,TTHERM_00467470,TTHERM_00128970,TTHERM_00052250,TTHERM_01009943,TTHERM_00148960,TTHERM_00305450,TTHERM_00471860,TTHERM_01054180,TTHERM_00925650,TTHERM_01372840,TTHERM_01035760,TTHERM_00571850,TTHERM_00006440,TTHERM_01126370,TTHERM_00476760,TTHERM_00029950,TTHERM_00726310,TTHERM_00585430,TTHERM_00193440,TTHERM_00290860,TTHERM_01100360,TTHERM_00680650,TTHERM_00344180,TTHERM_00193980,TTHERM_00314860,TTHERM_01020840,TTHERM_00140780,TTHERM_00773700,TTHERM_00160560,TTHERM_00035480,TTHERM_00355140,TTHERM_00678350,TTHERM_00425879,TTHERM_00194390,TTHERM_01400690,TTHERM_00283859,TTHERM_00378870,TTHERM_01372820,TTHERM_00653965,TTHERM_00440510,TTHERM_01500990,TTHERM_00487100,TTHERM_00048820,TTHERM_00092830,TTHERM_00697210,TTHERM_01044770,TTHERM_00105640,TTHERM_00439240,TTHERM_00630540,TTHERM_00404320,TTHERM_00411530,TTHERM_00538950,TTHERM_00133620,TTHERM_00532660,TTHERM_01197040,TTHERM_00277180,TTHERM_00378740,TTHERM_00398090,TTHERM_00037220,TTHERM_00251190,TTHERM_00787000,TTHERM_00289260,TTHERM_00437450,TTHERM_00636872,TTHERM_00326880,TTHERM_00585300,TTHERM_00941550,TTHERM_00532440,TTHERM_00622770,TTHERM_00041570,TTHERM_00492870,TTHERM_00346470,TTHERM_00141100,TTHERM_00251250,TTHERM_01002580,TTHERM_00842610,TTHERM_00585410,TTHERM_00486995,TTHERM_00141090,TTHERM_00804770,TTHERM_00526910,TTHERM_00079310,TTHERM_00727550,TTHERM_00685980,TTHERM_00344020,TTHERM_01197050,TTHERM_00575410,TTHERM_00316450,TTHERM_00349080,TTHERM_00442390,TTHERM_00931930,TTHERM_00550910,TTHERM_00623020,TTHERM_00310890,TTHERM_00954170,TTHERM_00408710,TTHERM_01088000,TTHERM_00924290,TTHERM_00218690,TTHERM_00585490,TTHERM_00348950,TTHERM_00475330,TTHERM_00299960,TTHERM_00198200,TTHERM_00701060,TTHERM_00494220,TTHERM_01144910,TTHERM_00314870,TTHERM_00497580,TTHERM_00989410,TTHERM_00348090,TTHERM_00691760,TTHERM_00421090,TTHERM_00047530,TTHERM_00942900,TTHERM_00896090,TTHERM_00433590,TTHERM_00433530,TTHERM_00522290,TTHERM_00770660,TTHERM_00501010,TTHERM_00285540,TTHERM_00463000,TTHERM_00344391,TTHERM_01006380,TTHERM_00069340,TTHERM_00037170,TTHERM_00078850,TTHERM_00393130,TTHERM_00492490,TTHERM_00829450,TTHERM_00661600,TTHERM_00204110,TTHERM_00599990,TTHERM_00052340,TTHERM_00410210,TTHERM_00263530,TTHERM_00353370,TTHERM_00420810,TTHERM_01075800,TTHERM_00655390,TTHERM_00321720,TTHERM_00575460,TTHERM_00951910,TTHERM_00852700,TTHERM_00716350,TTHERM_00616560,TTHERM_00355690,TTHERM_00624890,TTHERM_00532060,TTHERM_00731410,TTHERM_00309920,TTHERM_01083000,TTHERM_00670200,TTHERM_00069220,TTHERM_00069269,TTHERM_01161070,TTHERM_00523060,TTHERM_00312200,TTHERM_00470730,TTHERM_00624440,TTHERM_00128870,TTHERM_00666220,TTHERM_00895830,TTHERM_00622860,TTHERM_00653115,TTHERM_00532460,TTHERM_00703790,TTHERM_00079550,TTHERM_00218320,TTHERM_00001180,TTHERM_01312370,TTHERM_00688610,TTHERM_00822200,TTHERM_00194370,TTHERM_00687260,TTHERM_00732475,TTHERM_00195890,TTHERM_00248470,TTHERM_00584750,TTHERM_00289270,TTHERM_00312310,TTHERM_00550920,TTHERM_00161500,TTHERM_00239300,TTHERM_00688390,TTHERM_00084997,TTHERM_00316350,TTHERM_01015945,TTHERM_00155630,TTHERM_00316440,TTHERM_00773310,TTHERM_00629940,TTHERM_00161170,TTHERM_00052205,TTHERM_00327070,TTHERM_00569510,TTHERM_00242650,TTHERM_00703900,TTHERM_01228920,TTHERM_00991635,TTHERM_00011840,TTHERM_01090183,TTHERM_00656160,TTHERM_00190659,TTHERM_00129020,TTHERM_00095440,TTHERM_00321540,TTHERM_00085120,TTHERM_00994400,TTHERM_00265190,TTHERM_00035290,TTHERM_00457105,TTHERM_00244000,TTHERM_01080482,TTHERM_00259450,TTHERM_00338330,TTHERM_00222260,TTHERM_01006490,TTHERM_00543560,TTHERM_00527290,TTHERM_00994320,TTHERM_00436920,TTHERM_00420610,TTHERM_00190910,TTHERM_00446300,TTHERM_00138495,TTHERM_00992980,TTHERM_00263680,TTHERM_00448670,TTHERM_00251260,TTHERM_00773536,TTHERM_00558330,TTHERM_00355840,TTHERM_00313225,TTHERM_01165230,TTHERM_00059370,TTHERM_00686040,TTHERM_00138580,TTHERM_00888050,TTHERM_00225880,TTHERM_00149550,TTHERM_00420860,TTHERM_00194120,TTHERM_00722950,TTHERM_00819590,TTHERM_00245340,TTHERM_00112850,TTHERM_00773525,TTHERM_00142265,TTHERM_00191250,TTHERM_00752160,TTHERM_00569470,TTHERM_00582290,TTHERM_00127060,TTHERM_00112500,TTHERM_00997620,TTHERM_00002740,TTHERM_00035260,TTHERM_00439250,TTHERM_00349040,TTHERM_00492660,TTHERM_00925370,TTHERM_00383500,TTHERM_00819530,TTHERM_00338090,TTHERM_00361370,TTHERM_00107140,TTHERM_00527300,TTHERM_00194180,TTHERM_01260750,TTHERM_00765370,TTHERM_00586620,TTHERM_01006569,TTHERM_00797910,TTHERM_00716330,TTHERM_00777030,TTHERM_00442940,TTHERM_01005240,TTHERM_00134920,TTHERM_00691410,TTHERM_00755890,TTHERM_00151652,TTHERM_00526370,TTHERM_00148980,TTHERM_00227400,TTHERM_00241870,TTHERM_00392880,TTHERM_01232220,TTHERM_00578690,TTHERM_00502280,TTHERM_00938980,TTHERM_00348400,TTHERM_00083380,TTHERM_00825360,TTHERM_00138040,TTHERM_00728920,TTHERM_00078890,TTHERM_00106810,TTHERM_00190780,TTHERM_00141050,TTHERM_00112310,TTHERM_00361795,TTHERM_00196650,TTHERM_01028790,TTHERM_00030320,TTHERM_00048255,TTHERM_00006010,TTHERM_00410160,TTHERM_00627060,TTHERM_00728890,TTHERM_00073190,TTHERM_00128880,TTHERM_00304260,TTHERM_01044620,TTHERM_00786970,TTHERM_00621434,TTHERM_00521960,TTHERM_01298560,TTHERM_00770790,TTHERM_00930780,TTHERM_00389715,TTHERM_00632940,TTHERM_00823720,TTHERM_01050650,TTHERM_00107030,TTHERM_00448810,TTHERM_00050530,TTHERM_01461140,TTHERM_00185870,TTHERM_00443000,TTHERM_00475230,TTHERM_00820760,TTHERM_00160830,TTHERM_00497380,TTHERM_00152090,TTHERM_00219140,TTHERM_00028601,TTHERM_00998880,TTHERM_00787140,TTHERM_00241480,TTHERM_01142777,TTHERM_00115530,TTHERM_00256890,TTHERM_00697260,TTHERM_00137695,TTHERM_00500730,TTHERM_00030350,TTHERM_00411510,TTHERM_00411630,TTHERM_00194520,TTHERM_00676920,TTHERM_00155290,TTHERM_00146210,TTHERM_00721740,TTHERM_00241790,TTHERM_00243720,TTHERM_00070920,TTHERM_00717890,TTHERM_00289510,TTHERM_00194670,TTHERM_01144990,TTHERM_01609750,TTHERM_00077010,TTHERM_00028610,TTHERM_00498230,TTHERM_00355260,TTHERM_00327220,TTHERM_00726060,TTHERM_01016050,TTHERM_01081690,TTHERM_00911100,TTHERM_00637330,TTHERM_01108560,TTHERM_00313430,TTHERM_00721280,TTHERM_00658920,TTHERM_00450860,TTHERM_00545880,TTHERM_00463650,TTHERM_01123930,TTHERM_00616570,TTHERM_00113085,TTHERM_00815210,TTHERM_00405520,TTHERM_00694350,TTHERM_00298530,TTHERM_00420740,TTHERM_00145940,TTHERM_00332110,TTHERM_00058360,TTHERM_00197970,TTHERM_00388470,TTHERM_00059380,TTHERM_00426110,TTHERM_00649260,TTHERM_00558350,TTHERM_00628480,TTHERM_00802400,TTHERM_00794350,TTHERM_00825370,TTHERM_00348590,TTHERM_00685820,TTHERM_01000170,TTHERM_00698630,TTHERM_00532530,TTHERM_00994690,TTHERM_00564140,TTHERM_00145330,TTHERM_00691830,TTHERM_01053080,TTHERM_00156669,TTHERM_00046070,TTHERM_00191830,TTHERM_00558390,TTHERM_00263390,TTHERM_00312190,TTHERM_00075600,TTHERM_00849240,TTHERM_00047750,TTHERM_00440600,TTHERM_01194630,TTHERM_01213920,TTHERM_00086919,TTHERM_00256730,TTHERM_00411390,TTHERM_00822210,TTHERM_00134950,TTHERM_00557950,TTHERM_00011830,TTHERM_00703990,TTHERM_00637730,TTHERM_00556675,TTHERM_00238940,TTHERM_00036700,TTHERM_00408750,TTHERM_00051850,TTHERM_00222210,TTHERM_00085240,TTHERM_00637010,TTHERM_00666180,TTHERM_00266330,TTHERM_00550710,TTHERM_00237520,TTHERM_00430010,TTHERM_00467580,TTHERM_00238915,TTHERM_00313780,TTHERM_00245850,TTHERM_00024250,TTHERM_00249760,TTHERM_00283520,TTHERM_01108540,TTHERM_00277270,TTHERM_00191430,TTHERM_00091540,TTHERM_00043855,TTHERM_00840000,TTHERM_00992885,TTHERM_00760780,TTHERM_00361830,TTHERM_00353410,TTHERM_00075620,TTHERM_00125354,TTHERM_00585460,TTHERM_00652530,TTHERM_00709710,TTHERM_00344230,TTHERM_00316250,TTHERM_00339660,TTHERM_01090110,TTHERM_00193480,TTHERM_00437546,TTHERM_00409040,TTHERM_00149920,TTHERM_00525120,TTHERM_00311960,TTHERM_00300259,TTHERM_00136000,TTHERM_01002840,TTHERM_00579020,TTHERM_00125330,TTHERM_00499290,TTHERM_00312403,TTHERM_00470850,TTHERM_00161670,TTHERM_00600080,TTHERM_00013625,TTHERM_00520930,TTHERM_00031840,TTHERM_00437544,TTHERM_00429660,TTHERM_00923050,TTHERM_00474760,TTHERM_00600310,TTHERM_00525090,TTHERM_00780860,TTHERM_00390090,TTHERM_00127150,TTHERM_00008650,TTHERM_00151750,TTHERM_00526720,TTHERM_00574230,TTHERM_01081710,TTHERM_00102820,TTHERM_00425900,TTHERM_00773260,TTHERM_00323150,TTHERM_00145710,TTHERM_00187280,TTHERM_00661730,TTHERM_00823770,TTHERM_00238930,TTHERM_00585170,TTHERM_00217190,TTHERM_00035620,TTHERM_00256910,TTHERM_01161040,TTHERM_00279900,TTHERM_00149500,TTHERM_01005050,TTHERM_00644660,TTHERM_00310690,TTHERM_00927030,TTHERM_00289520,TTHERM_00463610,TTHERM_00696960,TTHERM_00392790,TTHERM_00617800,TTHERM_00874740,TTHERM_01020835,TTHERM_00299729,TTHERM_00579160,TTHERM_01151520,TTHERM_00878210,TTHERM_01099180,TTHERM_00671930,TTHERM_00138180,TTHERM_00756180,TTHERM_00578710,TTHERM_01027680,TTHERM_01075580,TTHERM_00161760,TTHERM_00561420,TTHERM_00285640,TTHERM_01207690,TTHERM_00326910,TTHERM_00312785,TTHERM_00616280,TTHERM_00404330,TTHERM_00394520,TTHERM_00327200,TTHERM_00298379,TTHERM_00495960,TTHERM_00686070,TTHERM_00268130,TTHERM_00760430,TTHERM_00329910,TTHERM_00227520,TTHERM_00218400,TTHERM_00138470,TTHERM_00354730,TTHERM_00112490,TTHERM_00145490,TTHERM_00933075,TTHERM_00649180,TTHERM_00113290,TTHERM_00709740,TTHERM_00716340,TTHERM_01015990,TTHERM_00079930,TTHERM_00384770,TTHERM_01053020,TTHERM_00705160,TTHERM_00024160,TTHERM_00703480,TTHERM_00502310,TTHERM_00112330,TTHERM_00013580,TTHERM_00011520,TTHERM_00770635,TTHERM_01018251,TTHERM_00823520,TTHERM_00862690,TTHERM_00890150,TTHERM_00470700,TTHERM_00637150,TTHERM_01048070,TTHERM_00050580,TTHERM_00615900,TTHERM_00927300,TTHERM_00313680,TTHERM_00190920,TTHERM_00780430,TTHERM_00388290,TTHERM_00268139,TTHERM_00693200,TTHERM_00185330,TTHERM_00794000,TTHERM_00648670,TTHERM_00400790,TTHERM_00227380,TTHERM_00371070,TTHERM_00340000,TTHERM_00245385,TTHERM_00957620,TTHERM_00241810,TTHERM_00088140,TTHERM_00040360,TTHERM_00334420,TTHERM_00160700,TTHERM_00313130,TTHERM_00344340,TTHERM_00149400,TTHERM_01262870,TTHERM_00379080,TTHERM_00986260,TTHERM_00370870,TTHERM_01309100,TTHERM_00158430,TTHERM_00463890,TTHERM_00145430,TTHERM_00491228,TTHERM_00320130,TTHERM_00128670,TTHERM_00422230,TTHERM_00625940,TTHERM_00370990,TTHERM_00575590,TTHERM_00405530,TTHERM_00264890,TTHERM_00586750,TTHERM_00540130,TTHERM_00156670,TTHERM_00389970,TTHERM_00024150,TTHERM_00486880,TTHERM_00068170,TTHERM_00285590,TTHERM_00535980,TTHERM_00077800,TTHERM_00323010,TTHERM_00158010,TTHERM_00476540,TTHERM_00765200,TTHERM_00713520,TTHERM_00395770,TTHERM_00043760,TTHERM_00286891,TTHERM_00263600,TTHERM_00492930,TTHERM_00813020,TTHERM_00616150,TTHERM_00600440,TTHERM_00192040,TTHERM_00245430,TTHERM_00585090,TTHERM_00245750,TTHERM_00449690,TTHERM_00343470,TTHERM_00522960,TTHERM_00289530,TTHERM_00475150,TTHERM_00495950,TTHERM_00656030,TTHERM_01142830,TTHERM_00762858,TTHERM_00355220,TTHERM_01325770,TTHERM_00324560,TTHERM_00151900,TTHERM_00218630,TTHERM_00227100,TTHERM_00709590,TTHERM_00678570,TTHERM_00127210,TTHERM_01284740,TTHERM_00112950,TTHERM_00399210,TTHERM_00242000,TTHERM_01075660,TTHERM_00146030,TTHERM_00459410,TTHERM_00316860,TTHERM_00823650,TTHERM_00142270,TTHERM_00925390,TTHERM_00011220,TTHERM_00575610,TTHERM_00028530,TTHERM_00339910,TTHERM_00129450,TTHERM_00218450,TTHERM_00075550,TTHERM_00486220,TTHERM_00661570,TTHERM_00317320,TTHERM_00931990,TTHERM_00992710,TTHERM_01228930,TTHERM_00735400,TTHERM_00266320,TTHERM_01247820,TTHERM_01179870,TTHERM_00483500,TTHERM_00377270,TTHERM_00085460,TTHERM_00310750,TTHERM_00086700,TTHERM_00823950,TTHERM_01169520,TTHERM_01075680,TTHERM_00523020,TTHERM_00813000,TTHERM_00125400,TTHERM_00585100,TTHERM_00448660,TTHERM_00013410,TTHERM_00437270,TTHERM_00079340,TTHERM_00683130,TTHERM_00492300,TTHERM_01123960,TTHERM_00787100,TTHERM_00947440,TTHERM_00941377,TTHERM_00348660,TTHERM_01046305,TTHERM_00836560,TTHERM_00059350,TTHERM_00467990,TTHERM_00647005,TTHERM_00419760,TTHERM_00332200,TTHERM_00684620,TTHERM_00343950,TTHERM_01207670,TTHERM_00448790,TTHERM_00344380,TTHERM_00329950,TTHERM_00706400,TTHERM_00059529,TTHERM_00890110,TTHERM_00289495,TTHERM_00659010,TTHERM_00809300,TTHERM_00729210,TTHERM_00329960,TTHERM_00046200,TTHERM_01248880,TTHERM_01075690,TTHERM_00678200,TTHERM_01164175,TTHERM_00560040,TTHERM_00492430,TTHERM_00378820,TTHERM_00146260,TTHERM_00400740,TTHERM_00842590,TTHERM_00031650,TTHERM_00249670,TTHERM_00039210,TTHERM_00414420,TTHERM_00727710,TTHERM_00058270,TTHERM_00444710,TTHERM_01099280,TTHERM_00128980,TTHERM_00656206,TTHERM_00675820,TTHERM_00582170,TTHERM_00678370,TTHERM_00270360,TTHERM_00927047,TTHERM_00457100,TTHERM_00648840,TTHERM_00353480,TTHERM_00585030,TTHERM_00147640,TTHERM_00429720,TTHERM_00031710,TTHERM_00275900,TTHERM_00827060,TTHERM_00362994,TTHERM_00579040,TTHERM_01144930,TTHERM_01093490,TTHERM_00321680,TTHERM_01164110,TTHERM_00467390,TTHERM_01892110,TTHERM_00316190,TTHERM_00266640,TTHERM_00313170,TTHERM_00470770,TTHERM_00016010,TTHERM_00227580,TTHERM_00300430,TTHERM_00387080,TTHERM_00734134,TTHERM_00079840,TTHERM_00486180,TTHERM_00938960,TTHERM_00047590,TTHERM_00784560,TTHERM_00312330,TTHERM_01495760,TTHERM_00864920,TTHERM_00023850,TTHERM_00835110,TTHERM_00414235,TTHERM_00046630,TTHERM_00664000,TTHERM_01337380,TTHERM_00393240,TTHERM_00837970,TTHERM_00255690,TTHERM_00313690,TTHERM_00822050,TTHERM_00548135,TTHERM_00660310,TTHERM_00535920,TTHERM_00491210,TTHERM_00933290,TTHERM_00654140,TTHERM_00446250,TTHERM_00297130,TTHERM_00196100,TTHERM_01026340,TTHERM_01028860,TTHERM_00137660,TTHERM_00705150,TTHERM_00497830,TTHERM_00694550,TTHERM_00773690,TTHERM_01109815,TTHERM_00469270,TTHERM_00541540,TTHERM_00085220,TTHERM_00457060,TTHERM_00151170,TTHERM_00151976,TTHERM_00079690,TTHERM_00426190,TTHERM_00898310,TTHERM_00295790,TTHERM_00463820,TTHERM_00317380,TTHERM_00469130,TTHERM_00313800,TTHERM_00289370,TTHERM_00161297,TTHERM_00405560,TTHERM_00885740,TTHERM_00450960,TTHERM_00723230,TTHERM_00621510,TTHERM_00497360,TTHERM_00355120,TTHERM_00313515,TTHERM_00146090,TTHERM_00152215,TTHERM_00703630,TTHERM_00577350,TTHERM_00349070,TTHERM_00277230,TTHERM_00933160,TTHERM_00962060,TTHERM_00691740,TTHERM_00486120,TTHERM_00283770,TTHERM_00697170,TTHERM_01060860,TTHERM_00245110,TTHERM_00637640,TTHERM_00339690,TTHERM_00463830,TTHERM_00697520,TTHERM_00469240,TTHERM_00316380,TTHERM_00085570,TTHERM_00449120,TTHERM_00191350,TTHERM_00581510,TTHERM_00696990,TTHERM_00062630,TTHERM_00068070,TTHERM_00962140,TTHERM_00313110,TTHERM_00790760,TTHERM_00459230,TTHERM_00666970,TTHERM_00442915,TTHERM_00845820,TTHERM_01084280,TTHERM_00584910,TTHERM_01250100,TTHERM_00161029,TTHERM_00439310,TTHERM_00348900,TTHERM_00471550,TTHERM_00242220,TTHERM_01097970,TTHERM_00218250,TTHERM_00372520,TTHERM_00584780,TTHERM_01093560,TTHERM_00218780,TTHERM_00074330,TTHERM_01002590,TTHERM_00312610,TTHERM_00992870,TTHERM_00420450,TTHERM_00191020,TTHERM_00538849,TTHERM_00853000,TTHERM_00756080,TTHERM_00047720,TTHERM_00348280,TTHERM_00046225,TTHERM_00554390,TTHERM_00530600,TTHERM_00474800,TTHERM_00343920,TTHERM_00193870,TTHERM_00326940,TTHERM_00852710,TTHERM_01561060,TTHERM_00456840,TTHERM_00877020,TTHERM_00670850,TTHERM_00161570,TTHERM_00819520,TTHERM_00422240,TTHERM_01075790,TTHERM_01251240,TTHERM_00445920,TTHERM_01093670,TTHERM_00735410,TTHERM_00713250,TTHERM_01326860,TTHERM_00423260,TTHERM_00219330,TTHERM_00101210,TTHERM_00762860,TTHERM_01243480,TTHERM_00486510,TTHERM_00316140,TTHERM_00285250,TTHERM_00243970,TTHERM_00502680,TTHERM_00641170,TTHERM_00886960,TTHERM_00442780,TTHERM_00533940,TTHERM_01109900,TTHERM_00473080,TTHERM_00561610,TTHERM_00823500,TTHERM_00590480,TTHERM_00185510,TTHERM_00670720,TTHERM_01287990,TTHERM_00716400,TTHERM_00654260,TTHERM_00298540,TTHERM_00538830,TTHERM_00522780,TTHERM_00860450,TTHERM_00343740,TTHERM_01309065,TTHERM_00365460,TTHERM_00469110,TTHERM_00589980,TTHERM_00105200,TTHERM_01084390,TTHERM_00338470,TTHERM_00713200,TTHERM_00522280,TTHERM_00920780,TTHERM_00455660,TTHERM_00115500,TTHERM_00532770,TTHERM_00600110,TTHERM_00051860,TTHERM_00087015,TTHERM_00579260,TTHERM_00078880,TTHERM_00117560,TTHERM_00313000,TTHERM_00535150,TTHERM_00390150,TTHERM_00355920,TTHERM_00474960,TTHERM_00079420,TTHERM_00492380,TTHERM_00372330,TTHERM_01080540,TTHERM_00446390,TTHERM_00047640,TTHERM_00790800,TTHERM_00325680,TTHERM_00149345,TTHERM_00647010,TTHERM_00390140,TTHERM_00594910,TTHERM_00690000,TTHERM_00865430,TTHERM_00787060,TTHERM_00822020,TTHERM_00442840,TTHERM_01347900,TTHERM_00242250,TTHERM_00371040,TTHERM_00624460,TTHERM_00582160,TTHERM_00433960,TTHERM_00142395,TTHERM_00398050,TTHERM_00499460,TTHERM_00194535,TTHERM_00499430,TTHERM_01227760\n"
     ]
    }
   ],
   "source": [
    "print(','.join(list(ttherm_df_filtered['Unnamed: 0'].values)))"
   ]
  },
  {
   "cell_type": "code",
   "execution_count": 19,
   "metadata": {},
   "outputs": [],
   "source": [
    "# len(inter)"
   ]
  },
  {
   "cell_type": "code",
   "execution_count": 20,
   "metadata": {},
   "outputs": [],
   "source": [
    "# print(','.join(inter))"
   ]
  },
  {
   "cell_type": "code",
   "execution_count": 21,
   "metadata": {},
   "outputs": [],
   "source": [
    "# import requests\n",
    "# from bs4 import BeautifulSoup\n",
    "\n",
    "# def extract_descriptions_from_html(url):\n",
    "#     try:\n",
    "#         # Get the HTML content of the web page\n",
    "#         response = requests.get(url)\n",
    "#         response.raise_for_status()  # Check if the request was successful\n",
    "#         html_content = response.content\n",
    "\n",
    "#         # Parse the HTML content using BeautifulSoup\n",
    "#         soup = BeautifulSoup(html_content, 'html.parser')\n",
    "\n",
    "#         # Find the specific table with class 'main'\n",
    "#         table = soup.find('table', class_='main')\n",
    "#         if table:\n",
    "#             # Find all rows in the table, skipping the header row\n",
    "#             rows = table.find_all('tr')[1:]  # Skip the header row\n",
    "#             descriptions = []\n",
    "\n",
    "#             for row in rows:\n",
    "#                 # Find all cells in the row\n",
    "#                 cells = row.find_all('td')\n",
    "#                 if len(cells) >= 4:\n",
    "#                     description_text = cells[3].get_text(strip=True)\n",
    "#                     descriptions.append(description_text)\n",
    "            \n",
    "#             if descriptions:\n",
    "#                 for idx, description in enumerate(descriptions, 1):\n",
    "#                     print(f\"Description {idx}: {description}\")\n",
    "#             else:\n",
    "#                 print(\"No descriptions found.\")\n",
    "#         else:\n",
    "#             print(\"Table not found in the HTML.\")\n",
    "\n",
    "#     except requests.exceptions.RequestException as e:\n",
    "#         print(f\"An error occurred while fetching the HTML content: {e}\")\n",
    "\n",
    "# for gene in inter:\n",
    "#     url = f\"https://tet.ciliate.org/search.php?gene_name={gene}\"  # Replace with the actual URL\n",
    "#     extract_descriptions_from_html(url)"
   ]
  },
  {
   "cell_type": "code",
   "execution_count": 22,
   "metadata": {},
   "outputs": [
    {
     "name": "stdout",
     "output_type": "stream",
     "text": [
      "The p-value is: 6.559457458892222e-31\n"
     ]
    }
   ],
   "source": [
    "import scipy.stats as stats\n",
    "\n",
    "# Total number of genes in the entire dataset\n",
    "N = 20000\n",
    "\n",
    "# Total number of specific genes you are interested in\n",
    "K = 50\n",
    "\n",
    "# Number of genes randomly selected\n",
    "n = 5000\n",
    "\n",
    "# Number of specific genes found in the selected set\n",
    "k = 50\n",
    "\n",
    "# Hypergeometric test\n",
    "p_value = stats.hypergeom.sf(k-1, N, K, n)\n",
    "\n",
    "print(f\"The p-value is: {p_value}\")"
   ]
  },
  {
   "cell_type": "code",
   "execution_count": 23,
   "metadata": {},
   "outputs": [
    {
     "name": "stdout",
     "output_type": "stream",
     "text": [
      "Two-tailed p-value: 6.555352598579253e-277\n",
      "One-tailed p-value (greater): 1.0\n",
      "One-tailed p-value (less): 5.971977437724528e-277\n"
     ]
    }
   ],
   "source": [
    "import scipy.stats as stats\n",
    "\n",
    "# Example 2x2 contingency table\n",
    "#           | Present | Absent |\n",
    "# Condition |    a    |    b   |\n",
    "# Control   |    c    |    d   |\n",
    "a = 78\n",
    "b = 1300\n",
    "c = 16000\n",
    "d = 16000\n",
    "\n",
    "table = [[a, b], [c, d]]\n",
    "\n",
    "# Two-tailed test (default)\n",
    "oddsratio, p_value_two_tailed = stats.fisher_exact(table, alternative='two-sided')\n",
    "print(f\"Two-tailed p-value: {p_value_two_tailed}\")\n",
    "\n",
    "# One-tailed test (greater)\n",
    "oddsratio, p_value_greater = stats.fisher_exact(table, alternative='greater')\n",
    "print(f\"One-tailed p-value (greater): {p_value_greater}\")\n",
    "\n",
    "# One-tailed test (less)\n",
    "oddsratio, p_value_less = stats.fisher_exact(table, alternative='less')\n",
    "print(f\"One-tailed p-value (less): {p_value_less}\")"
   ]
  },
  {
   "cell_type": "code",
   "execution_count": 24,
   "metadata": {},
   "outputs": [
    {
     "name": "stdout",
     "output_type": "stream",
     "text": [
      "Chi-squared Statistic: 1046.7116189215628\n",
      "P-value: 1.2620381730596847e-229\n",
      "Degrees of Freedom: 1\n",
      "Expected Frequencies:\n",
      "[[  668.65203731   709.34796269]\n",
      " [19409.34796269 20590.65203731]]\n"
     ]
    }
   ],
   "source": [
    "from scipy.stats import chi2_contingency\n",
    "\n",
    "# Create a 2x2 contingency table (example data)\n",
    "# Replace with your actual observed counts\n",
    "a = 78\n",
    "b = 1300\n",
    "c = 20000\n",
    "d = 20000\n",
    "\n",
    "observed = [[a, b], [c, d]]\n",
    "\n",
    "# Perform Chi-squared test\n",
    "chi2_stat, p_val, dof, expected = chi2_contingency(observed)\n",
    "\n",
    "# Print the results\n",
    "print(\"Chi-squared Statistic:\", chi2_stat)\n",
    "print(\"P-value:\", p_val)\n",
    "print(\"Degrees of Freedom:\", dof)\n",
    "print(\"Expected Frequencies:\")\n",
    "print(expected)"
   ]
  },
  {
   "cell_type": "code",
   "execution_count": 25,
   "metadata": {},
   "outputs": [],
   "source": [
    "all_ttherm_df = pd.read_csv('../TGNE/embedding/rna_seq_label_df_round_1.csv')"
   ]
  },
  {
   "cell_type": "code",
   "execution_count": 26,
   "metadata": {},
   "outputs": [],
   "source": [
    "# counts = []\n",
    "\n",
    "# for i in range(10000):\n",
    "#     counts.append(len(set(all_ttherm_df.sample(4000)['TTHERM_ID'].values).intersection(set(inter))))"
   ]
  },
  {
   "cell_type": "code",
   "execution_count": 27,
   "metadata": {},
   "outputs": [],
   "source": [
    "# import matplotlib.pyplot as plt\n",
    "\n",
    "# plt.hist(counts, 10)\n",
    "# plt.show()"
   ]
  },
  {
   "cell_type": "code",
   "execution_count": 28,
   "metadata": {},
   "outputs": [
    {
     "name": "stdout",
     "output_type": "stream",
     "text": [
      "Two-tailed p-value: 4.1016327983861445e-17\n"
     ]
    }
   ],
   "source": [
    "import scipy.stats as stats\n",
    "\n",
    "# Example 2x2 contingency table\n",
    "#           | Present | Absent |\n",
    "# Condition |    a    |    b   |\n",
    "# Control   |    c    |    d   |\n",
    "a = 26\n",
    "b = 1934\n",
    "c = 13\n",
    "d = 17027\n",
    "\n",
    "table = [[a, b], [c, d]]\n",
    "\n",
    "# Two-tailed test (default)\n",
    "oddsratio, p_value_two_tailed = stats.fisher_exact(table, alternative='two-sided')\n",
    "print(f\"Two-tailed p-value: {p_value_two_tailed}\")"
   ]
  },
  {
   "cell_type": "code",
   "execution_count": 29,
   "metadata": {},
   "outputs": [
    {
     "data": {
      "image/png": "[encoded data removed]",
      "text/plain": [
       "<Figure size 800x400 with 1 Axes>"
      ]
     },
     "metadata": {},
     "output_type": "display_data"
    }
   ],
   "source": [
    "import matplotlib.pyplot as plt\n",
    "from matplotlib_venn import venn3\n",
    "\n",
    "plt.figure(figsize=(8, 4))\n",
    "venn3(subsets=(10, 8, 5, 3, 2, 1, 1), set_labels=('Set A', 'Set B', 'Set C'))\n",
    "plt.title(\"3-Circle Venn Diagram\")\n",
    "plt.show()"
   ]
  },
  {
   "cell_type": "code",
   "execution_count": 30,
   "metadata": {},
   "outputs": [],
   "source": [
    "rna_seq_ev_enriched_df = pd.read_csv('../TGNE/embedding/rna_seq_ev_enriched_module_genes.csv')"
   ]
  },
  {
   "cell_type": "code",
   "execution_count": 31,
   "metadata": {},
   "outputs": [],
   "source": [
    "microarray_ev_enriched_df = pd.read_csv('../TGNE/embedding/microarray_ev_enriched_module_genes.csv')"
   ]
  },
  {
   "cell_type": "code",
   "execution_count": 32,
   "metadata": {},
   "outputs": [],
   "source": [
    "# import matplotlib.pyplot as plt\n",
    "# from venn import venn\n",
    "\n",
    "# # Define the sets\n",
    "# sets = {\n",
    "#     'Upregulated': set(ttherm_df_filtered['Unnamed: 0'].values),\n",
    "#     'Enriched Microarray Clusters': set(microarray_ev_enriched_df['TTHERM_ID'].values),\n",
    "#     'Enriched RNA-seq Clusters': set(rna_seq_ev_enriched_df['TTHERM_ID'].values),\n",
    "# }\n",
    "\n",
    "# # Create the Venn diagram\n",
    "# v = venn(sets, legend_loc='upper center', ax=None, figsize=(10, 50))\n",
    "\n",
    "# plt.savefig('muco_venn.svg', format='svg')\n",
    "\n",
    "# plt.show()"
   ]
  },
  {
   "cell_type": "code",
   "execution_count": 33,
   "metadata": {},
   "outputs": [
    {
     "data": {
      "image/png": "[encoded data removed]",
      "text/plain": [
       "<Figure size 1000x800 with 1 Axes>"
      ]
     },
     "metadata": {},
     "output_type": "display_data"
    }
   ],
   "source": [
    "import matplotlib.pyplot as plt\n",
    "from matplotlib_venn import venn3\n",
    "\n",
    "# Define the sets\n",
    "sets = {\n",
    "    'Upregulated': set(ttherm_df_filtered['Unnamed: 0'].values),\n",
    "    'Enriched Microarray Clusters': set(microarray_ev_enriched_df['TTHERM_ID'].values),\n",
    "    'Enriched RNA-seq Clusters': set(rna_seq_ev_enriched_df['TTHERM_ID'].values),\n",
    "}\n",
    "\n",
    "# Create the Venn diagram with specified figure size\n",
    "fig, ax = plt.subplots(figsize=(10, 8))  # Adjust the figsize here as needed\n",
    "\n",
    "# Create a 3-set Venn diagram\n",
    "v = venn3([sets['Upregulated'], sets['Enriched Microarray Clusters'], sets['Enriched RNA-seq Clusters']],\n",
    "          ('Upregulated', 'Enriched Microarray Clusters', 'Enriched RNA-seq Clusters'),\n",
    "          ax=ax)\n",
    "\n",
    "# Save the plot in SVG format\n",
    "plt.savefig('muco_venn.svg', format='svg')\n",
    "\n",
    "# Display the plot\n",
    "plt.show()"
   ]
  },
  {
   "cell_type": "code",
   "execution_count": 34,
   "metadata": {},
   "outputs": [],
   "source": [
    "intersection_all = (set(ttherm_df_filtered['Unnamed: 0'].values).intersection(set(microarray_ev_enriched_df['TTHERM_ID'].values)).intersection(set(rna_seq_ev_enriched_df['TTHERM_ID'].values)))"
   ]
  },
  {
   "cell_type": "code",
   "execution_count": 35,
   "metadata": {},
   "outputs": [],
   "source": [
    "intersection_all = (set(ttherm_df_filtered['Unnamed: 0'].values).intersection(set(microarray_ev_enriched_df['TTHERM_ID'].values)).intersection(set(rna_seq_ev_enriched_df['TTHERM_ID'].values)))\n",
    "intersection_enriched = (set(microarray_ev_enriched_df['TTHERM_ID'].values)).intersection(set(rna_seq_ev_enriched_df['TTHERM_ID'].values)) - intersection_all\n",
    "intersection_dem = (set(ttherm_df_filtered['Unnamed: 0'].values)).intersection(set(microarray_ev_enriched_df['TTHERM_ID'].values)) - intersection_all\n",
    "intersection_der = (set(ttherm_df_filtered['Unnamed: 0'].values)).intersection(set(rna_seq_ev_enriched_df['TTHERM_ID'].values)) - intersection_all"
   ]
  },
  {
   "cell_type": "code",
   "execution_count": 36,
   "metadata": {},
   "outputs": [
    {
     "data": {
      "text/plain": [
       "(40, 14, 119, 7)"
      ]
     },
     "execution_count": 36,
     "metadata": {},
     "output_type": "execute_result"
    }
   ],
   "source": [
    "len(intersection_all), len(intersection_enriched), len(intersection_dem), len(intersection_der)"
   ]
  },
  {
   "cell_type": "code",
   "execution_count": 37,
   "metadata": {},
   "outputs": [
    {
     "name": "stdout",
     "output_type": "stream",
     "text": [
      "40 gene intersection between all gene groups:\n",
      "TTHERM_00313130, TTHERM_00011710, TTHERM_00649180, TTHERM_00755930, TTHERM_00486275, TTHERM_00047330, TTHERM_00059370, TTHERM_00314860, TTHERM_00318900, TTHERM_01049340, TTHERM_01372820, TTHERM_00092820, TTHERM_00317390, TTHERM_00141050, TTHERM_00390080, TTHERM_00550920, TTHERM_00283760, TTHERM_00516330, TTHERM_01287970, TTHERM_00052190, TTHERM_00410210, TTHERM_00321720, TTHERM_01321550, TTHERM_00773700, TTHERM_00670750, TTHERM_01122800, TTHERM_00773710, TTHERM_00572100, TTHERM_00585170, TTHERM_00410180, TTHERM_00630030, TTHERM_01213910, TTHERM_00145480, TTHERM_00193465, TTHERM_00445920, TTHERM_00392790, TTHERM_00787390, TTHERM_00697290, TTHERM_00522740, TTHERM_00938950\n",
      "14 gene intersection between the genes in the microarray enriched clusters and the RNA-seq enriched clusters:\n",
      "TTHERM_01002860, TTHERM_00537380, TTHERM_00624730, TTHERM_00046372, TTHERM_00038880, TTHERM_00471040, TTHERM_00221120, TTHERM_01055600, TTHERM_00522600, TTHERM_00473020, TTHERM_00378890, TTHERM_00527180, TTHERM_01002870, TTHERM_00624720\n",
      "119 gene intersection between the differentially expressed genes and the genes in the microarray enriched clusters:\n",
      "TTHERM_00145940, TTHERM_00440510, TTHERM_00678400, TTHERM_00361795, TTHERM_00819540, TTHERM_00190910, TTHERM_00140780, TTHERM_01044620, TTHERM_00321725, TTHERM_00194220, TTHERM_00592740, TTHERM_00526730, TTHERM_00185860, TTHERM_00227750, TTHERM_00658810, TTHERM_00338330, TTHERM_01041999, TTHERM_00301830, TTHERM_00187110, TTHERM_00840010, TTHERM_00138495, TTHERM_00599750, TTHERM_00239350, TTHERM_00141040, TTHERM_00852790, TTHERM_00924290, TTHERM_00895615, TTHERM_00600370, TTHERM_00239340, TTHERM_00554390, TTHERM_00709730, TTHERM_00784360, TTHERM_01161080, TTHERM_01019605, TTHERM_00042744, TTHERM_00532440, TTHERM_00492550, TTHERM_00558350, TTHERM_00420770, TTHERM_00242590, TTHERM_00237520, TTHERM_00133760, TTHERM_01050650, TTHERM_00028601, TTHERM_00721570, TTHERM_00292090, TTHERM_00340180, TTHERM_00570550, TTHERM_00516380, TTHERM_01044380, TTHERM_00340010, TTHERM_01005060, TTHERM_00649480, TTHERM_00703490, TTHERM_00632940, TTHERM_00285250, TTHERM_00494700, TTHERM_00355700, TTHERM_00471740, TTHERM_00585430, TTHERM_01071420, TTHERM_01256510, TTHERM_00411560, TTHERM_00401970, TTHERM_00721690, TTHERM_01093580, TTHERM_00241790, TTHERM_00845880, TTHERM_00402020, TTHERM_00628650, TTHERM_00590170, TTHERM_00357060, TTHERM_01165230, TTHERM_01085660, TTHERM_00332190, TTHERM_00497520, TTHERM_00316250, TTHERM_00938850, TTHERM_00218690, TTHERM_00494230, TTHERM_00420250, TTHERM_00997740, TTHERM_00526910, TTHERM_00516395, TTHERM_00079510, TTHERM_01156770, TTHERM_00672229, TTHERM_00654262, TTHERM_00013410, TTHERM_00721270, TTHERM_01332070, TTHERM_00343930, TTHERM_00321680, TTHERM_00425930, TTHERM_00171640, TTHERM_00685980, TTHERM_00410160, TTHERM_01143870, TTHERM_00392830, TTHERM_00652540, TTHERM_00285430, TTHERM_00496990, TTHERM_00954170, TTHERM_00486995, TTHERM_00312200, TTHERM_00590330, TTHERM_01197130, TTHERM_00827060, TTHERM_00715800, TTHERM_00283800, TTHERM_00823960, TTHERM_00617815, TTHERM_01106040, TTHERM_01084110, TTHERM_00129415, TTHERM_00703870, TTHERM_00713420, TTHERM_00440600, TTHERM_00691410\n",
      "7 gene intersection between the differentially expressed genes and the genes in the RNA-seq enriched clusters:\n",
      "TTHERM_01297430, TTHERM_00242080, TTHERM_00581590, TTHERM_00989430, TTHERM_00160560, TTHERM_00024280, TTHERM_00316390\n"
     ]
    }
   ],
   "source": [
    "print(f'{len(intersection_all)} gene intersection between all gene groups:')\n",
    "print(*intersection_all, sep=', ')\n",
    "\n",
    "print(f'{len(intersection_enriched)} gene intersection between the genes in the microarray enriched clusters and the RNA-seq enriched clusters:')\n",
    "print(*intersection_enriched, sep=', ')\n",
    "\n",
    "print(f'{len(intersection_dem)} gene intersection between the differentially expressed genes and the genes in the microarray enriched clusters:')\n",
    "print(*intersection_dem, sep=', ')\n",
    "\n",
    "print(f'{len(intersection_der)} gene intersection between the differentially expressed genes and the genes in the RNA-seq enriched clusters:')\n",
    "print(*intersection_der, sep=', ')"
   ]
  },
  {
   "cell_type": "code",
   "execution_count": 38,
   "metadata": {},
   "outputs": [
    {
     "name": "stdout",
     "output_type": "stream",
     "text": [
      "TTHERM_00624720, TTHERM_00624730, TTHERM_01055600, TTHERM_00473020, TTHERM_00378890, TTHERM_00522600, TTHERM_00527180\n"
     ]
    }
   ],
   "source": [
    "print(*intersection_enriched.intersection(set(['TTHERM_01018540',\n",
    "'TTHERM_00473020',\n",
    "'TTHERM_01055600',\n",
    "'TTHERM_00624730',\n",
    "'TTHERM_00624720',\n",
    "'TTHERM_00527180',\n",
    "'TTHERM_00522600',\n",
    "'TTHERM_00378890',\n",
    "'TTHERM_00321730',])), sep=', ')"
   ]
  },
  {
   "cell_type": "code",
   "execution_count": 39,
   "metadata": {},
   "outputs": [
    {
     "data": {
      "text/plain": [
       "7"
      ]
     },
     "execution_count": 39,
     "metadata": {},
     "output_type": "execute_result"
    }
   ],
   "source": [
    "len(intersection_enriched.intersection(set(['TTHERM_01018540',\n",
    "'TTHERM_00473020',\n",
    "'TTHERM_01055600',\n",
    "'TTHERM_00624730',\n",
    "'TTHERM_00624720',\n",
    "'TTHERM_00527180',\n",
    "'TTHERM_00522600',\n",
    "'TTHERM_00378890',\n",
    "'TTHERM_00321730',])))"
   ]
  },
  {
   "cell_type": "code",
   "execution_count": 40,
   "metadata": {},
   "outputs": [],
   "source": [
    "lx = 17.980\n",
    "ly = 22.034"
   ]
  },
  {
   "cell_type": "code",
   "execution_count": 41,
   "metadata": {},
   "outputs": [],
   "source": [
    "fx = 12.709\n",
    "fy = 21.085"
   ]
  },
  {
   "cell_type": "code",
   "execution_count": 42,
   "metadata": {},
   "outputs": [
    {
     "data": {
      "text/plain": [
       "-5.271000000000001"
      ]
     },
     "execution_count": 42,
     "metadata": {},
     "output_type": "execute_result"
    }
   ],
   "source": [
    "fx - lx "
   ]
  },
  {
   "cell_type": "code",
   "execution_count": 43,
   "metadata": {},
   "outputs": [
    {
     "data": {
      "text/plain": [
       "-0.9489999999999981"
      ]
     },
     "execution_count": 43,
     "metadata": {},
     "output_type": "execute_result"
    }
   ],
   "source": [
    "fy - ly "
   ]
  },
  {
   "cell_type": "code",
   "execution_count": 44,
   "metadata": {},
   "outputs": [
    {
     "data": {
      "text/plain": [
       "113.82300000000001"
      ]
     },
     "execution_count": 44,
     "metadata": {},
     "output_type": "execute_result"
    }
   ],
   "source": [
    "108.552 - (-5.271) # x"
   ]
  },
  {
   "cell_type": "code",
   "execution_count": 45,
   "metadata": {},
   "outputs": [
    {
     "data": {
      "text/plain": [
       "114.115"
      ]
     },
     "execution_count": 45,
     "metadata": {},
     "output_type": "execute_result"
    }
   ],
   "source": [
    "113.166 - (-0.949) # y"
   ]
  },
  {
   "cell_type": "code",
   "execution_count": 46,
   "metadata": {},
   "outputs": [
    {
     "data": {
      "text/plain": [
       "(40, 40)"
      ]
     },
     "execution_count": 46,
     "metadata": {},
     "output_type": "execute_result"
    }
   ],
   "source": [
    "len(intersection_all), len(muco_exp)"
   ]
  },
  {
   "cell_type": "code",
   "execution_count": 47,
   "metadata": {},
   "outputs": [
    {
     "data": {
      "text/plain": [
       "15"
      ]
     },
     "execution_count": 47,
     "metadata": {},
     "output_type": "execute_result"
    }
   ],
   "source": [
    "len(intersection_all.intersection(muco_exp))"
   ]
  },
  {
   "cell_type": "code",
   "execution_count": 48,
   "metadata": {},
   "outputs": [
    {
     "name": "stdout",
     "output_type": "stream",
     "text": [
      "TTHERM_00313130, TTHERM_00670750, TTHERM_00011710, TTHERM_01122800, TTHERM_00317390, TTHERM_00445920, TTHERM_00572100, TTHERM_00047330, TTHERM_00059370, TTHERM_01287970, TTHERM_00410180, TTHERM_00052190, TTHERM_00318900, TTHERM_00410210, TTHERM_01213910\n"
     ]
    }
   ],
   "source": [
    "print(*intersection_all.intersection(muco_exp), sep=', ')"
   ]
  },
  {
   "cell_type": "code",
   "execution_count": 49,
   "metadata": {},
   "outputs": [],
   "source": [
    "z = ['TTHERM_00047330', 'TTHERM_00420770', 'TTHERM_00052190', 'TTHERM_00445920', 'TTHERM_00317390', 'TTHERM_00227750', 'TTHERM_00670750', 'TTHERM_00321680', 'TTHERM_01213910', 'TTHERM_00241790', 'TTHERM_00011710', 'TTHERM_00059370']"
   ]
  },
  {
   "cell_type": "code",
   "execution_count": 50,
   "metadata": {},
   "outputs": [
    {
     "data": {
      "text/plain": [
       "8"
      ]
     },
     "execution_count": 50,
     "metadata": {},
     "output_type": "execute_result"
    }
   ],
   "source": [
    "len(intersection_all.intersection(muco_exp).intersection(z))"
   ]
  },
  {
   "cell_type": "code",
   "execution_count": 51,
   "metadata": {},
   "outputs": [
    {
     "name": "stdout",
     "output_type": "stream",
     "text": [
      "TTHERM_00670750, TTHERM_00011710, TTHERM_00317390, TTHERM_00445920, TTHERM_00047330, TTHERM_00059370, TTHERM_00052190, TTHERM_01213910\n"
     ]
    }
   ],
   "source": [
    "print(*intersection_all.intersection(muco_exp).intersection(z), sep=', ')"
   ]
  },
  {
   "cell_type": "code",
   "execution_count": 52,
   "metadata": {},
   "outputs": [
    {
     "data": {
      "text/plain": [
       "12"
      ]
     },
     "execution_count": 52,
     "metadata": {},
     "output_type": "execute_result"
    }
   ],
   "source": [
    "len(set(['TTHERM_00047330', 'TTHERM_00420770', 'TTHERM_00052190', 'TTHERM_00445920', 'TTHERM_00317390', 'TTHERM_00227750', 'TTHERM_00670750', 'TTHERM_00321680', 'TTHERM_01213910', 'TTHERM_00241790', 'TTHERM_00011710', 'TTHERM_00059370'\n",
    "]).intersection(set(['TTHERM_00420770', 'TTHERM_00227750', 'TTHERM_00317390', 'TTHERM_01213910', 'TTHERM_00011710', 'TTHERM_00321680', 'TTHERM_00241790', 'TTHERM_00670750', 'TTHERM_00052190', 'TTHERM_00047330', 'TTHERM_00059370', 'TTHERM_00445920'\n",
    "])))"
   ]
  }
 ],
 "metadata": {
  "kernelspec": {
   "display_name": "Python 3",
   "language": "python",
   "name": "python3"
  },
  "language_info": {
   "codemirror_mode": {
    "name": "ipython",
    "version": 3
   },
   "file_extension": ".py",
   "mimetype": "text/x-python",
   "name": "python",
   "nbconvert_exporter": "python",
   "pygments_lexer": "ipython3",
   "version": "3.8.16"
  }
 },
 "nbformat": 4,
 "nbformat_minor": 2
}

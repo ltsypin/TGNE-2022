{
 "cells": [
  {
   "cell_type": "code",
   "execution_count": 1,
   "metadata": {},
   "outputs": [],
   "source": [
    "import pandas as pd\n",
    "import sys\n",
    "import numpy\n",
    "import scipy.stats\n",
    "\n",
    "sys.path.append('../')\n",
    "from utils import clustering_utils, dataframe_utils"
   ]
  },
  {
   "cell_type": "code",
   "execution_count": 2,
   "metadata": {},
   "outputs": [],
   "source": [
    "# MIN-MAX\n",
    "microarray = pd.read_csv('../TGNE/embedding/test_nn3_leiden_label_df_round_1.csv')\n",
    "rna_seq = pd.read_csv('../TGNE/embedding/rna_seq_label_df_round_1.csv')\n",
    "\n",
    "# Z-SCORE\n",
    "# microarray = pd.read_csv('../TGNE/embedding/testz_nn3_leiden_label_df_round_1.csv')\n",
    "# rna_seq = pd.read_csv('../TGNE/embedding/rnaz_seq_label_df_round_1.csv')"
   ]
  },
  {
   "cell_type": "code",
   "execution_count": 3,
   "metadata": {},
   "outputs": [
    {
     "data": {
      "text/html": [
       "<div>\n",
       "<style scoped>\n",
       "    .dataframe tbody tr th:only-of-type {\n",
       "        vertical-align: middle;\n",
       "    }\n",
       "\n",
       "    .dataframe tbody tr th {\n",
       "        vertical-align: top;\n",
       "    }\n",
       "\n",
       "    .dataframe thead th {\n",
       "        text-align: right;\n",
       "    }\n",
       "</style>\n",
       "<table border=\"1\" class=\"dataframe\">\n",
       "  <thead>\n",
       "    <tr style=\"text-align: right;\">\n",
       "      <th></th>\n",
       "      <th>Unnamed: 0</th>\n",
       "      <th>logFC</th>\n",
       "      <th>AveExpr</th>\n",
       "      <th>t</th>\n",
       "      <th>P.Value</th>\n",
       "      <th>adj.P.Val</th>\n",
       "      <th>B</th>\n",
       "      <th>negLogPValue</th>\n",
       "    </tr>\n",
       "  </thead>\n",
       "  <tbody>\n",
       "    <tr>\n",
       "      <th>0</th>\n",
       "      <td>TTHERM_01127520</td>\n",
       "      <td>6.662691</td>\n",
       "      <td>7.776168</td>\n",
       "      <td>27.401980</td>\n",
       "      <td>1.338125e-11</td>\n",
       "      <td>1.011772e-07</td>\n",
       "      <td>18.024832</td>\n",
       "      <td>6.994917</td>\n",
       "    </tr>\n",
       "    <tr>\n",
       "      <th>1</th>\n",
       "      <td>TTHERM_00056190</td>\n",
       "      <td>5.202193</td>\n",
       "      <td>6.263239</td>\n",
       "      <td>26.798823</td>\n",
       "      <td>1.710010e-11</td>\n",
       "      <td>1.011772e-07</td>\n",
       "      <td>17.901069</td>\n",
       "      <td>6.994917</td>\n",
       "    </tr>\n",
       "    <tr>\n",
       "      <th>2</th>\n",
       "      <td>TTHERM_00155590</td>\n",
       "      <td>-7.775511</td>\n",
       "      <td>7.559874</td>\n",
       "      <td>-25.317986</td>\n",
       "      <td>3.196561e-11</td>\n",
       "      <td>1.011772e-07</td>\n",
       "      <td>17.572169</td>\n",
       "      <td>6.994917</td>\n",
       "    </tr>\n",
       "    <tr>\n",
       "      <th>3</th>\n",
       "      <td>TTHERM_00261850</td>\n",
       "      <td>5.436875</td>\n",
       "      <td>9.935126</td>\n",
       "      <td>25.284801</td>\n",
       "      <td>3.242994e-11</td>\n",
       "      <td>1.011772e-07</td>\n",
       "      <td>17.564364</td>\n",
       "      <td>6.994917</td>\n",
       "    </tr>\n",
       "    <tr>\n",
       "      <th>4</th>\n",
       "      <td>TTHERM_00558440</td>\n",
       "      <td>5.832609</td>\n",
       "      <td>6.506094</td>\n",
       "      <td>25.275719</td>\n",
       "      <td>3.255830e-11</td>\n",
       "      <td>1.011772e-07</td>\n",
       "      <td>17.562224</td>\n",
       "      <td>6.994917</td>\n",
       "    </tr>\n",
       "    <tr>\n",
       "      <th>...</th>\n",
       "      <td>...</td>\n",
       "      <td>...</td>\n",
       "      <td>...</td>\n",
       "      <td>...</td>\n",
       "      <td>...</td>\n",
       "      <td>...</td>\n",
       "      <td>...</td>\n",
       "      <td>...</td>\n",
       "    </tr>\n",
       "    <tr>\n",
       "      <th>18805</th>\n",
       "      <td>TTHERM_00118750</td>\n",
       "      <td>-0.000507</td>\n",
       "      <td>9.107810</td>\n",
       "      <td>-0.000889</td>\n",
       "      <td>9.993062e-01</td>\n",
       "      <td>9.995187e-01</td>\n",
       "      <td>-3.030899</td>\n",
       "      <td>0.000209</td>\n",
       "    </tr>\n",
       "    <tr>\n",
       "      <th>18806</th>\n",
       "      <td>TTHERM_00691925</td>\n",
       "      <td>0.000396</td>\n",
       "      <td>6.037489</td>\n",
       "      <td>0.000775</td>\n",
       "      <td>9.993955e-01</td>\n",
       "      <td>9.995549e-01</td>\n",
       "      <td>-3.030900</td>\n",
       "      <td>0.000193</td>\n",
       "    </tr>\n",
       "    <tr>\n",
       "      <th>18807</th>\n",
       "      <td>TTHERM_01141638</td>\n",
       "      <td>0.000390</td>\n",
       "      <td>5.035715</td>\n",
       "      <td>0.000550</td>\n",
       "      <td>9.995712e-01</td>\n",
       "      <td>9.996580e-01</td>\n",
       "      <td>-3.030900</td>\n",
       "      <td>0.000149</td>\n",
       "    </tr>\n",
       "    <tr>\n",
       "      <th>18808</th>\n",
       "      <td>TTHERM_00317120</td>\n",
       "      <td>-0.000110</td>\n",
       "      <td>8.166408</td>\n",
       "      <td>-0.000506</td>\n",
       "      <td>9.996048e-01</td>\n",
       "      <td>9.996580e-01</td>\n",
       "      <td>-3.030900</td>\n",
       "      <td>0.000149</td>\n",
       "    </tr>\n",
       "    <tr>\n",
       "      <th>18809</th>\n",
       "      <td>TTHERM_00642380</td>\n",
       "      <td>-0.000065</td>\n",
       "      <td>5.103875</td>\n",
       "      <td>-0.000282</td>\n",
       "      <td>9.997801e-01</td>\n",
       "      <td>9.997801e-01</td>\n",
       "      <td>-3.030900</td>\n",
       "      <td>0.000096</td>\n",
       "    </tr>\n",
       "  </tbody>\n",
       "</table>\n",
       "<p>18810 rows × 8 columns</p>\n",
       "</div>"
      ],
      "text/plain": [
       "            Unnamed: 0     logFC   AveExpr          t       P.Value  \\\n",
       "0      TTHERM_01127520  6.662691  7.776168  27.401980  1.338125e-11   \n",
       "1      TTHERM_00056190  5.202193  6.263239  26.798823  1.710010e-11   \n",
       "2      TTHERM_00155590 -7.775511  7.559874 -25.317986  3.196561e-11   \n",
       "3      TTHERM_00261850  5.436875  9.935126  25.284801  3.242994e-11   \n",
       "4      TTHERM_00558440  5.832609  6.506094  25.275719  3.255830e-11   \n",
       "...                ...       ...       ...        ...           ...   \n",
       "18805  TTHERM_00118750 -0.000507  9.107810  -0.000889  9.993062e-01   \n",
       "18806  TTHERM_00691925  0.000396  6.037489   0.000775  9.993955e-01   \n",
       "18807  TTHERM_01141638  0.000390  5.035715   0.000550  9.995712e-01   \n",
       "18808  TTHERM_00317120 -0.000110  8.166408  -0.000506  9.996048e-01   \n",
       "18809  TTHERM_00642380 -0.000065  5.103875  -0.000282  9.997801e-01   \n",
       "\n",
       "          adj.P.Val          B  negLogPValue  \n",
       "0      1.011772e-07  18.024832      6.994917  \n",
       "1      1.011772e-07  17.901069      6.994917  \n",
       "2      1.011772e-07  17.572169      6.994917  \n",
       "3      1.011772e-07  17.564364      6.994917  \n",
       "4      1.011772e-07  17.562224      6.994917  \n",
       "...             ...        ...           ...  \n",
       "18805  9.995187e-01  -3.030899      0.000209  \n",
       "18806  9.995549e-01  -3.030900      0.000193  \n",
       "18807  9.996580e-01  -3.030900      0.000149  \n",
       "18808  9.996580e-01  -3.030900      0.000149  \n",
       "18809  9.997801e-01  -3.030900      0.000096  \n",
       "\n",
       "[18810 rows x 8 columns]"
      ]
     },
     "execution_count": 3,
     "metadata": {},
     "output_type": "execute_result"
    }
   ],
   "source": [
    "ttherm_df = pd.read_csv('./tt.csv')\n",
    "\n",
    "ttherm_df"
   ]
  },
  {
   "cell_type": "code",
   "execution_count": 4,
   "metadata": {},
   "outputs": [],
   "source": [
    "import numpy as np\n",
    "\n",
    "def probability_from_bstat(b_stat):\n",
    "    odds = np.exp(b_stat)\n",
    "    \n",
    "    probability = odds / (1 + odds)\n",
    "    \n",
    "    return probability"
   ]
  },
  {
   "cell_type": "code",
   "execution_count": 5,
   "metadata": {},
   "outputs": [
    {
     "data": {
      "text/plain": [
       "0.7310585786300049"
      ]
     },
     "execution_count": 5,
     "metadata": {},
     "output_type": "execute_result"
    }
   ],
   "source": [
    "probability_from_bstat(1)"
   ]
  },
  {
   "cell_type": "code",
   "execution_count": 6,
   "metadata": {},
   "outputs": [
    {
     "data": {
      "text/plain": [
       "0.8320183851339245"
      ]
     },
     "execution_count": 6,
     "metadata": {},
     "output_type": "execute_result"
    }
   ],
   "source": [
    "probability_from_bstat(1.6)"
   ]
  },
  {
   "cell_type": "code",
   "execution_count": 7,
   "metadata": {},
   "outputs": [],
   "source": [
    "ttherm_df['diff_exp_prob'] = ttherm_df['B'].apply(probability_from_bstat)"
   ]
  },
  {
   "cell_type": "code",
   "execution_count": 8,
   "metadata": {},
   "outputs": [
    {
     "data": {
      "text/html": [
       "<div>\n",
       "<style scoped>\n",
       "    .dataframe tbody tr th:only-of-type {\n",
       "        vertical-align: middle;\n",
       "    }\n",
       "\n",
       "    .dataframe tbody tr th {\n",
       "        vertical-align: top;\n",
       "    }\n",
       "\n",
       "    .dataframe thead th {\n",
       "        text-align: right;\n",
       "    }\n",
       "</style>\n",
       "<table border=\"1\" class=\"dataframe\">\n",
       "  <thead>\n",
       "    <tr style=\"text-align: right;\">\n",
       "      <th></th>\n",
       "      <th>Unnamed: 0</th>\n",
       "      <th>logFC</th>\n",
       "      <th>AveExpr</th>\n",
       "      <th>t</th>\n",
       "      <th>P.Value</th>\n",
       "      <th>adj.P.Val</th>\n",
       "      <th>B</th>\n",
       "      <th>negLogPValue</th>\n",
       "      <th>diff_exp_prob</th>\n",
       "    </tr>\n",
       "  </thead>\n",
       "  <tbody>\n",
       "    <tr>\n",
       "      <th>4281</th>\n",
       "      <td>TTHERM_01018540</td>\n",
       "      <td>1.326388</td>\n",
       "      <td>15.056447</td>\n",
       "      <td>5.247592</td>\n",
       "      <td>0.000260</td>\n",
       "      <td>0.001142</td>\n",
       "      <td>4.281836</td>\n",
       "      <td>2.942501</td>\n",
       "      <td>0.986371</td>\n",
       "    </tr>\n",
       "    <tr>\n",
       "      <th>6355</th>\n",
       "      <td>TTHERM_00473020</td>\n",
       "      <td>0.933493</td>\n",
       "      <td>15.122860</td>\n",
       "      <td>3.947521</td>\n",
       "      <td>0.002216</td>\n",
       "      <td>0.006557</td>\n",
       "      <td>2.141232</td>\n",
       "      <td>2.183282</td>\n",
       "      <td>0.894847</td>\n",
       "    </tr>\n",
       "    <tr>\n",
       "      <th>8024</th>\n",
       "      <td>TTHERM_00321730</td>\n",
       "      <td>0.926411</td>\n",
       "      <td>6.007156</td>\n",
       "      <td>3.161546</td>\n",
       "      <td>0.008892</td>\n",
       "      <td>0.020840</td>\n",
       "      <td>0.766356</td>\n",
       "      <td>1.681112</td>\n",
       "      <td>0.682732</td>\n",
       "    </tr>\n",
       "    <tr>\n",
       "      <th>12802</th>\n",
       "      <td>TTHERM_00527180</td>\n",
       "      <td>0.259223</td>\n",
       "      <td>15.769035</td>\n",
       "      <td>1.509230</td>\n",
       "      <td>0.158989</td>\n",
       "      <td>0.233584</td>\n",
       "      <td>-1.922730</td>\n",
       "      <td>0.631556</td>\n",
       "      <td>0.127557</td>\n",
       "    </tr>\n",
       "    <tr>\n",
       "      <th>15033</th>\n",
       "      <td>TTHERM_00624720</td>\n",
       "      <td>0.147792</td>\n",
       "      <td>15.825690</td>\n",
       "      <td>0.888567</td>\n",
       "      <td>0.392964</td>\n",
       "      <td>0.491663</td>\n",
       "      <td>-2.622630</td>\n",
       "      <td>0.308333</td>\n",
       "      <td>0.067696</td>\n",
       "    </tr>\n",
       "    <tr>\n",
       "      <th>15075</th>\n",
       "      <td>TTHERM_00624730</td>\n",
       "      <td>0.150811</td>\n",
       "      <td>15.838373</td>\n",
       "      <td>0.877985</td>\n",
       "      <td>0.398439</td>\n",
       "      <td>0.497124</td>\n",
       "      <td>-2.631975</td>\n",
       "      <td>0.303535</td>\n",
       "      <td>0.067109</td>\n",
       "    </tr>\n",
       "    <tr>\n",
       "      <th>15997</th>\n",
       "      <td>TTHERM_00522600</td>\n",
       "      <td>0.115472</td>\n",
       "      <td>15.778603</td>\n",
       "      <td>0.643030</td>\n",
       "      <td>0.533180</td>\n",
       "      <td>0.626894</td>\n",
       "      <td>-2.813555</td>\n",
       "      <td>0.202806</td>\n",
       "      <td>0.056596</td>\n",
       "    </tr>\n",
       "    <tr>\n",
       "      <th>17632</th>\n",
       "      <td>TTHERM_01055600</td>\n",
       "      <td>0.044023</td>\n",
       "      <td>15.939062</td>\n",
       "      <td>0.263930</td>\n",
       "      <td>0.796639</td>\n",
       "      <td>0.849814</td>\n",
       "      <td>-2.993717</td>\n",
       "      <td>0.070676</td>\n",
       "      <td>0.047711</td>\n",
       "    </tr>\n",
       "    <tr>\n",
       "      <th>18045</th>\n",
       "      <td>TTHERM_00378890</td>\n",
       "      <td>-0.028959</td>\n",
       "      <td>15.910998</td>\n",
       "      <td>-0.173828</td>\n",
       "      <td>0.865111</td>\n",
       "      <td>0.901714</td>\n",
       "      <td>-3.014742</td>\n",
       "      <td>0.044931</td>\n",
       "      <td>0.046764</td>\n",
       "    </tr>\n",
       "  </tbody>\n",
       "</table>\n",
       "</div>"
      ],
      "text/plain": [
       "            Unnamed: 0     logFC    AveExpr         t   P.Value  adj.P.Val  \\\n",
       "4281   TTHERM_01018540  1.326388  15.056447  5.247592  0.000260   0.001142   \n",
       "6355   TTHERM_00473020  0.933493  15.122860  3.947521  0.002216   0.006557   \n",
       "8024   TTHERM_00321730  0.926411   6.007156  3.161546  0.008892   0.020840   \n",
       "12802  TTHERM_00527180  0.259223  15.769035  1.509230  0.158989   0.233584   \n",
       "15033  TTHERM_00624720  0.147792  15.825690  0.888567  0.392964   0.491663   \n",
       "15075  TTHERM_00624730  0.150811  15.838373  0.877985  0.398439   0.497124   \n",
       "15997  TTHERM_00522600  0.115472  15.778603  0.643030  0.533180   0.626894   \n",
       "17632  TTHERM_01055600  0.044023  15.939062  0.263930  0.796639   0.849814   \n",
       "18045  TTHERM_00378890 -0.028959  15.910998 -0.173828  0.865111   0.901714   \n",
       "\n",
       "              B  negLogPValue  diff_exp_prob  \n",
       "4281   4.281836      2.942501       0.986371  \n",
       "6355   2.141232      2.183282       0.894847  \n",
       "8024   0.766356      1.681112       0.682732  \n",
       "12802 -1.922730      0.631556       0.127557  \n",
       "15033 -2.622630      0.308333       0.067696  \n",
       "15075 -2.631975      0.303535       0.067109  \n",
       "15997 -2.813555      0.202806       0.056596  \n",
       "17632 -2.993717      0.070676       0.047711  \n",
       "18045 -3.014742      0.044931       0.046764  "
      ]
     },
     "execution_count": 8,
     "metadata": {},
     "output_type": "execute_result"
    }
   ],
   "source": [
    "ttherm_df.loc[\n",
    "    (ttherm_df['Unnamed: 0'].isin(['TTHERM_01018540',\n",
    "'TTHERM_00473020',\n",
    "'TTHERM_01055600',\n",
    "'TTHERM_00624730',\n",
    "'TTHERM_00624720',\n",
    "'TTHERM_00527180',\n",
    "'TTHERM_00522600',\n",
    "'TTHERM_00378890',\n",
    "'TTHERM_00321730',]))\n",
    "]"
   ]
  },
  {
   "cell_type": "code",
   "execution_count": 9,
   "metadata": {},
   "outputs": [],
   "source": [
    "ttherm_df.loc[\n",
    "    (ttherm_df['Unnamed: 0'].isin(['TTHERM_01018540',\n",
    "'TTHERM_00473020',\n",
    "'TTHERM_01055600',\n",
    "'TTHERM_00624730',\n",
    "'TTHERM_00624720',\n",
    "'TTHERM_00527180',\n",
    "'TTHERM_00522600',\n",
    "'TTHERM_00378890',\n",
    "'TTHERM_00321730',]))\n",
    "].to_csv('~/grls.csv')"
   ]
  },
  {
   "cell_type": "code",
   "execution_count": 10,
   "metadata": {},
   "outputs": [
    {
     "data": {
      "text/html": [
       "<div>\n",
       "<style scoped>\n",
       "    .dataframe tbody tr th:only-of-type {\n",
       "        vertical-align: middle;\n",
       "    }\n",
       "\n",
       "    .dataframe tbody tr th {\n",
       "        vertical-align: top;\n",
       "    }\n",
       "\n",
       "    .dataframe thead th {\n",
       "        text-align: right;\n",
       "    }\n",
       "</style>\n",
       "<table border=\"1\" class=\"dataframe\">\n",
       "  <thead>\n",
       "    <tr style=\"text-align: right;\">\n",
       "      <th></th>\n",
       "      <th>Unnamed: 0</th>\n",
       "      <th>logFC</th>\n",
       "      <th>AveExpr</th>\n",
       "      <th>t</th>\n",
       "      <th>P.Value</th>\n",
       "      <th>adj.P.Val</th>\n",
       "      <th>B</th>\n",
       "      <th>negLogPValue</th>\n",
       "      <th>diff_exp_prob</th>\n",
       "    </tr>\n",
       "  </thead>\n",
       "  <tbody>\n",
       "    <tr>\n",
       "      <th>6355</th>\n",
       "      <td>TTHERM_00473020</td>\n",
       "      <td>0.933493</td>\n",
       "      <td>15.122860</td>\n",
       "      <td>3.947521</td>\n",
       "      <td>0.002216</td>\n",
       "      <td>0.006557</td>\n",
       "      <td>2.141232</td>\n",
       "      <td>2.183282</td>\n",
       "      <td>0.894847</td>\n",
       "    </tr>\n",
       "    <tr>\n",
       "      <th>6524</th>\n",
       "      <td>TTHERM_00471040</td>\n",
       "      <td>0.755107</td>\n",
       "      <td>15.359091</td>\n",
       "      <td>3.868636</td>\n",
       "      <td>0.002541</td>\n",
       "      <td>0.007325</td>\n",
       "      <td>2.004923</td>\n",
       "      <td>2.135209</td>\n",
       "      <td>0.881313</td>\n",
       "    </tr>\n",
       "    <tr>\n",
       "      <th>7149</th>\n",
       "      <td>TTHERM_00537380</td>\n",
       "      <td>0.861843</td>\n",
       "      <td>14.998235</td>\n",
       "      <td>3.553705</td>\n",
       "      <td>0.004417</td>\n",
       "      <td>0.011620</td>\n",
       "      <td>1.455992</td>\n",
       "      <td>1.934780</td>\n",
       "      <td>0.810919</td>\n",
       "    </tr>\n",
       "    <tr>\n",
       "      <th>7928</th>\n",
       "      <td>TTHERM_01002870</td>\n",
       "      <td>0.597344</td>\n",
       "      <td>15.620469</td>\n",
       "      <td>3.202836</td>\n",
       "      <td>0.008257</td>\n",
       "      <td>0.019588</td>\n",
       "      <td>0.839047</td>\n",
       "      <td>1.708001</td>\n",
       "      <td>0.698264</td>\n",
       "    </tr>\n",
       "    <tr>\n",
       "      <th>12400</th>\n",
       "      <td>TTHERM_00221120</td>\n",
       "      <td>0.316737</td>\n",
       "      <td>15.680445</td>\n",
       "      <td>1.622608</td>\n",
       "      <td>0.132528</td>\n",
       "      <td>0.201020</td>\n",
       "      <td>-1.767423</td>\n",
       "      <td>0.696761</td>\n",
       "      <td>0.145863</td>\n",
       "    </tr>\n",
       "    <tr>\n",
       "      <th>12802</th>\n",
       "      <td>TTHERM_00527180</td>\n",
       "      <td>0.259223</td>\n",
       "      <td>15.769035</td>\n",
       "      <td>1.509230</td>\n",
       "      <td>0.158989</td>\n",
       "      <td>0.233584</td>\n",
       "      <td>-1.922730</td>\n",
       "      <td>0.631556</td>\n",
       "      <td>0.127557</td>\n",
       "    </tr>\n",
       "    <tr>\n",
       "      <th>15033</th>\n",
       "      <td>TTHERM_00624720</td>\n",
       "      <td>0.147792</td>\n",
       "      <td>15.825690</td>\n",
       "      <td>0.888567</td>\n",
       "      <td>0.392964</td>\n",
       "      <td>0.491663</td>\n",
       "      <td>-2.622630</td>\n",
       "      <td>0.308333</td>\n",
       "      <td>0.067696</td>\n",
       "    </tr>\n",
       "    <tr>\n",
       "      <th>15075</th>\n",
       "      <td>TTHERM_00624730</td>\n",
       "      <td>0.150811</td>\n",
       "      <td>15.838373</td>\n",
       "      <td>0.877985</td>\n",
       "      <td>0.398439</td>\n",
       "      <td>0.497124</td>\n",
       "      <td>-2.631975</td>\n",
       "      <td>0.303535</td>\n",
       "      <td>0.067109</td>\n",
       "    </tr>\n",
       "    <tr>\n",
       "      <th>15997</th>\n",
       "      <td>TTHERM_00522600</td>\n",
       "      <td>0.115472</td>\n",
       "      <td>15.778603</td>\n",
       "      <td>0.643030</td>\n",
       "      <td>0.533180</td>\n",
       "      <td>0.626894</td>\n",
       "      <td>-2.813555</td>\n",
       "      <td>0.202806</td>\n",
       "      <td>0.056596</td>\n",
       "    </tr>\n",
       "    <tr>\n",
       "      <th>17209</th>\n",
       "      <td>TTHERM_01002860</td>\n",
       "      <td>0.062736</td>\n",
       "      <td>15.854399</td>\n",
       "      <td>0.363720</td>\n",
       "      <td>0.722856</td>\n",
       "      <td>0.790058</td>\n",
       "      <td>-2.960484</td>\n",
       "      <td>0.102341</td>\n",
       "      <td>0.049243</td>\n",
       "    </tr>\n",
       "    <tr>\n",
       "      <th>17632</th>\n",
       "      <td>TTHERM_01055600</td>\n",
       "      <td>0.044023</td>\n",
       "      <td>15.939062</td>\n",
       "      <td>0.263930</td>\n",
       "      <td>0.796639</td>\n",
       "      <td>0.849814</td>\n",
       "      <td>-2.993717</td>\n",
       "      <td>0.070676</td>\n",
       "      <td>0.047711</td>\n",
       "    </tr>\n",
       "    <tr>\n",
       "      <th>18045</th>\n",
       "      <td>TTHERM_00378890</td>\n",
       "      <td>-0.028959</td>\n",
       "      <td>15.910998</td>\n",
       "      <td>-0.173828</td>\n",
       "      <td>0.865111</td>\n",
       "      <td>0.901714</td>\n",
       "      <td>-3.014742</td>\n",
       "      <td>0.044931</td>\n",
       "      <td>0.046764</td>\n",
       "    </tr>\n",
       "  </tbody>\n",
       "</table>\n",
       "</div>"
      ],
      "text/plain": [
       "            Unnamed: 0     logFC    AveExpr         t   P.Value  adj.P.Val  \\\n",
       "6355   TTHERM_00473020  0.933493  15.122860  3.947521  0.002216   0.006557   \n",
       "6524   TTHERM_00471040  0.755107  15.359091  3.868636  0.002541   0.007325   \n",
       "7149   TTHERM_00537380  0.861843  14.998235  3.553705  0.004417   0.011620   \n",
       "7928   TTHERM_01002870  0.597344  15.620469  3.202836  0.008257   0.019588   \n",
       "12400  TTHERM_00221120  0.316737  15.680445  1.622608  0.132528   0.201020   \n",
       "12802  TTHERM_00527180  0.259223  15.769035  1.509230  0.158989   0.233584   \n",
       "15033  TTHERM_00624720  0.147792  15.825690  0.888567  0.392964   0.491663   \n",
       "15075  TTHERM_00624730  0.150811  15.838373  0.877985  0.398439   0.497124   \n",
       "15997  TTHERM_00522600  0.115472  15.778603  0.643030  0.533180   0.626894   \n",
       "17209  TTHERM_01002860  0.062736  15.854399  0.363720  0.722856   0.790058   \n",
       "17632  TTHERM_01055600  0.044023  15.939062  0.263930  0.796639   0.849814   \n",
       "18045  TTHERM_00378890 -0.028959  15.910998 -0.173828  0.865111   0.901714   \n",
       "\n",
       "              B  negLogPValue  diff_exp_prob  \n",
       "6355   2.141232      2.183282       0.894847  \n",
       "6524   2.004923      2.135209       0.881313  \n",
       "7149   1.455992      1.934780       0.810919  \n",
       "7928   0.839047      1.708001       0.698264  \n",
       "12400 -1.767423      0.696761       0.145863  \n",
       "12802 -1.922730      0.631556       0.127557  \n",
       "15033 -2.622630      0.308333       0.067696  \n",
       "15075 -2.631975      0.303535       0.067109  \n",
       "15997 -2.813555      0.202806       0.056596  \n",
       "17209 -2.960484      0.102341       0.049243  \n",
       "17632 -2.993717      0.070676       0.047711  \n",
       "18045 -3.014742      0.044931       0.046764  "
      ]
     },
     "execution_count": 10,
     "metadata": {},
     "output_type": "execute_result"
    }
   ],
   "source": [
    "ttherm_df.loc[\n",
    "    (ttherm_df['Unnamed: 0'].isin(\n",
    "[\n",
    "'TTHERM_00378890',\n",
    "'TTHERM_00527180',\n",
    "'TTHERM_00522600',\n",
    "'TTHERM_00624720',\n",
    "'TTHERM_00537380',\n",
    "'TTHERM_01055600',\n",
    "'TTHERM_00221120',\n",
    "'TTHERM_00471040',\n",
    "'TTHERM_00624730',\n",
    "'TTHERM_01002870',\n",
    "'TTHERM_00473020',\n",
    "'TTHERM_01002860',\n",
    "]\n",
    "    ))\n",
    "]"
   ]
  },
  {
   "cell_type": "code",
   "execution_count": 11,
   "metadata": {},
   "outputs": [
    {
     "data": {
      "text/html": [
       "<div>\n",
       "<style scoped>\n",
       "    .dataframe tbody tr th:only-of-type {\n",
       "        vertical-align: middle;\n",
       "    }\n",
       "\n",
       "    .dataframe tbody tr th {\n",
       "        vertical-align: top;\n",
       "    }\n",
       "\n",
       "    .dataframe thead th {\n",
       "        text-align: right;\n",
       "    }\n",
       "</style>\n",
       "<table border=\"1\" class=\"dataframe\">\n",
       "  <thead>\n",
       "    <tr style=\"text-align: right;\">\n",
       "      <th></th>\n",
       "      <th>Unnamed: 0</th>\n",
       "      <th>logFC</th>\n",
       "      <th>AveExpr</th>\n",
       "      <th>t</th>\n",
       "      <th>P.Value</th>\n",
       "      <th>adj.P.Val</th>\n",
       "      <th>B</th>\n",
       "      <th>negLogPValue</th>\n",
       "      <th>diff_exp_prob</th>\n",
       "    </tr>\n",
       "  </thead>\n",
       "  <tbody>\n",
       "    <tr>\n",
       "      <th>346</th>\n",
       "      <td>TTHERM_00046372</td>\n",
       "      <td>4.276693</td>\n",
       "      <td>8.729740</td>\n",
       "      <td>13.089574</td>\n",
       "      <td>4.006646e-08</td>\n",
       "      <td>0.000002</td>\n",
       "      <td>12.557788</td>\n",
       "      <td>5.663903</td>\n",
       "      <td>0.999996</td>\n",
       "    </tr>\n",
       "    <tr>\n",
       "      <th>4504</th>\n",
       "      <td>TTHERM_00038880</td>\n",
       "      <td>1.176623</td>\n",
       "      <td>15.284626</td>\n",
       "      <td>5.084140</td>\n",
       "      <td>3.359370e-04</td>\n",
       "      <td>0.001403</td>\n",
       "      <td>4.025408</td>\n",
       "      <td>2.853048</td>\n",
       "      <td>0.982457</td>\n",
       "    </tr>\n",
       "    <tr>\n",
       "      <th>6355</th>\n",
       "      <td>TTHERM_00473020</td>\n",
       "      <td>0.933493</td>\n",
       "      <td>15.122860</td>\n",
       "      <td>3.947521</td>\n",
       "      <td>2.215710e-03</td>\n",
       "      <td>0.006557</td>\n",
       "      <td>2.141232</td>\n",
       "      <td>2.183282</td>\n",
       "      <td>0.894847</td>\n",
       "    </tr>\n",
       "    <tr>\n",
       "      <th>6524</th>\n",
       "      <td>TTHERM_00471040</td>\n",
       "      <td>0.755107</td>\n",
       "      <td>15.359091</td>\n",
       "      <td>3.868636</td>\n",
       "      <td>2.540873e-03</td>\n",
       "      <td>0.007325</td>\n",
       "      <td>2.004923</td>\n",
       "      <td>2.135209</td>\n",
       "      <td>0.881313</td>\n",
       "    </tr>\n",
       "    <tr>\n",
       "      <th>7149</th>\n",
       "      <td>TTHERM_00537380</td>\n",
       "      <td>0.861843</td>\n",
       "      <td>14.998235</td>\n",
       "      <td>3.553705</td>\n",
       "      <td>4.417096e-03</td>\n",
       "      <td>0.011620</td>\n",
       "      <td>1.455992</td>\n",
       "      <td>1.934780</td>\n",
       "      <td>0.810919</td>\n",
       "    </tr>\n",
       "    <tr>\n",
       "      <th>7928</th>\n",
       "      <td>TTHERM_01002870</td>\n",
       "      <td>0.597344</td>\n",
       "      <td>15.620469</td>\n",
       "      <td>3.202836</td>\n",
       "      <td>8.257125e-03</td>\n",
       "      <td>0.019588</td>\n",
       "      <td>0.839047</td>\n",
       "      <td>1.708001</td>\n",
       "      <td>0.698264</td>\n",
       "    </tr>\n",
       "    <tr>\n",
       "      <th>12400</th>\n",
       "      <td>TTHERM_00221120</td>\n",
       "      <td>0.316737</td>\n",
       "      <td>15.680445</td>\n",
       "      <td>1.622608</td>\n",
       "      <td>1.325277e-01</td>\n",
       "      <td>0.201020</td>\n",
       "      <td>-1.767423</td>\n",
       "      <td>0.696761</td>\n",
       "      <td>0.145863</td>\n",
       "    </tr>\n",
       "    <tr>\n",
       "      <th>12802</th>\n",
       "      <td>TTHERM_00527180</td>\n",
       "      <td>0.259223</td>\n",
       "      <td>15.769035</td>\n",
       "      <td>1.509230</td>\n",
       "      <td>1.589890e-01</td>\n",
       "      <td>0.233584</td>\n",
       "      <td>-1.922730</td>\n",
       "      <td>0.631556</td>\n",
       "      <td>0.127557</td>\n",
       "    </tr>\n",
       "    <tr>\n",
       "      <th>15033</th>\n",
       "      <td>TTHERM_00624720</td>\n",
       "      <td>0.147792</td>\n",
       "      <td>15.825690</td>\n",
       "      <td>0.888567</td>\n",
       "      <td>3.929643e-01</td>\n",
       "      <td>0.491663</td>\n",
       "      <td>-2.622630</td>\n",
       "      <td>0.308333</td>\n",
       "      <td>0.067696</td>\n",
       "    </tr>\n",
       "    <tr>\n",
       "      <th>15075</th>\n",
       "      <td>TTHERM_00624730</td>\n",
       "      <td>0.150811</td>\n",
       "      <td>15.838373</td>\n",
       "      <td>0.877985</td>\n",
       "      <td>3.984391e-01</td>\n",
       "      <td>0.497124</td>\n",
       "      <td>-2.631975</td>\n",
       "      <td>0.303535</td>\n",
       "      <td>0.067109</td>\n",
       "    </tr>\n",
       "    <tr>\n",
       "      <th>15997</th>\n",
       "      <td>TTHERM_00522600</td>\n",
       "      <td>0.115472</td>\n",
       "      <td>15.778603</td>\n",
       "      <td>0.643030</td>\n",
       "      <td>5.331795e-01</td>\n",
       "      <td>0.626894</td>\n",
       "      <td>-2.813555</td>\n",
       "      <td>0.202806</td>\n",
       "      <td>0.056596</td>\n",
       "    </tr>\n",
       "    <tr>\n",
       "      <th>17209</th>\n",
       "      <td>TTHERM_01002860</td>\n",
       "      <td>0.062736</td>\n",
       "      <td>15.854399</td>\n",
       "      <td>0.363720</td>\n",
       "      <td>7.228563e-01</td>\n",
       "      <td>0.790058</td>\n",
       "      <td>-2.960484</td>\n",
       "      <td>0.102341</td>\n",
       "      <td>0.049243</td>\n",
       "    </tr>\n",
       "    <tr>\n",
       "      <th>17632</th>\n",
       "      <td>TTHERM_01055600</td>\n",
       "      <td>0.044023</td>\n",
       "      <td>15.939062</td>\n",
       "      <td>0.263930</td>\n",
       "      <td>7.966387e-01</td>\n",
       "      <td>0.849814</td>\n",
       "      <td>-2.993717</td>\n",
       "      <td>0.070676</td>\n",
       "      <td>0.047711</td>\n",
       "    </tr>\n",
       "    <tr>\n",
       "      <th>18045</th>\n",
       "      <td>TTHERM_00378890</td>\n",
       "      <td>-0.028959</td>\n",
       "      <td>15.910998</td>\n",
       "      <td>-0.173828</td>\n",
       "      <td>8.651105e-01</td>\n",
       "      <td>0.901714</td>\n",
       "      <td>-3.014742</td>\n",
       "      <td>0.044931</td>\n",
       "      <td>0.046764</td>\n",
       "    </tr>\n",
       "  </tbody>\n",
       "</table>\n",
       "</div>"
      ],
      "text/plain": [
       "            Unnamed: 0     logFC    AveExpr          t       P.Value  \\\n",
       "346    TTHERM_00046372  4.276693   8.729740  13.089574  4.006646e-08   \n",
       "4504   TTHERM_00038880  1.176623  15.284626   5.084140  3.359370e-04   \n",
       "6355   TTHERM_00473020  0.933493  15.122860   3.947521  2.215710e-03   \n",
       "6524   TTHERM_00471040  0.755107  15.359091   3.868636  2.540873e-03   \n",
       "7149   TTHERM_00537380  0.861843  14.998235   3.553705  4.417096e-03   \n",
       "7928   TTHERM_01002870  0.597344  15.620469   3.202836  8.257125e-03   \n",
       "12400  TTHERM_00221120  0.316737  15.680445   1.622608  1.325277e-01   \n",
       "12802  TTHERM_00527180  0.259223  15.769035   1.509230  1.589890e-01   \n",
       "15033  TTHERM_00624720  0.147792  15.825690   0.888567  3.929643e-01   \n",
       "15075  TTHERM_00624730  0.150811  15.838373   0.877985  3.984391e-01   \n",
       "15997  TTHERM_00522600  0.115472  15.778603   0.643030  5.331795e-01   \n",
       "17209  TTHERM_01002860  0.062736  15.854399   0.363720  7.228563e-01   \n",
       "17632  TTHERM_01055600  0.044023  15.939062   0.263930  7.966387e-01   \n",
       "18045  TTHERM_00378890 -0.028959  15.910998  -0.173828  8.651105e-01   \n",
       "\n",
       "       adj.P.Val          B  negLogPValue  diff_exp_prob  \n",
       "346     0.000002  12.557788      5.663903       0.999996  \n",
       "4504    0.001403   4.025408      2.853048       0.982457  \n",
       "6355    0.006557   2.141232      2.183282       0.894847  \n",
       "6524    0.007325   2.004923      2.135209       0.881313  \n",
       "7149    0.011620   1.455992      1.934780       0.810919  \n",
       "7928    0.019588   0.839047      1.708001       0.698264  \n",
       "12400   0.201020  -1.767423      0.696761       0.145863  \n",
       "12802   0.233584  -1.922730      0.631556       0.127557  \n",
       "15033   0.491663  -2.622630      0.308333       0.067696  \n",
       "15075   0.497124  -2.631975      0.303535       0.067109  \n",
       "15997   0.626894  -2.813555      0.202806       0.056596  \n",
       "17209   0.790058  -2.960484      0.102341       0.049243  \n",
       "17632   0.849814  -2.993717      0.070676       0.047711  \n",
       "18045   0.901714  -3.014742      0.044931       0.046764  "
      ]
     },
     "execution_count": 11,
     "metadata": {},
     "output_type": "execute_result"
    }
   ],
   "source": [
    "ttherm_df.loc[\n",
    "    (ttherm_df['Unnamed: 0'].isin(\n",
    "['TTHERM_00046372', 'TTHERM_00537380', 'TTHERM_00473020', 'TTHERM_00038880', 'TTHERM_00527180', 'TTHERM_01002860', 'TTHERM_01055600', 'TTHERM_00378890', 'TTHERM_00624730', 'TTHERM_00624720', 'TTHERM_01002870', 'TTHERM_00471040', 'TTHERM_00522600', 'TTHERM_00221120']\n",
    "    ))\n",
    "]"
   ]
  },
  {
   "cell_type": "code",
   "execution_count": 12,
   "metadata": {},
   "outputs": [
    {
     "data": {
      "text/plain": [
       "(14, 9)"
      ]
     },
     "execution_count": 12,
     "metadata": {},
     "output_type": "execute_result"
    }
   ],
   "source": [
    "ttherm_df.loc[\n",
    "    (ttherm_df['Unnamed: 0'].isin(\n",
    "['TTHERM_00046372', 'TTHERM_00537380', 'TTHERM_00473020', 'TTHERM_00038880', 'TTHERM_00527180', 'TTHERM_01002860', 'TTHERM_01055600', 'TTHERM_00378890', 'TTHERM_00624730', 'TTHERM_00624720', 'TTHERM_01002870', 'TTHERM_00471040', 'TTHERM_00522600', 'TTHERM_00221120'\n",
    "]\n",
    "    ))\n",
    "].shape"
   ]
  },
  {
   "cell_type": "code",
   "execution_count": 13,
   "metadata": {},
   "outputs": [
    {
     "data": {
      "text/html": [
       "<div>\n",
       "<style scoped>\n",
       "    .dataframe tbody tr th:only-of-type {\n",
       "        vertical-align: middle;\n",
       "    }\n",
       "\n",
       "    .dataframe tbody tr th {\n",
       "        vertical-align: top;\n",
       "    }\n",
       "\n",
       "    .dataframe thead th {\n",
       "        text-align: right;\n",
       "    }\n",
       "</style>\n",
       "<table border=\"1\" class=\"dataframe\">\n",
       "  <thead>\n",
       "    <tr style=\"text-align: right;\">\n",
       "      <th></th>\n",
       "      <th>Unnamed: 0</th>\n",
       "      <th>logFC</th>\n",
       "      <th>AveExpr</th>\n",
       "      <th>t</th>\n",
       "      <th>P.Value</th>\n",
       "      <th>adj.P.Val</th>\n",
       "      <th>B</th>\n",
       "      <th>negLogPValue</th>\n",
       "      <th>diff_exp_prob</th>\n",
       "    </tr>\n",
       "  </thead>\n",
       "  <tbody>\n",
       "    <tr>\n",
       "      <th>0</th>\n",
       "      <td>TTHERM_01127520</td>\n",
       "      <td>6.662691</td>\n",
       "      <td>7.776168</td>\n",
       "      <td>27.401980</td>\n",
       "      <td>1.338125e-11</td>\n",
       "      <td>1.011772e-07</td>\n",
       "      <td>18.024832</td>\n",
       "      <td>6.994917</td>\n",
       "      <td>1.000000</td>\n",
       "    </tr>\n",
       "    <tr>\n",
       "      <th>1</th>\n",
       "      <td>TTHERM_00056190</td>\n",
       "      <td>5.202193</td>\n",
       "      <td>6.263239</td>\n",
       "      <td>26.798823</td>\n",
       "      <td>1.710010e-11</td>\n",
       "      <td>1.011772e-07</td>\n",
       "      <td>17.901069</td>\n",
       "      <td>6.994917</td>\n",
       "      <td>1.000000</td>\n",
       "    </tr>\n",
       "    <tr>\n",
       "      <th>3</th>\n",
       "      <td>TTHERM_00261850</td>\n",
       "      <td>5.436875</td>\n",
       "      <td>9.935126</td>\n",
       "      <td>25.284801</td>\n",
       "      <td>3.242994e-11</td>\n",
       "      <td>1.011772e-07</td>\n",
       "      <td>17.564364</td>\n",
       "      <td>6.994917</td>\n",
       "      <td>1.000000</td>\n",
       "    </tr>\n",
       "    <tr>\n",
       "      <th>4</th>\n",
       "      <td>TTHERM_00558440</td>\n",
       "      <td>5.832609</td>\n",
       "      <td>6.506094</td>\n",
       "      <td>25.275719</td>\n",
       "      <td>3.255830e-11</td>\n",
       "      <td>1.011772e-07</td>\n",
       "      <td>17.562224</td>\n",
       "      <td>6.994917</td>\n",
       "      <td>1.000000</td>\n",
       "    </tr>\n",
       "    <tr>\n",
       "      <th>5</th>\n",
       "      <td>TTHERM_00196410</td>\n",
       "      <td>5.824968</td>\n",
       "      <td>7.576139</td>\n",
       "      <td>25.020117</td>\n",
       "      <td>3.640732e-11</td>\n",
       "      <td>1.011772e-07</td>\n",
       "      <td>17.501381</td>\n",
       "      <td>6.994917</td>\n",
       "      <td>1.000000</td>\n",
       "    </tr>\n",
       "    <tr>\n",
       "      <th>...</th>\n",
       "      <td>...</td>\n",
       "      <td>...</td>\n",
       "      <td>...</td>\n",
       "      <td>...</td>\n",
       "      <td>...</td>\n",
       "      <td>...</td>\n",
       "      <td>...</td>\n",
       "      <td>...</td>\n",
       "      <td>...</td>\n",
       "    </tr>\n",
       "    <tr>\n",
       "      <th>6932</th>\n",
       "      <td>TTHERM_00137730</td>\n",
       "      <td>0.830940</td>\n",
       "      <td>9.148884</td>\n",
       "      <td>3.661396</td>\n",
       "      <td>3.652221e-03</td>\n",
       "      <td>9.908882e-03</td>\n",
       "      <td>1.644437</td>\n",
       "      <td>2.003975</td>\n",
       "      <td>0.838138</td>\n",
       "    </tr>\n",
       "    <tr>\n",
       "      <th>6934</th>\n",
       "      <td>TTHERM_00735370</td>\n",
       "      <td>0.902300</td>\n",
       "      <td>10.088468</td>\n",
       "      <td>3.660032</td>\n",
       "      <td>3.661000e-03</td>\n",
       "      <td>9.929836e-03</td>\n",
       "      <td>1.642055</td>\n",
       "      <td>2.003058</td>\n",
       "      <td>0.837814</td>\n",
       "    </tr>\n",
       "    <tr>\n",
       "      <th>6936</th>\n",
       "      <td>TTHERM_00437590</td>\n",
       "      <td>0.933353</td>\n",
       "      <td>10.129624</td>\n",
       "      <td>3.658763</td>\n",
       "      <td>3.669193e-03</td>\n",
       "      <td>9.949188e-03</td>\n",
       "      <td>1.639838</td>\n",
       "      <td>2.002212</td>\n",
       "      <td>0.837513</td>\n",
       "    </tr>\n",
       "    <tr>\n",
       "      <th>6937</th>\n",
       "      <td>TTHERM_01055460</td>\n",
       "      <td>0.845773</td>\n",
       "      <td>7.040025</td>\n",
       "      <td>3.658476</td>\n",
       "      <td>3.671048e-03</td>\n",
       "      <td>9.952782e-03</td>\n",
       "      <td>1.639336</td>\n",
       "      <td>2.002055</td>\n",
       "      <td>0.837445</td>\n",
       "    </tr>\n",
       "    <tr>\n",
       "      <th>6940</th>\n",
       "      <td>TTHERM_00047520</td>\n",
       "      <td>0.843009</td>\n",
       "      <td>5.034699</td>\n",
       "      <td>3.656886</td>\n",
       "      <td>3.681345e-03</td>\n",
       "      <td>9.976387e-03</td>\n",
       "      <td>1.636558</td>\n",
       "      <td>2.001027</td>\n",
       "      <td>0.837066</td>\n",
       "    </tr>\n",
       "  </tbody>\n",
       "</table>\n",
       "<p>3220 rows × 9 columns</p>\n",
       "</div>"
      ],
      "text/plain": [
       "           Unnamed: 0     logFC    AveExpr          t       P.Value  \\\n",
       "0     TTHERM_01127520  6.662691   7.776168  27.401980  1.338125e-11   \n",
       "1     TTHERM_00056190  5.202193   6.263239  26.798823  1.710010e-11   \n",
       "3     TTHERM_00261850  5.436875   9.935126  25.284801  3.242994e-11   \n",
       "4     TTHERM_00558440  5.832609   6.506094  25.275719  3.255830e-11   \n",
       "5     TTHERM_00196410  5.824968   7.576139  25.020117  3.640732e-11   \n",
       "...               ...       ...        ...        ...           ...   \n",
       "6932  TTHERM_00137730  0.830940   9.148884   3.661396  3.652221e-03   \n",
       "6934  TTHERM_00735370  0.902300  10.088468   3.660032  3.661000e-03   \n",
       "6936  TTHERM_00437590  0.933353  10.129624   3.658763  3.669193e-03   \n",
       "6937  TTHERM_01055460  0.845773   7.040025   3.658476  3.671048e-03   \n",
       "6940  TTHERM_00047520  0.843009   5.034699   3.656886  3.681345e-03   \n",
       "\n",
       "         adj.P.Val          B  negLogPValue  diff_exp_prob  \n",
       "0     1.011772e-07  18.024832      6.994917       1.000000  \n",
       "1     1.011772e-07  17.901069      6.994917       1.000000  \n",
       "3     1.011772e-07  17.564364      6.994917       1.000000  \n",
       "4     1.011772e-07  17.562224      6.994917       1.000000  \n",
       "5     1.011772e-07  17.501381      6.994917       1.000000  \n",
       "...            ...        ...           ...            ...  \n",
       "6932  9.908882e-03   1.644437      2.003975       0.838138  \n",
       "6934  9.929836e-03   1.642055      2.003058       0.837814  \n",
       "6936  9.949188e-03   1.639838      2.002212       0.837513  \n",
       "6937  9.952782e-03   1.639336      2.002055       0.837445  \n",
       "6940  9.976387e-03   1.636558      2.001027       0.837066  \n",
       "\n",
       "[3220 rows x 9 columns]"
      ]
     },
     "execution_count": 13,
     "metadata": {},
     "output_type": "execute_result"
    }
   ],
   "source": [
    "FC = 1.5\n",
    "logFC = numpy.log2(FC)\n",
    "q_value = 0.01\n",
    "B = 1\n",
    "\n",
    "ttherm_df_filtered = ttherm_df.loc[\n",
    "    (ttherm_df['logFC'] > logFC)\n",
    "    &\n",
    "    (ttherm_df['adj.P.Val'] < q_value)\n",
    "    &\n",
    "    (ttherm_df['B'] > B)\n",
    "].sort_values(by=('B'), ascending=False)\n",
    "\n",
    "ttherm_df_filtered"
   ]
  },
  {
   "cell_type": "code",
   "execution_count": 14,
   "metadata": {},
   "outputs": [
    {
     "data": {
      "text/plain": [
       "1.63655776230789"
      ]
     },
     "execution_count": 14,
     "metadata": {},
     "output_type": "execute_result"
    }
   ],
   "source": [
    "np.min(ttherm_df_filtered['B'])"
   ]
  },
  {
   "cell_type": "code",
   "execution_count": 15,
   "metadata": {},
   "outputs": [
    {
     "data": {
      "text/plain": [
       "-3.03089983352944"
      ]
     },
     "execution_count": 15,
     "metadata": {},
     "output_type": "execute_result"
    }
   ],
   "source": [
    "np.min(ttherm_df['B'])"
   ]
  },
  {
   "cell_type": "code",
   "execution_count": 16,
   "metadata": {},
   "outputs": [
    {
     "data": {
      "text/plain": [
       "18.0248324152868"
      ]
     },
     "execution_count": 16,
     "metadata": {},
     "output_type": "execute_result"
    }
   ],
   "source": [
    "np.max(ttherm_df['B'])"
   ]
  },
  {
   "cell_type": "code",
   "execution_count": 17,
   "metadata": {},
   "outputs": [],
   "source": [
    "import matplotlib.pyplot as plt\n",
    "\n",
    "import bokeh\n",
    "import bokeh.plotting\n",
    "from bokeh.models import Range1d\n",
    "from bokeh.transform import linear_cmap\n",
    "\n",
    "# Define thresholds\n",
    "fold_change_threshold = logFC  # Threshold for log2 fold change\n",
    "pvalue_threshold = -np.log10(q_value)  # Threshold for p-value\n",
    "b_value_threshold = B\n",
    "\n",
    "cmap = linear_cmap(\"P\", palette='Iridescent20', low=0, high=1)\n",
    "\n",
    "# colors = np.where(\n",
    "#     (ttherm_df['logFC'] > fold_change_threshold)\n",
    "#     & \n",
    "#     (ttherm_df['negLogPValue'] > pvalue_threshold)\n",
    "#     &\n",
    "#     (ttherm_df['B'] > b_value_threshold), \n",
    "#     'red', \n",
    "#     'black'\n",
    "# )\n",
    "x = ttherm_df['logFC'].values\n",
    "y = ttherm_df['negLogPValue'].values\n",
    "B = ttherm_df['B'].values\n",
    "P = ttherm_df['diff_exp_prob'].values\n",
    "source = bokeh.models.ColumnDataSource(dict(x=x, y=y, P=P))\n",
    "\n",
    "fig = bokeh.plotting.figure(width=600, \n",
    "                            height=400, \n",
    "                            title='Differential upregulation after stimulated secretion',\n",
    "                            x_axis_label='log2 fold-change: log2(∆wt/∆mut)',\n",
    "                            y_axis_label='-log10(q-value) (BH-adjusted)')\n",
    "\n",
    "c = fig.circle('x',\n",
    "               'y', \n",
    "               alpha=0.5,\n",
    "               line_alpha=1,\n",
    "               size=4,\n",
    "               source=source,\n",
    "               color=cmap\n",
    "              )\n",
    "\n",
    "color_bar = c.construct_color_bar(title='Posterior probability of differential expression')\n",
    "\n",
    "fig.add_layout(color_bar, 'right')\n",
    "\n",
    "fig.line([fold_change_threshold, fold_change_threshold], [-0.5, 8], color='tomato', line_width=2, line_dash='dashed')\n",
    "fig.line([-11, 11], [pvalue_threshold, pvalue_threshold], color='tomato', line_width=2, line_dash='dashed')\n",
    "\n",
    "    \n",
    "fig.x_range = Range1d(-10, 10)\n",
    "fig.y_range = Range1d(-0.3, 7.3)\n",
    "\n",
    "\n",
    "bokeh.plotting.show(fig)\n",
    "\n",
    "\n",
    "\n",
    "# # Create a new figure\n",
    "# plt.figure(figsize=(7, 5))\n",
    "\n",
    "# # Scatter plot: points with different colors for significance\n",
    "# # Color significant points differently\n",
    "# colors = np.where(\n",
    "#     (ttherm_df['logFC'] > fold_change_threshold)\n",
    "#     & \n",
    "#     (ttherm_df['negLogPValue'] > pvalue_threshold)\n",
    "#     & \n",
    "#     (ttherm_df['B'] > B), \n",
    "#     'red', \n",
    "#     'black'\n",
    "# )\n",
    "\n",
    "# plt.scatter(\n",
    "#     ttherm_df['logFC'], \n",
    "#     ttherm_df['negLogPValue'], \n",
    "#     c=colors, \n",
    "#     alpha=0.1,\n",
    "#     s=10\n",
    "# )\n",
    "\n",
    "# # Add labels and title\n",
    "# plt.title('Volcano Plot')\n",
    "# plt.xlabel('Log2 Fold Change')\n",
    "# plt.ylabel('-Log10(p-value)')\n",
    "\n",
    "# # Add horizontal and vertical threshold lines\n",
    "# plt.axhline(y=pvalue_threshold, color='blue', linestyle='--')\n",
    "# plt.axvline(x=fold_change_threshold, color='blue', linestyle='--')\n",
    "\n",
    "# # # Annotate significant genes\n",
    "# # for i, row in ttherm_df.iterrows():\n",
    "# #     if (abs(row['log2FoldChange']) >= fold_change_threshold) and (row['pvalue'] <= pvalue_threshold):\n",
    "# #         plt.text(\n",
    "# #             row['log2FoldChange'], \n",
    "# #             row['-log10(pvalue)'], \n",
    "# #             row['Gene'], \n",
    "# #             fontsize=8,\n",
    "# #             ha='right'\n",
    "# #         )\n",
    "\n",
    "# # Save the figure as an SVG file\n",
    "# plt.savefig('regranulation_volcano_plot.svg', format='svg')\n",
    "\n",
    "# # Show the plot\n",
    "# plt.show()"
   ]
  },
  {
   "cell_type": "code",
   "execution_count": 18,
   "metadata": {},
   "outputs": [
    {
     "data": {
      "text/plain": [
       "0.670577975102441"
      ]
     },
     "execution_count": 18,
     "metadata": {},
     "output_type": "execute_result"
    }
   ],
   "source": [
    "np.min(ttherm_df_filtered['logFC'])"
   ]
  },
  {
   "cell_type": "code",
   "execution_count": 19,
   "metadata": {},
   "outputs": [
    {
     "data": {
      "text/plain": [
       "1.5910729675098374"
      ]
     },
     "execution_count": 19,
     "metadata": {},
     "output_type": "execute_result"
    }
   ],
   "source": [
    "2**0.67"
   ]
  },
  {
   "cell_type": "code",
   "execution_count": 20,
   "metadata": {},
   "outputs": [],
   "source": [
    "ttherm_df_filtered.to_csv(f'./de_regranulation_FC_{FC}_q_value_{q_value}_B_{B}.csv', index=False)"
   ]
  },
  {
   "cell_type": "code",
   "execution_count": 21,
   "metadata": {},
   "outputs": [],
   "source": [
    "muco_exp_list = [\n",
    "\"TTHERM_00052190\",\n",
    "\"TTHERM_00011710\",\n",
    "\"TTHERM_00321680\",\n",
    "\"TTHERM_00445920\",\n",
    "\"TTHERM_00410180\",\n",
    "\"TTHERM_00410210\",\n",
    "\"TTHERM_00313130\",\n",
    "\"TTHERM_00013410\",\n",
    "\"TTHERM_00527180\",\n",
    "\"TTHERM_00624730\",\n",
    "\"TTHERM_00624720\",\n",
    "\"TTHERM_00378890\",\n",
    "\"TTHERM_00522600\",\n",
    "\"TTHERM_01055600\",\n",
    "\"TTHERM_00558350\",\n",
    "\"TTHERM_00221120\",\n",
    "\"TTHERM_00572100\",\n",
    "\"TTHERM_00420770\",\n",
    "\"TTHERM_00566910\",\n",
    "\"TTHERM_00658810\",\n",
    "\"TTHERM_00047330\",\n",
    "\"TTHERM_00193465\",\n",
    "\"TTHERM_00486275\",\n",
    "\"TTHERM_00141040\",\n",
    "\"TTHERM_00227750\",\n",
    "\"TTHERM_00317390\",\n",
    "\"TTHERM_00670750\",\n",
    "\"TTHERM_01122800\",\n",
    "\"TTHERM_01213910\",\n",
    "\"TTHERM_00886960\",\n",
    "\"TTHERM_01287970\",\n",
    "\"TTHERM_00498010\",\n",
    "\"TTHERM_00290710\",\n",
    "]"
   ]
  },
  {
   "cell_type": "code",
   "execution_count": 22,
   "metadata": {},
   "outputs": [
    {
     "data": {
      "text/plain": [
       "33"
      ]
     },
     "execution_count": 22,
     "metadata": {},
     "output_type": "execute_result"
    }
   ],
   "source": [
    "len(muco_exp_list)"
   ]
  },
  {
   "cell_type": "code",
   "execution_count": 23,
   "metadata": {},
   "outputs": [],
   "source": [
    "de_regranulation_df = pd.read_csv(f'./de_regranulation_FC_{FC}_q_value_{q_value}_B_{B}.csv')"
   ]
  },
  {
   "cell_type": "code",
   "execution_count": 24,
   "metadata": {},
   "outputs": [],
   "source": [
    "de_muco = list(set(list(de_regranulation_df['Unnamed: 0'].values)).intersection(set(muco_exp_list)))\n",
    "de = list(set(list(de_regranulation_df['Unnamed: 0'].values)) - set(muco_exp_list))\n",
    "muco = list(set(muco_exp_list) - set(list(de_regranulation_df['Unnamed: 0'].values)))"
   ]
  },
  {
   "cell_type": "code",
   "execution_count": 25,
   "metadata": {},
   "outputs": [],
   "source": [
    "de_regranulation_annot_df = pd.DataFrame({\n",
    "    'TTHERM_ID': de_muco + de + muco,\n",
    "    'mucocysts': ['DE,EV' for _ in range(len(de_muco))] + ['DE' for _ in range(len(de))] + ['EV' for _ in range(len(muco))],\n",
    "    })"
   ]
  },
  {
   "cell_type": "code",
   "execution_count": 26,
   "metadata": {},
   "outputs": [
    {
     "data": {
      "text/html": [
       "<div>\n",
       "<style scoped>\n",
       "    .dataframe tbody tr th:only-of-type {\n",
       "        vertical-align: middle;\n",
       "    }\n",
       "\n",
       "    .dataframe tbody tr th {\n",
       "        vertical-align: top;\n",
       "    }\n",
       "\n",
       "    .dataframe thead th {\n",
       "        text-align: right;\n",
       "    }\n",
       "</style>\n",
       "<table border=\"1\" class=\"dataframe\">\n",
       "  <thead>\n",
       "    <tr style=\"text-align: right;\">\n",
       "      <th></th>\n",
       "      <th>TTHERM_ID</th>\n",
       "      <th>mucocysts</th>\n",
       "    </tr>\n",
       "  </thead>\n",
       "  <tbody>\n",
       "    <tr>\n",
       "      <th>0</th>\n",
       "      <td>TTHERM_00572100</td>\n",
       "      <td>DE,EV</td>\n",
       "    </tr>\n",
       "    <tr>\n",
       "      <th>1</th>\n",
       "      <td>TTHERM_00486275</td>\n",
       "      <td>DE,EV</td>\n",
       "    </tr>\n",
       "    <tr>\n",
       "      <th>2</th>\n",
       "      <td>TTHERM_00141040</td>\n",
       "      <td>DE,EV</td>\n",
       "    </tr>\n",
       "    <tr>\n",
       "      <th>3</th>\n",
       "      <td>TTHERM_00420770</td>\n",
       "      <td>DE,EV</td>\n",
       "    </tr>\n",
       "    <tr>\n",
       "      <th>4</th>\n",
       "      <td>TTHERM_00558350</td>\n",
       "      <td>DE,EV</td>\n",
       "    </tr>\n",
       "    <tr>\n",
       "      <th>...</th>\n",
       "      <td>...</td>\n",
       "      <td>...</td>\n",
       "    </tr>\n",
       "    <tr>\n",
       "      <th>3222</th>\n",
       "      <td>TTHERM_00522600</td>\n",
       "      <td>EV</td>\n",
       "    </tr>\n",
       "    <tr>\n",
       "      <th>3223</th>\n",
       "      <td>TTHERM_01055600</td>\n",
       "      <td>EV</td>\n",
       "    </tr>\n",
       "    <tr>\n",
       "      <th>3224</th>\n",
       "      <td>TTHERM_00624730</td>\n",
       "      <td>EV</td>\n",
       "    </tr>\n",
       "    <tr>\n",
       "      <th>3225</th>\n",
       "      <td>TTHERM_00527180</td>\n",
       "      <td>EV</td>\n",
       "    </tr>\n",
       "    <tr>\n",
       "      <th>3226</th>\n",
       "      <td>TTHERM_00221120</td>\n",
       "      <td>EV</td>\n",
       "    </tr>\n",
       "  </tbody>\n",
       "</table>\n",
       "<p>3227 rows × 2 columns</p>\n",
       "</div>"
      ],
      "text/plain": [
       "            TTHERM_ID mucocysts\n",
       "0     TTHERM_00572100     DE,EV\n",
       "1     TTHERM_00486275     DE,EV\n",
       "2     TTHERM_00141040     DE,EV\n",
       "3     TTHERM_00420770     DE,EV\n",
       "4     TTHERM_00558350     DE,EV\n",
       "...               ...       ...\n",
       "3222  TTHERM_00522600        EV\n",
       "3223  TTHERM_01055600        EV\n",
       "3224  TTHERM_00624730        EV\n",
       "3225  TTHERM_00527180        EV\n",
       "3226  TTHERM_00221120        EV\n",
       "\n",
       "[3227 rows x 2 columns]"
      ]
     },
     "execution_count": 26,
     "metadata": {},
     "output_type": "execute_result"
    }
   ],
   "source": [
    "de_regranulation_annot_df"
   ]
  },
  {
   "cell_type": "code",
   "execution_count": 27,
   "metadata": {},
   "outputs": [],
   "source": [
    "modified_annotation = pd.read_csv('../active_files/complete_annotation.csv')\n",
    "modified_annotation_no_muco = modified_annotation.copy()"
   ]
  },
  {
   "cell_type": "code",
   "execution_count": 28,
   "metadata": {},
   "outputs": [
    {
     "data": {
      "text/html": [
       "<div>\n",
       "<style scoped>\n",
       "    .dataframe tbody tr th:only-of-type {\n",
       "        vertical-align: middle;\n",
       "    }\n",
       "\n",
       "    .dataframe tbody tr th {\n",
       "        vertical-align: top;\n",
       "    }\n",
       "\n",
       "    .dataframe thead th {\n",
       "        text-align: right;\n",
       "    }\n",
       "</style>\n",
       "<table border=\"1\" class=\"dataframe\">\n",
       "  <thead>\n",
       "    <tr style=\"text-align: right;\">\n",
       "      <th></th>\n",
       "      <th>TTHERM_ID</th>\n",
       "      <th>seed_ortholog</th>\n",
       "      <th>evalue</th>\n",
       "      <th>score</th>\n",
       "      <th>eggNOG_OGs</th>\n",
       "      <th>max_annot_lvl</th>\n",
       "      <th>COG_category</th>\n",
       "      <th>Description</th>\n",
       "      <th>Preferred_name</th>\n",
       "      <th>GOs</th>\n",
       "      <th>...</th>\n",
       "      <th>BRITE</th>\n",
       "      <th>KEGG_TC</th>\n",
       "      <th>CAZy</th>\n",
       "      <th>BiGG_Reaction</th>\n",
       "      <th>PFAMs</th>\n",
       "      <th>TGD2021_description</th>\n",
       "      <th>peptide</th>\n",
       "      <th>common_name</th>\n",
       "      <th>InterPro</th>\n",
       "      <th>InterPro_description</th>\n",
       "    </tr>\n",
       "  </thead>\n",
       "  <tbody>\n",
       "    <tr>\n",
       "      <th>0</th>\n",
       "      <td>TTHERM_00840110</td>\n",
       "      <td>5911.EAS05042</td>\n",
       "      <td>0.0</td>\n",
       "      <td>1278.5</td>\n",
       "      <td>2E5M0@1|root,2SCE9@2759|Eukaryota,3ZEBN@5878|C...</td>\n",
       "      <td>5878|Ciliophora</td>\n",
       "      <td>-</td>\n",
       "      <td>-</td>\n",
       "      <td>-</td>\n",
       "      <td>-</td>\n",
       "      <td>...</td>\n",
       "      <td>-</td>\n",
       "      <td>-</td>\n",
       "      <td>-</td>\n",
       "      <td>-</td>\n",
       "      <td>-</td>\n",
       "      <td>hypothetical protein</td>\n",
       "      <td>MISSNQTADQENKVENKVANAEHVNQQSYDSIPQSLSPAVIAQIMD...</td>\n",
       "      <td>Unnamed</td>\n",
       "      <td>-</td>\n",
       "      <td>-</td>\n",
       "    </tr>\n",
       "    <tr>\n",
       "      <th>1</th>\n",
       "      <td>TTHERM_01082930</td>\n",
       "      <td>31033.ENSTRUP00000031008</td>\n",
       "      <td>1.9999999999999997e-28</td>\n",
       "      <td>94.2</td>\n",
       "      <td>COG5078@1|root,KOG0418@2759|Eukaryota,38KYZ@33...</td>\n",
       "      <td>33208|Metazoa</td>\n",
       "      <td>O</td>\n",
       "      <td>Belongs to the ubiquitin-conjugating enzyme fa...</td>\n",
       "      <td>UBE2K</td>\n",
       "      <td>GO:0000209,GO:0003674,GO:0003824,GO:0004842,GO...</td>\n",
       "      <td>...</td>\n",
       "      <td>ko00000,ko00001,ko01000,ko04121</td>\n",
       "      <td>-</td>\n",
       "      <td>-</td>\n",
       "      <td>-</td>\n",
       "      <td>UBA,UQ_con</td>\n",
       "      <td>ubiquitin-conjugating enzyme E2</td>\n",
       "      <td>MHKNILIILFQIFCCQIYTTIYTFYYFMANIVFIIHNVKLDLFSCF...</td>\n",
       "      <td>Unnamed</td>\n",
       "      <td>IPR000608,IPR016135,IPR023313,IPR050113</td>\n",
       "      <td>Ubiquitin-conjugating enzyme E2,Ubiquitin-conj...</td>\n",
       "    </tr>\n",
       "    <tr>\n",
       "      <th>2</th>\n",
       "      <td>TTHERM_01081610</td>\n",
       "      <td>5911.EAR82090</td>\n",
       "      <td>0.0</td>\n",
       "      <td>2110.7</td>\n",
       "      <td>2A5FX@1|root,2RY9I@2759|Eukaryota</td>\n",
       "      <td>2759|Eukaryota</td>\n",
       "      <td>-</td>\n",
       "      <td>-</td>\n",
       "      <td>-</td>\n",
       "      <td>-</td>\n",
       "      <td>...</td>\n",
       "      <td>-</td>\n",
       "      <td>-</td>\n",
       "      <td>-</td>\n",
       "      <td>-</td>\n",
       "      <td>PRESAN</td>\n",
       "      <td>transmembrane protein putative</td>\n",
       "      <td>MSSQSPAKLNNQNCAAANQYYNDLESCVQGYCIKQQSGSGARGCFP...</td>\n",
       "      <td>Unnamed</td>\n",
       "      <td>-</td>\n",
       "      <td>-</td>\n",
       "    </tr>\n",
       "    <tr>\n",
       "      <th>3</th>\n",
       "      <td>TTHERM_00059210</td>\n",
       "      <td>5911.EAR87408</td>\n",
       "      <td>3.2999999999999998e-298</td>\n",
       "      <td>983.9</td>\n",
       "      <td>COG0575@1|root,KOG1440@2759|Eukaryota,3ZAR9@58...</td>\n",
       "      <td>5878|Ciliophora</td>\n",
       "      <td>I</td>\n",
       "      <td>Cytidylyltransferase family</td>\n",
       "      <td>-</td>\n",
       "      <td>-</td>\n",
       "      <td>...</td>\n",
       "      <td>ko00000,ko00001,ko00002,ko01000</td>\n",
       "      <td>-</td>\n",
       "      <td>-</td>\n",
       "      <td>-</td>\n",
       "      <td>CTP_transf_1</td>\n",
       "      <td>phosphatidate cytidylyltransferase</td>\n",
       "      <td>MSQVTNRSQKKSHQKRDEKSEEDSSDEKTDDFSEEELDKLQEAQKK...</td>\n",
       "      <td>Unnamed</td>\n",
       "      <td>IPR000374,IPR016720</td>\n",
       "      <td>Phosphatidate cytidylyltransferase,Phosphatida...</td>\n",
       "    </tr>\n",
       "    <tr>\n",
       "      <th>4</th>\n",
       "      <td>TTHERM_00535200</td>\n",
       "      <td>5911.EAS03184</td>\n",
       "      <td>0.0</td>\n",
       "      <td>2448.3</td>\n",
       "      <td>2E77S@1|root,2SDUU@2759|Eukaryota</td>\n",
       "      <td>5911.EAS03184|-</td>\n",
       "      <td>S</td>\n",
       "      <td>Src homology 3 domains</td>\n",
       "      <td>-</td>\n",
       "      <td>-</td>\n",
       "      <td>...</td>\n",
       "      <td>-</td>\n",
       "      <td>-</td>\n",
       "      <td>-</td>\n",
       "      <td>-</td>\n",
       "      <td>-</td>\n",
       "      <td>beta-Pak interactive eXchange factor Src-like ...</td>\n",
       "      <td>MFTKSNSRSALAGLNSIVNSQNDSLTSRAQHQNYAKKDLTISNSTS...</td>\n",
       "      <td>Unnamed</td>\n",
       "      <td>IPR001452,IPR036028,IPR051569</td>\n",
       "      <td>SH3 domain,SH3-like domain superfamily,SH3 and...</td>\n",
       "    </tr>\n",
       "  </tbody>\n",
       "</table>\n",
       "<p>5 rows × 26 columns</p>\n",
       "</div>"
      ],
      "text/plain": [
       "         TTHERM_ID             seed_ortholog                   evalue   score  \\\n",
       "0  TTHERM_00840110             5911.EAS05042                      0.0  1278.5   \n",
       "1  TTHERM_01082930  31033.ENSTRUP00000031008   1.9999999999999997e-28    94.2   \n",
       "2  TTHERM_01081610             5911.EAR82090                      0.0  2110.7   \n",
       "3  TTHERM_00059210             5911.EAR87408  3.2999999999999998e-298   983.9   \n",
       "4  TTHERM_00535200             5911.EAS03184                      0.0  2448.3   \n",
       "\n",
       "                                          eggNOG_OGs    max_annot_lvl  \\\n",
       "0  2E5M0@1|root,2SCE9@2759|Eukaryota,3ZEBN@5878|C...  5878|Ciliophora   \n",
       "1  COG5078@1|root,KOG0418@2759|Eukaryota,38KYZ@33...    33208|Metazoa   \n",
       "2                  2A5FX@1|root,2RY9I@2759|Eukaryota   2759|Eukaryota   \n",
       "3  COG0575@1|root,KOG1440@2759|Eukaryota,3ZAR9@58...  5878|Ciliophora   \n",
       "4                  2E77S@1|root,2SDUU@2759|Eukaryota  5911.EAS03184|-   \n",
       "\n",
       "  COG_category                                        Description  \\\n",
       "0            -                                                  -   \n",
       "1            O  Belongs to the ubiquitin-conjugating enzyme fa...   \n",
       "2            -                                                  -   \n",
       "3            I                        Cytidylyltransferase family   \n",
       "4            S                             Src homology 3 domains   \n",
       "\n",
       "  Preferred_name                                                GOs  ...  \\\n",
       "0              -                                                  -  ...   \n",
       "1          UBE2K  GO:0000209,GO:0003674,GO:0003824,GO:0004842,GO...  ...   \n",
       "2              -                                                  -  ...   \n",
       "3              -                                                  -  ...   \n",
       "4              -                                                  -  ...   \n",
       "\n",
       "                             BRITE KEGG_TC CAZy BiGG_Reaction         PFAMs  \\\n",
       "0                                -       -    -             -             -   \n",
       "1  ko00000,ko00001,ko01000,ko04121       -    -             -    UBA,UQ_con   \n",
       "2                                -       -    -             -        PRESAN   \n",
       "3  ko00000,ko00001,ko00002,ko01000       -    -             -  CTP_transf_1   \n",
       "4                                -       -    -             -             -   \n",
       "\n",
       "                                 TGD2021_description  \\\n",
       "0                               hypothetical protein   \n",
       "1                    ubiquitin-conjugating enzyme E2   \n",
       "2                     transmembrane protein putative   \n",
       "3                 phosphatidate cytidylyltransferase   \n",
       "4  beta-Pak interactive eXchange factor Src-like ...   \n",
       "\n",
       "                                             peptide common_name  \\\n",
       "0  MISSNQTADQENKVENKVANAEHVNQQSYDSIPQSLSPAVIAQIMD...     Unnamed   \n",
       "1  MHKNILIILFQIFCCQIYTTIYTFYYFMANIVFIIHNVKLDLFSCF...     Unnamed   \n",
       "2  MSSQSPAKLNNQNCAAANQYYNDLESCVQGYCIKQQSGSGARGCFP...     Unnamed   \n",
       "3  MSQVTNRSQKKSHQKRDEKSEEDSSDEKTDDFSEEELDKLQEAQKK...     Unnamed   \n",
       "4  MFTKSNSRSALAGLNSIVNSQNDSLTSRAQHQNYAKKDLTISNSTS...     Unnamed   \n",
       "\n",
       "                                  InterPro  \\\n",
       "0                                        -   \n",
       "1  IPR000608,IPR016135,IPR023313,IPR050113   \n",
       "2                                        -   \n",
       "3                      IPR000374,IPR016720   \n",
       "4            IPR001452,IPR036028,IPR051569   \n",
       "\n",
       "                                InterPro_description  \n",
       "0                                                  -  \n",
       "1  Ubiquitin-conjugating enzyme E2,Ubiquitin-conj...  \n",
       "2                                                  -  \n",
       "3  Phosphatidate cytidylyltransferase,Phosphatida...  \n",
       "4  SH3 domain,SH3-like domain superfamily,SH3 and...  \n",
       "\n",
       "[5 rows x 26 columns]"
      ]
     },
     "execution_count": 28,
     "metadata": {},
     "output_type": "execute_result"
    }
   ],
   "source": [
    "modified_annotation.head()"
   ]
  },
  {
   "cell_type": "code",
   "execution_count": 29,
   "metadata": {},
   "outputs": [
    {
     "data": {
      "text/html": [
       "<div>\n",
       "<style scoped>\n",
       "    .dataframe tbody tr th:only-of-type {\n",
       "        vertical-align: middle;\n",
       "    }\n",
       "\n",
       "    .dataframe tbody tr th {\n",
       "        vertical-align: top;\n",
       "    }\n",
       "\n",
       "    .dataframe thead th {\n",
       "        text-align: right;\n",
       "    }\n",
       "</style>\n",
       "<table border=\"1\" class=\"dataframe\">\n",
       "  <thead>\n",
       "    <tr style=\"text-align: right;\">\n",
       "      <th></th>\n",
       "      <th>TTHERM_ID</th>\n",
       "      <th>seed_ortholog</th>\n",
       "      <th>evalue</th>\n",
       "      <th>score</th>\n",
       "      <th>eggNOG_OGs</th>\n",
       "      <th>max_annot_lvl</th>\n",
       "      <th>COG_category</th>\n",
       "      <th>Description</th>\n",
       "      <th>Preferred_name</th>\n",
       "      <th>GOs</th>\n",
       "      <th>...</th>\n",
       "      <th>KEGG_TC</th>\n",
       "      <th>CAZy</th>\n",
       "      <th>BiGG_Reaction</th>\n",
       "      <th>PFAMs</th>\n",
       "      <th>TGD2021_description</th>\n",
       "      <th>peptide</th>\n",
       "      <th>common_name</th>\n",
       "      <th>InterPro</th>\n",
       "      <th>InterPro_description</th>\n",
       "      <th>mucocysts</th>\n",
       "    </tr>\n",
       "  </thead>\n",
       "  <tbody>\n",
       "    <tr>\n",
       "      <th>0</th>\n",
       "      <td>TTHERM_00840110</td>\n",
       "      <td>5911.EAS05042</td>\n",
       "      <td>0.0</td>\n",
       "      <td>1278.5</td>\n",
       "      <td>2E5M0@1|root,2SCE9@2759|Eukaryota,3ZEBN@5878|C...</td>\n",
       "      <td>5878|Ciliophora</td>\n",
       "      <td>-</td>\n",
       "      <td>-</td>\n",
       "      <td>-</td>\n",
       "      <td>-</td>\n",
       "      <td>...</td>\n",
       "      <td>-</td>\n",
       "      <td>-</td>\n",
       "      <td>-</td>\n",
       "      <td>-</td>\n",
       "      <td>hypothetical protein</td>\n",
       "      <td>MISSNQTADQENKVENKVANAEHVNQQSYDSIPQSLSPAVIAQIMD...</td>\n",
       "      <td>Unnamed</td>\n",
       "      <td>-</td>\n",
       "      <td>-</td>\n",
       "      <td>NaN</td>\n",
       "    </tr>\n",
       "    <tr>\n",
       "      <th>1</th>\n",
       "      <td>TTHERM_01082930</td>\n",
       "      <td>31033.ENSTRUP00000031008</td>\n",
       "      <td>1.9999999999999997e-28</td>\n",
       "      <td>94.2</td>\n",
       "      <td>COG5078@1|root,KOG0418@2759|Eukaryota,38KYZ@33...</td>\n",
       "      <td>33208|Metazoa</td>\n",
       "      <td>O</td>\n",
       "      <td>Belongs to the ubiquitin-conjugating enzyme fa...</td>\n",
       "      <td>UBE2K</td>\n",
       "      <td>GO:0000209,GO:0003674,GO:0003824,GO:0004842,GO...</td>\n",
       "      <td>...</td>\n",
       "      <td>-</td>\n",
       "      <td>-</td>\n",
       "      <td>-</td>\n",
       "      <td>UBA,UQ_con</td>\n",
       "      <td>ubiquitin-conjugating enzyme E2</td>\n",
       "      <td>MHKNILIILFQIFCCQIYTTIYTFYYFMANIVFIIHNVKLDLFSCF...</td>\n",
       "      <td>Unnamed</td>\n",
       "      <td>IPR000608,IPR016135,IPR023313,IPR050113</td>\n",
       "      <td>Ubiquitin-conjugating enzyme E2,Ubiquitin-conj...</td>\n",
       "      <td>NaN</td>\n",
       "    </tr>\n",
       "    <tr>\n",
       "      <th>2</th>\n",
       "      <td>TTHERM_01081610</td>\n",
       "      <td>5911.EAR82090</td>\n",
       "      <td>0.0</td>\n",
       "      <td>2110.7</td>\n",
       "      <td>2A5FX@1|root,2RY9I@2759|Eukaryota</td>\n",
       "      <td>2759|Eukaryota</td>\n",
       "      <td>-</td>\n",
       "      <td>-</td>\n",
       "      <td>-</td>\n",
       "      <td>-</td>\n",
       "      <td>...</td>\n",
       "      <td>-</td>\n",
       "      <td>-</td>\n",
       "      <td>-</td>\n",
       "      <td>PRESAN</td>\n",
       "      <td>transmembrane protein putative</td>\n",
       "      <td>MSSQSPAKLNNQNCAAANQYYNDLESCVQGYCIKQQSGSGARGCFP...</td>\n",
       "      <td>Unnamed</td>\n",
       "      <td>-</td>\n",
       "      <td>-</td>\n",
       "      <td>NaN</td>\n",
       "    </tr>\n",
       "    <tr>\n",
       "      <th>3</th>\n",
       "      <td>TTHERM_00059210</td>\n",
       "      <td>5911.EAR87408</td>\n",
       "      <td>3.2999999999999998e-298</td>\n",
       "      <td>983.9</td>\n",
       "      <td>COG0575@1|root,KOG1440@2759|Eukaryota,3ZAR9@58...</td>\n",
       "      <td>5878|Ciliophora</td>\n",
       "      <td>I</td>\n",
       "      <td>Cytidylyltransferase family</td>\n",
       "      <td>-</td>\n",
       "      <td>-</td>\n",
       "      <td>...</td>\n",
       "      <td>-</td>\n",
       "      <td>-</td>\n",
       "      <td>-</td>\n",
       "      <td>CTP_transf_1</td>\n",
       "      <td>phosphatidate cytidylyltransferase</td>\n",
       "      <td>MSQVTNRSQKKSHQKRDEKSEEDSSDEKTDDFSEEELDKLQEAQKK...</td>\n",
       "      <td>Unnamed</td>\n",
       "      <td>IPR000374,IPR016720</td>\n",
       "      <td>Phosphatidate cytidylyltransferase,Phosphatida...</td>\n",
       "      <td>NaN</td>\n",
       "    </tr>\n",
       "    <tr>\n",
       "      <th>4</th>\n",
       "      <td>TTHERM_00535200</td>\n",
       "      <td>5911.EAS03184</td>\n",
       "      <td>0.0</td>\n",
       "      <td>2448.3</td>\n",
       "      <td>2E77S@1|root,2SDUU@2759|Eukaryota</td>\n",
       "      <td>5911.EAS03184|-</td>\n",
       "      <td>S</td>\n",
       "      <td>Src homology 3 domains</td>\n",
       "      <td>-</td>\n",
       "      <td>-</td>\n",
       "      <td>...</td>\n",
       "      <td>-</td>\n",
       "      <td>-</td>\n",
       "      <td>-</td>\n",
       "      <td>-</td>\n",
       "      <td>beta-Pak interactive eXchange factor Src-like ...</td>\n",
       "      <td>MFTKSNSRSALAGLNSIVNSQNDSLTSRAQHQNYAKKDLTISNSTS...</td>\n",
       "      <td>Unnamed</td>\n",
       "      <td>IPR001452,IPR036028,IPR051569</td>\n",
       "      <td>SH3 domain,SH3-like domain superfamily,SH3 and...</td>\n",
       "      <td>NaN</td>\n",
       "    </tr>\n",
       "    <tr>\n",
       "      <th>...</th>\n",
       "      <td>...</td>\n",
       "      <td>...</td>\n",
       "      <td>...</td>\n",
       "      <td>...</td>\n",
       "      <td>...</td>\n",
       "      <td>...</td>\n",
       "      <td>...</td>\n",
       "      <td>...</td>\n",
       "      <td>...</td>\n",
       "      <td>...</td>\n",
       "      <td>...</td>\n",
       "      <td>...</td>\n",
       "      <td>...</td>\n",
       "      <td>...</td>\n",
       "      <td>...</td>\n",
       "      <td>...</td>\n",
       "      <td>...</td>\n",
       "      <td>...</td>\n",
       "      <td>...</td>\n",
       "      <td>...</td>\n",
       "      <td>...</td>\n",
       "    </tr>\n",
       "    <tr>\n",
       "      <th>26682</th>\n",
       "      <td>TTHERM_00657320</td>\n",
       "      <td>-</td>\n",
       "      <td>-</td>\n",
       "      <td>-</td>\n",
       "      <td>-</td>\n",
       "      <td>-</td>\n",
       "      <td>-</td>\n",
       "      <td>-</td>\n",
       "      <td>-</td>\n",
       "      <td>-</td>\n",
       "      <td>...</td>\n",
       "      <td>-</td>\n",
       "      <td>-</td>\n",
       "      <td>-</td>\n",
       "      <td>-</td>\n",
       "      <td>-</td>\n",
       "      <td>MNIIQKLVCINQNKQNDIYVDIKRDLQSYLILEIQPEFSRQIGDLQ...</td>\n",
       "      <td>Unnamed</td>\n",
       "      <td>-</td>\n",
       "      <td>-</td>\n",
       "      <td>NaN</td>\n",
       "    </tr>\n",
       "    <tr>\n",
       "      <th>26683</th>\n",
       "      <td>TTHERM_00656000</td>\n",
       "      <td>-</td>\n",
       "      <td>-</td>\n",
       "      <td>-</td>\n",
       "      <td>-</td>\n",
       "      <td>-</td>\n",
       "      <td>-</td>\n",
       "      <td>-</td>\n",
       "      <td>-</td>\n",
       "      <td>-</td>\n",
       "      <td>...</td>\n",
       "      <td>-</td>\n",
       "      <td>-</td>\n",
       "      <td>-</td>\n",
       "      <td>-</td>\n",
       "      <td>hypothetical protein</td>\n",
       "      <td>MFQVSRNIKYLQAISNKVVLQNAQFHLFNFQKFDLSTINKDETTRN...</td>\n",
       "      <td>Unnamed</td>\n",
       "      <td>-</td>\n",
       "      <td>-</td>\n",
       "      <td>NaN</td>\n",
       "    </tr>\n",
       "    <tr>\n",
       "      <th>26684</th>\n",
       "      <td>TTHERM_00989420</td>\n",
       "      <td>-</td>\n",
       "      <td>-</td>\n",
       "      <td>-</td>\n",
       "      <td>-</td>\n",
       "      <td>-</td>\n",
       "      <td>-</td>\n",
       "      <td>-</td>\n",
       "      <td>-</td>\n",
       "      <td>-</td>\n",
       "      <td>...</td>\n",
       "      <td>-</td>\n",
       "      <td>-</td>\n",
       "      <td>-</td>\n",
       "      <td>-</td>\n",
       "      <td>Nucleotide-binding oligomerization domain-cont...</td>\n",
       "      <td>MIPPSKRIDFGRNIVPTQFLPKDGYKARNLKTEAAQQLTENKRYQT...</td>\n",
       "      <td>Unnamed</td>\n",
       "      <td>-</td>\n",
       "      <td>-</td>\n",
       "      <td>NaN</td>\n",
       "    </tr>\n",
       "    <tr>\n",
       "      <th>26685</th>\n",
       "      <td>TTHERM_01245650</td>\n",
       "      <td>-</td>\n",
       "      <td>-</td>\n",
       "      <td>-</td>\n",
       "      <td>-</td>\n",
       "      <td>-</td>\n",
       "      <td>-</td>\n",
       "      <td>-</td>\n",
       "      <td>-</td>\n",
       "      <td>-</td>\n",
       "      <td>...</td>\n",
       "      <td>-</td>\n",
       "      <td>-</td>\n",
       "      <td>-</td>\n",
       "      <td>-</td>\n",
       "      <td>transmembrane protein putative</td>\n",
       "      <td>MLFNQQFLIFSQIINQSCSNLQMTSPKKKKGQTLKNSYKKTGLRTS...</td>\n",
       "      <td>Unnamed</td>\n",
       "      <td>-</td>\n",
       "      <td>-</td>\n",
       "      <td>NaN</td>\n",
       "    </tr>\n",
       "    <tr>\n",
       "      <th>26686</th>\n",
       "      <td>TTHERM_00126960</td>\n",
       "      <td>-</td>\n",
       "      <td>-</td>\n",
       "      <td>-</td>\n",
       "      <td>-</td>\n",
       "      <td>-</td>\n",
       "      <td>-</td>\n",
       "      <td>-</td>\n",
       "      <td>-</td>\n",
       "      <td>-</td>\n",
       "      <td>...</td>\n",
       "      <td>-</td>\n",
       "      <td>-</td>\n",
       "      <td>-</td>\n",
       "      <td>-</td>\n",
       "      <td>-</td>\n",
       "      <td>MDQYTQLENLDFAYFQNTISSQQNIKNLSIVFLFLSFQKIICLGMY...</td>\n",
       "      <td>Unnamed</td>\n",
       "      <td>-</td>\n",
       "      <td>-</td>\n",
       "      <td>NaN</td>\n",
       "    </tr>\n",
       "  </tbody>\n",
       "</table>\n",
       "<p>26687 rows × 27 columns</p>\n",
       "</div>"
      ],
      "text/plain": [
       "             TTHERM_ID             seed_ortholog                   evalue  \\\n",
       "0      TTHERM_00840110             5911.EAS05042                      0.0   \n",
       "1      TTHERM_01082930  31033.ENSTRUP00000031008   1.9999999999999997e-28   \n",
       "2      TTHERM_01081610             5911.EAR82090                      0.0   \n",
       "3      TTHERM_00059210             5911.EAR87408  3.2999999999999998e-298   \n",
       "4      TTHERM_00535200             5911.EAS03184                      0.0   \n",
       "...                ...                       ...                      ...   \n",
       "26682  TTHERM_00657320                         -                        -   \n",
       "26683  TTHERM_00656000                         -                        -   \n",
       "26684  TTHERM_00989420                         -                        -   \n",
       "26685  TTHERM_01245650                         -                        -   \n",
       "26686  TTHERM_00126960                         -                        -   \n",
       "\n",
       "        score                                         eggNOG_OGs  \\\n",
       "0      1278.5  2E5M0@1|root,2SCE9@2759|Eukaryota,3ZEBN@5878|C...   \n",
       "1        94.2  COG5078@1|root,KOG0418@2759|Eukaryota,38KYZ@33...   \n",
       "2      2110.7                  2A5FX@1|root,2RY9I@2759|Eukaryota   \n",
       "3       983.9  COG0575@1|root,KOG1440@2759|Eukaryota,3ZAR9@58...   \n",
       "4      2448.3                  2E77S@1|root,2SDUU@2759|Eukaryota   \n",
       "...       ...                                                ...   \n",
       "26682       -                                                  -   \n",
       "26683       -                                                  -   \n",
       "26684       -                                                  -   \n",
       "26685       -                                                  -   \n",
       "26686       -                                                  -   \n",
       "\n",
       "         max_annot_lvl COG_category  \\\n",
       "0      5878|Ciliophora            -   \n",
       "1        33208|Metazoa            O   \n",
       "2       2759|Eukaryota            -   \n",
       "3      5878|Ciliophora            I   \n",
       "4      5911.EAS03184|-            S   \n",
       "...                ...          ...   \n",
       "26682                -            -   \n",
       "26683                -            -   \n",
       "26684                -            -   \n",
       "26685                -            -   \n",
       "26686                -            -   \n",
       "\n",
       "                                             Description Preferred_name  \\\n",
       "0                                                      -              -   \n",
       "1      Belongs to the ubiquitin-conjugating enzyme fa...          UBE2K   \n",
       "2                                                      -              -   \n",
       "3                            Cytidylyltransferase family              -   \n",
       "4                                 Src homology 3 domains              -   \n",
       "...                                                  ...            ...   \n",
       "26682                                                  -              -   \n",
       "26683                                                  -              -   \n",
       "26684                                                  -              -   \n",
       "26685                                                  -              -   \n",
       "26686                                                  -              -   \n",
       "\n",
       "                                                     GOs  ... KEGG_TC CAZy  \\\n",
       "0                                                      -  ...       -    -   \n",
       "1      GO:0000209,GO:0003674,GO:0003824,GO:0004842,GO...  ...       -    -   \n",
       "2                                                      -  ...       -    -   \n",
       "3                                                      -  ...       -    -   \n",
       "4                                                      -  ...       -    -   \n",
       "...                                                  ...  ...     ...  ...   \n",
       "26682                                                  -  ...       -    -   \n",
       "26683                                                  -  ...       -    -   \n",
       "26684                                                  -  ...       -    -   \n",
       "26685                                                  -  ...       -    -   \n",
       "26686                                                  -  ...       -    -   \n",
       "\n",
       "      BiGG_Reaction         PFAMs  \\\n",
       "0                 -             -   \n",
       "1                 -    UBA,UQ_con   \n",
       "2                 -        PRESAN   \n",
       "3                 -  CTP_transf_1   \n",
       "4                 -             -   \n",
       "...             ...           ...   \n",
       "26682             -             -   \n",
       "26683             -             -   \n",
       "26684             -             -   \n",
       "26685             -             -   \n",
       "26686             -             -   \n",
       "\n",
       "                                     TGD2021_description  \\\n",
       "0                                   hypothetical protein   \n",
       "1                        ubiquitin-conjugating enzyme E2   \n",
       "2                         transmembrane protein putative   \n",
       "3                     phosphatidate cytidylyltransferase   \n",
       "4      beta-Pak interactive eXchange factor Src-like ...   \n",
       "...                                                  ...   \n",
       "26682                                                  -   \n",
       "26683                               hypothetical protein   \n",
       "26684  Nucleotide-binding oligomerization domain-cont...   \n",
       "26685                     transmembrane protein putative   \n",
       "26686                                                  -   \n",
       "\n",
       "                                                 peptide common_name  \\\n",
       "0      MISSNQTADQENKVENKVANAEHVNQQSYDSIPQSLSPAVIAQIMD...     Unnamed   \n",
       "1      MHKNILIILFQIFCCQIYTTIYTFYYFMANIVFIIHNVKLDLFSCF...     Unnamed   \n",
       "2      MSSQSPAKLNNQNCAAANQYYNDLESCVQGYCIKQQSGSGARGCFP...     Unnamed   \n",
       "3      MSQVTNRSQKKSHQKRDEKSEEDSSDEKTDDFSEEELDKLQEAQKK...     Unnamed   \n",
       "4      MFTKSNSRSALAGLNSIVNSQNDSLTSRAQHQNYAKKDLTISNSTS...     Unnamed   \n",
       "...                                                  ...         ...   \n",
       "26682  MNIIQKLVCINQNKQNDIYVDIKRDLQSYLILEIQPEFSRQIGDLQ...     Unnamed   \n",
       "26683  MFQVSRNIKYLQAISNKVVLQNAQFHLFNFQKFDLSTINKDETTRN...     Unnamed   \n",
       "26684  MIPPSKRIDFGRNIVPTQFLPKDGYKARNLKTEAAQQLTENKRYQT...     Unnamed   \n",
       "26685  MLFNQQFLIFSQIINQSCSNLQMTSPKKKKGQTLKNSYKKTGLRTS...     Unnamed   \n",
       "26686  MDQYTQLENLDFAYFQNTISSQQNIKNLSIVFLFLSFQKIICLGMY...     Unnamed   \n",
       "\n",
       "                                      InterPro  \\\n",
       "0                                            -   \n",
       "1      IPR000608,IPR016135,IPR023313,IPR050113   \n",
       "2                                            -   \n",
       "3                          IPR000374,IPR016720   \n",
       "4                IPR001452,IPR036028,IPR051569   \n",
       "...                                        ...   \n",
       "26682                                        -   \n",
       "26683                                        -   \n",
       "26684                                        -   \n",
       "26685                                        -   \n",
       "26686                                        -   \n",
       "\n",
       "                                    InterPro_description mucocysts  \n",
       "0                                                      -       NaN  \n",
       "1      Ubiquitin-conjugating enzyme E2,Ubiquitin-conj...       NaN  \n",
       "2                                                      -       NaN  \n",
       "3      Phosphatidate cytidylyltransferase,Phosphatida...       NaN  \n",
       "4      SH3 domain,SH3-like domain superfamily,SH3 and...       NaN  \n",
       "...                                                  ...       ...  \n",
       "26682                                                  -       NaN  \n",
       "26683                                                  -       NaN  \n",
       "26684                                                  -       NaN  \n",
       "26685                                                  -       NaN  \n",
       "26686                                                  -       NaN  \n",
       "\n",
       "[26687 rows x 27 columns]"
      ]
     },
     "execution_count": 29,
     "metadata": {},
     "output_type": "execute_result"
    }
   ],
   "source": [
    "modified_annotation = modified_annotation.merge(de_regranulation_annot_df, on='TTHERM_ID', how='outer')\n",
    "modified_annotation"
   ]
  },
  {
   "cell_type": "code",
   "execution_count": 30,
   "metadata": {},
   "outputs": [
    {
     "data": {
      "text/plain": [
       "TTHERM_ID                   0\n",
       "seed_ortholog               0\n",
       "evalue                      0\n",
       "score                       0\n",
       "eggNOG_OGs                  0\n",
       "max_annot_lvl               0\n",
       "COG_category                0\n",
       "Description                 0\n",
       "Preferred_name              0\n",
       "GOs                         0\n",
       "EC                          0\n",
       "KEGG_ko                     0\n",
       "KEGG_Pathway                0\n",
       "KEGG_Module                 0\n",
       "KEGG_Reaction               0\n",
       "KEGG_rclass                 0\n",
       "BRITE                       0\n",
       "KEGG_TC                     0\n",
       "CAZy                        0\n",
       "BiGG_Reaction               0\n",
       "PFAMs                       0\n",
       "TGD2021_description         0\n",
       "peptide                     0\n",
       "common_name                 0\n",
       "InterPro                    0\n",
       "InterPro_description        0\n",
       "mucocysts               23460\n",
       "dtype: int64"
      ]
     },
     "execution_count": 30,
     "metadata": {},
     "output_type": "execute_result"
    }
   ],
   "source": [
    "modified_annotation.isna().sum()"
   ]
  },
  {
   "cell_type": "code",
   "execution_count": 31,
   "metadata": {},
   "outputs": [],
   "source": [
    "modified_annotation = modified_annotation.fillna('-')"
   ]
  },
  {
   "cell_type": "code",
   "execution_count": 32,
   "metadata": {},
   "outputs": [
    {
     "data": {
      "text/plain": [
       "TTHERM_ID               0\n",
       "seed_ortholog           0\n",
       "evalue                  0\n",
       "score                   0\n",
       "eggNOG_OGs              0\n",
       "max_annot_lvl           0\n",
       "COG_category            0\n",
       "Description             0\n",
       "Preferred_name          0\n",
       "GOs                     0\n",
       "EC                      0\n",
       "KEGG_ko                 0\n",
       "KEGG_Pathway            0\n",
       "KEGG_Module             0\n",
       "KEGG_Reaction           0\n",
       "KEGG_rclass             0\n",
       "BRITE                   0\n",
       "KEGG_TC                 0\n",
       "CAZy                    0\n",
       "BiGG_Reaction           0\n",
       "PFAMs                   0\n",
       "TGD2021_description     0\n",
       "peptide                 0\n",
       "common_name             0\n",
       "InterPro                0\n",
       "InterPro_description    0\n",
       "mucocysts               0\n",
       "dtype: int64"
      ]
     },
     "execution_count": 32,
     "metadata": {},
     "output_type": "execute_result"
    }
   ],
   "source": [
    "modified_annotation.isna().sum()"
   ]
  },
  {
   "cell_type": "code",
   "execution_count": 33,
   "metadata": {},
   "outputs": [],
   "source": [
    "modified_annotation.to_csv('../active_files/complete_annotation.csv', index=False)"
   ]
  },
  {
   "cell_type": "code",
   "execution_count": 34,
   "metadata": {},
   "outputs": [],
   "source": [
    "microarray_enrich = clustering_utils.compute_enrichment(microarray)\n",
    "\n",
    "rna_seq_enrich = clustering_utils.compute_enrichment(rna_seq)"
   ]
  },
  {
   "cell_type": "code",
   "execution_count": 35,
   "metadata": {},
   "outputs": [],
   "source": [
    "modified_annotation_no_muco.to_csv('../active_files/complete_annotation.csv', index=False)"
   ]
  },
  {
   "cell_type": "code",
   "execution_count": 36,
   "metadata": {},
   "outputs": [
    {
     "data": {
      "text/plain": [
       "(4, 6, 65, 99)"
      ]
     },
     "execution_count": 36,
     "metadata": {},
     "output_type": "execute_result"
    }
   ],
   "source": [
    "rna_ev = set([(int(m)) for m in rna_seq_enrich.loc[rna_seq_enrich['term'].isin(['DE,EV', 'EV'])]['module'].values])\n",
    "microarray_ev = set([(int(m)) for m in microarray_enrich.loc[microarray_enrich['term'].isin(['DE,EV', 'EV'])]['module'].values])\n",
    "\n",
    "rna_de = set([(int(m)) for m in rna_seq_enrich.loc[rna_seq_enrich['term'].isin(['DE,EV', 'DE'])]['module'].values])\n",
    "microarray_de = set([(int(m)) for m in microarray_enrich.loc[microarray_enrich['term'].isin(['DE,EV', 'DE'])]['module'].values])\n",
    "\n",
    "len(rna_ev), len(microarray_ev), len(rna_de), len(microarray_de)"
   ]
  },
  {
   "cell_type": "code",
   "execution_count": 37,
   "metadata": {},
   "outputs": [
    {
     "data": {
      "text/plain": [
       "2"
      ]
     },
     "execution_count": 37,
     "metadata": {},
     "output_type": "execute_result"
    }
   ],
   "source": [
    "len(rna_ev.intersection(rna_de))"
   ]
  },
  {
   "cell_type": "code",
   "execution_count": 38,
   "metadata": {},
   "outputs": [
    {
     "data": {
      "text/plain": [
       "{40, 194, 219, 294}"
      ]
     },
     "execution_count": 38,
     "metadata": {},
     "output_type": "execute_result"
    }
   ],
   "source": [
    "rna_ev"
   ]
  },
  {
   "cell_type": "code",
   "execution_count": 39,
   "metadata": {},
   "outputs": [
    {
     "data": {
      "text/plain": [
       "{2, 3, 4, 5, 6, 378}"
      ]
     },
     "execution_count": 39,
     "metadata": {},
     "output_type": "execute_result"
    }
   ],
   "source": [
    "microarray_ev"
   ]
  },
  {
   "cell_type": "code",
   "execution_count": 40,
   "metadata": {},
   "outputs": [],
   "source": [
    "microarray_ev_enr_ids = microarray.loc[microarray['label'].isin(microarray_ev)]['TTHERM_ID'].values\n",
    "rnaseq_ev_enr_ids = rna_seq.loc[rna_seq['label'].isin(rna_ev)]['TTHERM_ID'].values"
   ]
  },
  {
   "cell_type": "code",
   "execution_count": 41,
   "metadata": {},
   "outputs": [
    {
     "data": {
      "text/plain": [
       "41"
      ]
     },
     "execution_count": 41,
     "metadata": {},
     "output_type": "execute_result"
    }
   ],
   "source": [
    "len(set(microarray_ev_enr_ids).intersection(rnaseq_ev_enr_ids))"
   ]
  },
  {
   "cell_type": "code",
   "execution_count": 42,
   "metadata": {},
   "outputs": [],
   "source": [
    "enr_coexp = set(microarray_ev_enr_ids).intersection(rnaseq_ev_enr_ids)"
   ]
  },
  {
   "cell_type": "code",
   "execution_count": 43,
   "metadata": {},
   "outputs": [
    {
     "data": {
      "text/plain": [
       "'TTHERM_00378890, TTHERM_00572100, TTHERM_00092820, TTHERM_00486275, TTHERM_00773710, TTHERM_00787390, TTHERM_00697290, TTHERM_00145480, TTHERM_00046372, TTHERM_00410210, TTHERM_01287970, TTHERM_00321720, TTHERM_00314860, TTHERM_00624730, TTHERM_00313130, TTHERM_00755930, TTHERM_00537380, TTHERM_00052190, TTHERM_00649180, TTHERM_00011710, TTHERM_00471040, TTHERM_01213910, TTHERM_00392790, TTHERM_00624720, TTHERM_00473020, TTHERM_01055600, TTHERM_00527180, TTHERM_00773700, TTHERM_00047330, TTHERM_00038880, TTHERM_01122800, TTHERM_01049340, TTHERM_00670750, TTHERM_00522600, TTHERM_00550920, TTHERM_00221120, TTHERM_00410180, TTHERM_00317390, TTHERM_00522740, TTHERM_00938950, TTHERM_00283760'"
      ]
     },
     "execution_count": 43,
     "metadata": {},
     "output_type": "execute_result"
    }
   ],
   "source": [
    "', '.join(enr_coexp)"
   ]
  },
  {
   "cell_type": "code",
   "execution_count": 44,
   "metadata": {},
   "outputs": [
    {
     "name": "stdout",
     "output_type": "stream",
     "text": [
      "m040, m194, m219, m294\n"
     ]
    }
   ],
   "source": [
    "print(*['m'+str(m).zfill(3) for m in rna_ev], sep=', ')"
   ]
  },
  {
   "cell_type": "code",
   "execution_count": 45,
   "metadata": {},
   "outputs": [
    {
     "name": "stdout",
     "output_type": "stream",
     "text": [
      "m002, m003, m004, m005, m006, m378\n"
     ]
    }
   ],
   "source": [
    "print(*['m'+str(m).zfill(3) for m in microarray_ev], sep=', ')"
   ]
  },
  {
   "cell_type": "code",
   "execution_count": 46,
   "metadata": {},
   "outputs": [
    {
     "data": {
      "text/plain": [
       "{194, 294}"
      ]
     },
     "execution_count": 46,
     "metadata": {},
     "output_type": "execute_result"
    }
   ],
   "source": [
    "(rna_ev.intersection(rna_de))"
   ]
  },
  {
   "cell_type": "code",
   "execution_count": 47,
   "metadata": {},
   "outputs": [
    {
     "name": "stdout",
     "output_type": "stream",
     "text": [
      "m697, m132, m144, m018, m535, m409, m029, m413, m414, m543, m547, m165, m294, m168, m169, m296, m552, m044, m553, m556, m558, m432, m561, m178, m563, m052, m564, m565, m567, m568, m313, m442, m059, m444, m445, m570, m575, m064, m577, m194, m582, m199, m455, m456, m583, m585, m586, m077, m082, m594, m595, m596, m088, m472, m090, m091, m605, m095, m096, m098, m360, m488, m110, m116, m254\n"
     ]
    }
   ],
   "source": [
    "print(*['m'+str(m).zfill(3) for m in rna_de], sep=', ')"
   ]
  },
  {
   "cell_type": "code",
   "execution_count": 48,
   "metadata": {},
   "outputs": [
    {
     "data": {
      "text/plain": [
       "4"
      ]
     },
     "execution_count": 48,
     "metadata": {},
     "output_type": "execute_result"
    }
   ],
   "source": [
    "len(microarray_ev.intersection(microarray_de))"
   ]
  },
  {
   "cell_type": "code",
   "execution_count": 49,
   "metadata": {},
   "outputs": [
    {
     "data": {
      "text/plain": [
       "((69, 7), (105, 7))"
      ]
     },
     "execution_count": 49,
     "metadata": {},
     "output_type": "execute_result"
    }
   ],
   "source": [
    "rna_seq_enrich.loc[rna_seq_enrich['term'].isin(['DE,EV', 'DE', 'EV'])].shape, microarray_enrich.loc[microarray_enrich['term'].isin(['DE,EV', 'DE', 'EV'])].shape"
   ]
  },
  {
   "cell_type": "code",
   "execution_count": 50,
   "metadata": {},
   "outputs": [
    {
     "data": {
      "text/plain": [
       "((4, 7), (6, 7))"
      ]
     },
     "execution_count": 50,
     "metadata": {},
     "output_type": "execute_result"
    }
   ],
   "source": [
    "rna_seq_enrich.loc[rna_seq_enrich['term'].isin(['DE,EV', 'EV'])].shape, microarray_enrich.loc[microarray_enrich['term'].isin(['DE,EV', 'EV'])].shape"
   ]
  },
  {
   "cell_type": "code",
   "execution_count": 51,
   "metadata": {},
   "outputs": [
    {
     "data": {
      "text/html": [
       "<div>\n",
       "<style scoped>\n",
       "    .dataframe tbody tr th:only-of-type {\n",
       "        vertical-align: middle;\n",
       "    }\n",
       "\n",
       "    .dataframe tbody tr th {\n",
       "        vertical-align: top;\n",
       "    }\n",
       "\n",
       "    .dataframe thead th {\n",
       "        text-align: right;\n",
       "    }\n",
       "</style>\n",
       "<table border=\"1\" class=\"dataframe\">\n",
       "  <thead>\n",
       "    <tr style=\"text-align: right;\">\n",
       "      <th></th>\n",
       "      <th>module</th>\n",
       "      <th>term</th>\n",
       "      <th>info</th>\n",
       "      <th>fold_change</th>\n",
       "      <th>bonferroni</th>\n",
       "      <th>term_count</th>\n",
       "      <th>module_size</th>\n",
       "    </tr>\n",
       "  </thead>\n",
       "  <tbody>\n",
       "    <tr>\n",
       "      <th>0</th>\n",
       "      <td>0.0</td>\n",
       "      <td>DE</td>\n",
       "      <td>differentially expressed in mucocyst regranula...</td>\n",
       "      <td>3.551952</td>\n",
       "      <td>1.280931e-06</td>\n",
       "      <td>18.0</td>\n",
       "      <td>42.0</td>\n",
       "    </tr>\n",
       "    <tr>\n",
       "      <th>0</th>\n",
       "      <td>1.0</td>\n",
       "      <td>DE</td>\n",
       "      <td>differentially expressed in mucocyst regranula...</td>\n",
       "      <td>7.069081</td>\n",
       "      <td>2.536734e-21</td>\n",
       "      <td>29.0</td>\n",
       "      <td>34.0</td>\n",
       "    </tr>\n",
       "    <tr>\n",
       "      <th>0</th>\n",
       "      <td>2.0</td>\n",
       "      <td>DE</td>\n",
       "      <td>differentially expressed in mucocyst regranula...</td>\n",
       "      <td>7.556604</td>\n",
       "      <td>1.059227e-24</td>\n",
       "      <td>31.0</td>\n",
       "      <td>34.0</td>\n",
       "    </tr>\n",
       "    <tr>\n",
       "      <th>0</th>\n",
       "      <td>3.0</td>\n",
       "      <td>DE</td>\n",
       "      <td>differentially expressed in mucocyst regranula...</td>\n",
       "      <td>7.573415</td>\n",
       "      <td>3.078315e-42</td>\n",
       "      <td>53.0</td>\n",
       "      <td>58.0</td>\n",
       "    </tr>\n",
       "    <tr>\n",
       "      <th>0</th>\n",
       "      <td>4.0</td>\n",
       "      <td>DE</td>\n",
       "      <td>differentially expressed in mucocyst regranula...</td>\n",
       "      <td>7.893227</td>\n",
       "      <td>8.913140e-34</td>\n",
       "      <td>40.0</td>\n",
       "      <td>42.0</td>\n",
       "    </tr>\n",
       "    <tr>\n",
       "      <th>...</th>\n",
       "      <td>...</td>\n",
       "      <td>...</td>\n",
       "      <td>...</td>\n",
       "      <td>...</td>\n",
       "      <td>...</td>\n",
       "      <td>...</td>\n",
       "      <td>...</td>\n",
       "    </tr>\n",
       "    <tr>\n",
       "      <th>0</th>\n",
       "      <td>583.0</td>\n",
       "      <td>DE</td>\n",
       "      <td>differentially expressed in mucocyst regranula...</td>\n",
       "      <td>2.193853</td>\n",
       "      <td>2.784536e-02</td>\n",
       "      <td>9.0</td>\n",
       "      <td>34.0</td>\n",
       "    </tr>\n",
       "    <tr>\n",
       "      <th>0</th>\n",
       "      <td>585.0</td>\n",
       "      <td>DE</td>\n",
       "      <td>differentially expressed in mucocyst regranula...</td>\n",
       "      <td>2.367968</td>\n",
       "      <td>1.183794e-02</td>\n",
       "      <td>10.0</td>\n",
       "      <td>35.0</td>\n",
       "    </tr>\n",
       "    <tr>\n",
       "      <th>0</th>\n",
       "      <td>589.0</td>\n",
       "      <td>DE</td>\n",
       "      <td>differentially expressed in mucocyst regranula...</td>\n",
       "      <td>2.193853</td>\n",
       "      <td>2.784536e-02</td>\n",
       "      <td>9.0</td>\n",
       "      <td>34.0</td>\n",
       "    </tr>\n",
       "    <tr>\n",
       "      <th>0</th>\n",
       "      <td>591.0</td>\n",
       "      <td>DE</td>\n",
       "      <td>differentially expressed in mucocyst regranula...</td>\n",
       "      <td>1.981886</td>\n",
       "      <td>2.887955e-02</td>\n",
       "      <td>11.0</td>\n",
       "      <td>46.0</td>\n",
       "    </tr>\n",
       "    <tr>\n",
       "      <th>0</th>\n",
       "      <td>595.0</td>\n",
       "      <td>DE</td>\n",
       "      <td>differentially expressed in mucocyst regranula...</td>\n",
       "      <td>2.286314</td>\n",
       "      <td>3.152749e-02</td>\n",
       "      <td>8.0</td>\n",
       "      <td>29.0</td>\n",
       "    </tr>\n",
       "  </tbody>\n",
       "</table>\n",
       "<p>99 rows × 7 columns</p>\n",
       "</div>"
      ],
      "text/plain": [
       "    module term                                               info  \\\n",
       "0      0.0   DE  differentially expressed in mucocyst regranula...   \n",
       "0      1.0   DE  differentially expressed in mucocyst regranula...   \n",
       "0      2.0   DE  differentially expressed in mucocyst regranula...   \n",
       "0      3.0   DE  differentially expressed in mucocyst regranula...   \n",
       "0      4.0   DE  differentially expressed in mucocyst regranula...   \n",
       "..     ...  ...                                                ...   \n",
       "0    583.0   DE  differentially expressed in mucocyst regranula...   \n",
       "0    585.0   DE  differentially expressed in mucocyst regranula...   \n",
       "0    589.0   DE  differentially expressed in mucocyst regranula...   \n",
       "0    591.0   DE  differentially expressed in mucocyst regranula...   \n",
       "0    595.0   DE  differentially expressed in mucocyst regranula...   \n",
       "\n",
       "    fold_change    bonferroni  term_count  module_size  \n",
       "0      3.551952  1.280931e-06        18.0         42.0  \n",
       "0      7.069081  2.536734e-21        29.0         34.0  \n",
       "0      7.556604  1.059227e-24        31.0         34.0  \n",
       "0      7.573415  3.078315e-42        53.0         58.0  \n",
       "0      7.893227  8.913140e-34        40.0         42.0  \n",
       "..          ...           ...         ...          ...  \n",
       "0      2.193853  2.784536e-02         9.0         34.0  \n",
       "0      2.367968  1.183794e-02        10.0         35.0  \n",
       "0      2.193853  2.784536e-02         9.0         34.0  \n",
       "0      1.981886  2.887955e-02        11.0         46.0  \n",
       "0      2.286314  3.152749e-02         8.0         29.0  \n",
       "\n",
       "[99 rows x 7 columns]"
      ]
     },
     "execution_count": 51,
     "metadata": {},
     "output_type": "execute_result"
    }
   ],
   "source": [
    "microarray_enrich.loc[microarray_enrich['term'].isin(['DE,EV', 'DE'])]"
   ]
  },
  {
   "cell_type": "code",
   "execution_count": 52,
   "metadata": {},
   "outputs": [
    {
     "data": {
      "text/html": [
       "<div>\n",
       "<style scoped>\n",
       "    .dataframe tbody tr th:only-of-type {\n",
       "        vertical-align: middle;\n",
       "    }\n",
       "\n",
       "    .dataframe tbody tr th {\n",
       "        vertical-align: top;\n",
       "    }\n",
       "\n",
       "    .dataframe thead th {\n",
       "        text-align: right;\n",
       "    }\n",
       "</style>\n",
       "<table border=\"1\" class=\"dataframe\">\n",
       "  <thead>\n",
       "    <tr style=\"text-align: right;\">\n",
       "      <th></th>\n",
       "      <th>module</th>\n",
       "      <th>term</th>\n",
       "      <th>info</th>\n",
       "      <th>fold_change</th>\n",
       "      <th>bonferroni</th>\n",
       "      <th>term_count</th>\n",
       "      <th>module_size</th>\n",
       "    </tr>\n",
       "  </thead>\n",
       "  <tbody>\n",
       "    <tr>\n",
       "      <th>0</th>\n",
       "      <td>18.0</td>\n",
       "      <td>DE</td>\n",
       "      <td>differentially expressed in mucocyst regranula...</td>\n",
       "      <td>2.286314</td>\n",
       "      <td>0.031527</td>\n",
       "      <td>8.0</td>\n",
       "      <td>29.0</td>\n",
       "    </tr>\n",
       "    <tr>\n",
       "      <th>0</th>\n",
       "      <td>29.0</td>\n",
       "      <td>DE</td>\n",
       "      <td>differentially expressed in mucocyst regranula...</td>\n",
       "      <td>2.367968</td>\n",
       "      <td>0.011838</td>\n",
       "      <td>10.0</td>\n",
       "      <td>35.0</td>\n",
       "    </tr>\n",
       "    <tr>\n",
       "      <th>0</th>\n",
       "      <td>44.0</td>\n",
       "      <td>DE</td>\n",
       "      <td>differentially expressed in mucocyst regranula...</td>\n",
       "      <td>2.637055</td>\n",
       "      <td>0.022867</td>\n",
       "      <td>7.0</td>\n",
       "      <td>22.0</td>\n",
       "    </tr>\n",
       "    <tr>\n",
       "      <th>0</th>\n",
       "      <td>52.0</td>\n",
       "      <td>DE</td>\n",
       "      <td>differentially expressed in mucocyst regranula...</td>\n",
       "      <td>3.453287</td>\n",
       "      <td>0.000573</td>\n",
       "      <td>10.0</td>\n",
       "      <td>24.0</td>\n",
       "    </tr>\n",
       "    <tr>\n",
       "      <th>0</th>\n",
       "      <td>59.0</td>\n",
       "      <td>DE</td>\n",
       "      <td>differentially expressed in mucocyst regranula...</td>\n",
       "      <td>1.973307</td>\n",
       "      <td>0.038702</td>\n",
       "      <td>10.0</td>\n",
       "      <td>42.0</td>\n",
       "    </tr>\n",
       "    <tr>\n",
       "      <th>...</th>\n",
       "      <td>...</td>\n",
       "      <td>...</td>\n",
       "      <td>...</td>\n",
       "      <td>...</td>\n",
       "      <td>...</td>\n",
       "      <td>...</td>\n",
       "      <td>...</td>\n",
       "    </tr>\n",
       "    <tr>\n",
       "      <th>0</th>\n",
       "      <td>594.0</td>\n",
       "      <td>DE</td>\n",
       "      <td>differentially expressed in mucocyst regranula...</td>\n",
       "      <td>3.315155</td>\n",
       "      <td>0.000015</td>\n",
       "      <td>16.0</td>\n",
       "      <td>40.0</td>\n",
       "    </tr>\n",
       "    <tr>\n",
       "      <th>0</th>\n",
       "      <td>595.0</td>\n",
       "      <td>DE</td>\n",
       "      <td>differentially expressed in mucocyst regranula...</td>\n",
       "      <td>2.609150</td>\n",
       "      <td>0.000245</td>\n",
       "      <td>17.0</td>\n",
       "      <td>54.0</td>\n",
       "    </tr>\n",
       "    <tr>\n",
       "      <th>0</th>\n",
       "      <td>596.0</td>\n",
       "      <td>DE</td>\n",
       "      <td>differentially expressed in mucocyst regranula...</td>\n",
       "      <td>2.021436</td>\n",
       "      <td>0.033437</td>\n",
       "      <td>10.0</td>\n",
       "      <td>41.0</td>\n",
       "    </tr>\n",
       "    <tr>\n",
       "      <th>0</th>\n",
       "      <td>605.0</td>\n",
       "      <td>DE</td>\n",
       "      <td>differentially expressed in mucocyst regranula...</td>\n",
       "      <td>2.260333</td>\n",
       "      <td>0.023306</td>\n",
       "      <td>9.0</td>\n",
       "      <td>33.0</td>\n",
       "    </tr>\n",
       "    <tr>\n",
       "      <th>0</th>\n",
       "      <td>697.0</td>\n",
       "      <td>DE</td>\n",
       "      <td>differentially expressed in mucocyst regranula...</td>\n",
       "      <td>2.279169</td>\n",
       "      <td>0.010749</td>\n",
       "      <td>11.0</td>\n",
       "      <td>40.0</td>\n",
       "    </tr>\n",
       "  </tbody>\n",
       "</table>\n",
       "<p>65 rows × 7 columns</p>\n",
       "</div>"
      ],
      "text/plain": [
       "    module term                                               info  \\\n",
       "0     18.0   DE  differentially expressed in mucocyst regranula...   \n",
       "0     29.0   DE  differentially expressed in mucocyst regranula...   \n",
       "0     44.0   DE  differentially expressed in mucocyst regranula...   \n",
       "0     52.0   DE  differentially expressed in mucocyst regranula...   \n",
       "0     59.0   DE  differentially expressed in mucocyst regranula...   \n",
       "..     ...  ...                                                ...   \n",
       "0    594.0   DE  differentially expressed in mucocyst regranula...   \n",
       "0    595.0   DE  differentially expressed in mucocyst regranula...   \n",
       "0    596.0   DE  differentially expressed in mucocyst regranula...   \n",
       "0    605.0   DE  differentially expressed in mucocyst regranula...   \n",
       "0    697.0   DE  differentially expressed in mucocyst regranula...   \n",
       "\n",
       "    fold_change  bonferroni  term_count  module_size  \n",
       "0      2.286314    0.031527         8.0         29.0  \n",
       "0      2.367968    0.011838        10.0         35.0  \n",
       "0      2.637055    0.022867         7.0         22.0  \n",
       "0      3.453287    0.000573        10.0         24.0  \n",
       "0      1.973307    0.038702        10.0         42.0  \n",
       "..          ...         ...         ...          ...  \n",
       "0      3.315155    0.000015        16.0         40.0  \n",
       "0      2.609150    0.000245        17.0         54.0  \n",
       "0      2.021436    0.033437        10.0         41.0  \n",
       "0      2.260333    0.023306         9.0         33.0  \n",
       "0      2.279169    0.010749        11.0         40.0  \n",
       "\n",
       "[65 rows x 7 columns]"
      ]
     },
     "execution_count": 52,
     "metadata": {},
     "output_type": "execute_result"
    }
   ],
   "source": [
    "rna_seq_enrich.loc[rna_seq_enrich['term'].isin(['DE,EV', 'DE'])]"
   ]
  },
  {
   "cell_type": "code",
   "execution_count": 53,
   "metadata": {},
   "outputs": [
    {
     "data": {
      "text/html": [
       "<div>\n",
       "<style scoped>\n",
       "    .dataframe tbody tr th:only-of-type {\n",
       "        vertical-align: middle;\n",
       "    }\n",
       "\n",
       "    .dataframe tbody tr th {\n",
       "        vertical-align: top;\n",
       "    }\n",
       "\n",
       "    .dataframe thead th {\n",
       "        text-align: right;\n",
       "    }\n",
       "</style>\n",
       "<table border=\"1\" class=\"dataframe\">\n",
       "  <thead>\n",
       "    <tr style=\"text-align: right;\">\n",
       "      <th></th>\n",
       "      <th>module</th>\n",
       "      <th>term</th>\n",
       "      <th>info</th>\n",
       "      <th>fold_change</th>\n",
       "      <th>bonferroni</th>\n",
       "      <th>term_count</th>\n",
       "      <th>module_size</th>\n",
       "    </tr>\n",
       "  </thead>\n",
       "  <tbody>\n",
       "    <tr>\n",
       "      <th>1</th>\n",
       "      <td>2.0</td>\n",
       "      <td>EV</td>\n",
       "      <td>experimentally validated mucocyst-associated gene</td>\n",
       "      <td>71.355615</td>\n",
       "      <td>7.743960e-04</td>\n",
       "      <td>3.0</td>\n",
       "      <td>34.0</td>\n",
       "    </tr>\n",
       "    <tr>\n",
       "      <th>1</th>\n",
       "      <td>3.0</td>\n",
       "      <td>EV</td>\n",
       "      <td>experimentally validated mucocyst-associated gene</td>\n",
       "      <td>125.487461</td>\n",
       "      <td>3.476088e-15</td>\n",
       "      <td>9.0</td>\n",
       "      <td>58.0</td>\n",
       "    </tr>\n",
       "    <tr>\n",
       "      <th>1</th>\n",
       "      <td>4.0</td>\n",
       "      <td>EV</td>\n",
       "      <td>experimentally validated mucocyst-associated gene</td>\n",
       "      <td>115.528139</td>\n",
       "      <td>1.539645e-09</td>\n",
       "      <td>6.0</td>\n",
       "      <td>42.0</td>\n",
       "    </tr>\n",
       "    <tr>\n",
       "      <th>0</th>\n",
       "      <td>5.0</td>\n",
       "      <td>EV</td>\n",
       "      <td>experimentally validated mucocyst-associated gene</td>\n",
       "      <td>323.478788</td>\n",
       "      <td>2.476066e-03</td>\n",
       "      <td>2.0</td>\n",
       "      <td>5.0</td>\n",
       "    </tr>\n",
       "    <tr>\n",
       "      <th>0</th>\n",
       "      <td>6.0</td>\n",
       "      <td>EV</td>\n",
       "      <td>experimentally validated mucocyst-associated gene</td>\n",
       "      <td>673.914141</td>\n",
       "      <td>4.843661e-12</td>\n",
       "      <td>5.0</td>\n",
       "      <td>6.0</td>\n",
       "    </tr>\n",
       "    <tr>\n",
       "      <th>1</th>\n",
       "      <td>378.0</td>\n",
       "      <td>EV</td>\n",
       "      <td>experimentally validated mucocyst-associated gene</td>\n",
       "      <td>65.570025</td>\n",
       "      <td>9.229069e-04</td>\n",
       "      <td>3.0</td>\n",
       "      <td>37.0</td>\n",
       "    </tr>\n",
       "  </tbody>\n",
       "</table>\n",
       "</div>"
      ],
      "text/plain": [
       "   module term                                               info  \\\n",
       "1     2.0   EV  experimentally validated mucocyst-associated gene   \n",
       "1     3.0   EV  experimentally validated mucocyst-associated gene   \n",
       "1     4.0   EV  experimentally validated mucocyst-associated gene   \n",
       "0     5.0   EV  experimentally validated mucocyst-associated gene   \n",
       "0     6.0   EV  experimentally validated mucocyst-associated gene   \n",
       "1   378.0   EV  experimentally validated mucocyst-associated gene   \n",
       "\n",
       "   fold_change    bonferroni  term_count  module_size  \n",
       "1    71.355615  7.743960e-04         3.0         34.0  \n",
       "1   125.487461  3.476088e-15         9.0         58.0  \n",
       "1   115.528139  1.539645e-09         6.0         42.0  \n",
       "0   323.478788  2.476066e-03         2.0          5.0  \n",
       "0   673.914141  4.843661e-12         5.0          6.0  \n",
       "1    65.570025  9.229069e-04         3.0         37.0  "
      ]
     },
     "execution_count": 53,
     "metadata": {},
     "output_type": "execute_result"
    }
   ],
   "source": [
    "microarray_enrich.loc[microarray_enrich['term'].isin(['DE,EV', 'EV'])]"
   ]
  },
  {
   "cell_type": "code",
   "execution_count": 54,
   "metadata": {},
   "outputs": [
    {
     "name": "stdout",
     "output_type": "stream",
     "text": [
      "m002,m003,m004,m005,m006,m378\n"
     ]
    }
   ],
   "source": [
    "print(','.join(['m'+str(int(m)).zfill(3) for m in microarray_enrich.loc[microarray_enrich['term'].isin(['DE,EV', 'EV'])]['module'].values]))"
   ]
  },
  {
   "cell_type": "code",
   "execution_count": 55,
   "metadata": {},
   "outputs": [
    {
     "data": {
      "text/html": [
       "<div>\n",
       "<style scoped>\n",
       "    .dataframe tbody tr th:only-of-type {\n",
       "        vertical-align: middle;\n",
       "    }\n",
       "\n",
       "    .dataframe tbody tr th {\n",
       "        vertical-align: top;\n",
       "    }\n",
       "\n",
       "    .dataframe thead th {\n",
       "        text-align: right;\n",
       "    }\n",
       "</style>\n",
       "<table border=\"1\" class=\"dataframe\">\n",
       "  <thead>\n",
       "    <tr style=\"text-align: right;\">\n",
       "      <th></th>\n",
       "      <th>module</th>\n",
       "      <th>term</th>\n",
       "      <th>info</th>\n",
       "      <th>fold_change</th>\n",
       "      <th>bonferroni</th>\n",
       "      <th>term_count</th>\n",
       "      <th>module_size</th>\n",
       "    </tr>\n",
       "  </thead>\n",
       "  <tbody>\n",
       "    <tr>\n",
       "      <th>0</th>\n",
       "      <td>40.0</td>\n",
       "      <td>EV</td>\n",
       "      <td>experimentally validated mucocyst-associated gene</td>\n",
       "      <td>104.347996</td>\n",
       "      <td>6.895695e-06</td>\n",
       "      <td>4.0</td>\n",
       "      <td>31.0</td>\n",
       "    </tr>\n",
       "    <tr>\n",
       "      <th>1</th>\n",
       "      <td>194.0</td>\n",
       "      <td>EV</td>\n",
       "      <td>experimentally validated mucocyst-associated gene</td>\n",
       "      <td>193.384058</td>\n",
       "      <td>5.719824e-21</td>\n",
       "      <td>11.0</td>\n",
       "      <td>46.0</td>\n",
       "    </tr>\n",
       "    <tr>\n",
       "      <th>0</th>\n",
       "      <td>219.0</td>\n",
       "      <td>EV</td>\n",
       "      <td>experimentally validated mucocyst-associated gene</td>\n",
       "      <td>59.903479</td>\n",
       "      <td>3.218351e-02</td>\n",
       "      <td>2.0</td>\n",
       "      <td>27.0</td>\n",
       "    </tr>\n",
       "    <tr>\n",
       "      <th>1</th>\n",
       "      <td>294.0</td>\n",
       "      <td>EV</td>\n",
       "      <td>experimentally validated mucocyst-associated gene</td>\n",
       "      <td>78.260997</td>\n",
       "      <td>6.387482e-04</td>\n",
       "      <td>3.0</td>\n",
       "      <td>31.0</td>\n",
       "    </tr>\n",
       "  </tbody>\n",
       "</table>\n",
       "</div>"
      ],
      "text/plain": [
       "   module term                                               info  \\\n",
       "0    40.0   EV  experimentally validated mucocyst-associated gene   \n",
       "1   194.0   EV  experimentally validated mucocyst-associated gene   \n",
       "0   219.0   EV  experimentally validated mucocyst-associated gene   \n",
       "1   294.0   EV  experimentally validated mucocyst-associated gene   \n",
       "\n",
       "   fold_change    bonferroni  term_count  module_size  \n",
       "0   104.347996  6.895695e-06         4.0         31.0  \n",
       "1   193.384058  5.719824e-21        11.0         46.0  \n",
       "0    59.903479  3.218351e-02         2.0         27.0  \n",
       "1    78.260997  6.387482e-04         3.0         31.0  "
      ]
     },
     "execution_count": 55,
     "metadata": {},
     "output_type": "execute_result"
    }
   ],
   "source": [
    "rna_seq_enrich.loc[rna_seq_enrich['term'].isin(['DE,EV', 'EV'])]"
   ]
  },
  {
   "cell_type": "code",
   "execution_count": 56,
   "metadata": {},
   "outputs": [
    {
     "data": {
      "text/html": [
       "<div>\n",
       "<style scoped>\n",
       "    .dataframe tbody tr th:only-of-type {\n",
       "        vertical-align: middle;\n",
       "    }\n",
       "\n",
       "    .dataframe tbody tr th {\n",
       "        vertical-align: top;\n",
       "    }\n",
       "\n",
       "    .dataframe thead th {\n",
       "        text-align: right;\n",
       "    }\n",
       "</style>\n",
       "<table border=\"1\" class=\"dataframe\">\n",
       "  <thead>\n",
       "    <tr style=\"text-align: right;\">\n",
       "      <th></th>\n",
       "      <th>TTHERM_ID</th>\n",
       "      <th>label</th>\n",
       "    </tr>\n",
       "  </thead>\n",
       "  <tbody>\n",
       "    <tr>\n",
       "      <th>13861</th>\n",
       "      <td>TTHERM_01297430</td>\n",
       "      <td>294</td>\n",
       "    </tr>\n",
       "    <tr>\n",
       "      <th>13862</th>\n",
       "      <td>TTHERM_01213910</td>\n",
       "      <td>294</td>\n",
       "    </tr>\n",
       "    <tr>\n",
       "      <th>13863</th>\n",
       "      <td>TTHERM_01142782</td>\n",
       "      <td>294</td>\n",
       "    </tr>\n",
       "    <tr>\n",
       "      <th>13864</th>\n",
       "      <td>TTHERM_01002740</td>\n",
       "      <td>294</td>\n",
       "    </tr>\n",
       "    <tr>\n",
       "      <th>13865</th>\n",
       "      <td>TTHERM_00833627</td>\n",
       "      <td>294</td>\n",
       "    </tr>\n",
       "    <tr>\n",
       "      <th>...</th>\n",
       "      <td>...</td>\n",
       "      <td>...</td>\n",
       "    </tr>\n",
       "    <tr>\n",
       "      <th>22002</th>\n",
       "      <td>TTHERM_00218460</td>\n",
       "      <td>40</td>\n",
       "    </tr>\n",
       "    <tr>\n",
       "      <th>22003</th>\n",
       "      <td>TTHERM_00101440</td>\n",
       "      <td>40</td>\n",
       "    </tr>\n",
       "    <tr>\n",
       "      <th>22004</th>\n",
       "      <td>TTHERM_00046372</td>\n",
       "      <td>40</td>\n",
       "    </tr>\n",
       "    <tr>\n",
       "      <th>22005</th>\n",
       "      <td>TTHERM_00041538</td>\n",
       "      <td>40</td>\n",
       "    </tr>\n",
       "    <tr>\n",
       "      <th>22006</th>\n",
       "      <td>TTHERM_00037120</td>\n",
       "      <td>40</td>\n",
       "    </tr>\n",
       "  </tbody>\n",
       "</table>\n",
       "<p>135 rows × 2 columns</p>\n",
       "</div>"
      ],
      "text/plain": [
       "             TTHERM_ID  label\n",
       "13861  TTHERM_01297430    294\n",
       "13862  TTHERM_01213910    294\n",
       "13863  TTHERM_01142782    294\n",
       "13864  TTHERM_01002740    294\n",
       "13865  TTHERM_00833627    294\n",
       "...                ...    ...\n",
       "22002  TTHERM_00218460     40\n",
       "22003  TTHERM_00101440     40\n",
       "22004  TTHERM_00046372     40\n",
       "22005  TTHERM_00041538     40\n",
       "22006  TTHERM_00037120     40\n",
       "\n",
       "[135 rows x 2 columns]"
      ]
     },
     "execution_count": 56,
     "metadata": {},
     "output_type": "execute_result"
    }
   ],
   "source": [
    "rna_seq.loc[rna_seq['label'].isin([int(m) for m in rna_seq_enrich.loc[rna_seq_enrich['term'].isin(['DE,EV', 'EV'])]['module'].values])]"
   ]
  },
  {
   "cell_type": "code",
   "execution_count": 57,
   "metadata": {},
   "outputs": [
    {
     "data": {
      "text/html": [
       "<div>\n",
       "<style scoped>\n",
       "    .dataframe tbody tr th:only-of-type {\n",
       "        vertical-align: middle;\n",
       "    }\n",
       "\n",
       "    .dataframe tbody tr th {\n",
       "        vertical-align: top;\n",
       "    }\n",
       "\n",
       "    .dataframe thead th {\n",
       "        text-align: right;\n",
       "    }\n",
       "</style>\n",
       "<table border=\"1\" class=\"dataframe\">\n",
       "  <thead>\n",
       "    <tr style=\"text-align: right;\">\n",
       "      <th></th>\n",
       "      <th>TTHERM_ID</th>\n",
       "      <th>label</th>\n",
       "    </tr>\n",
       "  </thead>\n",
       "  <tbody>\n",
       "    <tr>\n",
       "      <th>8281</th>\n",
       "      <td>TTHERM_01123950</td>\n",
       "      <td>378</td>\n",
       "    </tr>\n",
       "    <tr>\n",
       "      <th>8282</th>\n",
       "      <td>TTHERM_01044620</td>\n",
       "      <td>378</td>\n",
       "    </tr>\n",
       "    <tr>\n",
       "      <th>8283</th>\n",
       "      <td>TTHERM_00962070</td>\n",
       "      <td>378</td>\n",
       "    </tr>\n",
       "    <tr>\n",
       "      <th>8284</th>\n",
       "      <td>TTHERM_00962020</td>\n",
       "      <td>378</td>\n",
       "    </tr>\n",
       "    <tr>\n",
       "      <th>8285</th>\n",
       "      <td>TTHERM_00939090</td>\n",
       "      <td>378</td>\n",
       "    </tr>\n",
       "    <tr>\n",
       "      <th>...</th>\n",
       "      <td>...</td>\n",
       "      <td>...</td>\n",
       "    </tr>\n",
       "    <tr>\n",
       "      <th>20347</th>\n",
       "      <td>TTHERM_00357060</td>\n",
       "      <td>2</td>\n",
       "    </tr>\n",
       "    <tr>\n",
       "      <th>20348</th>\n",
       "      <td>TTHERM_00343930</td>\n",
       "      <td>2</td>\n",
       "    </tr>\n",
       "    <tr>\n",
       "      <th>20349</th>\n",
       "      <td>TTHERM_00321725</td>\n",
       "      <td>2</td>\n",
       "    </tr>\n",
       "    <tr>\n",
       "      <th>20350</th>\n",
       "      <td>TTHERM_00190910</td>\n",
       "      <td>2</td>\n",
       "    </tr>\n",
       "    <tr>\n",
       "      <th>20351</th>\n",
       "      <td>TTHERM_00145940</td>\n",
       "      <td>2</td>\n",
       "    </tr>\n",
       "  </tbody>\n",
       "</table>\n",
       "<p>182 rows × 2 columns</p>\n",
       "</div>"
      ],
      "text/plain": [
       "             TTHERM_ID  label\n",
       "8281   TTHERM_01123950    378\n",
       "8282   TTHERM_01044620    378\n",
       "8283   TTHERM_00962070    378\n",
       "8284   TTHERM_00962020    378\n",
       "8285   TTHERM_00939090    378\n",
       "...                ...    ...\n",
       "20347  TTHERM_00357060      2\n",
       "20348  TTHERM_00343930      2\n",
       "20349  TTHERM_00321725      2\n",
       "20350  TTHERM_00190910      2\n",
       "20351  TTHERM_00145940      2\n",
       "\n",
       "[182 rows x 2 columns]"
      ]
     },
     "execution_count": 57,
     "metadata": {},
     "output_type": "execute_result"
    }
   ],
   "source": [
    "microarray.loc[microarray['label'].isin([int(m) for m in microarray_enrich.loc[microarray_enrich['term'].isin(['DE,EV', 'EV'])]['module'].values])]"
   ]
  },
  {
   "cell_type": "code",
   "execution_count": 58,
   "metadata": {},
   "outputs": [
    {
     "name": "stdout",
     "output_type": "stream",
     "text": [
      "m040,m194,m219,m294\n"
     ]
    }
   ],
   "source": [
    "print(','.join(['m'+str(int(m)).zfill(3) for m in rna_seq_enrich.loc[rna_seq_enrich['term'].isin(['DE,EV', 'EV'])]['module'].values]))"
   ]
  },
  {
   "cell_type": "code",
   "execution_count": 59,
   "metadata": {},
   "outputs": [
    {
     "data": {
      "text/html": [
       "<div>\n",
       "<style scoped>\n",
       "    .dataframe tbody tr th:only-of-type {\n",
       "        vertical-align: middle;\n",
       "    }\n",
       "\n",
       "    .dataframe tbody tr th {\n",
       "        vertical-align: top;\n",
       "    }\n",
       "\n",
       "    .dataframe thead th {\n",
       "        text-align: right;\n",
       "    }\n",
       "</style>\n",
       "<table border=\"1\" class=\"dataframe\">\n",
       "  <thead>\n",
       "    <tr style=\"text-align: right;\">\n",
       "      <th></th>\n",
       "      <th>TTHERM_ID</th>\n",
       "      <th>label</th>\n",
       "    </tr>\n",
       "  </thead>\n",
       "  <tbody>\n",
       "    <tr>\n",
       "      <th>13861</th>\n",
       "      <td>TTHERM_01297430</td>\n",
       "      <td>294</td>\n",
       "    </tr>\n",
       "    <tr>\n",
       "      <th>13862</th>\n",
       "      <td>TTHERM_01213910</td>\n",
       "      <td>294</td>\n",
       "    </tr>\n",
       "    <tr>\n",
       "      <th>13863</th>\n",
       "      <td>TTHERM_01142782</td>\n",
       "      <td>294</td>\n",
       "    </tr>\n",
       "    <tr>\n",
       "      <th>13864</th>\n",
       "      <td>TTHERM_01002740</td>\n",
       "      <td>294</td>\n",
       "    </tr>\n",
       "    <tr>\n",
       "      <th>13865</th>\n",
       "      <td>TTHERM_00833627</td>\n",
       "      <td>294</td>\n",
       "    </tr>\n",
       "    <tr>\n",
       "      <th>...</th>\n",
       "      <td>...</td>\n",
       "      <td>...</td>\n",
       "    </tr>\n",
       "    <tr>\n",
       "      <th>22002</th>\n",
       "      <td>TTHERM_00218460</td>\n",
       "      <td>40</td>\n",
       "    </tr>\n",
       "    <tr>\n",
       "      <th>22003</th>\n",
       "      <td>TTHERM_00101440</td>\n",
       "      <td>40</td>\n",
       "    </tr>\n",
       "    <tr>\n",
       "      <th>22004</th>\n",
       "      <td>TTHERM_00046372</td>\n",
       "      <td>40</td>\n",
       "    </tr>\n",
       "    <tr>\n",
       "      <th>22005</th>\n",
       "      <td>TTHERM_00041538</td>\n",
       "      <td>40</td>\n",
       "    </tr>\n",
       "    <tr>\n",
       "      <th>22006</th>\n",
       "      <td>TTHERM_00037120</td>\n",
       "      <td>40</td>\n",
       "    </tr>\n",
       "  </tbody>\n",
       "</table>\n",
       "<p>135 rows × 2 columns</p>\n",
       "</div>"
      ],
      "text/plain": [
       "             TTHERM_ID  label\n",
       "13861  TTHERM_01297430    294\n",
       "13862  TTHERM_01213910    294\n",
       "13863  TTHERM_01142782    294\n",
       "13864  TTHERM_01002740    294\n",
       "13865  TTHERM_00833627    294\n",
       "...                ...    ...\n",
       "22002  TTHERM_00218460     40\n",
       "22003  TTHERM_00101440     40\n",
       "22004  TTHERM_00046372     40\n",
       "22005  TTHERM_00041538     40\n",
       "22006  TTHERM_00037120     40\n",
       "\n",
       "[135 rows x 2 columns]"
      ]
     },
     "execution_count": 59,
     "metadata": {},
     "output_type": "execute_result"
    }
   ],
   "source": [
    "rna_seq.loc[rna_seq['label'].isin([int(m) for m in rna_seq_enrich.loc[rna_seq_enrich['term'].isin(['DE,EV', 'EV'])]['module'].values])]"
   ]
  },
  {
   "cell_type": "code",
   "execution_count": 60,
   "metadata": {},
   "outputs": [],
   "source": [
    "rna_seq.loc[rna_seq['label'].isin([int(m) for m in rna_seq_enrich.loc[rna_seq_enrich['term'].isin(['DE,EV', 'EV'])]['module'].values])].to_csv('./rna_seq_ev_enriched_module_genes.csv', index=False)"
   ]
  },
  {
   "cell_type": "code",
   "execution_count": 61,
   "metadata": {},
   "outputs": [
    {
     "data": {
      "text/plain": [
       "array([ 40., 194., 219., 294.])"
      ]
     },
     "execution_count": 61,
     "metadata": {},
     "output_type": "execute_result"
    }
   ],
   "source": [
    "rna_seq_enrich.loc[rna_seq_enrich['term'].isin(['DE,EV', 'EV'])]['module'].values"
   ]
  },
  {
   "cell_type": "code",
   "execution_count": 62,
   "metadata": {},
   "outputs": [
    {
     "data": {
      "text/html": [
       "<div>\n",
       "<style scoped>\n",
       "    .dataframe tbody tr th:only-of-type {\n",
       "        vertical-align: middle;\n",
       "    }\n",
       "\n",
       "    .dataframe tbody tr th {\n",
       "        vertical-align: top;\n",
       "    }\n",
       "\n",
       "    .dataframe thead th {\n",
       "        text-align: right;\n",
       "    }\n",
       "</style>\n",
       "<table border=\"1\" class=\"dataframe\">\n",
       "  <thead>\n",
       "    <tr style=\"text-align: right;\">\n",
       "      <th></th>\n",
       "      <th>module</th>\n",
       "      <th>term</th>\n",
       "      <th>info</th>\n",
       "      <th>fold_change</th>\n",
       "      <th>bonferroni</th>\n",
       "      <th>term_count</th>\n",
       "      <th>module_size</th>\n",
       "    </tr>\n",
       "  </thead>\n",
       "  <tbody>\n",
       "    <tr>\n",
       "      <th>0</th>\n",
       "      <td>40.0</td>\n",
       "      <td>EV</td>\n",
       "      <td>experimentally validated mucocyst-associated gene</td>\n",
       "      <td>104.347996</td>\n",
       "      <td>6.895695e-06</td>\n",
       "      <td>4.0</td>\n",
       "      <td>31.0</td>\n",
       "    </tr>\n",
       "    <tr>\n",
       "      <th>1</th>\n",
       "      <td>194.0</td>\n",
       "      <td>EV</td>\n",
       "      <td>experimentally validated mucocyst-associated gene</td>\n",
       "      <td>193.384058</td>\n",
       "      <td>5.719824e-21</td>\n",
       "      <td>11.0</td>\n",
       "      <td>46.0</td>\n",
       "    </tr>\n",
       "    <tr>\n",
       "      <th>0</th>\n",
       "      <td>219.0</td>\n",
       "      <td>EV</td>\n",
       "      <td>experimentally validated mucocyst-associated gene</td>\n",
       "      <td>59.903479</td>\n",
       "      <td>3.218351e-02</td>\n",
       "      <td>2.0</td>\n",
       "      <td>27.0</td>\n",
       "    </tr>\n",
       "    <tr>\n",
       "      <th>1</th>\n",
       "      <td>294.0</td>\n",
       "      <td>EV</td>\n",
       "      <td>experimentally validated mucocyst-associated gene</td>\n",
       "      <td>78.260997</td>\n",
       "      <td>6.387482e-04</td>\n",
       "      <td>3.0</td>\n",
       "      <td>31.0</td>\n",
       "    </tr>\n",
       "  </tbody>\n",
       "</table>\n",
       "</div>"
      ],
      "text/plain": [
       "   module term                                               info  \\\n",
       "0    40.0   EV  experimentally validated mucocyst-associated gene   \n",
       "1   194.0   EV  experimentally validated mucocyst-associated gene   \n",
       "0   219.0   EV  experimentally validated mucocyst-associated gene   \n",
       "1   294.0   EV  experimentally validated mucocyst-associated gene   \n",
       "\n",
       "   fold_change    bonferroni  term_count  module_size  \n",
       "0   104.347996  6.895695e-06         4.0         31.0  \n",
       "1   193.384058  5.719824e-21        11.0         46.0  \n",
       "0    59.903479  3.218351e-02         2.0         27.0  \n",
       "1    78.260997  6.387482e-04         3.0         31.0  "
      ]
     },
     "execution_count": 62,
     "metadata": {},
     "output_type": "execute_result"
    }
   ],
   "source": [
    "rna_seq_enrich.loc[rna_seq_enrich['term'].isin(['DE,EV', 'EV'])]"
   ]
  },
  {
   "cell_type": "code",
   "execution_count": 63,
   "metadata": {},
   "outputs": [
    {
     "data": {
      "text/plain": [
       "[40, 194, 219, 294]"
      ]
     },
     "execution_count": 63,
     "metadata": {},
     "output_type": "execute_result"
    }
   ],
   "source": [
    "[int(m) for m in rna_seq_enrich.loc[rna_seq_enrich['term'].isin(['DE,EV', 'EV'])]['module'].values]"
   ]
  },
  {
   "cell_type": "code",
   "execution_count": 64,
   "metadata": {},
   "outputs": [],
   "source": [
    "microarray.loc[microarray['label'].isin([int(m) for m in microarray_enrich.loc[microarray_enrich['term'].isin(['DE,EV', 'EV'])]['module'].values])].to_csv('./microarray_ev_enriched_module_genes.csv', index=False)"
   ]
  },
  {
   "cell_type": "code",
   "execution_count": 65,
   "metadata": {},
   "outputs": [],
   "source": [
    "rna_ev = set([(int(m)) for m in rna_seq_enrich.loc[rna_seq_enrich['term'].isin(['DE,EV', 'EV'])]['module'].values])\n",
    "microarray_ev = set([(int(m)) for m in microarray_enrich.loc[microarray_enrich['term'].isin(['DE,EV', 'EV'])]['module'].values])"
   ]
  },
  {
   "cell_type": "code",
   "execution_count": 66,
   "metadata": {},
   "outputs": [
    {
     "name": "stdout",
     "output_type": "stream",
     "text": [
      "m725, m724, m721, m692, m462, m461, m460, m458, m454, m452, m413, m394, m393, m392, m389, m359, m250, m237, m234, m199\n"
     ]
    }
   ],
   "source": [
    "print(', '.join([f'm{str(int(mod)).zfill(3)}' for mod in (dataframe_utils.sql_query_df({'rna_seq_enrich': rna_seq_enrich}, 'select distinct(module) from rna_seq_enrich where info LIKE \"%ribosom%\"').sort_values(by='module', ascending=False)['module'].values)]))"
   ]
  },
  {
   "cell_type": "code",
   "execution_count": 67,
   "metadata": {},
   "outputs": [
    {
     "data": {
      "text/plain": [
       "{40, 194, 219, 294}"
      ]
     },
     "execution_count": 67,
     "metadata": {},
     "output_type": "execute_result"
    }
   ],
   "source": [
    "rna_ev"
   ]
  },
  {
   "cell_type": "code",
   "execution_count": 68,
   "metadata": {},
   "outputs": [],
   "source": [
    "muco_exp = set(muco_exp_list)"
   ]
  },
  {
   "cell_type": "code",
   "execution_count": 69,
   "metadata": {},
   "outputs": [],
   "source": [
    "rna_seq_ev_enriched_df = rna_seq.loc[rna_seq['label'].isin([int(m) for m in rna_seq_enrich.loc[rna_seq_enrich['term'].isin(['DE,EV', 'EV'])]['module'].values])]"
   ]
  },
  {
   "cell_type": "code",
   "execution_count": 70,
   "metadata": {},
   "outputs": [],
   "source": [
    "microarray_ev_enriched_df = microarray.loc[microarray['label'].isin([int(m) for m in microarray_enrich.loc[microarray_enrich['term'].isin(['DE,EV', 'EV'])]['module'].values])]"
   ]
  },
  {
   "cell_type": "code",
   "execution_count": 71,
   "metadata": {},
   "outputs": [],
   "source": [
    "# import matplotlib.pyplot as plt\n",
    "# from venn import venn\n",
    "\n",
    "# # Define the sets\n",
    "# sets = {\n",
    "#     'Upregulated': set(ttherm_df_filtered['Unnamed: 0'].values),\n",
    "#     'Enriched Microarray Clusters': set(microarray_ev_enriched_df['TTHERM_ID'].values),\n",
    "#     'Enriched RNA-seq Clusters': set(rna_seq_ev_enriched_df['TTHERM_ID'].values),\n",
    "# }\n",
    "\n",
    "# # Create the Venn diagram\n",
    "# v = venn(sets, legend_loc='upper center', ax=None, figsize=(10, 50))\n",
    "\n",
    "# plt.savefig('muco_venn.svg', format='svg')\n",
    "\n",
    "# plt.show()"
   ]
  },
  {
   "cell_type": "code",
   "execution_count": 72,
   "metadata": {},
   "outputs": [
    {
     "data": {
      "image/png": "[encoded data removed]",
      "text/plain": [
       "<Figure size 1000x800 with 1 Axes>"
      ]
     },
     "metadata": {},
     "output_type": "display_data"
    }
   ],
   "source": [
    "import matplotlib.pyplot as plt\n",
    "from matplotlib_venn import venn3, venn3_circles\n",
    "\n",
    "# Define the sets\n",
    "sets = {\n",
    "    'Upregulated': set(ttherm_df_filtered['Unnamed: 0'].values),\n",
    "    'Enriched Microarray Clusters': set(microarray_ev_enriched_df['TTHERM_ID'].values),\n",
    "    'Enriched RNA-seq Clusters': set(rna_seq_ev_enriched_df['TTHERM_ID'].values),\n",
    "}\n",
    "\n",
    "# Create the Venn diagram with specified figure size\n",
    "fig, ax = plt.subplots(figsize=(10, 8))  # Adjust the figsize here as needed\n",
    "\n",
    "# Create a 3-set Venn diagram\n",
    "v = venn3([sets['Upregulated'], sets['Enriched Microarray Clusters'], sets['Enriched RNA-seq Clusters']],\n",
    "          ('Upregulated', 'Enriched Microarray Clusters', 'Enriched RNA-seq Clusters'),\n",
    "          ax=ax)\n",
    "\n",
    "venn3_circles(\n",
    "    subsets=(\n",
    "    sets['Upregulated'], \n",
    "    sets['Enriched Microarray Clusters'], \n",
    "    sets['Enriched RNA-seq Clusters']),\n",
    "    linewidth=1,\n",
    "    \n",
    ")\n",
    "\n",
    "# Save the plot in SVG format\n",
    "plt.savefig('muco_venn.svg', format='svg')\n",
    "\n",
    "# Display the plot\n",
    "plt.show()"
   ]
  },
  {
   "cell_type": "code",
   "execution_count": 73,
   "metadata": {},
   "outputs": [],
   "source": [
    "intersection_all = (set(ttherm_df_filtered['Unnamed: 0'].values).intersection(set(microarray_ev_enriched_df['TTHERM_ID'].values)).intersection(set(rna_seq_ev_enriched_df['TTHERM_ID'].values)))"
   ]
  },
  {
   "cell_type": "code",
   "execution_count": 74,
   "metadata": {},
   "outputs": [],
   "source": [
    "intersection_all = (set(ttherm_df_filtered['Unnamed: 0'].values).intersection(set(microarray_ev_enriched_df['TTHERM_ID'].values)).intersection(set(rna_seq_ev_enriched_df['TTHERM_ID'].values)))\n",
    "intersection_enriched = (set(microarray_ev_enriched_df['TTHERM_ID'].values)).intersection(set(rna_seq_ev_enriched_df['TTHERM_ID'].values)) - intersection_all\n",
    "intersection_dem = (set(ttherm_df_filtered['Unnamed: 0'].values)).intersection(set(microarray_ev_enriched_df['TTHERM_ID'].values)) - intersection_all\n",
    "intersection_der = (set(ttherm_df_filtered['Unnamed: 0'].values)).intersection(set(rna_seq_ev_enriched_df['TTHERM_ID'].values)) - intersection_all"
   ]
  },
  {
   "cell_type": "code",
   "execution_count": 75,
   "metadata": {},
   "outputs": [
    {
     "data": {
      "text/plain": [
       "(33, 8, 112, 5)"
      ]
     },
     "execution_count": 75,
     "metadata": {},
     "output_type": "execute_result"
    }
   ],
   "source": [
    "len(intersection_all), len(intersection_enriched), len(intersection_dem), len(intersection_der)"
   ]
  },
  {
   "cell_type": "code",
   "execution_count": 76,
   "metadata": {
    "scrolled": true
   },
   "outputs": [
    {
     "name": "stdout",
     "output_type": "stream",
     "text": [
      "33 gene intersection between all gene groups:\n",
      "TTHERM_00011710, TTHERM_00038880, TTHERM_00046372, TTHERM_00047330, TTHERM_00052190, TTHERM_00092820, TTHERM_00145480, TTHERM_00283760, TTHERM_00313130, TTHERM_00314860, TTHERM_00317390, TTHERM_00321720, TTHERM_00392790, TTHERM_00410180, TTHERM_00410210, TTHERM_00471040, TTHERM_00473020, TTHERM_00486275, TTHERM_00522740, TTHERM_00550920, TTHERM_00572100, TTHERM_00649180, TTHERM_00670750, TTHERM_00697290, TTHERM_00755930, TTHERM_00773700, TTHERM_00773710, TTHERM_00787390, TTHERM_00938950, TTHERM_01049340, TTHERM_01122800, TTHERM_01213910, TTHERM_01287970\n",
      "8 gene intersection between the genes in the microarray enriched clusters and the RNA-seq enriched clusters:\n",
      "TTHERM_00221120, TTHERM_00378890, TTHERM_00522600, TTHERM_00527180, TTHERM_00537380, TTHERM_00624720, TTHERM_00624730, TTHERM_01055600\n",
      "112 gene intersection between the differentially expressed genes and the genes in the microarray enriched clusters:\n",
      "TTHERM_00013398, TTHERM_00013410, TTHERM_00028601, TTHERM_00042744, TTHERM_00059370, TTHERM_00133760, TTHERM_00140780, TTHERM_00141040, TTHERM_00141050, TTHERM_00145940, TTHERM_00171640, TTHERM_00185860, TTHERM_00190910, TTHERM_00193465, TTHERM_00194220, TTHERM_00218690, TTHERM_00221090, TTHERM_00227750, TTHERM_00237520, TTHERM_00239340, TTHERM_00241790, TTHERM_00242590, TTHERM_00283800, TTHERM_00285250, TTHERM_00285430, TTHERM_00292090, TTHERM_00293435, TTHERM_00312200, TTHERM_00318900, TTHERM_00321680, TTHERM_00321725, TTHERM_00338330, TTHERM_00340010, TTHERM_00340180, TTHERM_00343930, TTHERM_00355700, TTHERM_00357060, TTHERM_00361795, TTHERM_00390080, TTHERM_00392830, TTHERM_00401970, TTHERM_00409100, TTHERM_00411560, TTHERM_00420085, TTHERM_00420250, TTHERM_00420770, TTHERM_00420960, TTHERM_00425930, TTHERM_00440600, TTHERM_00445920, TTHERM_00448750, TTHERM_00471740, TTHERM_00486995, TTHERM_00492550, TTHERM_00494700, TTHERM_00496990, TTHERM_00497590, TTHERM_00516380, TTHERM_00516395, TTHERM_00526730, TTHERM_00526910, TTHERM_00532440, TTHERM_00554390, TTHERM_00558350, TTHERM_00570550, TTHERM_00585170, TTHERM_00590170, TTHERM_00590330, TTHERM_00592740, TTHERM_00599750, TTHERM_00600370, TTHERM_00622890, TTHERM_00628650, TTHERM_00630030, TTHERM_00632940, TTHERM_00672229, TTHERM_00678400, TTHERM_00685980, TTHERM_00691410, TTHERM_00703490, TTHERM_00703870, TTHERM_00709730, TTHERM_00715730, TTHERM_00715800, TTHERM_00721270, TTHERM_00721570, TTHERM_00721690, TTHERM_00819540, TTHERM_00827060, TTHERM_00840010, TTHERM_00895615, TTHERM_00924290, TTHERM_00938850, TTHERM_00954170, TTHERM_00997740, TTHERM_01005060, TTHERM_01019605, TTHERM_01041999, TTHERM_01044380, TTHERM_01044620, TTHERM_01071420, TTHERM_01084110, TTHERM_01093580, TTHERM_01106040, TTHERM_01143870, TTHERM_01156770, TTHERM_01165230, TTHERM_01197130, TTHERM_01256510, TTHERM_01321550, TTHERM_01332070, TTHERM_01372820\n",
      "5 gene intersection between the differentially expressed genes and the genes in the RNA-seq enriched clusters:\n",
      "TTHERM_00024280, TTHERM_00218460, TTHERM_00242080, TTHERM_00581590, TTHERM_01297430\n"
     ]
    }
   ],
   "source": [
    "print(f'{len(intersection_all)} gene intersection between all gene groups:')\n",
    "print(*sorted(intersection_all), sep=', ')\n",
    "\n",
    "print(f'{len(intersection_enriched)} gene intersection between the genes in the microarray enriched clusters and the RNA-seq enriched clusters:')\n",
    "print(*sorted(intersection_enriched), sep=', ')\n",
    "\n",
    "print(f'{len(intersection_dem)} gene intersection between the differentially expressed genes and the genes in the microarray enriched clusters:')\n",
    "print(*sorted(intersection_dem), sep=', ')\n",
    "\n",
    "print(f'{len(intersection_der)} gene intersection between the differentially expressed genes and the genes in the RNA-seq enriched clusters:')\n",
    "print(*sorted(intersection_der), sep=', ')"
   ]
  },
  {
   "cell_type": "code",
   "execution_count": 77,
   "metadata": {},
   "outputs": [
    {
     "data": {
      "text/plain": [
       "13"
      ]
     },
     "execution_count": 77,
     "metadata": {},
     "output_type": "execute_result"
    }
   ],
   "source": [
    "int_all_ev = intersection_all.intersection(set(muco_exp_list))\n",
    "len(int_all_ev)"
   ]
  },
  {
   "cell_type": "code",
   "execution_count": 78,
   "metadata": {},
   "outputs": [
    {
     "data": {
      "text/plain": [
       "7"
      ]
     },
     "execution_count": 78,
     "metadata": {},
     "output_type": "execute_result"
    }
   ],
   "source": [
    "int_enr_ev = intersection_enriched.intersection(set(muco_exp_list))\n",
    "len(int_enr_ev)"
   ]
  },
  {
   "cell_type": "code",
   "execution_count": 79,
   "metadata": {},
   "outputs": [
    {
     "data": {
      "text/plain": [
       "8"
      ]
     },
     "execution_count": 79,
     "metadata": {},
     "output_type": "execute_result"
    }
   ],
   "source": [
    "int_dem_ev = intersection_dem.intersection(set(muco_exp_list))\n",
    "len(int_dem_ev)"
   ]
  },
  {
   "cell_type": "code",
   "execution_count": 80,
   "metadata": {},
   "outputs": [
    {
     "data": {
      "text/plain": [
       "0"
      ]
     },
     "execution_count": 80,
     "metadata": {},
     "output_type": "execute_result"
    }
   ],
   "source": [
    "int_der_ev = intersection_der.intersection(set(muco_exp_list))\n",
    "len(int_der_ev)"
   ]
  },
  {
   "cell_type": "code",
   "execution_count": 81,
   "metadata": {},
   "outputs": [
    {
     "data": {
      "text/plain": [
       "28"
      ]
     },
     "execution_count": 81,
     "metadata": {},
     "output_type": "execute_result"
    }
   ],
   "source": [
    "agreement = int_all_ev.union(int_enr_ev).union(int_dem_ev).union(int_der_ev)\n",
    "len(agreement)"
   ]
  },
  {
   "cell_type": "code",
   "execution_count": 82,
   "metadata": {},
   "outputs": [],
   "source": [
    "lost = []\n",
    "for t in muco_exp_list:\n",
    "    if t not in agreement:\n",
    "        lost.append(t)"
   ]
  },
  {
   "cell_type": "code",
   "execution_count": 83,
   "metadata": {},
   "outputs": [
    {
     "data": {
      "text/plain": [
       "'TTHERM_00566910, TTHERM_00658810, TTHERM_00886960, TTHERM_00498010, TTHERM_00290710'"
      ]
     },
     "execution_count": 83,
     "metadata": {},
     "output_type": "execute_result"
    }
   ],
   "source": [
    "', '.join(lost)"
   ]
  },
  {
   "cell_type": "code",
   "execution_count": 84,
   "metadata": {},
   "outputs": [
    {
     "data": {
      "text/plain": [
       "True"
      ]
     },
     "execution_count": 84,
     "metadata": {},
     "output_type": "execute_result"
    }
   ],
   "source": [
    "'TTHERM_00467390' in ttherm_df['Unnamed: 0'].values"
   ]
  },
  {
   "cell_type": "code",
   "execution_count": null,
   "metadata": {},
   "outputs": [],
   "source": []
  },
  {
   "cell_type": "code",
   "execution_count": 85,
   "metadata": {},
   "outputs": [
    {
     "data": {
      "text/plain": [
       "'TTHERM_00410210, TTHERM_01213910, TTHERM_01287970, TTHERM_00670750, TTHERM_00572100, TTHERM_00313130, TTHERM_00410180, TTHERM_00486275, TTHERM_00317390, TTHERM_00052190, TTHERM_00047330, TTHERM_01122800, TTHERM_00011710'"
      ]
     },
     "execution_count": 85,
     "metadata": {},
     "output_type": "execute_result"
    }
   ],
   "source": [
    "', '.join(int_all_ev)"
   ]
  },
  {
   "cell_type": "code",
   "execution_count": 86,
   "metadata": {},
   "outputs": [
    {
     "data": {
      "text/plain": [
       "'TTHERM_00378890, TTHERM_00624720, TTHERM_00522600, TTHERM_01055600, TTHERM_00624730, TTHERM_00527180, TTHERM_00221120'"
      ]
     },
     "execution_count": 86,
     "metadata": {},
     "output_type": "execute_result"
    }
   ],
   "source": [
    "', '.join(int_enr_ev)"
   ]
  },
  {
   "cell_type": "code",
   "execution_count": 87,
   "metadata": {},
   "outputs": [
    {
     "data": {
      "text/plain": [
       "'TTHERM_00013410, TTHERM_00193465, TTHERM_00445920, TTHERM_00227750, TTHERM_00141040, TTHERM_00321680, TTHERM_00420770, TTHERM_00558350'"
      ]
     },
     "execution_count": 87,
     "metadata": {},
     "output_type": "execute_result"
    }
   ],
   "source": [
    "', '.join(int_dem_ev)"
   ]
  },
  {
   "cell_type": "code",
   "execution_count": 88,
   "metadata": {},
   "outputs": [
    {
     "data": {
      "text/plain": [
       "''"
      ]
     },
     "execution_count": 88,
     "metadata": {},
     "output_type": "execute_result"
    }
   ],
   "source": [
    "', '.join(int_der_ev)"
   ]
  },
  {
   "cell_type": "code",
   "execution_count": 89,
   "metadata": {},
   "outputs": [
    {
     "data": {
      "text/plain": [
       "20"
      ]
     },
     "execution_count": 89,
     "metadata": {},
     "output_type": "execute_result"
    }
   ],
   "source": [
    "len(enr_coexp.intersection(set(muco_exp_list)))"
   ]
  },
  {
   "cell_type": "code",
   "execution_count": 90,
   "metadata": {},
   "outputs": [
    {
     "data": {
      "text/plain": [
       "(33, 33)"
      ]
     },
     "execution_count": 90,
     "metadata": {},
     "output_type": "execute_result"
    }
   ],
   "source": [
    "len(intersection_all), len(muco_exp)"
   ]
  },
  {
   "cell_type": "code",
   "execution_count": 91,
   "metadata": {},
   "outputs": [
    {
     "data": {
      "text/plain": [
       "13"
      ]
     },
     "execution_count": 91,
     "metadata": {},
     "output_type": "execute_result"
    }
   ],
   "source": [
    "len(intersection_all.intersection(muco_exp))"
   ]
  },
  {
   "cell_type": "code",
   "execution_count": 92,
   "metadata": {},
   "outputs": [
    {
     "name": "stdout",
     "output_type": "stream",
     "text": [
      "TTHERM_00410210, TTHERM_01213910, TTHERM_01287970, TTHERM_00670750, TTHERM_00572100, TTHERM_00313130, TTHERM_00410180, TTHERM_00486275, TTHERM_00317390, TTHERM_00052190, TTHERM_00047330, TTHERM_01122800, TTHERM_00011710\n"
     ]
    }
   ],
   "source": [
    "print(*intersection_all.intersection(muco_exp), sep=', ')"
   ]
  },
  {
   "cell_type": "code",
   "execution_count": null,
   "metadata": {},
   "outputs": [],
   "source": []
  },
  {
   "cell_type": "markdown",
   "metadata": {},
   "source": [
    "### What is in the secretome (Madinger et al., 2010)?"
   ]
  },
  {
   "cell_type": "code",
   "execution_count": 93,
   "metadata": {},
   "outputs": [],
   "source": [
    "# From their supplementary materials, Table 2\n",
    "secretome_ids = ['474970',\n",
    " '378810',\n",
    " '912260',\n",
    " '624760',\n",
    " '411610',\n",
    " '299820',\n",
    " '630570',\n",
    " '149680',\n",
    " '731370',\n",
    " '630500',\n",
    " '164950',\n",
    " '209440',\n",
    " '427500',\n",
    " '1277530',\n",
    " '585170',\n",
    " '00086780',\n",
    " '1002860',\n",
    " '1002870',\n",
    " '00038880',\n",
    " '476450',\n",
    " '196530',\n",
    " '527400',\n",
    " '794490',\n",
    " '1433580',\n",
    " '569419',\n",
    " '630620',\n",
    " '590090',\n",
    " '191370',\n",
    " '780890',\n",
    " '310590',\n",
    " '320050',\n",
    " '00047130',\n",
    " '125640',\n",
    " '558440',\n",
    " '1080440',\n",
    " '912290',\n",
    " '938820',\n",
    " '471470',\n",
    " '00068170',\n",
    " '859260',\n",
    " '00046480',\n",
    " '1013300',\n",
    " '487090',\n",
    " '216010',\n",
    " '00160770',\n",
    " '402120',\n",
    " '129820',\n",
    " '1068140',\n",
    " '520951',\n",
    " '521950',\n",
    " '00535640',\n",
    " '220690',\n",
    " '00321600',\n",
    " '00321640',\n",
    " '629960',\n",
    " '629970',\n",
    " '227830',\n",
    " '230960',\n",
    " '242300',\n",
    " '527180',\n",
    " '473020',\n",
    " '624730',\n",
    " '624720',\n",
    " '378890',\n",
    " '522600',\n",
    " '1055600',\n",
    " '1018540',\n",
    " '221120',\n",
    " '221130',\n",
    " '129830',\n",
    " '00056060',\n",
    " '158520',\n",
    " '537380',\n",
    " '00049470',\n",
    " '145290',\n",
    " '148850',\n",
    " '156740',\n",
    " '189070',\n",
    " '249730',\n",
    " '249740',\n",
    " '249750',\n",
    " '268210',\n",
    " '292250',\n",
    " '298270',\n",
    " '310880',\n",
    " '336030',\n",
    " '355420',\n",
    " '373770',\n",
    " '00377390',\n",
    " '382240',\n",
    " '415670',\n",
    " '415690',\n",
    " '418170',\n",
    " '437360',\n",
    " '444810',\n",
    " '444890',\n",
    " '486700',\n",
    " '497360',\n",
    " '551040',\n",
    " '554290',\n",
    " '559980',\n",
    " '566690',\n",
    " '569430',\n",
    " '579210',\n",
    " '633120',\n",
    " '994220',\n",
    " '1043150',\n",
    " '335740',\n",
    " '361770',\n",
    " '412150',\n",
    " '659060',\n",
    " '1386080',\n",
    " '185540',\n",
    " '777260',\n",
    " '777250',\n",
    " '442170',\n",
    " '515220',\n",
    " '716040',\n",
    " '837960',\n",
    " '951910',\n",
    " '951920',\n",
    " '688280',\n",
    " '1125120',\n",
    " '1009950',\n",
    " '662749',\n",
    " '497680',\n",
    " '823510',\n",
    " '00070730',\n",
    " '1085640',\n",
    " '1027470',\n",
    " '133570',\n",
    " '1015980',\n",
    " '661740',\n",
    " '662750',\n",
    " '663790',\n",
    " '998860',\n",
    " '1243480',\n",
    " '00094060',\n",
    " '522940',\n",
    " '222360',\n",
    " '112700',\n",
    " '1265000',\n",
    " '652570',\n",
    " '138600',\n",
    " '301900',\n",
    " '532170',\n",
    " '289550',\n",
    " '352190',\n",
    " '1008630',\n",
    " '629930',\n",
    " '46589',\n",
    " '00412070',\n",
    " '161010',\n",
    " '79610',\n",
    " '00083480',\n",
    " '823810',\n",
    " '1256490',\n",
    " '79600',\n",
    " '161130',\n",
    " '879300',\n",
    " '881420',\n",
    " '881450',\n",
    " '79640',\n",
    " '00079650',\n",
    " '660360',\n",
    " '660380',\n",
    " '660390',\n",
    " '660410',\n",
    " '802340',\n",
    " '881330',\n",
    " '881410',\n",
    " '00075840',\n",
    " '879270',\n",
    " '881380',\n",
    " '532060',\n",
    " '00102770',\n",
    " '102779',\n",
    " '641150',\n",
    " '79450',\n",
    " '881440',\n",
    " '530660',\n",
    " '683060',\n",
    " '755950',\n",
    " '268060',\n",
    " '760310',\n",
    " '211520',\n",
    " '320350',\n",
    " '469210',\n",
    " '00066890',\n",
    " '657510',\n",
    " '203010',\n",
    " '467860',\n",
    " '2563200',\n",
    " '279710',\n",
    " '417920',\n",
    " '417930',\n",
    " '417940',\n",
    " '418110',\n",
    " '683010',\n",
    " '475140',\n",
    " '415730',\n",
    " '606960',\n",
    " '540050',\n",
    " '600280',\n",
    " '00016340',\n",
    " '225860',\n",
    " '155260']"
   ]
  },
  {
   "cell_type": "code",
   "execution_count": 94,
   "metadata": {},
   "outputs": [],
   "source": [
    "# Specifically peptides that are over-secreted in starved SB281 vs. starved SB210,\n",
    "# peptides that are detectable in at least two MS replicates in starved SB281 (Madinger et al. Suppl. Tab. 1)\n",
    "# \n",
    "\n",
    "ssb281_ids = [\n",
    "    \"TTHERM_00585170\",\n",
    "    \"TTHERM_00527180\",\n",
    "    \"TTHERM_00624730\",\n",
    "    \"TTHERM_00624720\",\n",
    "    \"TTHERM_00378890\",\n",
    "    \"TTHERM_00522600\",\n",
    "    \"TTHERM_01055600\",\n",
    "    \"TTHERM_01018540\",\n",
    "    \"TTHERM_00221120\",\n",
    "    \"TTHERM_00221130\",\n",
    "    \"TTHERM_00537380\",\n",
    "    \"TTHERM_00185540\",\n",
    "    \"TTHERM_00530660\",\n",
    "    \"TTHERM_00755950\",\n",
    "    \n",
    "]"
   ]
  },
  {
   "cell_type": "code",
   "execution_count": 95,
   "metadata": {},
   "outputs": [
    {
     "data": {
      "text/plain": [
       "'TTHERM_00585170, TTHERM_00527180, TTHERM_00624730, TTHERM_00624720, TTHERM_00378890, TTHERM_00522600, TTHERM_01055600, TTHERM_01018540, TTHERM_00221120, TTHERM_00221130, TTHERM_00537380, TTHERM_00185540, TTHERM_00530660, TTHERM_00755950'"
      ]
     },
     "execution_count": 95,
     "metadata": {},
     "output_type": "execute_result"
    }
   ],
   "source": [
    "', '.join(ssb281_ids)"
   ]
  },
  {
   "cell_type": "code",
   "execution_count": 96,
   "metadata": {},
   "outputs": [],
   "source": [
    "ssb281_matches = []\n",
    "ambiguous = []\n",
    "for i in ssb281_ids:\n",
    "    match = modified_annotation[modified_annotation['TTHERM_ID'].str.contains(i)]\n",
    "    if len(match) == 1:\n",
    "        ssb281_matches.append(match['TTHERM_ID'].values[0])\n",
    "    elif len(match) > 1:\n",
    "        ambiguous.append(list(match['TTHERM_ID'].values))\n",
    "\n",
    "secretome_matches = []\n",
    "for i in secretome_ids:\n",
    "    match = modified_annotation[modified_annotation['TTHERM_ID'].str.contains(i)]\n",
    "    if len(match) == 1:\n",
    "        secretome_matches.append(match['TTHERM_ID'].values[0])\n",
    "    elif len(match) > 1:\n",
    "        ambiguous.append(list(match['TTHERM_ID'].values))"
   ]
  },
  {
   "cell_type": "code",
   "execution_count": 97,
   "metadata": {},
   "outputs": [
    {
     "data": {
      "text/plain": [
       "[]"
      ]
     },
     "execution_count": 97,
     "metadata": {},
     "output_type": "execute_result"
    }
   ],
   "source": [
    "ambiguous"
   ]
  },
  {
   "cell_type": "code",
   "execution_count": 98,
   "metadata": {},
   "outputs": [
    {
     "data": {
      "text/plain": [
       "14"
      ]
     },
     "execution_count": 98,
     "metadata": {},
     "output_type": "execute_result"
    }
   ],
   "source": [
    "len(ssb281_matches)"
   ]
  },
  {
   "cell_type": "code",
   "execution_count": 99,
   "metadata": {},
   "outputs": [
    {
     "data": {
      "text/plain": [
       "14"
      ]
     },
     "execution_count": 99,
     "metadata": {},
     "output_type": "execute_result"
    }
   ],
   "source": [
    "len(ssb281_ids)"
   ]
  },
  {
   "cell_type": "code",
   "execution_count": 100,
   "metadata": {},
   "outputs": [
    {
     "data": {
      "text/plain": [
       "197"
      ]
     },
     "execution_count": 100,
     "metadata": {},
     "output_type": "execute_result"
    }
   ],
   "source": [
    "len(secretome_matches)"
   ]
  },
  {
   "cell_type": "code",
   "execution_count": 101,
   "metadata": {},
   "outputs": [],
   "source": [
    "ssb281_secretome_df = modified_annotation.loc[modified_annotation['TTHERM_ID'].isin(ssb281_matches)]"
   ]
  },
  {
   "cell_type": "code",
   "execution_count": 102,
   "metadata": {},
   "outputs": [
    {
     "data": {
      "text/html": [
       "<div>\n",
       "<style scoped>\n",
       "    .dataframe tbody tr th:only-of-type {\n",
       "        vertical-align: middle;\n",
       "    }\n",
       "\n",
       "    .dataframe tbody tr th {\n",
       "        vertical-align: top;\n",
       "    }\n",
       "\n",
       "    .dataframe thead th {\n",
       "        text-align: right;\n",
       "    }\n",
       "</style>\n",
       "<table border=\"1\" class=\"dataframe\">\n",
       "  <thead>\n",
       "    <tr style=\"text-align: right;\">\n",
       "      <th></th>\n",
       "      <th>TTHERM_ID</th>\n",
       "      <th>seed_ortholog</th>\n",
       "      <th>evalue</th>\n",
       "      <th>score</th>\n",
       "      <th>eggNOG_OGs</th>\n",
       "      <th>max_annot_lvl</th>\n",
       "      <th>COG_category</th>\n",
       "      <th>Description</th>\n",
       "      <th>Preferred_name</th>\n",
       "      <th>GOs</th>\n",
       "      <th>...</th>\n",
       "      <th>KEGG_TC</th>\n",
       "      <th>CAZy</th>\n",
       "      <th>BiGG_Reaction</th>\n",
       "      <th>PFAMs</th>\n",
       "      <th>TGD2021_description</th>\n",
       "      <th>peptide</th>\n",
       "      <th>common_name</th>\n",
       "      <th>InterPro</th>\n",
       "      <th>InterPro_description</th>\n",
       "      <th>mucocysts</th>\n",
       "    </tr>\n",
       "  </thead>\n",
       "  <tbody>\n",
       "    <tr>\n",
       "      <th>1247</th>\n",
       "      <td>TTHERM_00530660</td>\n",
       "      <td>34740.HMEL003507-PA</td>\n",
       "      <td>4.1e-152</td>\n",
       "      <td>501.6</td>\n",
       "      <td>COG4870@1|root,KOG1542@2759|Eukaryota,KOG1543@...</td>\n",
       "      <td>33208|Metazoa</td>\n",
       "      <td>O</td>\n",
       "      <td>Papain family cysteine protease</td>\n",
       "      <td>-</td>\n",
       "      <td>-</td>\n",
       "      <td>...</td>\n",
       "      <td>-</td>\n",
       "      <td>-</td>\n",
       "      <td>-</td>\n",
       "      <td>Inhibitor_I29,Peptidase_C1</td>\n",
       "      <td>CTH99 papain family cysteine protease</td>\n",
       "      <td>MRTQLLIAAALGLTLLGLTSYLFLHKSTQVGYTDDQINMWKGFKKT...</td>\n",
       "      <td>CTH99</td>\n",
       "      <td>IPR000169,IPR000668,IPR013128,IPR013201,IPR025...</td>\n",
       "      <td>Cysteine peptidase, cysteine active site,Pepti...</td>\n",
       "      <td>-</td>\n",
       "    </tr>\n",
       "    <tr>\n",
       "      <th>4266</th>\n",
       "      <td>TTHERM_00221120</td>\n",
       "      <td>5911.EAS00439</td>\n",
       "      <td>0.0</td>\n",
       "      <td>1777.2</td>\n",
       "      <td>2EAG9@1|root,2SGQ6@2759|Eukaryota,3ZBTY@5878|C...</td>\n",
       "      <td>5878|Ciliophora</td>\n",
       "      <td>S</td>\n",
       "      <td>Beta/Gamma crystallin</td>\n",
       "      <td>-</td>\n",
       "      <td>-</td>\n",
       "      <td>...</td>\n",
       "      <td>-</td>\n",
       "      <td>-</td>\n",
       "      <td>-</td>\n",
       "      <td>Crystall</td>\n",
       "      <td>GRT1 granule tip protein</td>\n",
       "      <td>MRKSWIIIAALLVVSAVADVKLVTSEFSAKNFDSSAVSGWSVTGNK...</td>\n",
       "      <td>GRT1</td>\n",
       "      <td>IPR011024</td>\n",
       "      <td>Gamma-crystallin-like</td>\n",
       "      <td>EV</td>\n",
       "    </tr>\n",
       "    <tr>\n",
       "      <th>4647</th>\n",
       "      <td>TTHERM_00221130</td>\n",
       "      <td>5911.EAS00440</td>\n",
       "      <td>0.0</td>\n",
       "      <td>1756.2</td>\n",
       "      <td>2EAG9@1|root,2SGQ6@2759|Eukaryota,3ZBTY@5878|C...</td>\n",
       "      <td>5878|Ciliophora</td>\n",
       "      <td>S</td>\n",
       "      <td>Beta/Gamma crystallin</td>\n",
       "      <td>-</td>\n",
       "      <td>-</td>\n",
       "      <td>...</td>\n",
       "      <td>-</td>\n",
       "      <td>-</td>\n",
       "      <td>-</td>\n",
       "      <td>Crystall</td>\n",
       "      <td>GRT2 granule tip protein</td>\n",
       "      <td>MRKYQIIIATLLVVSVVADVKLVTQEFTAKNFDSSAVSGWQVTGNK...</td>\n",
       "      <td>GRT2</td>\n",
       "      <td>IPR011024</td>\n",
       "      <td>Gamma-crystallin-like</td>\n",
       "      <td>DE</td>\n",
       "    </tr>\n",
       "    <tr>\n",
       "      <th>6646</th>\n",
       "      <td>TTHERM_01055600</td>\n",
       "      <td>5911.EAS07284</td>\n",
       "      <td>2.9000000000000004e-258</td>\n",
       "      <td>843.6</td>\n",
       "      <td>2EIZF@1|root,2SP2E@2759|Eukaryota,3ZC9H@5878|C...</td>\n",
       "      <td>5878|Ciliophora</td>\n",
       "      <td>-</td>\n",
       "      <td>-</td>\n",
       "      <td>-</td>\n",
       "      <td>-</td>\n",
       "      <td>...</td>\n",
       "      <td>-</td>\n",
       "      <td>-</td>\n",
       "      <td>-</td>\n",
       "      <td>-</td>\n",
       "      <td>GRL8 Ndc1 protein</td>\n",
       "      <td>MNKALVFLAIIALGFAASTQQVSALDPSENAADALIDQLNQMEGAI...</td>\n",
       "      <td>GRL8</td>\n",
       "      <td>-</td>\n",
       "      <td>-</td>\n",
       "      <td>EV</td>\n",
       "    </tr>\n",
       "    <tr>\n",
       "      <th>6704</th>\n",
       "      <td>TTHERM_00527180</td>\n",
       "      <td>5911.EAS07881</td>\n",
       "      <td>2.5e-264</td>\n",
       "      <td>864.8</td>\n",
       "      <td>2EQA4@1|root,2STBN@2759|Eukaryota,3ZCEK@5878|C...</td>\n",
       "      <td>5878|Ciliophora</td>\n",
       "      <td>-</td>\n",
       "      <td>-</td>\n",
       "      <td>-</td>\n",
       "      <td>-</td>\n",
       "      <td>...</td>\n",
       "      <td>-</td>\n",
       "      <td>-</td>\n",
       "      <td>-</td>\n",
       "      <td>-</td>\n",
       "      <td>GRL1 hypothetical protein</td>\n",
       "      <td>MNKKLLVVLFGFLALAAATNQSEEEGSYTIDQAANLLNDLLADSQQ...</td>\n",
       "      <td>GRL1</td>\n",
       "      <td>-</td>\n",
       "      <td>-</td>\n",
       "      <td>EV</td>\n",
       "    </tr>\n",
       "    <tr>\n",
       "      <th>7857</th>\n",
       "      <td>TTHERM_00378890</td>\n",
       "      <td>5911.EAR95225</td>\n",
       "      <td>5.1e-236</td>\n",
       "      <td>770.7</td>\n",
       "      <td>2D56R@1|root,2SXJ0@2759|Eukaryota,3ZE96@5878|C...</td>\n",
       "      <td>5878|Ciliophora</td>\n",
       "      <td>-</td>\n",
       "      <td>-</td>\n",
       "      <td>-</td>\n",
       "      <td>-</td>\n",
       "      <td>...</td>\n",
       "      <td>-</td>\n",
       "      <td>-</td>\n",
       "      <td>-</td>\n",
       "      <td>-</td>\n",
       "      <td>GRL5 granule lattice protein</td>\n",
       "      <td>MRVIAALLVIALVCQSAMAVTSKSQAKLMMEKINSKLEKSHLGRAL...</td>\n",
       "      <td>GRL5</td>\n",
       "      <td>-</td>\n",
       "      <td>-</td>\n",
       "      <td>EV</td>\n",
       "    </tr>\n",
       "    <tr>\n",
       "      <th>9683</th>\n",
       "      <td>TTHERM_00755950</td>\n",
       "      <td>34740.HMEL003507-PA</td>\n",
       "      <td>5.3999999999999996e-160</td>\n",
       "      <td>527.4</td>\n",
       "      <td>COG4870@1|root,KOG1542@2759|Eukaryota,KOG1543@...</td>\n",
       "      <td>33208|Metazoa</td>\n",
       "      <td>O</td>\n",
       "      <td>Papain family cysteine protease</td>\n",
       "      <td>-</td>\n",
       "      <td>-</td>\n",
       "      <td>...</td>\n",
       "      <td>-</td>\n",
       "      <td>-</td>\n",
       "      <td>-</td>\n",
       "      <td>Inhibitor_I29,Peptidase_C1</td>\n",
       "      <td>CTH72 papain family cysteine protease</td>\n",
       "      <td>MNKQLLLLALLGTALIGSTVFLLVKSNNNVQENEENLAQLWSLWKK...</td>\n",
       "      <td>CTH72</td>\n",
       "      <td>IPR000169,IPR000668,IPR013128,IPR013201,IPR038...</td>\n",
       "      <td>Cysteine peptidase, cysteine active site,Pepti...</td>\n",
       "      <td>-</td>\n",
       "    </tr>\n",
       "    <tr>\n",
       "      <th>11130</th>\n",
       "      <td>TTHERM_00585170</td>\n",
       "      <td>5932.XP_004031023.1</td>\n",
       "      <td>3.5e-58</td>\n",
       "      <td>188.0</td>\n",
       "      <td>2E8FT@1|root,2SEY1@2759|Eukaryota,3ZDIA@5878|C...</td>\n",
       "      <td>5878|Ciliophora</td>\n",
       "      <td>-</td>\n",
       "      <td>-</td>\n",
       "      <td>-</td>\n",
       "      <td>-</td>\n",
       "      <td>...</td>\n",
       "      <td>-</td>\n",
       "      <td>-</td>\n",
       "      <td>-</td>\n",
       "      <td>-</td>\n",
       "      <td>CCF11 dentin sialophosphoprotein putative</td>\n",
       "      <td>MQGKLIVLFACLMVASYAQTRCWNDYSVMKKGVLASCVDGCRDYPT...</td>\n",
       "      <td>CCF11</td>\n",
       "      <td>IPR008160,IPR011024,IPR050938</td>\n",
       "      <td>Collagen triple helix repeat,Gamma-crystallin-...</td>\n",
       "      <td>DE</td>\n",
       "    </tr>\n",
       "    <tr>\n",
       "      <th>11459</th>\n",
       "      <td>TTHERM_01018540</td>\n",
       "      <td>5911.EAR90056</td>\n",
       "      <td>3.4e-239</td>\n",
       "      <td>781.0</td>\n",
       "      <td>2D56R@1|root,2SXJ0@2759|Eukaryota,3ZE96@5878|C...</td>\n",
       "      <td>5878|Ciliophora</td>\n",
       "      <td>-</td>\n",
       "      <td>-</td>\n",
       "      <td>-</td>\n",
       "      <td>-</td>\n",
       "      <td>...</td>\n",
       "      <td>-</td>\n",
       "      <td>-</td>\n",
       "      <td>-</td>\n",
       "      <td>-</td>\n",
       "      <td>GRL9 granule lattice protein</td>\n",
       "      <td>MRVIAALLVIALVCQSAMAVTSKSQVKLMMEKINSKMEKSPLGRAL...</td>\n",
       "      <td>GRL9</td>\n",
       "      <td>-</td>\n",
       "      <td>-</td>\n",
       "      <td>DE</td>\n",
       "    </tr>\n",
       "    <tr>\n",
       "      <th>14326</th>\n",
       "      <td>TTHERM_00185540</td>\n",
       "      <td>5911.EAR91189</td>\n",
       "      <td>1.5e-07</td>\n",
       "      <td>18.8</td>\n",
       "      <td>2CFF7@1|root,2R2YT@2759|Eukaryota,3ZFEE@5878|C...</td>\n",
       "      <td>5911.EAR91189|-</td>\n",
       "      <td>-</td>\n",
       "      <td>-</td>\n",
       "      <td>-</td>\n",
       "      <td>-</td>\n",
       "      <td>...</td>\n",
       "      <td>-</td>\n",
       "      <td>-</td>\n",
       "      <td>-</td>\n",
       "      <td>-</td>\n",
       "      <td>transmembrane protein putative</td>\n",
       "      <td>MNKLIATLPLIALLIAGSAFYLAKSNNQLEAAVAISNNLSFFDWAK...</td>\n",
       "      <td>Unnamed</td>\n",
       "      <td>-</td>\n",
       "      <td>-</td>\n",
       "      <td>-</td>\n",
       "    </tr>\n",
       "    <tr>\n",
       "      <th>14834</th>\n",
       "      <td>TTHERM_00522600</td>\n",
       "      <td>5911.EAR94193</td>\n",
       "      <td>9.9e-239</td>\n",
       "      <td>779.5</td>\n",
       "      <td>2EUDJ@1|root,2SWJI@2759|Eukaryota,3ZFCC@5878|C...</td>\n",
       "      <td>5878|Ciliophora</td>\n",
       "      <td>-</td>\n",
       "      <td>-</td>\n",
       "      <td>-</td>\n",
       "      <td>-</td>\n",
       "      <td>...</td>\n",
       "      <td>-</td>\n",
       "      <td>-</td>\n",
       "      <td>-</td>\n",
       "      <td>-</td>\n",
       "      <td>GRL7 hypothetical protein</td>\n",
       "      <td>MRKVFVALALVAIIVSATMLPEVRQRAKVSLQKLHKSRIGKNIVTA...</td>\n",
       "      <td>GRL7</td>\n",
       "      <td>-</td>\n",
       "      <td>-</td>\n",
       "      <td>EV</td>\n",
       "    </tr>\n",
       "    <tr>\n",
       "      <th>14837</th>\n",
       "      <td>TTHERM_00624730</td>\n",
       "      <td>5911.EAS02354</td>\n",
       "      <td>9.6e-237</td>\n",
       "      <td>774.1</td>\n",
       "      <td>2ESZU@1|root,2SVF1@2759|Eukaryota,3ZCM9@5878|C...</td>\n",
       "      <td>5878|Ciliophora</td>\n",
       "      <td>-</td>\n",
       "      <td>-</td>\n",
       "      <td>-</td>\n",
       "      <td>-</td>\n",
       "      <td>...</td>\n",
       "      <td>-</td>\n",
       "      <td>-</td>\n",
       "      <td>-</td>\n",
       "      <td>-</td>\n",
       "      <td>GRL3 granule lattice protein</td>\n",
       "      <td>MKNLAIVLATLCIFAQATSVFETPAFLEIKSNPFGHTVASLVQLNL...</td>\n",
       "      <td>GRL3</td>\n",
       "      <td>-</td>\n",
       "      <td>-</td>\n",
       "      <td>EV</td>\n",
       "    </tr>\n",
       "    <tr>\n",
       "      <th>17354</th>\n",
       "      <td>TTHERM_00624720</td>\n",
       "      <td>5911.EAS02353</td>\n",
       "      <td>7.5e-242</td>\n",
       "      <td>789.9</td>\n",
       "      <td>2EJ45@1|root,2R2MM@2759|Eukaryota,3ZE3Z@5878|C...</td>\n",
       "      <td>5878|Ciliophora</td>\n",
       "      <td>-</td>\n",
       "      <td>-</td>\n",
       "      <td>-</td>\n",
       "      <td>-</td>\n",
       "      <td>...</td>\n",
       "      <td>-</td>\n",
       "      <td>-</td>\n",
       "      <td>-</td>\n",
       "      <td>-</td>\n",
       "      <td>GRL4 granule lattice protein</td>\n",
       "      <td>MRYAALFLLALISFNAVYAVSLRKSSDAMKTSFALERLRFIGKKSP...</td>\n",
       "      <td>GRL4</td>\n",
       "      <td>-</td>\n",
       "      <td>-</td>\n",
       "      <td>EV</td>\n",
       "    </tr>\n",
       "    <tr>\n",
       "      <th>25805</th>\n",
       "      <td>TTHERM_00537380</td>\n",
       "      <td>-</td>\n",
       "      <td>-</td>\n",
       "      <td>-</td>\n",
       "      <td>-</td>\n",
       "      <td>-</td>\n",
       "      <td>-</td>\n",
       "      <td>-</td>\n",
       "      <td>-</td>\n",
       "      <td>-</td>\n",
       "      <td>...</td>\n",
       "      <td>-</td>\n",
       "      <td>-</td>\n",
       "      <td>-</td>\n",
       "      <td>-</td>\n",
       "      <td>transmembrane protein putative</td>\n",
       "      <td>MIKTKLALLVCFALLGFSFAQLSLDDALNYSLDGKKCKQSDSVQSD...</td>\n",
       "      <td>Unnamed</td>\n",
       "      <td>-</td>\n",
       "      <td>-</td>\n",
       "      <td>-</td>\n",
       "    </tr>\n",
       "  </tbody>\n",
       "</table>\n",
       "<p>14 rows × 27 columns</p>\n",
       "</div>"
      ],
      "text/plain": [
       "             TTHERM_ID        seed_ortholog                   evalue   score  \\\n",
       "1247   TTHERM_00530660  34740.HMEL003507-PA                 4.1e-152   501.6   \n",
       "4266   TTHERM_00221120        5911.EAS00439                      0.0  1777.2   \n",
       "4647   TTHERM_00221130        5911.EAS00440                      0.0  1756.2   \n",
       "6646   TTHERM_01055600        5911.EAS07284  2.9000000000000004e-258   843.6   \n",
       "6704   TTHERM_00527180        5911.EAS07881                 2.5e-264   864.8   \n",
       "7857   TTHERM_00378890        5911.EAR95225                 5.1e-236   770.7   \n",
       "9683   TTHERM_00755950  34740.HMEL003507-PA  5.3999999999999996e-160   527.4   \n",
       "11130  TTHERM_00585170  5932.XP_004031023.1                  3.5e-58   188.0   \n",
       "11459  TTHERM_01018540        5911.EAR90056                 3.4e-239   781.0   \n",
       "14326  TTHERM_00185540        5911.EAR91189                  1.5e-07    18.8   \n",
       "14834  TTHERM_00522600        5911.EAR94193                 9.9e-239   779.5   \n",
       "14837  TTHERM_00624730        5911.EAS02354                 9.6e-237   774.1   \n",
       "17354  TTHERM_00624720        5911.EAS02353                 7.5e-242   789.9   \n",
       "25805  TTHERM_00537380                    -                        -       -   \n",
       "\n",
       "                                              eggNOG_OGs    max_annot_lvl  \\\n",
       "1247   COG4870@1|root,KOG1542@2759|Eukaryota,KOG1543@...    33208|Metazoa   \n",
       "4266   2EAG9@1|root,2SGQ6@2759|Eukaryota,3ZBTY@5878|C...  5878|Ciliophora   \n",
       "4647   2EAG9@1|root,2SGQ6@2759|Eukaryota,3ZBTY@5878|C...  5878|Ciliophora   \n",
       "6646   2EIZF@1|root,2SP2E@2759|Eukaryota,3ZC9H@5878|C...  5878|Ciliophora   \n",
       "6704   2EQA4@1|root,2STBN@2759|Eukaryota,3ZCEK@5878|C...  5878|Ciliophora   \n",
       "7857   2D56R@1|root,2SXJ0@2759|Eukaryota,3ZE96@5878|C...  5878|Ciliophora   \n",
       "9683   COG4870@1|root,KOG1542@2759|Eukaryota,KOG1543@...    33208|Metazoa   \n",
       "11130  2E8FT@1|root,2SEY1@2759|Eukaryota,3ZDIA@5878|C...  5878|Ciliophora   \n",
       "11459  2D56R@1|root,2SXJ0@2759|Eukaryota,3ZE96@5878|C...  5878|Ciliophora   \n",
       "14326  2CFF7@1|root,2R2YT@2759|Eukaryota,3ZFEE@5878|C...  5911.EAR91189|-   \n",
       "14834  2EUDJ@1|root,2SWJI@2759|Eukaryota,3ZFCC@5878|C...  5878|Ciliophora   \n",
       "14837  2ESZU@1|root,2SVF1@2759|Eukaryota,3ZCM9@5878|C...  5878|Ciliophora   \n",
       "17354  2EJ45@1|root,2R2MM@2759|Eukaryota,3ZE3Z@5878|C...  5878|Ciliophora   \n",
       "25805                                                  -                -   \n",
       "\n",
       "      COG_category                      Description Preferred_name GOs  ...  \\\n",
       "1247             O  Papain family cysteine protease              -   -  ...   \n",
       "4266             S            Beta/Gamma crystallin              -   -  ...   \n",
       "4647             S            Beta/Gamma crystallin              -   -  ...   \n",
       "6646             -                                -              -   -  ...   \n",
       "6704             -                                -              -   -  ...   \n",
       "7857             -                                -              -   -  ...   \n",
       "9683             O  Papain family cysteine protease              -   -  ...   \n",
       "11130            -                                -              -   -  ...   \n",
       "11459            -                                -              -   -  ...   \n",
       "14326            -                                -              -   -  ...   \n",
       "14834            -                                -              -   -  ...   \n",
       "14837            -                                -              -   -  ...   \n",
       "17354            -                                -              -   -  ...   \n",
       "25805            -                                -              -   -  ...   \n",
       "\n",
       "      KEGG_TC CAZy BiGG_Reaction                       PFAMs  \\\n",
       "1247        -    -             -  Inhibitor_I29,Peptidase_C1   \n",
       "4266        -    -             -                    Crystall   \n",
       "4647        -    -             -                    Crystall   \n",
       "6646        -    -             -                           -   \n",
       "6704        -    -             -                           -   \n",
       "7857        -    -             -                           -   \n",
       "9683        -    -             -  Inhibitor_I29,Peptidase_C1   \n",
       "11130       -    -             -                           -   \n",
       "11459       -    -             -                           -   \n",
       "14326       -    -             -                           -   \n",
       "14834       -    -             -                           -   \n",
       "14837       -    -             -                           -   \n",
       "17354       -    -             -                           -   \n",
       "25805       -    -             -                           -   \n",
       "\n",
       "                             TGD2021_description  \\\n",
       "1247       CTH99 papain family cysteine protease   \n",
       "4266                    GRT1 granule tip protein   \n",
       "4647                    GRT2 granule tip protein   \n",
       "6646                           GRL8 Ndc1 protein   \n",
       "6704                   GRL1 hypothetical protein   \n",
       "7857                GRL5 granule lattice protein   \n",
       "9683       CTH72 papain family cysteine protease   \n",
       "11130  CCF11 dentin sialophosphoprotein putative   \n",
       "11459               GRL9 granule lattice protein   \n",
       "14326             transmembrane protein putative   \n",
       "14834                  GRL7 hypothetical protein   \n",
       "14837               GRL3 granule lattice protein   \n",
       "17354               GRL4 granule lattice protein   \n",
       "25805             transmembrane protein putative   \n",
       "\n",
       "                                                 peptide common_name  \\\n",
       "1247   MRTQLLIAAALGLTLLGLTSYLFLHKSTQVGYTDDQINMWKGFKKT...       CTH99   \n",
       "4266   MRKSWIIIAALLVVSAVADVKLVTSEFSAKNFDSSAVSGWSVTGNK...        GRT1   \n",
       "4647   MRKYQIIIATLLVVSVVADVKLVTQEFTAKNFDSSAVSGWQVTGNK...        GRT2   \n",
       "6646   MNKALVFLAIIALGFAASTQQVSALDPSENAADALIDQLNQMEGAI...        GRL8   \n",
       "6704   MNKKLLVVLFGFLALAAATNQSEEEGSYTIDQAANLLNDLLADSQQ...        GRL1   \n",
       "7857   MRVIAALLVIALVCQSAMAVTSKSQAKLMMEKINSKLEKSHLGRAL...        GRL5   \n",
       "9683   MNKQLLLLALLGTALIGSTVFLLVKSNNNVQENEENLAQLWSLWKK...       CTH72   \n",
       "11130  MQGKLIVLFACLMVASYAQTRCWNDYSVMKKGVLASCVDGCRDYPT...       CCF11   \n",
       "11459  MRVIAALLVIALVCQSAMAVTSKSQVKLMMEKINSKMEKSPLGRAL...        GRL9   \n",
       "14326  MNKLIATLPLIALLIAGSAFYLAKSNNQLEAAVAISNNLSFFDWAK...     Unnamed   \n",
       "14834  MRKVFVALALVAIIVSATMLPEVRQRAKVSLQKLHKSRIGKNIVTA...        GRL7   \n",
       "14837  MKNLAIVLATLCIFAQATSVFETPAFLEIKSNPFGHTVASLVQLNL...        GRL3   \n",
       "17354  MRYAALFLLALISFNAVYAVSLRKSSDAMKTSFALERLRFIGKKSP...        GRL4   \n",
       "25805  MIKTKLALLVCFALLGFSFAQLSLDDALNYSLDGKKCKQSDSVQSD...     Unnamed   \n",
       "\n",
       "                                                InterPro  \\\n",
       "1247   IPR000169,IPR000668,IPR013128,IPR013201,IPR025...   \n",
       "4266                                           IPR011024   \n",
       "4647                                           IPR011024   \n",
       "6646                                                   -   \n",
       "6704                                                   -   \n",
       "7857                                                   -   \n",
       "9683   IPR000169,IPR000668,IPR013128,IPR013201,IPR038...   \n",
       "11130                      IPR008160,IPR011024,IPR050938   \n",
       "11459                                                  -   \n",
       "14326                                                  -   \n",
       "14834                                                  -   \n",
       "14837                                                  -   \n",
       "17354                                                  -   \n",
       "25805                                                  -   \n",
       "\n",
       "                                    InterPro_description mucocysts  \n",
       "1247   Cysteine peptidase, cysteine active site,Pepti...         -  \n",
       "4266                               Gamma-crystallin-like        EV  \n",
       "4647                               Gamma-crystallin-like        DE  \n",
       "6646                                                   -        EV  \n",
       "6704                                                   -        EV  \n",
       "7857                                                   -        EV  \n",
       "9683   Cysteine peptidase, cysteine active site,Pepti...         -  \n",
       "11130  Collagen triple helix repeat,Gamma-crystallin-...        DE  \n",
       "11459                                                  -        DE  \n",
       "14326                                                  -         -  \n",
       "14834                                                  -        EV  \n",
       "14837                                                  -        EV  \n",
       "17354                                                  -        EV  \n",
       "25805                                                  -         -  \n",
       "\n",
       "[14 rows x 27 columns]"
      ]
     },
     "execution_count": 102,
     "metadata": {},
     "output_type": "execute_result"
    }
   ],
   "source": [
    "ssb281_secretome_df"
   ]
  },
  {
   "cell_type": "code",
   "execution_count": 103,
   "metadata": {},
   "outputs": [
    {
     "data": {
      "text/plain": [
       "{'TTHERM_00038880', 'TTHERM_00473020'}"
      ]
     },
     "execution_count": 103,
     "metadata": {},
     "output_type": "execute_result"
    }
   ],
   "source": [
    "intersection_all.intersection(set(secretome_matches))"
   ]
  },
  {
   "cell_type": "code",
   "execution_count": 104,
   "metadata": {},
   "outputs": [
    {
     "data": {
      "text/plain": [
       "set()"
      ]
     },
     "execution_count": 104,
     "metadata": {},
     "output_type": "execute_result"
    }
   ],
   "source": [
    "intersection_all.intersection(set(ssb281_matches))"
   ]
  },
  {
   "cell_type": "code",
   "execution_count": 105,
   "metadata": {},
   "outputs": [
    {
     "data": {
      "text/plain": [
       "{'TTHERM_00585170'}"
      ]
     },
     "execution_count": 105,
     "metadata": {},
     "output_type": "execute_result"
    }
   ],
   "source": [
    "intersection_dem.intersection(set(secretome_matches))"
   ]
  },
  {
   "cell_type": "code",
   "execution_count": 106,
   "metadata": {},
   "outputs": [
    {
     "data": {
      "text/plain": [
       "{'TTHERM_00585170'}"
      ]
     },
     "execution_count": 106,
     "metadata": {},
     "output_type": "execute_result"
    }
   ],
   "source": [
    "intersection_dem.intersection(set(ssb281_matches))"
   ]
  },
  {
   "cell_type": "code",
   "execution_count": 107,
   "metadata": {},
   "outputs": [
    {
     "data": {
      "text/plain": [
       "set()"
      ]
     },
     "execution_count": 107,
     "metadata": {},
     "output_type": "execute_result"
    }
   ],
   "source": [
    "intersection_der.intersection(set(secretome_matches))"
   ]
  },
  {
   "cell_type": "code",
   "execution_count": 108,
   "metadata": {},
   "outputs": [
    {
     "data": {
      "text/plain": [
       "set()"
      ]
     },
     "execution_count": 108,
     "metadata": {},
     "output_type": "execute_result"
    }
   ],
   "source": [
    "intersection_der.intersection(set(ssb281_matches))"
   ]
  },
  {
   "cell_type": "code",
   "execution_count": 109,
   "metadata": {},
   "outputs": [
    {
     "data": {
      "text/plain": [
       "{'TTHERM_00221120',\n",
       " 'TTHERM_00378890',\n",
       " 'TTHERM_00522600',\n",
       " 'TTHERM_00527180',\n",
       " 'TTHERM_00537380',\n",
       " 'TTHERM_00624720',\n",
       " 'TTHERM_00624730',\n",
       " 'TTHERM_01055600'}"
      ]
     },
     "execution_count": 109,
     "metadata": {},
     "output_type": "execute_result"
    }
   ],
   "source": [
    "intersection_enriched.intersection(set(secretome_matches))"
   ]
  },
  {
   "cell_type": "code",
   "execution_count": 110,
   "metadata": {},
   "outputs": [
    {
     "data": {
      "text/plain": [
       "{'TTHERM_00221120',\n",
       " 'TTHERM_00378890',\n",
       " 'TTHERM_00522600',\n",
       " 'TTHERM_00527180',\n",
       " 'TTHERM_00537380',\n",
       " 'TTHERM_00624720',\n",
       " 'TTHERM_00624730',\n",
       " 'TTHERM_01055600'}"
      ]
     },
     "execution_count": 110,
     "metadata": {},
     "output_type": "execute_result"
    }
   ],
   "source": [
    "intersection_enriched.intersection(set(ssb281_matches))"
   ]
  },
  {
   "cell_type": "code",
   "execution_count": 111,
   "metadata": {},
   "outputs": [
    {
     "name": "stdout",
     "output_type": "stream",
     "text": [
      "TTHERM_00585170\n",
      "TTHERM_00527180\n",
      "TTHERM_00624730\n",
      "TTHERM_00624720\n",
      "TTHERM_00378890\n",
      "TTHERM_00522600\n",
      "TTHERM_01055600\n",
      "TTHERM_01018540\n",
      "TTHERM_00221120\n",
      "TTHERM_00221130\n",
      "TTHERM_00537380\n",
      "TTHERM_00185540\n",
      "TTHERM_00530660\n",
      "TTHERM_00755950\n"
     ]
    }
   ],
   "source": [
    "for t in ssb281_matches:\n",
    "    print(t, )\n"
   ]
  },
  {
   "cell_type": "markdown",
   "metadata": {},
   "source": [
    "### Contingency tables to determine if any of the set intersections are statistically significantly enriched for experimentally-validated genes"
   ]
  },
  {
   "cell_type": "markdown",
   "metadata": {},
   "source": [
    "For z-score normalized analysis:"
   ]
  },
  {
   "cell_type": "code",
   "execution_count": 112,
   "metadata": {},
   "outputs": [],
   "source": [
    "# Example contingency table for triple intersection (min-max scenario)\n",
    "#                   validated  | not validated | row total\n",
    "# _________________________________________________________\n",
    "# agreement    |       17      |       27      |    44               \n",
    "# no agreement |       23      |      3355     |   3378      \n",
    "# column total |       40      |      3382     |   3412"
   ]
  },
  {
   "cell_type": "code",
   "execution_count": 113,
   "metadata": {},
   "outputs": [
    {
     "name": "stdout",
     "output_type": "stream",
     "text": [
      "13\n",
      "20\n",
      "20\n",
      "3326\n"
     ]
    }
   ],
   "source": [
    "a = len(int_all_ev)\n",
    "print(a)\n",
    "b = len(intersection_all) - a\n",
    "print(b)\n",
    "c = len(muco_exp) - a\n",
    "print(c)\n",
    "d = len(set(ttherm_df_filtered['Unnamed: 0'].values).union(\n",
    "    set(microarray_ev_enriched_df['TTHERM_ID'].values)).union(\n",
    "    set(rna_seq_ev_enriched_df['TTHERM_ID'].values))) - c\n",
    "print(d)"
   ]
  },
  {
   "cell_type": "code",
   "execution_count": 114,
   "metadata": {},
   "outputs": [
    {
     "name": "stdout",
     "output_type": "stream",
     "text": [
      "Two-tailed p-value for triple agreement: 2.503011541637309e-19\n"
     ]
    }
   ],
   "source": [
    "table = [[a, b], [c, d]]\n",
    "\n",
    "# Two-tailed test (default)\n",
    "oddsratio, p_value_two_tailed = scipy.stats.fisher_exact(table, alternative='two-sided')\n",
    "print(f\"Two-tailed p-value for triple agreement: {p_value_two_tailed}\")"
   ]
  },
  {
   "cell_type": "code",
   "execution_count": 115,
   "metadata": {},
   "outputs": [
    {
     "name": "stdout",
     "output_type": "stream",
     "text": [
      "0 5 33 3251\n",
      "Two-tailed p-value for agreement between RNA-seq and upregulation: 1.0\n"
     ]
    }
   ],
   "source": [
    "# Contingency table for intersection between RNA-seq co-expression and upregulation\n",
    "a = len(int_der_ev)\n",
    "b = len(set(ttherm_df_filtered['Unnamed: 0'].values).intersection(\n",
    "    set(rna_seq_ev_enriched_df['TTHERM_ID'].values))) - a - len(intersection_all)\n",
    "c = len(muco_exp) - a\n",
    "d = len(set(ttherm_df_filtered['Unnamed: 0'].values).union(\n",
    "    set(rna_seq_ev_enriched_df['TTHERM_ID'].values))) - c - len(intersection_all)\n",
    "\n",
    "print(a,b,c,d)\n",
    "\n",
    "table = [[a, b], [c, d]]\n",
    "\n",
    "# Two-tailed test (default)\n",
    "oddsratio, p_value_two_tailed = scipy.stats.fisher_exact(table, alternative='two-sided')\n",
    "print(f\"Two-tailed p-value for agreement between RNA-seq and upregulation: {p_value_two_tailed}\")"
   ]
  },
  {
   "cell_type": "code",
   "execution_count": null,
   "metadata": {},
   "outputs": [],
   "source": []
  },
  {
   "cell_type": "code",
   "execution_count": 116,
   "metadata": {},
   "outputs": [
    {
     "name": "stdout",
     "output_type": "stream",
     "text": [
      "8 104 25 3199\n",
      "Two-tailed p-value for agreement between microarray and upregulation: 8.66055959499189e-06\n"
     ]
    }
   ],
   "source": [
    "# Contingency table for intersection between microarray co-expression and upregulation\n",
    "a = len(int_dem_ev)\n",
    "b = len(set(ttherm_df_filtered['Unnamed: 0'].values).intersection(\n",
    "    set(microarray_ev_enriched_df['TTHERM_ID'].values))) - a - len(intersection_all)\n",
    "c = len(muco_exp) - a\n",
    "d = len(set(ttherm_df_filtered['Unnamed: 0'].values).union(\n",
    "    set(microarray_ev_enriched_df['TTHERM_ID'].values))) - c - len(intersection_all)\n",
    "\n",
    "print(a, b, c, d)\n",
    "\n",
    "table = [[a, b], [c, d]]\n",
    "\n",
    "# Two-tailed test (default)\n",
    "oddsratio, p_value_two_tailed = scipy.stats.fisher_exact(table, alternative='two-sided')\n",
    "print(f\"Two-tailed p-value for agreement between microarray and upregulation: {p_value_two_tailed}\")"
   ]
  },
  {
   "cell_type": "code",
   "execution_count": 117,
   "metadata": {},
   "outputs": [
    {
     "name": "stdout",
     "output_type": "stream",
     "text": [
      "7 1 26 217\n",
      "Two-tailed p-value for agreement between microarray and rna-seq co-expression: 2.7076167829410094e-06\n"
     ]
    }
   ],
   "source": [
    "# Contingency table for intersection between microarray and rna-seq co-expression\n",
    "a = len(int_enr_ev)\n",
    "b = len(set(rna_seq_ev_enriched_df['TTHERM_ID'].values).intersection(\n",
    "    set(microarray_ev_enriched_df['TTHERM_ID'].values))) - a - len(intersection_all)\n",
    "c = len(muco_exp) - a\n",
    "d = len(set(rna_seq_ev_enriched_df['TTHERM_ID'].values).union(\n",
    "    set(microarray_ev_enriched_df['TTHERM_ID'].values))) - c - len(intersection_all)\n",
    "\n",
    "print(a,b,c,d)\n",
    "\n",
    "table = [[a, b], [c, d]]\n",
    "\n",
    "# Two-tailed test (default)\n",
    "oddsratio, p_value_two_tailed = scipy.stats.fisher_exact(table, alternative='two-sided')\n",
    "print(f\"Two-tailed p-value for agreement between microarray and rna-seq co-expression: {p_value_two_tailed}\")"
   ]
  },
  {
   "cell_type": "code",
   "execution_count": null,
   "metadata": {},
   "outputs": [],
   "source": []
  }
 ],
 "metadata": {
  "kernelspec": {
   "display_name": "Python 3 (ipykernel)",
   "language": "python",
   "name": "python3"
  },
  "language_info": {
   "codemirror_mode": {
    "name": "ipython",
    "version": 3
   },
   "file_extension": ".py",
   "mimetype": "text/x-python",
   "name": "python",
   "nbconvert_exporter": "python",
   "pygments_lexer": "ipython3",
   "version": "3.8.16"
  }
 },
 "nbformat": 4,
 "nbformat_minor": 4
}

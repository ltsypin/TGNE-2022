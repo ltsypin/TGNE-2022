{
 "cells": [
  {
   "cell_type": "code",
   "execution_count": 1,
   "metadata": {},
   "outputs": [],
   "source": [
    "import os\n",
    "import tqdm\n",
    "import glob\n",
    "import sys\n",
    "\n",
    "sys.path.append('../')\n",
    "\n",
    "from utils import file_utils"
   ]
  },
  {
   "cell_type": "code",
   "execution_count": 5,
   "metadata": {},
   "outputs": [],
   "source": [
    "file_utils.create_directories('./raw_data/expression/')"
   ]
  },
  {
   "cell_type": "code",
   "execution_count": 3,
   "metadata": {},
   "outputs": [
    {
     "name": "stdout",
     "output_type": "stream",
     "text": [
      "FILE SAVED: /Users/michaelbertagna/git/TGNE-2022/regranulation/raw_data/GSE276404.tar\n"
     ]
    }
   ],
   "source": [
    "file_utils.download_file_chunks('https://www.ncbi.nlm.nih.gov/geo/download/?acc=GSE276404&format=file', \n",
    "                                './raw_data/GSE276404.tar')"
   ]
  },
  {
   "cell_type": "code",
   "execution_count": 4,
   "metadata": {},
   "outputs": [],
   "source": [
    "file_utils.extract_tar('./raw_data/GSE276404.tar')"
   ]
  },
  {
   "cell_type": "code",
   "execution_count": 15,
   "metadata": {},
   "outputs": [
    {
     "data": {
      "text/plain": [
       "['./raw_data/GSE276404/GSM8498101_4591502_532_pair.txt.gz',\n",
       " './raw_data/GSE276404/GSM8498104_4595602_532_pair.txt.gz',\n",
       " './raw_data/GSE276404/GSM8498098_4591102_532_pair.txt.gz',\n",
       " './raw_data/GSE276404/GSM8498094_4589002_532_pair.txt.gz',\n",
       " './raw_data/GSE276404/GSM8498103_4595402_532_pair.txt.gz',\n",
       " './raw_data/GSE276404/GSM8498105_4595802_532_pair.txt.gz',\n",
       " './raw_data/GSE276404/GSM8498097_4591002_532_pair.txt.gz',\n",
       " './raw_data/GSE276404/GSM8498102_4591802_532_pair.txt.gz',\n",
       " './raw_data/GSE276404/GSM8498099_4591302_532_pair.txt.gz',\n",
       " './raw_data/GSE276404/GSM8498095_4589102_532_pair.txt.gz',\n",
       " './raw_data/GSE276404/GSM8498100_4591702_532_pair.txt.gz',\n",
       " './raw_data/GSE276404/GSM8498096_1772502_532_pair.txt.gz']"
      ]
     },
     "execution_count": 15,
     "metadata": {},
     "output_type": "execute_result"
    }
   ],
   "source": [
    "data_files = glob.glob('./raw_data/**/*pair*', recursive=True)\n",
    "data_files"
   ]
  },
  {
   "cell_type": "code",
   "execution_count": 17,
   "metadata": {},
   "outputs": [],
   "source": [
    "file_utils.move_files(data_files, './raw_data/expression/')"
   ]
  }
 ],
 "metadata": {
  "kernelspec": {
   "display_name": "tgne.env",
   "language": "python",
   "name": "python3"
  },
  "language_info": {
   "codemirror_mode": {
    "name": "ipython",
    "version": 3
   },
   "file_extension": ".py",
   "mimetype": "text/x-python",
   "name": "python",
   "nbconvert_exporter": "python",
   "pygments_lexer": "ipython3",
   "version": "3.8.16"
  }
 },
 "nbformat": 4,
 "nbformat_minor": 2
}

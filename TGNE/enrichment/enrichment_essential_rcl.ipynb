{
 "cells": [
  {
   "cell_type": "code",
   "execution_count": 1,
   "id": "44830610-d070-4882-8273-da4c5c22dd43",
   "metadata": {},
   "outputs": [],
   "source": [
    "import pandas as pd\n",
    "import bs4\n",
    "import requests\n",
    "import json\n",
    "import re\n",
    "import tqdm\n",
    "\n",
    "import scipy.stats as st\n",
    "import numpy as np\n",
    "\n",
    "import bokeh\n",
    "from bokeh.plotting import show as show_interactive\n",
    "from bokeh.plotting import output_file, output_notebook\n",
    "from bokeh.layouts import column, row\n",
    "from bokeh.models import CustomJS, TextInput, LassoSelectTool, Select, MultiSelect, ColorBar, Legend, LegendItem\n",
    "from bokeh.models.widgets import DataTable, DateFormatter, TableColumn, Button, HTMLTemplateFormatter\n",
    "from bokeh.events import SelectionGeometry\n",
    "from bokeh.transform import linear_cmap, jitter\n",
    "from bokeh.models import FactorRange\n"
   ]
  },
  {
   "cell_type": "code",
   "execution_count": 2,
   "id": "108df2b3-df6f-4028-a879-e9034f79309a",
   "metadata": {},
   "outputs": [],
   "source": [
    "# As of 2020 https://www.ncbi.nlm.nih.gov/research/cog/\n",
    "COG_dict = {\n",
    "    \"A\" : \"RNA processing and modification\",\n",
    "    \"B\" : \"Chromatin structure and dynamics\",\n",
    "    \"C\" : \"Energy production and conversion\",\n",
    "    \"D\" : \"Cell cycle control, cell division, chromosome partitioning\",\n",
    "    \"E\" : \"Amino acid transport and metabolism\",\n",
    "    \"F\" : \"Nucleotide transport and metabolism\",\n",
    "    \"G\" : \"Carbohydrate transport and metabolism\",\n",
    "    \"H\" : \"Coenzyme transport and metabolism\",\n",
    "    \"I\" : \"Lipid transport and metabolism\",\n",
    "    \"J\" : \"Translation, ribosomal structure and biogenesis\",\n",
    "    \"K\" : \"Transcription\",\n",
    "    \"L\" : \"Replication, recombination, and repair\",\n",
    "    \"M\" : \"Cell wall/membrane/envelope biogenesis\",\n",
    "    \"N\" : \"Cell motility\",\n",
    "    \"O\" : \"Posttranslational modification, protein turnover, chaperones\",\n",
    "    \"P\" : \"Inorganic ion transport and metabolism\",\n",
    "    \"Q\" : \"Secondary metabolites biosynthesis, transport and catabolism\",\n",
    "    \"T\" : \"Signal transduction mechanisms\",\n",
    "    \"U\" : \"Intracellular trafficking, secretion, and vesicular transport\",\n",
    "    \"V\" : \"Defense mechanisms\",\n",
    "    \"W\" : \"Extracellular structures\",\n",
    "    \"X\" : \"Mobilome: prophages, transposons\",\n",
    "    \"Y\" : \"Nuclear structure\",\n",
    "    \"Z\" : \"Cytoskeleton\",\n",
    "    \"R\" : \"General function prediction only\",\n",
    "    \"S\" : \"Function unknown\",\n",
    "}"
   ]
  },
  {
   "cell_type": "code",
   "execution_count": 3,
   "id": "b0251f64-8d43-4f21-9a88-772f44b71f01",
   "metadata": {},
   "outputs": [],
   "source": [
    "def term_count_dict_from_annotation_df(annot_df, term_column):\n",
    "    \n",
    "    column = annot_df[term_column].values\n",
    "    \n",
    "    funct_terms = []\n",
    "    for entry in column:\n",
    "        if entry != '-':\n",
    "            if term_column == 'COG_category':\n",
    "                # terms = [f'{e}: {COG_dict[e]}' for e in entry]\n",
    "                terms = list(entry)\n",
    "            else:\n",
    "                terms = entry.split(',')\n",
    "            for t in terms:\n",
    "                funct_terms.append(t)\n",
    "\n",
    "#     len(terms)\n",
    "    \n",
    "    term_count_dict = {}\n",
    "    \n",
    "    for t in funct_terms:\n",
    "        count = term_count_dict.get(t, 0)\n",
    "        count += 1\n",
    "        term_count_dict[t] = count\n",
    "        \n",
    "    return term_count_dict"
   ]
  },
  {
   "cell_type": "code",
   "execution_count": 4,
   "id": "0fddca3d-22c7-42cf-b4d1-f663bfa84cf5",
   "metadata": {},
   "outputs": [],
   "source": [
    "def enrichment_analysis(module, leiden_label_df, phases, background_annotation, term_column):\n",
    "    \n",
    "    module_ttids = leiden_label_df.loc[leiden_label_df[f'leiden_label_{phases}'] == module]['TTHERM_ID'].values\n",
    "    \n",
    "    module_annotation = background_annotation.loc[background_annotation['TTHERM_ID'].isin(module_ttids)]\n",
    "    \n",
    "    background_term_dict = term_count_dict_from_annotation_df(background_annotation, term_column)\n",
    "    module_term_dict = term_count_dict_from_annotation_df(module_annotation, term_column)\n",
    "    \n",
    "    bs = []\n",
    "    ps = []\n",
    "    folds = []\n",
    "    terms = []\n",
    "    \n",
    "    for t, module_count in module_term_dict.items():\n",
    "        \n",
    "        background_count = background_term_dict[t]\n",
    "        module_size = len(module_annotation)\n",
    "        background_size = len(background_annotation)\n",
    "        \n",
    "        standard_contingency_table = [\n",
    "                                [module_count, background_count - module_count], \n",
    "                                [module_size - module_count, background_size - module_size - (background_count - module_count)]\n",
    "                            ]\n",
    "        \n",
    "        # The -1 and +1 make this more conservative (see explanation from the DAVID database: \n",
    "        # https://david.ncifcrf.gov/helps/functional_annotation.html#geneenrich)\n",
    "        conservative_contingency_table = [\n",
    "                                [module_count - 1, background_count - module_count + 1], \n",
    "                                [module_size - module_count, background_size - module_size - (background_count - module_count)]\n",
    "                            ]\n",
    "        \n",
    "        \n",
    "        odds, p_standard = st.fisher_exact(standard_contingency_table, 'greater')\n",
    "        odds, p_conservative = st.fisher_exact(conservative_contingency_table, 'greater')\n",
    "        \n",
    "        p_reasonable = np.mean([p_standard, p_conservative])\n",
    "        \n",
    "        bonferroni  = p_reasonable * len(module_term_dict)\n",
    "\n",
    "        fold_enrichment = (module_count/module_size) / (background_count/background_size)\n",
    "\n",
    "        if bonferroni <= 0.05:\n",
    "            \n",
    "            ps.append(p_reasonable)\n",
    "            bs.append(bonferroni)\n",
    "            folds.append(fold_enrichment)\n",
    "            terms.append(t)\n",
    "            \n",
    "#         else:\n",
    "#             ps.append('')\n",
    "#             bs.append('')\n",
    "#             folds.append('')\n",
    "#             terms.append('')\n",
    "            \n",
    "    return ps, bs, folds, terms\n",
    "            \n",
    "            "
   ]
  },
  {
   "cell_type": "code",
   "execution_count": 5,
   "id": "af7d692a-245e-4a7b-bd02-0b4bdd1ae288",
   "metadata": {},
   "outputs": [],
   "source": [
    "def get_GO_info(go_term):\n",
    "    \n",
    "    r = requests.get(f'https://www.ebi.ac.uk/QuickGO/services/ontology/go/terms/{go_term}/complete', 'html5lib')\n",
    "    \n",
    "    go_info = json.loads(r.text)\n",
    "    \n",
    "    name = go_info['results'][0]['name']\n",
    "    \n",
    "    definition = go_info['results'][0]['definition']['text']\n",
    "    \n",
    "    obsolete = go_info['results'][0]['isObsolete']\n",
    "    \n",
    "    return name, definition, obsolete"
   ]
  },
  {
   "cell_type": "code",
   "execution_count": 6,
   "id": "c5465d23-1a8a-4e96-b3fb-069dbb51d191",
   "metadata": {},
   "outputs": [],
   "source": [
    "def get_KEGG_info(term):\n",
    "    try:\n",
    "#         dfs = pd.read_html(f'https://www.genome.jp/entry/{term}')\n",
    "        response = requests.get(f'https://rest.kegg.jp/get/{term}')\n",
    "    except:\n",
    "        return \"NA\"\n",
    "\n",
    "    text = response.text\n",
    "    name_string = re.search(r'NAME\\s*[\\w \\-]*', response.text).group()\n",
    "    name = re.split(r'\\s\\s+', name_string)[1]\n",
    "#     data = dfs[3]\n",
    "#     entry = data.loc[data[0] == 'Entry'][1].values[0]\n",
    "#     name = data.loc[data[0] == 'Name'][1].values[0]\n",
    "    \n",
    "    return name"
   ]
  },
  {
   "cell_type": "code",
   "execution_count": 7,
   "id": "b01593d0-9a7f-4c4d-a953-99a093cef99f",
   "metadata": {},
   "outputs": [],
   "source": [
    "def get_EC_info(term):\n",
    "    \n",
    "    r = requests.get(f\"https://www.ebi.ac.uk/enzymeportal/rest/enzymes/{term}\")\n",
    "    try:\n",
    "        name = r.json()['enzymeName']\n",
    "    except:\n",
    "        name = 'NA'\n",
    "    \n",
    "    return name"
   ]
  },
  {
   "cell_type": "code",
   "execution_count": 8,
   "id": "14cb6323-a773-46b7-85e3-f9d5bd609e61",
   "metadata": {},
   "outputs": [],
   "source": [
    "def write_enrichment(lldf, phases, out_prefix, term_column):\n",
    "    \n",
    "    with open(f'../enrichment/{out_prefix}_enrichment.txt', 'w') as fl:\n",
    "    \n",
    "        for m in tqdm.tqdm(sorted(lldf[f'leiden_label_{phases}'].unique())):\n",
    "\n",
    "            # print(f'Module {m}')\n",
    "            ps, bs, folds, terms = enrichment_analysis(m, lldf, phases, complete_annot, term_column)\n",
    "\n",
    "            fl.write(f'Module {m}\\n')\n",
    "            for b, fold, t in zip(bs, folds, terms):\n",
    "                \n",
    "                if term_column == 'COG_category':\n",
    "                    \n",
    "                    definition = COG_dict[t]\n",
    "                    t = f'{t}: {definition}'\n",
    "                \n",
    "                elif term_column == 'GOs':\n",
    "                    name, definition, obsolete = get_GO_info(t)\n",
    "                    if obsolete:\n",
    "                        t = f'{name.capitalize()} ({t}): {definition} (obsolete)'\n",
    "                    else:\n",
    "                        t = f'{name.capitalize()} ({t}): {definition}'\n",
    "                        \n",
    "                elif term_column.split('_')[0] == 'KEGG':\n",
    "                    name = get_KEGG_info(t)\n",
    "                    \n",
    "                    t = f'{t}: {name}'\n",
    "                    \n",
    "                elif term_column == 'EC':\n",
    "                    \n",
    "                    name = get_EC_info(t)\n",
    "                    t = f'{t}: {name}'\n",
    "                    \n",
    "                        \n",
    "                # print(f\"{t}\\nFold-enrichment: {fold:.02f}\\nBonferroni-corrected p-value: {b:.02e}\\n\\n\")\n",
    "\n",
    "                fl.write(f'{t}\\nFold-enrichment: {fold:.02f}\\nBonferroni-corrected p-value: {b:.02e}\\n\\n')"
   ]
  },
  {
   "cell_type": "code",
   "execution_count": 9,
   "id": "9757a47a-9d09-470b-896d-da0a4539a480",
   "metadata": {},
   "outputs": [],
   "source": [
    "\n",
    "\n",
    "response = requests.get('https://rest.kegg.jp/get/ko:K19607')"
   ]
  },
  {
   "cell_type": "code",
   "execution_count": 10,
   "id": "b2f109ba-f221-4c39-9b32-5a2b191b36f8",
   "metadata": {},
   "outputs": [],
   "source": [
    "test = response.text.split('\\n')"
   ]
  },
  {
   "cell_type": "code",
   "execution_count": 11,
   "id": "f27584d0-6add-477f-9771-23fd95ef7dce",
   "metadata": {},
   "outputs": [],
   "source": [
    "name = re.search(r'NAME\\s*[\\w \\-]*', response.text).group()"
   ]
  },
  {
   "cell_type": "code",
   "execution_count": 12,
   "id": "47331f03-efe9-4bf2-949d-7e73a7f4cf69",
   "metadata": {},
   "outputs": [
    {
     "data": {
      "text/plain": [
       "['NAME', 'X-linked retinitis pigmentosa GTPase regulator']"
      ]
     },
     "execution_count": 12,
     "metadata": {},
     "output_type": "execute_result"
    }
   ],
   "source": [
    "re.split(r'\\s\\s+', name)"
   ]
  },
  {
   "cell_type": "code",
   "execution_count": 13,
   "id": "a319692a-b3fe-4099-b614-9b8f0cffdb61",
   "metadata": {},
   "outputs": [
    {
     "data": {
      "text/plain": [
       "'NAME        X-linked retinitis pigmentosa GTPase regulator'"
      ]
     },
     "execution_count": 13,
     "metadata": {},
     "output_type": "execute_result"
    }
   ],
   "source": [
    "name"
   ]
  },
  {
   "cell_type": "code",
   "execution_count": 14,
   "id": "859264ae-caf4-42cd-a88e-3d87b4cf9505",
   "metadata": {},
   "outputs": [
    {
     "data": {
      "text/plain": [
       "['ENTRY       K19607                      KO',\n",
       " 'SYMBOL      RPGR',\n",
       " 'NAME        X-linked retinitis pigmentosa GTPase regulator',\n",
       " 'DISEASE     H00481  Cone-rod dystrophy and cone dystrophy',\n",
       " '            H00527  Retinitis pigmentosa',\n",
       " 'BRITE       KEGG Orthology (KO) [BR:ko00001]',\n",
       " '             09180 Brite Hierarchies',\n",
       " '              09183 Protein families: signaling and cellular processes',\n",
       " '               03037 Cilium and associated proteins',\n",
       " '                K19607  RPGR; X-linked retinitis pigmentosa GTPase regulator']"
      ]
     },
     "execution_count": 14,
     "metadata": {},
     "output_type": "execute_result"
    }
   ],
   "source": [
    "test[:10]"
   ]
  },
  {
   "cell_type": "code",
   "execution_count": 15,
   "id": "cb41586c-adbe-43f8-9b31-e9ec665e26cd",
   "metadata": {},
   "outputs": [
    {
     "data": {
      "text/plain": [
       "'Non-specific serine/threonine protein kinase'"
      ]
     },
     "execution_count": 15,
     "metadata": {},
     "output_type": "execute_result"
    }
   ],
   "source": [
    "r = requests.get(\"https://www.ebi.ac.uk/enzymeportal/rest/enzymes/2.7.11.1\")\n",
    "r.json()['enzymeName']"
   ]
  },
  {
   "cell_type": "code",
   "execution_count": 16,
   "id": "dd5d7697-d044-45e7-a4d4-5945fa23775b",
   "metadata": {},
   "outputs": [],
   "source": [
    "def get_enrichment_df(lldf, phases, background_annotation, term_columns=['COG_category', 'GOs', 'KEGG_ko', 'EC'], outfile=None):\n",
    "    \n",
    "    module_dfs = []\n",
    "    \n",
    "    for m in tqdm.tqdm(sorted(lldf[f'leiden_label_{phases}'].unique())):\n",
    "        \n",
    "        term_dfs = []\n",
    "\n",
    "        for tc in term_columns:\n",
    "        \n",
    "            ps, bs, folds, terms = enrichment_analysis(m, lldf, phases, background_annotation, tc)\n",
    "\n",
    "            # fl.write(f'Module {m}\\n')\n",
    "            \n",
    "            info = []\n",
    "\n",
    "            if tc == 'GOs':\n",
    "\n",
    "                for t in terms:\n",
    "                    name, definition, obsolete = get_GO_info(t)\n",
    "                    if obsolete:\n",
    "                        info.append(f'{name.capitalize()}: {definition} (obsolete)')\n",
    "                    else:\n",
    "                        info.append(f'{name.capitalize()}: {definition}')\n",
    "                        \n",
    "            elif tc == 'COG_category':\n",
    "                for t in terms:\n",
    "                    info.append(COG_dict[t])\n",
    "                                \n",
    "            elif tc == 'KEGG_ko':\n",
    "                for t in terms:\n",
    "                    info.append(get_KEGG_info(t))\n",
    "                    \n",
    "            elif tc == 'EC':\n",
    "                for t in terms:\n",
    "                    info.append(get_EC_info(t))\n",
    "                    \n",
    "            term_df = pd.DataFrame({'module': [m]*len(terms),\n",
    "                                    'term': terms,\n",
    "                                    'info': info,\n",
    "                                    'fold_change': folds,\n",
    "                                    'bonferroni': bs})\n",
    "            \n",
    "            term_dfs.append(term_df)\n",
    "            \n",
    "        module_df = pd.concat(term_dfs)\n",
    "        \n",
    "        module_dfs.append(module_df)\n",
    "        \n",
    "    all_enrichment_df = pd.concat(module_dfs)\n",
    "    \n",
    "    if outfile:\n",
    "        all_enrichment_df.to_csv(outfile, index=False)\n",
    "    \n",
    "    return all_enrichment_df\n",
    "        \n",
    "        \n",
    "                        \n",
    "            \n",
    "                    \n",
    "            \n",
    "        \n",
    "#         for b, fold, t in zip(bs, folds, terms):\n",
    "\n",
    "#             if term_column == 'GOs':\n",
    "#                 name, definition, obsolete = get_GO_info(t)\n",
    "#                 if obsolete:\n",
    "#                     t = f'{name.capitalize()} ({t}): {definition} (obsolete)'\n",
    "#                 else:\n",
    "#                     t = f'{name.capitalize()} ({t}): {definition}'\n",
    "\n",
    "#             if term_column.split('_')[0] == 'KEGG':\n",
    "#                 dfs = pd.read_html(f'https://www.genome.jp/entry/{t}')\n",
    "\n",
    "#                 data = dfs[4]\n",
    "#                 entry = data.loc[data[0] == 'Entry'][1].values[0]\n",
    "#                 name = data.loc[data[0] == 'Name'][1].values[0]\n",
    "\n",
    "#                 t = f'{t}: {name}'"
   ]
  },
  {
   "cell_type": "code",
   "execution_count": 17,
   "id": "3e001ab1-173b-4ed8-85d5-091142480820",
   "metadata": {},
   "outputs": [],
   "source": [
    "complete_annotation = pd.read_csv('../eggnog/complete_eggnog_annotation.csv')"
   ]
  },
  {
   "cell_type": "code",
   "execution_count": 18,
   "id": "7f839c0b-7ed1-4a84-b058-dafccbfdad88",
   "metadata": {},
   "outputs": [],
   "source": [
    "lldf_nn3 = pd.read_csv('../embedding/mcl_rcl_res400_label_df_round_1_rearranged.csv')"
   ]
  },
  {
   "cell_type": "code",
   "execution_count": 19,
   "id": "0a18a134-a62a-4166-9764-a05d90f45361",
   "metadata": {},
   "outputs": [
    {
     "data": {
      "text/plain": [
       "array([560., 111., 374., 548., 136., 240., 511., 401., 360., 603., 695.,\n",
       "       687., 725., 755., 497., 306., 218., 684., 232.,  55., 455., 772.,\n",
       "       787., 606.,  82., 373., 366., 661., 223., 166., 581., 142., 154.,\n",
       "       364., 209., 248., 336., 294., 281., 650., 609.,   0., 666., 419.,\n",
       "       692., 728., 565., 194., 309., 553., 405., 408., 465.,  25., 427.,\n",
       "       651., 793., 487., 496., 739., 414., 586., 507.,  53., 208.,  89.,\n",
       "       489., 707., 264., 483., 721., 202., 398., 190., 363., 224., 315.,\n",
       "        37., 574., 520., 113., 474.,  95., 756., 665., 214., 456., 681.,\n",
       "       275., 103., 699., 185., 482., 450., 749.,   6., 311.,  56., 591.,\n",
       "       235.,  73., 671., 186., 127., 221., 179., 610., 342.,  83., 249.,\n",
       "       771., 277.,  66.,  28., 673., 141.,   5., 258., 421., 600., 800.,\n",
       "       719., 752.,  49., 759., 219., 134., 806., 512., 161., 261., 274.,\n",
       "       636., 121., 502., 430., 594., 649., 658., 361., 698., 297., 104.,\n",
       "       271., 593., 225., 130.,  17., 382., 660., 174., 314., 236., 308.,\n",
       "       533., 637., 257.,  19., 233.,  39., 189., 678., 688., 285., 352.,\n",
       "       403., 767., 498.,  40., 808., 555., 713., 380., 322., 446., 488.,\n",
       "       201.,   4., 321., 355., 731., 270., 757., 714.,  77., 738., 643.,\n",
       "       747., 632., 135., 114., 710., 146., 159.,  52., 150.,  94., 289.,\n",
       "       621., 647., 551., 319., 795., 582., 212., 400., 307.,  44., 470.,\n",
       "       230., 213., 326., 246., 443., 170.,  57., 569., 181., 108., 152.,\n",
       "       106., 466., 778., 481., 495., 368., 370.,  79., 521., 769., 350.,\n",
       "       426., 237., 570., 302., 407., 682., 329., 652., 587., 785., 611.,\n",
       "       404., 192., 145., 131., 435., 139., 588., 358., 578., 334., 464.,\n",
       "       680., 663., 187., 490., 184., 780., 422.,  90., 413., 622., 178.,\n",
       "       768., 313., 536., 694., 331., 552., 399., 523., 267., 501., 250.,\n",
       "       217., 102., 197., 700., 448., 452., 245., 763., 748., 493., 764.,\n",
       "       157., 153., 198., 608., 540., 655., 549., 761., 634., 697., 693.,\n",
       "       282., 668., 431.,  31., 724.,  75., 266., 316.,  15., 458., 624.,\n",
       "       433.,  23., 579., 110., 550., 384., 424.,  70., 116., 305., 228.,\n",
       "       389., 726., 620., 500., 467., 354., 377., 385., 645., 788., 723.,\n",
       "       105., 740.,  84., 117.,  16.,  27.,  20., 432., 338., 802.,  59.,\n",
       "       629., 434., 789., 229., 220., 379., 623.,  26., 337., 613.,  42.,\n",
       "       206., 734., 301., 137., 144.,  11.,  22., 644., 328., 567., 765.,\n",
       "       167., 616.,   3., 176., 711., 300.,  96., 272., 709.,  64., 736.,\n",
       "       283., 205., 575., 762., 674., 777., 365., 531., 639., 340., 751.,\n",
       "       716., 115., 376.,  71., 596., 112., 476., 203., 561., 598., 287.,\n",
       "       252.,  41., 280., 472., 690., 128., 402., 545.])"
      ]
     },
     "execution_count": 19,
     "metadata": {},
     "output_type": "execute_result"
    }
   ],
   "source": [
    "lldf_nn3['leiden_label_full'].unique()"
   ]
  },
  {
   "cell_type": "code",
   "execution_count": 20,
   "id": "93dc3cc2-1fc1-4018-80cb-21f998c0ed74",
   "metadata": {},
   "outputs": [
    {
     "name": "stdout",
     "output_type": "stream",
     "text": [
      "Automatic pdb calling has been turned ON\n"
     ]
    }
   ],
   "source": [
    "%pdb"
   ]
  },
  {
   "cell_type": "code",
   "execution_count": 21,
   "id": "fb55c9e2-7d38-44d2-a944-51bf9519ab39",
   "metadata": {},
   "outputs": [
    {
     "name": "stderr",
     "output_type": "stream",
     "text": [
      "  0%|          | 0/404 [00:00<?, ?it/s]"
     ]
    },
    {
     "name": "stderr",
     "output_type": "stream",
     "text": [
      "100%|██████████| 404/404 [04:17<00:00,  1.57it/s]\n"
     ]
    }
   ],
   "source": [
    "enrich_full_nn3 = get_enrichment_df(lldf_nn3, 'full', complete_annotation, outfile='./test_nn3_full_enrichment.csv')"
   ]
  },
  {
   "cell_type": "code",
   "execution_count": 22,
   "id": "2c4fefa0-73c9-422e-8090-61fa18d1faf3",
   "metadata": {},
   "outputs": [],
   "source": [
    "enrich_full_nn3 = pd.read_csv('./test_nn3_full_enrichment.csv')"
   ]
  },
  {
   "cell_type": "code",
   "execution_count": 23,
   "id": "6b2f9dee-8c14-40eb-a3b8-bc3865d6f367",
   "metadata": {
    "tags": []
   },
   "outputs": [
    {
     "data": {
      "text/html": [
       "<div>\n",
       "<style scoped>\n",
       "    .dataframe tbody tr th:only-of-type {\n",
       "        vertical-align: middle;\n",
       "    }\n",
       "\n",
       "    .dataframe tbody tr th {\n",
       "        vertical-align: top;\n",
       "    }\n",
       "\n",
       "    .dataframe thead th {\n",
       "        text-align: right;\n",
       "    }\n",
       "</style>\n",
       "<table border=\"1\" class=\"dataframe\">\n",
       "  <thead>\n",
       "    <tr style=\"text-align: right;\">\n",
       "      <th></th>\n",
       "      <th>module</th>\n",
       "      <th>term</th>\n",
       "      <th>info</th>\n",
       "      <th>fold_change</th>\n",
       "      <th>bonferroni</th>\n",
       "    </tr>\n",
       "  </thead>\n",
       "  <tbody>\n",
       "    <tr>\n",
       "      <th>0</th>\n",
       "      <td>6.0</td>\n",
       "      <td>U</td>\n",
       "      <td>Intracellular trafficking, secretion, and vesi...</td>\n",
       "      <td>16.349938</td>\n",
       "      <td>0.000103</td>\n",
       "    </tr>\n",
       "    <tr>\n",
       "      <th>1</th>\n",
       "      <td>19.0</td>\n",
       "      <td>2.7.11.1</td>\n",
       "      <td>Non-specific serine/threonine protein kinase</td>\n",
       "      <td>13.373058</td>\n",
       "      <td>0.001371</td>\n",
       "    </tr>\n",
       "    <tr>\n",
       "      <th>2</th>\n",
       "      <td>27.0</td>\n",
       "      <td>O</td>\n",
       "      <td>Posttranslational modification, protein turnov...</td>\n",
       "      <td>6.315055</td>\n",
       "      <td>0.043028</td>\n",
       "    </tr>\n",
       "    <tr>\n",
       "      <th>3</th>\n",
       "      <td>52.0</td>\n",
       "      <td>C</td>\n",
       "      <td>Energy production and conversion</td>\n",
       "      <td>26.084106</td>\n",
       "      <td>0.009340</td>\n",
       "    </tr>\n",
       "    <tr>\n",
       "      <th>4</th>\n",
       "      <td>55.0</td>\n",
       "      <td>A</td>\n",
       "      <td>RNA processing and modification</td>\n",
       "      <td>20.402486</td>\n",
       "      <td>0.001699</td>\n",
       "    </tr>\n",
       "  </tbody>\n",
       "</table>\n",
       "</div>"
      ],
      "text/plain": [
       "   module      term                                               info  \\\n",
       "0     6.0         U  Intracellular trafficking, secretion, and vesi...   \n",
       "1    19.0  2.7.11.1       Non-specific serine/threonine protein kinase   \n",
       "2    27.0         O  Posttranslational modification, protein turnov...   \n",
       "3    52.0         C                   Energy production and conversion   \n",
       "4    55.0         A                    RNA processing and modification   \n",
       "\n",
       "   fold_change  bonferroni  \n",
       "0    16.349938    0.000103  \n",
       "1    13.373058    0.001371  \n",
       "2     6.315055    0.043028  \n",
       "3    26.084106    0.009340  \n",
       "4    20.402486    0.001699  "
      ]
     },
     "execution_count": 23,
     "metadata": {},
     "output_type": "execute_result"
    }
   ],
   "source": [
    "enrich_full_nn3.head()"
   ]
  },
  {
   "cell_type": "code",
   "execution_count": 24,
   "id": "801013e7-b277-4b7f-a6b7-773fc734c1b2",
   "metadata": {},
   "outputs": [
    {
     "data": {
      "text/plain": [
       "array([  6.,  19.,  27.,  52.,  55.,  56.,  70.,  71.,  73.,  84.,  89.,\n",
       "        90.,  94., 108., 111., 116., 117., 134., 145., 186., 189., 214.,\n",
       "       217., 218., 220., 223., 229., 230., 233., 245., 250., 261., 270.,\n",
       "       272., 277., 280., 285., 287., 294., 308., 309., 313., 322., 331.,\n",
       "       334., 350., 358., 360., 370., 376., 379., 384., 385., 401., 402.,\n",
       "       407., 413., 426., 455., 458., 483., 493., 495., 496., 497., 498.,\n",
       "       548., 549., 552., 555., 561., 567., 575., 578., 581., 587., 598.,\n",
       "       600., 608., 609., 611., 613., 616., 622., 637., 639., 644., 650.,\n",
       "       652., 655., 665., 666., 668., 673., 693., 699., 714., 716., 723.,\n",
       "       731., 738., 751., 752., 755., 756., 757., 759., 771., 772., 777.,\n",
       "       778., 780., 788., 806.])"
      ]
     },
     "execution_count": 24,
     "metadata": {},
     "output_type": "execute_result"
    }
   ],
   "source": [
    "enrich_full_nn3['module'].unique()"
   ]
  },
  {
   "cell_type": "code",
   "execution_count": 25,
   "id": "1228547a-b5d6-4d2f-9534-5a5a10043c52",
   "metadata": {},
   "outputs": [
    {
     "data": {
      "text/plain": [
       "array([560., 111., 374., 548., 136., 240., 511., 401., 360., 603., 695.,\n",
       "       687., 725., 755., 497., 306., 218., 684., 232.,  55., 455., 772.,\n",
       "       787., 606.,  82., 373., 366., 661., 223., 166., 581., 142., 154.,\n",
       "       364., 209., 248., 336., 294., 281., 650., 609.,   0., 666., 419.,\n",
       "       692., 728., 565., 194., 309., 553., 405., 408., 465.,  25., 427.,\n",
       "       651., 793., 487., 496., 739., 414., 586., 507.,  53., 208.,  89.,\n",
       "       489., 707., 264., 483., 721., 202., 398., 190., 363., 224., 315.,\n",
       "        37., 574., 520., 113., 474.,  95., 756., 665., 214., 456., 681.,\n",
       "       275., 103., 699., 185., 482., 450., 749.,   6., 311.,  56., 591.,\n",
       "       235.,  73., 671., 186., 127., 221., 179., 610., 342.,  83., 249.,\n",
       "       771., 277.,  66.,  28., 673., 141.,   5., 258., 421., 600., 800.,\n",
       "       719., 752.,  49., 759., 219., 134., 806., 512., 161., 261., 274.,\n",
       "       636., 121., 502., 430., 594., 649., 658., 361., 698., 297., 104.,\n",
       "       271., 593., 225., 130.,  17., 382., 660., 174., 314., 236., 308.,\n",
       "       533., 637., 257.,  19., 233.,  39., 189., 678., 688., 285., 352.,\n",
       "       403., 767., 498.,  40., 808., 555., 713., 380., 322., 446., 488.,\n",
       "       201.,   4., 321., 355., 731., 270., 757., 714.,  77., 738., 643.,\n",
       "       747., 632., 135., 114., 710., 146., 159.,  52., 150.,  94., 289.,\n",
       "       621., 647., 551., 319., 795., 582., 212., 400., 307.,  44., 470.,\n",
       "       230., 213., 326., 246., 443., 170.,  57., 569., 181., 108., 152.,\n",
       "       106., 466., 778., 481., 495., 368., 370.,  79., 521., 769., 350.,\n",
       "       426., 237., 570., 302., 407., 682., 329., 652., 587., 785., 611.,\n",
       "       404., 192., 145., 131., 435., 139., 588., 358., 578., 334., 464.,\n",
       "       680., 663., 187., 490., 184., 780., 422.,  90., 413., 622., 178.,\n",
       "       768., 313., 536., 694., 331., 552., 399., 523., 267., 501., 250.,\n",
       "       217., 102., 197., 700., 448., 452., 245., 763., 748., 493., 764.,\n",
       "       157., 153., 198., 608., 540., 655., 549., 761., 634., 697., 693.,\n",
       "       282., 668., 431.,  31., 724.,  75., 266., 316.,  15., 458., 624.,\n",
       "       433.,  23., 579., 110., 550., 384., 424.,  70., 116., 305., 228.,\n",
       "       389., 726., 620., 500., 467., 354., 377., 385., 645., 788., 723.,\n",
       "       105., 740.,  84., 117.,  16.,  27.,  20., 432., 338., 802.,  59.,\n",
       "       629., 434., 789., 229., 220., 379., 623.,  26., 337., 613.,  42.,\n",
       "       206., 734., 301., 137., 144.,  11.,  22., 644., 328., 567., 765.,\n",
       "       167., 616.,   3., 176., 711., 300.,  96., 272., 709.,  64., 736.,\n",
       "       283., 205., 575., 762., 674., 777., 365., 531., 639., 340., 751.,\n",
       "       716., 115., 376.,  71., 596., 112., 476., 203., 561., 598., 287.,\n",
       "       252.,  41., 280., 472., 690., 128., 402., 545.])"
      ]
     },
     "execution_count": 25,
     "metadata": {},
     "output_type": "execute_result"
    }
   ],
   "source": [
    "lldf_nn3['leiden_label_full'].unique()"
   ]
  },
  {
   "cell_type": "code",
   "execution_count": 26,
   "id": "1a6ff685-b372-4979-969e-2ae278aa46cb",
   "metadata": {},
   "outputs": [
    {
     "data": {
      "text/html": [
       "<div>\n",
       "<style scoped>\n",
       "    .dataframe tbody tr th:only-of-type {\n",
       "        vertical-align: middle;\n",
       "    }\n",
       "\n",
       "    .dataframe tbody tr th {\n",
       "        vertical-align: top;\n",
       "    }\n",
       "\n",
       "    .dataframe thead th {\n",
       "        text-align: right;\n",
       "    }\n",
       "</style>\n",
       "<table border=\"1\" class=\"dataframe\">\n",
       "  <thead>\n",
       "    <tr style=\"text-align: right;\">\n",
       "      <th></th>\n",
       "      <th>Unnamed: 0</th>\n",
       "      <th>TTHERM_ID</th>\n",
       "      <th>leiden_label_full</th>\n",
       "    </tr>\n",
       "  </thead>\n",
       "  <tbody>\n",
       "    <tr>\n",
       "      <th>11979</th>\n",
       "      <td>12635</td>\n",
       "      <td>TTHERM_01386050</td>\n",
       "      <td>217.0</td>\n",
       "    </tr>\n",
       "  </tbody>\n",
       "</table>\n",
       "</div>"
      ],
      "text/plain": [
       "       Unnamed: 0        TTHERM_ID  leiden_label_full\n",
       "11979       12635  TTHERM_01386050              217.0"
      ]
     },
     "execution_count": 26,
     "metadata": {},
     "output_type": "execute_result"
    }
   ],
   "source": [
    "lldf_nn3.loc[lldf_nn3['TTHERM_ID'] == 'TTHERM_01386050']"
   ]
  },
  {
   "cell_type": "markdown",
   "id": "d35056e7-38f7-4cf6-a5df-f387d19e8d3a",
   "metadata": {},
   "source": [
    "end here. Return to embedding notebook!"
   ]
  }
 ],
 "metadata": {
  "kernelspec": {
   "display_name": "Python 3 (ipykernel)",
   "language": "python",
   "name": "python3"
  },
  "language_info": {
   "codemirror_mode": {
    "name": "ipython",
    "version": 3
   },
   "file_extension": ".py",
   "mimetype": "text/x-python",
   "name": "python",
   "nbconvert_exporter": "python",
   "pygments_lexer": "ipython3",
   "version": "3.9.9"
  }
 },
 "nbformat": 4,
 "nbformat_minor": 5
}

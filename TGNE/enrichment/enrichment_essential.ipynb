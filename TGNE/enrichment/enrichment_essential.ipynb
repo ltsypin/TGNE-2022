{
 "cells": [
  {
   "cell_type": "code",
   "execution_count": 1,
   "id": "44830610-d070-4882-8273-da4c5c22dd43",
   "metadata": {},
   "outputs": [],
   "source": [
    "import pandas as pd\n",
    "import bs4\n",
    "import requests\n",
    "import json\n",
    "import re\n",
    "import tqdm\n",
    "\n",
    "import scipy.stats as st\n",
    "import numpy as np\n",
    "\n",
    "import bokeh\n",
    "from bokeh.plotting import show as show_interactive\n",
    "from bokeh.plotting import output_file, output_notebook\n",
    "from bokeh.layouts import column, row\n",
    "from bokeh.models import CustomJS, TextInput, LassoSelectTool, Select, MultiSelect, ColorBar, Legend, LegendItem\n",
    "from bokeh.models.widgets import DataTable, DateFormatter, TableColumn, Button, HTMLTemplateFormatter\n",
    "from bokeh.events import SelectionGeometry\n",
    "from bokeh.transform import linear_cmap, jitter\n",
    "from bokeh.models import FactorRange\n"
   ]
  },
  {
   "cell_type": "code",
   "execution_count": 2,
   "id": "108df2b3-df6f-4028-a879-e9034f79309a",
   "metadata": {},
   "outputs": [],
   "source": [
    "# As of 2020 https://www.ncbi.nlm.nih.gov/research/cog/\n",
    "COG_dict = {\n",
    "    \"A\" : \"RNA processing and modification\",\n",
    "    \"B\" : \"Chromatin structure and dynamics\",\n",
    "    \"C\" : \"Energy production and conversion\",\n",
    "    \"D\" : \"Cell cycle control, cell division, chromosome partitioning\",\n",
    "    \"E\" : \"Amino acid transport and metabolism\",\n",
    "    \"F\" : \"Nucleotide transport and metabolism\",\n",
    "    \"G\" : \"Carbohydrate transport and metabolism\",\n",
    "    \"H\" : \"Coenzyme transport and metabolism\",\n",
    "    \"I\" : \"Lipid transport and metabolism\",\n",
    "    \"J\" : \"Translation, ribosomal structure and biogenesis\",\n",
    "    \"K\" : \"Transcription\",\n",
    "    \"L\" : \"Replication, recombination, and repair\",\n",
    "    \"M\" : \"Cell wall/membrane/envelope biogenesis\",\n",
    "    \"N\" : \"Cell motility\",\n",
    "    \"O\" : \"Posttranslational modification, protein turnover, chaperones\",\n",
    "    \"P\" : \"Inorganic ion transport and metabolism\",\n",
    "    \"Q\" : \"Secondary metabolites biosynthesis, transport and catabolism\",\n",
    "    \"T\" : \"Signal transduction mechanisms\",\n",
    "    \"U\" : \"Intracellular trafficking, secretion, and vesicular transport\",\n",
    "    \"V\" : \"Defense mechanisms\",\n",
    "    \"W\" : \"Extracellular structures\",\n",
    "    \"X\" : \"Mobilome: prophages, transposons\",\n",
    "    \"Y\" : \"Nuclear structure\",\n",
    "    \"Z\" : \"Cytoskeleton\",\n",
    "    \"R\" : \"General function prediction only\",\n",
    "    \"S\" : \"Function unknown\",\n",
    "}"
   ]
  },
  {
   "cell_type": "code",
   "execution_count": 3,
   "id": "b0251f64-8d43-4f21-9a88-772f44b71f01",
   "metadata": {},
   "outputs": [],
   "source": [
    "def term_count_dict_from_annotation_df(annot_df, term_column):\n",
    "    \n",
    "    column = annot_df[term_column].values\n",
    "    \n",
    "    funct_terms = []\n",
    "    for entry in column:\n",
    "        if entry != '-':\n",
    "            if term_column == 'COG_category':\n",
    "                # terms = [f'{e}: {COG_dict[e]}' for e in entry]\n",
    "                terms = list(entry)\n",
    "            else:\n",
    "                terms = entry.split(',')\n",
    "            for t in terms:\n",
    "                funct_terms.append(t)\n",
    "\n",
    "#     len(terms)\n",
    "    \n",
    "    term_count_dict = {}\n",
    "    \n",
    "    for t in funct_terms:\n",
    "        count = term_count_dict.get(t, 0)\n",
    "        count += 1\n",
    "        term_count_dict[t] = count\n",
    "        \n",
    "    return term_count_dict"
   ]
  },
  {
   "cell_type": "code",
   "execution_count": 4,
   "id": "0fddca3d-22c7-42cf-b4d1-f663bfa84cf5",
   "metadata": {},
   "outputs": [],
   "source": [
    "def enrichment_analysis(module, leiden_label_df, phases, background_annotation, term_column):\n",
    "    \n",
    "    module_ttids = leiden_label_df.loc[leiden_label_df[f'leiden_label_{phases}'] == module]['TTHERM_ID'].values\n",
    "    \n",
    "    module_annotation = background_annotation.loc[background_annotation['TTHERM_ID'].isin(module_ttids)]\n",
    "    \n",
    "    background_term_dict = term_count_dict_from_annotation_df(background_annotation, term_column)\n",
    "    module_term_dict = term_count_dict_from_annotation_df(module_annotation, term_column)\n",
    "    \n",
    "    bs = []\n",
    "    ps = []\n",
    "    folds = []\n",
    "    terms = []\n",
    "    \n",
    "    for t, module_count in module_term_dict.items():\n",
    "        \n",
    "        background_count = background_term_dict[t]\n",
    "        module_size = len(module_annotation)\n",
    "        background_size = len(background_annotation)\n",
    "        \n",
    "        standard_contingency_table = [\n",
    "                                [module_count, background_count - module_count], \n",
    "                                [module_size - module_count, background_size - module_size - (background_count - module_count)]\n",
    "                            ]\n",
    "        \n",
    "        # The -1 and +1 make this more conservative (see explanation from the DAVID database: \n",
    "        # https://david.ncifcrf.gov/helps/functional_annotation.html#geneenrich)\n",
    "        conservative_contingency_table = [\n",
    "                                [module_count - 1, background_count - module_count + 1], \n",
    "                                [module_size - module_count, background_size - module_size - (background_count - module_count)]\n",
    "                            ]\n",
    "        \n",
    "        \n",
    "        odds, p_standard = st.fisher_exact(standard_contingency_table, 'greater')\n",
    "        odds, p_conservative = st.fisher_exact(conservative_contingency_table, 'greater')\n",
    "        \n",
    "        p_reasonable = np.mean([p_standard, p_conservative])\n",
    "        \n",
    "        bonferroni  = p_reasonable * len(module_term_dict)\n",
    "\n",
    "        fold_enrichment = (module_count/module_size) / (background_count/background_size)\n",
    "\n",
    "        if bonferroni <= 0.05:\n",
    "            \n",
    "            ps.append(p_reasonable)\n",
    "            bs.append(bonferroni)\n",
    "            folds.append(fold_enrichment)\n",
    "            terms.append(t)\n",
    "            \n",
    "#         else:\n",
    "#             ps.append('')\n",
    "#             bs.append('')\n",
    "#             folds.append('')\n",
    "#             terms.append('')\n",
    "            \n",
    "    return ps, bs, folds, terms\n",
    "            \n",
    "            "
   ]
  },
  {
   "cell_type": "code",
   "execution_count": 5,
   "id": "af7d692a-245e-4a7b-bd02-0b4bdd1ae288",
   "metadata": {},
   "outputs": [],
   "source": [
    "def get_GO_info(go_term):\n",
    "    \n",
    "    r = requests.get(f'https://www.ebi.ac.uk/QuickGO/services/ontology/go/terms/{go_term}/complete', 'html5lib')\n",
    "    \n",
    "    go_info = json.loads(r.text)\n",
    "    \n",
    "    name = go_info['results'][0]['name']\n",
    "    \n",
    "    definition = go_info['results'][0]['definition']['text']\n",
    "    \n",
    "    obsolete = go_info['results'][0]['isObsolete']\n",
    "    \n",
    "    return name, definition, obsolete"
   ]
  },
  {
   "cell_type": "code",
   "execution_count": 6,
   "id": "c5465d23-1a8a-4e96-b3fb-069dbb51d191",
   "metadata": {},
   "outputs": [],
   "source": [
    "def get_KEGG_info(term):\n",
    "    try:\n",
    "#         dfs = pd.read_html(f'https://www.genome.jp/entry/{term}')\n",
    "        response = requests.get(f'https://rest.kegg.jp/get/{term}')\n",
    "    except:\n",
    "        return \"NA\"\n",
    "\n",
    "    text = response.text\n",
    "    name_string = re.search(r'NAME\\s*[\\w \\-]*', response.text).group()\n",
    "    name = re.split(r'\\s\\s+', name_string)[1]\n",
    "#     data = dfs[3]\n",
    "#     entry = data.loc[data[0] == 'Entry'][1].values[0]\n",
    "#     name = data.loc[data[0] == 'Name'][1].values[0]\n",
    "    \n",
    "    return name"
   ]
  },
  {
   "cell_type": "code",
   "execution_count": 7,
   "id": "b01593d0-9a7f-4c4d-a953-99a093cef99f",
   "metadata": {},
   "outputs": [],
   "source": [
    "def get_EC_info(term):\n",
    "    \n",
    "    r = requests.get(f\"https://www.ebi.ac.uk/enzymeportal/rest/enzymes/{term}\")\n",
    "    try:\n",
    "        name = r.json()['enzymeName']\n",
    "    except:\n",
    "        name = 'NA'\n",
    "    \n",
    "    return name"
   ]
  },
  {
   "cell_type": "code",
   "execution_count": 8,
   "id": "14cb6323-a773-46b7-85e3-f9d5bd609e61",
   "metadata": {},
   "outputs": [],
   "source": [
    "def write_enrichment(lldf, phases, out_prefix, term_column):\n",
    "    \n",
    "    with open(f'../enrichment/{out_prefix}_enrichment.txt', 'w') as fl:\n",
    "    \n",
    "        for m in tqdm.tqdm(sorted(lldf[f'leiden_label_{phases}'].unique())):\n",
    "\n",
    "            # print(f'Module {m}')\n",
    "            ps, bs, folds, terms = enrichment_analysis(m, lldf, phases, complete_annot, term_column)\n",
    "\n",
    "            fl.write(f'Module {m}\\n')\n",
    "            for b, fold, t in zip(bs, folds, terms):\n",
    "                \n",
    "                if term_column == 'COG_category':\n",
    "                    \n",
    "                    definition = COG_dict[t]\n",
    "                    t = f'{t}: {definition}'\n",
    "                \n",
    "                elif term_column == 'GOs':\n",
    "                    name, definition, obsolete = get_GO_info(t)\n",
    "                    if obsolete:\n",
    "                        t = f'{name.capitalize()} ({t}): {definition} (obsolete)'\n",
    "                    else:\n",
    "                        t = f'{name.capitalize()} ({t}): {definition}'\n",
    "                        \n",
    "                elif term_column.split('_')[0] == 'KEGG':\n",
    "                    name = get_KEGG_info(t)\n",
    "                    \n",
    "                    t = f'{t}: {name}'\n",
    "                    \n",
    "                elif term_column == 'EC':\n",
    "                    \n",
    "                    name = get_EC_info(t)\n",
    "                    t = f'{t}: {name}'\n",
    "                    \n",
    "                        \n",
    "                # print(f\"{t}\\nFold-enrichment: {fold:.02f}\\nBonferroni-corrected p-value: {b:.02e}\\n\\n\")\n",
    "\n",
    "                fl.write(f'{t}\\nFold-enrichment: {fold:.02f}\\nBonferroni-corrected p-value: {b:.02e}\\n\\n')"
   ]
  },
  {
   "cell_type": "code",
   "execution_count": 9,
   "id": "9757a47a-9d09-470b-896d-da0a4539a480",
   "metadata": {},
   "outputs": [],
   "source": [
    "\n",
    "\n",
    "response = requests.get('https://rest.kegg.jp/get/ko:K19607')"
   ]
  },
  {
   "cell_type": "code",
   "execution_count": 10,
   "id": "b2f109ba-f221-4c39-9b32-5a2b191b36f8",
   "metadata": {},
   "outputs": [],
   "source": [
    "test = response.text.split('\\n')"
   ]
  },
  {
   "cell_type": "code",
   "execution_count": 11,
   "id": "f27584d0-6add-477f-9771-23fd95ef7dce",
   "metadata": {},
   "outputs": [],
   "source": [
    "name = re.search(r'NAME\\s*[\\w \\-]*', response.text).group()"
   ]
  },
  {
   "cell_type": "code",
   "execution_count": 12,
   "id": "47331f03-efe9-4bf2-949d-7e73a7f4cf69",
   "metadata": {},
   "outputs": [
    {
     "data": {
      "text/plain": [
       "['NAME', 'X-linked retinitis pigmentosa GTPase regulator']"
      ]
     },
     "execution_count": 12,
     "metadata": {},
     "output_type": "execute_result"
    }
   ],
   "source": [
    "re.split(r'\\s\\s+', name)"
   ]
  },
  {
   "cell_type": "code",
   "execution_count": 13,
   "id": "a319692a-b3fe-4099-b614-9b8f0cffdb61",
   "metadata": {},
   "outputs": [
    {
     "data": {
      "text/plain": [
       "'NAME        X-linked retinitis pigmentosa GTPase regulator'"
      ]
     },
     "execution_count": 13,
     "metadata": {},
     "output_type": "execute_result"
    }
   ],
   "source": [
    "name"
   ]
  },
  {
   "cell_type": "code",
   "execution_count": 14,
   "id": "859264ae-caf4-42cd-a88e-3d87b4cf9505",
   "metadata": {},
   "outputs": [
    {
     "data": {
      "text/plain": [
       "['ENTRY       K19607                      KO',\n",
       " 'SYMBOL      RPGR',\n",
       " 'NAME        X-linked retinitis pigmentosa GTPase regulator',\n",
       " 'DISEASE     H00481  Cone-rod dystrophy and cone dystrophy',\n",
       " '            H00527  Retinitis pigmentosa',\n",
       " 'BRITE       KEGG Orthology (KO) [BR:ko00001]',\n",
       " '             09180 Brite Hierarchies',\n",
       " '              09183 Protein families: signaling and cellular processes',\n",
       " '               03037 Cilium and associated proteins',\n",
       " '                K19607  RPGR; X-linked retinitis pigmentosa GTPase regulator']"
      ]
     },
     "execution_count": 14,
     "metadata": {},
     "output_type": "execute_result"
    }
   ],
   "source": [
    "test[:10]"
   ]
  },
  {
   "cell_type": "code",
   "execution_count": 15,
   "id": "cb41586c-adbe-43f8-9b31-e9ec665e26cd",
   "metadata": {},
   "outputs": [
    {
     "data": {
      "text/plain": [
       "'Non-specific serine/threonine protein kinase'"
      ]
     },
     "execution_count": 15,
     "metadata": {},
     "output_type": "execute_result"
    }
   ],
   "source": [
    "r = requests.get(\"https://www.ebi.ac.uk/enzymeportal/rest/enzymes/2.7.11.1\")\n",
    "r.json()['enzymeName']"
   ]
  },
  {
   "cell_type": "code",
   "execution_count": 16,
   "id": "dd5d7697-d044-45e7-a4d4-5945fa23775b",
   "metadata": {},
   "outputs": [],
   "source": [
    "def get_enrichment_df(lldf, phases, background_annotation, term_columns=['COG_category', 'GOs', 'KEGG_ko', 'EC'], outfile=None):\n",
    "    \n",
    "    module_dfs = []\n",
    "    \n",
    "    for m in tqdm.tqdm(sorted(lldf[f'leiden_label_{phases}'].unique())):\n",
    "        \n",
    "        term_dfs = []\n",
    "\n",
    "        for tc in term_columns:\n",
    "        \n",
    "            ps, bs, folds, terms = enrichment_analysis(m, lldf, phases, background_annotation, tc)\n",
    "\n",
    "            # fl.write(f'Module {m}\\n')\n",
    "            \n",
    "            info = []\n",
    "\n",
    "            if tc == 'GOs':\n",
    "\n",
    "                for t in terms:\n",
    "                    name, definition, obsolete = get_GO_info(t)\n",
    "                    if obsolete:\n",
    "                        info.append(f'{name.capitalize()}: {definition} (obsolete)')\n",
    "                    else:\n",
    "                        info.append(f'{name.capitalize()}: {definition}')\n",
    "                        \n",
    "            elif tc == 'COG_category':\n",
    "                for t in terms:\n",
    "                    info.append(COG_dict[t])\n",
    "                                \n",
    "            elif tc == 'KEGG_ko':\n",
    "                for t in terms:\n",
    "                    info.append(get_KEGG_info(t))\n",
    "                    \n",
    "            elif tc == 'EC':\n",
    "                for t in terms:\n",
    "                    info.append(get_EC_info(t))\n",
    "                    \n",
    "            term_df = pd.DataFrame({'module': [m]*len(terms),\n",
    "                                    'term': terms,\n",
    "                                    'info': info,\n",
    "                                    'fold_change': folds,\n",
    "                                    'bonferroni': bs})\n",
    "            \n",
    "            term_dfs.append(term_df)\n",
    "            \n",
    "        module_df = pd.concat(term_dfs)\n",
    "        \n",
    "        module_dfs.append(module_df)\n",
    "        \n",
    "    all_enrichment_df = pd.concat(module_dfs)\n",
    "    \n",
    "    if outfile:\n",
    "        all_enrichment_df.to_csv(outfile, index=False)\n",
    "    \n",
    "    return all_enrichment_df\n",
    "        \n",
    "        \n",
    "                        \n",
    "            \n",
    "                    \n",
    "            \n",
    "        \n",
    "#         for b, fold, t in zip(bs, folds, terms):\n",
    "\n",
    "#             if term_column == 'GOs':\n",
    "#                 name, definition, obsolete = get_GO_info(t)\n",
    "#                 if obsolete:\n",
    "#                     t = f'{name.capitalize()} ({t}): {definition} (obsolete)'\n",
    "#                 else:\n",
    "#                     t = f'{name.capitalize()} ({t}): {definition}'\n",
    "\n",
    "#             if term_column.split('_')[0] == 'KEGG':\n",
    "#                 dfs = pd.read_html(f'https://www.genome.jp/entry/{t}')\n",
    "\n",
    "#                 data = dfs[4]\n",
    "#                 entry = data.loc[data[0] == 'Entry'][1].values[0]\n",
    "#                 name = data.loc[data[0] == 'Name'][1].values[0]\n",
    "\n",
    "#                 t = f'{t}: {name}'"
   ]
  },
  {
   "cell_type": "code",
   "execution_count": 17,
   "id": "3e001ab1-173b-4ed8-85d5-091142480820",
   "metadata": {},
   "outputs": [],
   "source": [
    "complete_annotation = pd.read_csv('../eggnog/complete_eggnog_annotation.csv')"
   ]
  },
  {
   "cell_type": "code",
   "execution_count": 18,
   "id": "7f839c0b-7ed1-4a84-b058-dafccbfdad88",
   "metadata": {},
   "outputs": [],
   "source": [
    "lldf_nn3 = pd.read_csv('../embedding/test_nn3_leiden_label_df_round_1_rearranged.csv')"
   ]
  },
  {
   "cell_type": "code",
   "execution_count": 19,
   "id": "0a18a134-a62a-4166-9764-a05d90f45361",
   "metadata": {},
   "outputs": [
    {
     "data": {
      "text/plain": [
       "array([ 0, 41, 12, 35, 34, 32, 15, 37,  6, 18, 40, 16, 26, 44, 22, 14, 33,\n",
       "        3, 46, 20, 21, 39, 17, 24,  7, 10, 31, 13, 19, 36,  8,  2, 30,  5,\n",
       "       27,  4,  1, 50, 23, 47, 28,  9, 45, 11, 29, 42, 51, 25, 38, 55, 43,\n",
       "       48, 52, 49, 56, 61, 53, 57, 60, 54, 59, 58, 62, 63])"
      ]
     },
     "execution_count": 19,
     "metadata": {},
     "output_type": "execute_result"
    }
   ],
   "source": [
    "lldf_nn3['leiden_label_full'].unique()"
   ]
  },
  {
   "cell_type": "code",
   "execution_count": 20,
   "id": "93dc3cc2-1fc1-4018-80cb-21f998c0ed74",
   "metadata": {},
   "outputs": [
    {
     "name": "stdout",
     "output_type": "stream",
     "text": [
      "Automatic pdb calling has been turned ON\n"
     ]
    }
   ],
   "source": [
    "%pdb"
   ]
  },
  {
   "cell_type": "code",
   "execution_count": 21,
   "id": "fb55c9e2-7d38-44d2-a944-51bf9519ab39",
   "metadata": {},
   "outputs": [
    {
     "name": "stderr",
     "output_type": "stream",
     "text": [
      "  0%|          | 0/64 [00:00<?, ?it/s]"
     ]
    },
    {
     "name": "stderr",
     "output_type": "stream",
     "text": [
      "100%|██████████| 64/64 [03:48<00:00,  3.57s/it]\n"
     ]
    }
   ],
   "source": [
    "enrich_full_nn3 = get_enrichment_df(lldf_nn3, 'full', complete_annotation, outfile='./test_nn3_full_enrichment.csv')"
   ]
  },
  {
   "cell_type": "code",
   "execution_count": 22,
   "id": "2c4fefa0-73c9-422e-8090-61fa18d1faf3",
   "metadata": {},
   "outputs": [],
   "source": [
    "enrich_full_nn3 = pd.read_csv('./test_nn3_full_enrichment.csv')"
   ]
  },
  {
   "cell_type": "code",
   "execution_count": 23,
   "id": "6b2f9dee-8c14-40eb-a3b8-bc3865d6f367",
   "metadata": {
    "tags": []
   },
   "outputs": [
    {
     "data": {
      "text/html": [
       "<div>\n",
       "<style scoped>\n",
       "    .dataframe tbody tr th:only-of-type {\n",
       "        vertical-align: middle;\n",
       "    }\n",
       "\n",
       "    .dataframe tbody tr th {\n",
       "        vertical-align: top;\n",
       "    }\n",
       "\n",
       "    .dataframe thead th {\n",
       "        text-align: right;\n",
       "    }\n",
       "</style>\n",
       "<table border=\"1\" class=\"dataframe\">\n",
       "  <thead>\n",
       "    <tr style=\"text-align: right;\">\n",
       "      <th></th>\n",
       "      <th>module</th>\n",
       "      <th>term</th>\n",
       "      <th>info</th>\n",
       "      <th>fold_change</th>\n",
       "      <th>bonferroni</th>\n",
       "    </tr>\n",
       "  </thead>\n",
       "  <tbody>\n",
       "    <tr>\n",
       "      <th>0</th>\n",
       "      <td>0.0</td>\n",
       "      <td>O</td>\n",
       "      <td>Posttranslational modification, protein turnov...</td>\n",
       "      <td>1.507881</td>\n",
       "      <td>4.854394e-03</td>\n",
       "    </tr>\n",
       "    <tr>\n",
       "      <th>1</th>\n",
       "      <td>0.0</td>\n",
       "      <td>T</td>\n",
       "      <td>Signal transduction mechanisms</td>\n",
       "      <td>1.581693</td>\n",
       "      <td>1.527126e-03</td>\n",
       "    </tr>\n",
       "    <tr>\n",
       "      <th>2</th>\n",
       "      <td>0.0</td>\n",
       "      <td>I</td>\n",
       "      <td>Lipid transport and metabolism</td>\n",
       "      <td>2.763838</td>\n",
       "      <td>8.901472e-05</td>\n",
       "    </tr>\n",
       "    <tr>\n",
       "      <th>3</th>\n",
       "      <td>0.0</td>\n",
       "      <td>3.4.22.41</td>\n",
       "      <td>Cathepsin F</td>\n",
       "      <td>3.929769</td>\n",
       "      <td>2.487514e-02</td>\n",
       "    </tr>\n",
       "    <tr>\n",
       "      <th>4</th>\n",
       "      <td>1.0</td>\n",
       "      <td>J</td>\n",
       "      <td>Translation, ribosomal structure and biogenesis</td>\n",
       "      <td>4.564150</td>\n",
       "      <td>9.943261e-18</td>\n",
       "    </tr>\n",
       "  </tbody>\n",
       "</table>\n",
       "</div>"
      ],
      "text/plain": [
       "   module       term                                               info  \\\n",
       "0     0.0          O  Posttranslational modification, protein turnov...   \n",
       "1     0.0          T                     Signal transduction mechanisms   \n",
       "2     0.0          I                     Lipid transport and metabolism   \n",
       "3     0.0  3.4.22.41                                        Cathepsin F   \n",
       "4     1.0          J    Translation, ribosomal structure and biogenesis   \n",
       "\n",
       "   fold_change    bonferroni  \n",
       "0     1.507881  4.854394e-03  \n",
       "1     1.581693  1.527126e-03  \n",
       "2     2.763838  8.901472e-05  \n",
       "3     3.929769  2.487514e-02  \n",
       "4     4.564150  9.943261e-18  "
      ]
     },
     "execution_count": 23,
     "metadata": {},
     "output_type": "execute_result"
    }
   ],
   "source": [
    "enrich_full_nn3.head()"
   ]
  },
  {
   "cell_type": "code",
   "execution_count": 24,
   "id": "801013e7-b277-4b7f-a6b7-773fc734c1b2",
   "metadata": {},
   "outputs": [
    {
     "data": {
      "text/plain": [
       "array([ 0.,  1.,  2.,  3.,  4.,  5.,  6.,  7.,  8., 10., 11., 12., 13.,\n",
       "       14., 16., 17., 18., 20., 21., 22., 23., 24., 25., 27., 28., 29.,\n",
       "       30., 31., 32., 33., 34., 36., 37., 38., 39., 40., 41., 42., 43.,\n",
       "       44., 46., 47., 48., 49., 50., 51., 52., 53., 59., 62.])"
      ]
     },
     "execution_count": 24,
     "metadata": {},
     "output_type": "execute_result"
    }
   ],
   "source": [
    "enrich_full_nn3['module'].unique()"
   ]
  },
  {
   "cell_type": "code",
   "execution_count": 25,
   "id": "1228547a-b5d6-4d2f-9534-5a5a10043c52",
   "metadata": {},
   "outputs": [
    {
     "data": {
      "text/plain": [
       "array([ 0, 41, 12, 35, 34, 32, 15, 37,  6, 18, 40, 16, 26, 44, 22, 14, 33,\n",
       "        3, 46, 20, 21, 39, 17, 24,  7, 10, 31, 13, 19, 36,  8,  2, 30,  5,\n",
       "       27,  4,  1, 50, 23, 47, 28,  9, 45, 11, 29, 42, 51, 25, 38, 55, 43,\n",
       "       48, 52, 49, 56, 61, 53, 57, 60, 54, 59, 58, 62, 63])"
      ]
     },
     "execution_count": 25,
     "metadata": {},
     "output_type": "execute_result"
    }
   ],
   "source": [
    "lldf_nn3['leiden_label_full'].unique()"
   ]
  },
  {
   "cell_type": "code",
   "execution_count": 26,
   "id": "1a6ff685-b372-4979-969e-2ae278aa46cb",
   "metadata": {},
   "outputs": [
    {
     "data": {
      "text/html": [
       "<div>\n",
       "<style scoped>\n",
       "    .dataframe tbody tr th:only-of-type {\n",
       "        vertical-align: middle;\n",
       "    }\n",
       "\n",
       "    .dataframe tbody tr th {\n",
       "        vertical-align: top;\n",
       "    }\n",
       "\n",
       "    .dataframe thead th {\n",
       "        text-align: right;\n",
       "    }\n",
       "</style>\n",
       "<table border=\"1\" class=\"dataframe\">\n",
       "  <thead>\n",
       "    <tr style=\"text-align: right;\">\n",
       "      <th></th>\n",
       "      <th>Unnamed: 0</th>\n",
       "      <th>TTHERM_ID</th>\n",
       "      <th>leiden_label_full</th>\n",
       "    </tr>\n",
       "  </thead>\n",
       "  <tbody>\n",
       "    <tr>\n",
       "      <th>17440</th>\n",
       "      <td>17440</td>\n",
       "      <td>TTHERM_01386050</td>\n",
       "      <td>36</td>\n",
       "    </tr>\n",
       "  </tbody>\n",
       "</table>\n",
       "</div>"
      ],
      "text/plain": [
       "       Unnamed: 0        TTHERM_ID  leiden_label_full\n",
       "17440       17440  TTHERM_01386050                 36"
      ]
     },
     "execution_count": 26,
     "metadata": {},
     "output_type": "execute_result"
    }
   ],
   "source": [
    "lldf_nn3.loc[lldf_nn3['TTHERM_ID'] == 'TTHERM_01386050']"
   ]
  },
  {
   "cell_type": "markdown",
   "id": "d35056e7-38f7-4cf6-a5df-f387d19e8d3a",
   "metadata": {},
   "source": [
    "end here. Return to embedding notebook!"
   ]
  }
 ],
 "metadata": {
  "kernelspec": {
   "display_name": "Python 3 (ipykernel)",
   "language": "python",
   "name": "python3"
  },
  "language_info": {
   "codemirror_mode": {
    "name": "ipython",
    "version": 3
   },
   "file_extension": ".py",
   "mimetype": "text/x-python",
   "name": "python",
   "nbconvert_exporter": "python",
   "pygments_lexer": "ipython3",
   "version": "3.9.9"
  }
 },
 "nbformat": 4,
 "nbformat_minor": 5
}

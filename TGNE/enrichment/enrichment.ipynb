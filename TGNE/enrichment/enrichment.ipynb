{
 "cells": [
  {
   "cell_type": "code",
   "execution_count": 1,
   "id": "44830610-d070-4882-8273-da4c5c22dd43",
   "metadata": {},
   "outputs": [],
   "source": [
    "import pandas as pd\n",
    "import bs4\n",
    "import requests\n",
    "import json\n",
    "import re\n",
    "import tqdm\n",
    "\n",
    "import scipy.stats as st\n",
    "import numpy as np\n",
    "\n",
    "import bokeh\n",
    "from bokeh.plotting import show as show_interactive\n",
    "from bokeh.plotting import output_file, output_notebook\n",
    "from bokeh.layouts import column, row\n",
    "from bokeh.models import CustomJS, TextInput, LassoSelectTool, Select, MultiSelect, ColorBar, Legend, LegendItem\n",
    "from bokeh.models.widgets import DataTable, DateFormatter, TableColumn, Button, HTMLTemplateFormatter\n",
    "from bokeh.events import SelectionGeometry\n",
    "from bokeh.transform import linear_cmap, jitter\n",
    "from bokeh.models import FactorRange\n"
   ]
  },
  {
   "cell_type": "code",
   "execution_count": 2,
   "id": "108df2b3-df6f-4028-a879-e9034f79309a",
   "metadata": {},
   "outputs": [],
   "source": [
    "# As of 2020 https://www.ncbi.nlm.nih.gov/research/cog/\n",
    "COG_dict = {\n",
    "    \"A\" : \"RNA processing and modification\",\n",
    "    \"B\" : \"Chromatin structure and dynamics\",\n",
    "    \"C\" : \"Energy production and conversion\",\n",
    "    \"D\" : \"Cell cycle control, cell division, chromosome partitioning\",\n",
    "    \"E\" : \"Amino acid transport and metabolism\",\n",
    "    \"F\" : \"Nucleotide transport and metabolism\",\n",
    "    \"G\" : \"Carbohydrate transport and metabolism\",\n",
    "    \"H\" : \"Coenzyme transport and metabolism\",\n",
    "    \"I\" : \"Lipid transport and metabolism\",\n",
    "    \"J\" : \"Translation, ribosomal structure and biogenesis\",\n",
    "    \"K\" : \"Transcription\",\n",
    "    \"L\" : \"Replication, recombination, and repair\",\n",
    "    \"M\" : \"Cell wall/membrane/envelope biogenesis\",\n",
    "    \"N\" : \"Cell motility\",\n",
    "    \"O\" : \"Posttranslational modification, protein turnover, chaperones\",\n",
    "    \"P\" : \"Inorganic ion transport and metabolism\",\n",
    "    \"Q\" : \"Secondary metabolites biosynthesis, transport and catabolism\",\n",
    "    \"T\" : \"Signal transduction mechanisms\",\n",
    "    \"U\" : \"Intracellular trafficking, secretion, and vesicular transport\",\n",
    "    \"V\" : \"Defense mechanisms\",\n",
    "    \"W\" : \"Extracellular structures\",\n",
    "    \"X\" : \"Mobilome: prophages, transposons\",\n",
    "    \"Y\" : \"Nuclear structure\",\n",
    "    \"Z\" : \"Cytoskeleton\",\n",
    "    \"R\" : \"General function prediction only\",\n",
    "    \"S\" : \"Function unknown\",\n",
    "}"
   ]
  },
  {
   "cell_type": "code",
   "execution_count": 3,
   "id": "b0251f64-8d43-4f21-9a88-772f44b71f01",
   "metadata": {},
   "outputs": [],
   "source": [
    "def term_count_dict_from_annotation_df(annot_df, term_column):\n",
    "    \n",
    "    column = annot_df[term_column].values\n",
    "    \n",
    "    funct_terms = []\n",
    "    for entry in column:\n",
    "        if entry != '-':\n",
    "            if term_column == 'COG_category':\n",
    "                # terms = [f'{e}: {COG_dict[e]}' for e in entry]\n",
    "                terms = list(entry)\n",
    "            else:\n",
    "                terms = entry.split(',')\n",
    "            for t in terms:\n",
    "                funct_terms.append(t)\n",
    "\n",
    "#     len(terms)\n",
    "    \n",
    "    term_count_dict = {}\n",
    "    \n",
    "    for t in funct_terms:\n",
    "        count = term_count_dict.get(t, 0)\n",
    "        count += 1\n",
    "        term_count_dict[t] = count\n",
    "        \n",
    "    return term_count_dict"
   ]
  },
  {
   "cell_type": "code",
   "execution_count": 4,
   "id": "0fddca3d-22c7-42cf-b4d1-f663bfa84cf5",
   "metadata": {},
   "outputs": [],
   "source": [
    "def enrichment_analysis(module, leiden_label_df, phases, background_annotation, term_column):\n",
    "    \n",
    "    module_ttids = leiden_label_df.loc[leiden_label_df[f'leiden_label_{phases}'] == module]['TTHERM_ID'].values\n",
    "    \n",
    "    module_annotation = background_annotation.loc[background_annotation['TTHERM_ID'].isin(module_ttids)]\n",
    "    \n",
    "    background_term_dict = term_count_dict_from_annotation_df(background_annotation, term_column)\n",
    "    module_term_dict = term_count_dict_from_annotation_df(module_annotation, term_column)\n",
    "    \n",
    "    bs = []\n",
    "    ps = []\n",
    "    folds = []\n",
    "    terms = []\n",
    "    \n",
    "    for t, module_count in module_term_dict.items():\n",
    "        \n",
    "        background_count = background_term_dict[t]\n",
    "        module_size = len(module_annotation)\n",
    "        background_size = len(background_annotation)\n",
    "        \n",
    "        standard_contingency_table = [\n",
    "                                [module_count, background_count - module_count], \n",
    "                                [module_size - module_count, background_size - module_size - (background_count - module_count)]\n",
    "                            ]\n",
    "        \n",
    "        # The -1 and +1 make this more conservative (see explanation from the DAVID database: \n",
    "        # https://david.ncifcrf.gov/helps/functional_annotation.html#geneenrich)\n",
    "        conservative_contingency_table = [\n",
    "                                [module_count - 1, background_count - module_count + 1], \n",
    "                                [module_size - module_count, background_size - module_size - (background_count - module_count)]\n",
    "                            ]\n",
    "        \n",
    "        \n",
    "        odds, p_standard = st.fisher_exact(standard_contingency_table, 'greater')\n",
    "        odds, p_conservative = st.fisher_exact(conservative_contingency_table, 'greater')\n",
    "        \n",
    "        p_reasonable = np.mean([p_standard, p_conservative])\n",
    "        \n",
    "        bonferroni  = p_reasonable * len(module_term_dict)\n",
    "\n",
    "        fold_enrichment = (module_count/module_size) / (background_count/background_size)\n",
    "\n",
    "        if bonferroni <= 0.05:\n",
    "            \n",
    "            ps.append(p_reasonable)\n",
    "            bs.append(bonferroni)\n",
    "            folds.append(fold_enrichment)\n",
    "            terms.append(t)\n",
    "            \n",
    "#         else:\n",
    "#             ps.append('')\n",
    "#             bs.append('')\n",
    "#             folds.append('')\n",
    "#             terms.append('')\n",
    "            \n",
    "    return ps, bs, folds, terms\n",
    "            \n",
    "            "
   ]
  },
  {
   "cell_type": "code",
   "execution_count": 5,
   "id": "af7d692a-245e-4a7b-bd02-0b4bdd1ae288",
   "metadata": {},
   "outputs": [],
   "source": [
    "def get_GO_info(go_term):\n",
    "    \n",
    "    r = requests.get(f'https://www.ebi.ac.uk/QuickGO/services/ontology/go/terms/{go_term}/complete', 'html5lib')\n",
    "    \n",
    "    go_info = json.loads(r.text)\n",
    "    \n",
    "    name = go_info['results'][0]['name']\n",
    "    \n",
    "    definition = go_info['results'][0]['definition']['text']\n",
    "    \n",
    "    obsolete = go_info['results'][0]['isObsolete']\n",
    "    \n",
    "    return name, definition, obsolete"
   ]
  },
  {
   "cell_type": "code",
   "execution_count": 6,
   "id": "14cb6323-a773-46b7-85e3-f9d5bd609e61",
   "metadata": {},
   "outputs": [],
   "source": [
    "def write_enrichment(lldf, phases, out_prefix, term_column):\n",
    "    \n",
    "    with open(f'../enrichment/{out_prefix}_enrichment.txt', 'w') as fl:\n",
    "    \n",
    "        for m in tqdm.tqdm(sorted(lldf[f'leiden_label_{phases}'].unique())):\n",
    "\n",
    "            # print(f'Module {m}')\n",
    "            ps, bs, folds, terms = enrichment_analysis(m, lldf, phases, complete_annot, term_column)\n",
    "\n",
    "            fl.write(f'Module {m}\\n')\n",
    "            for b, fold, t in zip(bs, folds, terms):\n",
    "                \n",
    "                if term_column == 'COG_category':\n",
    "                    \n",
    "                    definition = COG_dict[t]\n",
    "                    t = f'{t}: {definition}'\n",
    "                \n",
    "                elif term_column == 'GOs':\n",
    "                    name, definition, obsolete = get_GO_info(t)\n",
    "                    if obsolete:\n",
    "                        t = f'{name.capitalize()} ({t}): {definition} (obsolete)'\n",
    "                    else:\n",
    "                        t = f'{name.capitalize()} ({t}): {definition}'\n",
    "                        \n",
    "                elif term_column.split('_')[0] == 'KEGG':\n",
    "                    dfs = pd.read_html(f'https://www.genome.jp/entry/{t}')\n",
    "                    \n",
    "                    data = dfs[4]\n",
    "                    entry = data.loc[data[0] == 'Entry'][1].values[0]\n",
    "                    name = data.loc[data[0] == 'Name'][1].values[0]\n",
    "                    \n",
    "                    t = f'{t}: {name}'\n",
    "                        \n",
    "                # print(f\"{t}\\nFold-enrichment: {fold:.02f}\\nBonferroni-corrected p-value: {b:.02e}\\n\\n\")\n",
    "\n",
    "                fl.write(f'{t}\\nFold-enrichment: {fold:.02f}\\nBonferroni-corrected p-value: {b:.02e}\\n\\n')"
   ]
  },
  {
   "cell_type": "code",
   "execution_count": 7,
   "id": "a5a87637-665e-42ed-a1df-5ba9c176735e",
   "metadata": {},
   "outputs": [],
   "source": [
    "def get_KEGG_info(term):\n",
    "    try:\n",
    "        dfs = pd.read_html(f'https://www.genome.jp/entry/{term}')\n",
    "    except:\n",
    "        return \"NA\"\n",
    "\n",
    "    data = dfs[3]\n",
    "    entry = data.loc[data[0] == 'Entry'][1].values[0]\n",
    "    name = data.loc[data[0] == 'Name'][1].values[0]\n",
    "    \n",
    "    return name"
   ]
  },
  {
   "cell_type": "code",
   "execution_count": 8,
   "id": "dd5d7697-d044-45e7-a4d4-5945fa23775b",
   "metadata": {},
   "outputs": [],
   "source": [
    "def get_enrichment_df(lldf, phases, background_annotation, term_columns=['COG_category', 'GOs', 'KEGG_ko'], outfile=None):\n",
    "    \n",
    "    module_dfs = []\n",
    "    \n",
    "    for m in tqdm.tqdm(sorted(lldf[f'leiden_label_{phases}'].unique())):\n",
    "        \n",
    "        term_dfs = []\n",
    "\n",
    "        for tc in term_columns:\n",
    "        \n",
    "            ps, bs, folds, terms = enrichment_analysis(m, lldf, phases, background_annotation, tc)\n",
    "\n",
    "            # fl.write(f'Module {m}\\n')\n",
    "            \n",
    "            info = []\n",
    "\n",
    "            if tc == 'GOs':\n",
    "\n",
    "                for t in terms:\n",
    "                    name, definition, obsolete = get_GO_info(t)\n",
    "                    if obsolete:\n",
    "                        info.append(f'{name.capitalize()}: {definition} (obsolete)')\n",
    "                    else:\n",
    "                        info.append(f'{name.capitalize()}: {definition}')\n",
    "                        \n",
    "            elif tc == 'COG_category':\n",
    "                for t in terms:\n",
    "                    info.append(COG_dict[t])\n",
    "                                \n",
    "            elif tc == 'KEGG_ko':\n",
    "                for t in terms:\n",
    "                    info.append(get_KEGG_info(t))\n",
    "                    \n",
    "            term_df = pd.DataFrame({'module': [m]*len(terms),\n",
    "                                    'term': terms,\n",
    "                                    'info': info,\n",
    "                                    'fold_change': folds,\n",
    "                                    'bonferroni': bs})\n",
    "            \n",
    "            term_dfs.append(term_df)\n",
    "            \n",
    "        module_df = pd.concat(term_dfs)\n",
    "        \n",
    "        module_dfs.append(module_df)\n",
    "        \n",
    "    all_enrichment_df = pd.concat(module_dfs)\n",
    "    \n",
    "    if outfile:\n",
    "        all_enrichment_df.to_csv(outfile, index=False)\n",
    "    \n",
    "    return all_enrichment_df\n",
    "        \n",
    "        \n",
    "                        \n",
    "            \n",
    "                    \n",
    "            \n",
    "        \n",
    "#         for b, fold, t in zip(bs, folds, terms):\n",
    "\n",
    "#             if term_column == 'GOs':\n",
    "#                 name, definition, obsolete = get_GO_info(t)\n",
    "#                 if obsolete:\n",
    "#                     t = f'{name.capitalize()} ({t}): {definition} (obsolete)'\n",
    "#                 else:\n",
    "#                     t = f'{name.capitalize()} ({t}): {definition}'\n",
    "\n",
    "#             if term_column.split('_')[0] == 'KEGG':\n",
    "#                 dfs = pd.read_html(f'https://www.genome.jp/entry/{t}')\n",
    "\n",
    "#                 data = dfs[4]\n",
    "#                 entry = data.loc[data[0] == 'Entry'][1].values[0]\n",
    "#                 name = data.loc[data[0] == 'Name'][1].values[0]\n",
    "\n",
    "#                 t = f'{t}: {name}'"
   ]
  },
  {
   "cell_type": "code",
   "execution_count": 9,
   "id": "3e001ab1-173b-4ed8-85d5-091142480820",
   "metadata": {},
   "outputs": [],
   "source": [
    "complete_annotation = pd.read_csv('../eggnog/complete_eggnog_annotation.csv')"
   ]
  },
  {
   "cell_type": "code",
   "execution_count": 89,
   "id": "7f839c0b-7ed1-4a84-b058-dafccbfdad88",
   "metadata": {},
   "outputs": [],
   "source": [
    "lldf_nn3 = pd.read_csv('../embedding/test_nn3_leiden_label_df_round_1_rearranged.csv')"
   ]
  },
  {
   "cell_type": "code",
   "execution_count": 90,
   "id": "0a18a134-a62a-4166-9764-a05d90f45361",
   "metadata": {},
   "outputs": [
    {
     "data": {
      "text/plain": [
       "array([43, 37, 16, 41, 24, 30, 54, 19,  3, 45,  4, 22, 57, 28, 20,  8, 21,\n",
       "        1, 60, 55, 48, 10, 53, 12,  5, 33, 46, 39, 47, 49, 23, 25, 32, 18,\n",
       "       34,  2, 44, 13, 15, 52, 50, 11, 26, 42, 56, 14, 40, 38,  9, 35, 31,\n",
       "       36, 59, 17, 58,  7, 51,  0, 29,  6, 27])"
      ]
     },
     "execution_count": 90,
     "metadata": {},
     "output_type": "execute_result"
    }
   ],
   "source": [
    "lldf_nn3['leiden_label_full'].unique()"
   ]
  },
  {
   "cell_type": "code",
   "execution_count": 91,
   "id": "bda2492b-0274-4a77-ac62-a2d19de10651",
   "metadata": {},
   "outputs": [
    {
     "ename": "FileNotFoundError",
     "evalue": "[Errno 2] No such file or directory: '../embedding/test_nn2_leiden_label_df_round_1.csv'",
     "output_type": "error",
     "traceback": [
      "\u001b[0;31m---------------------------------------------------------------------------\u001b[0m",
      "\u001b[0;31mFileNotFoundError\u001b[0m                         Traceback (most recent call last)",
      "\u001b[0;32m<ipython-input-91-7a9b91bcb0d6>\u001b[0m in \u001b[0;36m<module>\u001b[0;34m\u001b[0m\n\u001b[0;32m----> 1\u001b[0;31m \u001b[0mlldf_nn2\u001b[0m \u001b[0;34m=\u001b[0m \u001b[0mpd\u001b[0m\u001b[0;34m.\u001b[0m\u001b[0mread_csv\u001b[0m\u001b[0;34m(\u001b[0m\u001b[0;34m'../embedding/test_nn2_leiden_label_df_round_1.csv'\u001b[0m\u001b[0;34m)\u001b[0m\u001b[0;34m\u001b[0m\u001b[0;34m\u001b[0m\u001b[0m\n\u001b[0m",
      "\u001b[0;32m~/miniconda3/envs/cdh2/lib/python3.9/site-packages/pandas/io/parsers.py\u001b[0m in \u001b[0;36mread_csv\u001b[0;34m(filepath_or_buffer, sep, delimiter, header, names, index_col, usecols, squeeze, prefix, mangle_dupe_cols, dtype, engine, converters, true_values, false_values, skipinitialspace, skiprows, skipfooter, nrows, na_values, keep_default_na, na_filter, verbose, skip_blank_lines, parse_dates, infer_datetime_format, keep_date_col, date_parser, dayfirst, cache_dates, iterator, chunksize, compression, thousands, decimal, lineterminator, quotechar, quoting, doublequote, escapechar, comment, encoding, dialect, error_bad_lines, warn_bad_lines, delim_whitespace, low_memory, memory_map, float_precision, storage_options)\u001b[0m\n\u001b[1;32m    608\u001b[0m     \u001b[0mkwds\u001b[0m\u001b[0;34m.\u001b[0m\u001b[0mupdate\u001b[0m\u001b[0;34m(\u001b[0m\u001b[0mkwds_defaults\u001b[0m\u001b[0;34m)\u001b[0m\u001b[0;34m\u001b[0m\u001b[0;34m\u001b[0m\u001b[0m\n\u001b[1;32m    609\u001b[0m \u001b[0;34m\u001b[0m\u001b[0m\n\u001b[0;32m--> 610\u001b[0;31m     \u001b[0;32mreturn\u001b[0m \u001b[0m_read\u001b[0m\u001b[0;34m(\u001b[0m\u001b[0mfilepath_or_buffer\u001b[0m\u001b[0;34m,\u001b[0m \u001b[0mkwds\u001b[0m\u001b[0;34m)\u001b[0m\u001b[0;34m\u001b[0m\u001b[0;34m\u001b[0m\u001b[0m\n\u001b[0m\u001b[1;32m    611\u001b[0m \u001b[0;34m\u001b[0m\u001b[0m\n\u001b[1;32m    612\u001b[0m \u001b[0;34m\u001b[0m\u001b[0m\n",
      "\u001b[0;32m~/miniconda3/envs/cdh2/lib/python3.9/site-packages/pandas/io/parsers.py\u001b[0m in \u001b[0;36m_read\u001b[0;34m(filepath_or_buffer, kwds)\u001b[0m\n\u001b[1;32m    460\u001b[0m \u001b[0;34m\u001b[0m\u001b[0m\n\u001b[1;32m    461\u001b[0m     \u001b[0;31m# Create the parser.\u001b[0m\u001b[0;34m\u001b[0m\u001b[0;34m\u001b[0m\u001b[0;34m\u001b[0m\u001b[0m\n\u001b[0;32m--> 462\u001b[0;31m     \u001b[0mparser\u001b[0m \u001b[0;34m=\u001b[0m \u001b[0mTextFileReader\u001b[0m\u001b[0;34m(\u001b[0m\u001b[0mfilepath_or_buffer\u001b[0m\u001b[0;34m,\u001b[0m \u001b[0;34m**\u001b[0m\u001b[0mkwds\u001b[0m\u001b[0;34m)\u001b[0m\u001b[0;34m\u001b[0m\u001b[0;34m\u001b[0m\u001b[0m\n\u001b[0m\u001b[1;32m    463\u001b[0m \u001b[0;34m\u001b[0m\u001b[0m\n\u001b[1;32m    464\u001b[0m     \u001b[0;32mif\u001b[0m \u001b[0mchunksize\u001b[0m \u001b[0;32mor\u001b[0m \u001b[0miterator\u001b[0m\u001b[0;34m:\u001b[0m\u001b[0;34m\u001b[0m\u001b[0;34m\u001b[0m\u001b[0m\n",
      "\u001b[0;32m~/miniconda3/envs/cdh2/lib/python3.9/site-packages/pandas/io/parsers.py\u001b[0m in \u001b[0;36m__init__\u001b[0;34m(self, f, engine, **kwds)\u001b[0m\n\u001b[1;32m    817\u001b[0m             \u001b[0mself\u001b[0m\u001b[0;34m.\u001b[0m\u001b[0moptions\u001b[0m\u001b[0;34m[\u001b[0m\u001b[0;34m\"has_index_names\"\u001b[0m\u001b[0;34m]\u001b[0m \u001b[0;34m=\u001b[0m \u001b[0mkwds\u001b[0m\u001b[0;34m[\u001b[0m\u001b[0;34m\"has_index_names\"\u001b[0m\u001b[0;34m]\u001b[0m\u001b[0;34m\u001b[0m\u001b[0;34m\u001b[0m\u001b[0m\n\u001b[1;32m    818\u001b[0m \u001b[0;34m\u001b[0m\u001b[0m\n\u001b[0;32m--> 819\u001b[0;31m         \u001b[0mself\u001b[0m\u001b[0;34m.\u001b[0m\u001b[0m_engine\u001b[0m \u001b[0;34m=\u001b[0m \u001b[0mself\u001b[0m\u001b[0;34m.\u001b[0m\u001b[0m_make_engine\u001b[0m\u001b[0;34m(\u001b[0m\u001b[0mself\u001b[0m\u001b[0;34m.\u001b[0m\u001b[0mengine\u001b[0m\u001b[0;34m)\u001b[0m\u001b[0;34m\u001b[0m\u001b[0;34m\u001b[0m\u001b[0m\n\u001b[0m\u001b[1;32m    820\u001b[0m \u001b[0;34m\u001b[0m\u001b[0m\n\u001b[1;32m    821\u001b[0m     \u001b[0;32mdef\u001b[0m \u001b[0mclose\u001b[0m\u001b[0;34m(\u001b[0m\u001b[0mself\u001b[0m\u001b[0;34m)\u001b[0m\u001b[0;34m:\u001b[0m\u001b[0;34m\u001b[0m\u001b[0;34m\u001b[0m\u001b[0m\n",
      "\u001b[0;32m~/miniconda3/envs/cdh2/lib/python3.9/site-packages/pandas/io/parsers.py\u001b[0m in \u001b[0;36m_make_engine\u001b[0;34m(self, engine)\u001b[0m\n\u001b[1;32m   1048\u001b[0m             )\n\u001b[1;32m   1049\u001b[0m         \u001b[0;31m# error: Too many arguments for \"ParserBase\"\u001b[0m\u001b[0;34m\u001b[0m\u001b[0;34m\u001b[0m\u001b[0;34m\u001b[0m\u001b[0m\n\u001b[0;32m-> 1050\u001b[0;31m         \u001b[0;32mreturn\u001b[0m \u001b[0mmapping\u001b[0m\u001b[0;34m[\u001b[0m\u001b[0mengine\u001b[0m\u001b[0;34m]\u001b[0m\u001b[0;34m(\u001b[0m\u001b[0mself\u001b[0m\u001b[0;34m.\u001b[0m\u001b[0mf\u001b[0m\u001b[0;34m,\u001b[0m \u001b[0;34m**\u001b[0m\u001b[0mself\u001b[0m\u001b[0;34m.\u001b[0m\u001b[0moptions\u001b[0m\u001b[0;34m)\u001b[0m  \u001b[0;31m# type: ignore[call-arg]\u001b[0m\u001b[0;34m\u001b[0m\u001b[0;34m\u001b[0m\u001b[0m\n\u001b[0m\u001b[1;32m   1051\u001b[0m \u001b[0;34m\u001b[0m\u001b[0m\n\u001b[1;32m   1052\u001b[0m     \u001b[0;32mdef\u001b[0m \u001b[0m_failover_to_python\u001b[0m\u001b[0;34m(\u001b[0m\u001b[0mself\u001b[0m\u001b[0;34m)\u001b[0m\u001b[0;34m:\u001b[0m\u001b[0;34m\u001b[0m\u001b[0;34m\u001b[0m\u001b[0m\n",
      "\u001b[0;32m~/miniconda3/envs/cdh2/lib/python3.9/site-packages/pandas/io/parsers.py\u001b[0m in \u001b[0;36m__init__\u001b[0;34m(self, src, **kwds)\u001b[0m\n\u001b[1;32m   1865\u001b[0m \u001b[0;34m\u001b[0m\u001b[0m\n\u001b[1;32m   1866\u001b[0m         \u001b[0;31m# open handles\u001b[0m\u001b[0;34m\u001b[0m\u001b[0;34m\u001b[0m\u001b[0;34m\u001b[0m\u001b[0m\n\u001b[0;32m-> 1867\u001b[0;31m         \u001b[0mself\u001b[0m\u001b[0;34m.\u001b[0m\u001b[0m_open_handles\u001b[0m\u001b[0;34m(\u001b[0m\u001b[0msrc\u001b[0m\u001b[0;34m,\u001b[0m \u001b[0mkwds\u001b[0m\u001b[0;34m)\u001b[0m\u001b[0;34m\u001b[0m\u001b[0;34m\u001b[0m\u001b[0m\n\u001b[0m\u001b[1;32m   1868\u001b[0m         \u001b[0;32massert\u001b[0m \u001b[0mself\u001b[0m\u001b[0;34m.\u001b[0m\u001b[0mhandles\u001b[0m \u001b[0;32mis\u001b[0m \u001b[0;32mnot\u001b[0m \u001b[0;32mNone\u001b[0m\u001b[0;34m\u001b[0m\u001b[0;34m\u001b[0m\u001b[0m\n\u001b[1;32m   1869\u001b[0m         \u001b[0;32mfor\u001b[0m \u001b[0mkey\u001b[0m \u001b[0;32min\u001b[0m \u001b[0;34m(\u001b[0m\u001b[0;34m\"storage_options\"\u001b[0m\u001b[0;34m,\u001b[0m \u001b[0;34m\"encoding\"\u001b[0m\u001b[0;34m,\u001b[0m \u001b[0;34m\"memory_map\"\u001b[0m\u001b[0;34m,\u001b[0m \u001b[0;34m\"compression\"\u001b[0m\u001b[0;34m)\u001b[0m\u001b[0;34m:\u001b[0m\u001b[0;34m\u001b[0m\u001b[0;34m\u001b[0m\u001b[0m\n",
      "\u001b[0;32m~/miniconda3/envs/cdh2/lib/python3.9/site-packages/pandas/io/parsers.py\u001b[0m in \u001b[0;36m_open_handles\u001b[0;34m(self, src, kwds)\u001b[0m\n\u001b[1;32m   1360\u001b[0m         \u001b[0mLet\u001b[0m \u001b[0mthe\u001b[0m \u001b[0mreaders\u001b[0m \u001b[0mopen\u001b[0m \u001b[0mIOHanldes\u001b[0m \u001b[0mafter\u001b[0m \u001b[0mthey\u001b[0m \u001b[0mare\u001b[0m \u001b[0mdone\u001b[0m \u001b[0;32mwith\u001b[0m \u001b[0mtheir\u001b[0m \u001b[0mpotential\u001b[0m \u001b[0mraises\u001b[0m\u001b[0;34m.\u001b[0m\u001b[0;34m\u001b[0m\u001b[0;34m\u001b[0m\u001b[0m\n\u001b[1;32m   1361\u001b[0m         \"\"\"\n\u001b[0;32m-> 1362\u001b[0;31m         self.handles = get_handle(\n\u001b[0m\u001b[1;32m   1363\u001b[0m             \u001b[0msrc\u001b[0m\u001b[0;34m,\u001b[0m\u001b[0;34m\u001b[0m\u001b[0;34m\u001b[0m\u001b[0m\n\u001b[1;32m   1364\u001b[0m             \u001b[0;34m\"r\"\u001b[0m\u001b[0;34m,\u001b[0m\u001b[0;34m\u001b[0m\u001b[0;34m\u001b[0m\u001b[0m\n",
      "\u001b[0;32m~/miniconda3/envs/cdh2/lib/python3.9/site-packages/pandas/io/common.py\u001b[0m in \u001b[0;36mget_handle\u001b[0;34m(path_or_buf, mode, encoding, compression, memory_map, is_text, errors, storage_options)\u001b[0m\n\u001b[1;32m    640\u001b[0m                 \u001b[0merrors\u001b[0m \u001b[0;34m=\u001b[0m \u001b[0;34m\"replace\"\u001b[0m\u001b[0;34m\u001b[0m\u001b[0;34m\u001b[0m\u001b[0m\n\u001b[1;32m    641\u001b[0m             \u001b[0;31m# Encoding\u001b[0m\u001b[0;34m\u001b[0m\u001b[0;34m\u001b[0m\u001b[0;34m\u001b[0m\u001b[0m\n\u001b[0;32m--> 642\u001b[0;31m             handle = open(\n\u001b[0m\u001b[1;32m    643\u001b[0m                 \u001b[0mhandle\u001b[0m\u001b[0;34m,\u001b[0m\u001b[0;34m\u001b[0m\u001b[0;34m\u001b[0m\u001b[0m\n\u001b[1;32m    644\u001b[0m                 \u001b[0mioargs\u001b[0m\u001b[0;34m.\u001b[0m\u001b[0mmode\u001b[0m\u001b[0;34m,\u001b[0m\u001b[0;34m\u001b[0m\u001b[0;34m\u001b[0m\u001b[0m\n",
      "\u001b[0;31mFileNotFoundError\u001b[0m: [Errno 2] No such file or directory: '../embedding/test_nn2_leiden_label_df_round_1.csv'"
     ]
    }
   ],
   "source": [
    "lldf_nn2 = pd.read_csv('../embedding/test_nn2_leiden_label_df_round_1.csv')"
   ]
  },
  {
   "cell_type": "code",
   "execution_count": 15,
   "id": "93dc3cc2-1fc1-4018-80cb-21f998c0ed74",
   "metadata": {},
   "outputs": [
    {
     "name": "stdout",
     "output_type": "stream",
     "text": [
      "Automatic pdb calling has been turned ON\n"
     ]
    }
   ],
   "source": [
    "%pdb"
   ]
  },
  {
   "cell_type": "code",
   "execution_count": 92,
   "id": "fb55c9e2-7d38-44d2-a944-51bf9519ab39",
   "metadata": {},
   "outputs": [
    {
     "name": "stderr",
     "output_type": "stream",
     "text": [
      "100%|██████████| 61/61 [04:08<00:00,  4.08s/it]\n"
     ]
    }
   ],
   "source": [
    "enrich_full_nn3 = get_enrichment_df(lldf_nn3, 'full', complete_annotation, outfile='./test_nn3_full_enrichment.csv')"
   ]
  },
  {
   "cell_type": "code",
   "execution_count": null,
   "id": "88883ca6-01e2-4544-9a18-88606a8fcc35",
   "metadata": {},
   "outputs": [],
   "source": []
  },
  {
   "cell_type": "code",
   "execution_count": 79,
   "id": "2c4fefa0-73c9-422e-8090-61fa18d1faf3",
   "metadata": {},
   "outputs": [],
   "source": [
    "enrich_full_nn3 = pd.read_csv('./test_nn3_full_enrichment.csv')"
   ]
  },
  {
   "cell_type": "code",
   "execution_count": 80,
   "id": "6b2f9dee-8c14-40eb-a3b8-bc3865d6f367",
   "metadata": {
    "tags": []
   },
   "outputs": [
    {
     "data": {
      "text/html": [
       "<div>\n",
       "<style scoped>\n",
       "    .dataframe tbody tr th:only-of-type {\n",
       "        vertical-align: middle;\n",
       "    }\n",
       "\n",
       "    .dataframe tbody tr th {\n",
       "        vertical-align: top;\n",
       "    }\n",
       "\n",
       "    .dataframe thead th {\n",
       "        text-align: right;\n",
       "    }\n",
       "</style>\n",
       "<table border=\"1\" class=\"dataframe\">\n",
       "  <thead>\n",
       "    <tr style=\"text-align: right;\">\n",
       "      <th></th>\n",
       "      <th>module</th>\n",
       "      <th>term</th>\n",
       "      <th>info</th>\n",
       "      <th>fold_change</th>\n",
       "      <th>bonferroni</th>\n",
       "    </tr>\n",
       "  </thead>\n",
       "  <tbody>\n",
       "    <tr>\n",
       "      <th>0</th>\n",
       "      <td>0.0</td>\n",
       "      <td>O</td>\n",
       "      <td>Posttranslational modification, protein turnov...</td>\n",
       "      <td>3.825466</td>\n",
       "      <td>8.344037e-13</td>\n",
       "    </tr>\n",
       "    <tr>\n",
       "      <th>1</th>\n",
       "      <td>0.0</td>\n",
       "      <td>GO:0000338</td>\n",
       "      <td>Protein deneddylation: The removal of a ubiqui...</td>\n",
       "      <td>112.213675</td>\n",
       "      <td>1.572177e-03</td>\n",
       "    </tr>\n",
       "    <tr>\n",
       "      <th>2</th>\n",
       "      <td>0.0</td>\n",
       "      <td>GO:0008180</td>\n",
       "      <td>Cop9 signalosome: A protein complex that catal...</td>\n",
       "      <td>112.213675</td>\n",
       "      <td>1.572177e-03</td>\n",
       "    </tr>\n",
       "    <tr>\n",
       "      <th>3</th>\n",
       "      <td>0.0</td>\n",
       "      <td>GO:0016333</td>\n",
       "      <td>Morphogenesis of follicular epithelium: The pr...</td>\n",
       "      <td>96.183150</td>\n",
       "      <td>2.743434e-03</td>\n",
       "    </tr>\n",
       "    <tr>\n",
       "      <th>4</th>\n",
       "      <td>0.0</td>\n",
       "      <td>GO:0019827</td>\n",
       "      <td>Stem cell population maintenance: The process ...</td>\n",
       "      <td>48.091575</td>\n",
       "      <td>2.796343e-02</td>\n",
       "    </tr>\n",
       "  </tbody>\n",
       "</table>\n",
       "</div>"
      ],
      "text/plain": [
       "   module        term                                               info  \\\n",
       "0     0.0           O  Posttranslational modification, protein turnov...   \n",
       "1     0.0  GO:0000338  Protein deneddylation: The removal of a ubiqui...   \n",
       "2     0.0  GO:0008180  Cop9 signalosome: A protein complex that catal...   \n",
       "3     0.0  GO:0016333  Morphogenesis of follicular epithelium: The pr...   \n",
       "4     0.0  GO:0019827  Stem cell population maintenance: The process ...   \n",
       "\n",
       "   fold_change    bonferroni  \n",
       "0     3.825466  8.344037e-13  \n",
       "1   112.213675  1.572177e-03  \n",
       "2   112.213675  1.572177e-03  \n",
       "3    96.183150  2.743434e-03  \n",
       "4    48.091575  2.796343e-02  "
      ]
     },
     "execution_count": 80,
     "metadata": {},
     "output_type": "execute_result"
    }
   ],
   "source": [
    "enrich_full_nn3.head()"
   ]
  },
  {
   "cell_type": "code",
   "execution_count": 81,
   "id": "801013e7-b277-4b7f-a6b7-773fc734c1b2",
   "metadata": {},
   "outputs": [
    {
     "data": {
      "text/plain": [
       "array([ 0.,  2.,  3.,  4.,  5.,  6.,  9., 10., 11., 12., 13., 14., 15.,\n",
       "       16., 19., 21., 22., 25., 27., 28., 29., 30., 31., 32., 33., 35.,\n",
       "       38., 39., 40., 41., 43., 46., 48., 50., 51., 53., 55., 57., 59.,\n",
       "       60.])"
      ]
     },
     "execution_count": 81,
     "metadata": {},
     "output_type": "execute_result"
    }
   ],
   "source": [
    "enrich_full_nn3['module'].unique()"
   ]
  },
  {
   "cell_type": "code",
   "execution_count": 82,
   "id": "1228547a-b5d6-4d2f-9534-5a5a10043c52",
   "metadata": {},
   "outputs": [
    {
     "data": {
      "text/plain": [
       "array([43, 60,  1, 21,  8, 20, 28, 57, 22,  4, 45,  3, 19, 54, 30, 37, 16,\n",
       "       41, 24, 39, 56, 42, 50, 11, 26, 34, 48, 52, 15, 13, 44, 25, 32, 18,\n",
       "       31, 23, 49, 10, 33, 47, 12,  5, 53, 46, 55, 59, 17, 58, 27,  6, 29,\n",
       "        0, 51,  2,  7, 35,  9, 38, 40, 14, 36])"
      ]
     },
     "execution_count": 82,
     "metadata": {},
     "output_type": "execute_result"
    }
   ],
   "source": [
    "lldf_nn3['leiden_label_full'].unique()"
   ]
  },
  {
   "cell_type": "code",
   "execution_count": 74,
   "id": "1a6ff685-b372-4979-969e-2ae278aa46cb",
   "metadata": {},
   "outputs": [
    {
     "data": {
      "text/html": [
       "<div>\n",
       "<style scoped>\n",
       "    .dataframe tbody tr th:only-of-type {\n",
       "        vertical-align: middle;\n",
       "    }\n",
       "\n",
       "    .dataframe tbody tr th {\n",
       "        vertical-align: top;\n",
       "    }\n",
       "\n",
       "    .dataframe thead th {\n",
       "        text-align: right;\n",
       "    }\n",
       "</style>\n",
       "<table border=\"1\" class=\"dataframe\">\n",
       "  <thead>\n",
       "    <tr style=\"text-align: right;\">\n",
       "      <th></th>\n",
       "      <th>TTHERM_ID</th>\n",
       "      <th>leiden_label_full</th>\n",
       "      <th>leiden_label_veg</th>\n",
       "      <th>leiden_label_sex</th>\n",
       "    </tr>\n",
       "  </thead>\n",
       "  <tbody>\n",
       "    <tr>\n",
       "      <th>17314</th>\n",
       "      <td>TTHERM_01386050</td>\n",
       "      <td>47</td>\n",
       "      <td>3</td>\n",
       "      <td>47</td>\n",
       "    </tr>\n",
       "  </tbody>\n",
       "</table>\n",
       "</div>"
      ],
      "text/plain": [
       "             TTHERM_ID  leiden_label_full  leiden_label_veg  leiden_label_sex\n",
       "17314  TTHERM_01386050                 47                 3                47"
      ]
     },
     "execution_count": 74,
     "metadata": {},
     "output_type": "execute_result"
    }
   ],
   "source": [
    "lldf_nn3.loc[lldf_nn3['TTHERM_ID'] == 'TTHERM_01386050']"
   ]
  },
  {
   "cell_type": "code",
   "execution_count": 135,
   "id": "4551be09-e123-42df-9183-352b5d814dbb",
   "metadata": {},
   "outputs": [],
   "source": [
    "palette64 = \"\"\"\n",
    "white\\n#FA002E\\n#22FC22\\n#221CFA\\n#FF3DD6\\n#FFDA00\\n#00FEFB\\n#F48684\\n#CEB4FE\\n#FFFFE5\\n#0D933D\\n#CC00F8\\n#800D5D\\n#F10084\\n#22267A\\n#0DADFF\\n#CBFD71\\n#9A761C\\n#F96C00\\n#6399A6\\n#FFBCDA\\n#8D0DA3\\n#F79F26\\n#00FFBF\\n#A37CFB\\n#F68EEB\\n#720D0D\\n#F163AA\\n#7E926A\\n#826386\\n#B41C32\\n#9BEBCE\\n#E2DB83\\n#56D4FA\\n#E6E2FB\\n#925D58\\n#F7C3A7\\n#62E970\\n#220DBD\\n#5583BB\\n#7EA01C\\n#CDFDB6\\n#FD00FB\\n#B30D97\\n#F5FF00\\n#DD77FD\\n#4282FC\\n#BBA6A4\\n#0D8068\\n#AB5F26\\n#F7C26E\\n#9EFE00\\n#9B2EFD\\n#C56887\\n#FD3D68\\n#ABF2FD\\n#835FAC\\n#FF16B1\\n#325371\\n#CA16CA\\n#D26322\\n#AFCFFE\\n#91A1FA\\nfloralwhite\n",
    "\"\"\".split()"
   ]
  },
  {
   "cell_type": "code",
   "execution_count": 136,
   "id": "2246eb3d-1311-409a-a36a-a77761dfa56f",
   "metadata": {},
   "outputs": [
    {
     "data": {
      "text/html": [
       "<div>\n",
       "<style scoped>\n",
       "    .dataframe tbody tr th:only-of-type {\n",
       "        vertical-align: middle;\n",
       "    }\n",
       "\n",
       "    .dataframe tbody tr th {\n",
       "        vertical-align: top;\n",
       "    }\n",
       "\n",
       "    .dataframe thead th {\n",
       "        text-align: right;\n",
       "    }\n",
       "</style>\n",
       "<table border=\"1\" class=\"dataframe\">\n",
       "  <thead>\n",
       "    <tr style=\"text-align: right;\">\n",
       "      <th></th>\n",
       "      <th>module</th>\n",
       "      <th>term</th>\n",
       "      <th>info</th>\n",
       "      <th>fold_change</th>\n",
       "      <th>bonferroni</th>\n",
       "      <th>color</th>\n",
       "    </tr>\n",
       "  </thead>\n",
       "  <tbody>\n",
       "    <tr>\n",
       "      <th>0</th>\n",
       "      <td>2.0</td>\n",
       "      <td>U</td>\n",
       "      <td>Intracellular trafficking, secretion, and vesi...</td>\n",
       "      <td>1.849810</td>\n",
       "      <td>2.851542e-02</td>\n",
       "      <td>#22FC22</td>\n",
       "    </tr>\n",
       "    <tr>\n",
       "      <th>1</th>\n",
       "      <td>3.0</td>\n",
       "      <td>J</td>\n",
       "      <td>Translation, ribosomal structure and biogenesis</td>\n",
       "      <td>28.298794</td>\n",
       "      <td>6.501740e-81</td>\n",
       "      <td>#221CFA</td>\n",
       "    </tr>\n",
       "    <tr>\n",
       "      <th>2</th>\n",
       "      <td>3.0</td>\n",
       "      <td>GO:0002181</td>\n",
       "      <td>Cytoplasmic translation: The chemical reaction...</td>\n",
       "      <td>127.522296</td>\n",
       "      <td>2.056548e-17</td>\n",
       "      <td>#221CFA</td>\n",
       "    </tr>\n",
       "    <tr>\n",
       "      <th>3</th>\n",
       "      <td>3.0</td>\n",
       "      <td>GO:0003674</td>\n",
       "      <td>Molecular_function: A molecular process that c...</td>\n",
       "      <td>3.811736</td>\n",
       "      <td>5.612665e-07</td>\n",
       "      <td>#221CFA</td>\n",
       "    </tr>\n",
       "    <tr>\n",
       "      <th>4</th>\n",
       "      <td>3.0</td>\n",
       "      <td>GO:0003676</td>\n",
       "      <td>Nucleic acid binding: Binding to a nucleic acid.</td>\n",
       "      <td>18.458027</td>\n",
       "      <td>4.172928e-15</td>\n",
       "      <td>#221CFA</td>\n",
       "    </tr>\n",
       "  </tbody>\n",
       "</table>\n",
       "</div>"
      ],
      "text/plain": [
       "   module        term                                               info  \\\n",
       "0     2.0           U  Intracellular trafficking, secretion, and vesi...   \n",
       "1     3.0           J    Translation, ribosomal structure and biogenesis   \n",
       "2     3.0  GO:0002181  Cytoplasmic translation: The chemical reaction...   \n",
       "3     3.0  GO:0003674  Molecular_function: A molecular process that c...   \n",
       "4     3.0  GO:0003676   Nucleic acid binding: Binding to a nucleic acid.   \n",
       "\n",
       "   fold_change    bonferroni    color  \n",
       "0     1.849810  2.851542e-02  #22FC22  \n",
       "1    28.298794  6.501740e-81  #221CFA  \n",
       "2   127.522296  2.056548e-17  #221CFA  \n",
       "3     3.811736  5.612665e-07  #221CFA  \n",
       "4    18.458027  4.172928e-15  #221CFA  "
      ]
     },
     "execution_count": 136,
     "metadata": {},
     "output_type": "execute_result"
    }
   ],
   "source": [
    "colors = [palette64[int(m)] for m in enrich_full_nn3['module'].values]\n",
    "enrich_full_nn3['color'] = colors\n",
    "enrich_full_nn3.head()"
   ]
  },
  {
   "cell_type": "code",
   "execution_count": 143,
   "id": "f16ec157-5ff6-47d5-80b7-22d60f556357",
   "metadata": {},
   "outputs": [],
   "source": [
    "ecds = bokeh.models.ColumnDataSource(enrich_full_nn3)"
   ]
  },
  {
   "cell_type": "code",
   "execution_count": 147,
   "id": "622b97b3-d250-4f8e-9bb8-a6066562c291",
   "metadata": {},
   "outputs": [
    {
     "data": {
      "text/plain": [
       "401"
      ]
     },
     "execution_count": 147,
     "metadata": {},
     "output_type": "execute_result"
    }
   ],
   "source": [
    "len(enrich_full_nn3)"
   ]
  },
  {
   "cell_type": "code",
   "execution_count": 149,
   "id": "458b7450-51c0-44f7-a29c-5fee3581ff34",
   "metadata": {},
   "outputs": [
    {
     "data": {
      "text/plain": [
       "401"
      ]
     },
     "execution_count": 149,
     "metadata": {},
     "output_type": "execute_result"
    }
   ],
   "source": [
    "len(ecds.data['module'])"
   ]
  },
  {
   "cell_type": "code",
   "execution_count": 150,
   "id": "ca5482ad-141a-40f9-a5ff-5525497015a3",
   "metadata": {},
   "outputs": [
    {
     "ename": "AttributeError",
     "evalue": "'numpy.ndarray' object has no attribute 'unique'",
     "output_type": "error",
     "traceback": [
      "\u001b[0;31m---------------------------------------------------------------------------\u001b[0m",
      "\u001b[0;31mAttributeError\u001b[0m                            Traceback (most recent call last)",
      "\u001b[0;32m/var/folders/87/rpx1p_3d0lxbq3236_skw3z00000gp/T/ipykernel_97918/2565671357.py\u001b[0m in \u001b[0;36m<module>\u001b[0;34m\u001b[0m\n\u001b[0;32m----> 1\u001b[0;31m \u001b[0mecds\u001b[0m\u001b[0;34m.\u001b[0m\u001b[0mdata\u001b[0m\u001b[0;34m[\u001b[0m\u001b[0;34m'module'\u001b[0m\u001b[0;34m]\u001b[0m\u001b[0;34m.\u001b[0m\u001b[0munique\u001b[0m\u001b[0;34m\u001b[0m\u001b[0;34m\u001b[0m\u001b[0m\n\u001b[0m",
      "\u001b[0;31mAttributeError\u001b[0m: 'numpy.ndarray' object has no attribute 'unique'"
     ]
    }
   ],
   "source": [
    "ecds.data['module'].unique"
   ]
  },
  {
   "cell_type": "code",
   "execution_count": 141,
   "id": "0dcba51c-f119-4247-a011-39e54341aac9",
   "metadata": {},
   "outputs": [],
   "source": [
    "def plot_enrichment(enrich_df):\n",
    "    \n",
    "    # pdb.set_trace()\n",
    "    \n",
    "    # y_range = FactorRange(factors=[str(y) for y in enrich_df['module'].unique()])\n",
    "    \n",
    "    # grouped = enrich_df.groupby('module')\n",
    "    \n",
    "    hover = [\n",
    "        ('module', '@module'),\n",
    "        ('term', '@term'),\n",
    "        ('info', '@info'),\n",
    "        ('fold-change', '@fold_change'),\n",
    "        ('bonferroni', '@bonferroni')\n",
    "    ]\n",
    "    \n",
    "    p = bokeh.plotting.figure(\n",
    "        height=1200,\n",
    "        width=400,\n",
    "        # y_range=y_range,\n",
    "        title='Functional term enrichment in modules',\n",
    "        x_axis_label='fold-change',\n",
    "        y_axis_label='module',\n",
    "        x_axis_type='log',\n",
    "        tooltips=hover,\n",
    "        # background_fill_color='black'\n",
    "    )\n",
    "    \n",
    "    cds = bokeh.models.ColumnDataSource(enrich_df)\n",
    "    print(enrich_df.head())\n",
    "    \n",
    "    p.circle(y=jitter('module', width=0.4), x='fold_change', source=cds, alpha=0.3, size=7, color='color', line_color='black')\n",
    "    # p.xaxis.major_label_orientation = 45\n",
    "    p.ygrid.minor_grid_line_color = 'navy'\n",
    "    p.ygrid.minor_grid_line_alpha = 0.1\n",
    "    # p.xgrid.band_fill_alpha = 0.1\n",
    "    # p.xgrid.band_fill_color = \"navy\"\n",
    "    p.yaxis.ticker = [m for m in enrich_df['module'].unique()]\n",
    "    p.y_range.flipped = True\n",
    "    \n",
    "    return p"
   ]
  },
  {
   "cell_type": "code",
   "execution_count": 142,
   "id": "fcd2d082-06c7-4c6d-b880-caeb3d77ea8f",
   "metadata": {},
   "outputs": [
    {
     "name": "stdout",
     "output_type": "stream",
     "text": [
      "   module        term                                               info  \\\n",
      "0     2.0           U  Intracellular trafficking, secretion, and vesi...   \n",
      "1     3.0           J    Translation, ribosomal structure and biogenesis   \n",
      "2     3.0  GO:0002181  Cytoplasmic translation: The chemical reaction...   \n",
      "3     3.0  GO:0003674  Molecular_function: A molecular process that c...   \n",
      "4     3.0  GO:0003676   Nucleic acid binding: Binding to a nucleic acid.   \n",
      "\n",
      "   fold_change    bonferroni    color  \n",
      "0     1.849810  2.851542e-02  #22FC22  \n",
      "1    28.298794  6.501740e-81  #221CFA  \n",
      "2   127.522296  2.056548e-17  #221CFA  \n",
      "3     3.811736  5.612665e-07  #221CFA  \n",
      "4    18.458027  4.172928e-15  #221CFA  \n"
     ]
    }
   ],
   "source": [
    "p = plot_enrichment(enrich_full_nn3)\n",
    "bokeh.io.show(p)"
   ]
  },
  {
   "cell_type": "code",
   "execution_count": 76,
   "id": "1187401d-56a1-44b3-9c58-050ab40a5eee",
   "metadata": {},
   "outputs": [
    {
     "data": {
      "text/plain": [
       "['m00',\n",
       " 'm01',\n",
       " 'm02',\n",
       " 'm03',\n",
       " 'm04',\n",
       " 'm05',\n",
       " 'm06',\n",
       " 'm07',\n",
       " 'm08',\n",
       " 'm09',\n",
       " 'm10',\n",
       " 'm11',\n",
       " 'm13',\n",
       " 'm14',\n",
       " 'm15',\n",
       " 'm16',\n",
       " 'm17',\n",
       " 'm18',\n",
       " 'm19',\n",
       " 'm20',\n",
       " 'm21',\n",
       " 'm22',\n",
       " 'm24',\n",
       " 'm26',\n",
       " 'm27',\n",
       " 'm28',\n",
       " 'm29',\n",
       " 'm30',\n",
       " 'm31',\n",
       " 'm32',\n",
       " 'm33',\n",
       " 'm35',\n",
       " 'm36',\n",
       " 'm38',\n",
       " 'm39',\n",
       " 'm41',\n",
       " 'm42',\n",
       " 'm45',\n",
       " 'm46',\n",
       " 'm47',\n",
       " 'm50',\n",
       " 'm54',\n",
       " 'm56',\n",
       " 'm60',\n",
       " 'm61',\n",
       " 'm63']"
      ]
     },
     "execution_count": 76,
     "metadata": {},
     "output_type": "execute_result"
    }
   ],
   "source": [
    "FactorRange(factors=[y for y in enrich_full_nn3['module'].unique()]).factors"
   ]
  },
  {
   "cell_type": "code",
   "execution_count": null,
   "id": "d3131020-f790-4fc1-9d8f-24799a8fa97e",
   "metadata": {},
   "outputs": [],
   "source": []
  },
  {
   "cell_type": "code",
   "execution_count": 63,
   "id": "ca94c576-1825-4e67-b47c-0900c3d7ad39",
   "metadata": {},
   "outputs": [
    {
     "name": "stderr",
     "output_type": "stream",
     "text": [
      "100%|███████████████████████████████████████████████████████████████████████████████████| 64/64 [05:39<00:00,  5.31s/it]\n"
     ]
    }
   ],
   "source": [
    "enrich_full = get_enrichment_df(lldf, 'full', complete_annotation, outfile='./full_enrichment_leiden_round_1.csv')"
   ]
  },
  {
   "cell_type": "code",
   "execution_count": 64,
   "id": "3ee5e193-a524-410e-9ae0-d170d5013565",
   "metadata": {},
   "outputs": [
    {
     "name": "stderr",
     "output_type": "stream",
     "text": [
      "100%|███████████████████████████████████████████████████████████████████████████████████| 59/59 [03:36<00:00,  3.67s/it]\n"
     ]
    }
   ],
   "source": [
    "enrich_sex = get_enrichment_df(lldf, 'sex', complete_annotation, outfile='./sex_enrichment_leiden_round_1.csv')"
   ]
  },
  {
   "cell_type": "code",
   "execution_count": 65,
   "id": "1ce1d28e-ebd1-4e1a-9649-c15763517199",
   "metadata": {},
   "outputs": [
    {
     "name": "stderr",
     "output_type": "stream",
     "text": [
      "100%|███████████████████████████████████████████████████████████████████████████████████| 58/58 [05:22<00:00,  5.56s/it]\n"
     ]
    }
   ],
   "source": [
    "enrich_veg = get_enrichment_df(lldf, 'veg', complete_annotation, outfile='./veg_enrichment_leiden_round_1.csv')"
   ]
  },
  {
   "cell_type": "code",
   "execution_count": 50,
   "id": "79d78a49-5db7-4621-999e-0fb589566c54",
   "metadata": {},
   "outputs": [
    {
     "data": {
      "text/plain": [
       "array([ 0.,  1.,  2.,  3.,  4.,  5.,  6.,  7.,  8.,  9., 10., 11., 13.,\n",
       "       14., 15., 16., 17., 18., 19., 20., 21., 22., 24., 26., 27., 28.,\n",
       "       29., 30., 31., 32., 33., 35., 36., 38., 39., 41., 42., 45., 46.,\n",
       "       47., 50., 54., 56., 60., 61., 63.])"
      ]
     },
     "execution_count": 50,
     "metadata": {},
     "output_type": "execute_result"
    }
   ],
   "source": [
    "enrich['module'].unique()"
   ]
  },
  {
   "cell_type": "code",
   "execution_count": null,
   "id": "ff85ee3b-63c6-44e3-b968-f69c8305b4b5",
   "metadata": {},
   "outputs": [
    {
     "name": "stderr",
     "output_type": "stream",
     "text": [
      " 23%|███████████████████▍                                                               | 15/64 [02:10<00:57,  1.18s/it]"
     ]
    }
   ],
   "source": [
    "write_enrichment(leiden_label_df_round_1, 'full', 'full_leiden_GOs', 'GOs')"
   ]
  },
  {
   "cell_type": "code",
   "execution_count": null,
   "id": "6f456bed-7fce-4631-a16b-7f4f5fde3c8c",
   "metadata": {},
   "outputs": [],
   "source": [
    "write_enrichment(consensus_lldf_full_3, 'full', 'consensus_1_full_leiden_GOs', 'GOs')"
   ]
  },
  {
   "cell_type": "code",
   "execution_count": null,
   "id": "22458084-18e3-46df-887c-237341ebcc08",
   "metadata": {},
   "outputs": [],
   "source": []
  },
  {
   "cell_type": "code",
   "execution_count": null,
   "id": "7a5cc27c-1151-473b-9812-1b86eb17e274",
   "metadata": {},
   "outputs": [],
   "source": []
  },
  {
   "cell_type": "code",
   "execution_count": null,
   "id": "8014d0aa-19a1-4108-87e0-7868e420c4d8",
   "metadata": {},
   "outputs": [],
   "source": []
  },
  {
   "cell_type": "code",
   "execution_count": 89,
   "id": "fcd11fa9-0aaf-4a40-9fb3-bd2038184c47",
   "metadata": {},
   "outputs": [],
   "source": [
    "from bokeh.io import output_file, show\n",
    "from bokeh.models import ColumnDataSource\n",
    "from bokeh.plotting import figure\n",
    "from bokeh.sampledata.commits import data\n",
    "from bokeh.transform import jitter\n",
    "\n"
   ]
  },
  {
   "cell_type": "code",
   "execution_count": 88,
   "id": "4df4731b-4ad7-4343-a5cb-fe2b7b11716d",
   "metadata": {},
   "outputs": [
    {
     "data": {
      "text/html": [
       "<div>\n",
       "<style scoped>\n",
       "    .dataframe tbody tr th:only-of-type {\n",
       "        vertical-align: middle;\n",
       "    }\n",
       "\n",
       "    .dataframe tbody tr th {\n",
       "        vertical-align: top;\n",
       "    }\n",
       "\n",
       "    .dataframe thead th {\n",
       "        text-align: right;\n",
       "    }\n",
       "</style>\n",
       "<table border=\"1\" class=\"dataframe\">\n",
       "  <thead>\n",
       "    <tr style=\"text-align: right;\">\n",
       "      <th></th>\n",
       "      <th>day</th>\n",
       "      <th>time</th>\n",
       "    </tr>\n",
       "    <tr>\n",
       "      <th>datetime</th>\n",
       "      <th></th>\n",
       "      <th></th>\n",
       "    </tr>\n",
       "  </thead>\n",
       "  <tbody>\n",
       "    <tr>\n",
       "      <th>2017-04-22 15:11:58-05:00</th>\n",
       "      <td>Sat</td>\n",
       "      <td>15:11:58</td>\n",
       "    </tr>\n",
       "    <tr>\n",
       "      <th>2017-04-21 14:20:57-05:00</th>\n",
       "      <td>Fri</td>\n",
       "      <td>14:20:57</td>\n",
       "    </tr>\n",
       "    <tr>\n",
       "      <th>2017-04-20 14:35:08-05:00</th>\n",
       "      <td>Thu</td>\n",
       "      <td>14:35:08</td>\n",
       "    </tr>\n",
       "    <tr>\n",
       "      <th>2017-04-20 10:34:29-05:00</th>\n",
       "      <td>Thu</td>\n",
       "      <td>10:34:29</td>\n",
       "    </tr>\n",
       "    <tr>\n",
       "      <th>2017-04-20 09:17:23-05:00</th>\n",
       "      <td>Thu</td>\n",
       "      <td>09:17:23</td>\n",
       "    </tr>\n",
       "    <tr>\n",
       "      <th>...</th>\n",
       "      <td>...</td>\n",
       "      <td>...</td>\n",
       "    </tr>\n",
       "    <tr>\n",
       "      <th>2013-01-24 17:08:57-06:00</th>\n",
       "      <td>Thu</td>\n",
       "      <td>17:08:57</td>\n",
       "    </tr>\n",
       "    <tr>\n",
       "      <th>2013-01-21 16:22:39-06:00</th>\n",
       "      <td>Mon</td>\n",
       "      <td>16:22:39</td>\n",
       "    </tr>\n",
       "    <tr>\n",
       "      <th>2013-01-03 16:28:49-06:00</th>\n",
       "      <td>Thu</td>\n",
       "      <td>16:28:49</td>\n",
       "    </tr>\n",
       "    <tr>\n",
       "      <th>2013-01-02 17:46:43-06:00</th>\n",
       "      <td>Wed</td>\n",
       "      <td>17:46:43</td>\n",
       "    </tr>\n",
       "    <tr>\n",
       "      <th>2012-12-29 11:57:50-06:00</th>\n",
       "      <td>Sat</td>\n",
       "      <td>11:57:50</td>\n",
       "    </tr>\n",
       "  </tbody>\n",
       "</table>\n",
       "<p>4916 rows × 2 columns</p>\n",
       "</div>"
      ],
      "text/plain": [
       "                           day      time\n",
       "datetime                                \n",
       "2017-04-22 15:11:58-05:00  Sat  15:11:58\n",
       "2017-04-21 14:20:57-05:00  Fri  14:20:57\n",
       "2017-04-20 14:35:08-05:00  Thu  14:35:08\n",
       "2017-04-20 10:34:29-05:00  Thu  10:34:29\n",
       "2017-04-20 09:17:23-05:00  Thu  09:17:23\n",
       "...                        ...       ...\n",
       "2013-01-24 17:08:57-06:00  Thu  17:08:57\n",
       "2013-01-21 16:22:39-06:00  Mon  16:22:39\n",
       "2013-01-03 16:28:49-06:00  Thu  16:28:49\n",
       "2013-01-02 17:46:43-06:00  Wed  17:46:43\n",
       "2012-12-29 11:57:50-06:00  Sat  11:57:50\n",
       "\n",
       "[4916 rows x 2 columns]"
      ]
     },
     "execution_count": 88,
     "metadata": {},
     "output_type": "execute_result"
    }
   ],
   "source": [
    "data"
   ]
  },
  {
   "cell_type": "code",
   "execution_count": null,
   "id": "23d90c4a-ffd8-422d-9ace-768d3c52d999",
   "metadata": {},
   "outputs": [],
   "source": []
  },
  {
   "cell_type": "code",
   "execution_count": 96,
   "id": "eba4fdcf-873a-406a-9fe9-d5dc3a1843e7",
   "metadata": {},
   "outputs": [
    {
     "data": {
      "text/html": [
       "<div>\n",
       "<style scoped>\n",
       "    .dataframe tbody tr th:only-of-type {\n",
       "        vertical-align: middle;\n",
       "    }\n",
       "\n",
       "    .dataframe tbody tr th {\n",
       "        vertical-align: top;\n",
       "    }\n",
       "\n",
       "    .dataframe thead th {\n",
       "        text-align: right;\n",
       "    }\n",
       "</style>\n",
       "<table border=\"1\" class=\"dataframe\">\n",
       "  <thead>\n",
       "    <tr style=\"text-align: right;\">\n",
       "      <th></th>\n",
       "      <th>day</th>\n",
       "      <th>time</th>\n",
       "    </tr>\n",
       "    <tr>\n",
       "      <th>datetime</th>\n",
       "      <th></th>\n",
       "      <th></th>\n",
       "    </tr>\n",
       "  </thead>\n",
       "  <tbody>\n",
       "    <tr>\n",
       "      <th>2017-04-22 15:11:58-05:00</th>\n",
       "      <td>m05</td>\n",
       "      <td>15:11:58</td>\n",
       "    </tr>\n",
       "    <tr>\n",
       "      <th>2017-04-21 14:20:57-05:00</th>\n",
       "      <td>m04</td>\n",
       "      <td>14:20:57</td>\n",
       "    </tr>\n",
       "    <tr>\n",
       "      <th>2017-04-20 14:35:08-05:00</th>\n",
       "      <td>m03</td>\n",
       "      <td>14:35:08</td>\n",
       "    </tr>\n",
       "    <tr>\n",
       "      <th>2017-04-20 10:34:29-05:00</th>\n",
       "      <td>m03</td>\n",
       "      <td>10:34:29</td>\n",
       "    </tr>\n",
       "    <tr>\n",
       "      <th>2017-04-20 09:17:23-05:00</th>\n",
       "      <td>m03</td>\n",
       "      <td>09:17:23</td>\n",
       "    </tr>\n",
       "    <tr>\n",
       "      <th>...</th>\n",
       "      <td>...</td>\n",
       "      <td>...</td>\n",
       "    </tr>\n",
       "    <tr>\n",
       "      <th>2013-01-24 17:08:57-06:00</th>\n",
       "      <td>m03</td>\n",
       "      <td>17:08:57</td>\n",
       "    </tr>\n",
       "    <tr>\n",
       "      <th>2013-01-21 16:22:39-06:00</th>\n",
       "      <td>m00</td>\n",
       "      <td>16:22:39</td>\n",
       "    </tr>\n",
       "    <tr>\n",
       "      <th>2013-01-03 16:28:49-06:00</th>\n",
       "      <td>m03</td>\n",
       "      <td>16:28:49</td>\n",
       "    </tr>\n",
       "    <tr>\n",
       "      <th>2013-01-02 17:46:43-06:00</th>\n",
       "      <td>m02</td>\n",
       "      <td>17:46:43</td>\n",
       "    </tr>\n",
       "    <tr>\n",
       "      <th>2012-12-29 11:57:50-06:00</th>\n",
       "      <td>m05</td>\n",
       "      <td>11:57:50</td>\n",
       "    </tr>\n",
       "  </tbody>\n",
       "</table>\n",
       "<p>4916 rows × 2 columns</p>\n",
       "</div>"
      ],
      "text/plain": [
       "                           day      time\n",
       "datetime                                \n",
       "2017-04-22 15:11:58-05:00  m05  15:11:58\n",
       "2017-04-21 14:20:57-05:00  m04  14:20:57\n",
       "2017-04-20 14:35:08-05:00  m03  14:35:08\n",
       "2017-04-20 10:34:29-05:00  m03  10:34:29\n",
       "2017-04-20 09:17:23-05:00  m03  09:17:23\n",
       "...                        ...       ...\n",
       "2013-01-24 17:08:57-06:00  m03  17:08:57\n",
       "2013-01-21 16:22:39-06:00  m00  16:22:39\n",
       "2013-01-03 16:28:49-06:00  m03  16:28:49\n",
       "2013-01-02 17:46:43-06:00  m02  17:46:43\n",
       "2012-12-29 11:57:50-06:00  m05  11:57:50\n",
       "\n",
       "[4916 rows x 2 columns]"
      ]
     },
     "execution_count": 96,
     "metadata": {},
     "output_type": "execute_result"
    }
   ],
   "source": [
    "data = data.replace({'Mon': 'm00', 'Tue': 'm01', 'Wed': 'm02', 'Thu': 'm03', 'Fri': 'm04', 'Sat': 'm05', 'Sun': 'm06'})\n",
    "data"
   ]
  },
  {
   "cell_type": "code",
   "execution_count": null,
   "id": "7c0f721d-8cf4-45d2-884f-3fdd7484638a",
   "metadata": {},
   "outputs": [],
   "source": []
  },
  {
   "cell_type": "code",
   "execution_count": 97,
   "id": "41e76076-ed3d-4f3e-9e9d-6a12c77cb772",
   "metadata": {},
   "outputs": [],
   "source": [
    "output_file(\"bars.html\")\n",
    "\n",
    "DAYS = ['m00', 'm01', 'm02', 'm03', 'm04', 'm05', 'm06']\n",
    "\n",
    "source = ColumnDataSource(data)\n",
    "\n",
    "p = figure(height=300, y_range=DAYS, x_axis_type='datetime',\n",
    "           toolbar_location=None, sizing_mode=\"stretch_width\",\n",
    "           title=\"Commits by time of day (US/Central) 2012—2016\")\n",
    "\n",
    "p.circle(x='time', y=jitter('day', width=0.6, range=p.y_range),  source=source, alpha=0.3)\n",
    "\n",
    "p.xaxis[0].formatter.days = ['%Hh']\n",
    "p.x_range.range_padding = 0\n",
    "p.ygrid.grid_line_color = None\n",
    "\n",
    "show(p)"
   ]
  },
  {
   "cell_type": "code",
   "execution_count": null,
   "id": "9c335edf-aabf-4fa9-8731-5573635b682f",
   "metadata": {},
   "outputs": [],
   "source": []
  }
 ],
 "metadata": {
  "kernelspec": {
   "display_name": "Python 3",
   "language": "python",
   "name": "python3"
  },
  "language_info": {
   "codemirror_mode": {
    "name": "ipython",
    "version": 3
   },
   "file_extension": ".py",
   "mimetype": "text/x-python",
   "name": "python",
   "nbconvert_exporter": "python",
   "pygments_lexer": "ipython3",
   "version": "3.9.4"
  }
 },
 "nbformat": 4,
 "nbformat_minor": 5
}

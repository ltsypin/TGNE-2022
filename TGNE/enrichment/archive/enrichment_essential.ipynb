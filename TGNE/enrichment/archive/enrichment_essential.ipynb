{
 "cells": [
  {
   "cell_type": "code",
   "execution_count": 29,
   "id": "44830610-d070-4882-8273-da4c5c22dd43",
   "metadata": {},
   "outputs": [],
   "source": [
    "import pandas as pd\n",
    "import bs4\n",
    "import requests\n",
    "import json\n",
    "import re\n",
    "import tqdm\n",
    "\n",
    "import scipy.stats as st\n",
    "import numpy as np\n",
    "\n",
    "import bokeh\n",
    "from bokeh.plotting import show as show_interactive\n",
    "from bokeh.plotting import output_file, output_notebook\n",
    "from bokeh.layouts import column, row\n",
    "from bokeh.models import CustomJS, TextInput, LassoSelectTool, Select, MultiSelect, ColorBar, Legend, LegendItem\n",
    "from bokeh.models.widgets import DataTable, DateFormatter, TableColumn, Button, HTMLTemplateFormatter\n",
    "from bokeh.events import SelectionGeometry\n",
    "from bokeh.transform import linear_cmap, jitter\n",
    "from bokeh.models import FactorRange\n"
   ]
  },
  {
   "cell_type": "code",
   "execution_count": 30,
   "id": "73b46029",
   "metadata": {},
   "outputs": [],
   "source": [
    "complete_annotation = pd.read_csv('../eggnog/complete_eggnog_annotation.csv')\n",
    "go_df = pd.read_csv('./go_annotations.csv')\n",
    "kegg_df = pd.read_csv('./kegg_annotations.csv')\n",
    "ec_df = pd.read_csv('./ec_annotations.csv')"
   ]
  },
  {
   "cell_type": "code",
   "execution_count": 31,
   "id": "feca82c4",
   "metadata": {},
   "outputs": [
    {
     "data": {
      "text/html": [
       "<div>\n",
       "<style scoped>\n",
       "    .dataframe tbody tr th:only-of-type {\n",
       "        vertical-align: middle;\n",
       "    }\n",
       "\n",
       "    .dataframe tbody tr th {\n",
       "        vertical-align: top;\n",
       "    }\n",
       "\n",
       "    .dataframe thead th {\n",
       "        text-align: right;\n",
       "    }\n",
       "</style>\n",
       "<table border=\"1\" class=\"dataframe\">\n",
       "  <thead>\n",
       "    <tr style=\"text-align: right;\">\n",
       "      <th></th>\n",
       "      <th>GOs</th>\n",
       "      <th>GOs_description</th>\n",
       "      <th>GOs_definition</th>\n",
       "      <th>GOs_obsolete</th>\n",
       "    </tr>\n",
       "  </thead>\n",
       "  <tbody>\n",
       "    <tr>\n",
       "      <th>0</th>\n",
       "      <td>-</td>\n",
       "      <td>-</td>\n",
       "      <td>-</td>\n",
       "      <td>-</td>\n",
       "    </tr>\n",
       "    <tr>\n",
       "      <th>1</th>\n",
       "      <td>GO:0000001</td>\n",
       "      <td>mitochondrion inheritance</td>\n",
       "      <td>The distribution of mitochondria, including th...</td>\n",
       "      <td>False</td>\n",
       "    </tr>\n",
       "    <tr>\n",
       "      <th>2</th>\n",
       "      <td>GO:0000002</td>\n",
       "      <td>mitochondrial genome maintenance</td>\n",
       "      <td>The maintenance of the structure and integrity...</td>\n",
       "      <td>False</td>\n",
       "    </tr>\n",
       "    <tr>\n",
       "      <th>3</th>\n",
       "      <td>GO:0000003</td>\n",
       "      <td>reproduction</td>\n",
       "      <td>The production of new individuals that contain...</td>\n",
       "      <td>False</td>\n",
       "    </tr>\n",
       "    <tr>\n",
       "      <th>4</th>\n",
       "      <td>GO:0000011</td>\n",
       "      <td>vacuole inheritance</td>\n",
       "      <td>The distribution of vacuoles into daughter cel...</td>\n",
       "      <td>False</td>\n",
       "    </tr>\n",
       "  </tbody>\n",
       "</table>\n",
       "</div>"
      ],
      "text/plain": [
       "          GOs                   GOs_description  \\\n",
       "0           -                                 -   \n",
       "1  GO:0000001         mitochondrion inheritance   \n",
       "2  GO:0000002  mitochondrial genome maintenance   \n",
       "3  GO:0000003                      reproduction   \n",
       "4  GO:0000011               vacuole inheritance   \n",
       "\n",
       "                                      GOs_definition GOs_obsolete  \n",
       "0                                                  -            -  \n",
       "1  The distribution of mitochondria, including th...        False  \n",
       "2  The maintenance of the structure and integrity...        False  \n",
       "3  The production of new individuals that contain...        False  \n",
       "4  The distribution of vacuoles into daughter cel...        False  "
      ]
     },
     "execution_count": 31,
     "metadata": {},
     "output_type": "execute_result"
    }
   ],
   "source": [
    "go_df.head()"
   ]
  },
  {
   "cell_type": "code",
   "execution_count": 32,
   "id": "248bf87e",
   "metadata": {},
   "outputs": [
    {
     "data": {
      "text/plain": [
       "'mitochondrion inheritance'"
      ]
     },
     "execution_count": 32,
     "metadata": {},
     "output_type": "execute_result"
    }
   ],
   "source": [
    "go_df['GOs_description'].loc[go_df['GOs'] == 'GO:0000001'].values[0]"
   ]
  },
  {
   "cell_type": "code",
   "execution_count": 33,
   "id": "6d6c760a",
   "metadata": {},
   "outputs": [
    {
     "data": {
      "text/html": [
       "<div>\n",
       "<style scoped>\n",
       "    .dataframe tbody tr th:only-of-type {\n",
       "        vertical-align: middle;\n",
       "    }\n",
       "\n",
       "    .dataframe tbody tr th {\n",
       "        vertical-align: top;\n",
       "    }\n",
       "\n",
       "    .dataframe thead th {\n",
       "        text-align: right;\n",
       "    }\n",
       "</style>\n",
       "<table border=\"1\" class=\"dataframe\">\n",
       "  <thead>\n",
       "    <tr style=\"text-align: right;\">\n",
       "      <th></th>\n",
       "      <th>KEGG_ko</th>\n",
       "      <th>KEGG_ko_description</th>\n",
       "    </tr>\n",
       "  </thead>\n",
       "  <tbody>\n",
       "    <tr>\n",
       "      <th>0</th>\n",
       "      <td>-</td>\n",
       "      <td>-</td>\n",
       "    </tr>\n",
       "    <tr>\n",
       "      <th>1</th>\n",
       "      <td>ko:K00002</td>\n",
       "      <td>alcohol dehydrogenase (NADP+)</td>\n",
       "    </tr>\n",
       "    <tr>\n",
       "      <th>2</th>\n",
       "      <td>ko:K00006</td>\n",
       "      <td>glycerol-3-phosphate dehydrogenase (NAD+)</td>\n",
       "    </tr>\n",
       "    <tr>\n",
       "      <th>3</th>\n",
       "      <td>ko:K00011</td>\n",
       "      <td>aldehyde reductase</td>\n",
       "    </tr>\n",
       "    <tr>\n",
       "      <th>4</th>\n",
       "      <td>ko:K00012</td>\n",
       "      <td>UDPglucose 6-dehydrogenase</td>\n",
       "    </tr>\n",
       "  </tbody>\n",
       "</table>\n",
       "</div>"
      ],
      "text/plain": [
       "     KEGG_ko                        KEGG_ko_description\n",
       "0          -                                          -\n",
       "1  ko:K00002              alcohol dehydrogenase (NADP+)\n",
       "2  ko:K00006  glycerol-3-phosphate dehydrogenase (NAD+)\n",
       "3  ko:K00011                         aldehyde reductase\n",
       "4  ko:K00012                 UDPglucose 6-dehydrogenase"
      ]
     },
     "execution_count": 33,
     "metadata": {},
     "output_type": "execute_result"
    }
   ],
   "source": [
    "kegg_df.head()"
   ]
  },
  {
   "cell_type": "code",
   "execution_count": 34,
   "id": "87e69551",
   "metadata": {},
   "outputs": [
    {
     "data": {
      "text/html": [
       "<div>\n",
       "<style scoped>\n",
       "    .dataframe tbody tr th:only-of-type {\n",
       "        vertical-align: middle;\n",
       "    }\n",
       "\n",
       "    .dataframe tbody tr th {\n",
       "        vertical-align: top;\n",
       "    }\n",
       "\n",
       "    .dataframe thead th {\n",
       "        text-align: right;\n",
       "    }\n",
       "</style>\n",
       "<table border=\"1\" class=\"dataframe\">\n",
       "  <thead>\n",
       "    <tr style=\"text-align: right;\">\n",
       "      <th></th>\n",
       "      <th>EC</th>\n",
       "      <th>EC_description</th>\n",
       "    </tr>\n",
       "  </thead>\n",
       "  <tbody>\n",
       "    <tr>\n",
       "      <th>0</th>\n",
       "      <td>-</td>\n",
       "      <td>-</td>\n",
       "    </tr>\n",
       "    <tr>\n",
       "      <th>1</th>\n",
       "      <td>1.1.1.1</td>\n",
       "      <td>alcohol dehydrogenase</td>\n",
       "    </tr>\n",
       "    <tr>\n",
       "      <th>2</th>\n",
       "      <td>1.1.1.105</td>\n",
       "      <td>all-trans-retinol dehydrogenase (NAD(+))</td>\n",
       "    </tr>\n",
       "    <tr>\n",
       "      <th>3</th>\n",
       "      <td>1.1.1.141</td>\n",
       "      <td>15-hydroxyprostaglandin dehydrogenase (NAD(+))</td>\n",
       "    </tr>\n",
       "    <tr>\n",
       "      <th>4</th>\n",
       "      <td>1.1.1.178</td>\n",
       "      <td>3-hydroxy-2-methylbutyryl-CoA dehydrogenase</td>\n",
       "    </tr>\n",
       "  </tbody>\n",
       "</table>\n",
       "</div>"
      ],
      "text/plain": [
       "          EC                                  EC_description\n",
       "0          -                                               -\n",
       "1    1.1.1.1                           alcohol dehydrogenase\n",
       "2  1.1.1.105        all-trans-retinol dehydrogenase (NAD(+))\n",
       "3  1.1.1.141  15-hydroxyprostaglandin dehydrogenase (NAD(+))\n",
       "4  1.1.1.178     3-hydroxy-2-methylbutyryl-CoA dehydrogenase"
      ]
     },
     "execution_count": 34,
     "metadata": {},
     "output_type": "execute_result"
    }
   ],
   "source": [
    "ec_df.head()"
   ]
  },
  {
   "cell_type": "code",
   "execution_count": 35,
   "id": "108df2b3-df6f-4028-a879-e9034f79309a",
   "metadata": {},
   "outputs": [],
   "source": [
    "# As of 2020 https://www.ncbi.nlm.nih.gov/research/cog/\n",
    "COG_dict = {\n",
    "    \"A\" : \"RNA processing and modification\",\n",
    "    \"B\" : \"Chromatin structure and dynamics\",\n",
    "    \"C\" : \"Energy production and conversion\",\n",
    "    \"D\" : \"Cell cycle control, cell division, chromosome partitioning\",\n",
    "    \"E\" : \"Amino acid transport and metabolism\",\n",
    "    \"F\" : \"Nucleotide transport and metabolism\",\n",
    "    \"G\" : \"Carbohydrate transport and metabolism\",\n",
    "    \"H\" : \"Coenzyme transport and metabolism\",\n",
    "    \"I\" : \"Lipid transport and metabolism\",\n",
    "    \"J\" : \"Translation, ribosomal structure and biogenesis\",\n",
    "    \"K\" : \"Transcription\",\n",
    "    \"L\" : \"Replication, recombination, and repair\",\n",
    "    \"M\" : \"Cell wall/membrane/envelope biogenesis\",\n",
    "    \"N\" : \"Cell motility\",\n",
    "    \"O\" : \"Posttranslational modification, protein turnover, chaperones\",\n",
    "    \"P\" : \"Inorganic ion transport and metabolism\",\n",
    "    \"Q\" : \"Secondary metabolites biosynthesis, transport and catabolism\",\n",
    "    \"T\" : \"Signal transduction mechanisms\",\n",
    "    \"U\" : \"Intracellular trafficking, secretion, and vesicular transport\",\n",
    "    \"V\" : \"Defense mechanisms\",\n",
    "    \"W\" : \"Extracellular structures\",\n",
    "    \"X\" : \"Mobilome: prophages, transposons\",\n",
    "    \"Y\" : \"Nuclear structure\",\n",
    "    \"Z\" : \"Cytoskeleton\",\n",
    "    \"R\" : \"General function prediction only\",\n",
    "    \"S\" : \"Function unknown\",\n",
    "}"
   ]
  },
  {
   "cell_type": "code",
   "execution_count": 36,
   "id": "b0251f64-8d43-4f21-9a88-772f44b71f01",
   "metadata": {},
   "outputs": [],
   "source": [
    "def term_count_dict_from_annotation_df(annot_df, term_column):\n",
    "    \n",
    "    column = annot_df[term_column].values\n",
    "    \n",
    "    funct_terms = []\n",
    "    for entry in column:\n",
    "        if entry != '-':\n",
    "            if term_column == 'COG_category':\n",
    "                # terms = [f'{e}: {COG_dict[e]}' for e in entry]\n",
    "                terms = list(entry)\n",
    "            else:\n",
    "                terms = entry.split(',')\n",
    "            for t in terms:\n",
    "                funct_terms.append(t)\n",
    "\n",
    "#     len(terms)\n",
    "    \n",
    "    term_count_dict = {}\n",
    "    \n",
    "    for t in funct_terms:\n",
    "        count = term_count_dict.get(t, 0)\n",
    "        count += 1\n",
    "        term_count_dict[t] = count\n",
    "        \n",
    "    return term_count_dict"
   ]
  },
  {
   "cell_type": "code",
   "execution_count": 37,
   "id": "0fddca3d-22c7-42cf-b4d1-f663bfa84cf5",
   "metadata": {},
   "outputs": [],
   "source": [
    "def enrichment_analysis(module, leiden_label_df, phases, background_annotation, term_column):\n",
    "    \n",
    "    module_ttids = leiden_label_df.loc[leiden_label_df[f'leiden_label_{phases}'] == module]['TTHERM_ID'].values\n",
    "    \n",
    "    module_annotation = background_annotation.loc[background_annotation['TTHERM_ID'].isin(module_ttids)]\n",
    "    \n",
    "    background_term_dict = term_count_dict_from_annotation_df(background_annotation, term_column)\n",
    "    module_term_dict = term_count_dict_from_annotation_df(module_annotation, term_column)\n",
    "    \n",
    "    bs = []\n",
    "    ps = []\n",
    "    folds = []\n",
    "    terms = []\n",
    "    \n",
    "    for t, module_count in module_term_dict.items():\n",
    "        \n",
    "        background_count = background_term_dict[t]\n",
    "        module_size = len(module_annotation)\n",
    "        background_size = len(background_annotation)\n",
    "        \n",
    "        standard_contingency_table = [\n",
    "                                [module_count, background_count - module_count], \n",
    "                                [module_size - module_count, background_size - module_size - (background_count - module_count)]\n",
    "                            ]\n",
    "        \n",
    "        # The -1 and +1 make this more conservative (see explanation from the DAVID database: \n",
    "        # https://david.ncifcrf.gov/helps/functional_annotation.html#geneenrich)\n",
    "        conservative_contingency_table = [\n",
    "                                [module_count - 1, background_count - module_count + 1], \n",
    "                                [module_size - module_count, background_size - module_size - (background_count - module_count)]\n",
    "                            ]\n",
    "        \n",
    "        \n",
    "        odds, p_standard = st.fisher_exact(standard_contingency_table, 'greater')\n",
    "        odds, p_conservative = st.fisher_exact(conservative_contingency_table, 'greater')\n",
    "        \n",
    "        p_reasonable = np.mean([p_standard, p_conservative])\n",
    "        \n",
    "        bonferroni  = p_reasonable * len(module_term_dict)\n",
    "\n",
    "        fold_enrichment = (module_count/module_size) / (background_count/background_size)\n",
    "\n",
    "        if bonferroni <= 0.05:\n",
    "            \n",
    "            ps.append(p_reasonable)\n",
    "            bs.append(bonferroni)\n",
    "            folds.append(fold_enrichment)\n",
    "            terms.append(t)\n",
    "            \n",
    "#         else:\n",
    "#             ps.append('')\n",
    "#             bs.append('')\n",
    "#             folds.append('')\n",
    "#             terms.append('')\n",
    "            \n",
    "    return ps, bs, folds, terms\n",
    "            \n",
    "            "
   ]
  },
  {
   "cell_type": "code",
   "execution_count": 38,
   "id": "af7d692a-245e-4a7b-bd02-0b4bdd1ae288",
   "metadata": {},
   "outputs": [],
   "source": [
    "def get_GO_info(go_term):\n",
    "    \n",
    "    name = go_df['GOs_description'].loc[go_df['GOs'] == go_term].values[0]\n",
    "    \n",
    "    definition = go_df['GOs_definition'].loc[go_df['GOs'] == go_term].values[0]\n",
    "    \n",
    "    obsolete = go_df['GOs_obsolete'].loc[go_df['GOs'] == go_term].values[0]\n",
    "    \n",
    "    return name, definition, obsolete"
   ]
  },
  {
   "cell_type": "code",
   "execution_count": 39,
   "id": "51cf1490",
   "metadata": {},
   "outputs": [
    {
     "data": {
      "text/plain": [
       "('mitochondrion inheritance',\n",
       " 'The distribution of mitochondria, including the mitochondrial genome, into daughter cells after mitosis or meiosis, mediated by interactions between mitochondria and the cytoskeleton.',\n",
       " 'False')"
      ]
     },
     "execution_count": 39,
     "metadata": {},
     "output_type": "execute_result"
    }
   ],
   "source": [
    "get_GO_info('GO:0000001')"
   ]
  },
  {
   "cell_type": "code",
   "execution_count": 40,
   "id": "c5465d23-1a8a-4e96-b3fb-069dbb51d191",
   "metadata": {},
   "outputs": [],
   "source": [
    "def get_KEGG_info(term):\n",
    "    return kegg_df['KEGG_ko_description'].loc[kegg_df['KEGG_ko'] == term].values[0]"
   ]
  },
  {
   "cell_type": "code",
   "execution_count": 41,
   "id": "76c69a2d",
   "metadata": {},
   "outputs": [
    {
     "data": {
      "text/plain": [
       "'alcohol dehydrogenase (NADP+)'"
      ]
     },
     "execution_count": 41,
     "metadata": {},
     "output_type": "execute_result"
    }
   ],
   "source": [
    "get_KEGG_info('ko:K00002')"
   ]
  },
  {
   "cell_type": "code",
   "execution_count": 42,
   "id": "b01593d0-9a7f-4c4d-a953-99a093cef99f",
   "metadata": {},
   "outputs": [],
   "source": [
    "def get_EC_info(term):\n",
    "    return ec_df['EC_description'].loc[ec_df['EC'] == term].values[0]"
   ]
  },
  {
   "cell_type": "code",
   "execution_count": 43,
   "id": "1b66f3b6",
   "metadata": {},
   "outputs": [
    {
     "data": {
      "text/plain": [
       "'15-hydroxyprostaglandin dehydrogenase (NAD(+))'"
      ]
     },
     "execution_count": 43,
     "metadata": {},
     "output_type": "execute_result"
    }
   ],
   "source": [
    "get_EC_info('1.1.1.141')"
   ]
  },
  {
   "cell_type": "code",
   "execution_count": 44,
   "id": "14cb6323-a773-46b7-85e3-f9d5bd609e61",
   "metadata": {},
   "outputs": [],
   "source": [
    "def write_enrichment(lldf, phases, out_prefix, term_column):\n",
    "    \n",
    "    with open(f'../enrichment/{out_prefix}_enrichment.txt', 'w') as fl:\n",
    "    \n",
    "        for m in tqdm.tqdm(sorted(lldf[f'leiden_label_{phases}'].unique())):\n",
    "\n",
    "            # print(f'Module {m}')\n",
    "            ps, bs, folds, terms = enrichment_analysis(m, lldf, phases, complete_annotation, term_column)\n",
    "\n",
    "            fl.write(f'Module {m}\\n')\n",
    "            for b, fold, t in zip(bs, folds, terms):\n",
    "                \n",
    "                if term_column == 'COG_category':\n",
    "                    \n",
    "                    definition = COG_dict[t]\n",
    "                    t = f'{t}: {definition}'\n",
    "                \n",
    "                elif term_column == 'GOs':\n",
    "                    name, definition, obsolete = get_GO_info(t)\n",
    "                    if obsolete:\n",
    "                        t = f'{name.capitalize()} ({t}): {definition} (obsolete)'\n",
    "                    else:\n",
    "                        t = f'{name.capitalize()} ({t}): {definition}'\n",
    "                        \n",
    "                elif term_column.split('_')[0] == 'KEGG':\n",
    "                    name = get_KEGG_info(t)\n",
    "                    \n",
    "                    t = f'{t}: {name}'\n",
    "                    \n",
    "                elif term_column == 'EC':\n",
    "                    \n",
    "                    name = get_EC_info(t)\n",
    "                    t = f'{t}: {name}'\n",
    "                    \n",
    "                        \n",
    "                # print(f\"{t}\\nFold-enrichment: {fold:.02f}\\nBonferroni-corrected p-value: {b:.02e}\\n\\n\")\n",
    "\n",
    "                fl.write(f'{t}\\nFold-enrichment: {fold:.02f}\\nBonferroni-corrected p-value: {b:.02e}\\n\\n')"
   ]
  },
  {
   "cell_type": "code",
   "execution_count": 45,
   "id": "9757a47a-9d09-470b-896d-da0a4539a480",
   "metadata": {},
   "outputs": [],
   "source": [
    "\n",
    "\n",
    "# response = requests.get('https://rest.kegg.jp/get/ko:K19607')"
   ]
  },
  {
   "cell_type": "code",
   "execution_count": 46,
   "id": "b2f109ba-f221-4c39-9b32-5a2b191b36f8",
   "metadata": {},
   "outputs": [],
   "source": [
    "# test = response.text.split('\\n')"
   ]
  },
  {
   "cell_type": "code",
   "execution_count": 47,
   "id": "f27584d0-6add-477f-9771-23fd95ef7dce",
   "metadata": {},
   "outputs": [],
   "source": [
    "# name = re.search(r'NAME\\s*[\\w \\-]*', response.text).group()"
   ]
  },
  {
   "cell_type": "code",
   "execution_count": 48,
   "id": "47331f03-efe9-4bf2-949d-7e73a7f4cf69",
   "metadata": {},
   "outputs": [],
   "source": [
    "# re.split(r'\\s\\s+', name)"
   ]
  },
  {
   "cell_type": "code",
   "execution_count": 49,
   "id": "a319692a-b3fe-4099-b614-9b8f0cffdb61",
   "metadata": {},
   "outputs": [],
   "source": [
    "# name"
   ]
  },
  {
   "cell_type": "code",
   "execution_count": 50,
   "id": "859264ae-caf4-42cd-a88e-3d87b4cf9505",
   "metadata": {},
   "outputs": [],
   "source": [
    "# test[:10]"
   ]
  },
  {
   "cell_type": "code",
   "execution_count": 51,
   "id": "cb41586c-adbe-43f8-9b31-e9ec665e26cd",
   "metadata": {},
   "outputs": [],
   "source": [
    "# r = requests.get(\"https://www.ebi.ac.uk/enzymeportal/rest/enzymes/2.7.11.1\")\n",
    "# r.json()['enzymeName']"
   ]
  },
  {
   "cell_type": "code",
   "execution_count": 52,
   "id": "dd5d7697-d044-45e7-a4d4-5945fa23775b",
   "metadata": {},
   "outputs": [],
   "source": [
    "def get_enrichment_df(lldf, phases, background_annotation, term_columns=['COG_category', 'GOs', 'KEGG_ko', 'EC'], outfile=None):\n",
    "    \n",
    "    module_dfs = []\n",
    "    \n",
    "    for m in tqdm.tqdm(sorted(lldf[f'leiden_label_{phases}'].unique())):\n",
    "        \n",
    "        term_dfs = []\n",
    "\n",
    "        for tc in term_columns:\n",
    "        \n",
    "            ps, bs, folds, terms = enrichment_analysis(m, lldf, phases, background_annotation, tc)\n",
    "\n",
    "            # fl.write(f'Module {m}\\n')\n",
    "            \n",
    "            info = []\n",
    "\n",
    "            if tc == 'GOs':\n",
    "\n",
    "                for t in terms:\n",
    "                    name, definition, obsolete = get_GO_info(t)\n",
    "                    if obsolete:\n",
    "                        info.append(f'{name.capitalize()}: {definition} (obsolete)')\n",
    "                    else:\n",
    "                        info.append(f'{name.capitalize()}: {definition}')\n",
    "                        \n",
    "            elif tc == 'COG_category':\n",
    "                for t in terms:\n",
    "                    info.append(COG_dict[t])\n",
    "                                \n",
    "            elif tc == 'KEGG_ko':\n",
    "                for t in terms:\n",
    "                    info.append(get_KEGG_info(t))\n",
    "                    \n",
    "            elif tc == 'EC':\n",
    "                for t in terms:\n",
    "                    info.append(get_EC_info(t))\n",
    "                    \n",
    "            term_df = pd.DataFrame({'module': [m]*len(terms),\n",
    "                                    'term': terms,\n",
    "                                    'info': info,\n",
    "                                    'fold_change': folds,\n",
    "                                    'bonferroni': bs})\n",
    "            \n",
    "            term_dfs.append(term_df)\n",
    "            \n",
    "        module_df = pd.concat(term_dfs)\n",
    "        \n",
    "        module_dfs.append(module_df)\n",
    "        \n",
    "    all_enrichment_df = pd.concat(module_dfs)\n",
    "    \n",
    "    if outfile:\n",
    "        all_enrichment_df.to_csv(outfile, index=False)\n",
    "    \n",
    "    return all_enrichment_df\n",
    "        \n",
    "        \n",
    "                        \n",
    "            \n",
    "                    \n",
    "            \n",
    "        \n",
    "#         for b, fold, t in zip(bs, folds, terms):\n",
    "\n",
    "#             if term_column == 'GOs':\n",
    "#                 name, definition, obsolete = get_GO_info(t)\n",
    "#                 if obsolete:\n",
    "#                     t = f'{name.capitalize()} ({t}): {definition} (obsolete)'\n",
    "#                 else:\n",
    "#                     t = f'{name.capitalize()} ({t}): {definition}'\n",
    "\n",
    "#             if term_column.split('_')[0] == 'KEGG':\n",
    "#                 dfs = pd.read_html(f'https://www.genome.jp/entry/{t}')\n",
    "\n",
    "#                 data = dfs[4]\n",
    "#                 entry = data.loc[data[0] == 'Entry'][1].values[0]\n",
    "#                 name = data.loc[data[0] == 'Name'][1].values[0]\n",
    "\n",
    "#                 t = f'{t}: {name}'"
   ]
  },
  {
   "cell_type": "code",
   "execution_count": 53,
   "id": "7f839c0b-7ed1-4a84-b058-dafccbfdad88",
   "metadata": {},
   "outputs": [],
   "source": [
    "lldf_nn3 = pd.read_csv('../embedding/test_nn3_leiden_label_df_round_1_rearranged.csv')"
   ]
  },
  {
   "cell_type": "code",
   "execution_count": 54,
   "id": "0a18a134-a62a-4166-9764-a05d90f45361",
   "metadata": {},
   "outputs": [
    {
     "data": {
      "text/plain": [
       "array([11, 32,  1, 30, 44, 18, 22, 31,  3, 34, 42, 29,  7,  0,  2, 23, 15,\n",
       "       10, 21,  9,  4, 27, 19,  6, 20, 14, 26, 25, 50,  8, 28, 35, 13, 38,\n",
       "       36, 33, 12, 39,  5, 40, 17, 16, 41, 53, 43, 45, 48, 37, 24, 46, 47,\n",
       "       52, 49, 51])"
      ]
     },
     "execution_count": 54,
     "metadata": {},
     "output_type": "execute_result"
    }
   ],
   "source": [
    "lldf_nn3['leiden_label_full'].unique()"
   ]
  },
  {
   "cell_type": "code",
   "execution_count": 55,
   "id": "93dc3cc2-1fc1-4018-80cb-21f998c0ed74",
   "metadata": {},
   "outputs": [],
   "source": [
    "# %pdb"
   ]
  },
  {
   "cell_type": "code",
   "execution_count": 56,
   "id": "fb55c9e2-7d38-44d2-a944-51bf9519ab39",
   "metadata": {},
   "outputs": [
    {
     "name": "stderr",
     "output_type": "stream",
     "text": [
      "  0%|          | 0/54 [00:00<?, ?it/s]"
     ]
    },
    {
     "name": "stderr",
     "output_type": "stream",
     "text": [
      "100%|██████████| 54/54 [00:25<00:00,  2.14it/s]\n"
     ]
    }
   ],
   "source": [
    "enrich_full_nn3 = get_enrichment_df(lldf_nn3, 'full', complete_annotation, outfile='./test_nn3_full_enrichment.csv')"
   ]
  },
  {
   "cell_type": "code",
   "execution_count": 57,
   "id": "2c4fefa0-73c9-422e-8090-61fa18d1faf3",
   "metadata": {},
   "outputs": [],
   "source": [
    "enrich_full_nn3 = pd.read_csv('./test_nn3_full_enrichment.csv')"
   ]
  },
  {
   "cell_type": "code",
   "execution_count": 58,
   "id": "6b2f9dee-8c14-40eb-a3b8-bc3865d6f367",
   "metadata": {
    "tags": []
   },
   "outputs": [
    {
     "data": {
      "text/html": [
       "<div>\n",
       "<style scoped>\n",
       "    .dataframe tbody tr th:only-of-type {\n",
       "        vertical-align: middle;\n",
       "    }\n",
       "\n",
       "    .dataframe tbody tr th {\n",
       "        vertical-align: top;\n",
       "    }\n",
       "\n",
       "    .dataframe thead th {\n",
       "        text-align: right;\n",
       "    }\n",
       "</style>\n",
       "<table border=\"1\" class=\"dataframe\">\n",
       "  <thead>\n",
       "    <tr style=\"text-align: right;\">\n",
       "      <th></th>\n",
       "      <th>module</th>\n",
       "      <th>term</th>\n",
       "      <th>info</th>\n",
       "      <th>fold_change</th>\n",
       "      <th>bonferroni</th>\n",
       "    </tr>\n",
       "  </thead>\n",
       "  <tbody>\n",
       "    <tr>\n",
       "      <th>0</th>\n",
       "      <td>0.0</td>\n",
       "      <td>Q</td>\n",
       "      <td>Secondary metabolites biosynthesis, transport ...</td>\n",
       "      <td>2.544908</td>\n",
       "      <td>0.000019</td>\n",
       "    </tr>\n",
       "    <tr>\n",
       "      <th>1</th>\n",
       "      <td>0.0</td>\n",
       "      <td>T</td>\n",
       "      <td>Signal transduction mechanisms</td>\n",
       "      <td>1.488057</td>\n",
       "      <td>0.000606</td>\n",
       "    </tr>\n",
       "    <tr>\n",
       "      <th>2</th>\n",
       "      <td>0.0</td>\n",
       "      <td>I</td>\n",
       "      <td>Lipid transport and metabolism</td>\n",
       "      <td>1.872586</td>\n",
       "      <td>0.038869</td>\n",
       "    </tr>\n",
       "    <tr>\n",
       "      <th>3</th>\n",
       "      <td>0.0</td>\n",
       "      <td>ko:K21867</td>\n",
       "      <td>potassium channel</td>\n",
       "      <td>3.182788</td>\n",
       "      <td>0.045850</td>\n",
       "    </tr>\n",
       "    <tr>\n",
       "      <th>4</th>\n",
       "      <td>1.0</td>\n",
       "      <td>ko:K10418</td>\n",
       "      <td>dynein light chain LC8-type</td>\n",
       "      <td>23.958029</td>\n",
       "      <td>0.002061</td>\n",
       "    </tr>\n",
       "  </tbody>\n",
       "</table>\n",
       "</div>"
      ],
      "text/plain": [
       "   module       term                                               info  \\\n",
       "0     0.0          Q  Secondary metabolites biosynthesis, transport ...   \n",
       "1     0.0          T                     Signal transduction mechanisms   \n",
       "2     0.0          I                     Lipid transport and metabolism   \n",
       "3     0.0  ko:K21867                                  potassium channel   \n",
       "4     1.0  ko:K10418                        dynein light chain LC8-type   \n",
       "\n",
       "   fold_change  bonferroni  \n",
       "0     2.544908    0.000019  \n",
       "1     1.488057    0.000606  \n",
       "2     1.872586    0.038869  \n",
       "3     3.182788    0.045850  \n",
       "4    23.958029    0.002061  "
      ]
     },
     "execution_count": 58,
     "metadata": {},
     "output_type": "execute_result"
    }
   ],
   "source": [
    "enrich_full_nn3.head()"
   ]
  },
  {
   "cell_type": "code",
   "execution_count": 59,
   "id": "801013e7-b277-4b7f-a6b7-773fc734c1b2",
   "metadata": {},
   "outputs": [
    {
     "data": {
      "text/plain": [
       "array([ 0.,  1.,  3.,  4.,  9., 11., 12., 13., 14., 16., 17., 18., 20.,\n",
       "       24., 28., 29., 31., 32., 34., 35., 36., 37., 38., 41., 45., 46.,\n",
       "       47.])"
      ]
     },
     "execution_count": 59,
     "metadata": {},
     "output_type": "execute_result"
    }
   ],
   "source": [
    "enrich_full_nn3['module'].unique()"
   ]
  },
  {
   "cell_type": "code",
   "execution_count": 60,
   "id": "1228547a-b5d6-4d2f-9534-5a5a10043c52",
   "metadata": {},
   "outputs": [
    {
     "data": {
      "text/plain": [
       "array([11, 32,  1, 30, 44, 18, 22, 31,  3, 34, 42, 29,  7,  0,  2, 23, 15,\n",
       "       10, 21,  9,  4, 27, 19,  6, 20, 14, 26, 25, 50,  8, 28, 35, 13, 38,\n",
       "       36, 33, 12, 39,  5, 40, 17, 16, 41, 53, 43, 45, 48, 37, 24, 46, 47,\n",
       "       52, 49, 51])"
      ]
     },
     "execution_count": 60,
     "metadata": {},
     "output_type": "execute_result"
    }
   ],
   "source": [
    "lldf_nn3['leiden_label_full'].unique()"
   ]
  },
  {
   "cell_type": "code",
   "execution_count": 61,
   "id": "1a6ff685-b372-4979-969e-2ae278aa46cb",
   "metadata": {},
   "outputs": [
    {
     "data": {
      "text/html": [
       "<div>\n",
       "<style scoped>\n",
       "    .dataframe tbody tr th:only-of-type {\n",
       "        vertical-align: middle;\n",
       "    }\n",
       "\n",
       "    .dataframe tbody tr th {\n",
       "        vertical-align: top;\n",
       "    }\n",
       "\n",
       "    .dataframe thead th {\n",
       "        text-align: right;\n",
       "    }\n",
       "</style>\n",
       "<table border=\"1\" class=\"dataframe\">\n",
       "  <thead>\n",
       "    <tr style=\"text-align: right;\">\n",
       "      <th></th>\n",
       "      <th>Unnamed: 0</th>\n",
       "      <th>TTHERM_ID</th>\n",
       "      <th>leiden_label_full</th>\n",
       "    </tr>\n",
       "  </thead>\n",
       "  <tbody>\n",
       "    <tr>\n",
       "      <th>24619</th>\n",
       "      <td>24619</td>\n",
       "      <td>TTHERM_01386050</td>\n",
       "      <td>29</td>\n",
       "    </tr>\n",
       "  </tbody>\n",
       "</table>\n",
       "</div>"
      ],
      "text/plain": [
       "       Unnamed: 0        TTHERM_ID  leiden_label_full\n",
       "24619       24619  TTHERM_01386050                 29"
      ]
     },
     "execution_count": 61,
     "metadata": {},
     "output_type": "execute_result"
    }
   ],
   "source": [
    "lldf_nn3.loc[lldf_nn3['TTHERM_ID'] == 'TTHERM_01386050']"
   ]
  },
  {
   "cell_type": "markdown",
   "id": "d35056e7-38f7-4cf6-a5df-f387d19e8d3a",
   "metadata": {},
   "source": [
    "end here. Return to embedding notebook!"
   ]
  }
 ],
 "metadata": {
  "kernelspec": {
   "display_name": "Python 3 (ipykernel)",
   "language": "python",
   "name": "python3"
  },
  "language_info": {
   "codemirror_mode": {
    "name": "ipython",
    "version": 3
   },
   "file_extension": ".py",
   "mimetype": "text/x-python",
   "name": "python",
   "nbconvert_exporter": "python",
   "pygments_lexer": "ipython3",
   "version": "3.9.9"
  }
 },
 "nbformat": 4,
 "nbformat_minor": 5
}

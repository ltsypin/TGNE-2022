{
 "cells": [
  {
   "cell_type": "code",
   "execution_count": 1,
   "id": "44830610-d070-4882-8273-da4c5c22dd43",
   "metadata": {},
   "outputs": [],
   "source": [
    "import pandas as pd\n",
    "import bs4\n",
    "import requests\n",
    "import json\n",
    "import re\n",
    "import tqdm\n",
    "\n",
    "import scipy.stats as st\n",
    "import numpy as np\n",
    "\n",
    "import bokeh\n",
    "from bokeh.plotting import show as show_interactive\n",
    "from bokeh.plotting import output_file, output_notebook\n",
    "from bokeh.layouts import column, row\n",
    "from bokeh.models import CustomJS, TextInput, LassoSelectTool, Select, MultiSelect, ColorBar, Legend, LegendItem\n",
    "from bokeh.models.widgets import DataTable, DateFormatter, TableColumn, Button, HTMLTemplateFormatter\n",
    "from bokeh.events import SelectionGeometry\n",
    "from bokeh.transform import linear_cmap, jitter\n",
    "from bokeh.models import FactorRange\n"
   ]
  },
  {
   "cell_type": "code",
   "execution_count": 2,
   "id": "108df2b3-df6f-4028-a879-e9034f79309a",
   "metadata": {},
   "outputs": [],
   "source": [
    "# As of 2020 https://www.ncbi.nlm.nih.gov/research/cog/\n",
    "COG_dict = {\n",
    "    \"A\" : \"RNA processing and modification\",\n",
    "    \"B\" : \"Chromatin structure and dynamics\",\n",
    "    \"C\" : \"Energy production and conversion\",\n",
    "    \"D\" : \"Cell cycle control, cell division, chromosome partitioning\",\n",
    "    \"E\" : \"Amino acid transport and metabolism\",\n",
    "    \"F\" : \"Nucleotide transport and metabolism\",\n",
    "    \"G\" : \"Carbohydrate transport and metabolism\",\n",
    "    \"H\" : \"Coenzyme transport and metabolism\",\n",
    "    \"I\" : \"Lipid transport and metabolism\",\n",
    "    \"J\" : \"Translation, ribosomal structure and biogenesis\",\n",
    "    \"K\" : \"Transcription\",\n",
    "    \"L\" : \"Replication, recombination, and repair\",\n",
    "    \"M\" : \"Cell wall/membrane/envelope biogenesis\",\n",
    "    \"N\" : \"Cell motility\",\n",
    "    \"O\" : \"Posttranslational modification, protein turnover, chaperones\",\n",
    "    \"P\" : \"Inorganic ion transport and metabolism\",\n",
    "    \"Q\" : \"Secondary metabolites biosynthesis, transport and catabolism\",\n",
    "    \"T\" : \"Signal transduction mechanisms\",\n",
    "    \"U\" : \"Intracellular trafficking, secretion, and vesicular transport\",\n",
    "    \"V\" : \"Defense mechanisms\",\n",
    "    \"W\" : \"Extracellular structures\",\n",
    "    \"X\" : \"Mobilome: prophages, transposons\",\n",
    "    \"Y\" : \"Nuclear structure\",\n",
    "    \"Z\" : \"Cytoskeleton\",\n",
    "    \"R\" : \"General function prediction only\",\n",
    "    \"S\" : \"Function unknown\",\n",
    "}"
   ]
  },
  {
   "cell_type": "code",
   "execution_count": 3,
   "id": "b0251f64-8d43-4f21-9a88-772f44b71f01",
   "metadata": {},
   "outputs": [],
   "source": [
    "def term_count_dict_from_annotation_df(annot_df, term_column):\n",
    "    \n",
    "    column = annot_df[term_column].values\n",
    "    \n",
    "    funct_terms = []\n",
    "    for entry in column:\n",
    "        if entry != '-':\n",
    "            if term_column == 'COG_category':\n",
    "                # terms = [f'{e}: {COG_dict[e]}' for e in entry]\n",
    "                terms = list(entry)\n",
    "            else:\n",
    "                terms = entry.split(',')\n",
    "            for t in terms:\n",
    "                funct_terms.append(t)\n",
    "\n",
    "#     len(terms)\n",
    "    \n",
    "    term_count_dict = {}\n",
    "    \n",
    "    for t in funct_terms:\n",
    "        count = term_count_dict.get(t, 0)\n",
    "        count += 1\n",
    "        term_count_dict[t] = count\n",
    "        \n",
    "    return term_count_dict"
   ]
  },
  {
   "cell_type": "code",
   "execution_count": 4,
   "id": "0fddca3d-22c7-42cf-b4d1-f663bfa84cf5",
   "metadata": {},
   "outputs": [],
   "source": [
    "def enrichment_analysis(module, leiden_label_df, phases, background_annotation, term_column):\n",
    "    \n",
    "    module_ttids = leiden_label_df.loc[leiden_label_df[f'leiden_label_{phases}'] == module]['TTHERM_ID'].values\n",
    "    \n",
    "    module_annotation = background_annotation.loc[background_annotation['TTHERM_ID'].isin(module_ttids)]\n",
    "    \n",
    "    background_term_dict = term_count_dict_from_annotation_df(background_annotation, term_column)\n",
    "    module_term_dict = term_count_dict_from_annotation_df(module_annotation, term_column)\n",
    "    \n",
    "    bs = []\n",
    "    ps = []\n",
    "    folds = []\n",
    "    terms = []\n",
    "    \n",
    "    for t, module_count in module_term_dict.items():\n",
    "        \n",
    "        background_count = background_term_dict[t]\n",
    "        module_size = len(module_annotation)\n",
    "        background_size = len(background_annotation)\n",
    "        \n",
    "        standard_contingency_table = [\n",
    "                                [module_count, background_count - module_count], \n",
    "                                [module_size - module_count, background_size - module_size - (background_count - module_count)]\n",
    "                            ]\n",
    "        \n",
    "        # The -1 and +1 make this more conservative (see explanation from the DAVID database: \n",
    "        # https://david.ncifcrf.gov/helps/functional_annotation.html#geneenrich)\n",
    "        conservative_contingency_table = [\n",
    "                                [module_count - 1, background_count - module_count + 1], \n",
    "                                [module_size - module_count, background_size - module_size - (background_count - module_count)]\n",
    "                            ]\n",
    "        \n",
    "        \n",
    "        odds, p_standard = st.fisher_exact(standard_contingency_table, 'greater')\n",
    "        odds, p_conservative = st.fisher_exact(conservative_contingency_table, 'greater')\n",
    "        \n",
    "        p_reasonable = np.mean([p_standard, p_conservative])\n",
    "        \n",
    "        bonferroni  = p_reasonable * len(module_term_dict)\n",
    "\n",
    "        fold_enrichment = (module_count/module_size) / (background_count/background_size)\n",
    "\n",
    "        if bonferroni <= 0.05:\n",
    "            \n",
    "            ps.append(p_reasonable)\n",
    "            bs.append(bonferroni)\n",
    "            folds.append(fold_enrichment)\n",
    "            terms.append(t)\n",
    "            \n",
    "#         else:\n",
    "#             ps.append('')\n",
    "#             bs.append('')\n",
    "#             folds.append('')\n",
    "#             terms.append('')\n",
    "            \n",
    "    return ps, bs, folds, terms\n",
    "            \n",
    "            "
   ]
  },
  {
   "cell_type": "code",
   "execution_count": 5,
   "id": "af7d692a-245e-4a7b-bd02-0b4bdd1ae288",
   "metadata": {},
   "outputs": [],
   "source": [
    "def get_GO_info(go_term):\n",
    "    \n",
    "    r = requests.get(f'https://www.ebi.ac.uk/QuickGO/services/ontology/go/terms/{go_term}/complete', 'html5lib')\n",
    "    \n",
    "    go_info = json.loads(r.text)\n",
    "    \n",
    "    name = go_info['results'][0]['name']\n",
    "    \n",
    "    definition = go_info['results'][0]['definition']['text']\n",
    "    \n",
    "    obsolete = go_info['results'][0]['isObsolete']\n",
    "    \n",
    "    return name, definition, obsolete"
   ]
  },
  {
   "cell_type": "code",
   "execution_count": 6,
   "id": "c5465d23-1a8a-4e96-b3fb-069dbb51d191",
   "metadata": {},
   "outputs": [],
   "source": [
    "def get_KEGG_info(term):\n",
    "    try:\n",
    "#         dfs = pd.read_html(f'https://www.genome.jp/entry/{term}')\n",
    "        response = requests.get(f'https://rest.kegg.jp/get/{term}')\n",
    "    except:\n",
    "        return \"NA\"\n",
    "\n",
    "    text = response.text\n",
    "    try:\n",
    "        name_string = re.search(r'NAME\\s*[\\w \\-]*', response.text).group()\n",
    "        name = re.split(r'\\s\\s+', name_string)[1]\n",
    "    except:\n",
    "        name = 'poop'\n",
    "#     data = dfs[3]\n",
    "#     entry = data.loc[data[0] == 'Entry'][1].values[0]\n",
    "#     name = data.loc[data[0] == 'Name'][1].values[0]\n",
    "\n",
    "    if name == 'poop':\n",
    "        print(term)\n",
    "    \n",
    "    return name"
   ]
  },
  {
   "cell_type": "code",
   "execution_count": 7,
   "id": "b01593d0-9a7f-4c4d-a953-99a093cef99f",
   "metadata": {},
   "outputs": [],
   "source": [
    "def get_EC_info(term):\n",
    "    \n",
    "    r = requests.get(f\"https://www.ebi.ac.uk/enzymeportal/rest/enzymes/{term}\")\n",
    "    try:\n",
    "        name = r.json()['enzymeName']\n",
    "    except:\n",
    "        name = 'NA'\n",
    "    \n",
    "    return name"
   ]
  },
  {
   "cell_type": "code",
   "execution_count": 8,
   "id": "14cb6323-a773-46b7-85e3-f9d5bd609e61",
   "metadata": {},
   "outputs": [],
   "source": [
    "def write_enrichment(lldf, phases, out_prefix, term_column):\n",
    "    \n",
    "    with open(f'../enrichment/{out_prefix}_enrichment.txt', 'w') as fl:\n",
    "    \n",
    "        for m in tqdm.tqdm(sorted(lldf[f'leiden_label_{phases}'].unique())):\n",
    "\n",
    "            # print(f'Module {m}')\n",
    "            ps, bs, folds, terms = enrichment_analysis(m, lldf, phases, complete_annot, term_column)\n",
    "\n",
    "            fl.write(f'Module {m}\\n')\n",
    "            for b, fold, t in zip(bs, folds, terms):\n",
    "                \n",
    "                if term_column == 'COG_category':\n",
    "                    \n",
    "                    definition = COG_dict[t]\n",
    "                    t = f'{t}: {definition}'\n",
    "                \n",
    "                elif term_column == 'GOs':\n",
    "                    name, definition, obsolete = get_GO_info(t)\n",
    "                    if obsolete:\n",
    "                        t = f'{name.capitalize()} ({t}): {definition} (obsolete)'\n",
    "                    else:\n",
    "                        t = f'{name.capitalize()} ({t}): {definition}'\n",
    "                        \n",
    "                elif term_column.split('_')[0] == 'KEGG':\n",
    "                    name = get_KEGG_info(t)\n",
    "                    \n",
    "                    t = f'{t}: {name}'\n",
    "                    \n",
    "                elif term_column == 'EC':\n",
    "                    \n",
    "                    name = get_EC_info(t)\n",
    "                    t = f'{t}: {name}'\n",
    "                    \n",
    "                        \n",
    "                # print(f\"{t}\\nFold-enrichment: {fold:.02f}\\nBonferroni-corrected p-value: {b:.02e}\\n\\n\")\n",
    "\n",
    "                fl.write(f'{t}\\nFold-enrichment: {fold:.02f}\\nBonferroni-corrected p-value: {b:.02e}\\n\\n')"
   ]
  },
  {
   "cell_type": "code",
   "execution_count": 9,
   "id": "9757a47a-9d09-470b-896d-da0a4539a480",
   "metadata": {},
   "outputs": [],
   "source": [
    "\n",
    "\n",
    "response = requests.get('https://rest.kegg.jp/get/ko:K19607')"
   ]
  },
  {
   "cell_type": "code",
   "execution_count": 10,
   "id": "b2f109ba-f221-4c39-9b32-5a2b191b36f8",
   "metadata": {},
   "outputs": [],
   "source": [
    "test = response.text.split('\\n')"
   ]
  },
  {
   "cell_type": "code",
   "execution_count": 11,
   "id": "f27584d0-6add-477f-9771-23fd95ef7dce",
   "metadata": {},
   "outputs": [],
   "source": [
    "name = re.search(r'NAME\\s*[\\w \\-]*', response.text).group()"
   ]
  },
  {
   "cell_type": "code",
   "execution_count": 12,
   "id": "47331f03-efe9-4bf2-949d-7e73a7f4cf69",
   "metadata": {},
   "outputs": [
    {
     "data": {
      "text/plain": [
       "['NAME', 'X-linked retinitis pigmentosa GTPase regulator']"
      ]
     },
     "execution_count": 12,
     "metadata": {},
     "output_type": "execute_result"
    }
   ],
   "source": [
    "re.split(r'\\s\\s+', name)"
   ]
  },
  {
   "cell_type": "code",
   "execution_count": 13,
   "id": "a319692a-b3fe-4099-b614-9b8f0cffdb61",
   "metadata": {},
   "outputs": [
    {
     "data": {
      "text/plain": [
       "'NAME        X-linked retinitis pigmentosa GTPase regulator'"
      ]
     },
     "execution_count": 13,
     "metadata": {},
     "output_type": "execute_result"
    }
   ],
   "source": [
    "name"
   ]
  },
  {
   "cell_type": "code",
   "execution_count": 14,
   "id": "859264ae-caf4-42cd-a88e-3d87b4cf9505",
   "metadata": {},
   "outputs": [
    {
     "data": {
      "text/plain": [
       "['ENTRY       K19607                      KO',\n",
       " 'SYMBOL      RPGR',\n",
       " 'NAME        X-linked retinitis pigmentosa GTPase regulator',\n",
       " 'DISEASE     H00481  Cone-rod dystrophy and cone dystrophy',\n",
       " '            H00527  Retinitis pigmentosa',\n",
       " 'BRITE       KEGG Orthology (KO) [BR:ko00001]',\n",
       " '             09180 Brite Hierarchies',\n",
       " '              09183 Protein families: signaling and cellular processes',\n",
       " '               03037 Cilium and associated proteins',\n",
       " '                K19607  RPGR; X-linked retinitis pigmentosa GTPase regulator']"
      ]
     },
     "execution_count": 14,
     "metadata": {},
     "output_type": "execute_result"
    }
   ],
   "source": [
    "test[:10]"
   ]
  },
  {
   "cell_type": "code",
   "execution_count": 15,
   "id": "cb41586c-adbe-43f8-9b31-e9ec665e26cd",
   "metadata": {},
   "outputs": [
    {
     "data": {
      "text/plain": [
       "'Non-specific serine/threonine protein kinase'"
      ]
     },
     "execution_count": 15,
     "metadata": {},
     "output_type": "execute_result"
    }
   ],
   "source": [
    "r = requests.get(\"https://www.ebi.ac.uk/enzymeportal/rest/enzymes/2.7.11.1\")\n",
    "r.json()['enzymeName']"
   ]
  },
  {
   "cell_type": "code",
   "execution_count": 16,
   "id": "dd5d7697-d044-45e7-a4d4-5945fa23775b",
   "metadata": {},
   "outputs": [],
   "source": [
    "def get_enrichment_df(lldf, phases, background_annotation, term_columns=['COG_category', 'GOs', 'KEGG_ko', 'EC'], outfile=None):\n",
    "    \n",
    "    module_dfs = []\n",
    "    \n",
    "    for m in tqdm.tqdm(sorted(lldf[f'leiden_label_{phases}'].unique())):\n",
    "        \n",
    "        term_dfs = []\n",
    "\n",
    "        for tc in term_columns:\n",
    "        \n",
    "            ps, bs, folds, terms = enrichment_analysis(m, lldf, phases, background_annotation, tc)\n",
    "\n",
    "            # fl.write(f'Module {m}\\n')\n",
    "            \n",
    "            info = []\n",
    "\n",
    "            if tc == 'GOs':\n",
    "\n",
    "                for t in terms:\n",
    "                    name, definition, obsolete = get_GO_info(t)\n",
    "                    if obsolete:\n",
    "                        info.append(f'{name.capitalize()}: {definition} (obsolete)')\n",
    "                    else:\n",
    "                        info.append(f'{name.capitalize()}: {definition}')\n",
    "                        \n",
    "            elif tc == 'COG_category':\n",
    "                for t in terms:\n",
    "                    info.append(COG_dict[t])\n",
    "                                \n",
    "            elif tc == 'KEGG_ko':\n",
    "                for t in terms:\n",
    "                    info.append(get_KEGG_info(t))\n",
    "                    \n",
    "            elif tc == 'EC':\n",
    "                for t in terms:\n",
    "                    info.append(get_EC_info(t))\n",
    "                    \n",
    "            term_df = pd.DataFrame({'module': [m]*len(terms),\n",
    "                                    'term': terms,\n",
    "                                    'info': info,\n",
    "                                    'fold_change': folds,\n",
    "                                    'bonferroni': bs})\n",
    "            \n",
    "            term_dfs.append(term_df)\n",
    "            \n",
    "        module_df = pd.concat(term_dfs)\n",
    "        \n",
    "        module_dfs.append(module_df)\n",
    "        \n",
    "    all_enrichment_df = pd.concat(module_dfs)\n",
    "    \n",
    "    if outfile:\n",
    "        all_enrichment_df.to_csv(outfile, index=False)\n",
    "    \n",
    "    return all_enrichment_df\n",
    "        \n",
    "        \n",
    "                        \n",
    "            \n",
    "                    \n",
    "            \n",
    "        \n",
    "#         for b, fold, t in zip(bs, folds, terms):\n",
    "\n",
    "#             if term_column == 'GOs':\n",
    "#                 name, definition, obsolete = get_GO_info(t)\n",
    "#                 if obsolete:\n",
    "#                     t = f'{name.capitalize()} ({t}): {definition} (obsolete)'\n",
    "#                 else:\n",
    "#                     t = f'{name.capitalize()} ({t}): {definition}'\n",
    "\n",
    "#             if term_column.split('_')[0] == 'KEGG':\n",
    "#                 dfs = pd.read_html(f'https://www.genome.jp/entry/{t}')\n",
    "\n",
    "#                 data = dfs[4]\n",
    "#                 entry = data.loc[data[0] == 'Entry'][1].values[0]\n",
    "#                 name = data.loc[data[0] == 'Name'][1].values[0]\n",
    "\n",
    "#                 t = f'{t}: {name}'"
   ]
  },
  {
   "cell_type": "code",
   "execution_count": 17,
   "id": "3e001ab1-173b-4ed8-85d5-091142480820",
   "metadata": {},
   "outputs": [],
   "source": [
    "complete_annotation = pd.read_csv('../eggnog/complete_eggnog_annotation.csv')"
   ]
  },
  {
   "cell_type": "code",
   "execution_count": 18,
   "id": "7f839c0b-7ed1-4a84-b058-dafccbfdad88",
   "metadata": {},
   "outputs": [],
   "source": [
    "lldf_nn3 = pd.read_csv('../embedding/mcl_rcl_label_df_round_1.csv')"
   ]
  },
  {
   "cell_type": "code",
   "execution_count": 28,
   "id": "c4b49a02",
   "metadata": {},
   "outputs": [
    {
     "name": "stdout",
     "output_type": "stream",
     "text": [
      "72\n",
      "72\n",
      "72\n",
      "72\n",
      "72\n",
      "72\n",
      "72\n",
      "72\n",
      "72\n",
      "72\n",
      "72\n",
      "72\n",
      "72\n",
      "72\n",
      "72\n",
      "72\n",
      "72\n",
      "72\n",
      "72\n",
      "72\n",
      "72\n",
      "72\n",
      "72\n",
      "72\n",
      "72\n",
      "72\n",
      "72\n",
      "72\n",
      "72\n",
      "72\n",
      "72\n",
      "72\n",
      "72\n",
      "72\n",
      "72\n",
      "72\n",
      "72\n",
      "72\n",
      "72\n",
      "72\n"
     ]
    }
   ],
   "source": [
    "gene_list_test = ['TTHERM_000013409', 'TTHERM_01321550', 'TTHERM_00011710', 'TTHERM_00321680', 'TTHERM_00355700', 'TTHERM_00938950', 'TTHERM_01372820', 'TTHERM_00013410', 'TTHERM_00390080', 'TTHERM_00516380', 'TTHERM_00038880', 'TTHERM_00059370', 'TTHERM_00473020', 'TTHERM_00497590', 'TTHERM_00558350', 'TTHERM_00052190', 'TTHERM_00392790', 'TTHERM_00410180', 'TTHERM_00685980', 'TTHERM_00445920', 'TTHERM_00471040', 'TTHERM_00140780', 'TTHERM_00145480', 'TTHERM_00321720', 'TTHERM_00628650', 'TTHERM_00526730', 'TTHERM_01156770', 'TTHERM_00312200', 'TTHERM_01332070', 'TTHERM_00318900', 'TTHERM_00340180', 'TTHERM_00592740', 'TTHERM_00440600', 'TTHERM_01321570', 'TTHERM_00537380', 'TTHERM_00585170', 'TTHERM_01197130', 'TTHERM_00554390', 'TTHERM_00649180', 'TTHERM_00691410', ]\n",
    "for gene in gene_list_test:\n",
    "    print((lldf_nn3.loc[lldf_nn3['TTHERM_ID'] == gene])['leiden_label_full'].values[0])"
   ]
  },
  {
   "cell_type": "code",
   "execution_count": 19,
   "id": "0a18a134-a62a-4166-9764-a05d90f45361",
   "metadata": {},
   "outputs": [
    {
     "data": {
      "text/plain": [
       "array([  0,   1,   2,   3,   4,   5,   6,   7,   8,   9,  10,  11,  12,\n",
       "        13,  14,  15,  16,  17,  18,  19,  20,  21,  22,  23,  24,  25,\n",
       "        26,  27,  28,  29,  30,  31,  32,  33,  34,  35,  36,  37,  38,\n",
       "        39,  40,  41,  42,  43,  44,  45,  46,  47,  48,  49,  50,  51,\n",
       "        52,  53,  54,  55,  56,  57,  58,  59,  60,  61,  62,  63,  64,\n",
       "        65,  66,  67,  68,  69,  70,  71,  72,  73,  74,  75,  76,  77,\n",
       "        78,  79,  80,  81,  82,  83,  84,  85,  86,  87,  88,  89,  90,\n",
       "        91,  92,  93,  94,  95,  96,  97,  98,  99, 100, 101, 102, 103,\n",
       "       104, 105, 106, 107, 108, 109, 110, 111, 112, 113, 114, 115, 116,\n",
       "       117, 118, 119, 120, 121, 122, 123, 124, 125, 126, 127, 128, 129,\n",
       "       130, 131, 132, 133, 134, 135, 136, 137, 138, 139, 140, 141, 142,\n",
       "       143, 144, 145, 146, 147, 148, 149, 150, 151, 152, 153, 154, 155,\n",
       "       156, 157, 158, 159, 160, 161, 162, 163, 164, 165, 166, 167, 168,\n",
       "       169, 170, 171, 172, 173, 174, 175, 176, 177, 178, 179, 180, 181,\n",
       "       182, 183, 184, 185, 186, 187, 188, 189, 190, 191, 192, 193, 194,\n",
       "       195, 196, 197, 198, 199, 200, 201, 202, 203, 204, 205, 206, 207,\n",
       "       208, 209, 210, 211, 212, 213, 214, 215, 216, 217, 218, 219, 220,\n",
       "       221, 222, 223, 224, 225, 226, 227, 228, 229, 230, 231, 232, 233,\n",
       "       234, 235, 236, 237, 238, 239, 240, 241, 242, 243, 244, 245, 246,\n",
       "       247, 248, 249, 250, 251, 252, 253, 254, 255, 256, 257, 258, 259,\n",
       "       260, 261, 262, 263, 264, 265, 266, 267, 268, 269, 270, 271, 272,\n",
       "       273, 274, 275, 276, 277, 278, 279, 280, 281, 282, 283, 284, 285,\n",
       "       286, 287, 288, 289, 290, 291, 292, 293, 294, 295, 296, 297, 298,\n",
       "       299, 300, 301, 302, 303, 304, 305, 306, 307, 308, 309, 310, 311,\n",
       "       312, 313, 314, 315, 316, 317, 318, 319, 320, 321, 322, 323, 324,\n",
       "       325, 326, 327, 328, 329, 330, 331, 332, 333, 334, 335, 336, 337,\n",
       "       338, 339, 340, 341, 342, 343, 344, 345, 346, 347, 348, 349, 350,\n",
       "       351, 352, 353, 354, 355, 356, 357, 358, 359, 360, 361, 362, 363,\n",
       "       364, 365, 366, 367, 368, 369, 370, 371, 372, 373, 374, 375, 376,\n",
       "       377, 378, 379, 380, 381, 382, 383, 384, 385, 386, 387, 388, 389,\n",
       "       390, 391, 392, 393, 394, 395, 396, 397, 398, 399, 400, 401, 402,\n",
       "       403, 404, 405, 406, 407, 408, 409, 410, 411, 412, 413, 414, 415,\n",
       "       416, 417, 418, 419, 420, 421, 422, 423, 424, 425, 426, 427, 428,\n",
       "       429, 430, 431, 432, 433, 434, 435, 436, 437, 438, 439, 440, 441,\n",
       "       442, 443, 444, 445, 446, 447, 448, 449, 450, 451, 452, 453, 454,\n",
       "       455, 456, 457, 458, 459, 460, 461, 462, 463, 464, 465, 466, 467,\n",
       "       468, 469, 470, 471, 472, 473, 474, 475, 476, 477, 478, 479, 480,\n",
       "       481, 482, 483, 484, 485, 486, 487, 488, 489, 490, 491, 492, 493,\n",
       "       494, 495, 496, 497, 498, 499, 500, 501, 502, 503, 504, 505, 506,\n",
       "       507, 508, 509, 510, 511, 512, 513, 514, 515, 516, 517, 518, 519,\n",
       "       520, 521, 522, 523, 524, 525, 526, 527, 528, 529, 530, 531, 532,\n",
       "       533, 534, 535, 536, 537, 538, 539, 540, 541, 542, 543, 544, 545,\n",
       "       546, 547, 548, 549, 550, 551, 552, 553, 554, 555, 556, 557, 558,\n",
       "       559, 560, 561, 562, 563, 564, 565, 566, 567, 568, 569, 570, 571,\n",
       "       572, 573, 574, 575, 576, 577, 578, 579, 580, 581, 582, 583, 584,\n",
       "       585, 586, 587, 588, 589, 590, 591, 592, 593, 594, 595, 596, 597,\n",
       "       598, 599, 600, 601, 602, 603, 604, 605, 606, 607, 608, 609, 610,\n",
       "       611, 612, 613, 614, 615, 616, 617, 618, 619, 620, 621, 622, 623,\n",
       "       624, 625, 626, 627, 628, 629, 630, 631, 632, 633, 634, 635, 636,\n",
       "       637, 638, 639, 640, 641, 642, 643, 644, 645, 646, 647, 648, 649,\n",
       "       650, 651, 652, 653, 654, 655, 656, 657, 658, 659, 660, 661, 662,\n",
       "       663, 664, 665, 666, 667, 668, 669, 670, 671, 672, 673, 674, 675,\n",
       "       676, 677, 678, 679, 680, 681, 682, 683, 684, 685, 686, 687, 688,\n",
       "       689, 690, 691, 692, 693, 694, 695, 696, 697, 698, 699, 700, 701,\n",
       "       702, 703, 704, 705, 706, 707, 708, 709, 710, 711, 712, 713, 714,\n",
       "       715, 716, 717, 718, 719, 720, 721, 722, 723, 724, 725, 726, 727,\n",
       "       728, 729, 730, 731, 732, 733, 734, 735, 736, 737, 738, 739, 740,\n",
       "       741, 742, 743, 744, 745, 746, 747, 748, 749, 750, 751, 752, 753,\n",
       "       754, 755, 756, 757, 758, 759, 760, 761, 762, 763, 764, 765, 766,\n",
       "       767, 768, 769, 770, 771, 772, 773, 774, 775, 776, 777, 778, 779,\n",
       "       780, 781, 782, 783, 784, 785, 786, 787, 788, 789, 790, 791, 792,\n",
       "       793, 794, 795, 796, 797, 798, 799, 800, 801, 802, 803, 804, 805,\n",
       "       806, 807, 808])"
      ]
     },
     "execution_count": 19,
     "metadata": {},
     "output_type": "execute_result"
    }
   ],
   "source": [
    "lldf_nn3['leiden_label_full'].unique()"
   ]
  },
  {
   "cell_type": "code",
   "execution_count": 20,
   "id": "93dc3cc2-1fc1-4018-80cb-21f998c0ed74",
   "metadata": {},
   "outputs": [
    {
     "name": "stdout",
     "output_type": "stream",
     "text": [
      "Automatic pdb calling has been turned ON\n"
     ]
    }
   ],
   "source": [
    "%pdb"
   ]
  },
  {
   "cell_type": "code",
   "execution_count": 21,
   "id": "fb55c9e2-7d38-44d2-a944-51bf9519ab39",
   "metadata": {},
   "outputs": [
    {
     "name": "stderr",
     "output_type": "stream",
     "text": [
      "  0%|          | 0/809 [00:00<?, ?it/s]"
     ]
    },
    {
     "name": "stderr",
     "output_type": "stream",
     "text": [
      " 92%|█████████▏| 742/809 [05:16<00:11,  6.06it/s]  "
     ]
    },
    {
     "name": "stdout",
     "output_type": "stream",
     "text": [
      "ko:K10827\n"
     ]
    },
    {
     "name": "stderr",
     "output_type": "stream",
     "text": [
      "100%|██████████| 809/809 [05:28<00:00,  2.47it/s]\n"
     ]
    }
   ],
   "source": [
    "enrich_full_nn3 = get_enrichment_df(lldf_nn3, 'full', complete_annotation, outfile='./test_nn3_full_enrichment.csv')"
   ]
  },
  {
   "cell_type": "code",
   "execution_count": 22,
   "id": "2c4fefa0-73c9-422e-8090-61fa18d1faf3",
   "metadata": {},
   "outputs": [],
   "source": [
    "enrich_full_nn3 = pd.read_csv('./test_nn3_full_enrichment.csv')"
   ]
  },
  {
   "cell_type": "code",
   "execution_count": 23,
   "id": "6b2f9dee-8c14-40eb-a3b8-bc3865d6f367",
   "metadata": {
    "tags": []
   },
   "outputs": [
    {
     "data": {
      "text/html": [
       "<div>\n",
       "<style scoped>\n",
       "    .dataframe tbody tr th:only-of-type {\n",
       "        vertical-align: middle;\n",
       "    }\n",
       "\n",
       "    .dataframe tbody tr th {\n",
       "        vertical-align: top;\n",
       "    }\n",
       "\n",
       "    .dataframe thead th {\n",
       "        text-align: right;\n",
       "    }\n",
       "</style>\n",
       "<table border=\"1\" class=\"dataframe\">\n",
       "  <thead>\n",
       "    <tr style=\"text-align: right;\">\n",
       "      <th></th>\n",
       "      <th>module</th>\n",
       "      <th>term</th>\n",
       "      <th>info</th>\n",
       "      <th>fold_change</th>\n",
       "      <th>bonferroni</th>\n",
       "    </tr>\n",
       "  </thead>\n",
       "  <tbody>\n",
       "    <tr>\n",
       "      <th>0</th>\n",
       "      <td>0.0</td>\n",
       "      <td>B</td>\n",
       "      <td>Chromatin structure and dynamics</td>\n",
       "      <td>2.592711</td>\n",
       "      <td>0.018331</td>\n",
       "    </tr>\n",
       "    <tr>\n",
       "      <th>1</th>\n",
       "      <td>1.0</td>\n",
       "      <td>T</td>\n",
       "      <td>Signal transduction mechanisms</td>\n",
       "      <td>1.497861</td>\n",
       "      <td>0.020480</td>\n",
       "    </tr>\n",
       "    <tr>\n",
       "      <th>2</th>\n",
       "      <td>1.0</td>\n",
       "      <td>ko:K01373</td>\n",
       "      <td>cathepsin F</td>\n",
       "      <td>4.613411</td>\n",
       "      <td>0.006447</td>\n",
       "    </tr>\n",
       "    <tr>\n",
       "      <th>3</th>\n",
       "      <td>1.0</td>\n",
       "      <td>3.4.22.41</td>\n",
       "      <td>Cathepsin F</td>\n",
       "      <td>4.613411</td>\n",
       "      <td>0.001847</td>\n",
       "    </tr>\n",
       "    <tr>\n",
       "      <th>4</th>\n",
       "      <td>2.0</td>\n",
       "      <td>T</td>\n",
       "      <td>Signal transduction mechanisms</td>\n",
       "      <td>1.625530</td>\n",
       "      <td>0.007472</td>\n",
       "    </tr>\n",
       "  </tbody>\n",
       "</table>\n",
       "</div>"
      ],
      "text/plain": [
       "   module       term                              info  fold_change  \\\n",
       "0     0.0          B  Chromatin structure and dynamics     2.592711   \n",
       "1     1.0          T    Signal transduction mechanisms     1.497861   \n",
       "2     1.0  ko:K01373                      cathepsin F      4.613411   \n",
       "3     1.0  3.4.22.41                       Cathepsin F     4.613411   \n",
       "4     2.0          T    Signal transduction mechanisms     1.625530   \n",
       "\n",
       "   bonferroni  \n",
       "0    0.018331  \n",
       "1    0.020480  \n",
       "2    0.006447  \n",
       "3    0.001847  \n",
       "4    0.007472  "
      ]
     },
     "execution_count": 23,
     "metadata": {},
     "output_type": "execute_result"
    }
   ],
   "source": [
    "enrich_full_nn3.head()"
   ]
  },
  {
   "cell_type": "code",
   "execution_count": 30,
   "id": "b4b518af",
   "metadata": {},
   "outputs": [
    {
     "data": {
      "text/html": [
       "<div>\n",
       "<style scoped>\n",
       "    .dataframe tbody tr th:only-of-type {\n",
       "        vertical-align: middle;\n",
       "    }\n",
       "\n",
       "    .dataframe tbody tr th {\n",
       "        vertical-align: top;\n",
       "    }\n",
       "\n",
       "    .dataframe thead th {\n",
       "        text-align: right;\n",
       "    }\n",
       "</style>\n",
       "<table border=\"1\" class=\"dataframe\">\n",
       "  <thead>\n",
       "    <tr style=\"text-align: right;\">\n",
       "      <th></th>\n",
       "      <th>module</th>\n",
       "      <th>term</th>\n",
       "      <th>info</th>\n",
       "      <th>fold_change</th>\n",
       "      <th>bonferroni</th>\n",
       "    </tr>\n",
       "  </thead>\n",
       "  <tbody>\n",
       "    <tr>\n",
       "      <th>127</th>\n",
       "      <td>72.0</td>\n",
       "      <td>ko:K01379</td>\n",
       "      <td>cathepsin D</td>\n",
       "      <td>65.645000</td>\n",
       "      <td>0.007851</td>\n",
       "    </tr>\n",
       "    <tr>\n",
       "      <th>128</th>\n",
       "      <td>72.0</td>\n",
       "      <td>ko:K01378</td>\n",
       "      <td>chymosin</td>\n",
       "      <td>437.633333</td>\n",
       "      <td>0.037877</td>\n",
       "    </tr>\n",
       "    <tr>\n",
       "      <th>129</th>\n",
       "      <td>72.0</td>\n",
       "      <td>3.4.23.5</td>\n",
       "      <td>Cathepsin D</td>\n",
       "      <td>65.645000</td>\n",
       "      <td>0.003695</td>\n",
       "    </tr>\n",
       "    <tr>\n",
       "      <th>130</th>\n",
       "      <td>72.0</td>\n",
       "      <td>3.5.4.4</td>\n",
       "      <td>Adenosine deaminase</td>\n",
       "      <td>187.557143</td>\n",
       "      <td>0.041596</td>\n",
       "    </tr>\n",
       "    <tr>\n",
       "      <th>131</th>\n",
       "      <td>72.0</td>\n",
       "      <td>3.4.23.1</td>\n",
       "      <td>Pepsin A</td>\n",
       "      <td>328.225000</td>\n",
       "      <td>0.023767</td>\n",
       "    </tr>\n",
       "    <tr>\n",
       "      <th>132</th>\n",
       "      <td>72.0</td>\n",
       "      <td>3.4.23.4</td>\n",
       "      <td>Chymosin</td>\n",
       "      <td>437.633333</td>\n",
       "      <td>0.017824</td>\n",
       "    </tr>\n",
       "  </tbody>\n",
       "</table>\n",
       "</div>"
      ],
      "text/plain": [
       "     module       term                 info  fold_change  bonferroni\n",
       "127    72.0  ko:K01379         cathepsin D     65.645000    0.007851\n",
       "128    72.0  ko:K01378            chymosin    437.633333    0.037877\n",
       "129    72.0   3.4.23.5          Cathepsin D    65.645000    0.003695\n",
       "130    72.0    3.5.4.4  Adenosine deaminase   187.557143    0.041596\n",
       "131    72.0   3.4.23.1             Pepsin A   328.225000    0.023767\n",
       "132    72.0   3.4.23.4             Chymosin   437.633333    0.017824"
      ]
     },
     "execution_count": 30,
     "metadata": {},
     "output_type": "execute_result"
    }
   ],
   "source": [
    "enrich_full_nn3.loc[enrich_full_nn3['module']==72]"
   ]
  },
  {
   "cell_type": "code",
   "execution_count": 24,
   "id": "801013e7-b277-4b7f-a6b7-773fc734c1b2",
   "metadata": {},
   "outputs": [
    {
     "data": {
      "text/plain": [
       "array([  0.,   1.,   2.,   3.,   4.,   5.,   6.,   7.,   8.,  10.,  11.,\n",
       "        12.,  13.,  15.,  21.,  22.,  23.,  24.,  28.,  34.,  35.,  37.,\n",
       "        39.,  40.,  41.,  44.,  46.,  48.,  49.,  53.,  57.,  58.,  60.,\n",
       "        65.,  67.,  72.,  75.,  76.,  78.,  82.,  85.,  88.,  89.,  91.,\n",
       "        94.,  95.,  96.,  98.,  99., 102., 104., 108., 112., 122., 124.,\n",
       "       129., 133., 134., 141., 146., 147., 148., 151., 153., 159., 160.,\n",
       "       163., 164., 168., 170., 171., 175., 185., 187., 189., 192., 194.,\n",
       "       199., 200., 204., 209., 211., 215., 228., 236., 242., 243., 257.,\n",
       "       263., 278., 280., 281., 287., 290., 294., 299., 302., 304., 315.,\n",
       "       320., 321., 323., 326., 330., 336., 345., 367., 370., 372., 377.,\n",
       "       384., 385., 398., 402., 413., 431., 432., 443., 463., 467., 468.,\n",
       "       474., 476., 481., 485., 488., 490., 507., 513., 528., 529., 557.,\n",
       "       563., 568., 577., 588., 589., 595., 596., 599., 602., 610., 623.,\n",
       "       630., 634., 642., 643., 645., 662., 684., 697., 698., 700., 701.,\n",
       "       707., 708., 711., 713., 716., 725., 741., 742., 745., 763., 771.,\n",
       "       774., 782., 791., 804.])"
      ]
     },
     "execution_count": 24,
     "metadata": {},
     "output_type": "execute_result"
    }
   ],
   "source": [
    "enrich_full_nn3['module'].unique()"
   ]
  },
  {
   "cell_type": "code",
   "execution_count": 25,
   "id": "1228547a-b5d6-4d2f-9534-5a5a10043c52",
   "metadata": {},
   "outputs": [
    {
     "data": {
      "text/plain": [
       "array([  0,   1,   2,   3,   4,   5,   6,   7,   8,   9,  10,  11,  12,\n",
       "        13,  14,  15,  16,  17,  18,  19,  20,  21,  22,  23,  24,  25,\n",
       "        26,  27,  28,  29,  30,  31,  32,  33,  34,  35,  36,  37,  38,\n",
       "        39,  40,  41,  42,  43,  44,  45,  46,  47,  48,  49,  50,  51,\n",
       "        52,  53,  54,  55,  56,  57,  58,  59,  60,  61,  62,  63,  64,\n",
       "        65,  66,  67,  68,  69,  70,  71,  72,  73,  74,  75,  76,  77,\n",
       "        78,  79,  80,  81,  82,  83,  84,  85,  86,  87,  88,  89,  90,\n",
       "        91,  92,  93,  94,  95,  96,  97,  98,  99, 100, 101, 102, 103,\n",
       "       104, 105, 106, 107, 108, 109, 110, 111, 112, 113, 114, 115, 116,\n",
       "       117, 118, 119, 120, 121, 122, 123, 124, 125, 126, 127, 128, 129,\n",
       "       130, 131, 132, 133, 134, 135, 136, 137, 138, 139, 140, 141, 142,\n",
       "       143, 144, 145, 146, 147, 148, 149, 150, 151, 152, 153, 154, 155,\n",
       "       156, 157, 158, 159, 160, 161, 162, 163, 164, 165, 166, 167, 168,\n",
       "       169, 170, 171, 172, 173, 174, 175, 176, 177, 178, 179, 180, 181,\n",
       "       182, 183, 184, 185, 186, 187, 188, 189, 190, 191, 192, 193, 194,\n",
       "       195, 196, 197, 198, 199, 200, 201, 202, 203, 204, 205, 206, 207,\n",
       "       208, 209, 210, 211, 212, 213, 214, 215, 216, 217, 218, 219, 220,\n",
       "       221, 222, 223, 224, 225, 226, 227, 228, 229, 230, 231, 232, 233,\n",
       "       234, 235, 236, 237, 238, 239, 240, 241, 242, 243, 244, 245, 246,\n",
       "       247, 248, 249, 250, 251, 252, 253, 254, 255, 256, 257, 258, 259,\n",
       "       260, 261, 262, 263, 264, 265, 266, 267, 268, 269, 270, 271, 272,\n",
       "       273, 274, 275, 276, 277, 278, 279, 280, 281, 282, 283, 284, 285,\n",
       "       286, 287, 288, 289, 290, 291, 292, 293, 294, 295, 296, 297, 298,\n",
       "       299, 300, 301, 302, 303, 304, 305, 306, 307, 308, 309, 310, 311,\n",
       "       312, 313, 314, 315, 316, 317, 318, 319, 320, 321, 322, 323, 324,\n",
       "       325, 326, 327, 328, 329, 330, 331, 332, 333, 334, 335, 336, 337,\n",
       "       338, 339, 340, 341, 342, 343, 344, 345, 346, 347, 348, 349, 350,\n",
       "       351, 352, 353, 354, 355, 356, 357, 358, 359, 360, 361, 362, 363,\n",
       "       364, 365, 366, 367, 368, 369, 370, 371, 372, 373, 374, 375, 376,\n",
       "       377, 378, 379, 380, 381, 382, 383, 384, 385, 386, 387, 388, 389,\n",
       "       390, 391, 392, 393, 394, 395, 396, 397, 398, 399, 400, 401, 402,\n",
       "       403, 404, 405, 406, 407, 408, 409, 410, 411, 412, 413, 414, 415,\n",
       "       416, 417, 418, 419, 420, 421, 422, 423, 424, 425, 426, 427, 428,\n",
       "       429, 430, 431, 432, 433, 434, 435, 436, 437, 438, 439, 440, 441,\n",
       "       442, 443, 444, 445, 446, 447, 448, 449, 450, 451, 452, 453, 454,\n",
       "       455, 456, 457, 458, 459, 460, 461, 462, 463, 464, 465, 466, 467,\n",
       "       468, 469, 470, 471, 472, 473, 474, 475, 476, 477, 478, 479, 480,\n",
       "       481, 482, 483, 484, 485, 486, 487, 488, 489, 490, 491, 492, 493,\n",
       "       494, 495, 496, 497, 498, 499, 500, 501, 502, 503, 504, 505, 506,\n",
       "       507, 508, 509, 510, 511, 512, 513, 514, 515, 516, 517, 518, 519,\n",
       "       520, 521, 522, 523, 524, 525, 526, 527, 528, 529, 530, 531, 532,\n",
       "       533, 534, 535, 536, 537, 538, 539, 540, 541, 542, 543, 544, 545,\n",
       "       546, 547, 548, 549, 550, 551, 552, 553, 554, 555, 556, 557, 558,\n",
       "       559, 560, 561, 562, 563, 564, 565, 566, 567, 568, 569, 570, 571,\n",
       "       572, 573, 574, 575, 576, 577, 578, 579, 580, 581, 582, 583, 584,\n",
       "       585, 586, 587, 588, 589, 590, 591, 592, 593, 594, 595, 596, 597,\n",
       "       598, 599, 600, 601, 602, 603, 604, 605, 606, 607, 608, 609, 610,\n",
       "       611, 612, 613, 614, 615, 616, 617, 618, 619, 620, 621, 622, 623,\n",
       "       624, 625, 626, 627, 628, 629, 630, 631, 632, 633, 634, 635, 636,\n",
       "       637, 638, 639, 640, 641, 642, 643, 644, 645, 646, 647, 648, 649,\n",
       "       650, 651, 652, 653, 654, 655, 656, 657, 658, 659, 660, 661, 662,\n",
       "       663, 664, 665, 666, 667, 668, 669, 670, 671, 672, 673, 674, 675,\n",
       "       676, 677, 678, 679, 680, 681, 682, 683, 684, 685, 686, 687, 688,\n",
       "       689, 690, 691, 692, 693, 694, 695, 696, 697, 698, 699, 700, 701,\n",
       "       702, 703, 704, 705, 706, 707, 708, 709, 710, 711, 712, 713, 714,\n",
       "       715, 716, 717, 718, 719, 720, 721, 722, 723, 724, 725, 726, 727,\n",
       "       728, 729, 730, 731, 732, 733, 734, 735, 736, 737, 738, 739, 740,\n",
       "       741, 742, 743, 744, 745, 746, 747, 748, 749, 750, 751, 752, 753,\n",
       "       754, 755, 756, 757, 758, 759, 760, 761, 762, 763, 764, 765, 766,\n",
       "       767, 768, 769, 770, 771, 772, 773, 774, 775, 776, 777, 778, 779,\n",
       "       780, 781, 782, 783, 784, 785, 786, 787, 788, 789, 790, 791, 792,\n",
       "       793, 794, 795, 796, 797, 798, 799, 800, 801, 802, 803, 804, 805,\n",
       "       806, 807, 808])"
      ]
     },
     "execution_count": 25,
     "metadata": {},
     "output_type": "execute_result"
    }
   ],
   "source": [
    "lldf_nn3['leiden_label_full'].unique()"
   ]
  },
  {
   "cell_type": "code",
   "execution_count": 26,
   "id": "1a6ff685-b372-4979-969e-2ae278aa46cb",
   "metadata": {},
   "outputs": [
    {
     "data": {
      "text/html": [
       "<div>\n",
       "<style scoped>\n",
       "    .dataframe tbody tr th:only-of-type {\n",
       "        vertical-align: middle;\n",
       "    }\n",
       "\n",
       "    .dataframe tbody tr th {\n",
       "        vertical-align: top;\n",
       "    }\n",
       "\n",
       "    .dataframe thead th {\n",
       "        text-align: right;\n",
       "    }\n",
       "</style>\n",
       "<table border=\"1\" class=\"dataframe\">\n",
       "  <thead>\n",
       "    <tr style=\"text-align: right;\">\n",
       "      <th></th>\n",
       "      <th>Unnamed: 0</th>\n",
       "      <th>TTHERM_ID</th>\n",
       "      <th>leiden_label_full</th>\n",
       "    </tr>\n",
       "  </thead>\n",
       "  <tbody>\n",
       "    <tr>\n",
       "      <th>12635</th>\n",
       "      <td>12635</td>\n",
       "      <td>TTHERM_01386050</td>\n",
       "      <td>170</td>\n",
       "    </tr>\n",
       "  </tbody>\n",
       "</table>\n",
       "</div>"
      ],
      "text/plain": [
       "       Unnamed: 0        TTHERM_ID  leiden_label_full\n",
       "12635       12635  TTHERM_01386050                170"
      ]
     },
     "execution_count": 26,
     "metadata": {},
     "output_type": "execute_result"
    }
   ],
   "source": [
    "lldf_nn3.loc[lldf_nn3['TTHERM_ID'] == 'TTHERM_01386050']"
   ]
  },
  {
   "cell_type": "code",
   "execution_count": 29,
   "id": "5230794a",
   "metadata": {},
   "outputs": [
    {
     "name": "stdout",
     "output_type": "stream",
     "text": [
      "72\n",
      "72\n",
      "72\n",
      "72\n",
      "72\n",
      "72\n",
      "72\n",
      "72\n",
      "72\n",
      "72\n",
      "72\n",
      "72\n",
      "72\n",
      "72\n",
      "72\n",
      "72\n",
      "72\n",
      "72\n",
      "72\n",
      "72\n",
      "72\n",
      "72\n",
      "72\n",
      "72\n",
      "72\n",
      "72\n",
      "72\n",
      "72\n",
      "72\n",
      "72\n",
      "72\n",
      "72\n",
      "72\n",
      "72\n",
      "72\n",
      "72\n",
      "72\n",
      "72\n",
      "72\n",
      "72\n"
     ]
    }
   ],
   "source": [
    "gene_list_test = ['TTHERM_000013409', 'TTHERM_01321550', 'TTHERM_00011710', 'TTHERM_00321680', 'TTHERM_00355700', 'TTHERM_00938950', 'TTHERM_01372820', 'TTHERM_00013410', 'TTHERM_00390080', 'TTHERM_00516380', 'TTHERM_00038880', 'TTHERM_00059370', 'TTHERM_00473020', 'TTHERM_00497590', 'TTHERM_00558350', 'TTHERM_00052190', 'TTHERM_00392790', 'TTHERM_00410180', 'TTHERM_00685980', 'TTHERM_00445920', 'TTHERM_00471040', 'TTHERM_00140780', 'TTHERM_00145480', 'TTHERM_00321720', 'TTHERM_00628650', 'TTHERM_00526730', 'TTHERM_01156770', 'TTHERM_00312200', 'TTHERM_01332070', 'TTHERM_00318900', 'TTHERM_00340180', 'TTHERM_00592740', 'TTHERM_00440600', 'TTHERM_01321570', 'TTHERM_00537380', 'TTHERM_00585170', 'TTHERM_01197130', 'TTHERM_00554390', 'TTHERM_00649180', 'TTHERM_00691410', ]\n",
    "for gene in gene_list_test:\n",
    "    print((lldf_nn3.loc[lldf_nn3['TTHERM_ID'] == gene])['leiden_label_full'].values[0])"
   ]
  },
  {
   "cell_type": "markdown",
   "id": "d35056e7-38f7-4cf6-a5df-f387d19e8d3a",
   "metadata": {},
   "source": [
    "end here. Return to embedding notebook!"
   ]
  }
 ],
 "metadata": {
  "kernelspec": {
   "display_name": "Python 3 (ipykernel)",
   "language": "python",
   "name": "python3"
  },
  "language_info": {
   "codemirror_mode": {
    "name": "ipython",
    "version": 3
   },
   "file_extension": ".py",
   "mimetype": "text/x-python",
   "name": "python",
   "nbconvert_exporter": "python",
   "pygments_lexer": "ipython3",
   "version": "3.9.9"
  }
 },
 "nbformat": 4,
 "nbformat_minor": 5
}

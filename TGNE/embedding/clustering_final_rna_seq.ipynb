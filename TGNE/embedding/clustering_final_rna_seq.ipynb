{
 "cells": [
  {
   "cell_type": "markdown",
   "id": "2e305761-a971-4232-8a21-5907cfeedfad",
   "metadata": {},
   "source": [
    "## IMPORTS"
   ]
  },
  {
   "cell_type": "code",
   "execution_count": 6,
   "id": "5d9163ea-8dc4-46e8-9542-ba27cc741b52",
   "metadata": {},
   "outputs": [],
   "source": [
    "import pandas as pd\n",
    "import numpy as np\n",
    "import sys\n",
    "\n",
    "sys.path.append('../../')\n",
    "from utils import microarray_utils, clustering_utils, bokeh_ui_utils"
   ]
  },
  {
   "cell_type": "code",
   "execution_count": 7,
   "id": "20cf4cee",
   "metadata": {},
   "outputs": [
    {
     "data": {
      "text/plain": [
       "23880"
      ]
     },
     "execution_count": 7,
     "metadata": {},
     "output_type": "execute_result"
    }
   ],
   "source": [
    "full_filtered_df = pd.read_csv('../../new_raw_data/rna_seq_processed/kallisto.csv')\n",
    "# full_filtered_df = full_filtered_df.rename(columns={'Unnamed: 0': 'TTHERM_ID'})\n",
    "# full_filtered_norm_df = microarray_utils.normalize_expression_per_gene(full_filtered_df)\n",
    "full_filtered_norm_df = full_filtered_df\n",
    "\n",
    "num_genes = full_filtered_df.shape[0]\n",
    "num_genes"
   ]
  },
  {
   "cell_type": "code",
   "execution_count": 8,
   "id": "d2bc3de5",
   "metadata": {},
   "outputs": [
    {
     "data": {
      "text/html": [
       "<div>\n",
       "<style scoped>\n",
       "    .dataframe tbody tr th:only-of-type {\n",
       "        vertical-align: middle;\n",
       "    }\n",
       "\n",
       "    .dataframe tbody tr th {\n",
       "        vertical-align: top;\n",
       "    }\n",
       "\n",
       "    .dataframe thead th {\n",
       "        text-align: right;\n",
       "    }\n",
       "</style>\n",
       "<table border=\"1\" class=\"dataframe\">\n",
       "  <thead>\n",
       "    <tr style=\"text-align: right;\">\n",
       "      <th></th>\n",
       "      <th>TTHERM_ID</th>\n",
       "      <th>000min</th>\n",
       "      <th>030min</th>\n",
       "      <th>060min</th>\n",
       "      <th>090min</th>\n",
       "      <th>120min</th>\n",
       "      <th>150min</th>\n",
       "      <th>180min</th>\n",
       "    </tr>\n",
       "  </thead>\n",
       "  <tbody>\n",
       "    <tr>\n",
       "      <th>0</th>\n",
       "      <td>TTHERM_000000042</td>\n",
       "      <td>-1.365347</td>\n",
       "      <td>-1.148579</td>\n",
       "      <td>-0.747968</td>\n",
       "      <td>0.326896</td>\n",
       "      <td>1.162457</td>\n",
       "      <td>1.223924</td>\n",
       "      <td>0.548616</td>\n",
       "    </tr>\n",
       "    <tr>\n",
       "      <th>1</th>\n",
       "      <td>TTHERM_000000045</td>\n",
       "      <td>1.624606</td>\n",
       "      <td>1.127653</td>\n",
       "      <td>-0.375801</td>\n",
       "      <td>-0.049446</td>\n",
       "      <td>-0.968655</td>\n",
       "      <td>-1.415563</td>\n",
       "      <td>0.057206</td>\n",
       "    </tr>\n",
       "    <tr>\n",
       "      <th>2</th>\n",
       "      <td>TTHERM_000000090</td>\n",
       "      <td>1.142246</td>\n",
       "      <td>-1.681917</td>\n",
       "      <td>-1.085635</td>\n",
       "      <td>0.091523</td>\n",
       "      <td>0.154576</td>\n",
       "      <td>1.283089</td>\n",
       "      <td>0.096118</td>\n",
       "    </tr>\n",
       "    <tr>\n",
       "      <th>3</th>\n",
       "      <td>TTHERM_00000010</td>\n",
       "      <td>1.990007</td>\n",
       "      <td>1.031465</td>\n",
       "      <td>-0.706626</td>\n",
       "      <td>-0.669459</td>\n",
       "      <td>-0.833015</td>\n",
       "      <td>-0.358390</td>\n",
       "      <td>-0.453982</td>\n",
       "    </tr>\n",
       "    <tr>\n",
       "      <th>4</th>\n",
       "      <td>TTHERM_00000020</td>\n",
       "      <td>-0.476728</td>\n",
       "      <td>-0.547781</td>\n",
       "      <td>1.301147</td>\n",
       "      <td>-1.215550</td>\n",
       "      <td>0.859255</td>\n",
       "      <td>-1.091681</td>\n",
       "      <td>1.171338</td>\n",
       "    </tr>\n",
       "    <tr>\n",
       "      <th>...</th>\n",
       "      <td>...</td>\n",
       "      <td>...</td>\n",
       "      <td>...</td>\n",
       "      <td>...</td>\n",
       "      <td>...</td>\n",
       "      <td>...</td>\n",
       "      <td>...</td>\n",
       "      <td>...</td>\n",
       "    </tr>\n",
       "    <tr>\n",
       "      <th>23875</th>\n",
       "      <td>TTHERM_02385080</td>\n",
       "      <td>1.330475</td>\n",
       "      <td>0.019369</td>\n",
       "      <td>-1.181160</td>\n",
       "      <td>-0.530563</td>\n",
       "      <td>1.638006</td>\n",
       "      <td>-0.471464</td>\n",
       "      <td>-0.804663</td>\n",
       "    </tr>\n",
       "    <tr>\n",
       "      <th>23876</th>\n",
       "      <td>TTHERM_02599230</td>\n",
       "      <td>1.874148</td>\n",
       "      <td>0.986572</td>\n",
       "      <td>0.201956</td>\n",
       "      <td>-0.658412</td>\n",
       "      <td>-0.675874</td>\n",
       "      <td>-1.075712</td>\n",
       "      <td>-0.652678</td>\n",
       "    </tr>\n",
       "    <tr>\n",
       "      <th>23877</th>\n",
       "      <td>TTHERM_02607240</td>\n",
       "      <td>-0.632436</td>\n",
       "      <td>-0.632436</td>\n",
       "      <td>1.595872</td>\n",
       "      <td>-0.632436</td>\n",
       "      <td>-0.632436</td>\n",
       "      <td>1.566307</td>\n",
       "      <td>-0.632436</td>\n",
       "    </tr>\n",
       "    <tr>\n",
       "      <th>23878</th>\n",
       "      <td>TTHERM_02653450</td>\n",
       "      <td>-0.408248</td>\n",
       "      <td>-0.408248</td>\n",
       "      <td>-0.408248</td>\n",
       "      <td>-0.408248</td>\n",
       "      <td>2.449490</td>\n",
       "      <td>-0.408248</td>\n",
       "      <td>-0.408248</td>\n",
       "    </tr>\n",
       "    <tr>\n",
       "      <th>23879</th>\n",
       "      <td>TTHERM_02653470</td>\n",
       "      <td>1.475274</td>\n",
       "      <td>1.242671</td>\n",
       "      <td>0.532328</td>\n",
       "      <td>-0.510411</td>\n",
       "      <td>-0.882367</td>\n",
       "      <td>-0.588360</td>\n",
       "      <td>-1.269135</td>\n",
       "    </tr>\n",
       "  </tbody>\n",
       "</table>\n",
       "<p>23880 rows × 8 columns</p>\n",
       "</div>"
      ],
      "text/plain": [
       "              TTHERM_ID    000min    030min    060min    090min    120min  \\\n",
       "0      TTHERM_000000042 -1.365347 -1.148579 -0.747968  0.326896  1.162457   \n",
       "1      TTHERM_000000045  1.624606  1.127653 -0.375801 -0.049446 -0.968655   \n",
       "2      TTHERM_000000090  1.142246 -1.681917 -1.085635  0.091523  0.154576   \n",
       "3       TTHERM_00000010  1.990007  1.031465 -0.706626 -0.669459 -0.833015   \n",
       "4       TTHERM_00000020 -0.476728 -0.547781  1.301147 -1.215550  0.859255   \n",
       "...                 ...       ...       ...       ...       ...       ...   \n",
       "23875   TTHERM_02385080  1.330475  0.019369 -1.181160 -0.530563  1.638006   \n",
       "23876   TTHERM_02599230  1.874148  0.986572  0.201956 -0.658412 -0.675874   \n",
       "23877   TTHERM_02607240 -0.632436 -0.632436  1.595872 -0.632436 -0.632436   \n",
       "23878   TTHERM_02653450 -0.408248 -0.408248 -0.408248 -0.408248  2.449490   \n",
       "23879   TTHERM_02653470  1.475274  1.242671  0.532328 -0.510411 -0.882367   \n",
       "\n",
       "         150min    180min  \n",
       "0      1.223924  0.548616  \n",
       "1     -1.415563  0.057206  \n",
       "2      1.283089  0.096118  \n",
       "3     -0.358390 -0.453982  \n",
       "4     -1.091681  1.171338  \n",
       "...         ...       ...  \n",
       "23875 -0.471464 -0.804663  \n",
       "23876 -1.075712 -0.652678  \n",
       "23877  1.566307 -0.632436  \n",
       "23878 -0.408248 -0.408248  \n",
       "23879 -0.588360 -1.269135  \n",
       "\n",
       "[23880 rows x 8 columns]"
      ]
     },
     "execution_count": 8,
     "metadata": {},
     "output_type": "execute_result"
    }
   ],
   "source": [
    "full_filtered_norm_df"
   ]
  },
  {
   "cell_type": "markdown",
   "id": "d03955e5",
   "metadata": {},
   "source": [
    "### LEIDEN CLUSTERING"
   ]
  },
  {
   "cell_type": "code",
   "execution_count": 9,
   "id": "1b2abc21",
   "metadata": {},
   "outputs": [],
   "source": [
    "phases = 'rna_seq'"
   ]
  },
  {
   "cell_type": "code",
   "execution_count": 10,
   "id": "92c456b7",
   "metadata": {},
   "outputs": [],
   "source": [
    "# leiden_label_df_round_1, full_dists, sscore, modularity = clustering_utils.build_label_df(full_filtered_norm_df, phases, random_state=42, n_neighbors=3, leiden_type='modularity')\n",
    "leiden_label_df_round_1, full_dists, sscore, modularity =  clustering_utils.build_label_df(full_filtered_norm_df, phases, random_state=42, n_neighbors=6, leiden_type='cpm', la_res_param=0.030)"
   ]
  },
  {
   "cell_type": "code",
   "execution_count": 11,
   "id": "6b8d5fd8",
   "metadata": {},
   "outputs": [
    {
     "name": "stdout",
     "output_type": "stream",
     "text": [
      "Index(['TTHERM_ID', '000min', '030min', '060min', '090min', '120min', '150min',\n",
      "       '180min'],\n",
      "      dtype='object')\n",
      "Index(['TTHERM_ID', 'label'], dtype='object')\n",
      "23880\n"
     ]
    }
   ],
   "source": [
    "leiden_label_df_round_1_arranged = bokeh_ui_utils.arrange_modules(full_filtered_norm_df, leiden_label_df_round_1, phases) \n",
    "leiden_label_df_round_1_arranged_sorted = leiden_label_df_round_1_arranged.sort_values(by=['label', 'TTHERM_ID'], ascending=False)"
   ]
  },
  {
   "cell_type": "code",
   "execution_count": 12,
   "id": "e48c201d",
   "metadata": {},
   "outputs": [],
   "source": [
    "leiden_label_df_round_1_arranged_sorted.to_csv('./test_nn3_leiden_label_df_round_1.csv', index=False)"
   ]
  },
  {
   "cell_type": "code",
   "execution_count": 13,
   "id": "30ff03ec",
   "metadata": {},
   "outputs": [
    {
     "data": {
      "text/plain": [
       "(0.0831550305635297, 0.6445742228289906)"
      ]
     },
     "execution_count": 13,
     "metadata": {},
     "output_type": "execute_result"
    }
   ],
   "source": [
    "sscore, modularity"
   ]
  },
  {
   "cell_type": "code",
   "execution_count": 14,
   "id": "5d980050",
   "metadata": {},
   "outputs": [
    {
     "data": {
      "text/html": [
       "<div>\n",
       "<style scoped>\n",
       "    .dataframe tbody tr th:only-of-type {\n",
       "        vertical-align: middle;\n",
       "    }\n",
       "\n",
       "    .dataframe tbody tr th {\n",
       "        vertical-align: top;\n",
       "    }\n",
       "\n",
       "    .dataframe thead th {\n",
       "        text-align: right;\n",
       "    }\n",
       "</style>\n",
       "<table border=\"1\" class=\"dataframe\">\n",
       "  <thead>\n",
       "    <tr style=\"text-align: right;\">\n",
       "      <th></th>\n",
       "      <th>TTHERM_ID</th>\n",
       "      <th>label</th>\n",
       "    </tr>\n",
       "  </thead>\n",
       "  <tbody>\n",
       "    <tr>\n",
       "      <th>23387</th>\n",
       "      <td>TTHERM_01321590</td>\n",
       "      <td>1365</td>\n",
       "    </tr>\n",
       "    <tr>\n",
       "      <th>22971</th>\n",
       "      <td>TTHERM_01205260</td>\n",
       "      <td>1365</td>\n",
       "    </tr>\n",
       "    <tr>\n",
       "      <th>22967</th>\n",
       "      <td>TTHERM_01202212</td>\n",
       "      <td>1365</td>\n",
       "    </tr>\n",
       "    <tr>\n",
       "      <th>22437</th>\n",
       "      <td>TTHERM_01104920</td>\n",
       "      <td>1365</td>\n",
       "    </tr>\n",
       "    <tr>\n",
       "      <th>21703</th>\n",
       "      <td>TTHERM_01020680</td>\n",
       "      <td>1365</td>\n",
       "    </tr>\n",
       "  </tbody>\n",
       "</table>\n",
       "</div>"
      ],
      "text/plain": [
       "             TTHERM_ID  label\n",
       "23387  TTHERM_01321590   1365\n",
       "22971  TTHERM_01205260   1365\n",
       "22967  TTHERM_01202212   1365\n",
       "22437  TTHERM_01104920   1365\n",
       "21703  TTHERM_01020680   1365"
      ]
     },
     "execution_count": 14,
     "metadata": {},
     "output_type": "execute_result"
    }
   ],
   "source": [
    "leiden_label_df_round_1_arranged_sorted.head()"
   ]
  },
  {
   "cell_type": "code",
   "execution_count": 15,
   "id": "3b50c719",
   "metadata": {},
   "outputs": [
    {
     "data": {
      "text/plain": [
       "0    1335\n",
       "dtype: int64"
      ]
     },
     "execution_count": 15,
     "metadata": {},
     "output_type": "execute_result"
    }
   ],
   "source": [
    "leiden_label_df_round_1_arranged_sorted['label'].mode()"
   ]
  },
  {
   "cell_type": "code",
   "execution_count": 16,
   "id": "4a52f1d2",
   "metadata": {},
   "outputs": [
    {
     "data": {
      "text/plain": [
       "1365"
      ]
     },
     "execution_count": 16,
     "metadata": {},
     "output_type": "execute_result"
    }
   ],
   "source": [
    "max(leiden_label_df_round_1['label'].values)"
   ]
  }
 ],
 "metadata": {
  "kernelspec": {
   "display_name": "Python 3 (ipykernel)",
   "language": "python",
   "name": "python3"
  },
  "language_info": {
   "codemirror_mode": {
    "name": "ipython",
    "version": 3
   },
   "file_extension": ".py",
   "mimetype": "text/x-python",
   "name": "python",
   "nbconvert_exporter": "python",
   "pygments_lexer": "ipython3",
   "version": "3.9.9"
  }
 },
 "nbformat": 4,
 "nbformat_minor": 5
}

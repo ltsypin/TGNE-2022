{
 "cells": [
  {
   "cell_type": "markdown",
   "id": "2e305761-a971-4232-8a21-5907cfeedfad",
   "metadata": {},
   "source": [
    "## IMPORTS"
   ]
  },
  {
   "cell_type": "code",
   "execution_count": 1,
   "id": "5d9163ea-8dc4-46e8-9542-ba27cc741b52",
   "metadata": {},
   "outputs": [],
   "source": [
    "import pandas as pd\n",
    "import sys\n",
    "from matplotlib import pyplot as plt\n",
    "\n",
    "\n",
    "sys.path.append('../../')\n",
    "from utils import clustering_utils, bokeh_ui_utils"
   ]
  },
  {
   "cell_type": "code",
   "execution_count": 2,
   "id": "20cf4cee",
   "metadata": {},
   "outputs": [
    {
     "data": {
      "text/plain": [
       "20646"
      ]
     },
     "execution_count": 2,
     "metadata": {},
     "output_type": "execute_result"
    }
   ],
   "source": [
    "full_filtered_df = pd.read_csv('../../new_raw_data/rna_seq_processed/kallisto.csv')\n",
    "# full_filtered_df = full_filtered_df.rename(columns={'Unnamed: 0': 'TTHERM_ID'})\n",
    "# full_filtered_norm_df = microarray_utils.normalize_expression_per_gene(full_filtered_df)\n",
    "\n",
    "num_genes = full_filtered_df.shape[0]\n",
    "num_genes"
   ]
  },
  {
   "cell_type": "code",
   "execution_count": 3,
   "id": "ef421c10",
   "metadata": {},
   "outputs": [
    {
     "data": {
      "text/html": [
       "<div>\n",
       "<style scoped>\n",
       "    .dataframe tbody tr th:only-of-type {\n",
       "        vertical-align: middle;\n",
       "    }\n",
       "\n",
       "    .dataframe tbody tr th {\n",
       "        vertical-align: top;\n",
       "    }\n",
       "\n",
       "    .dataframe thead th {\n",
       "        text-align: right;\n",
       "    }\n",
       "</style>\n",
       "<table border=\"1\" class=\"dataframe\">\n",
       "  <thead>\n",
       "    <tr style=\"text-align: right;\">\n",
       "      <th></th>\n",
       "      <th>TTHERM_ID</th>\n",
       "      <th>000min</th>\n",
       "      <th>030min</th>\n",
       "      <th>060min</th>\n",
       "      <th>090min</th>\n",
       "      <th>120min</th>\n",
       "      <th>150min</th>\n",
       "      <th>180min</th>\n",
       "      <th>210min</th>\n",
       "      <th>240min</th>\n",
       "    </tr>\n",
       "  </thead>\n",
       "  <tbody>\n",
       "    <tr>\n",
       "      <th>15719</th>\n",
       "      <td>YF00025056.t1</td>\n",
       "      <td>0.992940</td>\n",
       "      <td>1.000000</td>\n",
       "      <td>0.728544</td>\n",
       "      <td>0.445318</td>\n",
       "      <td>0.310175</td>\n",
       "      <td>0.731130</td>\n",
       "      <td>0.137278</td>\n",
       "      <td>0.077702</td>\n",
       "      <td>0.000000</td>\n",
       "    </tr>\n",
       "    <tr>\n",
       "      <th>13247</th>\n",
       "      <td>YF00021202.t1</td>\n",
       "      <td>0.000000</td>\n",
       "      <td>0.726876</td>\n",
       "      <td>0.531605</td>\n",
       "      <td>1.000000</td>\n",
       "      <td>0.962710</td>\n",
       "      <td>0.761669</td>\n",
       "      <td>0.446559</td>\n",
       "      <td>0.421028</td>\n",
       "      <td>0.273383</td>\n",
       "    </tr>\n",
       "    <tr>\n",
       "      <th>16861</th>\n",
       "      <td>YF00026982.t1</td>\n",
       "      <td>0.437915</td>\n",
       "      <td>0.422867</td>\n",
       "      <td>0.949643</td>\n",
       "      <td>0.978221</td>\n",
       "      <td>0.855760</td>\n",
       "      <td>1.000000</td>\n",
       "      <td>0.576688</td>\n",
       "      <td>0.262898</td>\n",
       "      <td>0.000000</td>\n",
       "    </tr>\n",
       "    <tr>\n",
       "      <th>18427</th>\n",
       "      <td>YF00031454.t1</td>\n",
       "      <td>0.953148</td>\n",
       "      <td>1.000000</td>\n",
       "      <td>0.516643</td>\n",
       "      <td>0.509269</td>\n",
       "      <td>0.341238</td>\n",
       "      <td>0.528134</td>\n",
       "      <td>0.000000</td>\n",
       "      <td>0.045430</td>\n",
       "      <td>0.244370</td>\n",
       "    </tr>\n",
       "    <tr>\n",
       "      <th>6537</th>\n",
       "      <td>YF00010175.t1</td>\n",
       "      <td>0.464829</td>\n",
       "      <td>0.209514</td>\n",
       "      <td>0.142442</td>\n",
       "      <td>0.000000</td>\n",
       "      <td>0.283618</td>\n",
       "      <td>1.000000</td>\n",
       "      <td>0.678518</td>\n",
       "      <td>0.899962</td>\n",
       "      <td>0.567591</td>\n",
       "    </tr>\n",
       "    <tr>\n",
       "      <th>12917</th>\n",
       "      <td>YF00020751.t1</td>\n",
       "      <td>0.336735</td>\n",
       "      <td>0.767643</td>\n",
       "      <td>0.224510</td>\n",
       "      <td>0.000000</td>\n",
       "      <td>0.622677</td>\n",
       "      <td>1.000000</td>\n",
       "      <td>0.740609</td>\n",
       "      <td>0.915078</td>\n",
       "      <td>0.786666</td>\n",
       "    </tr>\n",
       "    <tr>\n",
       "      <th>1157</th>\n",
       "      <td>YF00001624.t1</td>\n",
       "      <td>0.438055</td>\n",
       "      <td>0.000000</td>\n",
       "      <td>0.443615</td>\n",
       "      <td>0.269742</td>\n",
       "      <td>0.547203</td>\n",
       "      <td>1.000000</td>\n",
       "      <td>0.193139</td>\n",
       "      <td>0.424050</td>\n",
       "      <td>0.603378</td>\n",
       "    </tr>\n",
       "    <tr>\n",
       "      <th>13105</th>\n",
       "      <td>YF00021002.t1</td>\n",
       "      <td>0.505537</td>\n",
       "      <td>0.000000</td>\n",
       "      <td>0.109144</td>\n",
       "      <td>0.566672</td>\n",
       "      <td>0.877547</td>\n",
       "      <td>1.000000</td>\n",
       "      <td>0.868132</td>\n",
       "      <td>0.913284</td>\n",
       "      <td>0.873530</td>\n",
       "    </tr>\n",
       "    <tr>\n",
       "      <th>14680</th>\n",
       "      <td>YF00023644.t1</td>\n",
       "      <td>0.804038</td>\n",
       "      <td>0.434900</td>\n",
       "      <td>0.476553</td>\n",
       "      <td>1.000000</td>\n",
       "      <td>0.081879</td>\n",
       "      <td>0.874716</td>\n",
       "      <td>0.373315</td>\n",
       "      <td>0.511035</td>\n",
       "      <td>0.000000</td>\n",
       "    </tr>\n",
       "    <tr>\n",
       "      <th>2825</th>\n",
       "      <td>YF00004390.t1</td>\n",
       "      <td>0.454818</td>\n",
       "      <td>0.024409</td>\n",
       "      <td>0.019822</td>\n",
       "      <td>0.324102</td>\n",
       "      <td>0.000000</td>\n",
       "      <td>0.162129</td>\n",
       "      <td>0.868087</td>\n",
       "      <td>1.000000</td>\n",
       "      <td>0.588300</td>\n",
       "    </tr>\n",
       "  </tbody>\n",
       "</table>\n",
       "</div>"
      ],
      "text/plain": [
       "           TTHERM_ID    000min    030min    060min    090min    120min  \\\n",
       "15719  YF00025056.t1  0.992940  1.000000  0.728544  0.445318  0.310175   \n",
       "13247  YF00021202.t1  0.000000  0.726876  0.531605  1.000000  0.962710   \n",
       "16861  YF00026982.t1  0.437915  0.422867  0.949643  0.978221  0.855760   \n",
       "18427  YF00031454.t1  0.953148  1.000000  0.516643  0.509269  0.341238   \n",
       "6537   YF00010175.t1  0.464829  0.209514  0.142442  0.000000  0.283618   \n",
       "12917  YF00020751.t1  0.336735  0.767643  0.224510  0.000000  0.622677   \n",
       "1157   YF00001624.t1  0.438055  0.000000  0.443615  0.269742  0.547203   \n",
       "13105  YF00021002.t1  0.505537  0.000000  0.109144  0.566672  0.877547   \n",
       "14680  YF00023644.t1  0.804038  0.434900  0.476553  1.000000  0.081879   \n",
       "2825   YF00004390.t1  0.454818  0.024409  0.019822  0.324102  0.000000   \n",
       "\n",
       "         150min    180min    210min    240min  \n",
       "15719  0.731130  0.137278  0.077702  0.000000  \n",
       "13247  0.761669  0.446559  0.421028  0.273383  \n",
       "16861  1.000000  0.576688  0.262898  0.000000  \n",
       "18427  0.528134  0.000000  0.045430  0.244370  \n",
       "6537   1.000000  0.678518  0.899962  0.567591  \n",
       "12917  1.000000  0.740609  0.915078  0.786666  \n",
       "1157   1.000000  0.193139  0.424050  0.603378  \n",
       "13105  1.000000  0.868132  0.913284  0.873530  \n",
       "14680  0.874716  0.373315  0.511035  0.000000  \n",
       "2825   0.162129  0.868087  1.000000  0.588300  "
      ]
     },
     "execution_count": 3,
     "metadata": {},
     "output_type": "execute_result"
    }
   ],
   "source": [
    "full_filtered_df.sample(10)"
   ]
  },
  {
   "cell_type": "markdown",
   "id": "d03955e5",
   "metadata": {},
   "source": [
    "### LEIDEN CLUSTERING"
   ]
  },
  {
   "cell_type": "code",
   "execution_count": 4,
   "id": "1b2abc21",
   "metadata": {},
   "outputs": [],
   "source": [
    "phases = 'rna_seq'"
   ]
  },
  {
   "cell_type": "code",
   "execution_count": 5,
   "id": "27513f92",
   "metadata": {},
   "outputs": [],
   "source": [
    "leiden_label_df_round_1, partition_stats, cluster_sizes, enriched_cluster_sizes =  clustering_utils.build_label_df(\n",
    "    full_filtered_df, \n",
    "    metric='cosine', \n",
    "    n_neighbors=3, \n",
    "    resolution_param=0.035, \n",
    "    partition_type = 'EXP', \n",
    "    n_jobs = -1, \n",
    "    random_state=42\n",
    "    )"
   ]
  },
  {
   "cell_type": "code",
   "execution_count": 6,
   "id": "6b8d5fd8",
   "metadata": {},
   "outputs": [],
   "source": [
    "leiden_label_df_round_1_arranged = bokeh_ui_utils.arrange_modules(full_filtered_df, leiden_label_df_round_1, phases) \n",
    "leiden_label_df_round_1_arranged_sorted = leiden_label_df_round_1_arranged.sort_values(by=['label', 'TTHERM_ID'], ascending=False)\n",
    "leiden_label_df_round_1_arranged_sorted.to_csv('./test_nn3_leiden_label_df_round_1.csv', index=False)"
   ]
  },
  {
   "cell_type": "code",
   "execution_count": 7,
   "id": "c159a31b",
   "metadata": {},
   "outputs": [
    {
     "data": {
      "image/png": "[encoded data removed]",
      "text/plain": [
       "<Figure size 432x288 with 1 Axes>"
      ]
     },
     "metadata": {
      "needs_background": "light"
     },
     "output_type": "display_data"
    }
   ],
   "source": [
    "plt.hist(cluster_sizes, max(cluster_sizes))\n",
    "plt.title('DISTRIBUTION OF ALL CLUSTER SIZES')\n",
    "plt.xlabel('# genes in cluster')\n",
    "plt.ylabel('# clusters')\n",
    "plt.show()"
   ]
  },
  {
   "cell_type": "code",
   "execution_count": 8,
   "id": "74074d2c",
   "metadata": {},
   "outputs": [
    {
     "data": {
      "image/png": "[encoded data removed]",
      "text/plain": [
       "<Figure size 432x288 with 1 Axes>"
      ]
     },
     "metadata": {
      "needs_background": "light"
     },
     "output_type": "display_data"
    }
   ],
   "source": [
    "plt.hist(enriched_cluster_sizes, max(enriched_cluster_sizes))\n",
    "plt.title('DISTRIBUTION OF ENRICHED CLUSTER SIZES')\n",
    "plt.xlabel('# genes in cluster')\n",
    "plt.ylabel('# clusters')\n",
    "plt.show()"
   ]
  },
  {
   "cell_type": "code",
   "execution_count": 9,
   "id": "a5185bac",
   "metadata": {},
   "outputs": [
    {
     "name": "stdout",
     "output_type": "stream",
     "text": [
      "              partition_type: EXP\n",
      "              dimensionality: baseline\n",
      "                      metric: cosine\n",
      "                       graph: umap_fuzzy_simplicial_set\n",
      "                         nns: 3\n",
      "                  clustering: leiden_cpm\n",
      "                   parameter: 0.035\n",
      "            silhouette_score: -0.04231993851414939\n",
      "                  modularity: 0.750778221505107\n",
      "                   nclusters: 1990\n",
      "           mean_cluster_size: 10.374874371859297\n",
      "         median_cluster_size: 10.0\n",
      "             sd_cluster_size: 3.4599171947125877\n",
      "          nenriched_clusters: 210\n",
      "  mean_enriched_cluster_size: 12.061904761904762\n",
      "median_enriched_cluster_size: 11.0\n",
      "    sd_enriched_cluster_size: 3.6030378968542367\n",
      "     nenriched_cluster_genes: 2533\n",
      "                    datetime: 2024-03-29 16:34:12.829902\n"
     ]
    }
   ],
   "source": [
    "key_lens = [len(k) for k in partition_stats.keys()]\n",
    "max_key_len = max(key_lens)\n",
    "\n",
    "for k, v in partition_stats.items():\n",
    "    print(f'{\" \" * (max_key_len - len(k))}{k}:', v)"
   ]
  }
 ],
 "metadata": {
  "kernelspec": {
   "display_name": "Python 3 (ipykernel)",
   "language": "python",
   "name": "python3"
  },
  "language_info": {
   "codemirror_mode": {
    "name": "ipython",
    "version": 3
   },
   "file_extension": ".py",
   "mimetype": "text/x-python",
   "name": "python",
   "nbconvert_exporter": "python",
   "pygments_lexer": "ipython3",
   "version": "3.9.9"
  }
 },
 "nbformat": 4,
 "nbformat_minor": 5
}

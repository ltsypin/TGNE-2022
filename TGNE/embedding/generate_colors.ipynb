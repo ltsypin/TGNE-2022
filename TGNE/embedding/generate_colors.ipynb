{
 "cells": [
  {
   "cell_type": "code",
   "execution_count": 1,
   "metadata": {},
   "outputs": [],
   "source": [
    "import distinctipy\n",
    "import os\n",
    "import pickle\n",
    "\n",
    "# number of colours to generate\n",
    "N = 2000\n",
    "\n",
    "file_name = f'./colors_{N}_1'\n",
    "\n",
    "if not os.path.exists(file_name):\n",
    "    # generate N visually distinct colours\n",
    "    colors = distinctipy.get_colors(N)\n",
    "\n",
    "    def convert_rgb_list_to_hex(rgb_list):\n",
    "        hex_colors = []\n",
    "        for rgb in rgb_list:\n",
    "            r, g, b = rgb\n",
    "            r_hex = int(r * 255)\n",
    "            g_hex = int(g * 255)\n",
    "            b_hex = int(b * 255)\n",
    "            hex_color = \"#{:02X}{:02X}{:02X}\".format(r_hex, g_hex, b_hex)\n",
    "            hex_colors.append(hex_color)\n",
    "        return hex_colors\n",
    "\n",
    "    # Example usage\n",
    "    rgb_colors = colors\n",
    "    hex_colors = convert_rgb_list_to_hex(rgb_colors)\n",
    "\n",
    "    print(colors[0])\n",
    "    print(hex_colors[0:10])\n",
    "\n",
    "    with open(file_name, 'wb') as file:\n",
    "        pickle.dump(hex_colors, file)\n",
    "\n",
    "    # display the colours\n",
    "    distinctipy.color_swatch(colors)"
   ]
  }
 ],
 "metadata": {
  "kernelspec": {
   "display_name": "tgne.env",
   "language": "python",
   "name": "python3"
  },
  "language_info": {
   "codemirror_mode": {
    "name": "ipython",
    "version": 3
   },
   "file_extension": ".py",
   "mimetype": "text/x-python",
   "name": "python",
   "nbconvert_exporter": "python",
   "pygments_lexer": "ipython3",
   "version": "3.8.16"
  }
 },
 "nbformat": 4,
 "nbformat_minor": 2
}

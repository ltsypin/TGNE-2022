{
 "cells": [
  {
   "cell_type": "markdown",
   "id": "2e305761-a971-4232-8a21-5907cfeedfad",
   "metadata": {},
   "source": [
    "## IMPORT PACKAGES"
   ]
  },
  {
   "cell_type": "code",
   "execution_count": null,
   "id": "5d9163ea-8dc4-46e8-9542-ba27cc741b52",
   "metadata": {},
   "outputs": [],
   "source": [
    "import pandas as pd\n",
    "import sys\n",
    "from matplotlib import pyplot as plt\n",
    "import pickle\n",
    "import numpy as np\n",
    "import os\n",
    "\n",
    "sys.path.append('../../')\n",
    "from utils import microarray_utils, clustering_utils, bokeh_ui_utils_final, file_utils"
   ]
  },
  {
   "cell_type": "code",
   "execution_count": null,
   "id": "20cf4cee",
   "metadata": {},
   "outputs": [],
   "source": [
    "full_filtered_df = pd.read_csv('../microarray_probe_alignment_and_filtering/allgood_filt_agg_tidy_2021aligned_qc_rma_expression_full.csv')\n",
    "full_filtered_df = full_filtered_df.rename(columns={'Unnamed: 0': 'TTHERM_ID'})\n",
    "full_filtered_norm_df = microarray_utils.normalize_expression_per_gene(full_filtered_df, z=True)\n",
    "full_filtered_norm_df = microarray_utils.get_arith_mean_expression(full_filtered_norm_df)\n",
    "\n",
    "num_genes = full_filtered_df.shape[0]\n",
    "num_genes"
   ]
  },
  {
   "cell_type": "code",
   "execution_count": null,
   "id": "7417793e",
   "metadata": {},
   "outputs": [],
   "source": [
    "veg_cols = [col for col in full_filtered_df.columns if col[0] != 'C']\n",
    "veg_filtered_df = full_filtered_df[veg_cols]\n",
    "veg_filtered_norm_df = microarray_utils.normalize_expression_per_gene(veg_filtered_df, z=True)\n",
    "veg_filtered_norm_df = microarray_utils.get_arith_mean_expression(veg_filtered_norm_df)"
   ]
  },
  {
   "cell_type": "code",
   "execution_count": null,
   "id": "e76f3df3",
   "metadata": {},
   "outputs": [],
   "source": [
    "sex_cols = [col for col in full_filtered_df.columns if col[0] == 'C']\n",
    "sex_filtered_df = full_filtered_df[['TTHERM_ID'] + sex_cols]\n",
    "sex_filtered_norm_df = microarray_utils.normalize_expression_per_gene(sex_filtered_df, z=True)\n",
    "sex_filtered_norm_df = microarray_utils.get_arith_mean_expression(sex_filtered_norm_df)"
   ]
  },
  {
   "cell_type": "code",
   "execution_count": null,
   "id": "205a5da4",
   "metadata": {},
   "outputs": [],
   "source": [
    "sex_filtered_norm_df.columns"
   ]
  },
  {
   "cell_type": "code",
   "execution_count": null,
   "id": "fc5118f9",
   "metadata": {},
   "outputs": [],
   "source": [
    "veg_filtered_norm_df.columns"
   ]
  },
  {
   "cell_type": "code",
   "execution_count": null,
   "id": "3d9f967f",
   "metadata": {},
   "outputs": [],
   "source": [
    "np.min(veg_filtered_norm_df[veg_filtered_norm_df.columns[1:]]), np.max(sex_filtered_norm_df[sex_filtered_norm_df.columns[1:]])"
   ]
  },
  {
   "cell_type": "markdown",
   "id": "d03955e5",
   "metadata": {},
   "source": [
    "# LEIDEN CLUSTERING"
   ]
  },
  {
   "cell_type": "code",
   "execution_count": null,
   "id": "1b2abc21",
   "metadata": {},
   "outputs": [],
   "source": [
    "phases_list = ['full', 'veg', 'sex']\n",
    "phases = 'full'"
   ]
  },
  {
   "cell_type": "code",
   "execution_count": null,
   "id": "6cabc893",
   "metadata": {},
   "outputs": [],
   "source": [
    "metric = 'manhattan'\n",
    "# metric='minkowski_3.0'\n",
    "\n",
    "resolution_param=0.005\n",
    "# resolution_param=0.0001\n",
    "\n",
    "n_neighbors = 3\n",
    "\n",
    "dataset = 'microarray'"
   ]
  },
  {
   "cell_type": "code",
   "execution_count": null,
   "id": "92c456b7",
   "metadata": {},
   "outputs": [],
   "source": [
    "# Moving normalization from within the function to before the function\n",
    "leiden_label_df_round_1, partition_stats, cluster_sizes, enriched_cluster_sizes =  clustering_utils.build_label_df(\n",
    "    full_filtered_norm_df,\n",
    "    dataset,\n",
    "    metric=metric,\n",
    "    n_neighbors=n_neighbors, \n",
    "    resolution_param=resolution_param, \n",
    "    partition_type = 'EXP', \n",
    "    n_jobs = -1, \n",
    "    random_state=42\n",
    "    )"
   ]
  },
  {
   "cell_type": "code",
   "execution_count": null,
   "id": "898432ff",
   "metadata": {},
   "outputs": [],
   "source": [
    "full_filtered_norm_df.head()"
   ]
  },
  {
   "cell_type": "code",
   "execution_count": null,
   "id": "6b8d5fd8",
   "metadata": {},
   "outputs": [],
   "source": [
    "leiden_label_df_round_1_arranged = bokeh_ui_utils_final.arrange_modules(full_filtered_norm_df, leiden_label_df_round_1, phases) \n",
    "leiden_label_df_round_1_arranged_sorted = leiden_label_df_round_1_arranged.sort_values(by=['label', 'TTHERM_ID'], ascending=False)\n",
    "leiden_label_df_round_1_arranged_sorted.to_csv('./test_nn3_leiden_label_df_round_1.csv', index=False)"
   ]
  },
  {
   "cell_type": "code",
   "execution_count": null,
   "id": "f817c1b7",
   "metadata": {},
   "outputs": [],
   "source": [
    "avg_full_filtered_norm_df = clustering_utils.ari_mean_nexpr_per_mod(full_filtered_norm_df, leiden_label_df_round_1_arranged_sorted)"
   ]
  },
  {
   "cell_type": "code",
   "execution_count": null,
   "id": "68372c7d",
   "metadata": {},
   "outputs": [],
   "source": [
    "plt.hist(cluster_sizes, max(cluster_sizes))\n",
    "plt.title('DISTRIBUTION OF ALL CLUSTER SIZES')\n",
    "plt.xlabel('# genes in cluster')\n",
    "plt.ylabel('# clusters')\n",
    "plt.show()"
   ]
  },
  {
   "cell_type": "code",
   "execution_count": null,
   "id": "0f74b92c",
   "metadata": {},
   "outputs": [],
   "source": [
    "plt.hist(enriched_cluster_sizes, max(enriched_cluster_sizes))\n",
    "plt.title('DISTRIBUTION OF ENRICHED CLUSTER SIZES')\n",
    "plt.xlabel('# genes in cluster')\n",
    "plt.ylabel('# clusters')\n",
    "plt.show()"
   ]
  },
  {
   "cell_type": "code",
   "execution_count": null,
   "id": "27741048",
   "metadata": {},
   "outputs": [],
   "source": [
    "key_lens = [len(k) for k in partition_stats.keys()]\n",
    "max_key_len = max(key_lens)\n",
    "\n",
    "for k, v in partition_stats.items():\n",
    "    print(f'{\" \" * (max_key_len - len(k))}{k}:', v)"
   ]
  },
  {
   "cell_type": "code",
   "execution_count": null,
   "id": "14cf2c58",
   "metadata": {},
   "outputs": [],
   "source": [
    "enrich_full_nn3 = clustering_utils.compute_enrichment(leiden_label_df_round_1_arranged_sorted)"
   ]
  },
  {
   "cell_type": "code",
   "execution_count": null,
   "id": "54833535",
   "metadata": {},
   "outputs": [],
   "source": [
    "outfile='../enrichment/test_nn3_full_enrichment.csv'\n",
    "enrich_full_nn3.to_csv(outfile, index=False)"
   ]
  },
  {
   "cell_type": "code",
   "execution_count": null,
   "id": "f16bb3a2",
   "metadata": {},
   "outputs": [],
   "source": [
    "complete_annot = pd.read_csv('../eggnog/complete_eggnog_annotation.csv')"
   ]
  },
  {
   "cell_type": "code",
   "execution_count": null,
   "id": "e207ff25",
   "metadata": {},
   "outputs": [],
   "source": [
    "palette45 = \"\"\"\n",
    "#51635F\\n#FF1C16\\n#16FC26\\n#403DFC\\n#FE0DCE\\n#F9AA00\\n#00FFD5\\n#22BFFE\\n#BB3551\\n#E6FE97\\n#ECADFF\\n#FFBFBD\\n#CF00F5\\n#0D8B00\\n#D7FEFF\\n#8D7200\\n#F76C00\\n#AD3288\\n#5C5AB8\\n#FC0080\\n#B8FF16\\n#00AAB4\\n#FBE11C\\n#9AAAD9\\n#8BBB8C\\n#934B47\\n#6EFE99\\n#9C6D91\\n#FB9778\\n#9D32AF\\n#D40087\\n#FFDC9D\\n#FF8DB6\\n#A96AFC\\n#FDDDFB\\n#168CF7\\n#FD6CF9\\n#F64553\\n#4D6A00\\n#FAFEDB\\n#A7977D\\n#0DFBFF\\n#86B80D\\n#FD8AE4\\n#B7B126\n",
    "\"\"\".split()\n",
    "\n",
    "palette32 = \"\"\"\n",
    "white\\n#F91622\\n#16FC0D\\n#5138FB\\n#FD00CF\\n#FDD51C\\n#16FDD7\\n#FC8B8E\\n#16BFFF\\n#DF9BFD\\n#669C2A\\n#FEE7C4\\n#F31685\\n#DF16FD\\n#C1F1FE\\n#A23D7E\\n#D5FD0D\\n#8C5A0D\\n#FC790D\\n#4F5CBC\\n#FFCBEF\\n#168D72\\n#68FA93\\n#C4FDC9\\n#F7A449\\n#16789B\\n#AD0DAB\\n#C4262E\\n#0DF1FF\\n#EFF994\\n#B6C1FE\\n#8F22CD\n",
    "\"\"\".split()\n",
    "\n",
    "palette35 = \"\"\"\n",
    "#585F6A\\n#FE1626\\n#00FB0D\\n#2E40FC\\n#FD0DCE\\n#FCD200\\n#F7868C\\n#16FFDC\\n#22BEFB\\n#D28EF6\\n#609000\\n#FFE7C9\\n#F51683\\n#FF730D\\n#CAFE16\\n#AA3586\\n#BEEEFD\\n#BD00FA\\n#895D22\\n#FEC7F0\\n#495AA1\\n#73F995\\n#229270\\n#ED963B\\n#F6FE97\\n#C5FFD0\\n#C50DC8\\n#6993FF\\n#C22A35\\n#16ECFC\\n#AA707E\\n#7A3BCB\\n#7C845C\\n#358FAA\\n#BDBAF6\n",
    "\"\"\".split()\n",
    "\n",
    "palette38 = \"\"\"\n",
    "#636265\\n#F60D16\\n#00F90D\\n#3540FB\\n#FD0DD0\\n#FDDB0D\\n#00FFE2\\n#FA8884\\n#2ABEFE\\n#E5A3FF\\n#518F00\\n#FEFDD5\\n#D51CFF\\n#ED007F\\n#A33879\\n#96731C\\n#C8FB16\\n#C0ECFE\\n#FBC1DA\\n#5658BA\\n#F96900\\n#F69F1C\\n#58FA9C\\n#008E72\\n#BA22B9\\n#167D97\\n#794D8A\\n#CEFE9C\\n#BB222E\\n#954D45\\n#00DCEF\\n#FD66B0\\n#B2FDD3\\n#FDBD9F\\n#A9B4F1\\n#B371FE\\n#849566\\n#2A8EFF\n",
    "\"\"\".split()\n",
    "\n",
    "palette64 = \"\"\"\n",
    "white\\n#FA002E\\n#22FC22\\n#221CFA\\n#FF3DD6\\n#FFDA00\\n#00FEFB\\n#F48684\\n#CEB4FE\\n#FFFFE5\\n#0D933D\\n#CC00F8\\n#800D5D\\n#F10084\\n#22267A\\n#0DADFF\\n#CBFD71\\n#9A761C\\n#F96C00\\n#6399A6\\n#FFBCDA\\n#8D0DA3\\n#F79F26\\n#00FFBF\\n#A37CFB\\n#F68EEB\\n#720D0D\\n#F163AA\\n#7E926A\\n#826386\\n#B41C32\\n#9BEBCE\\n#E2DB83\\n#56D4FA\\n#E6E2FB\\n#925D58\\n#F7C3A7\\n#62E970\\n#220DBD\\n#5583BB\\n#7EA01C\\n#CDFDB6\\n#FD00FB\\n#B30D97\\n#F5FF00\\n#DD77FD\\n#4282FC\\n#BBA6A4\\n#0D8068\\n#AB5F26\\n#F7C26E\\n#9EFE00\\n#9B2EFD\\n#C56887\\n#FD3D68\\n#ABF2FD\\n#835FAC\\n#FF16B1\\n#325371\\n#CA16CA\\n#D26322\\n#AFCFFE\\n#91A1FA\\nfloralwhite\n",
    "\"\"\".split()\n",
    "\n",
    "palette65 = \"\"\"\n",
    "white\\ngainsboro\\n#FA002E\\n#22FC22\\n#221CFA\\n#FF3DD6\\n#FFDA00\\n#00FEFB\\n#F48684\\n#CEB4FE\\n#FFFFE5\\n#0D933D\\n#CC00F8\\n#800D5D\\n#F10084\\n#22267A\\n#0DADFF\\n#CBFD71\\n#9A761C\\n#F96C00\\n#6399A6\\n#FFBCDA\\n#8D0DA3\\n#F79F26\\n#00FFBF\\n#A37CFB\\n#F68EEB\\n#720D0D\\n#F163AA\\n#7E926A\\n#826386\\n#B41C32\\n#9BEBCE\\n#E2DB83\\n#56D4FA\\n#E6E2FB\\n#925D58\\n#F7C3A7\\n#62E970\\n#220DBD\\n#5583BB\\n#7EA01C\\n#CDFDB6\\n#FD00FB\\n#B30D97\\n#F5FF00\\n#DD77FD\\n#4282FC\\n#BBA6A4\\n#0D8068\\n#AB5F26\\n#F7C26E\\n#9EFE00\\n#9B2EFD\\n#C56887\\n#FD3D68\\n#ABF2FD\\n#835FAC\\n#FF16B1\\n#325371\\n#CA16CA\\n#D26322\\n#AFCFFE\\n#91A1FA\\nfloralwhite\n",
    "\"\"\".split()"
   ]
  },
  {
   "cell_type": "code",
   "execution_count": null,
   "id": "19915e39",
   "metadata": {},
   "outputs": [],
   "source": [
    "palette36 = [\"#FFFFFF\", \n",
    "             \"#E4E1E3\", \n",
    "             \"#F6222E\", \n",
    "             \"#FE00FA\", \n",
    "             \"#16FF32\", \n",
    "             \"#3283FE\", \n",
    "             \"#FEAF16\", \n",
    "             \"#B00068\", \n",
    "             \"#1CFFCE\",\n",
    "             \"#90AD1C\", \n",
    "             \"#2ED9FF\", \n",
    "             \"#DEA0FD\", \n",
    "             \"#AA0DFE\", \n",
    "             \"#F8A19F\", \n",
    "             \"#325A9B\", \n",
    "             \"#C4451C\", \n",
    "             \"#1C8356\", \n",
    "             \"#85660D\",\n",
    "             \"#B10DA1\", \n",
    "             \"#FBE426\", \n",
    "             \"#1CBE4F\", \n",
    "             \"#FA0087\", \n",
    "             \"#FC1CBF\", \n",
    "             \"#F7E1A0\", \n",
    "             \"#C075A6\", \n",
    "             \"#782AB6\", \n",
    "             \"#AAF400\",\n",
    "             \"#BDCDFF\", \n",
    "             \"#822E1C\", \n",
    "             \"#B5EFB5\", \n",
    "             \"#7ED7D1\", \n",
    "             \"#1C7F93\", \n",
    "             \"#D85FF7\", \n",
    "             \"#683B79\", \n",
    "             \"#66B0FF\", \n",
    "             \"#3B00FB\",\n",
    "             \"magenta\"]"
   ]
  },
  {
   "cell_type": "markdown",
   "id": "0134123d",
   "metadata": {},
   "source": [
    "change index 5 to #778899. Change index 9 to #2F4F4F. Add #FF7F50. Change index 9 to #FFBCD9. Change index 14 to #DEA5A4"
   ]
  },
  {
   "cell_type": "code",
   "execution_count": null,
   "id": "88021772",
   "metadata": {},
   "outputs": [],
   "source": [
    "palette27 = [\"#FFFFFF\", \n",
    "             \"#AA0DFE\", \n",
    "             \"#3283FE\", \n",
    "             \"#85660D\", \n",
    "             \"#782AB6\", \n",
    "             \"#778899\", \n",
    "             \"#1C8356\", \n",
    "             \"#16FF32\", \n",
    "             \"#F7E1A0\", \n",
    "#              \"#2F4F4F\",\n",
    "             \"#FFBCD9\", \n",
    "             \"#C4451C\", \n",
    "             \"#DEA0FD\", \n",
    "             \"#FE00FA\", \n",
    "#              \"#325A9B\", \n",
    "             \"#FEAF16\", \n",
    "             \"#DEA5A4\", \n",
    "             \"#90AD1C\", \n",
    "             \"#F6222E\",\n",
    "             \"#1CFFCE\", \n",
    "             \"#2ED9FF\", \n",
    "             \"#B10DA1\", \n",
    "#              \"#C075A6\", \n",
    "#              \"#FC1CBF\", \n",
    "#              \"#B00068\", \n",
    "             \"#FBE426\", \n",
    "             \"#FA0087\",\n",
    "             \"#FF7F50\"\n",
    "            ]"
   ]
  },
  {
   "cell_type": "code",
   "execution_count": null,
   "id": "e8e8365e",
   "metadata": {},
   "outputs": [],
   "source": [
    "with open(('colors_2000_1'), 'rb') as file:\n",
    "    color_palette_raw = pickle.load(file)\n",
    "\n",
    "color_palette = palette65\n",
    "\n",
    "if len(color_palette_raw) >= max(leiden_label_df_round_1_arranged_sorted['label'].unique()) + 1:\n",
    "    color_palette = color_palette_raw[:max(leiden_label_df_round_1_arranged_sorted['label'].unique()) + 1]"
   ]
  },
  {
   "cell_type": "code",
   "execution_count": null,
   "id": "55a2f92c",
   "metadata": {},
   "outputs": [],
   "source": [
    "# yf_to_ttherm_map_df = pd.read_csv('../../new_raw_data/tgd2024/yf_ttherm_mapping_may2024.csv')\n",
    "# yf_to_ttherm_map_df.rename(columns={'TTHERM_ID': 'TTHERM_IDs', 'YF_ID': 'TTHERM_ID'},inplace=True)\n",
    "yf_to_ttherm_map_df = None"
   ]
  },
  {
   "cell_type": "code",
   "execution_count": null,
   "id": "4ee0f5f4",
   "metadata": {},
   "outputs": [],
   "source": [
    "embedding_metric='manhattan'\n",
    "\n",
    "dashboard_path = file_utils.generate_uniquely_numbered_export_path('./plots/', 'dashboard', '.html', tags=['microarr', 'umap', metric, f'{n_neighbors}nn', f'{resolution_param}rp'])\n",
    "\n",
    "p = bokeh_ui_utils_final.generate_and_save_umap(dashboard_path, full_filtered_norm_df, complete_annot, leiden_label_df_round_1_arranged_sorted, phases, color_palette, os.path.basename(dashboard_path), expr_min=-3, expr_max=3, n_neighbors=n_neighbors, embedding_metric=embedding_metric, yf_to_ttherm_map_df=yf_to_ttherm_map_df, avg_df=avg_full_filtered_norm_df)"
   ]
  },
  {
   "cell_type": "code",
   "execution_count": null,
   "id": "d0fd2687",
   "metadata": {},
   "outputs": [],
   "source": [
    "def run_over_all_phases(metric='manhattan', \n",
    "                        resolution_param=0.005, \n",
    "                        n_neighbors=3,\n",
    "                        dataset='microarray'\n",
    "                        ):\n",
    "\n",
    "\n",
    "    with open(('colors_2000_1'), 'rb') as file:\n",
    "        color_palette_raw = pickle.load(file)\n",
    "\n",
    "    color_palette = palette65\n",
    "\n",
    "    complete_annot = pd.read_csv('../eggnog/complete_eggnog_annotation.csv')\n",
    "    phases_list = ['full', 'veg', 'sex']\n",
    "\n",
    "    full_filtered_df = pd.read_csv('../microarray_probe_alignment_and_filtering/allgood_filt_agg_tidy_2021aligned_qc_rma_expression_full.csv')\n",
    "    full_filtered_df = full_filtered_df.rename(columns={'Unnamed: 0': 'TTHERM_ID'})\n",
    "    full_filtered_norm_df = microarray_utils.normalize_expression_per_gene(full_filtered_df, z=True)\n",
    "    full_filtered_norm_df = microarray_utils.get_arith_mean_expression(full_filtered_norm_df)\n",
    "\n",
    "    veg_cols = [col for col in full_filtered_df.columns if col[0] != 'C']\n",
    "    veg_filtered_df = full_filtered_df[veg_cols]\n",
    "    veg_filtered_norm_df = microarray_utils.normalize_expression_per_gene(veg_filtered_df, z=True)\n",
    "    veg_filtered_norm_df = microarray_utils.get_arith_mean_expression(veg_filtered_norm_df)\n",
    "\n",
    "    sex_cols = [col for col in full_filtered_df.columns if col[0] == 'C']\n",
    "    sex_filtered_df = full_filtered_df[['TTHERM_ID'] + sex_cols]\n",
    "    sex_filtered_norm_df = microarray_utils.normalize_expression_per_gene(sex_filtered_df, z=True)\n",
    "    sex_filtered_norm_df = microarray_utils.get_arith_mean_expression(sex_filtered_norm_df)\n",
    "\n",
    "    metric = metric\n",
    "    # metric='minkowski_3.0'\n",
    "\n",
    "    resolution_param=resolution_param\n",
    "    # resolution_param=0.0001\n",
    "\n",
    "    n_neighbors = n_neighbors\n",
    "\n",
    "    dataset = dataset\n",
    "\n",
    "\n",
    "\n",
    "    for phase, ndf in zip(phases_list, [full_filtered_norm_df, veg_filtered_norm_df, sex_filtered_norm_df]):\n",
    "\n",
    "        leiden_label_df_round_1, partition_stats, cluster_sizes, enriched_cluster_sizes =  clustering_utils.build_label_df(\n",
    "            ndf,\n",
    "            dataset,\n",
    "            metric=metric,\n",
    "            n_neighbors=n_neighbors, \n",
    "            resolution_param=resolution_param, \n",
    "            partition_type = 'EXP', \n",
    "            n_jobs = -1, \n",
    "            random_state=42\n",
    "        )\n",
    "        \n",
    "        print()\n",
    "        print(phase)\n",
    "\n",
    "        key_lens = [len(k) for k in partition_stats.keys()]\n",
    "        max_key_len = max(key_lens)\n",
    "\n",
    "        for k, v in partition_stats.items():\n",
    "            print(f'{\" \" * (max_key_len - len(k))}{k}:', v)\n",
    "\n",
    "        print()\n",
    "\n",
    "        \n",
    "        leiden_label_df_round_1_arranged = bokeh_ui_utils_final.arrange_modules(\n",
    "            ndf, \n",
    "            leiden_label_df_round_1, \n",
    "            phase\n",
    "        )\n",
    "\n",
    "        leiden_label_df_round_1_arranged_sorted = leiden_label_df_round_1_arranged.sort_values(by=['label', 'TTHERM_ID'], ascending=False)\n",
    "\n",
    "        avg_full_filtered_norm_df = clustering_utils.ari_mean_nexpr_per_mod(ndf, leiden_label_df_round_1_arranged_sorted)\n",
    "\n",
    "        leiden_label_df_round_1_arranged_sorted.to_csv('./test_nn3_leiden_label_df_round_1.csv', index=False)\n",
    "\n",
    "        enrich_full_nn3 = clustering_utils.compute_enrichment(leiden_label_df_round_1_arranged_sorted)\n",
    "\n",
    "        outfile='../enrichment/test_nn3_full_enrichment.csv'\n",
    "        enrich_full_nn3.to_csv(outfile, index=False)\n",
    "\n",
    "        embedding_metric='manhattan'\n",
    "\n",
    "        dashboard_path = file_utils.generate_uniquely_numbered_export_path('./plots/', 'dashboard', '.html', tags=['microarr', 'umap', metric, f'{n_neighbors}nn', f'{resolution_param}rp'])\n",
    "\n",
    "        if len(color_palette_raw) >= max(leiden_label_df_round_1_arranged_sorted['label'].unique()) + 1:\n",
    "            color_palette = color_palette_raw[:max(leiden_label_df_round_1_arranged_sorted['label'].unique()) + 1]\n",
    "\n",
    "        p = bokeh_ui_utils_final.generate_and_save_umap(dashboard_path, ndf, complete_annot, leiden_label_df_round_1_arranged_sorted, phase, color_palette, os.path.basename(dashboard_path), expr_min=-3, expr_max=3, n_neighbors=n_neighbors, embedding_metric=embedding_metric, yf_to_ttherm_map_df=yf_to_ttherm_map_df, avg_df=avg_full_filtered_norm_df)\n",
    "\n",
    "    \n",
    "\n",
    "    \n",
    "    "
   ]
  },
  {
   "cell_type": "code",
   "execution_count": null,
   "id": "afb08e65",
   "metadata": {},
   "outputs": [],
   "source": [
    "run_over_all_phases()"
   ]
  },
  {
   "cell_type": "code",
   "execution_count": null,
   "id": "5f65ebfa",
   "metadata": {},
   "outputs": [],
   "source": [
    "mucocyst_cluster = [\n",
    "'YF00036312.t1',\n",
    "'YF00012829.t1',\n",
    "'YF00000889.t1',\n",
    "'TTHERM_00527180',\n",
    "'TTHERM_00335830',\n",
    "'YF00012830.t1',\n",
    "'YF00009126.t1',\n",
    "'YF00005954.t1',\n",
    "'YF00005804.t1',\n",
    "'TTHERM_01055600',\n",
    "'TTHERM_00624720',\n",
    "] # TTHERM_00630470: mucocyst gene with drastically different expression profile"
   ]
  },
  {
   "cell_type": "code",
   "execution_count": null,
   "id": "7b8f206b",
   "metadata": {},
   "outputs": [],
   "source": [
    "print(','.join(mucocyst_cluster))"
   ]
  },
  {
   "cell_type": "code",
   "execution_count": null,
   "id": "3a74c114",
   "metadata": {},
   "outputs": [],
   "source": [
    "clustering_utils.fraction_max_same_cluster_genes(mucocyst_cluster, leiden_label_df_round_1_arranged_sorted)"
   ]
  }
 ],
 "metadata": {
  "kernelspec": {
   "display_name": "Python 3 (ipykernel)",
   "language": "python",
   "name": "python3"
  },
  "language_info": {
   "codemirror_mode": {
    "name": "ipython",
    "version": 3
   },
   "file_extension": ".py",
   "mimetype": "text/x-python",
   "name": "python",
   "nbconvert_exporter": "python",
   "pygments_lexer": "ipython3",
   "version": "3.8.16"
  }
 },
 "nbformat": 4,
 "nbformat_minor": 5
}

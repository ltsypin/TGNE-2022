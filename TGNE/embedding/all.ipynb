{
 "cells": [
  {
   "cell_type": "markdown",
   "id": "2e305761-a971-4232-8a21-5907cfeedfad",
   "metadata": {},
   "source": [
    "## IMPORT PACKAGES"
   ]
  },
  {
   "cell_type": "code",
   "execution_count": 1,
   "id": "5d9163ea-8dc4-46e8-9542-ba27cc741b52",
   "metadata": {},
   "outputs": [],
   "source": [
    "import pandas as pd\n",
    "import sys\n",
    "from matplotlib import pyplot as plt\n",
    "import pickle\n",
    "\n",
    "sys.path.append('../../')\n",
    "from utils import microarray_utils, clustering_utils, bokeh_ui_utils, file_utils"
   ]
  },
  {
   "cell_type": "code",
   "execution_count": 2,
   "id": "1452bedd",
   "metadata": {},
   "outputs": [
    {
     "data": {
      "text/plain": [
       "'2.3.1'"
      ]
     },
     "execution_count": 2,
     "metadata": {},
     "output_type": "execute_result"
    }
   ],
   "source": [
    "import bokeh\n",
    "bokeh.__version__"
   ]
  },
  {
   "cell_type": "code",
   "execution_count": 3,
   "id": "20cf4cee",
   "metadata": {},
   "outputs": [
    {
     "data": {
      "text/plain": [
       "19152"
      ]
     },
     "execution_count": 3,
     "metadata": {},
     "output_type": "execute_result"
    }
   ],
   "source": [
    "full_filtered_df = pd.read_csv('../microarray_probe_alignment_and_filtering/allgood_filt_agg_tidy_2021aligned_qc_rma_expression_full.csv')\n",
    "full_filtered_df = full_filtered_df.rename(columns={'Unnamed: 0': 'TTHERM_ID'})\n",
    "num_genes = full_filtered_df.shape[0]\n",
    "num_genes"
   ]
  },
  {
   "cell_type": "code",
   "execution_count": 4,
   "id": "07cfa785",
   "metadata": {},
   "outputs": [
    {
     "data": {
      "text/html": [
       "<div>\n",
       "<style scoped>\n",
       "    .dataframe tbody tr th:only-of-type {\n",
       "        vertical-align: middle;\n",
       "    }\n",
       "\n",
       "    .dataframe tbody tr th {\n",
       "        vertical-align: top;\n",
       "    }\n",
       "\n",
       "    .dataframe thead th {\n",
       "        text-align: right;\n",
       "    }\n",
       "</style>\n",
       "<table border=\"1\" class=\"dataframe\">\n",
       "  <thead>\n",
       "    <tr style=\"text-align: right;\">\n",
       "      <th></th>\n",
       "      <th>TTHERM_ID</th>\n",
       "      <th>Ll_GSM283687</th>\n",
       "      <th>Ll_GSM284355</th>\n",
       "      <th>Ll_GSM284362</th>\n",
       "      <th>Lm_GSM283690</th>\n",
       "      <th>Lm_GSM284357</th>\n",
       "      <th>Lm_GSM284363</th>\n",
       "      <th>Lh_GSM283691</th>\n",
       "      <th>Lh_GSM284360</th>\n",
       "      <th>Lh_GSM284364</th>\n",
       "      <th>...</th>\n",
       "      <th>C12_GSM656237</th>\n",
       "      <th>C14_GSM285580</th>\n",
       "      <th>C14_GSM285593</th>\n",
       "      <th>C14_GSM656238</th>\n",
       "      <th>C16_GSM285582</th>\n",
       "      <th>C16_GSM285595</th>\n",
       "      <th>C16_GSM656239</th>\n",
       "      <th>C18_GSM285583</th>\n",
       "      <th>C18_GSM285596</th>\n",
       "      <th>C18_GSM656240</th>\n",
       "    </tr>\n",
       "  </thead>\n",
       "  <tbody>\n",
       "    <tr>\n",
       "      <th>10140</th>\n",
       "      <td>YF00017500.t1</td>\n",
       "      <td>10.854641</td>\n",
       "      <td>9.984090</td>\n",
       "      <td>10.304605</td>\n",
       "      <td>10.856884</td>\n",
       "      <td>11.573875</td>\n",
       "      <td>11.373214</td>\n",
       "      <td>11.247355</td>\n",
       "      <td>10.775984</td>\n",
       "      <td>11.356440</td>\n",
       "      <td>...</td>\n",
       "      <td>11.964755</td>\n",
       "      <td>11.223256</td>\n",
       "      <td>11.769687</td>\n",
       "      <td>11.881161</td>\n",
       "      <td>11.741107</td>\n",
       "      <td>12.825482</td>\n",
       "      <td>11.813334</td>\n",
       "      <td>12.005283</td>\n",
       "      <td>12.323342</td>\n",
       "      <td>12.234425</td>\n",
       "    </tr>\n",
       "    <tr>\n",
       "      <th>7982</th>\n",
       "      <td>YF00013812.t1</td>\n",
       "      <td>11.403062</td>\n",
       "      <td>10.826407</td>\n",
       "      <td>11.187501</td>\n",
       "      <td>11.994635</td>\n",
       "      <td>11.434613</td>\n",
       "      <td>10.905157</td>\n",
       "      <td>12.482205</td>\n",
       "      <td>10.162815</td>\n",
       "      <td>10.834993</td>\n",
       "      <td>...</td>\n",
       "      <td>10.745690</td>\n",
       "      <td>10.104115</td>\n",
       "      <td>10.201435</td>\n",
       "      <td>10.403792</td>\n",
       "      <td>9.935709</td>\n",
       "      <td>10.398375</td>\n",
       "      <td>11.179772</td>\n",
       "      <td>10.062815</td>\n",
       "      <td>10.453695</td>\n",
       "      <td>11.393071</td>\n",
       "    </tr>\n",
       "    <tr>\n",
       "      <th>13421</th>\n",
       "      <td>YF00022987.t1</td>\n",
       "      <td>4.529341</td>\n",
       "      <td>4.615506</td>\n",
       "      <td>4.765388</td>\n",
       "      <td>5.199718</td>\n",
       "      <td>5.685766</td>\n",
       "      <td>4.839165</td>\n",
       "      <td>4.556785</td>\n",
       "      <td>4.963769</td>\n",
       "      <td>5.188297</td>\n",
       "      <td>...</td>\n",
       "      <td>4.389981</td>\n",
       "      <td>4.126001</td>\n",
       "      <td>4.499916</td>\n",
       "      <td>4.127506</td>\n",
       "      <td>4.609187</td>\n",
       "      <td>4.715657</td>\n",
       "      <td>4.630132</td>\n",
       "      <td>4.762991</td>\n",
       "      <td>4.809859</td>\n",
       "      <td>4.657737</td>\n",
       "    </tr>\n",
       "    <tr>\n",
       "      <th>2425</th>\n",
       "      <td>YF00003989.t1</td>\n",
       "      <td>11.280765</td>\n",
       "      <td>12.088746</td>\n",
       "      <td>11.306502</td>\n",
       "      <td>11.335679</td>\n",
       "      <td>12.104916</td>\n",
       "      <td>11.471329</td>\n",
       "      <td>11.636523</td>\n",
       "      <td>12.172695</td>\n",
       "      <td>11.368089</td>\n",
       "      <td>...</td>\n",
       "      <td>9.521738</td>\n",
       "      <td>11.040060</td>\n",
       "      <td>10.705321</td>\n",
       "      <td>10.305258</td>\n",
       "      <td>10.655679</td>\n",
       "      <td>10.257871</td>\n",
       "      <td>10.484681</td>\n",
       "      <td>10.199732</td>\n",
       "      <td>10.290395</td>\n",
       "      <td>9.967985</td>\n",
       "    </tr>\n",
       "    <tr>\n",
       "      <th>11414</th>\n",
       "      <td>YF00019522.t1</td>\n",
       "      <td>5.365251</td>\n",
       "      <td>5.107349</td>\n",
       "      <td>5.212590</td>\n",
       "      <td>5.612953</td>\n",
       "      <td>5.515832</td>\n",
       "      <td>5.318613</td>\n",
       "      <td>5.684684</td>\n",
       "      <td>4.840822</td>\n",
       "      <td>4.965724</td>\n",
       "      <td>...</td>\n",
       "      <td>9.029526</td>\n",
       "      <td>7.095987</td>\n",
       "      <td>8.123674</td>\n",
       "      <td>9.422130</td>\n",
       "      <td>7.051275</td>\n",
       "      <td>7.393901</td>\n",
       "      <td>7.418616</td>\n",
       "      <td>7.630769</td>\n",
       "      <td>6.988724</td>\n",
       "      <td>7.418192</td>\n",
       "    </tr>\n",
       "    <tr>\n",
       "      <th>4339</th>\n",
       "      <td>YF00007002.t1</td>\n",
       "      <td>9.510449</td>\n",
       "      <td>8.978945</td>\n",
       "      <td>9.258492</td>\n",
       "      <td>8.822263</td>\n",
       "      <td>8.694136</td>\n",
       "      <td>9.327772</td>\n",
       "      <td>9.084654</td>\n",
       "      <td>9.326300</td>\n",
       "      <td>9.718946</td>\n",
       "      <td>...</td>\n",
       "      <td>9.294326</td>\n",
       "      <td>8.662065</td>\n",
       "      <td>8.320734</td>\n",
       "      <td>9.065390</td>\n",
       "      <td>8.712159</td>\n",
       "      <td>8.657898</td>\n",
       "      <td>9.077647</td>\n",
       "      <td>8.847923</td>\n",
       "      <td>8.670636</td>\n",
       "      <td>8.742311</td>\n",
       "    </tr>\n",
       "    <tr>\n",
       "      <th>17114</th>\n",
       "      <td>YF00030434.t1</td>\n",
       "      <td>13.009502</td>\n",
       "      <td>11.904660</td>\n",
       "      <td>13.232043</td>\n",
       "      <td>12.674767</td>\n",
       "      <td>12.669700</td>\n",
       "      <td>13.078632</td>\n",
       "      <td>13.488355</td>\n",
       "      <td>12.652348</td>\n",
       "      <td>12.933989</td>\n",
       "      <td>...</td>\n",
       "      <td>11.580032</td>\n",
       "      <td>13.108120</td>\n",
       "      <td>12.897009</td>\n",
       "      <td>11.118434</td>\n",
       "      <td>13.114855</td>\n",
       "      <td>13.212522</td>\n",
       "      <td>12.241851</td>\n",
       "      <td>13.275186</td>\n",
       "      <td>13.320242</td>\n",
       "      <td>12.484662</td>\n",
       "    </tr>\n",
       "    <tr>\n",
       "      <th>14620</th>\n",
       "      <td>YF00024757.t1</td>\n",
       "      <td>12.088734</td>\n",
       "      <td>12.494191</td>\n",
       "      <td>11.993965</td>\n",
       "      <td>11.733624</td>\n",
       "      <td>12.065483</td>\n",
       "      <td>12.001755</td>\n",
       "      <td>11.311247</td>\n",
       "      <td>11.868775</td>\n",
       "      <td>11.364312</td>\n",
       "      <td>...</td>\n",
       "      <td>10.001633</td>\n",
       "      <td>10.583980</td>\n",
       "      <td>10.365482</td>\n",
       "      <td>9.943819</td>\n",
       "      <td>10.579536</td>\n",
       "      <td>10.290509</td>\n",
       "      <td>9.823648</td>\n",
       "      <td>10.156667</td>\n",
       "      <td>10.336672</td>\n",
       "      <td>9.938751</td>\n",
       "    </tr>\n",
       "    <tr>\n",
       "      <th>6305</th>\n",
       "      <td>YF00010769.t1</td>\n",
       "      <td>7.406152</td>\n",
       "      <td>6.627411</td>\n",
       "      <td>7.242547</td>\n",
       "      <td>7.315943</td>\n",
       "      <td>7.041346</td>\n",
       "      <td>6.928962</td>\n",
       "      <td>7.572496</td>\n",
       "      <td>7.423817</td>\n",
       "      <td>7.556765</td>\n",
       "      <td>...</td>\n",
       "      <td>9.425774</td>\n",
       "      <td>7.973271</td>\n",
       "      <td>7.924064</td>\n",
       "      <td>8.808519</td>\n",
       "      <td>8.305724</td>\n",
       "      <td>8.507060</td>\n",
       "      <td>8.258265</td>\n",
       "      <td>8.446475</td>\n",
       "      <td>8.840796</td>\n",
       "      <td>8.600716</td>\n",
       "    </tr>\n",
       "    <tr>\n",
       "      <th>16667</th>\n",
       "      <td>YF00028698.t1</td>\n",
       "      <td>6.261007</td>\n",
       "      <td>5.005024</td>\n",
       "      <td>5.812747</td>\n",
       "      <td>4.626227</td>\n",
       "      <td>5.039388</td>\n",
       "      <td>7.031664</td>\n",
       "      <td>5.199001</td>\n",
       "      <td>5.123980</td>\n",
       "      <td>5.993328</td>\n",
       "      <td>...</td>\n",
       "      <td>4.825166</td>\n",
       "      <td>4.109759</td>\n",
       "      <td>4.428730</td>\n",
       "      <td>4.372497</td>\n",
       "      <td>4.588414</td>\n",
       "      <td>4.114424</td>\n",
       "      <td>4.436114</td>\n",
       "      <td>4.238606</td>\n",
       "      <td>4.433181</td>\n",
       "      <td>5.876395</td>\n",
       "    </tr>\n",
       "  </tbody>\n",
       "</table>\n",
       "<p>10 rows × 48 columns</p>\n",
       "</div>"
      ],
      "text/plain": [
       "           TTHERM_ID  Ll_GSM283687  Ll_GSM284355  Ll_GSM284362  Lm_GSM283690  \\\n",
       "10140  YF00017500.t1     10.854641      9.984090     10.304605     10.856884   \n",
       "7982   YF00013812.t1     11.403062     10.826407     11.187501     11.994635   \n",
       "13421  YF00022987.t1      4.529341      4.615506      4.765388      5.199718   \n",
       "2425   YF00003989.t1     11.280765     12.088746     11.306502     11.335679   \n",
       "11414  YF00019522.t1      5.365251      5.107349      5.212590      5.612953   \n",
       "4339   YF00007002.t1      9.510449      8.978945      9.258492      8.822263   \n",
       "17114  YF00030434.t1     13.009502     11.904660     13.232043     12.674767   \n",
       "14620  YF00024757.t1     12.088734     12.494191     11.993965     11.733624   \n",
       "6305   YF00010769.t1      7.406152      6.627411      7.242547      7.315943   \n",
       "16667  YF00028698.t1      6.261007      5.005024      5.812747      4.626227   \n",
       "\n",
       "       Lm_GSM284357  Lm_GSM284363  Lh_GSM283691  Lh_GSM284360  Lh_GSM284364  \\\n",
       "10140     11.573875     11.373214     11.247355     10.775984     11.356440   \n",
       "7982      11.434613     10.905157     12.482205     10.162815     10.834993   \n",
       "13421      5.685766      4.839165      4.556785      4.963769      5.188297   \n",
       "2425      12.104916     11.471329     11.636523     12.172695     11.368089   \n",
       "11414      5.515832      5.318613      5.684684      4.840822      4.965724   \n",
       "4339       8.694136      9.327772      9.084654      9.326300      9.718946   \n",
       "17114     12.669700     13.078632     13.488355     12.652348     12.933989   \n",
       "14620     12.065483     12.001755     11.311247     11.868775     11.364312   \n",
       "6305       7.041346      6.928962      7.572496      7.423817      7.556765   \n",
       "16667      5.039388      7.031664      5.199001      5.123980      5.993328   \n",
       "\n",
       "       ...  C12_GSM656237  C14_GSM285580  C14_GSM285593  C14_GSM656238  \\\n",
       "10140  ...      11.964755      11.223256      11.769687      11.881161   \n",
       "7982   ...      10.745690      10.104115      10.201435      10.403792   \n",
       "13421  ...       4.389981       4.126001       4.499916       4.127506   \n",
       "2425   ...       9.521738      11.040060      10.705321      10.305258   \n",
       "11414  ...       9.029526       7.095987       8.123674       9.422130   \n",
       "4339   ...       9.294326       8.662065       8.320734       9.065390   \n",
       "17114  ...      11.580032      13.108120      12.897009      11.118434   \n",
       "14620  ...      10.001633      10.583980      10.365482       9.943819   \n",
       "6305   ...       9.425774       7.973271       7.924064       8.808519   \n",
       "16667  ...       4.825166       4.109759       4.428730       4.372497   \n",
       "\n",
       "       C16_GSM285582  C16_GSM285595  C16_GSM656239  C18_GSM285583  \\\n",
       "10140      11.741107      12.825482      11.813334      12.005283   \n",
       "7982        9.935709      10.398375      11.179772      10.062815   \n",
       "13421       4.609187       4.715657       4.630132       4.762991   \n",
       "2425       10.655679      10.257871      10.484681      10.199732   \n",
       "11414       7.051275       7.393901       7.418616       7.630769   \n",
       "4339        8.712159       8.657898       9.077647       8.847923   \n",
       "17114      13.114855      13.212522      12.241851      13.275186   \n",
       "14620      10.579536      10.290509       9.823648      10.156667   \n",
       "6305        8.305724       8.507060       8.258265       8.446475   \n",
       "16667       4.588414       4.114424       4.436114       4.238606   \n",
       "\n",
       "       C18_GSM285596  C18_GSM656240  \n",
       "10140      12.323342      12.234425  \n",
       "7982       10.453695      11.393071  \n",
       "13421       4.809859       4.657737  \n",
       "2425       10.290395       9.967985  \n",
       "11414       6.988724       7.418192  \n",
       "4339        8.670636       8.742311  \n",
       "17114      13.320242      12.484662  \n",
       "14620      10.336672       9.938751  \n",
       "6305        8.840796       8.600716  \n",
       "16667       4.433181       5.876395  \n",
       "\n",
       "[10 rows x 48 columns]"
      ]
     },
     "execution_count": 4,
     "metadata": {},
     "output_type": "execute_result"
    }
   ],
   "source": [
    "full_filtered_df.sample(10)"
   ]
  },
  {
   "cell_type": "code",
   "execution_count": 5,
   "id": "e02096fa",
   "metadata": {},
   "outputs": [],
   "source": [
    "full_filtered_norm_df = microarray_utils.normalize_expression_per_gene(full_filtered_df)"
   ]
  },
  {
   "cell_type": "markdown",
   "id": "d03955e5",
   "metadata": {},
   "source": [
    "# LEIDEN CLUSTERING"
   ]
  },
  {
   "cell_type": "code",
   "execution_count": 6,
   "id": "1b2abc21",
   "metadata": {},
   "outputs": [],
   "source": [
    "phases = 'full'"
   ]
  },
  {
   "cell_type": "code",
   "execution_count": 7,
   "id": "6cabc893",
   "metadata": {},
   "outputs": [],
   "source": [
    "metric = 'manhattan'\n",
    "# metric='minkowski_3.0'\n",
    "\n",
    "resolution_param=0.050\n",
    "# resolution_param=0.005\n",
    "\n",
    "n_neighbors = 3"
   ]
  },
  {
   "cell_type": "code",
   "execution_count": 8,
   "id": "92c456b7",
   "metadata": {},
   "outputs": [],
   "source": [
    "leiden_label_df_round_1, partition_stats, cluster_sizes, enriched_cluster_sizes =  clustering_utils.build_label_df(\n",
    "    full_filtered_df, \n",
    "    metric=metric,\n",
    "    n_neighbors=n_neighbors, \n",
    "    resolution_param=resolution_param, \n",
    "    partition_type = 'EXP', \n",
    "    n_jobs = -1, \n",
    "    random_state=42\n",
    "    )"
   ]
  },
  {
   "cell_type": "code",
   "execution_count": 9,
   "id": "6b8d5fd8",
   "metadata": {},
   "outputs": [],
   "source": [
    "leiden_label_df_round_1_arranged = bokeh_ui_utils.arrange_modules(full_filtered_norm_df, leiden_label_df_round_1, phases) \n",
    "leiden_label_df_round_1_arranged_sorted = leiden_label_df_round_1_arranged.sort_values(by=['label', 'TTHERM_ID'], ascending=False)\n",
    "leiden_label_df_round_1_arranged_sorted.to_csv('./test_nn3_leiden_label_df_round_1.csv', index=False)"
   ]
  },
  {
   "cell_type": "code",
   "execution_count": 10,
   "id": "68372c7d",
   "metadata": {},
   "outputs": [
    {
     "data": {
      "image/png": "[encoded data removed]",
      "text/plain": [
       "<Figure size 432x288 with 1 Axes>"
      ]
     },
     "metadata": {
      "needs_background": "light"
     },
     "output_type": "display_data"
    }
   ],
   "source": [
    "plt.hist(cluster_sizes, max(cluster_sizes))\n",
    "plt.title('DISTRIBUTION OF ALL CLUSTER SIZES')\n",
    "plt.xlabel('# genes in cluster')\n",
    "plt.ylabel('# clusters')\n",
    "plt.show()"
   ]
  },
  {
   "cell_type": "code",
   "execution_count": 11,
   "id": "0f74b92c",
   "metadata": {},
   "outputs": [
    {
     "data": {
      "image/png": "[encoded data removed]",
      "text/plain": [
       "<Figure size 432x288 with 1 Axes>"
      ]
     },
     "metadata": {
      "needs_background": "light"
     },
     "output_type": "display_data"
    }
   ],
   "source": [
    "plt.hist(enriched_cluster_sizes, max(enriched_cluster_sizes))\n",
    "plt.title('DISTRIBUTION OF ENRICHED CLUSTER SIZES')\n",
    "plt.xlabel('# genes in cluster')\n",
    "plt.ylabel('# clusters')\n",
    "plt.show()"
   ]
  },
  {
   "cell_type": "code",
   "execution_count": 12,
   "id": "27741048",
   "metadata": {},
   "outputs": [
    {
     "name": "stdout",
     "output_type": "stream",
     "text": [
      "              partition_type: EXP\n",
      "              dimensionality: baseline\n",
      "                      metric: manhattan\n",
      "                       graph: umap_fuzzy_simplicial_set\n",
      "                         nns: 3\n",
      "                  clustering: leiden_cpm\n",
      "                   parameter: 0.05\n",
      "            silhouette_score: -0.0027426275565393373\n",
      "                  modularity: 0.6470216643789729\n",
      "                   nclusters: 2098\n",
      "           mean_cluster_size: 9.128693994280267\n",
      "         median_cluster_size: 9.0\n",
      "             sd_cluster_size: 3.3708822015536746\n",
      "          nenriched_clusters: 381\n",
      "  mean_enriched_cluster_size: 10.018372703412073\n",
      "median_enriched_cluster_size: 10.0\n",
      "    sd_enriched_cluster_size: 3.4742666255631005\n",
      "     nenriched_cluster_genes: 3817\n",
      "                    datetime: 2024-04-25 11:50:06.153846\n"
     ]
    }
   ],
   "source": [
    "key_lens = [len(k) for k in partition_stats.keys()]\n",
    "max_key_len = max(key_lens)\n",
    "\n",
    "for k, v in partition_stats.items():\n",
    "    print(f'{\" \" * (max_key_len - len(k))}{k}:', v)"
   ]
  },
  {
   "cell_type": "code",
   "execution_count": 13,
   "id": "14cf2c58",
   "metadata": {},
   "outputs": [],
   "source": [
    "enrich_full_nn3 = clustering_utils.compute_enrichment(leiden_label_df_round_1_arranged_sorted)"
   ]
  },
  {
   "cell_type": "code",
   "execution_count": 14,
   "id": "54833535",
   "metadata": {},
   "outputs": [],
   "source": [
    "outfile='../enrichment/test_nn3_full_enrichment.csv'\n",
    "enrich_full_nn3.to_csv(outfile, index=False)"
   ]
  },
  {
   "cell_type": "code",
   "execution_count": 15,
   "id": "f16bb3a2",
   "metadata": {},
   "outputs": [],
   "source": [
    "complete_annot = pd.read_csv('../eggnog/complete_eggnog_annotation.csv')"
   ]
  },
  {
   "cell_type": "code",
   "execution_count": 16,
   "id": "e207ff25",
   "metadata": {},
   "outputs": [],
   "source": [
    "palette45 = \"\"\"\n",
    "#51635F\\n#FF1C16\\n#16FC26\\n#403DFC\\n#FE0DCE\\n#F9AA00\\n#00FFD5\\n#22BFFE\\n#BB3551\\n#E6FE97\\n#ECADFF\\n#FFBFBD\\n#CF00F5\\n#0D8B00\\n#D7FEFF\\n#8D7200\\n#F76C00\\n#AD3288\\n#5C5AB8\\n#FC0080\\n#B8FF16\\n#00AAB4\\n#FBE11C\\n#9AAAD9\\n#8BBB8C\\n#934B47\\n#6EFE99\\n#9C6D91\\n#FB9778\\n#9D32AF\\n#D40087\\n#FFDC9D\\n#FF8DB6\\n#A96AFC\\n#FDDDFB\\n#168CF7\\n#FD6CF9\\n#F64553\\n#4D6A00\\n#FAFEDB\\n#A7977D\\n#0DFBFF\\n#86B80D\\n#FD8AE4\\n#B7B126\n",
    "\"\"\".split()\n",
    "\n",
    "palette32 = \"\"\"\n",
    "white\\n#F91622\\n#16FC0D\\n#5138FB\\n#FD00CF\\n#FDD51C\\n#16FDD7\\n#FC8B8E\\n#16BFFF\\n#DF9BFD\\n#669C2A\\n#FEE7C4\\n#F31685\\n#DF16FD\\n#C1F1FE\\n#A23D7E\\n#D5FD0D\\n#8C5A0D\\n#FC790D\\n#4F5CBC\\n#FFCBEF\\n#168D72\\n#68FA93\\n#C4FDC9\\n#F7A449\\n#16789B\\n#AD0DAB\\n#C4262E\\n#0DF1FF\\n#EFF994\\n#B6C1FE\\n#8F22CD\n",
    "\"\"\".split()\n",
    "\n",
    "palette35 = \"\"\"\n",
    "#585F6A\\n#FE1626\\n#00FB0D\\n#2E40FC\\n#FD0DCE\\n#FCD200\\n#F7868C\\n#16FFDC\\n#22BEFB\\n#D28EF6\\n#609000\\n#FFE7C9\\n#F51683\\n#FF730D\\n#CAFE16\\n#AA3586\\n#BEEEFD\\n#BD00FA\\n#895D22\\n#FEC7F0\\n#495AA1\\n#73F995\\n#229270\\n#ED963B\\n#F6FE97\\n#C5FFD0\\n#C50DC8\\n#6993FF\\n#C22A35\\n#16ECFC\\n#AA707E\\n#7A3BCB\\n#7C845C\\n#358FAA\\n#BDBAF6\n",
    "\"\"\".split()\n",
    "\n",
    "palette38 = \"\"\"\n",
    "#636265\\n#F60D16\\n#00F90D\\n#3540FB\\n#FD0DD0\\n#FDDB0D\\n#00FFE2\\n#FA8884\\n#2ABEFE\\n#E5A3FF\\n#518F00\\n#FEFDD5\\n#D51CFF\\n#ED007F\\n#A33879\\n#96731C\\n#C8FB16\\n#C0ECFE\\n#FBC1DA\\n#5658BA\\n#F96900\\n#F69F1C\\n#58FA9C\\n#008E72\\n#BA22B9\\n#167D97\\n#794D8A\\n#CEFE9C\\n#BB222E\\n#954D45\\n#00DCEF\\n#FD66B0\\n#B2FDD3\\n#FDBD9F\\n#A9B4F1\\n#B371FE\\n#849566\\n#2A8EFF\n",
    "\"\"\".split()\n",
    "\n",
    "palette64 = \"\"\"\n",
    "white\\n#FA002E\\n#22FC22\\n#221CFA\\n#FF3DD6\\n#FFDA00\\n#00FEFB\\n#F48684\\n#CEB4FE\\n#FFFFE5\\n#0D933D\\n#CC00F8\\n#800D5D\\n#F10084\\n#22267A\\n#0DADFF\\n#CBFD71\\n#9A761C\\n#F96C00\\n#6399A6\\n#FFBCDA\\n#8D0DA3\\n#F79F26\\n#00FFBF\\n#A37CFB\\n#F68EEB\\n#720D0D\\n#F163AA\\n#7E926A\\n#826386\\n#B41C32\\n#9BEBCE\\n#E2DB83\\n#56D4FA\\n#E6E2FB\\n#925D58\\n#F7C3A7\\n#62E970\\n#220DBD\\n#5583BB\\n#7EA01C\\n#CDFDB6\\n#FD00FB\\n#B30D97\\n#F5FF00\\n#DD77FD\\n#4282FC\\n#BBA6A4\\n#0D8068\\n#AB5F26\\n#F7C26E\\n#9EFE00\\n#9B2EFD\\n#C56887\\n#FD3D68\\n#ABF2FD\\n#835FAC\\n#FF16B1\\n#325371\\n#CA16CA\\n#D26322\\n#AFCFFE\\n#91A1FA\\nfloralwhite\n",
    "\"\"\".split()\n",
    "\n",
    "palette65 = \"\"\"\n",
    "white\\ngainsboro\\n#FA002E\\n#22FC22\\n#221CFA\\n#FF3DD6\\n#FFDA00\\n#00FEFB\\n#F48684\\n#CEB4FE\\n#FFFFE5\\n#0D933D\\n#CC00F8\\n#800D5D\\n#F10084\\n#22267A\\n#0DADFF\\n#CBFD71\\n#9A761C\\n#F96C00\\n#6399A6\\n#FFBCDA\\n#8D0DA3\\n#F79F26\\n#00FFBF\\n#A37CFB\\n#F68EEB\\n#720D0D\\n#F163AA\\n#7E926A\\n#826386\\n#B41C32\\n#9BEBCE\\n#E2DB83\\n#56D4FA\\n#E6E2FB\\n#925D58\\n#F7C3A7\\n#62E970\\n#220DBD\\n#5583BB\\n#7EA01C\\n#CDFDB6\\n#FD00FB\\n#B30D97\\n#F5FF00\\n#DD77FD\\n#4282FC\\n#BBA6A4\\n#0D8068\\n#AB5F26\\n#F7C26E\\n#9EFE00\\n#9B2EFD\\n#C56887\\n#FD3D68\\n#ABF2FD\\n#835FAC\\n#FF16B1\\n#325371\\n#CA16CA\\n#D26322\\n#AFCFFE\\n#91A1FA\\nfloralwhite\n",
    "\"\"\".split()"
   ]
  },
  {
   "cell_type": "code",
   "execution_count": 17,
   "id": "19915e39",
   "metadata": {},
   "outputs": [],
   "source": [
    "palette36 = [\"#FFFFFF\", \n",
    "             \"#E4E1E3\", \n",
    "             \"#F6222E\", \n",
    "             \"#FE00FA\", \n",
    "             \"#16FF32\", \n",
    "             \"#3283FE\", \n",
    "             \"#FEAF16\", \n",
    "             \"#B00068\", \n",
    "             \"#1CFFCE\",\n",
    "             \"#90AD1C\", \n",
    "             \"#2ED9FF\", \n",
    "             \"#DEA0FD\", \n",
    "             \"#AA0DFE\", \n",
    "             \"#F8A19F\", \n",
    "             \"#325A9B\", \n",
    "             \"#C4451C\", \n",
    "             \"#1C8356\", \n",
    "             \"#85660D\",\n",
    "             \"#B10DA1\", \n",
    "             \"#FBE426\", \n",
    "             \"#1CBE4F\", \n",
    "             \"#FA0087\", \n",
    "             \"#FC1CBF\", \n",
    "             \"#F7E1A0\", \n",
    "             \"#C075A6\", \n",
    "             \"#782AB6\", \n",
    "             \"#AAF400\",\n",
    "             \"#BDCDFF\", \n",
    "             \"#822E1C\", \n",
    "             \"#B5EFB5\", \n",
    "             \"#7ED7D1\", \n",
    "             \"#1C7F93\", \n",
    "             \"#D85FF7\", \n",
    "             \"#683B79\", \n",
    "             \"#66B0FF\", \n",
    "             \"#3B00FB\",\n",
    "             \"magenta\"]"
   ]
  },
  {
   "cell_type": "markdown",
   "id": "0134123d",
   "metadata": {},
   "source": [
    "change index 5 to #778899. Change index 9 to #2F4F4F. Add #FF7F50. Change index 9 to #FFBCD9. Change index 14 to #DEA5A4"
   ]
  },
  {
   "cell_type": "code",
   "execution_count": 18,
   "id": "88021772",
   "metadata": {},
   "outputs": [],
   "source": [
    "palette27 = [\"#FFFFFF\", \n",
    "             \"#AA0DFE\", \n",
    "             \"#3283FE\", \n",
    "             \"#85660D\", \n",
    "             \"#782AB6\", \n",
    "             \"#778899\", \n",
    "             \"#1C8356\", \n",
    "             \"#16FF32\", \n",
    "             \"#F7E1A0\", \n",
    "#              \"#2F4F4F\",\n",
    "             \"#FFBCD9\", \n",
    "             \"#C4451C\", \n",
    "             \"#DEA0FD\", \n",
    "             \"#FE00FA\", \n",
    "#              \"#325A9B\", \n",
    "             \"#FEAF16\", \n",
    "             \"#DEA5A4\", \n",
    "             \"#90AD1C\", \n",
    "             \"#F6222E\",\n",
    "             \"#1CFFCE\", \n",
    "             \"#2ED9FF\", \n",
    "             \"#B10DA1\", \n",
    "#              \"#C075A6\", \n",
    "#              \"#FC1CBF\", \n",
    "#              \"#B00068\", \n",
    "             \"#FBE426\", \n",
    "             \"#FA0087\",\n",
    "             \"#FF7F50\"\n",
    "            ]"
   ]
  },
  {
   "cell_type": "code",
   "execution_count": 19,
   "id": "bf85ba87",
   "metadata": {},
   "outputs": [],
   "source": [
    "with open(('colors_2000_1'), 'rb') as file:\n",
    "    color_palette_raw = pickle.load(file)\n",
    "\n",
    "color_palette = palette65\n",
    "\n",
    "if len(color_palette_raw) >= max(leiden_label_df_round_1_arranged_sorted['label'].unique()) + 1:\n",
    "    color_palette = color_palette_raw[:max(leiden_label_df_round_1_arranged_sorted['label'].unique()) + 1]"
   ]
  },
  {
   "cell_type": "code",
   "execution_count": 20,
   "id": "4ee0f5f4",
   "metadata": {},
   "outputs": [
    {
     "name": "stderr",
     "output_type": "stream",
     "text": [
      "/Users/michaelbertagna/anaconda3/envs/cdh2.env/lib/python3.9/site-packages/umap/umap_.py:1943: UserWarning: n_jobs value -1 overridden to 1 by setting random_state. Use no seed for parallelism.\n",
      "  warn(f\"n_jobs value {self.n_jobs} overridden to 1 by setting random_state. Use no seed for parallelism.\")\n"
     ]
    },
    {
     "name": "stdout",
     "output_type": "stream",
     "text": [
      "Color key has fewer colors than labels. Making all red\n"
     ]
    },
    {
     "name": "stderr",
     "output_type": "stream",
     "text": [
      "/Users/michaelbertagna/git/TGNE-2022/TGNE/embedding/../../utils/bokeh_ui_utils.py:493: SettingWithCopyWarning: \n",
      "A value is trying to be set on a copy of a slice from a DataFrame.\n",
      "Try using .loc[row_indexer,col_indexer] = value instead\n",
      "\n",
      "See the caveats in the documentation: https://pandas.pydata.org/pandas-docs/stable/user_guide/indexing.html#returning-a-view-versus-a-copy\n",
      "  hm_df['module'] = hover_data['module'].values\n"
     ]
    },
    {
     "name": "stdout",
     "output_type": "stream",
     "text": [
      "./plots/dashboard247_microarr_umap_manhattan_3nn_0.05rp.html\n"
     ]
    }
   ],
   "source": [
    "import os\n",
    "\n",
    "embedding_metric='manhattan'\n",
    "\n",
    "dashboard_path = file_utils.generate_uniquely_numbered_export_path('./plots/', 'dashboard', '.html', tags=['microarr', 'umap', metric, f'{n_neighbors}nn', f'{resolution_param}rp'])\n",
    "\n",
    "p = bokeh_ui_utils.generate_and_save_umap(dashboard_path, full_filtered_norm_df, complete_annot, leiden_label_df_round_1_arranged_sorted, 'full', color_palette, os.path.basename(dashboard_path), expr_min=0, expr_max=1, n_neighbors=n_neighbors, embedding_metric=embedding_metric)"
   ]
  },
  {
   "cell_type": "code",
   "execution_count": null,
   "id": "5f65ebfa",
   "metadata": {},
   "outputs": [],
   "source": []
  }
 ],
 "metadata": {
  "kernelspec": {
   "display_name": "Python 3 (ipykernel)",
   "language": "python",
   "name": "python3"
  },
  "language_info": {
   "codemirror_mode": {
    "name": "ipython",
    "version": 3
   },
   "file_extension": ".py",
   "mimetype": "text/x-python",
   "name": "python",
   "nbconvert_exporter": "python",
   "pygments_lexer": "ipython3",
   "version": "3.9.9"
  }
 },
 "nbformat": 4,
 "nbformat_minor": 5
}

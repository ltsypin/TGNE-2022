{
 "cells": [
  {
   "cell_type": "markdown",
   "id": "2e305761-a971-4232-8a21-5907cfeedfad",
   "metadata": {},
   "source": [
    "## IMPORT PACKAGES"
   ]
  },
  {
   "cell_type": "code",
   "execution_count": 23,
   "id": "5d9163ea-8dc4-46e8-9542-ba27cc741b52",
   "metadata": {},
   "outputs": [],
   "source": [
    "import pandas as pd\n",
    "import sys\n",
    "from matplotlib import pyplot as plt\n",
    "import pickle\n",
    "\n",
    "sys.path.append('../../')\n",
    "from utils import microarray_utils, clustering_utils, bokeh_ui_utils, file_utils"
   ]
  },
  {
   "cell_type": "code",
   "execution_count": 24,
   "id": "20cf4cee",
   "metadata": {},
   "outputs": [
    {
     "data": {
      "text/plain": [
       "19152"
      ]
     },
     "execution_count": 24,
     "metadata": {},
     "output_type": "execute_result"
    }
   ],
   "source": [
    "full_filtered_df = pd.read_csv('../microarray_probe_alignment_and_filtering/allgood_filt_agg_tidy_2021aligned_qc_rma_expression_full.csv')\n",
    "full_filtered_df = full_filtered_df.rename(columns={'Unnamed: 0': 'TTHERM_ID'})\n",
    "num_genes = full_filtered_df.shape[0]\n",
    "num_genes"
   ]
  },
  {
   "cell_type": "code",
   "execution_count": 25,
   "id": "07cfa785",
   "metadata": {},
   "outputs": [
    {
     "data": {
      "text/html": [
       "<div>\n",
       "<style scoped>\n",
       "    .dataframe tbody tr th:only-of-type {\n",
       "        vertical-align: middle;\n",
       "    }\n",
       "\n",
       "    .dataframe tbody tr th {\n",
       "        vertical-align: top;\n",
       "    }\n",
       "\n",
       "    .dataframe thead th {\n",
       "        text-align: right;\n",
       "    }\n",
       "</style>\n",
       "<table border=\"1\" class=\"dataframe\">\n",
       "  <thead>\n",
       "    <tr style=\"text-align: right;\">\n",
       "      <th></th>\n",
       "      <th>TTHERM_ID</th>\n",
       "      <th>Ll_GSM283687</th>\n",
       "      <th>Ll_GSM284355</th>\n",
       "      <th>Ll_GSM284362</th>\n",
       "      <th>Lm_GSM283690</th>\n",
       "      <th>Lm_GSM284357</th>\n",
       "      <th>Lm_GSM284363</th>\n",
       "      <th>Lh_GSM283691</th>\n",
       "      <th>Lh_GSM284360</th>\n",
       "      <th>Lh_GSM284364</th>\n",
       "      <th>...</th>\n",
       "      <th>C12_GSM656237</th>\n",
       "      <th>C14_GSM285580</th>\n",
       "      <th>C14_GSM285593</th>\n",
       "      <th>C14_GSM656238</th>\n",
       "      <th>C16_GSM285582</th>\n",
       "      <th>C16_GSM285595</th>\n",
       "      <th>C16_GSM656239</th>\n",
       "      <th>C18_GSM285583</th>\n",
       "      <th>C18_GSM285596</th>\n",
       "      <th>C18_GSM656240</th>\n",
       "    </tr>\n",
       "  </thead>\n",
       "  <tbody>\n",
       "    <tr>\n",
       "      <th>7543</th>\n",
       "      <td>TTHERM_00457000</td>\n",
       "      <td>8.906671</td>\n",
       "      <td>9.475465</td>\n",
       "      <td>9.955505</td>\n",
       "      <td>9.156077</td>\n",
       "      <td>9.503059</td>\n",
       "      <td>9.539617</td>\n",
       "      <td>8.515622</td>\n",
       "      <td>8.999003</td>\n",
       "      <td>9.054012</td>\n",
       "      <td>...</td>\n",
       "      <td>8.973661</td>\n",
       "      <td>8.778292</td>\n",
       "      <td>9.063522</td>\n",
       "      <td>8.731273</td>\n",
       "      <td>8.445679</td>\n",
       "      <td>8.552976</td>\n",
       "      <td>8.684857</td>\n",
       "      <td>8.285162</td>\n",
       "      <td>8.434249</td>\n",
       "      <td>8.158218</td>\n",
       "    </tr>\n",
       "    <tr>\n",
       "      <th>6730</th>\n",
       "      <td>TTHERM_00402039</td>\n",
       "      <td>8.294317</td>\n",
       "      <td>8.314731</td>\n",
       "      <td>8.159247</td>\n",
       "      <td>8.847884</td>\n",
       "      <td>8.031375</td>\n",
       "      <td>7.813083</td>\n",
       "      <td>8.743258</td>\n",
       "      <td>8.049882</td>\n",
       "      <td>8.192357</td>\n",
       "      <td>...</td>\n",
       "      <td>8.916201</td>\n",
       "      <td>8.236750</td>\n",
       "      <td>8.493037</td>\n",
       "      <td>8.728332</td>\n",
       "      <td>8.410630</td>\n",
       "      <td>8.671615</td>\n",
       "      <td>8.233002</td>\n",
       "      <td>9.136657</td>\n",
       "      <td>9.031065</td>\n",
       "      <td>8.449434</td>\n",
       "    </tr>\n",
       "    <tr>\n",
       "      <th>3972</th>\n",
       "      <td>TTHERM_00192040</td>\n",
       "      <td>9.076484</td>\n",
       "      <td>9.481752</td>\n",
       "      <td>9.415487</td>\n",
       "      <td>9.298553</td>\n",
       "      <td>10.099290</td>\n",
       "      <td>9.504802</td>\n",
       "      <td>8.963091</td>\n",
       "      <td>9.478710</td>\n",
       "      <td>9.037567</td>\n",
       "      <td>...</td>\n",
       "      <td>7.862942</td>\n",
       "      <td>7.883033</td>\n",
       "      <td>8.046891</td>\n",
       "      <td>7.804257</td>\n",
       "      <td>8.791133</td>\n",
       "      <td>8.797149</td>\n",
       "      <td>9.399529</td>\n",
       "      <td>9.134227</td>\n",
       "      <td>9.104141</td>\n",
       "      <td>9.698338</td>\n",
       "    </tr>\n",
       "    <tr>\n",
       "      <th>12851</th>\n",
       "      <td>TTHERM_01005190</td>\n",
       "      <td>9.923607</td>\n",
       "      <td>10.540276</td>\n",
       "      <td>9.971975</td>\n",
       "      <td>9.726677</td>\n",
       "      <td>10.107562</td>\n",
       "      <td>9.894312</td>\n",
       "      <td>9.265315</td>\n",
       "      <td>10.167490</td>\n",
       "      <td>9.806930</td>\n",
       "      <td>...</td>\n",
       "      <td>10.600775</td>\n",
       "      <td>10.774525</td>\n",
       "      <td>10.915756</td>\n",
       "      <td>9.859768</td>\n",
       "      <td>10.548553</td>\n",
       "      <td>10.275746</td>\n",
       "      <td>10.389337</td>\n",
       "      <td>10.643465</td>\n",
       "      <td>10.406449</td>\n",
       "      <td>10.164120</td>\n",
       "    </tr>\n",
       "    <tr>\n",
       "      <th>13702</th>\n",
       "      <td>TTHERM_01178720</td>\n",
       "      <td>5.632212</td>\n",
       "      <td>5.378760</td>\n",
       "      <td>5.355440</td>\n",
       "      <td>5.712447</td>\n",
       "      <td>5.441149</td>\n",
       "      <td>4.936520</td>\n",
       "      <td>5.832561</td>\n",
       "      <td>5.017348</td>\n",
       "      <td>5.410558</td>\n",
       "      <td>...</td>\n",
       "      <td>7.440629</td>\n",
       "      <td>6.296895</td>\n",
       "      <td>6.990208</td>\n",
       "      <td>7.087316</td>\n",
       "      <td>5.829085</td>\n",
       "      <td>7.759638</td>\n",
       "      <td>6.627954</td>\n",
       "      <td>7.273718</td>\n",
       "      <td>6.575612</td>\n",
       "      <td>6.703325</td>\n",
       "    </tr>\n",
       "    <tr>\n",
       "      <th>9726</th>\n",
       "      <td>TTHERM_00620970</td>\n",
       "      <td>8.514288</td>\n",
       "      <td>9.311424</td>\n",
       "      <td>9.046219</td>\n",
       "      <td>8.311306</td>\n",
       "      <td>9.193576</td>\n",
       "      <td>8.784858</td>\n",
       "      <td>8.346460</td>\n",
       "      <td>8.720777</td>\n",
       "      <td>8.531658</td>\n",
       "      <td>...</td>\n",
       "      <td>8.139468</td>\n",
       "      <td>9.628713</td>\n",
       "      <td>9.142006</td>\n",
       "      <td>9.128039</td>\n",
       "      <td>8.723752</td>\n",
       "      <td>8.487181</td>\n",
       "      <td>8.378573</td>\n",
       "      <td>8.704964</td>\n",
       "      <td>8.735206</td>\n",
       "      <td>8.439548</td>\n",
       "    </tr>\n",
       "    <tr>\n",
       "      <th>11906</th>\n",
       "      <td>TTHERM_00826840</td>\n",
       "      <td>10.113205</td>\n",
       "      <td>10.085711</td>\n",
       "      <td>9.913558</td>\n",
       "      <td>10.149485</td>\n",
       "      <td>9.834590</td>\n",
       "      <td>9.900047</td>\n",
       "      <td>9.842907</td>\n",
       "      <td>9.259084</td>\n",
       "      <td>9.374272</td>\n",
       "      <td>...</td>\n",
       "      <td>7.633564</td>\n",
       "      <td>6.882783</td>\n",
       "      <td>7.269612</td>\n",
       "      <td>7.115036</td>\n",
       "      <td>6.978045</td>\n",
       "      <td>6.944763</td>\n",
       "      <td>5.559587</td>\n",
       "      <td>7.365145</td>\n",
       "      <td>7.137455</td>\n",
       "      <td>6.149486</td>\n",
       "    </tr>\n",
       "    <tr>\n",
       "      <th>11223</th>\n",
       "      <td>TTHERM_00731440</td>\n",
       "      <td>6.143652</td>\n",
       "      <td>6.347958</td>\n",
       "      <td>6.212689</td>\n",
       "      <td>6.571878</td>\n",
       "      <td>6.546361</td>\n",
       "      <td>6.033981</td>\n",
       "      <td>6.215982</td>\n",
       "      <td>6.516675</td>\n",
       "      <td>5.900263</td>\n",
       "      <td>...</td>\n",
       "      <td>5.489723</td>\n",
       "      <td>5.960534</td>\n",
       "      <td>5.777025</td>\n",
       "      <td>6.281636</td>\n",
       "      <td>5.887567</td>\n",
       "      <td>5.528103</td>\n",
       "      <td>5.743383</td>\n",
       "      <td>5.709532</td>\n",
       "      <td>5.686214</td>\n",
       "      <td>5.297970</td>\n",
       "    </tr>\n",
       "    <tr>\n",
       "      <th>5494</th>\n",
       "      <td>TTHERM_00310760</td>\n",
       "      <td>12.601213</td>\n",
       "      <td>11.316636</td>\n",
       "      <td>10.840939</td>\n",
       "      <td>13.692713</td>\n",
       "      <td>12.850919</td>\n",
       "      <td>11.793410</td>\n",
       "      <td>14.269557</td>\n",
       "      <td>11.463219</td>\n",
       "      <td>11.800999</td>\n",
       "      <td>...</td>\n",
       "      <td>10.211558</td>\n",
       "      <td>10.331954</td>\n",
       "      <td>9.495057</td>\n",
       "      <td>9.763654</td>\n",
       "      <td>9.568012</td>\n",
       "      <td>8.658107</td>\n",
       "      <td>8.940942</td>\n",
       "      <td>7.604198</td>\n",
       "      <td>7.592446</td>\n",
       "      <td>8.267118</td>\n",
       "    </tr>\n",
       "    <tr>\n",
       "      <th>17473</th>\n",
       "      <td>YF00025640.t1</td>\n",
       "      <td>7.346998</td>\n",
       "      <td>5.571901</td>\n",
       "      <td>5.951648</td>\n",
       "      <td>5.148487</td>\n",
       "      <td>5.511900</td>\n",
       "      <td>5.751179</td>\n",
       "      <td>5.490192</td>\n",
       "      <td>5.601139</td>\n",
       "      <td>5.528083</td>\n",
       "      <td>...</td>\n",
       "      <td>7.046668</td>\n",
       "      <td>6.561789</td>\n",
       "      <td>6.456886</td>\n",
       "      <td>6.417864</td>\n",
       "      <td>5.598498</td>\n",
       "      <td>6.084226</td>\n",
       "      <td>6.010335</td>\n",
       "      <td>6.221889</td>\n",
       "      <td>6.492084</td>\n",
       "      <td>5.628669</td>\n",
       "    </tr>\n",
       "  </tbody>\n",
       "</table>\n",
       "<p>10 rows × 48 columns</p>\n",
       "</div>"
      ],
      "text/plain": [
       "             TTHERM_ID  Ll_GSM283687  Ll_GSM284355  Ll_GSM284362  \\\n",
       "7543   TTHERM_00457000      8.906671      9.475465      9.955505   \n",
       "6730   TTHERM_00402039      8.294317      8.314731      8.159247   \n",
       "3972   TTHERM_00192040      9.076484      9.481752      9.415487   \n",
       "12851  TTHERM_01005190      9.923607     10.540276      9.971975   \n",
       "13702  TTHERM_01178720      5.632212      5.378760      5.355440   \n",
       "9726   TTHERM_00620970      8.514288      9.311424      9.046219   \n",
       "11906  TTHERM_00826840     10.113205     10.085711      9.913558   \n",
       "11223  TTHERM_00731440      6.143652      6.347958      6.212689   \n",
       "5494   TTHERM_00310760     12.601213     11.316636     10.840939   \n",
       "17473    YF00025640.t1      7.346998      5.571901      5.951648   \n",
       "\n",
       "       Lm_GSM283690  Lm_GSM284357  Lm_GSM284363  Lh_GSM283691  Lh_GSM284360  \\\n",
       "7543       9.156077      9.503059      9.539617      8.515622      8.999003   \n",
       "6730       8.847884      8.031375      7.813083      8.743258      8.049882   \n",
       "3972       9.298553     10.099290      9.504802      8.963091      9.478710   \n",
       "12851      9.726677     10.107562      9.894312      9.265315     10.167490   \n",
       "13702      5.712447      5.441149      4.936520      5.832561      5.017348   \n",
       "9726       8.311306      9.193576      8.784858      8.346460      8.720777   \n",
       "11906     10.149485      9.834590      9.900047      9.842907      9.259084   \n",
       "11223      6.571878      6.546361      6.033981      6.215982      6.516675   \n",
       "5494      13.692713     12.850919     11.793410     14.269557     11.463219   \n",
       "17473      5.148487      5.511900      5.751179      5.490192      5.601139   \n",
       "\n",
       "       Lh_GSM284364  ...  C12_GSM656237  C14_GSM285580  C14_GSM285593  \\\n",
       "7543       9.054012  ...       8.973661       8.778292       9.063522   \n",
       "6730       8.192357  ...       8.916201       8.236750       8.493037   \n",
       "3972       9.037567  ...       7.862942       7.883033       8.046891   \n",
       "12851      9.806930  ...      10.600775      10.774525      10.915756   \n",
       "13702      5.410558  ...       7.440629       6.296895       6.990208   \n",
       "9726       8.531658  ...       8.139468       9.628713       9.142006   \n",
       "11906      9.374272  ...       7.633564       6.882783       7.269612   \n",
       "11223      5.900263  ...       5.489723       5.960534       5.777025   \n",
       "5494      11.800999  ...      10.211558      10.331954       9.495057   \n",
       "17473      5.528083  ...       7.046668       6.561789       6.456886   \n",
       "\n",
       "       C14_GSM656238  C16_GSM285582  C16_GSM285595  C16_GSM656239  \\\n",
       "7543        8.731273       8.445679       8.552976       8.684857   \n",
       "6730        8.728332       8.410630       8.671615       8.233002   \n",
       "3972        7.804257       8.791133       8.797149       9.399529   \n",
       "12851       9.859768      10.548553      10.275746      10.389337   \n",
       "13702       7.087316       5.829085       7.759638       6.627954   \n",
       "9726        9.128039       8.723752       8.487181       8.378573   \n",
       "11906       7.115036       6.978045       6.944763       5.559587   \n",
       "11223       6.281636       5.887567       5.528103       5.743383   \n",
       "5494        9.763654       9.568012       8.658107       8.940942   \n",
       "17473       6.417864       5.598498       6.084226       6.010335   \n",
       "\n",
       "       C18_GSM285583  C18_GSM285596  C18_GSM656240  \n",
       "7543        8.285162       8.434249       8.158218  \n",
       "6730        9.136657       9.031065       8.449434  \n",
       "3972        9.134227       9.104141       9.698338  \n",
       "12851      10.643465      10.406449      10.164120  \n",
       "13702       7.273718       6.575612       6.703325  \n",
       "9726        8.704964       8.735206       8.439548  \n",
       "11906       7.365145       7.137455       6.149486  \n",
       "11223       5.709532       5.686214       5.297970  \n",
       "5494        7.604198       7.592446       8.267118  \n",
       "17473       6.221889       6.492084       5.628669  \n",
       "\n",
       "[10 rows x 48 columns]"
      ]
     },
     "execution_count": 25,
     "metadata": {},
     "output_type": "execute_result"
    }
   ],
   "source": [
    "full_filtered_df.sample(10)"
   ]
  },
  {
   "cell_type": "code",
   "execution_count": 26,
   "id": "e02096fa",
   "metadata": {},
   "outputs": [],
   "source": [
    "full_filtered_norm_df = microarray_utils.normalize_expression_per_gene(full_filtered_df)"
   ]
  },
  {
   "cell_type": "markdown",
   "id": "d03955e5",
   "metadata": {},
   "source": [
    "# LEIDEN CLUSTERING"
   ]
  },
  {
   "cell_type": "code",
   "execution_count": 27,
   "id": "1b2abc21",
   "metadata": {},
   "outputs": [],
   "source": [
    "phases = 'full'"
   ]
  },
  {
   "cell_type": "code",
   "execution_count": 28,
   "id": "6cabc893",
   "metadata": {},
   "outputs": [],
   "source": [
    "metric = 'manhattan'\n",
    "# metric='minkowski_3.0'\n",
    "\n",
    "resolution_param=0.050\n",
    "# resolution_param=0.0001\n",
    "\n",
    "n_neighbors = 3"
   ]
  },
  {
   "cell_type": "code",
   "execution_count": 29,
   "id": "92c456b7",
   "metadata": {},
   "outputs": [
    {
     "name": "stdout",
     "output_type": "stream",
     "text": [
      "/Users/michaelbertagna/git/TGNE-2022/utils\n"
     ]
    }
   ],
   "source": [
    "leiden_label_df_round_1, partition_stats, cluster_sizes, enriched_cluster_sizes =  clustering_utils.build_label_df(\n",
    "    full_filtered_df, \n",
    "    metric=metric,\n",
    "    n_neighbors=n_neighbors, \n",
    "    resolution_param=resolution_param, \n",
    "    partition_type = 'EXP', \n",
    "    n_jobs = -1, \n",
    "    random_state=42\n",
    "    )"
   ]
  },
  {
   "cell_type": "code",
   "execution_count": 30,
   "id": "6b8d5fd8",
   "metadata": {},
   "outputs": [],
   "source": [
    "leiden_label_df_round_1_arranged = bokeh_ui_utils.arrange_modules(full_filtered_norm_df, leiden_label_df_round_1, phases) \n",
    "leiden_label_df_round_1_arranged_sorted = leiden_label_df_round_1_arranged.sort_values(by=['label', 'TTHERM_ID'], ascending=False)\n",
    "leiden_label_df_round_1_arranged_sorted.to_csv('./test_nn3_leiden_label_df_round_1.csv', index=False)"
   ]
  },
  {
   "cell_type": "code",
   "execution_count": 31,
   "id": "68372c7d",
   "metadata": {},
   "outputs": [
    {
     "data": {
      "image/png": "[encoded data removed]",
      "text/plain": [
       "<Figure size 640x480 with 1 Axes>"
      ]
     },
     "metadata": {},
     "output_type": "display_data"
    }
   ],
   "source": [
    "plt.hist(cluster_sizes, max(cluster_sizes))\n",
    "plt.title('DISTRIBUTION OF ALL CLUSTER SIZES')\n",
    "plt.xlabel('# genes in cluster')\n",
    "plt.ylabel('# clusters')\n",
    "plt.show()"
   ]
  },
  {
   "cell_type": "code",
   "execution_count": 32,
   "id": "0f74b92c",
   "metadata": {},
   "outputs": [
    {
     "data": {
      "image/png": "[encoded data removed]",
      "text/plain": [
       "<Figure size 640x480 with 1 Axes>"
      ]
     },
     "metadata": {},
     "output_type": "display_data"
    }
   ],
   "source": [
    "plt.hist(enriched_cluster_sizes, max(enriched_cluster_sizes))\n",
    "plt.title('DISTRIBUTION OF ENRICHED CLUSTER SIZES')\n",
    "plt.xlabel('# genes in cluster')\n",
    "plt.ylabel('# clusters')\n",
    "plt.show()"
   ]
  },
  {
   "cell_type": "code",
   "execution_count": 33,
   "id": "27741048",
   "metadata": {},
   "outputs": [
    {
     "name": "stdout",
     "output_type": "stream",
     "text": [
      "              partition_type: EXP\n",
      "              dimensionality: baseline\n",
      "                      metric: manhattan\n",
      "                       graph: umap_fuzzy_simplicial_set\n",
      "                         nns: 3\n",
      "                  clustering: leiden_cpm\n",
      "                   parameter: 0.05\n",
      "            silhouette_score: -0.002434119396440866\n",
      "                  modularity: 0.6484185946684787\n",
      "                   nclusters: 2093\n",
      "           mean_cluster_size: 9.150501672240802\n",
      "         median_cluster_size: 9.0\n",
      "             sd_cluster_size: 3.36940451009151\n",
      "          nenriched_clusters: 398\n",
      "  mean_enriched_cluster_size: 9.952261306532664\n",
      "median_enriched_cluster_size: 9.0\n",
      "    sd_enriched_cluster_size: 3.4393864727016816\n",
      "     nenriched_cluster_genes: 3961\n",
      "                    datetime: 2024-05-02 15:54:37.885671\n"
     ]
    }
   ],
   "source": [
    "key_lens = [len(k) for k in partition_stats.keys()]\n",
    "max_key_len = max(key_lens)\n",
    "\n",
    "for k, v in partition_stats.items():\n",
    "    print(f'{\" \" * (max_key_len - len(k))}{k}:', v)"
   ]
  },
  {
   "cell_type": "code",
   "execution_count": 34,
   "id": "14cf2c58",
   "metadata": {},
   "outputs": [
    {
     "name": "stdout",
     "output_type": "stream",
     "text": [
      "/Users/michaelbertagna/git/TGNE-2022/utils\n"
     ]
    }
   ],
   "source": [
    "enrich_full_nn3 = clustering_utils.compute_enrichment(leiden_label_df_round_1_arranged_sorted)"
   ]
  },
  {
   "cell_type": "code",
   "execution_count": 35,
   "id": "54833535",
   "metadata": {},
   "outputs": [],
   "source": [
    "outfile='../enrichment/test_nn3_full_enrichment.csv'\n",
    "enrich_full_nn3.to_csv(outfile, index=False)"
   ]
  },
  {
   "cell_type": "code",
   "execution_count": 36,
   "id": "f16bb3a2",
   "metadata": {},
   "outputs": [],
   "source": [
    "complete_annot = pd.read_csv('../eggnog/complete_eggnog_annotation.csv')"
   ]
  },
  {
   "cell_type": "code",
   "execution_count": 37,
   "id": "e207ff25",
   "metadata": {},
   "outputs": [],
   "source": [
    "palette45 = \"\"\"\n",
    "#51635F\\n#FF1C16\\n#16FC26\\n#403DFC\\n#FE0DCE\\n#F9AA00\\n#00FFD5\\n#22BFFE\\n#BB3551\\n#E6FE97\\n#ECADFF\\n#FFBFBD\\n#CF00F5\\n#0D8B00\\n#D7FEFF\\n#8D7200\\n#F76C00\\n#AD3288\\n#5C5AB8\\n#FC0080\\n#B8FF16\\n#00AAB4\\n#FBE11C\\n#9AAAD9\\n#8BBB8C\\n#934B47\\n#6EFE99\\n#9C6D91\\n#FB9778\\n#9D32AF\\n#D40087\\n#FFDC9D\\n#FF8DB6\\n#A96AFC\\n#FDDDFB\\n#168CF7\\n#FD6CF9\\n#F64553\\n#4D6A00\\n#FAFEDB\\n#A7977D\\n#0DFBFF\\n#86B80D\\n#FD8AE4\\n#B7B126\n",
    "\"\"\".split()\n",
    "\n",
    "palette32 = \"\"\"\n",
    "white\\n#F91622\\n#16FC0D\\n#5138FB\\n#FD00CF\\n#FDD51C\\n#16FDD7\\n#FC8B8E\\n#16BFFF\\n#DF9BFD\\n#669C2A\\n#FEE7C4\\n#F31685\\n#DF16FD\\n#C1F1FE\\n#A23D7E\\n#D5FD0D\\n#8C5A0D\\n#FC790D\\n#4F5CBC\\n#FFCBEF\\n#168D72\\n#68FA93\\n#C4FDC9\\n#F7A449\\n#16789B\\n#AD0DAB\\n#C4262E\\n#0DF1FF\\n#EFF994\\n#B6C1FE\\n#8F22CD\n",
    "\"\"\".split()\n",
    "\n",
    "palette35 = \"\"\"\n",
    "#585F6A\\n#FE1626\\n#00FB0D\\n#2E40FC\\n#FD0DCE\\n#FCD200\\n#F7868C\\n#16FFDC\\n#22BEFB\\n#D28EF6\\n#609000\\n#FFE7C9\\n#F51683\\n#FF730D\\n#CAFE16\\n#AA3586\\n#BEEEFD\\n#BD00FA\\n#895D22\\n#FEC7F0\\n#495AA1\\n#73F995\\n#229270\\n#ED963B\\n#F6FE97\\n#C5FFD0\\n#C50DC8\\n#6993FF\\n#C22A35\\n#16ECFC\\n#AA707E\\n#7A3BCB\\n#7C845C\\n#358FAA\\n#BDBAF6\n",
    "\"\"\".split()\n",
    "\n",
    "palette38 = \"\"\"\n",
    "#636265\\n#F60D16\\n#00F90D\\n#3540FB\\n#FD0DD0\\n#FDDB0D\\n#00FFE2\\n#FA8884\\n#2ABEFE\\n#E5A3FF\\n#518F00\\n#FEFDD5\\n#D51CFF\\n#ED007F\\n#A33879\\n#96731C\\n#C8FB16\\n#C0ECFE\\n#FBC1DA\\n#5658BA\\n#F96900\\n#F69F1C\\n#58FA9C\\n#008E72\\n#BA22B9\\n#167D97\\n#794D8A\\n#CEFE9C\\n#BB222E\\n#954D45\\n#00DCEF\\n#FD66B0\\n#B2FDD3\\n#FDBD9F\\n#A9B4F1\\n#B371FE\\n#849566\\n#2A8EFF\n",
    "\"\"\".split()\n",
    "\n",
    "palette64 = \"\"\"\n",
    "white\\n#FA002E\\n#22FC22\\n#221CFA\\n#FF3DD6\\n#FFDA00\\n#00FEFB\\n#F48684\\n#CEB4FE\\n#FFFFE5\\n#0D933D\\n#CC00F8\\n#800D5D\\n#F10084\\n#22267A\\n#0DADFF\\n#CBFD71\\n#9A761C\\n#F96C00\\n#6399A6\\n#FFBCDA\\n#8D0DA3\\n#F79F26\\n#00FFBF\\n#A37CFB\\n#F68EEB\\n#720D0D\\n#F163AA\\n#7E926A\\n#826386\\n#B41C32\\n#9BEBCE\\n#E2DB83\\n#56D4FA\\n#E6E2FB\\n#925D58\\n#F7C3A7\\n#62E970\\n#220DBD\\n#5583BB\\n#7EA01C\\n#CDFDB6\\n#FD00FB\\n#B30D97\\n#F5FF00\\n#DD77FD\\n#4282FC\\n#BBA6A4\\n#0D8068\\n#AB5F26\\n#F7C26E\\n#9EFE00\\n#9B2EFD\\n#C56887\\n#FD3D68\\n#ABF2FD\\n#835FAC\\n#FF16B1\\n#325371\\n#CA16CA\\n#D26322\\n#AFCFFE\\n#91A1FA\\nfloralwhite\n",
    "\"\"\".split()\n",
    "\n",
    "palette65 = \"\"\"\n",
    "white\\ngainsboro\\n#FA002E\\n#22FC22\\n#221CFA\\n#FF3DD6\\n#FFDA00\\n#00FEFB\\n#F48684\\n#CEB4FE\\n#FFFFE5\\n#0D933D\\n#CC00F8\\n#800D5D\\n#F10084\\n#22267A\\n#0DADFF\\n#CBFD71\\n#9A761C\\n#F96C00\\n#6399A6\\n#FFBCDA\\n#8D0DA3\\n#F79F26\\n#00FFBF\\n#A37CFB\\n#F68EEB\\n#720D0D\\n#F163AA\\n#7E926A\\n#826386\\n#B41C32\\n#9BEBCE\\n#E2DB83\\n#56D4FA\\n#E6E2FB\\n#925D58\\n#F7C3A7\\n#62E970\\n#220DBD\\n#5583BB\\n#7EA01C\\n#CDFDB6\\n#FD00FB\\n#B30D97\\n#F5FF00\\n#DD77FD\\n#4282FC\\n#BBA6A4\\n#0D8068\\n#AB5F26\\n#F7C26E\\n#9EFE00\\n#9B2EFD\\n#C56887\\n#FD3D68\\n#ABF2FD\\n#835FAC\\n#FF16B1\\n#325371\\n#CA16CA\\n#D26322\\n#AFCFFE\\n#91A1FA\\nfloralwhite\n",
    "\"\"\".split()"
   ]
  },
  {
   "cell_type": "code",
   "execution_count": 38,
   "id": "19915e39",
   "metadata": {},
   "outputs": [],
   "source": [
    "palette36 = [\"#FFFFFF\", \n",
    "             \"#E4E1E3\", \n",
    "             \"#F6222E\", \n",
    "             \"#FE00FA\", \n",
    "             \"#16FF32\", \n",
    "             \"#3283FE\", \n",
    "             \"#FEAF16\", \n",
    "             \"#B00068\", \n",
    "             \"#1CFFCE\",\n",
    "             \"#90AD1C\", \n",
    "             \"#2ED9FF\", \n",
    "             \"#DEA0FD\", \n",
    "             \"#AA0DFE\", \n",
    "             \"#F8A19F\", \n",
    "             \"#325A9B\", \n",
    "             \"#C4451C\", \n",
    "             \"#1C8356\", \n",
    "             \"#85660D\",\n",
    "             \"#B10DA1\", \n",
    "             \"#FBE426\", \n",
    "             \"#1CBE4F\", \n",
    "             \"#FA0087\", \n",
    "             \"#FC1CBF\", \n",
    "             \"#F7E1A0\", \n",
    "             \"#C075A6\", \n",
    "             \"#782AB6\", \n",
    "             \"#AAF400\",\n",
    "             \"#BDCDFF\", \n",
    "             \"#822E1C\", \n",
    "             \"#B5EFB5\", \n",
    "             \"#7ED7D1\", \n",
    "             \"#1C7F93\", \n",
    "             \"#D85FF7\", \n",
    "             \"#683B79\", \n",
    "             \"#66B0FF\", \n",
    "             \"#3B00FB\",\n",
    "             \"magenta\"]"
   ]
  },
  {
   "cell_type": "markdown",
   "id": "0134123d",
   "metadata": {},
   "source": [
    "change index 5 to #778899. Change index 9 to #2F4F4F. Add #FF7F50. Change index 9 to #FFBCD9. Change index 14 to #DEA5A4"
   ]
  },
  {
   "cell_type": "code",
   "execution_count": 39,
   "id": "88021772",
   "metadata": {},
   "outputs": [],
   "source": [
    "palette27 = [\"#FFFFFF\", \n",
    "             \"#AA0DFE\", \n",
    "             \"#3283FE\", \n",
    "             \"#85660D\", \n",
    "             \"#782AB6\", \n",
    "             \"#778899\", \n",
    "             \"#1C8356\", \n",
    "             \"#16FF32\", \n",
    "             \"#F7E1A0\", \n",
    "#              \"#2F4F4F\",\n",
    "             \"#FFBCD9\", \n",
    "             \"#C4451C\", \n",
    "             \"#DEA0FD\", \n",
    "             \"#FE00FA\", \n",
    "#              \"#325A9B\", \n",
    "             \"#FEAF16\", \n",
    "             \"#DEA5A4\", \n",
    "             \"#90AD1C\", \n",
    "             \"#F6222E\",\n",
    "             \"#1CFFCE\", \n",
    "             \"#2ED9FF\", \n",
    "             \"#B10DA1\", \n",
    "#              \"#C075A6\", \n",
    "#              \"#FC1CBF\", \n",
    "#              \"#B00068\", \n",
    "             \"#FBE426\", \n",
    "             \"#FA0087\",\n",
    "             \"#FF7F50\"\n",
    "            ]"
   ]
  },
  {
   "cell_type": "code",
   "execution_count": 40,
   "id": "bf85ba87",
   "metadata": {},
   "outputs": [],
   "source": [
    "with open(('colors_2000_1'), 'rb') as file:\n",
    "    color_palette_raw = pickle.load(file)\n",
    "\n",
    "color_palette = palette65\n",
    "\n",
    "if len(color_palette_raw) >= max(leiden_label_df_round_1_arranged_sorted['label'].unique()) + 1:\n",
    "    color_palette = color_palette_raw[:max(leiden_label_df_round_1_arranged_sorted['label'].unique()) + 1]"
   ]
  },
  {
   "cell_type": "code",
   "execution_count": 41,
   "id": "4ee0f5f4",
   "metadata": {},
   "outputs": [
    {
     "name": "stdout",
     "output_type": "stream",
     "text": [
      "Color key has fewer colors than labels. Making all red\n"
     ]
    },
    {
     "name": "stderr",
     "output_type": "stream",
     "text": [
      "/Users/michaelbertagna/git/TGNE-2022/TGNE/embedding/../../utils/bokeh_ui_utils.py:493: SettingWithCopyWarning: \n",
      "A value is trying to be set on a copy of a slice from a DataFrame.\n",
      "Try using .loc[row_indexer,col_indexer] = value instead\n",
      "\n",
      "See the caveats in the documentation: https://pandas.pydata.org/pandas-docs/stable/user_guide/indexing.html#returning-a-view-versus-a-copy\n",
      "  hm_df['module'] = hover_data['module'].values\n"
     ]
    },
    {
     "name": "stdout",
     "output_type": "stream",
     "text": [
      "./plots/dashboard307_microarr_umap_manhattan_3nn_0.05rp.html\n"
     ]
    }
   ],
   "source": [
    "import os\n",
    "\n",
    "embedding_metric='manhattan'\n",
    "\n",
    "dashboard_path = file_utils.generate_uniquely_numbered_export_path('./plots/', 'dashboard', '.html', tags=['microarr', 'umap', metric, f'{n_neighbors}nn', f'{resolution_param}rp'])\n",
    "\n",
    "p = bokeh_ui_utils.generate_and_save_umap(dashboard_path, full_filtered_norm_df, complete_annot, leiden_label_df_round_1_arranged_sorted, 'full', color_palette, os.path.basename(dashboard_path), expr_min=0, expr_max=1, n_neighbors=n_neighbors, embedding_metric=embedding_metric)"
   ]
  },
  {
   "cell_type": "code",
   "execution_count": 42,
   "id": "5f65ebfa",
   "metadata": {},
   "outputs": [],
   "source": [
    "mucocyst_cluster = [\n",
    "'YF00036312.t1',\n",
    "'YF00012829.t1',\n",
    "'YF00000889.t1',\n",
    "'TTHERM_00527180',\n",
    "'TTHERM_00335830',\n",
    "'YF00012830.t1',\n",
    "'YF00009126.t1',\n",
    "'YF00005954.t1',\n",
    "'YF00005804.t1',\n",
    "'TTHERM_01055600',\n",
    "'TTHERM_00624720',\n",
    "] # TTHERM_00630470: mucocyst gene with drastically different expression profile"
   ]
  },
  {
   "cell_type": "code",
   "execution_count": 43,
   "id": "7b8f206b",
   "metadata": {},
   "outputs": [
    {
     "name": "stdout",
     "output_type": "stream",
     "text": [
      "YF00036312.t1,YF00012829.t1,YF00000889.t1,TTHERM_00527180,TTHERM_00335830,YF00012830.t1,YF00009126.t1,YF00005954.t1,YF00005804.t1,TTHERM_01055600,TTHERM_00624720\n"
     ]
    }
   ],
   "source": [
    "print(','.join(mucocyst_cluster))"
   ]
  },
  {
   "cell_type": "code",
   "execution_count": 44,
   "id": "3a74c114",
   "metadata": {},
   "outputs": [
    {
     "name": "stdout",
     "output_type": "stream",
     "text": [
      "6 / 11 = 0.5454545454545454\n",
      "             TTHERM_ID  label\n",
      "15857    YF00012830.t1   1714\n",
      "15327    YF00009126.t1   1714\n",
      "14900    YF00005954.t1   1714\n",
      "14894    YF00005804.t1   1714\n",
      "13192  TTHERM_01055600   1714\n",
      "9825   TTHERM_00624720   1714\n",
      "YF00012830.t1,YF00009126.t1,YF00005954.t1,YF00005804.t1,TTHERM_01055600,TTHERM_00624720\n"
     ]
    },
    {
     "data": {
      "text/plain": [
       "0.5454545454545454"
      ]
     },
     "execution_count": 44,
     "metadata": {},
     "output_type": "execute_result"
    }
   ],
   "source": [
    "clustering_utils.fraction_max_same_cluster_genes(mucocyst_cluster, leiden_label_df_round_1_arranged_sorted)"
   ]
  }
 ],
 "metadata": {
  "kernelspec": {
   "display_name": "Python 3 (ipykernel)",
   "language": "python",
   "name": "python3"
  },
  "language_info": {
   "codemirror_mode": {
    "name": "ipython",
    "version": 3
   },
   "file_extension": ".py",
   "mimetype": "text/x-python",
   "name": "python",
   "nbconvert_exporter": "python",
   "pygments_lexer": "ipython3",
   "version": "3.8.16"
  }
 },
 "nbformat": 4,
 "nbformat_minor": 5
}

{
 "cells": [
  {
   "cell_type": "markdown",
   "id": "2e305761-a971-4232-8a21-5907cfeedfad",
   "metadata": {},
   "source": [
    "## IMPORT PACKAGES"
   ]
  },
  {
   "cell_type": "code",
   "execution_count": 1,
   "id": "5d9163ea-8dc4-46e8-9542-ba27cc741b52",
   "metadata": {},
   "outputs": [],
   "source": [
    "import pandas as pd\n",
    "import sys\n",
    "from matplotlib import pyplot as plt\n",
    "import pickle\n",
    "import numpy as np\n",
    "import os\n",
    "\n",
    "sys.path.append('../../')\n",
    "from utils import microarray_utils, clustering_utils, bokeh_ui_utils_final, file_utils"
   ]
  },
  {
   "cell_type": "code",
   "execution_count": 2,
   "id": "20cf4cee",
   "metadata": {},
   "outputs": [
    {
     "data": {
      "text/plain": [
       "20457"
      ]
     },
     "execution_count": 2,
     "metadata": {},
     "output_type": "execute_result"
    }
   ],
   "source": [
    "full_filtered_df = pd.read_csv('../microarray_probe_alignment_and_filtering/allgood_filt_agg_tidy_2021aligned_qc_rma_expression_full.csv')\n",
    "full_filtered_df = full_filtered_df.rename(columns={'Unnamed: 0': 'TTHERM_ID'})\n",
    "full_filtered_norm_df = microarray_utils.normalize_expression_per_gene(full_filtered_df, z=True)\n",
    "full_filtered_norm_df = microarray_utils.get_arith_mean_expression(full_filtered_norm_df)\n",
    "\n",
    "num_genes = full_filtered_df.shape[0]\n",
    "num_genes"
   ]
  },
  {
   "cell_type": "code",
   "execution_count": 3,
   "id": "7417793e",
   "metadata": {},
   "outputs": [],
   "source": [
    "veg_cols = [col for col in full_filtered_df.columns if col[0] != 'C']\n",
    "veg_filtered_df = full_filtered_df[veg_cols]\n",
    "veg_filtered_norm_df = microarray_utils.normalize_expression_per_gene(veg_filtered_df, z=True)\n",
    "veg_filtered_norm_df = microarray_utils.get_arith_mean_expression(veg_filtered_norm_df)"
   ]
  },
  {
   "cell_type": "code",
   "execution_count": 4,
   "id": "e76f3df3",
   "metadata": {},
   "outputs": [],
   "source": [
    "sex_cols = [col for col in full_filtered_df.columns if col[0] == 'C']\n",
    "sex_filtered_df = full_filtered_df[['TTHERM_ID'] + sex_cols]\n",
    "sex_filtered_norm_df = microarray_utils.normalize_expression_per_gene(sex_filtered_df, z=True)\n",
    "sex_filtered_norm_df = microarray_utils.get_arith_mean_expression(sex_filtered_norm_df)"
   ]
  },
  {
   "cell_type": "code",
   "execution_count": 5,
   "id": "205a5da4",
   "metadata": {},
   "outputs": [
    {
     "data": {
      "text/plain": [
       "Index(['TTHERM_ID', 'C0', 'C4', 'C6', 'C8', 'C10', 'C12', 'C14', 'C16', 'C18'], dtype='object')"
      ]
     },
     "execution_count": 5,
     "metadata": {},
     "output_type": "execute_result"
    }
   ],
   "source": [
    "sex_filtered_norm_df.columns"
   ]
  },
  {
   "cell_type": "code",
   "execution_count": 6,
   "id": "fc5118f9",
   "metadata": {},
   "outputs": [
    {
     "data": {
      "text/plain": [
       "Index(['TTHERM_ID', 'Ll', 'Lm', 'Lh', 'S0', 'S3', 'S6', 'S9', 'S15', 'S24'], dtype='object')"
      ]
     },
     "execution_count": 6,
     "metadata": {},
     "output_type": "execute_result"
    }
   ],
   "source": [
    "veg_filtered_norm_df.columns"
   ]
  },
  {
   "cell_type": "code",
   "execution_count": 7,
   "id": "3d9f967f",
   "metadata": {},
   "outputs": [
    {
     "data": {
      "text/plain": [
       "(-2.961564978801273, 3.129140180364164)"
      ]
     },
     "execution_count": 7,
     "metadata": {},
     "output_type": "execute_result"
    }
   ],
   "source": [
    "np.min(veg_filtered_norm_df[veg_filtered_norm_df.columns[1:]]), np.max(sex_filtered_norm_df[sex_filtered_norm_df.columns[1:]])"
   ]
  },
  {
   "cell_type": "markdown",
   "id": "d03955e5",
   "metadata": {},
   "source": [
    "# LEIDEN CLUSTERING"
   ]
  },
  {
   "cell_type": "code",
   "execution_count": 8,
   "id": "1b2abc21",
   "metadata": {},
   "outputs": [],
   "source": [
    "phases_list = ['full', 'veg', 'sex']\n",
    "phases = 'full'"
   ]
  },
  {
   "cell_type": "code",
   "execution_count": 9,
   "id": "6cabc893",
   "metadata": {},
   "outputs": [],
   "source": [
    "metric = 'manhattan'\n",
    "# metric='minkowski_3.0'\n",
    "\n",
    "resolution_param=0.005\n",
    "# resolution_param=0.0001\n",
    "\n",
    "n_neighbors = 3\n",
    "\n",
    "dataset = 'microarray'"
   ]
  },
  {
   "cell_type": "code",
   "execution_count": 10,
   "id": "92c456b7",
   "metadata": {},
   "outputs": [],
   "source": [
    "# Moving normalization from within the function to before the function\n",
    "leiden_label_df_round_1, partition_stats, cluster_sizes, enriched_cluster_sizes =  clustering_utils.build_label_df(\n",
    "    full_filtered_norm_df,\n",
    "    dataset,\n",
    "    metric=metric,\n",
    "    n_neighbors=n_neighbors, \n",
    "    resolution_param=resolution_param, \n",
    "    partition_type = 'EXP', \n",
    "    n_jobs = -1, \n",
    "    random_state=42\n",
    "    )"
   ]
  },
  {
   "cell_type": "code",
   "execution_count": 11,
   "id": "898432ff",
   "metadata": {},
   "outputs": [
    {
     "data": {
      "text/html": [
       "<div>\n",
       "<style scoped>\n",
       "    .dataframe tbody tr th:only-of-type {\n",
       "        vertical-align: middle;\n",
       "    }\n",
       "\n",
       "    .dataframe tbody tr th {\n",
       "        vertical-align: top;\n",
       "    }\n",
       "\n",
       "    .dataframe thead th {\n",
       "        text-align: right;\n",
       "    }\n",
       "</style>\n",
       "<table border=\"1\" class=\"dataframe\">\n",
       "  <thead>\n",
       "    <tr style=\"text-align: right;\">\n",
       "      <th></th>\n",
       "      <th>TTHERM_ID</th>\n",
       "      <th>Ll</th>\n",
       "      <th>Lm</th>\n",
       "      <th>Lh</th>\n",
       "      <th>S0</th>\n",
       "      <th>S3</th>\n",
       "      <th>S6</th>\n",
       "      <th>S9</th>\n",
       "      <th>S15</th>\n",
       "      <th>S24</th>\n",
       "      <th>C0</th>\n",
       "      <th>C4</th>\n",
       "      <th>C6</th>\n",
       "      <th>C8</th>\n",
       "      <th>C10</th>\n",
       "      <th>C12</th>\n",
       "      <th>C14</th>\n",
       "      <th>C16</th>\n",
       "      <th>C18</th>\n",
       "    </tr>\n",
       "  </thead>\n",
       "  <tbody>\n",
       "    <tr>\n",
       "      <th>0</th>\n",
       "      <td>TTHERM_00000010</td>\n",
       "      <td>-1.553420</td>\n",
       "      <td>-1.433147</td>\n",
       "      <td>-1.054066</td>\n",
       "      <td>0.955595</td>\n",
       "      <td>0.974208</td>\n",
       "      <td>1.325400</td>\n",
       "      <td>1.204091</td>\n",
       "      <td>-0.126947</td>\n",
       "      <td>0.366653</td>\n",
       "      <td>1.805770</td>\n",
       "      <td>-0.418988</td>\n",
       "      <td>-0.912919</td>\n",
       "      <td>-0.520678</td>\n",
       "      <td>-0.677242</td>\n",
       "      <td>-0.448898</td>\n",
       "      <td>0.349372</td>\n",
       "      <td>0.254328</td>\n",
       "      <td>0.290465</td>\n",
       "    </tr>\n",
       "    <tr>\n",
       "      <th>1</th>\n",
       "      <td>TTHERM_00000020</td>\n",
       "      <td>-1.013516</td>\n",
       "      <td>-0.268787</td>\n",
       "      <td>-0.091669</td>\n",
       "      <td>2.079191</td>\n",
       "      <td>0.866215</td>\n",
       "      <td>0.832948</td>\n",
       "      <td>0.205371</td>\n",
       "      <td>-0.597014</td>\n",
       "      <td>-0.349501</td>\n",
       "      <td>0.863108</td>\n",
       "      <td>0.017528</td>\n",
       "      <td>-0.398205</td>\n",
       "      <td>-0.495528</td>\n",
       "      <td>-0.558661</td>\n",
       "      <td>-0.481148</td>\n",
       "      <td>-0.448032</td>\n",
       "      <td>-0.022160</td>\n",
       "      <td>-0.583618</td>\n",
       "    </tr>\n",
       "    <tr>\n",
       "      <th>2</th>\n",
       "      <td>TTHERM_00000030</td>\n",
       "      <td>-0.685354</td>\n",
       "      <td>-0.540061</td>\n",
       "      <td>-0.360846</td>\n",
       "      <td>2.244454</td>\n",
       "      <td>0.907066</td>\n",
       "      <td>1.587792</td>\n",
       "      <td>1.090819</td>\n",
       "      <td>-0.324945</td>\n",
       "      <td>-0.503064</td>\n",
       "      <td>-0.056373</td>\n",
       "      <td>0.150430</td>\n",
       "      <td>-0.420220</td>\n",
       "      <td>-0.677549</td>\n",
       "      <td>-0.550117</td>\n",
       "      <td>-0.489509</td>\n",
       "      <td>-0.572542</td>\n",
       "      <td>-0.709799</td>\n",
       "      <td>-0.570667</td>\n",
       "    </tr>\n",
       "    <tr>\n",
       "      <th>3</th>\n",
       "      <td>TTHERM_00000040</td>\n",
       "      <td>-0.313709</td>\n",
       "      <td>0.327643</td>\n",
       "      <td>0.545714</td>\n",
       "      <td>1.074320</td>\n",
       "      <td>0.492955</td>\n",
       "      <td>-0.088858</td>\n",
       "      <td>0.308485</td>\n",
       "      <td>0.822506</td>\n",
       "      <td>0.903034</td>\n",
       "      <td>0.463793</td>\n",
       "      <td>0.472602</td>\n",
       "      <td>0.731013</td>\n",
       "      <td>-0.343001</td>\n",
       "      <td>-2.071022</td>\n",
       "      <td>-1.548472</td>\n",
       "      <td>-0.789719</td>\n",
       "      <td>-0.499827</td>\n",
       "      <td>-0.215853</td>\n",
       "    </tr>\n",
       "    <tr>\n",
       "      <th>4</th>\n",
       "      <td>TTHERM_00000047</td>\n",
       "      <td>0.449265</td>\n",
       "      <td>0.302215</td>\n",
       "      <td>-0.314104</td>\n",
       "      <td>-0.965057</td>\n",
       "      <td>-0.472782</td>\n",
       "      <td>-0.859882</td>\n",
       "      <td>-0.012660</td>\n",
       "      <td>-0.043277</td>\n",
       "      <td>0.261221</td>\n",
       "      <td>-1.971605</td>\n",
       "      <td>0.796121</td>\n",
       "      <td>-0.084149</td>\n",
       "      <td>1.806237</td>\n",
       "      <td>-0.160122</td>\n",
       "      <td>0.712822</td>\n",
       "      <td>1.256452</td>\n",
       "      <td>-0.406528</td>\n",
       "      <td>-0.362284</td>\n",
       "    </tr>\n",
       "  </tbody>\n",
       "</table>\n",
       "</div>"
      ],
      "text/plain": [
       "         TTHERM_ID        Ll        Lm        Lh        S0        S3  \\\n",
       "0  TTHERM_00000010 -1.553420 -1.433147 -1.054066  0.955595  0.974208   \n",
       "1  TTHERM_00000020 -1.013516 -0.268787 -0.091669  2.079191  0.866215   \n",
       "2  TTHERM_00000030 -0.685354 -0.540061 -0.360846  2.244454  0.907066   \n",
       "3  TTHERM_00000040 -0.313709  0.327643  0.545714  1.074320  0.492955   \n",
       "4  TTHERM_00000047  0.449265  0.302215 -0.314104 -0.965057 -0.472782   \n",
       "\n",
       "         S6        S9       S15       S24        C0        C4        C6  \\\n",
       "0  1.325400  1.204091 -0.126947  0.366653  1.805770 -0.418988 -0.912919   \n",
       "1  0.832948  0.205371 -0.597014 -0.349501  0.863108  0.017528 -0.398205   \n",
       "2  1.587792  1.090819 -0.324945 -0.503064 -0.056373  0.150430 -0.420220   \n",
       "3 -0.088858  0.308485  0.822506  0.903034  0.463793  0.472602  0.731013   \n",
       "4 -0.859882 -0.012660 -0.043277  0.261221 -1.971605  0.796121 -0.084149   \n",
       "\n",
       "         C8       C10       C12       C14       C16       C18  \n",
       "0 -0.520678 -0.677242 -0.448898  0.349372  0.254328  0.290465  \n",
       "1 -0.495528 -0.558661 -0.481148 -0.448032 -0.022160 -0.583618  \n",
       "2 -0.677549 -0.550117 -0.489509 -0.572542 -0.709799 -0.570667  \n",
       "3 -0.343001 -2.071022 -1.548472 -0.789719 -0.499827 -0.215853  \n",
       "4  1.806237 -0.160122  0.712822  1.256452 -0.406528 -0.362284  "
      ]
     },
     "execution_count": 11,
     "metadata": {},
     "output_type": "execute_result"
    }
   ],
   "source": [
    "full_filtered_norm_df.head()"
   ]
  },
  {
   "cell_type": "code",
   "execution_count": 12,
   "id": "6b8d5fd8",
   "metadata": {},
   "outputs": [],
   "source": [
    "leiden_label_df_round_1_arranged = bokeh_ui_utils_final.arrange_modules(full_filtered_norm_df, leiden_label_df_round_1, phases) \n",
    "leiden_label_df_round_1_arranged_sorted = leiden_label_df_round_1_arranged.sort_values(by=['label', 'TTHERM_ID'], ascending=False)\n",
    "leiden_label_df_round_1_arranged_sorted.to_csv('./test_nn3_leiden_label_df_round_1.csv', index=False)"
   ]
  },
  {
   "cell_type": "code",
   "execution_count": 13,
   "id": "f817c1b7",
   "metadata": {},
   "outputs": [],
   "source": [
    "avg_full_filtered_norm_df = clustering_utils.ari_mean_nexpr_per_mod(full_filtered_norm_df, leiden_label_df_round_1_arranged_sorted)"
   ]
  },
  {
   "cell_type": "code",
   "execution_count": 14,
   "id": "68372c7d",
   "metadata": {},
   "outputs": [
    {
     "data": {
      "image/png": "[encoded data removed]",
      "text/plain": [
       "<Figure size 640x480 with 1 Axes>"
      ]
     },
     "metadata": {},
     "output_type": "display_data"
    }
   ],
   "source": [
    "plt.hist(cluster_sizes, max(cluster_sizes))\n",
    "plt.title('DISTRIBUTION OF ALL CLUSTER SIZES')\n",
    "plt.xlabel('# genes in cluster')\n",
    "plt.ylabel('# clusters')\n",
    "plt.show()"
   ]
  },
  {
   "cell_type": "code",
   "execution_count": 15,
   "id": "0f74b92c",
   "metadata": {},
   "outputs": [
    {
     "data": {
      "image/png": "[encoded data removed]",
      "text/plain": [
       "<Figure size 640x480 with 1 Axes>"
      ]
     },
     "metadata": {},
     "output_type": "display_data"
    }
   ],
   "source": [
    "plt.hist(enriched_cluster_sizes, max(enriched_cluster_sizes))\n",
    "plt.title('DISTRIBUTION OF ENRICHED CLUSTER SIZES')\n",
    "plt.xlabel('# genes in cluster')\n",
    "plt.ylabel('# clusters')\n",
    "plt.show()"
   ]
  },
  {
   "cell_type": "code",
   "execution_count": 16,
   "id": "27741048",
   "metadata": {},
   "outputs": [
    {
     "name": "stdout",
     "output_type": "stream",
     "text": [
      "              partition_type: EXP\n",
      "              dimensionality: baseline\n",
      "                      metric: manhattan\n",
      "                       graph: umap_fuzzy_simplicial_set\n",
      "                         nns: 3\n",
      "                  clustering: leiden_cpm\n",
      "                   parameter: 0.005\n",
      "            silhouette_score: -0.0351774798383598\n",
      "                  modularity: 0.7620478644705118\n",
      "                   nclusters: 629\n",
      "           mean_cluster_size: 32.52305246422893\n",
      "         median_cluster_size: 30.0\n",
      "             sd_cluster_size: 13.591877527428576\n",
      "          nenriched_clusters: 210\n",
      "  mean_enriched_cluster_size: 35.41904761904762\n",
      "median_enriched_cluster_size: 33.0\n",
      "    sd_enriched_cluster_size: 14.319670754648723\n",
      "     nenriched_cluster_genes: 7438\n",
      "                    datetime: 2024-05-31 16:01:59.701317\n"
     ]
    }
   ],
   "source": [
    "key_lens = [len(k) for k in partition_stats.keys()]\n",
    "max_key_len = max(key_lens)\n",
    "\n",
    "for k, v in partition_stats.items():\n",
    "    print(f'{\" \" * (max_key_len - len(k))}{k}:', v)"
   ]
  },
  {
   "cell_type": "code",
   "execution_count": 17,
   "id": "14cf2c58",
   "metadata": {},
   "outputs": [],
   "source": [
    "enrich_full_nn3 = clustering_utils.compute_enrichment(leiden_label_df_round_1_arranged_sorted)"
   ]
  },
  {
   "cell_type": "code",
   "execution_count": 18,
   "id": "54833535",
   "metadata": {},
   "outputs": [],
   "source": [
    "outfile='../enrichment/test_nn3_full_enrichment.csv'\n",
    "enrich_full_nn3.to_csv(outfile, index=False)"
   ]
  },
  {
   "cell_type": "code",
   "execution_count": 19,
   "id": "f16bb3a2",
   "metadata": {},
   "outputs": [],
   "source": [
    "complete_annot = pd.read_csv('../eggnog/complete_eggnog_annotation.csv')"
   ]
  },
  {
   "cell_type": "code",
   "execution_count": 20,
   "id": "e207ff25",
   "metadata": {},
   "outputs": [],
   "source": [
    "palette45 = \"\"\"\n",
    "#51635F\\n#FF1C16\\n#16FC26\\n#403DFC\\n#FE0DCE\\n#F9AA00\\n#00FFD5\\n#22BFFE\\n#BB3551\\n#E6FE97\\n#ECADFF\\n#FFBFBD\\n#CF00F5\\n#0D8B00\\n#D7FEFF\\n#8D7200\\n#F76C00\\n#AD3288\\n#5C5AB8\\n#FC0080\\n#B8FF16\\n#00AAB4\\n#FBE11C\\n#9AAAD9\\n#8BBB8C\\n#934B47\\n#6EFE99\\n#9C6D91\\n#FB9778\\n#9D32AF\\n#D40087\\n#FFDC9D\\n#FF8DB6\\n#A96AFC\\n#FDDDFB\\n#168CF7\\n#FD6CF9\\n#F64553\\n#4D6A00\\n#FAFEDB\\n#A7977D\\n#0DFBFF\\n#86B80D\\n#FD8AE4\\n#B7B126\n",
    "\"\"\".split()\n",
    "\n",
    "palette32 = \"\"\"\n",
    "white\\n#F91622\\n#16FC0D\\n#5138FB\\n#FD00CF\\n#FDD51C\\n#16FDD7\\n#FC8B8E\\n#16BFFF\\n#DF9BFD\\n#669C2A\\n#FEE7C4\\n#F31685\\n#DF16FD\\n#C1F1FE\\n#A23D7E\\n#D5FD0D\\n#8C5A0D\\n#FC790D\\n#4F5CBC\\n#FFCBEF\\n#168D72\\n#68FA93\\n#C4FDC9\\n#F7A449\\n#16789B\\n#AD0DAB\\n#C4262E\\n#0DF1FF\\n#EFF994\\n#B6C1FE\\n#8F22CD\n",
    "\"\"\".split()\n",
    "\n",
    "palette35 = \"\"\"\n",
    "#585F6A\\n#FE1626\\n#00FB0D\\n#2E40FC\\n#FD0DCE\\n#FCD200\\n#F7868C\\n#16FFDC\\n#22BEFB\\n#D28EF6\\n#609000\\n#FFE7C9\\n#F51683\\n#FF730D\\n#CAFE16\\n#AA3586\\n#BEEEFD\\n#BD00FA\\n#895D22\\n#FEC7F0\\n#495AA1\\n#73F995\\n#229270\\n#ED963B\\n#F6FE97\\n#C5FFD0\\n#C50DC8\\n#6993FF\\n#C22A35\\n#16ECFC\\n#AA707E\\n#7A3BCB\\n#7C845C\\n#358FAA\\n#BDBAF6\n",
    "\"\"\".split()\n",
    "\n",
    "palette38 = \"\"\"\n",
    "#636265\\n#F60D16\\n#00F90D\\n#3540FB\\n#FD0DD0\\n#FDDB0D\\n#00FFE2\\n#FA8884\\n#2ABEFE\\n#E5A3FF\\n#518F00\\n#FEFDD5\\n#D51CFF\\n#ED007F\\n#A33879\\n#96731C\\n#C8FB16\\n#C0ECFE\\n#FBC1DA\\n#5658BA\\n#F96900\\n#F69F1C\\n#58FA9C\\n#008E72\\n#BA22B9\\n#167D97\\n#794D8A\\n#CEFE9C\\n#BB222E\\n#954D45\\n#00DCEF\\n#FD66B0\\n#B2FDD3\\n#FDBD9F\\n#A9B4F1\\n#B371FE\\n#849566\\n#2A8EFF\n",
    "\"\"\".split()\n",
    "\n",
    "palette64 = \"\"\"\n",
    "white\\n#FA002E\\n#22FC22\\n#221CFA\\n#FF3DD6\\n#FFDA00\\n#00FEFB\\n#F48684\\n#CEB4FE\\n#FFFFE5\\n#0D933D\\n#CC00F8\\n#800D5D\\n#F10084\\n#22267A\\n#0DADFF\\n#CBFD71\\n#9A761C\\n#F96C00\\n#6399A6\\n#FFBCDA\\n#8D0DA3\\n#F79F26\\n#00FFBF\\n#A37CFB\\n#F68EEB\\n#720D0D\\n#F163AA\\n#7E926A\\n#826386\\n#B41C32\\n#9BEBCE\\n#E2DB83\\n#56D4FA\\n#E6E2FB\\n#925D58\\n#F7C3A7\\n#62E970\\n#220DBD\\n#5583BB\\n#7EA01C\\n#CDFDB6\\n#FD00FB\\n#B30D97\\n#F5FF00\\n#DD77FD\\n#4282FC\\n#BBA6A4\\n#0D8068\\n#AB5F26\\n#F7C26E\\n#9EFE00\\n#9B2EFD\\n#C56887\\n#FD3D68\\n#ABF2FD\\n#835FAC\\n#FF16B1\\n#325371\\n#CA16CA\\n#D26322\\n#AFCFFE\\n#91A1FA\\nfloralwhite\n",
    "\"\"\".split()\n",
    "\n",
    "palette65 = \"\"\"\n",
    "white\\ngainsboro\\n#FA002E\\n#22FC22\\n#221CFA\\n#FF3DD6\\n#FFDA00\\n#00FEFB\\n#F48684\\n#CEB4FE\\n#FFFFE5\\n#0D933D\\n#CC00F8\\n#800D5D\\n#F10084\\n#22267A\\n#0DADFF\\n#CBFD71\\n#9A761C\\n#F96C00\\n#6399A6\\n#FFBCDA\\n#8D0DA3\\n#F79F26\\n#00FFBF\\n#A37CFB\\n#F68EEB\\n#720D0D\\n#F163AA\\n#7E926A\\n#826386\\n#B41C32\\n#9BEBCE\\n#E2DB83\\n#56D4FA\\n#E6E2FB\\n#925D58\\n#F7C3A7\\n#62E970\\n#220DBD\\n#5583BB\\n#7EA01C\\n#CDFDB6\\n#FD00FB\\n#B30D97\\n#F5FF00\\n#DD77FD\\n#4282FC\\n#BBA6A4\\n#0D8068\\n#AB5F26\\n#F7C26E\\n#9EFE00\\n#9B2EFD\\n#C56887\\n#FD3D68\\n#ABF2FD\\n#835FAC\\n#FF16B1\\n#325371\\n#CA16CA\\n#D26322\\n#AFCFFE\\n#91A1FA\\nfloralwhite\n",
    "\"\"\".split()"
   ]
  },
  {
   "cell_type": "code",
   "execution_count": 21,
   "id": "19915e39",
   "metadata": {},
   "outputs": [],
   "source": [
    "palette36 = [\"#FFFFFF\", \n",
    "             \"#E4E1E3\", \n",
    "             \"#F6222E\", \n",
    "             \"#FE00FA\", \n",
    "             \"#16FF32\", \n",
    "             \"#3283FE\", \n",
    "             \"#FEAF16\", \n",
    "             \"#B00068\", \n",
    "             \"#1CFFCE\",\n",
    "             \"#90AD1C\", \n",
    "             \"#2ED9FF\", \n",
    "             \"#DEA0FD\", \n",
    "             \"#AA0DFE\", \n",
    "             \"#F8A19F\", \n",
    "             \"#325A9B\", \n",
    "             \"#C4451C\", \n",
    "             \"#1C8356\", \n",
    "             \"#85660D\",\n",
    "             \"#B10DA1\", \n",
    "             \"#FBE426\", \n",
    "             \"#1CBE4F\", \n",
    "             \"#FA0087\", \n",
    "             \"#FC1CBF\", \n",
    "             \"#F7E1A0\", \n",
    "             \"#C075A6\", \n",
    "             \"#782AB6\", \n",
    "             \"#AAF400\",\n",
    "             \"#BDCDFF\", \n",
    "             \"#822E1C\", \n",
    "             \"#B5EFB5\", \n",
    "             \"#7ED7D1\", \n",
    "             \"#1C7F93\", \n",
    "             \"#D85FF7\", \n",
    "             \"#683B79\", \n",
    "             \"#66B0FF\", \n",
    "             \"#3B00FB\",\n",
    "             \"magenta\"]"
   ]
  },
  {
   "cell_type": "markdown",
   "id": "0134123d",
   "metadata": {},
   "source": [
    "change index 5 to #778899. Change index 9 to #2F4F4F. Add #FF7F50. Change index 9 to #FFBCD9. Change index 14 to #DEA5A4"
   ]
  },
  {
   "cell_type": "code",
   "execution_count": 22,
   "id": "88021772",
   "metadata": {},
   "outputs": [],
   "source": [
    "palette27 = [\"#FFFFFF\", \n",
    "             \"#AA0DFE\", \n",
    "             \"#3283FE\", \n",
    "             \"#85660D\", \n",
    "             \"#782AB6\", \n",
    "             \"#778899\", \n",
    "             \"#1C8356\", \n",
    "             \"#16FF32\", \n",
    "             \"#F7E1A0\", \n",
    "#              \"#2F4F4F\",\n",
    "             \"#FFBCD9\", \n",
    "             \"#C4451C\", \n",
    "             \"#DEA0FD\", \n",
    "             \"#FE00FA\", \n",
    "#              \"#325A9B\", \n",
    "             \"#FEAF16\", \n",
    "             \"#DEA5A4\", \n",
    "             \"#90AD1C\", \n",
    "             \"#F6222E\",\n",
    "             \"#1CFFCE\", \n",
    "             \"#2ED9FF\", \n",
    "             \"#B10DA1\", \n",
    "#              \"#C075A6\", \n",
    "#              \"#FC1CBF\", \n",
    "#              \"#B00068\", \n",
    "             \"#FBE426\", \n",
    "             \"#FA0087\",\n",
    "             \"#FF7F50\"\n",
    "            ]"
   ]
  },
  {
   "cell_type": "code",
   "execution_count": 23,
   "id": "e8e8365e",
   "metadata": {},
   "outputs": [],
   "source": [
    "with open(('colors_2000_1'), 'rb') as file:\n",
    "    color_palette_raw = pickle.load(file)\n",
    "\n",
    "color_palette = palette65\n",
    "\n",
    "if len(color_palette_raw) >= max(leiden_label_df_round_1_arranged_sorted['label'].unique()) + 1:\n",
    "    color_palette = color_palette_raw[:max(leiden_label_df_round_1_arranged_sorted['label'].unique()) + 1]"
   ]
  },
  {
   "cell_type": "code",
   "execution_count": 24,
   "id": "55a2f92c",
   "metadata": {},
   "outputs": [],
   "source": [
    "# yf_to_ttherm_map_df = pd.read_csv('../../new_raw_data/tgd2024/yf_ttherm_mapping_may2024.csv')\n",
    "# yf_to_ttherm_map_df.rename(columns={'TTHERM_ID': 'TTHERM_IDs', 'YF_ID': 'TTHERM_ID'},inplace=True)\n",
    "yf_to_ttherm_map_df = None"
   ]
  },
  {
   "cell_type": "code",
   "execution_count": 25,
   "id": "4ee0f5f4",
   "metadata": {},
   "outputs": [
    {
     "name": "stderr",
     "output_type": "stream",
     "text": [
      "/opt/anaconda3/envs/tgne_all.env/lib/python3.8/site-packages/umap/umap_.py:1943: UserWarning: n_jobs value -1 overridden to 1 by setting random_state. Use no seed for parallelism.\n",
      "  warn(f\"n_jobs value {self.n_jobs} overridden to 1 by setting random_state. Use no seed for parallelism.\")\n",
      "/opt/anaconda3/envs/tgne_all.env/lib/python3.8/site-packages/umap/umap_.py:1943: UserWarning: n_jobs value -1 overridden to 1 by setting random_state. Use no seed for parallelism.\n",
      "  warn(f\"n_jobs value {self.n_jobs} overridden to 1 by setting random_state. Use no seed for parallelism.\")\n",
      "/Users/michaelbertagna/git/TGNE-2022/TGNE/embedding/../../utils/bokeh_ui_utils_final.py:612: SettingWithCopyWarning: \n",
      "A value is trying to be set on a copy of a slice from a DataFrame.\n",
      "Try using .loc[row_indexer,col_indexer] = value instead\n",
      "\n",
      "See the caveats in the documentation: https://pandas.pydata.org/pandas-docs/stable/user_guide/indexing.html#returning-a-view-versus-a-copy\n",
      "  hm_df['module'] = hover_data['module'].values\n"
     ]
    },
    {
     "name": "stdout",
     "output_type": "stream",
     "text": [
      "./plots/dashboard535_microarr_umap_manhattan_3nn_0.005rp.html\n"
     ]
    }
   ],
   "source": [
    "embedding_metric='manhattan'\n",
    "\n",
    "dashboard_path = file_utils.generate_uniquely_numbered_export_path('./plots/', 'dashboard', '.html', tags=['microarr', 'umap', metric, f'{n_neighbors}nn', f'{resolution_param}rp'])\n",
    "\n",
    "p = bokeh_ui_utils_final.generate_and_save_umap(dashboard_path, full_filtered_norm_df, enrich_full_nn3, complete_annot, leiden_label_df_round_1_arranged_sorted, phases, color_palette, os.path.basename(dashboard_path), expr_min=-3, expr_max=3, n_neighbors=n_neighbors, embedding_metric=embedding_metric, yf_to_ttherm_map_df=yf_to_ttherm_map_df, avg_df=avg_full_filtered_norm_df)"
   ]
  },
  {
   "cell_type": "code",
   "execution_count": 26,
   "id": "d0fd2687",
   "metadata": {},
   "outputs": [],
   "source": [
    "def run_over_all_phases(metric='manhattan', \n",
    "                        resolution_param=0.005, \n",
    "                        n_neighbors=3,\n",
    "                        dataset='microarray'\n",
    "                        ):\n",
    "\n",
    "\n",
    "    with open(('colors_2000_1'), 'rb') as file:\n",
    "        color_palette_raw = pickle.load(file)\n",
    "\n",
    "    color_palette = palette65\n",
    "\n",
    "    complete_annot = pd.read_csv('../eggnog/complete_eggnog_annotation.csv')\n",
    "    phases_list = ['full', 'veg', 'sex']\n",
    "\n",
    "    full_filtered_df = pd.read_csv('../microarray_probe_alignment_and_filtering/allgood_filt_agg_tidy_2021aligned_qc_rma_expression_full.csv')\n",
    "    full_filtered_df = full_filtered_df.rename(columns={'Unnamed: 0': 'TTHERM_ID'})\n",
    "    full_filtered_norm_df = microarray_utils.normalize_expression_per_gene(full_filtered_df, z=True)\n",
    "    full_filtered_norm_df = microarray_utils.get_arith_mean_expression(full_filtered_norm_df)\n",
    "\n",
    "    veg_cols = [col for col in full_filtered_df.columns if col[0] != 'C']\n",
    "    veg_filtered_df = full_filtered_df[veg_cols]\n",
    "    veg_filtered_norm_df = microarray_utils.normalize_expression_per_gene(veg_filtered_df, z=True)\n",
    "    veg_filtered_norm_df = microarray_utils.get_arith_mean_expression(veg_filtered_norm_df)\n",
    "\n",
    "    sex_cols = [col for col in full_filtered_df.columns if col[0] == 'C']\n",
    "    sex_filtered_df = full_filtered_df[['TTHERM_ID'] + sex_cols]\n",
    "    sex_filtered_norm_df = microarray_utils.normalize_expression_per_gene(sex_filtered_df, z=True)\n",
    "    sex_filtered_norm_df = microarray_utils.get_arith_mean_expression(sex_filtered_norm_df)\n",
    "\n",
    "    metric = metric\n",
    "    # metric='minkowski_3.0'\n",
    "\n",
    "    resolution_param=resolution_param\n",
    "    # resolution_param=0.0001\n",
    "\n",
    "    n_neighbors = n_neighbors\n",
    "\n",
    "    dataset = dataset\n",
    "\n",
    "\n",
    "\n",
    "    for phase, ndf in zip(phases_list, [full_filtered_norm_df, veg_filtered_norm_df, sex_filtered_norm_df]):\n",
    "\n",
    "        leiden_label_df_round_1, partition_stats, cluster_sizes, enriched_cluster_sizes =  clustering_utils.build_label_df(\n",
    "            ndf,\n",
    "            dataset,\n",
    "            metric=metric,\n",
    "            n_neighbors=n_neighbors, \n",
    "            resolution_param=resolution_param, \n",
    "            partition_type = 'EXP', \n",
    "            n_jobs = -1, \n",
    "            random_state=42\n",
    "        )\n",
    "        \n",
    "        print()\n",
    "        print(phase)\n",
    "\n",
    "        key_lens = [len(k) for k in partition_stats.keys()]\n",
    "        max_key_len = max(key_lens)\n",
    "\n",
    "        for k, v in partition_stats.items():\n",
    "            print(f'{\" \" * (max_key_len - len(k))}{k}:', v)\n",
    "\n",
    "        print()\n",
    "\n",
    "        \n",
    "        leiden_label_df_round_1_arranged = bokeh_ui_utils_final.arrange_modules(\n",
    "            ndf, \n",
    "            leiden_label_df_round_1, \n",
    "            phase\n",
    "        )\n",
    "\n",
    "        leiden_label_df_round_1_arranged_sorted = leiden_label_df_round_1_arranged.sort_values(by=['label', 'TTHERM_ID'], ascending=False)\n",
    "\n",
    "        avg_full_filtered_norm_df = clustering_utils.ari_mean_nexpr_per_mod(ndf, leiden_label_df_round_1_arranged_sorted)\n",
    "\n",
    "        # leiden_label_df_round_1_arranged_sorted.to_csv('./test_nn3_leiden_label_df_round_1.csv', index=False)\n",
    "\n",
    "        enrich_full_nn3 = clustering_utils.compute_enrichment(leiden_label_df_round_1_arranged_sorted)\n",
    "\n",
    "        # outfile='../enrichment/test_nn3_full_enrichment.csv'\n",
    "        # enrich_full_nn3.to_csv(outfile, index=False)\n",
    "\n",
    "        embedding_metric='manhattan'\n",
    "\n",
    "        dashboard_path = file_utils.generate_uniquely_numbered_export_path('./plots/', 'dashboard', '.html', tags=['microarr', 'umap', metric, f'{n_neighbors}nn', f'{resolution_param}rp'])\n",
    "\n",
    "        if len(color_palette_raw) >= max(leiden_label_df_round_1_arranged_sorted['label'].unique()) + 1:\n",
    "            color_palette = color_palette_raw[:max(leiden_label_df_round_1_arranged_sorted['label'].unique()) + 1]\n",
    "\n",
    "        p = bokeh_ui_utils_final.generate_and_save_umap(dashboard_path, ndf, enrich_full_nn3, complete_annot, leiden_label_df_round_1_arranged_sorted, phase, color_palette, os.path.basename(dashboard_path), expr_min=-3, expr_max=3, n_neighbors=n_neighbors, embedding_metric=embedding_metric, yf_to_ttherm_map_df=yf_to_ttherm_map_df, avg_df=avg_full_filtered_norm_df)\n",
    "\n",
    "    \n",
    "\n",
    "    \n",
    "    "
   ]
  },
  {
   "cell_type": "code",
   "execution_count": 27,
   "id": "afb08e65",
   "metadata": {},
   "outputs": [
    {
     "name": "stdout",
     "output_type": "stream",
     "text": [
      "\n",
      "full\n",
      "              partition_type: EXP\n",
      "              dimensionality: baseline\n",
      "                      metric: manhattan\n",
      "                       graph: umap_fuzzy_simplicial_set\n",
      "                         nns: 3\n",
      "                  clustering: leiden_cpm\n",
      "                   parameter: 0.005\n",
      "            silhouette_score: -0.0351774798383598\n",
      "                  modularity: 0.7620478644705118\n",
      "                   nclusters: 629\n",
      "           mean_cluster_size: 32.52305246422893\n",
      "         median_cluster_size: 30.0\n",
      "             sd_cluster_size: 13.591877527428576\n",
      "          nenriched_clusters: 210\n",
      "  mean_enriched_cluster_size: 35.41904761904762\n",
      "median_enriched_cluster_size: 33.0\n",
      "    sd_enriched_cluster_size: 14.319670754648723\n",
      "     nenriched_cluster_genes: 7438\n",
      "                    datetime: 2024-05-31 16:04:40.462430\n",
      "\n"
     ]
    },
    {
     "name": "stderr",
     "output_type": "stream",
     "text": [
      "/opt/anaconda3/envs/tgne_all.env/lib/python3.8/site-packages/umap/umap_.py:1943: UserWarning: n_jobs value -1 overridden to 1 by setting random_state. Use no seed for parallelism.\n",
      "  warn(f\"n_jobs value {self.n_jobs} overridden to 1 by setting random_state. Use no seed for parallelism.\")\n",
      "/opt/anaconda3/envs/tgne_all.env/lib/python3.8/site-packages/umap/umap_.py:1943: UserWarning: n_jobs value -1 overridden to 1 by setting random_state. Use no seed for parallelism.\n",
      "  warn(f\"n_jobs value {self.n_jobs} overridden to 1 by setting random_state. Use no seed for parallelism.\")\n",
      "/Users/michaelbertagna/git/TGNE-2022/TGNE/embedding/../../utils/bokeh_ui_utils_final.py:612: SettingWithCopyWarning: \n",
      "A value is trying to be set on a copy of a slice from a DataFrame.\n",
      "Try using .loc[row_indexer,col_indexer] = value instead\n",
      "\n",
      "See the caveats in the documentation: https://pandas.pydata.org/pandas-docs/stable/user_guide/indexing.html#returning-a-view-versus-a-copy\n",
      "  hm_df['module'] = hover_data['module'].values\n"
     ]
    },
    {
     "name": "stdout",
     "output_type": "stream",
     "text": [
      "./plots/dashboard536_microarr_umap_manhattan_3nn_0.005rp.html\n",
      "\n",
      "veg\n",
      "              partition_type: EXP\n",
      "              dimensionality: baseline\n",
      "                      metric: manhattan\n",
      "                       graph: umap_fuzzy_simplicial_set\n",
      "                         nns: 3\n",
      "                  clustering: leiden_cpm\n",
      "                   parameter: 0.005\n",
      "            silhouette_score: -0.038870269444436514\n",
      "                  modularity: 0.8025834437002758\n",
      "                   nclusters: 685\n",
      "           mean_cluster_size: 29.864233576642334\n",
      "         median_cluster_size: 28.0\n",
      "             sd_cluster_size: 11.081672495093313\n",
      "          nenriched_clusters: 180\n",
      "  mean_enriched_cluster_size: 33.26111111111111\n",
      "median_enriched_cluster_size: 30.5\n",
      "    sd_enriched_cluster_size: 11.894146033933803\n",
      "     nenriched_cluster_genes: 5987\n",
      "                    datetime: 2024-05-31 16:07:07.914940\n",
      "\n"
     ]
    },
    {
     "name": "stderr",
     "output_type": "stream",
     "text": [
      "/opt/anaconda3/envs/tgne_all.env/lib/python3.8/site-packages/umap/umap_.py:1943: UserWarning: n_jobs value -1 overridden to 1 by setting random_state. Use no seed for parallelism.\n",
      "  warn(f\"n_jobs value {self.n_jobs} overridden to 1 by setting random_state. Use no seed for parallelism.\")\n",
      "/opt/anaconda3/envs/tgne_all.env/lib/python3.8/site-packages/umap/umap_.py:1943: UserWarning: n_jobs value -1 overridden to 1 by setting random_state. Use no seed for parallelism.\n",
      "  warn(f\"n_jobs value {self.n_jobs} overridden to 1 by setting random_state. Use no seed for parallelism.\")\n",
      "/Users/michaelbertagna/git/TGNE-2022/TGNE/embedding/../../utils/bokeh_ui_utils_final.py:612: SettingWithCopyWarning: \n",
      "A value is trying to be set on a copy of a slice from a DataFrame.\n",
      "Try using .loc[row_indexer,col_indexer] = value instead\n",
      "\n",
      "See the caveats in the documentation: https://pandas.pydata.org/pandas-docs/stable/user_guide/indexing.html#returning-a-view-versus-a-copy\n",
      "  hm_df['module'] = hover_data['module'].values\n"
     ]
    },
    {
     "name": "stdout",
     "output_type": "stream",
     "text": [
      "./plots/dashboard537_microarr_umap_manhattan_3nn_0.005rp.html\n",
      "\n",
      "sex\n",
      "              partition_type: EXP\n",
      "              dimensionality: baseline\n",
      "                      metric: manhattan\n",
      "                       graph: umap_fuzzy_simplicial_set\n",
      "                         nns: 3\n",
      "                  clustering: leiden_cpm\n",
      "                   parameter: 0.005\n",
      "            silhouette_score: -0.02658612608847821\n",
      "                  modularity: 0.8153073615465597\n",
      "                   nclusters: 705\n",
      "           mean_cluster_size: 29.017021276595745\n",
      "         median_cluster_size: 27.0\n",
      "             sd_cluster_size: 11.056258183848463\n",
      "          nenriched_clusters: 136\n",
      "  mean_enriched_cluster_size: 30.71323529411765\n",
      "median_enriched_cluster_size: 28.0\n",
      "    sd_enriched_cluster_size: 11.288924874716352\n",
      "     nenriched_cluster_genes: 4177\n",
      "                    datetime: 2024-05-31 16:09:35.947501\n",
      "\n"
     ]
    },
    {
     "name": "stderr",
     "output_type": "stream",
     "text": [
      "/opt/anaconda3/envs/tgne_all.env/lib/python3.8/site-packages/umap/umap_.py:1943: UserWarning: n_jobs value -1 overridden to 1 by setting random_state. Use no seed for parallelism.\n",
      "  warn(f\"n_jobs value {self.n_jobs} overridden to 1 by setting random_state. Use no seed for parallelism.\")\n",
      "/opt/anaconda3/envs/tgne_all.env/lib/python3.8/site-packages/umap/umap_.py:1943: UserWarning: n_jobs value -1 overridden to 1 by setting random_state. Use no seed for parallelism.\n",
      "  warn(f\"n_jobs value {self.n_jobs} overridden to 1 by setting random_state. Use no seed for parallelism.\")\n",
      "/Users/michaelbertagna/git/TGNE-2022/TGNE/embedding/../../utils/bokeh_ui_utils_final.py:612: SettingWithCopyWarning: \n",
      "A value is trying to be set on a copy of a slice from a DataFrame.\n",
      "Try using .loc[row_indexer,col_indexer] = value instead\n",
      "\n",
      "See the caveats in the documentation: https://pandas.pydata.org/pandas-docs/stable/user_guide/indexing.html#returning-a-view-versus-a-copy\n",
      "  hm_df['module'] = hover_data['module'].values\n"
     ]
    },
    {
     "name": "stdout",
     "output_type": "stream",
     "text": [
      "./plots/dashboard538_microarr_umap_manhattan_3nn_0.005rp.html\n"
     ]
    }
   ],
   "source": [
    "run_over_all_phases()"
   ]
  },
  {
   "cell_type": "code",
   "execution_count": 28,
   "id": "5f65ebfa",
   "metadata": {},
   "outputs": [],
   "source": [
    "mucocyst_cluster = [\n",
    "'YF00036312.t1',\n",
    "'YF00012829.t1',\n",
    "'YF00000889.t1',\n",
    "'TTHERM_00527180',\n",
    "'TTHERM_00335830',\n",
    "'YF00012830.t1',\n",
    "'YF00009126.t1',\n",
    "'YF00005954.t1',\n",
    "'YF00005804.t1',\n",
    "'TTHERM_01055600',\n",
    "'TTHERM_00624720',\n",
    "] # TTHERM_00630470: mucocyst gene with drastically different expression profile"
   ]
  },
  {
   "cell_type": "code",
   "execution_count": 29,
   "id": "7b8f206b",
   "metadata": {},
   "outputs": [
    {
     "name": "stdout",
     "output_type": "stream",
     "text": [
      "YF00036312.t1,YF00012829.t1,YF00000889.t1,TTHERM_00527180,TTHERM_00335830,YF00012830.t1,YF00009126.t1,YF00005954.t1,YF00005804.t1,TTHERM_01055600,TTHERM_00624720\n"
     ]
    }
   ],
   "source": [
    "print(','.join(mucocyst_cluster))"
   ]
  },
  {
   "cell_type": "code",
   "execution_count": 30,
   "id": "3a74c114",
   "metadata": {},
   "outputs": [
    {
     "name": "stdout",
     "output_type": "stream",
     "text": [
      "1 / 1 = 1.0\n",
      "            TTHERM_ID  label\n",
      "6933  TTHERM_00335830    616\n",
      "TTHERM_00335830\n"
     ]
    },
    {
     "data": {
      "text/plain": [
       "1.0"
      ]
     },
     "execution_count": 30,
     "metadata": {},
     "output_type": "execute_result"
    }
   ],
   "source": [
    "clustering_utils.fraction_max_same_cluster_genes(mucocyst_cluster, leiden_label_df_round_1_arranged_sorted)"
   ]
  }
 ],
 "metadata": {
  "kernelspec": {
   "display_name": "Python 3 (ipykernel)",
   "language": "python",
   "name": "python3"
  },
  "language_info": {
   "codemirror_mode": {
    "name": "ipython",
    "version": 3
   },
   "file_extension": ".py",
   "mimetype": "text/x-python",
   "name": "python",
   "nbconvert_exporter": "python",
   "pygments_lexer": "ipython3",
   "version": "3.8.16"
  }
 },
 "nbformat": 4,
 "nbformat_minor": 5
}

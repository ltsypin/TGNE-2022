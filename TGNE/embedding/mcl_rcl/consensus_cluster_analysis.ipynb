{
 "cells": [
  {
   "cell_type": "code",
   "execution_count": 1,
   "metadata": {},
   "outputs": [],
   "source": [
    "import glob\n",
    "import pandas as pd"
   ]
  },
  {
   "cell_type": "code",
   "execution_count": 2,
   "metadata": {},
   "outputs": [
    {
     "data": {
      "text/plain": [
       "['./TAG/rcl.res100.labels',\n",
       " './TAG/rcl.res200.labels',\n",
       " './TAG/rcl.res400.labels',\n",
       " './TAG/rcl.res800.labels',\n",
       " './TAG/rcl.res1600.labels',\n",
       " './TAG/rcl.res3200.labels']"
      ]
     },
     "execution_count": 2,
     "metadata": {},
     "output_type": "execute_result"
    }
   ],
   "source": [
    "files_consensus_partitions = glob.glob('./TAG/*.labels')\n",
    "\n",
    "files_consensus_partitions.sort(key=lambda name: int((name.split('res')[1]).split('.')[0]))\n",
    "\n",
    "files_consensus_partitions"
   ]
  },
  {
   "cell_type": "code",
   "execution_count": 3,
   "metadata": {},
   "outputs": [],
   "source": [
    "list_consensus_partitions = {}\n",
    "\n",
    "for file in files_consensus_partitions:\n",
    "    consensus_partition = []\n",
    "    with open(file, 'r') as f:\n",
    "        lines = f.readlines()\n",
    "        for line in lines:\n",
    "            consensus_partition.append(line.split('\\t'))\n",
    "    list_consensus_partitions[file.split('.')[2]] = consensus_partition"
   ]
  },
  {
   "cell_type": "code",
   "execution_count": 4,
   "metadata": {},
   "outputs": [
    {
     "name": "stdout",
     "output_type": "stream",
     "text": [
      "res100\n",
      "                  NUM CLUSTERS: 888\n",
      "NUM CLUSTERS WITH >= 100 GENES: 33\n",
      " NUM CLUSTERS WITH < 100 GENES: 855\n",
      "  NUM CLUSTERS WITH < 10 GENES: 496\n",
      "\n",
      "res200\n",
      "                  NUM CLUSTERS: 809\n",
      "NUM CLUSTERS WITH >= 100 GENES: 27\n",
      " NUM CLUSTERS WITH < 100 GENES: 782\n",
      "  NUM CLUSTERS WITH < 10 GENES: 456\n",
      "\n",
      "res400\n",
      "                  NUM CLUSTERS: 809\n",
      "NUM CLUSTERS WITH >= 100 GENES: 27\n",
      " NUM CLUSTERS WITH < 100 GENES: 782\n",
      "  NUM CLUSTERS WITH < 10 GENES: 456\n",
      "\n",
      "res800\n",
      "                  NUM CLUSTERS: 11\n",
      "NUM CLUSTERS WITH >= 100 GENES: 1\n",
      " NUM CLUSTERS WITH < 100 GENES: 10\n",
      "  NUM CLUSTERS WITH < 10 GENES: 8\n",
      "\n",
      "res1600\n",
      "                  NUM CLUSTERS: 11\n",
      "NUM CLUSTERS WITH >= 100 GENES: 1\n",
      " NUM CLUSTERS WITH < 100 GENES: 10\n",
      "  NUM CLUSTERS WITH < 10 GENES: 8\n",
      "\n",
      "res3200\n",
      "                  NUM CLUSTERS: 11\n",
      "NUM CLUSTERS WITH >= 100 GENES: 1\n",
      " NUM CLUSTERS WITH < 100 GENES: 10\n",
      "  NUM CLUSTERS WITH < 10 GENES: 8\n",
      "\n"
     ]
    }
   ],
   "source": [
    "for name, partition in list_consensus_partitions.items():\n",
    "    print(name)\n",
    "    print('                  NUM CLUSTERS:', len(partition))\n",
    "\n",
    "    len_ge_100 = 0\n",
    "    len_lt_100 = 0\n",
    "    len_lt_10 = 0\n",
    "\n",
    "    for cluster in partition:\n",
    "        if len(cluster) >= 100:\n",
    "            len_ge_100 += 1\n",
    "        if len(cluster) < 100:\n",
    "            len_lt_100 += 1\n",
    "        if len(cluster) < 10:\n",
    "            len_lt_10 += 1\n",
    "\n",
    "    print('NUM CLUSTERS WITH >= 100 GENES:', len_ge_100)\n",
    "    print(' NUM CLUSTERS WITH < 100 GENES:', len_lt_100)\n",
    "    print('  NUM CLUSTERS WITH < 10 GENES:', len_lt_10)\n",
    "    print()"
   ]
  },
  {
   "cell_type": "code",
   "execution_count": 5,
   "metadata": {},
   "outputs": [
    {
     "data": {
      "text/html": [
       "<div>\n",
       "<style scoped>\n",
       "    .dataframe tbody tr th:only-of-type {\n",
       "        vertical-align: middle;\n",
       "    }\n",
       "\n",
       "    .dataframe tbody tr th {\n",
       "        vertical-align: top;\n",
       "    }\n",
       "\n",
       "    .dataframe thead th {\n",
       "        text-align: right;\n",
       "    }\n",
       "</style>\n",
       "<table border=\"1\" class=\"dataframe\">\n",
       "  <thead>\n",
       "    <tr style=\"text-align: right;\">\n",
       "      <th></th>\n",
       "      <th>TTHERM_ID</th>\n",
       "      <th>leiden_label_full</th>\n",
       "    </tr>\n",
       "  </thead>\n",
       "  <tbody>\n",
       "    <tr>\n",
       "      <th>0</th>\n",
       "      <td>TTHERM_00000030</td>\n",
       "      <td>1</td>\n",
       "    </tr>\n",
       "    <tr>\n",
       "      <th>1</th>\n",
       "      <td>TTHERM_00198510</td>\n",
       "      <td>1</td>\n",
       "    </tr>\n",
       "    <tr>\n",
       "      <th>2</th>\n",
       "      <td>TTHERM_00941380</td>\n",
       "      <td>1</td>\n",
       "    </tr>\n",
       "    <tr>\n",
       "      <th>3</th>\n",
       "      <td>TTHERM_00664030</td>\n",
       "      <td>1</td>\n",
       "    </tr>\n",
       "    <tr>\n",
       "      <th>4</th>\n",
       "      <td>TTHERM_000011939</td>\n",
       "      <td>1</td>\n",
       "    </tr>\n",
       "    <tr>\n",
       "      <th>...</th>\n",
       "      <td>...</td>\n",
       "      <td>...</td>\n",
       "    </tr>\n",
       "    <tr>\n",
       "      <th>17644</th>\n",
       "      <td>TTHERM_00191430</td>\n",
       "      <td>1613</td>\n",
       "    </tr>\n",
       "    <tr>\n",
       "      <th>17645</th>\n",
       "      <td>TTHERM_00812930</td>\n",
       "      <td>1615</td>\n",
       "    </tr>\n",
       "    <tr>\n",
       "      <th>17646</th>\n",
       "      <td>TTHERM_00129440</td>\n",
       "      <td>1615</td>\n",
       "    </tr>\n",
       "    <tr>\n",
       "      <th>17647</th>\n",
       "      <td>TTHERM_00035550</td>\n",
       "      <td>1617</td>\n",
       "    </tr>\n",
       "    <tr>\n",
       "      <th>17648</th>\n",
       "      <td>TTHERM_00399440</td>\n",
       "      <td>1617</td>\n",
       "    </tr>\n",
       "  </tbody>\n",
       "</table>\n",
       "<p>17649 rows × 2 columns</p>\n",
       "</div>"
      ],
      "text/plain": [
       "              TTHERM_ID leiden_label_full\n",
       "0       TTHERM_00000030                 1\n",
       "1       TTHERM_00198510                 1\n",
       "2       TTHERM_00941380                 1\n",
       "3       TTHERM_00664030                 1\n",
       "4      TTHERM_000011939                 1\n",
       "...                 ...               ...\n",
       "17644   TTHERM_00191430              1613\n",
       "17645   TTHERM_00812930              1615\n",
       "17646   TTHERM_00129440              1615\n",
       "17647   TTHERM_00035550              1617\n",
       "17648   TTHERM_00399440              1617\n",
       "\n",
       "[17649 rows x 2 columns]"
      ]
     },
     "execution_count": 5,
     "metadata": {},
     "output_type": "execute_result"
    }
   ],
   "source": [
    "df = pd.DataFrame(columns=['TTHERM_ID', 'leiden_label_full'])\n",
    "\n",
    "cluster_num = 0\n",
    "\n",
    "for cluster in list_consensus_partitions['res400']:\n",
    "    cluster_num += 1\n",
    "    for gene in cluster:\n",
    "        new_row = {'TTHERM_ID': gene.strip(), 'leiden_label_full': cluster_num}\n",
    "        df = df.append(new_row, ignore_index=True)\n",
    "    cluster_num += 1\n",
    "\n",
    "df"
   ]
  },
  {
   "cell_type": "code",
   "execution_count": 6,
   "metadata": {},
   "outputs": [],
   "source": [
    "df.to_csv('./mcl_rcl_res400_label_df_round_1.csv', index=False)"
   ]
  }
 ],
 "metadata": {
  "kernelspec": {
   "display_name": "cdh2.env",
   "language": "python",
   "name": "python3"
  },
  "language_info": {
   "codemirror_mode": {
    "name": "ipython",
    "version": 3
   },
   "file_extension": ".py",
   "mimetype": "text/x-python",
   "name": "python",
   "nbconvert_exporter": "python",
   "pygments_lexer": "ipython3",
   "version": "3.9.9"
  }
 },
 "nbformat": 4,
 "nbformat_minor": 2
}

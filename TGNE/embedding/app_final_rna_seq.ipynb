{
 "cells": [
  {
   "cell_type": "code",
   "execution_count": 30,
   "metadata": {},
   "outputs": [],
   "source": [
    "import pandas as pd\n",
    "import os\n",
    "import pickle\n",
    "import sys\n",
    "\n",
    "sys.path.append('../../')\n",
    "from utils import bokeh_ui_utils, microarray_utils, file_utils"
   ]
  },
  {
   "cell_type": "code",
   "execution_count": 31,
   "metadata": {},
   "outputs": [],
   "source": [
    "full_filtered_df = pd.read_csv('../../new_raw_data/rna_seq_processed/kallisto.csv')\n",
    "# full_filtered_df = full_filtered_df.rename(columns={'Unnamed: 0': 'TTHERM_ID'})\n",
    "# full_filtered_norm_df = microarray_utils.normalize_expression_per_gene(full_filtered_df)\n",
    "full_filtered_norm_df = full_filtered_df\n",
    "\n",
    "leiden_label_df_round_1 = pd.read_csv('./rna_seq_label_df_round_1.csv')\n",
    "complete_annot = pd.read_csv('../eggnog/complete_eggnog_annotation.csv')"
   ]
  },
  {
   "cell_type": "code",
   "execution_count": 32,
   "metadata": {},
   "outputs": [
    {
     "data": {
      "text/html": [
       "<div>\n",
       "<style scoped>\n",
       "    .dataframe tbody tr th:only-of-type {\n",
       "        vertical-align: middle;\n",
       "    }\n",
       "\n",
       "    .dataframe tbody tr th {\n",
       "        vertical-align: top;\n",
       "    }\n",
       "\n",
       "    .dataframe thead th {\n",
       "        text-align: right;\n",
       "    }\n",
       "</style>\n",
       "<table border=\"1\" class=\"dataframe\">\n",
       "  <thead>\n",
       "    <tr style=\"text-align: right;\">\n",
       "      <th></th>\n",
       "      <th>TTHERM_ID</th>\n",
       "      <th>label</th>\n",
       "    </tr>\n",
       "  </thead>\n",
       "  <tbody>\n",
       "    <tr>\n",
       "      <th>16632</th>\n",
       "      <td>YF00035184.t1</td>\n",
       "      <td>487</td>\n",
       "    </tr>\n",
       "  </tbody>\n",
       "</table>\n",
       "</div>"
      ],
      "text/plain": [
       "           TTHERM_ID  label\n",
       "16632  YF00035184.t1    487"
      ]
     },
     "execution_count": 32,
     "metadata": {},
     "output_type": "execute_result"
    }
   ],
   "source": [
    "leiden_label_df_round_1.sample()"
   ]
  },
  {
   "cell_type": "markdown",
   "metadata": {},
   "source": [
    "## Define palettes for plotting"
   ]
  },
  {
   "cell_type": "markdown",
   "metadata": {},
   "source": [
    "These palettes are from the R package Polychrome. The first is just palette36 with the first color replaced by white. The second is the alphabet palette with white prepended."
   ]
  },
  {
   "cell_type": "markdown",
   "metadata": {},
   "source": [
    "The R code for 64 colors:\n",
    "\n",
    "library(Polychrome);\n",
    "seed <- c(\"#000000\", \"#ff0000\", \"#00ff00\", \"#0000ff\");\n",
    "p64 <- createPalette(64, seed, range=c(40,100));\n",
    "paste(p64, sep=\"\\n\");\n",
    "\n",
    "Then, replace the first and last with ~white"
   ]
  },
  {
   "cell_type": "code",
   "execution_count": 33,
   "metadata": {},
   "outputs": [],
   "source": [
    "palette45 = \"\"\"\n",
    "#51635F\\n#FF1C16\\n#16FC26\\n#403DFC\\n#FE0DCE\\n#F9AA00\\n#00FFD5\\n#22BFFE\\n#BB3551\\n#E6FE97\\n#ECADFF\\n#FFBFBD\\n#CF00F5\\n#0D8B00\\n#D7FEFF\\n#8D7200\\n#F76C00\\n#AD3288\\n#5C5AB8\\n#FC0080\\n#B8FF16\\n#00AAB4\\n#FBE11C\\n#9AAAD9\\n#8BBB8C\\n#934B47\\n#6EFE99\\n#9C6D91\\n#FB9778\\n#9D32AF\\n#D40087\\n#FFDC9D\\n#FF8DB6\\n#A96AFC\\n#FDDDFB\\n#168CF7\\n#FD6CF9\\n#F64553\\n#4D6A00\\n#FAFEDB\\n#A7977D\\n#0DFBFF\\n#86B80D\\n#FD8AE4\\n#B7B126\n",
    "\"\"\".split()\n",
    "\n",
    "palette32 = \"\"\"\n",
    "white\\n#F91622\\n#16FC0D\\n#5138FB\\n#FD00CF\\n#FDD51C\\n#16FDD7\\n#FC8B8E\\n#16BFFF\\n#DF9BFD\\n#669C2A\\n#FEE7C4\\n#F31685\\n#DF16FD\\n#C1F1FE\\n#A23D7E\\n#D5FD0D\\n#8C5A0D\\n#FC790D\\n#4F5CBC\\n#FFCBEF\\n#168D72\\n#68FA93\\n#C4FDC9\\n#F7A449\\n#16789B\\n#AD0DAB\\n#C4262E\\n#0DF1FF\\n#EFF994\\n#B6C1FE\\n#8F22CD\n",
    "\"\"\".split()\n",
    "\n",
    "palette35 = \"\"\"\n",
    "#585F6A\\n#FE1626\\n#00FB0D\\n#2E40FC\\n#FD0DCE\\n#FCD200\\n#F7868C\\n#16FFDC\\n#22BEFB\\n#D28EF6\\n#609000\\n#FFE7C9\\n#F51683\\n#FF730D\\n#CAFE16\\n#AA3586\\n#BEEEFD\\n#BD00FA\\n#895D22\\n#FEC7F0\\n#495AA1\\n#73F995\\n#229270\\n#ED963B\\n#F6FE97\\n#C5FFD0\\n#C50DC8\\n#6993FF\\n#C22A35\\n#16ECFC\\n#AA707E\\n#7A3BCB\\n#7C845C\\n#358FAA\\n#BDBAF6\n",
    "\"\"\".split()\n",
    "\n",
    "palette38 = \"\"\"\n",
    "#636265\\n#F60D16\\n#00F90D\\n#3540FB\\n#FD0DD0\\n#FDDB0D\\n#00FFE2\\n#FA8884\\n#2ABEFE\\n#E5A3FF\\n#518F00\\n#FEFDD5\\n#D51CFF\\n#ED007F\\n#A33879\\n#96731C\\n#C8FB16\\n#C0ECFE\\n#FBC1DA\\n#5658BA\\n#F96900\\n#F69F1C\\n#58FA9C\\n#008E72\\n#BA22B9\\n#167D97\\n#794D8A\\n#CEFE9C\\n#BB222E\\n#954D45\\n#00DCEF\\n#FD66B0\\n#B2FDD3\\n#FDBD9F\\n#A9B4F1\\n#B371FE\\n#849566\\n#2A8EFF\n",
    "\"\"\".split()\n",
    "\n",
    "palette64 = \"\"\"\n",
    "white\\n#FA002E\\n#22FC22\\n#221CFA\\n#FF3DD6\\n#FFDA00\\n#00FEFB\\n#F48684\\n#CEB4FE\\n#FFFFE5\\n#0D933D\\n#CC00F8\\n#800D5D\\n#F10084\\n#22267A\\n#0DADFF\\n#CBFD71\\n#9A761C\\n#F96C00\\n#6399A6\\n#FFBCDA\\n#8D0DA3\\n#F79F26\\n#00FFBF\\n#A37CFB\\n#F68EEB\\n#720D0D\\n#F163AA\\n#7E926A\\n#826386\\n#B41C32\\n#9BEBCE\\n#E2DB83\\n#56D4FA\\n#E6E2FB\\n#925D58\\n#F7C3A7\\n#62E970\\n#220DBD\\n#5583BB\\n#7EA01C\\n#CDFDB6\\n#FD00FB\\n#B30D97\\n#F5FF00\\n#DD77FD\\n#4282FC\\n#BBA6A4\\n#0D8068\\n#AB5F26\\n#F7C26E\\n#9EFE00\\n#9B2EFD\\n#C56887\\n#FD3D68\\n#ABF2FD\\n#835FAC\\n#FF16B1\\n#325371\\n#CA16CA\\n#D26322\\n#AFCFFE\\n#91A1FA\\nfloralwhite\n",
    "\"\"\".split()\n",
    "\n",
    "palette65 = \"\"\"\n",
    "white\\ngainsboro\\n#FA002E\\n#22FC22\\n#221CFA\\n#FF3DD6\\n#FFDA00\\n#00FEFB\\n#F48684\\n#CEB4FE\\n#FFFFE5\\n#0D933D\\n#CC00F8\\n#800D5D\\n#F10084\\n#22267A\\n#0DADFF\\n#CBFD71\\n#9A761C\\n#F96C00\\n#6399A6\\n#FFBCDA\\n#8D0DA3\\n#F79F26\\n#00FFBF\\n#A37CFB\\n#F68EEB\\n#720D0D\\n#F163AA\\n#7E926A\\n#826386\\n#B41C32\\n#9BEBCE\\n#E2DB83\\n#56D4FA\\n#E6E2FB\\n#925D58\\n#F7C3A7\\n#62E970\\n#220DBD\\n#5583BB\\n#7EA01C\\n#CDFDB6\\n#FD00FB\\n#B30D97\\n#F5FF00\\n#DD77FD\\n#4282FC\\n#BBA6A4\\n#0D8068\\n#AB5F26\\n#F7C26E\\n#9EFE00\\n#9B2EFD\\n#C56887\\n#FD3D68\\n#ABF2FD\\n#835FAC\\n#FF16B1\\n#325371\\n#CA16CA\\n#D26322\\n#AFCFFE\\n#91A1FA\\nfloralwhite\n",
    "\"\"\".split()"
   ]
  },
  {
   "cell_type": "code",
   "execution_count": 34,
   "metadata": {},
   "outputs": [],
   "source": [
    "palette36 = [\"#FFFFFF\", \n",
    "             \"#E4E1E3\", \n",
    "             \"#F6222E\", \n",
    "             \"#FE00FA\", \n",
    "             \"#16FF32\", \n",
    "             \"#3283FE\", \n",
    "             \"#FEAF16\", \n",
    "             \"#B00068\", \n",
    "             \"#1CFFCE\",\n",
    "             \"#90AD1C\", \n",
    "             \"#2ED9FF\", \n",
    "             \"#DEA0FD\", \n",
    "             \"#AA0DFE\", \n",
    "             \"#F8A19F\", \n",
    "             \"#325A9B\", \n",
    "             \"#C4451C\", \n",
    "             \"#1C8356\", \n",
    "             \"#85660D\",\n",
    "             \"#B10DA1\", \n",
    "             \"#FBE426\", \n",
    "             \"#1CBE4F\", \n",
    "             \"#FA0087\", \n",
    "             \"#FC1CBF\", \n",
    "             \"#F7E1A0\", \n",
    "             \"#C075A6\", \n",
    "             \"#782AB6\", \n",
    "             \"#AAF400\",\n",
    "             \"#BDCDFF\", \n",
    "             \"#822E1C\", \n",
    "             \"#B5EFB5\", \n",
    "             \"#7ED7D1\", \n",
    "             \"#1C7F93\", \n",
    "             \"#D85FF7\", \n",
    "             \"#683B79\", \n",
    "             \"#66B0FF\", \n",
    "             \"#3B00FB\",\n",
    "             \"magenta\"]"
   ]
  },
  {
   "cell_type": "markdown",
   "metadata": {},
   "source": [
    "change index 5 to #778899. Change index 9 to #2F4F4F. Add #FF7F50. Change index 9 to #FFBCD9. Change index 14 to #DEA5A4"
   ]
  },
  {
   "cell_type": "code",
   "execution_count": 35,
   "metadata": {},
   "outputs": [],
   "source": [
    "palette27 = [\"#FFFFFF\", \n",
    "             \"#AA0DFE\", \n",
    "             \"#3283FE\", \n",
    "             \"#85660D\", \n",
    "             \"#782AB6\", \n",
    "             \"#778899\", \n",
    "             \"#1C8356\", \n",
    "             \"#16FF32\", \n",
    "             \"#F7E1A0\", \n",
    "#              \"#2F4F4F\",\n",
    "             \"#FFBCD9\", \n",
    "             \"#C4451C\", \n",
    "             \"#DEA0FD\", \n",
    "             \"#FE00FA\", \n",
    "#              \"#325A9B\", \n",
    "             \"#FEAF16\", \n",
    "             \"#DEA5A4\", \n",
    "             \"#90AD1C\", \n",
    "             \"#F6222E\",\n",
    "             \"#1CFFCE\", \n",
    "             \"#2ED9FF\", \n",
    "             \"#B10DA1\", \n",
    "#              \"#C075A6\", \n",
    "#              \"#FC1CBF\", \n",
    "#              \"#B00068\", \n",
    "             \"#FBE426\", \n",
    "             \"#FA0087\",\n",
    "             \"#FF7F50\"\n",
    "            ]"
   ]
  },
  {
   "cell_type": "code",
   "execution_count": 36,
   "metadata": {},
   "outputs": [],
   "source": [
    "with open(('colors_2000_1'), 'rb') as file:\n",
    "    color_palette_raw = pickle.load(file)\n",
    "\n",
    "color_palette = palette65\n",
    "\n",
    "if len(color_palette_raw) >= max(leiden_label_df_round_1['label'].unique()) + 1:\n",
    "    color_palette = color_palette_raw[:max(leiden_label_df_round_1['label'].unique()) + 1]"
   ]
  },
  {
   "cell_type": "code",
   "execution_count": 37,
   "metadata": {},
   "outputs": [
    {
     "name": "stderr",
     "output_type": "stream",
     "text": [
      "/Users/michaelbertagna/anaconda3/envs/cdh2.env/lib/python3.9/site-packages/umap/umap_.py:1943: UserWarning: n_jobs value -1 overridden to 1 by setting random_state. Use no seed for parallelism.\n",
      "  warn(f\"n_jobs value {self.n_jobs} overridden to 1 by setting random_state. Use no seed for parallelism.\")\n"
     ]
    },
    {
     "name": "stdout",
     "output_type": "stream",
     "text": [
      "Color key has fewer colors than labels. Making all red\n"
     ]
    },
    {
     "name": "stderr",
     "output_type": "stream",
     "text": [
      "/Users/michaelbertagna/git/TGNE-2022/TGNE/embedding/../../utils/bokeh_ui_utils.py:493: SettingWithCopyWarning: \n",
      "A value is trying to be set on a copy of a slice from a DataFrame.\n",
      "Try using .loc[row_indexer,col_indexer] = value instead\n",
      "\n",
      "See the caveats in the documentation: https://pandas.pydata.org/pandas-docs/stable/user_guide/indexing.html#returning-a-view-versus-a-copy\n",
      "  hm_df['module'] = hover_data['module'].values\n"
     ]
    },
    {
     "name": "stdout",
     "output_type": "stream",
     "text": [
      "./plots/dashboard234_rna_seq_umap_manhattan.html\n"
     ]
    }
   ],
   "source": [
    "embedding_metric = 'manhattan'\n",
    "\n",
    "p = bokeh_ui_utils.generate_and_save_umap(file_utils.generate_uniquely_numbered_export_path('./plots/', 'dashboard', '.html', tags=['rna_seq', 'umap', embedding_metric]), full_filtered_norm_df, complete_annot, leiden_label_df_round_1, 'rna_seq', color_palette, 'Full normalized expression w/ Leiden clustering (nn=3)', expr_min=-3, expr_max=3, embedding_metric=embedding_metric, n_neighbors=3)"
   ]
  },
  {
   "cell_type": "code",
   "execution_count": 38,
   "metadata": {},
   "outputs": [],
   "source": [
    "# import numpy as np\n",
    "\n",
    "# for nn in np.arange(2, 13, 1):\n",
    "\n",
    "#     folder = './plots/'\n",
    "#     file_name = 'dashboard'\n",
    "#     num = 1\n",
    "#     file_ext = '.html'\n",
    "\n",
    "#     files = os.listdir(folder)\n",
    "\n",
    "#     while any(file.startswith(f'{file_name}{str(num)}') for file in files):\n",
    "#         num += 1\n",
    "\n",
    "#     file_export_path = f'{folder}{file_name}{str(num)}{file_ext}'\n",
    "\n",
    "#     p = bokeh_ui_utils.generate_and_save_umap(file_export_path, full_filtered_norm_df, complete_annot, leiden_label_df_round_1, 'rna_seq', color_palette, f'Full normalized expression w/ Leiden clustering (nn={nn})', expr_min=0, expr_max=1, n_neighbors=nn)"
   ]
  }
 ],
 "metadata": {
  "kernelspec": {
   "display_name": "Python 3",
   "language": "python",
   "name": "python3"
  },
  "language_info": {
   "codemirror_mode": {
    "name": "ipython",
    "version": 3
   },
   "file_extension": ".py",
   "mimetype": "text/x-python",
   "name": "python",
   "nbconvert_exporter": "python",
   "pygments_lexer": "ipython3",
   "version": "3.9.9"
  }
 },
 "nbformat": 4,
 "nbformat_minor": 2
}

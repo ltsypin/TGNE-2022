{
 "cells": [
  {
   "cell_type": "code",
   "execution_count": 1,
   "metadata": {},
   "outputs": [
    {
     "name": "stderr",
     "output_type": "stream",
     "text": [
      "/Users/michaelbertagna/anaconda3/envs/cdh2_bokeh.env/lib/python3.8/site-packages/umap/distances.py:1063: NumbaDeprecationWarning: The 'nopython' keyword argument was not supplied to the 'numba.jit' decorator. The implicit default value for this argument is currently False, but it will be changed to True in Numba 0.59.0. See https://numba.readthedocs.io/en/stable/reference/deprecation.html#deprecation-of-object-mode-fall-back-behaviour-when-using-jit for details.\n",
      "  @numba.jit()\n",
      "/Users/michaelbertagna/anaconda3/envs/cdh2_bokeh.env/lib/python3.8/site-packages/umap/distances.py:1071: NumbaDeprecationWarning: The 'nopython' keyword argument was not supplied to the 'numba.jit' decorator. The implicit default value for this argument is currently False, but it will be changed to True in Numba 0.59.0. See https://numba.readthedocs.io/en/stable/reference/deprecation.html#deprecation-of-object-mode-fall-back-behaviour-when-using-jit for details.\n",
      "  @numba.jit()\n",
      "/Users/michaelbertagna/anaconda3/envs/cdh2_bokeh.env/lib/python3.8/site-packages/umap/distances.py:1086: NumbaDeprecationWarning: The 'nopython' keyword argument was not supplied to the 'numba.jit' decorator. The implicit default value for this argument is currently False, but it will be changed to True in Numba 0.59.0. See https://numba.readthedocs.io/en/stable/reference/deprecation.html#deprecation-of-object-mode-fall-back-behaviour-when-using-jit for details.\n",
      "  @numba.jit()\n",
      "/Users/michaelbertagna/anaconda3/envs/cdh2_bokeh.env/lib/python3.8/site-packages/tqdm/auto.py:21: TqdmWarning: IProgress not found. Please update jupyter and ipywidgets. See https://ipywidgets.readthedocs.io/en/stable/user_install.html\n",
      "  from .autonotebook import tqdm as notebook_tqdm\n",
      "/Users/michaelbertagna/anaconda3/envs/cdh2_bokeh.env/lib/python3.8/site-packages/umap/umap_.py:660: NumbaDeprecationWarning: The 'nopython' keyword argument was not supplied to the 'numba.jit' decorator. The implicit default value for this argument is currently False, but it will be changed to True in Numba 0.59.0. See https://numba.readthedocs.io/en/stable/reference/deprecation.html#deprecation-of-object-mode-fall-back-behaviour-when-using-jit for details.\n",
      "  @numba.jit()\n"
     ]
    }
   ],
   "source": [
    "import pandas as pd\n",
    "import os\n",
    "import pickle\n",
    "import sys\n",
    "\n",
    "sys.path.append('../../')\n",
    "from utils import bokeh_ui_utils, rna_seq_utils, file_utils"
   ]
  },
  {
   "cell_type": "code",
   "execution_count": 2,
   "metadata": {},
   "outputs": [],
   "source": [
    "full_filtered_df = pd.read_csv('../../active_fastas/rna_seq.csv')\n",
    "full_filtered_norm_df = rna_seq_utils.normalize_expression_per_gene(full_filtered_df)\n",
    "\n",
    "leiden_label_df_round_1 = pd.read_csv('./rna_seq_label_df_round_1.csv')\n",
    "complete_annot = pd.read_csv('../eggnog/complete_eggnog_annotation.csv')"
   ]
  },
  {
   "cell_type": "code",
   "execution_count": 3,
   "metadata": {},
   "outputs": [
    {
     "data": {
      "text/html": [
       "<div>\n",
       "<style scoped>\n",
       "    .dataframe tbody tr th:only-of-type {\n",
       "        vertical-align: middle;\n",
       "    }\n",
       "\n",
       "    .dataframe tbody tr th {\n",
       "        vertical-align: top;\n",
       "    }\n",
       "\n",
       "    .dataframe thead th {\n",
       "        text-align: right;\n",
       "    }\n",
       "</style>\n",
       "<table border=\"1\" class=\"dataframe\">\n",
       "  <thead>\n",
       "    <tr style=\"text-align: right;\">\n",
       "      <th></th>\n",
       "      <th>TTHERM_ID</th>\n",
       "      <th>label</th>\n",
       "    </tr>\n",
       "  </thead>\n",
       "  <tbody>\n",
       "    <tr>\n",
       "      <th>8452</th>\n",
       "      <td>YF00016605.t1</td>\n",
       "      <td>294</td>\n",
       "    </tr>\n",
       "  </tbody>\n",
       "</table>\n",
       "</div>"
      ],
      "text/plain": [
       "          TTHERM_ID  label\n",
       "8452  YF00016605.t1    294"
      ]
     },
     "execution_count": 3,
     "metadata": {},
     "output_type": "execute_result"
    }
   ],
   "source": [
    "leiden_label_df_round_1.sample()"
   ]
  },
  {
   "cell_type": "markdown",
   "metadata": {},
   "source": [
    "## Define palettes for plotting"
   ]
  },
  {
   "cell_type": "markdown",
   "metadata": {},
   "source": [
    "These palettes are from the R package Polychrome. The first is just palette36 with the first color replaced by white. The second is the alphabet palette with white prepended."
   ]
  },
  {
   "cell_type": "markdown",
   "metadata": {},
   "source": [
    "The R code for 64 colors:\n",
    "\n",
    "library(Polychrome);\n",
    "seed <- c(\"#000000\", \"#ff0000\", \"#00ff00\", \"#0000ff\");\n",
    "p64 <- createPalette(64, seed, range=c(40,100));\n",
    "paste(p64, sep=\"\\n\");\n",
    "\n",
    "Then, replace the first and last with ~white"
   ]
  },
  {
   "cell_type": "code",
   "execution_count": 4,
   "metadata": {},
   "outputs": [],
   "source": [
    "palette45 = \"\"\"\n",
    "#51635F\\n#FF1C16\\n#16FC26\\n#403DFC\\n#FE0DCE\\n#F9AA00\\n#00FFD5\\n#22BFFE\\n#BB3551\\n#E6FE97\\n#ECADFF\\n#FFBFBD\\n#CF00F5\\n#0D8B00\\n#D7FEFF\\n#8D7200\\n#F76C00\\n#AD3288\\n#5C5AB8\\n#FC0080\\n#B8FF16\\n#00AAB4\\n#FBE11C\\n#9AAAD9\\n#8BBB8C\\n#934B47\\n#6EFE99\\n#9C6D91\\n#FB9778\\n#9D32AF\\n#D40087\\n#FFDC9D\\n#FF8DB6\\n#A96AFC\\n#FDDDFB\\n#168CF7\\n#FD6CF9\\n#F64553\\n#4D6A00\\n#FAFEDB\\n#A7977D\\n#0DFBFF\\n#86B80D\\n#FD8AE4\\n#B7B126\n",
    "\"\"\".split()\n",
    "\n",
    "palette32 = \"\"\"\n",
    "white\\n#F91622\\n#16FC0D\\n#5138FB\\n#FD00CF\\n#FDD51C\\n#16FDD7\\n#FC8B8E\\n#16BFFF\\n#DF9BFD\\n#669C2A\\n#FEE7C4\\n#F31685\\n#DF16FD\\n#C1F1FE\\n#A23D7E\\n#D5FD0D\\n#8C5A0D\\n#FC790D\\n#4F5CBC\\n#FFCBEF\\n#168D72\\n#68FA93\\n#C4FDC9\\n#F7A449\\n#16789B\\n#AD0DAB\\n#C4262E\\n#0DF1FF\\n#EFF994\\n#B6C1FE\\n#8F22CD\n",
    "\"\"\".split()\n",
    "\n",
    "palette35 = \"\"\"\n",
    "#585F6A\\n#FE1626\\n#00FB0D\\n#2E40FC\\n#FD0DCE\\n#FCD200\\n#F7868C\\n#16FFDC\\n#22BEFB\\n#D28EF6\\n#609000\\n#FFE7C9\\n#F51683\\n#FF730D\\n#CAFE16\\n#AA3586\\n#BEEEFD\\n#BD00FA\\n#895D22\\n#FEC7F0\\n#495AA1\\n#73F995\\n#229270\\n#ED963B\\n#F6FE97\\n#C5FFD0\\n#C50DC8\\n#6993FF\\n#C22A35\\n#16ECFC\\n#AA707E\\n#7A3BCB\\n#7C845C\\n#358FAA\\n#BDBAF6\n",
    "\"\"\".split()\n",
    "\n",
    "palette38 = \"\"\"\n",
    "#636265\\n#F60D16\\n#00F90D\\n#3540FB\\n#FD0DD0\\n#FDDB0D\\n#00FFE2\\n#FA8884\\n#2ABEFE\\n#E5A3FF\\n#518F00\\n#FEFDD5\\n#D51CFF\\n#ED007F\\n#A33879\\n#96731C\\n#C8FB16\\n#C0ECFE\\n#FBC1DA\\n#5658BA\\n#F96900\\n#F69F1C\\n#58FA9C\\n#008E72\\n#BA22B9\\n#167D97\\n#794D8A\\n#CEFE9C\\n#BB222E\\n#954D45\\n#00DCEF\\n#FD66B0\\n#B2FDD3\\n#FDBD9F\\n#A9B4F1\\n#B371FE\\n#849566\\n#2A8EFF\n",
    "\"\"\".split()\n",
    "\n",
    "palette64 = \"\"\"\n",
    "white\\n#FA002E\\n#22FC22\\n#221CFA\\n#FF3DD6\\n#FFDA00\\n#00FEFB\\n#F48684\\n#CEB4FE\\n#FFFFE5\\n#0D933D\\n#CC00F8\\n#800D5D\\n#F10084\\n#22267A\\n#0DADFF\\n#CBFD71\\n#9A761C\\n#F96C00\\n#6399A6\\n#FFBCDA\\n#8D0DA3\\n#F79F26\\n#00FFBF\\n#A37CFB\\n#F68EEB\\n#720D0D\\n#F163AA\\n#7E926A\\n#826386\\n#B41C32\\n#9BEBCE\\n#E2DB83\\n#56D4FA\\n#E6E2FB\\n#925D58\\n#F7C3A7\\n#62E970\\n#220DBD\\n#5583BB\\n#7EA01C\\n#CDFDB6\\n#FD00FB\\n#B30D97\\n#F5FF00\\n#DD77FD\\n#4282FC\\n#BBA6A4\\n#0D8068\\n#AB5F26\\n#F7C26E\\n#9EFE00\\n#9B2EFD\\n#C56887\\n#FD3D68\\n#ABF2FD\\n#835FAC\\n#FF16B1\\n#325371\\n#CA16CA\\n#D26322\\n#AFCFFE\\n#91A1FA\\nfloralwhite\n",
    "\"\"\".split()\n",
    "\n",
    "palette65 = \"\"\"\n",
    "white\\ngainsboro\\n#FA002E\\n#22FC22\\n#221CFA\\n#FF3DD6\\n#FFDA00\\n#00FEFB\\n#F48684\\n#CEB4FE\\n#FFFFE5\\n#0D933D\\n#CC00F8\\n#800D5D\\n#F10084\\n#22267A\\n#0DADFF\\n#CBFD71\\n#9A761C\\n#F96C00\\n#6399A6\\n#FFBCDA\\n#8D0DA3\\n#F79F26\\n#00FFBF\\n#A37CFB\\n#F68EEB\\n#720D0D\\n#F163AA\\n#7E926A\\n#826386\\n#B41C32\\n#9BEBCE\\n#E2DB83\\n#56D4FA\\n#E6E2FB\\n#925D58\\n#F7C3A7\\n#62E970\\n#220DBD\\n#5583BB\\n#7EA01C\\n#CDFDB6\\n#FD00FB\\n#B30D97\\n#F5FF00\\n#DD77FD\\n#4282FC\\n#BBA6A4\\n#0D8068\\n#AB5F26\\n#F7C26E\\n#9EFE00\\n#9B2EFD\\n#C56887\\n#FD3D68\\n#ABF2FD\\n#835FAC\\n#FF16B1\\n#325371\\n#CA16CA\\n#D26322\\n#AFCFFE\\n#91A1FA\\nfloralwhite\n",
    "\"\"\".split()"
   ]
  },
  {
   "cell_type": "code",
   "execution_count": 5,
   "metadata": {},
   "outputs": [],
   "source": [
    "palette36 = [\"#FFFFFF\", \n",
    "             \"#E4E1E3\", \n",
    "             \"#F6222E\", \n",
    "             \"#FE00FA\", \n",
    "             \"#16FF32\", \n",
    "             \"#3283FE\", \n",
    "             \"#FEAF16\", \n",
    "             \"#B00068\", \n",
    "             \"#1CFFCE\",\n",
    "             \"#90AD1C\", \n",
    "             \"#2ED9FF\", \n",
    "             \"#DEA0FD\", \n",
    "             \"#AA0DFE\", \n",
    "             \"#F8A19F\", \n",
    "             \"#325A9B\", \n",
    "             \"#C4451C\", \n",
    "             \"#1C8356\", \n",
    "             \"#85660D\",\n",
    "             \"#B10DA1\", \n",
    "             \"#FBE426\", \n",
    "             \"#1CBE4F\", \n",
    "             \"#FA0087\", \n",
    "             \"#FC1CBF\", \n",
    "             \"#F7E1A0\", \n",
    "             \"#C075A6\", \n",
    "             \"#782AB6\", \n",
    "             \"#AAF400\",\n",
    "             \"#BDCDFF\", \n",
    "             \"#822E1C\", \n",
    "             \"#B5EFB5\", \n",
    "             \"#7ED7D1\", \n",
    "             \"#1C7F93\", \n",
    "             \"#D85FF7\", \n",
    "             \"#683B79\", \n",
    "             \"#66B0FF\", \n",
    "             \"#3B00FB\",\n",
    "             \"magenta\"]"
   ]
  },
  {
   "cell_type": "markdown",
   "metadata": {},
   "source": [
    "change index 5 to #778899. Change index 9 to #2F4F4F. Add #FF7F50. Change index 9 to #FFBCD9. Change index 14 to #DEA5A4"
   ]
  },
  {
   "cell_type": "code",
   "execution_count": 6,
   "metadata": {},
   "outputs": [],
   "source": [
    "palette27 = [\"#FFFFFF\", \n",
    "             \"#AA0DFE\", \n",
    "             \"#3283FE\", \n",
    "             \"#85660D\", \n",
    "             \"#782AB6\", \n",
    "             \"#778899\", \n",
    "             \"#1C8356\", \n",
    "             \"#16FF32\", \n",
    "             \"#F7E1A0\", \n",
    "#              \"#2F4F4F\",\n",
    "             \"#FFBCD9\", \n",
    "             \"#C4451C\", \n",
    "             \"#DEA0FD\", \n",
    "             \"#FE00FA\", \n",
    "#              \"#325A9B\", \n",
    "             \"#FEAF16\", \n",
    "             \"#DEA5A4\", \n",
    "             \"#90AD1C\", \n",
    "             \"#F6222E\",\n",
    "             \"#1CFFCE\", \n",
    "             \"#2ED9FF\", \n",
    "             \"#B10DA1\", \n",
    "#              \"#C075A6\", \n",
    "#              \"#FC1CBF\", \n",
    "#              \"#B00068\", \n",
    "             \"#FBE426\", \n",
    "             \"#FA0087\",\n",
    "             \"#FF7F50\"\n",
    "            ]"
   ]
  },
  {
   "cell_type": "code",
   "execution_count": 7,
   "metadata": {},
   "outputs": [],
   "source": [
    "with open(('colors_2000_1'), 'rb') as file:\n",
    "    color_palette_raw = pickle.load(file)\n",
    "\n",
    "color_palette = palette65\n",
    "\n",
    "if len(color_palette_raw) >= max(leiden_label_df_round_1['label'].unique()) + 1:\n",
    "    color_palette = color_palette_raw[:max(leiden_label_df_round_1['label'].unique()) + 1]"
   ]
  },
  {
   "cell_type": "code",
   "execution_count": null,
   "metadata": {},
   "outputs": [],
   "source": [
    "yf_to_ttherm_map_df = pd.read_csv('../../new_raw_data/tgd2024/yf_ttherm_mapping_may2024.csv')\n",
    "yf_to_ttherm_map_df.rename(columns={'TTHERM_ID': 'TTHERM_IDs', 'YF_ID': 'TTHERM_ID'},inplace=True)"
   ]
  },
  {
   "cell_type": "code",
   "execution_count": 9,
   "metadata": {},
   "outputs": [
    {
     "ename": "KeyboardInterrupt",
     "evalue": "",
     "output_type": "error",
     "traceback": [
      "\u001b[0;31m---------------------------------------------------------------------------\u001b[0m",
      "\u001b[0;31mKeyboardInterrupt\u001b[0m                         Traceback (most recent call last)",
      "Cell \u001b[0;32mIn[9], line 4\u001b[0m\n\u001b[1;32m      1\u001b[0m embedding_metric\u001b[38;5;241m=\u001b[39m\u001b[38;5;124m'\u001b[39m\u001b[38;5;124mmanhattan\u001b[39m\u001b[38;5;124m'\u001b[39m\n\u001b[1;32m      2\u001b[0m n_neighbors \u001b[38;5;241m=\u001b[39m \u001b[38;5;241m3\u001b[39m\n\u001b[0;32m----> 4\u001b[0m p \u001b[38;5;241m=\u001b[39m \u001b[43mbokeh_ui_utils\u001b[49m\u001b[38;5;241;43m.\u001b[39;49m\u001b[43mgenerate_and_save_umap\u001b[49m\u001b[43m(\u001b[49m\u001b[43mfile_utils\u001b[49m\u001b[38;5;241;43m.\u001b[39;49m\u001b[43mgenerate_uniquely_numbered_export_path\u001b[49m\u001b[43m(\u001b[49m\u001b[38;5;124;43m'\u001b[39;49m\u001b[38;5;124;43m./plots/\u001b[39;49m\u001b[38;5;124;43m'\u001b[39;49m\u001b[43m,\u001b[49m\u001b[43m \u001b[49m\u001b[38;5;124;43m'\u001b[39;49m\u001b[38;5;124;43mdashboard\u001b[39;49m\u001b[38;5;124;43m'\u001b[39;49m\u001b[43m,\u001b[49m\u001b[43m \u001b[49m\u001b[38;5;124;43m'\u001b[39;49m\u001b[38;5;124;43m.html\u001b[39;49m\u001b[38;5;124;43m'\u001b[39;49m\u001b[43m,\u001b[49m\u001b[43m \u001b[49m\u001b[43mtags\u001b[49m\u001b[38;5;241;43m=\u001b[39;49m\u001b[43m[\u001b[49m\u001b[38;5;124;43m'\u001b[39;49m\u001b[38;5;124;43mrna_seq\u001b[39;49m\u001b[38;5;124;43m'\u001b[39;49m\u001b[43m,\u001b[49m\u001b[43m \u001b[49m\u001b[38;5;124;43m'\u001b[39;49m\u001b[38;5;124;43mumap\u001b[39;49m\u001b[38;5;124;43m'\u001b[39;49m\u001b[43m,\u001b[49m\u001b[43m \u001b[49m\u001b[43membedding_metric\u001b[49m\u001b[43m]\u001b[49m\u001b[43m)\u001b[49m\u001b[43m,\u001b[49m\u001b[43m \u001b[49m\u001b[43mfull_filtered_norm_df\u001b[49m\u001b[43m,\u001b[49m\u001b[43m \u001b[49m\u001b[43mcomplete_annot\u001b[49m\u001b[43m,\u001b[49m\u001b[43m \u001b[49m\u001b[43mleiden_label_df_round_1\u001b[49m\u001b[43m,\u001b[49m\u001b[43m \u001b[49m\u001b[38;5;124;43m'\u001b[39;49m\u001b[38;5;124;43mrna_seq\u001b[39;49m\u001b[38;5;124;43m'\u001b[39;49m\u001b[43m,\u001b[49m\u001b[43m \u001b[49m\u001b[43mcolor_palette\u001b[49m\u001b[43m,\u001b[49m\u001b[43m \u001b[49m\u001b[38;5;124;43m'\u001b[39;49m\u001b[38;5;124;43mFull normalized expression w/ Leiden clustering (nn=3)\u001b[39;49m\u001b[38;5;124;43m'\u001b[39;49m\u001b[43m,\u001b[49m\u001b[43m \u001b[49m\u001b[43mexpr_min\u001b[49m\u001b[38;5;241;43m=\u001b[39;49m\u001b[38;5;241;43m-\u001b[39;49m\u001b[38;5;241;43m3\u001b[39;49m\u001b[43m,\u001b[49m\u001b[43m \u001b[49m\u001b[43mexpr_max\u001b[49m\u001b[38;5;241;43m=\u001b[39;49m\u001b[38;5;241;43m3\u001b[39;49m\u001b[43m,\u001b[49m\u001b[43m \u001b[49m\u001b[43membedding_metric\u001b[49m\u001b[38;5;241;43m=\u001b[39;49m\u001b[43membedding_metric\u001b[49m\u001b[43m,\u001b[49m\u001b[43m \u001b[49m\u001b[43mn_neighbors\u001b[49m\u001b[38;5;241;43m=\u001b[39;49m\u001b[43mn_neighbors\u001b[49m\u001b[43m,\u001b[49m\u001b[43m \u001b[49m\u001b[43myf_to_ttherm_map_df\u001b[49m\u001b[38;5;241;43m=\u001b[39;49m\u001b[43myf_to_ttherm_map_df\u001b[49m\u001b[43m)\u001b[49m\n",
      "File \u001b[0;32m~/git/TGNE-2022/TGNE/embedding/../../utils/bokeh_ui_utils.py:1460\u001b[0m, in \u001b[0;36mgenerate_and_save_umap\u001b[0;34m(outfile_name, expression_df, annotation_df, label_df, phase, palette, title, n_neighbors, n_components, random_state, expr_min, expr_max, embedding_metric, yf_to_ttherm_map_df)\u001b[0m\n\u001b[1;32m   1456\u001b[0m \u001b[38;5;28;01mdef\u001b[39;00m \u001b[38;5;21mgenerate_and_save_umap\u001b[39m(outfile_name, expression_df, annotation_df, label_df, phase, palette, title, n_neighbors\u001b[38;5;241m=\u001b[39m\u001b[38;5;241m5\u001b[39m, n_components\u001b[38;5;241m=\u001b[39m\u001b[38;5;241m2\u001b[39m, random_state\u001b[38;5;241m=\u001b[39m\u001b[38;5;241m42\u001b[39m, expr_min\u001b[38;5;241m=\u001b[39m\u001b[38;5;241m0\u001b[39m, expr_max\u001b[38;5;241m=\u001b[39m\u001b[38;5;241m1\u001b[39m, embedding_metric\u001b[38;5;241m=\u001b[39m\u001b[38;5;124m'\u001b[39m\u001b[38;5;124meuclidean\u001b[39m\u001b[38;5;124m'\u001b[39m, yf_to_ttherm_map_df\u001b[38;5;241m=\u001b[39m\u001b[38;5;28;01mNone\u001b[39;00m):\n\u001b[1;32m   1458\u001b[0m     data \u001b[38;5;241m=\u001b[39m expression_df[\u001b[38;5;28mlist\u001b[39m(expression_df\u001b[38;5;241m.\u001b[39mcolumns)[\u001b[38;5;241m1\u001b[39m:]]\u001b[38;5;241m.\u001b[39mvalues\n\u001b[0;32m-> 1460\u001b[0m     umap_mapper \u001b[38;5;241m=\u001b[39m \u001b[43mumap\u001b[49m\u001b[38;5;241;43m.\u001b[39;49m\u001b[43mUMAP\u001b[49m\u001b[43m(\u001b[49m\u001b[43mrandom_state\u001b[49m\u001b[38;5;241;43m=\u001b[39;49m\u001b[43mrandom_state\u001b[49m\u001b[43m,\u001b[49m\u001b[43m \u001b[49m\u001b[43mn_components\u001b[49m\u001b[38;5;241;43m=\u001b[39;49m\u001b[43mn_components\u001b[49m\u001b[43m,\u001b[49m\u001b[43m \u001b[49m\u001b[43mn_neighbors\u001b[49m\u001b[38;5;241;43m=\u001b[39;49m\u001b[43mn_neighbors\u001b[49m\u001b[43m,\u001b[49m\u001b[43m \u001b[49m\u001b[43mmetric\u001b[49m\u001b[38;5;241;43m=\u001b[39;49m\u001b[43membedding_metric\u001b[49m\u001b[43m)\u001b[49m\u001b[38;5;241;43m.\u001b[39;49m\u001b[43mfit\u001b[49m\u001b[43m(\u001b[49m\u001b[43mdata\u001b[49m\u001b[43m)\u001b[49m\n\u001b[1;32m   1461\u001b[0m     embedding \u001b[38;5;241m=\u001b[39m _get_umap_embedding(umap_mapper)\n\u001b[1;32m   1463\u001b[0m     umap_df \u001b[38;5;241m=\u001b[39m pd\u001b[38;5;241m.\u001b[39mDataFrame(np\u001b[38;5;241m.\u001b[39marray(embedding), columns\u001b[38;5;241m=\u001b[39m(\u001b[38;5;124m'\u001b[39m\u001b[38;5;124mx\u001b[39m\u001b[38;5;124m'\u001b[39m, \u001b[38;5;124m'\u001b[39m\u001b[38;5;124my\u001b[39m\u001b[38;5;124m'\u001b[39m))\n",
      "File \u001b[0;32m~/anaconda3/envs/cdh2_bokeh.env/lib/python3.8/site-packages/umap/umap_.py:2516\u001b[0m, in \u001b[0;36mUMAP.fit\u001b[0;34m(self, X, y)\u001b[0m\n\u001b[1;32m   2510\u001b[0m     nn_metric \u001b[38;5;241m=\u001b[39m \u001b[38;5;28mself\u001b[39m\u001b[38;5;241m.\u001b[39m_input_distance_func\n\u001b[1;32m   2511\u001b[0m \u001b[38;5;28;01mif\u001b[39;00m \u001b[38;5;28mself\u001b[39m\u001b[38;5;241m.\u001b[39mknn_dists \u001b[38;5;129;01mis\u001b[39;00m \u001b[38;5;28;01mNone\u001b[39;00m:\n\u001b[1;32m   2512\u001b[0m     (\n\u001b[1;32m   2513\u001b[0m         \u001b[38;5;28mself\u001b[39m\u001b[38;5;241m.\u001b[39m_knn_indices,\n\u001b[1;32m   2514\u001b[0m         \u001b[38;5;28mself\u001b[39m\u001b[38;5;241m.\u001b[39m_knn_dists,\n\u001b[1;32m   2515\u001b[0m         \u001b[38;5;28mself\u001b[39m\u001b[38;5;241m.\u001b[39m_knn_search_index,\n\u001b[0;32m-> 2516\u001b[0m     ) \u001b[38;5;241m=\u001b[39m \u001b[43mnearest_neighbors\u001b[49m\u001b[43m(\u001b[49m\n\u001b[1;32m   2517\u001b[0m \u001b[43m        \u001b[49m\u001b[43mX\u001b[49m\u001b[43m[\u001b[49m\u001b[43mindex\u001b[49m\u001b[43m]\u001b[49m\u001b[43m,\u001b[49m\n\u001b[1;32m   2518\u001b[0m \u001b[43m        \u001b[49m\u001b[38;5;28;43mself\u001b[39;49m\u001b[38;5;241;43m.\u001b[39;49m\u001b[43m_n_neighbors\u001b[49m\u001b[43m,\u001b[49m\n\u001b[1;32m   2519\u001b[0m \u001b[43m        \u001b[49m\u001b[43mnn_metric\u001b[49m\u001b[43m,\u001b[49m\n\u001b[1;32m   2520\u001b[0m \u001b[43m        \u001b[49m\u001b[38;5;28;43mself\u001b[39;49m\u001b[38;5;241;43m.\u001b[39;49m\u001b[43m_metric_kwds\u001b[49m\u001b[43m,\u001b[49m\n\u001b[1;32m   2521\u001b[0m \u001b[43m        \u001b[49m\u001b[38;5;28;43mself\u001b[39;49m\u001b[38;5;241;43m.\u001b[39;49m\u001b[43mangular_rp_forest\u001b[49m\u001b[43m,\u001b[49m\n\u001b[1;32m   2522\u001b[0m \u001b[43m        \u001b[49m\u001b[43mrandom_state\u001b[49m\u001b[43m,\u001b[49m\n\u001b[1;32m   2523\u001b[0m \u001b[43m        \u001b[49m\u001b[38;5;28;43mself\u001b[39;49m\u001b[38;5;241;43m.\u001b[39;49m\u001b[43mlow_memory\u001b[49m\u001b[43m,\u001b[49m\n\u001b[1;32m   2524\u001b[0m \u001b[43m        \u001b[49m\u001b[43muse_pynndescent\u001b[49m\u001b[38;5;241;43m=\u001b[39;49m\u001b[38;5;28;43;01mTrue\u001b[39;49;00m\u001b[43m,\u001b[49m\n\u001b[1;32m   2525\u001b[0m \u001b[43m        \u001b[49m\u001b[43mn_jobs\u001b[49m\u001b[38;5;241;43m=\u001b[39;49m\u001b[38;5;28;43mself\u001b[39;49m\u001b[38;5;241;43m.\u001b[39;49m\u001b[43mn_jobs\u001b[49m\u001b[43m,\u001b[49m\n\u001b[1;32m   2526\u001b[0m \u001b[43m        \u001b[49m\u001b[43mverbose\u001b[49m\u001b[38;5;241;43m=\u001b[39;49m\u001b[38;5;28;43mself\u001b[39;49m\u001b[38;5;241;43m.\u001b[39;49m\u001b[43mverbose\u001b[49m\u001b[43m,\u001b[49m\n\u001b[1;32m   2527\u001b[0m \u001b[43m    \u001b[49m\u001b[43m)\u001b[49m\n\u001b[1;32m   2528\u001b[0m \u001b[38;5;28;01melse\u001b[39;00m:\n\u001b[1;32m   2529\u001b[0m     \u001b[38;5;28mself\u001b[39m\u001b[38;5;241m.\u001b[39m_knn_indices \u001b[38;5;241m=\u001b[39m \u001b[38;5;28mself\u001b[39m\u001b[38;5;241m.\u001b[39mknn_indices\n",
      "File \u001b[0;32m~/anaconda3/envs/cdh2_bokeh.env/lib/python3.8/site-packages/umap/umap_.py:328\u001b[0m, in \u001b[0;36mnearest_neighbors\u001b[0;34m(X, n_neighbors, metric, metric_kwds, angular, random_state, low_memory, use_pynndescent, n_jobs, verbose)\u001b[0m\n\u001b[1;32m    325\u001b[0m     n_trees \u001b[38;5;241m=\u001b[39m \u001b[38;5;28mmin\u001b[39m(\u001b[38;5;241m64\u001b[39m, \u001b[38;5;241m5\u001b[39m \u001b[38;5;241m+\u001b[39m \u001b[38;5;28mint\u001b[39m(\u001b[38;5;28mround\u001b[39m((X\u001b[38;5;241m.\u001b[39mshape[\u001b[38;5;241m0\u001b[39m]) \u001b[38;5;241m*\u001b[39m\u001b[38;5;241m*\u001b[39m \u001b[38;5;241m0.5\u001b[39m \u001b[38;5;241m/\u001b[39m \u001b[38;5;241m20.0\u001b[39m)))\n\u001b[1;32m    326\u001b[0m     n_iters \u001b[38;5;241m=\u001b[39m \u001b[38;5;28mmax\u001b[39m(\u001b[38;5;241m5\u001b[39m, \u001b[38;5;28mint\u001b[39m(\u001b[38;5;28mround\u001b[39m(np\u001b[38;5;241m.\u001b[39mlog2(X\u001b[38;5;241m.\u001b[39mshape[\u001b[38;5;241m0\u001b[39m]))))\n\u001b[0;32m--> 328\u001b[0m     knn_search_index \u001b[38;5;241m=\u001b[39m \u001b[43mNNDescent\u001b[49m\u001b[43m(\u001b[49m\n\u001b[1;32m    329\u001b[0m \u001b[43m        \u001b[49m\u001b[43mX\u001b[49m\u001b[43m,\u001b[49m\n\u001b[1;32m    330\u001b[0m \u001b[43m        \u001b[49m\u001b[43mn_neighbors\u001b[49m\u001b[38;5;241;43m=\u001b[39;49m\u001b[43mn_neighbors\u001b[49m\u001b[43m,\u001b[49m\n\u001b[1;32m    331\u001b[0m \u001b[43m        \u001b[49m\u001b[43mmetric\u001b[49m\u001b[38;5;241;43m=\u001b[39;49m\u001b[43mmetric\u001b[49m\u001b[43m,\u001b[49m\n\u001b[1;32m    332\u001b[0m \u001b[43m        \u001b[49m\u001b[43mmetric_kwds\u001b[49m\u001b[38;5;241;43m=\u001b[39;49m\u001b[43mmetric_kwds\u001b[49m\u001b[43m,\u001b[49m\n\u001b[1;32m    333\u001b[0m \u001b[43m        \u001b[49m\u001b[43mrandom_state\u001b[49m\u001b[38;5;241;43m=\u001b[39;49m\u001b[43mrandom_state\u001b[49m\u001b[43m,\u001b[49m\n\u001b[1;32m    334\u001b[0m \u001b[43m        \u001b[49m\u001b[43mn_trees\u001b[49m\u001b[38;5;241;43m=\u001b[39;49m\u001b[43mn_trees\u001b[49m\u001b[43m,\u001b[49m\n\u001b[1;32m    335\u001b[0m \u001b[43m        \u001b[49m\u001b[43mn_iters\u001b[49m\u001b[38;5;241;43m=\u001b[39;49m\u001b[43mn_iters\u001b[49m\u001b[43m,\u001b[49m\n\u001b[1;32m    336\u001b[0m \u001b[43m        \u001b[49m\u001b[43mmax_candidates\u001b[49m\u001b[38;5;241;43m=\u001b[39;49m\u001b[38;5;241;43m60\u001b[39;49m\u001b[43m,\u001b[49m\n\u001b[1;32m    337\u001b[0m \u001b[43m        \u001b[49m\u001b[43mlow_memory\u001b[49m\u001b[38;5;241;43m=\u001b[39;49m\u001b[43mlow_memory\u001b[49m\u001b[43m,\u001b[49m\n\u001b[1;32m    338\u001b[0m \u001b[43m        \u001b[49m\u001b[43mn_jobs\u001b[49m\u001b[38;5;241;43m=\u001b[39;49m\u001b[43mn_jobs\u001b[49m\u001b[43m,\u001b[49m\n\u001b[1;32m    339\u001b[0m \u001b[43m        \u001b[49m\u001b[43mverbose\u001b[49m\u001b[38;5;241;43m=\u001b[39;49m\u001b[43mverbose\u001b[49m\u001b[43m,\u001b[49m\n\u001b[1;32m    340\u001b[0m \u001b[43m        \u001b[49m\u001b[43mcompressed\u001b[49m\u001b[38;5;241;43m=\u001b[39;49m\u001b[38;5;28;43;01mFalse\u001b[39;49;00m\u001b[43m,\u001b[49m\n\u001b[1;32m    341\u001b[0m \u001b[43m    \u001b[49m\u001b[43m)\u001b[49m\n\u001b[1;32m    342\u001b[0m     knn_indices, knn_dists \u001b[38;5;241m=\u001b[39m knn_search_index\u001b[38;5;241m.\u001b[39mneighbor_graph\n\u001b[1;32m    344\u001b[0m \u001b[38;5;28;01mif\u001b[39;00m verbose:\n",
      "File \u001b[0;32m~/anaconda3/envs/cdh2_bokeh.env/lib/python3.8/site-packages/pynndescent/pynndescent_.py:794\u001b[0m, in \u001b[0;36mNNDescent.__init__\u001b[0;34m(self, data, metric, metric_kwds, n_neighbors, n_trees, leaf_size, pruning_degree_multiplier, diversify_prob, n_search_trees, tree_init, init_graph, init_dist, random_state, low_memory, max_candidates, n_iters, delta, n_jobs, compressed, parallel_batch_queries, verbose)\u001b[0m\n\u001b[1;32m    792\u001b[0m     \u001b[38;5;28;01mif\u001b[39;00m verbose:\n\u001b[1;32m    793\u001b[0m         \u001b[38;5;28mprint\u001b[39m(ts(), \u001b[38;5;124m\"\u001b[39m\u001b[38;5;124mBuilding RP forest with\u001b[39m\u001b[38;5;124m\"\u001b[39m, \u001b[38;5;28mstr\u001b[39m(n_trees), \u001b[38;5;124m\"\u001b[39m\u001b[38;5;124mtrees\u001b[39m\u001b[38;5;124m\"\u001b[39m)\n\u001b[0;32m--> 794\u001b[0m     \u001b[38;5;28mself\u001b[39m\u001b[38;5;241m.\u001b[39m_rp_forest \u001b[38;5;241m=\u001b[39m \u001b[43mmake_forest\u001b[49m\u001b[43m(\u001b[49m\n\u001b[1;32m    795\u001b[0m \u001b[43m        \u001b[49m\u001b[43mdata\u001b[49m\u001b[43m,\u001b[49m\n\u001b[1;32m    796\u001b[0m \u001b[43m        \u001b[49m\u001b[43mn_neighbors\u001b[49m\u001b[43m,\u001b[49m\n\u001b[1;32m    797\u001b[0m \u001b[43m        \u001b[49m\u001b[43mn_trees\u001b[49m\u001b[43m,\u001b[49m\n\u001b[1;32m    798\u001b[0m \u001b[43m        \u001b[49m\u001b[43mleaf_size\u001b[49m\u001b[43m,\u001b[49m\n\u001b[1;32m    799\u001b[0m \u001b[43m        \u001b[49m\u001b[38;5;28;43mself\u001b[39;49m\u001b[38;5;241;43m.\u001b[39;49m\u001b[43mrng_state\u001b[49m\u001b[43m,\u001b[49m\n\u001b[1;32m    800\u001b[0m \u001b[43m        \u001b[49m\u001b[43mcurrent_random_state\u001b[49m\u001b[43m,\u001b[49m\n\u001b[1;32m    801\u001b[0m \u001b[43m        \u001b[49m\u001b[38;5;28;43mself\u001b[39;49m\u001b[38;5;241;43m.\u001b[39;49m\u001b[43mn_jobs\u001b[49m\u001b[43m,\u001b[49m\n\u001b[1;32m    802\u001b[0m \u001b[43m        \u001b[49m\u001b[38;5;28;43mself\u001b[39;49m\u001b[38;5;241;43m.\u001b[39;49m\u001b[43m_angular_trees\u001b[49m\u001b[43m,\u001b[49m\n\u001b[1;32m    803\u001b[0m \u001b[43m    \u001b[49m\u001b[43m)\u001b[49m\n\u001b[1;32m    804\u001b[0m     leaf_array \u001b[38;5;241m=\u001b[39m rptree_leaf_array(\u001b[38;5;28mself\u001b[39m\u001b[38;5;241m.\u001b[39m_rp_forest)\n\u001b[1;32m    805\u001b[0m \u001b[38;5;28;01melse\u001b[39;00m:\n",
      "File \u001b[0;32m~/anaconda3/envs/cdh2_bokeh.env/lib/python3.8/site-packages/pynndescent/rp_trees.py:1056\u001b[0m, in \u001b[0;36mmake_forest\u001b[0;34m(data, n_neighbors, n_trees, leaf_size, rng_state, random_state, n_jobs, angular)\u001b[0m\n\u001b[1;32m   1044\u001b[0m         result \u001b[38;5;241m=\u001b[39m joblib\u001b[38;5;241m.\u001b[39mParallel(n_jobs\u001b[38;5;241m=\u001b[39mn_jobs, require\u001b[38;5;241m=\u001b[39m\u001b[38;5;124m\"\u001b[39m\u001b[38;5;124msharedmem\u001b[39m\u001b[38;5;124m\"\u001b[39m)(\n\u001b[1;32m   1045\u001b[0m             joblib\u001b[38;5;241m.\u001b[39mdelayed(make_sparse_tree)(\n\u001b[1;32m   1046\u001b[0m                 data\u001b[38;5;241m.\u001b[39mindices,\n\u001b[0;32m   (...)\u001b[0m\n\u001b[1;32m   1053\u001b[0m             \u001b[38;5;28;01mfor\u001b[39;00m i \u001b[38;5;129;01min\u001b[39;00m \u001b[38;5;28mrange\u001b[39m(n_trees)\n\u001b[1;32m   1054\u001b[0m         )\n\u001b[1;32m   1055\u001b[0m     \u001b[38;5;28;01melse\u001b[39;00m:\n\u001b[0;32m-> 1056\u001b[0m         result \u001b[38;5;241m=\u001b[39m \u001b[43mjoblib\u001b[49m\u001b[38;5;241;43m.\u001b[39;49m\u001b[43mParallel\u001b[49m\u001b[43m(\u001b[49m\u001b[43mn_jobs\u001b[49m\u001b[38;5;241;43m=\u001b[39;49m\u001b[43mn_jobs\u001b[49m\u001b[43m,\u001b[49m\u001b[43m \u001b[49m\u001b[43mrequire\u001b[49m\u001b[38;5;241;43m=\u001b[39;49m\u001b[38;5;124;43m\"\u001b[39;49m\u001b[38;5;124;43msharedmem\u001b[39;49m\u001b[38;5;124;43m\"\u001b[39;49m\u001b[43m)\u001b[49m\u001b[43m(\u001b[49m\n\u001b[1;32m   1057\u001b[0m \u001b[43m            \u001b[49m\u001b[43mjoblib\u001b[49m\u001b[38;5;241;43m.\u001b[39;49m\u001b[43mdelayed\u001b[49m\u001b[43m(\u001b[49m\u001b[43mmake_dense_tree\u001b[49m\u001b[43m)\u001b[49m\u001b[43m(\u001b[49m\u001b[43mdata\u001b[49m\u001b[43m,\u001b[49m\u001b[43m \u001b[49m\u001b[43mrng_states\u001b[49m\u001b[43m[\u001b[49m\u001b[43mi\u001b[49m\u001b[43m]\u001b[49m\u001b[43m,\u001b[49m\u001b[43m \u001b[49m\u001b[43mleaf_size\u001b[49m\u001b[43m,\u001b[49m\u001b[43m \u001b[49m\u001b[43mangular\u001b[49m\u001b[43m)\u001b[49m\n\u001b[1;32m   1058\u001b[0m \u001b[43m            \u001b[49m\u001b[38;5;28;43;01mfor\u001b[39;49;00m\u001b[43m \u001b[49m\u001b[43mi\u001b[49m\u001b[43m \u001b[49m\u001b[38;5;129;43;01min\u001b[39;49;00m\u001b[43m \u001b[49m\u001b[38;5;28;43mrange\u001b[39;49m\u001b[43m(\u001b[49m\u001b[43mn_trees\u001b[49m\u001b[43m)\u001b[49m\n\u001b[1;32m   1059\u001b[0m \u001b[43m        \u001b[49m\u001b[43m)\u001b[49m\n\u001b[1;32m   1060\u001b[0m \u001b[38;5;28;01mexcept\u001b[39;00m (\u001b[38;5;167;01mRuntimeError\u001b[39;00m, \u001b[38;5;167;01mRecursionError\u001b[39;00m, \u001b[38;5;167;01mSystemError\u001b[39;00m):\n\u001b[1;32m   1061\u001b[0m     warn(\n\u001b[1;32m   1062\u001b[0m         \u001b[38;5;124m\"\u001b[39m\u001b[38;5;124mRandom Projection forest initialisation failed due to recursion\u001b[39m\u001b[38;5;124m\"\u001b[39m\n\u001b[1;32m   1063\u001b[0m         \u001b[38;5;124m\"\u001b[39m\u001b[38;5;124mlimit being reached. Something is a little strange with your \u001b[39m\u001b[38;5;124m\"\u001b[39m\n\u001b[1;32m   1064\u001b[0m         \u001b[38;5;124m\"\u001b[39m\u001b[38;5;124mgraph_data, and this may take longer than normal to compute.\u001b[39m\u001b[38;5;124m\"\u001b[39m\n\u001b[1;32m   1065\u001b[0m     )\n",
      "File \u001b[0;32m~/anaconda3/envs/cdh2_bokeh.env/lib/python3.8/site-packages/joblib/parallel.py:2007\u001b[0m, in \u001b[0;36mParallel.__call__\u001b[0;34m(self, iterable)\u001b[0m\n\u001b[1;32m   2001\u001b[0m \u001b[38;5;66;03m# The first item from the output is blank, but it makes the interpreter\u001b[39;00m\n\u001b[1;32m   2002\u001b[0m \u001b[38;5;66;03m# progress until it enters the Try/Except block of the generator and\u001b[39;00m\n\u001b[1;32m   2003\u001b[0m \u001b[38;5;66;03m# reach the first `yield` statement. This starts the aynchronous\u001b[39;00m\n\u001b[1;32m   2004\u001b[0m \u001b[38;5;66;03m# dispatch of the tasks to the workers.\u001b[39;00m\n\u001b[1;32m   2005\u001b[0m \u001b[38;5;28mnext\u001b[39m(output)\n\u001b[0;32m-> 2007\u001b[0m \u001b[38;5;28;01mreturn\u001b[39;00m output \u001b[38;5;28;01mif\u001b[39;00m \u001b[38;5;28mself\u001b[39m\u001b[38;5;241m.\u001b[39mreturn_generator \u001b[38;5;28;01melse\u001b[39;00m \u001b[38;5;28;43mlist\u001b[39;49m\u001b[43m(\u001b[49m\u001b[43moutput\u001b[49m\u001b[43m)\u001b[49m\n",
      "File \u001b[0;32m~/anaconda3/envs/cdh2_bokeh.env/lib/python3.8/site-packages/joblib/parallel.py:1650\u001b[0m, in \u001b[0;36mParallel._get_outputs\u001b[0;34m(self, iterator, pre_dispatch)\u001b[0m\n\u001b[1;32m   1647\u001b[0m     \u001b[38;5;28;01myield\u001b[39;00m\n\u001b[1;32m   1649\u001b[0m     \u001b[38;5;28;01mwith\u001b[39;00m \u001b[38;5;28mself\u001b[39m\u001b[38;5;241m.\u001b[39m_backend\u001b[38;5;241m.\u001b[39mretrieval_context():\n\u001b[0;32m-> 1650\u001b[0m         \u001b[38;5;28;01myield from\u001b[39;00m \u001b[38;5;28mself\u001b[39m\u001b[38;5;241m.\u001b[39m_retrieve()\n\u001b[1;32m   1652\u001b[0m \u001b[38;5;28;01mexcept\u001b[39;00m \u001b[38;5;167;01mGeneratorExit\u001b[39;00m:\n\u001b[1;32m   1653\u001b[0m     \u001b[38;5;66;03m# The generator has been garbage collected before being fully\u001b[39;00m\n\u001b[1;32m   1654\u001b[0m     \u001b[38;5;66;03m# consumed. This aborts the remaining tasks if possible and warn\u001b[39;00m\n\u001b[1;32m   1655\u001b[0m     \u001b[38;5;66;03m# the user if necessary.\u001b[39;00m\n\u001b[1;32m   1656\u001b[0m     \u001b[38;5;28mself\u001b[39m\u001b[38;5;241m.\u001b[39m_exception \u001b[38;5;241m=\u001b[39m \u001b[38;5;28;01mTrue\u001b[39;00m\n",
      "File \u001b[0;32m~/anaconda3/envs/cdh2_bokeh.env/lib/python3.8/site-packages/joblib/parallel.py:1762\u001b[0m, in \u001b[0;36mParallel._retrieve\u001b[0;34m(self)\u001b[0m\n\u001b[1;32m   1757\u001b[0m \u001b[38;5;66;03m# If the next job is not ready for retrieval yet, we just wait for\u001b[39;00m\n\u001b[1;32m   1758\u001b[0m \u001b[38;5;66;03m# async callbacks to progress.\u001b[39;00m\n\u001b[1;32m   1759\u001b[0m \u001b[38;5;28;01mif\u001b[39;00m ((\u001b[38;5;28mlen\u001b[39m(\u001b[38;5;28mself\u001b[39m\u001b[38;5;241m.\u001b[39m_jobs) \u001b[38;5;241m==\u001b[39m \u001b[38;5;241m0\u001b[39m) \u001b[38;5;129;01mor\u001b[39;00m\n\u001b[1;32m   1760\u001b[0m     (\u001b[38;5;28mself\u001b[39m\u001b[38;5;241m.\u001b[39m_jobs[\u001b[38;5;241m0\u001b[39m]\u001b[38;5;241m.\u001b[39mget_status(\n\u001b[1;32m   1761\u001b[0m         timeout\u001b[38;5;241m=\u001b[39m\u001b[38;5;28mself\u001b[39m\u001b[38;5;241m.\u001b[39mtimeout) \u001b[38;5;241m==\u001b[39m TASK_PENDING)):\n\u001b[0;32m-> 1762\u001b[0m     \u001b[43mtime\u001b[49m\u001b[38;5;241;43m.\u001b[39;49m\u001b[43msleep\u001b[49m\u001b[43m(\u001b[49m\u001b[38;5;241;43m0.01\u001b[39;49m\u001b[43m)\u001b[49m\n\u001b[1;32m   1763\u001b[0m     \u001b[38;5;28;01mcontinue\u001b[39;00m\n\u001b[1;32m   1765\u001b[0m \u001b[38;5;66;03m# We need to be careful: the job list can be filling up as\u001b[39;00m\n\u001b[1;32m   1766\u001b[0m \u001b[38;5;66;03m# we empty it and Python list are not thread-safe by\u001b[39;00m\n\u001b[1;32m   1767\u001b[0m \u001b[38;5;66;03m# default hence the use of the lock\u001b[39;00m\n",
      "\u001b[0;31mKeyboardInterrupt\u001b[0m: "
     ]
    }
   ],
   "source": [
    "embedding_metric='manhattan'\n",
    "n_neighbors = 3\n",
    "\n",
    "p = bokeh_ui_utils.generate_and_save_umap(file_utils.generate_uniquely_numbered_export_path('./plots/', 'dashboard', '.html', tags=['rna_seq', 'umap', embedding_metric]), full_filtered_norm_df, complete_annot, leiden_label_df_round_1, 'rna_seq', color_palette, 'Full normalized expression w/ Leiden clustering (nn=3)', expr_min=-3, expr_max=3, embedding_metric=embedding_metric, n_neighbors=n_neighbors, yf_to_ttherm_map_df=yf_to_ttherm_map_df)"
   ]
  }
 ],
 "metadata": {
  "kernelspec": {
   "display_name": "Python 3",
   "language": "python",
   "name": "python3"
  },
  "language_info": {
   "codemirror_mode": {
    "name": "ipython",
    "version": 3
   },
   "file_extension": ".py",
   "mimetype": "text/x-python",
   "name": "python",
   "nbconvert_exporter": "python",
   "pygments_lexer": "ipython3",
   "version": "3.8.16"
  }
 },
 "nbformat": 4,
 "nbformat_minor": 2
}

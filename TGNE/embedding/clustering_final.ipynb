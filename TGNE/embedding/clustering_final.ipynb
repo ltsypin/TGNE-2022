{
 "cells": [
  {
   "cell_type": "markdown",
   "id": "2e305761-a971-4232-8a21-5907cfeedfad",
   "metadata": {},
   "source": [
    "## IMPORT PACKAGES"
   ]
  },
  {
   "cell_type": "code",
   "execution_count": null,
   "id": "5d9163ea-8dc4-46e8-9542-ba27cc741b52",
   "metadata": {},
   "outputs": [],
   "source": [
    "import pandas as pd\n",
    "import sys\n",
    "from matplotlib import pyplot as plt\n",
    "\n",
    "sys.path.append('../../')\n",
    "from utils import microarray_utils, clustering_utils, bokeh_ui_utils"
   ]
  },
  {
   "cell_type": "code",
   "execution_count": null,
   "id": "20cf4cee",
   "metadata": {},
   "outputs": [],
   "source": [
    "full_filtered_df = pd.read_csv('../microarray_probe_alignment_and_filtering/allgood_filt_agg_tidy_2021aligned_qc_rma_expression_full.csv')\n",
    "full_filtered_df = full_filtered_df.rename(columns={'Unnamed: 0': 'TTHERM_ID'})\n",
    "num_genes = full_filtered_df.shape[0]\n",
    "num_genes"
   ]
  },
  {
   "cell_type": "code",
   "execution_count": null,
   "id": "07cfa785",
   "metadata": {},
   "outputs": [],
   "source": [
    "full_filtered_df.sample(10)"
   ]
  },
  {
   "cell_type": "code",
   "execution_count": null,
   "id": "e02096fa",
   "metadata": {},
   "outputs": [],
   "source": [
    "full_filtered_norm_df = microarray_utils.normalize_expression_per_gene(full_filtered_df)"
   ]
  },
  {
   "cell_type": "markdown",
   "id": "d03955e5",
   "metadata": {},
   "source": [
    "# LEIDEN CLUSTERING"
   ]
  },
  {
   "cell_type": "code",
   "execution_count": null,
   "id": "1b2abc21",
   "metadata": {},
   "outputs": [],
   "source": [
    "phases = 'full'"
   ]
  },
  {
   "cell_type": "code",
   "execution_count": null,
   "id": "92c456b7",
   "metadata": {},
   "outputs": [],
   "source": [
    "leiden_label_df_round_1, partition_stats, cluster_sizes, enriched_cluster_sizes =  clustering_utils.build_label_df(\n",
    "    full_filtered_df, \n",
    "    # metric='minkowski_3.0', \n",
    "    metric='angular',\n",
    "    n_neighbors=2, \n",
    "    resolution_param=0.001, \n",
    "    partition_type = 'EXP', \n",
    "    n_jobs = -1, \n",
    "    random_state=42\n",
    "    )"
   ]
  },
  {
   "cell_type": "code",
   "execution_count": null,
   "id": "6b8d5fd8",
   "metadata": {},
   "outputs": [],
   "source": [
    "leiden_label_df_round_1_arranged = bokeh_ui_utils.arrange_modules(full_filtered_norm_df, leiden_label_df_round_1, phases) \n",
    "leiden_label_df_round_1_arranged_sorted = leiden_label_df_round_1_arranged.sort_values(by=['label', 'TTHERM_ID'], ascending=False)\n",
    "leiden_label_df_round_1_arranged_sorted.to_csv('./test_nn3_leiden_label_df_round_1.csv', index=False)"
   ]
  },
  {
   "cell_type": "code",
   "execution_count": null,
   "id": "68372c7d",
   "metadata": {},
   "outputs": [],
   "source": [
    "plt.hist(cluster_sizes, max(cluster_sizes))\n",
    "plt.title('DISTRIBUTION OF ALL CLUSTER SIZES')\n",
    "plt.xlabel('# genes in cluster')\n",
    "plt.ylabel('# clusters')\n",
    "plt.show()"
   ]
  },
  {
   "cell_type": "code",
   "execution_count": null,
   "id": "0f74b92c",
   "metadata": {},
   "outputs": [],
   "source": [
    "plt.hist(enriched_cluster_sizes, max(enriched_cluster_sizes))\n",
    "plt.title('DISTRIBUTION OF ENRICHED CLUSTER SIZES')\n",
    "plt.xlabel('# genes in cluster')\n",
    "plt.ylabel('# clusters')\n",
    "plt.show()"
   ]
  },
  {
   "cell_type": "code",
   "execution_count": null,
   "id": "27741048",
   "metadata": {},
   "outputs": [],
   "source": [
    "key_lens = [len(k) for k in partition_stats.keys()]\n",
    "max_key_len = max(key_lens)\n",
    "\n",
    "for k, v in partition_stats.items():\n",
    "    print(f'{\" \" * (max_key_len - len(k))}{k}:', v)"
   ]
  },
  {
   "cell_type": "code",
   "execution_count": null,
   "metadata": {},
   "outputs": [],
   "source": [
    "# for MCL\n",
    "def leiden_clustering_df_to_csv(df, export_file_path):\n",
    "    current_module = list(df['label'].values)[0]\n",
    "\n",
    "    new_cluster = True\n",
    "\n",
    "    with open(export_file_path, 'w') as f:\n",
    "        for idx, row in df.iterrows():\n",
    "            if current_module != row['label']:\n",
    "                current_module = row['label']\n",
    "                f.write('\\n')\n",
    "                new_cluster =True\n",
    "\n",
    "            elif not new_cluster:\n",
    "                f.write('\\t')\n",
    "            \n",
    "            f.write(row['TTHERM_ID'])\n",
    "            new_cluster = False\n",
    "\n",
    "        f.write('\\n')\n",
    "    \n",
    "    print(export_file_path, 'successfully exported.')"
   ]
  }
 ],
 "metadata": {
  "kernelspec": {
   "display_name": "Python 3 (ipykernel)",
   "language": "python",
   "name": "python3"
  },
  "language_info": {
   "codemirror_mode": {
    "name": "ipython",
    "version": 3
   },
   "file_extension": ".py",
   "mimetype": "text/x-python",
   "name": "python",
   "nbconvert_exporter": "python",
   "pygments_lexer": "ipython3",
   "version": "3.9.9"
  }
 },
 "nbformat": 4,
 "nbformat_minor": 5
}

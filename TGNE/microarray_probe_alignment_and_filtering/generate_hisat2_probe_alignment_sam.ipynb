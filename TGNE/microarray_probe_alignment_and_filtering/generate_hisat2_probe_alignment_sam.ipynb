{
 "cells": [
  {
   "cell_type": "code",
   "execution_count": 1,
   "id": "576f6d93",
   "metadata": {},
   "outputs": [],
   "source": [
    "import subprocess\n",
    "import sys\n",
    "import os\n",
    "import stat\n",
    "import pandas as pd\n",
    "\n",
    "sys.path.append('../../')\n",
    "from utils import hardware_utils, file_utils"
   ]
  },
  {
   "cell_type": "markdown",
   "id": "3d8342a9",
   "metadata": {},
   "source": [
    "## Step 0: install necessary tools"
   ]
  },
  {
   "cell_type": "markdown",
   "id": "879425e5",
   "metadata": {},
   "source": [
    "Install [hisat 2.2.1](https://daehwankimlab.github.io/hisat2/download/) in addition to conda environment"
   ]
  },
  {
   "cell_type": "code",
   "execution_count": 2,
   "id": "cbe1e6f5",
   "metadata": {},
   "outputs": [
    {
     "name": "stdout",
     "output_type": "stream",
     "text": [
      "FILE SAVED: /Users/michaelbertagna/git/TGNE-2022/TGNE/microarray_probe_alignment_and_filtering/hisat2-2.2.1.zip\n"
     ]
    }
   ],
   "source": [
    "operating_system = hardware_utils.get_os()\n",
    "\n",
    "if operating_system == 'macOS':\n",
    "    file_utils.download_file_chunks('https://cloud.biohpc.swmed.edu/index.php/s/zMgEtnF6LjnjFrr/download', './hisat2-2.2.1.zip')\n",
    "elif operating_system == 'Linux':\n",
    "    file_utils.download_file_chunks('https://cloud.biohpc.swmed.edu/index.php/s/oTtGWbWjaxsQ2Ho/download', './hisat2-2.2.1.zip')\n",
    "else:\n",
    "    raise(ValueError(f'{operating_system} is not compatible with hisat2 2.2.1. Compatible operating systems are macOS and Linux.'))"
   ]
  },
  {
   "cell_type": "code",
   "execution_count": 3,
   "id": "5956c34f",
   "metadata": {},
   "outputs": [],
   "source": [
    "file_utils.unzip_file('./hisat2-2.2.1.zip')"
   ]
  },
  {
   "cell_type": "markdown",
   "id": "b74b9128",
   "metadata": {},
   "source": [
    "## Step 1: make probe fasta"
   ]
  },
  {
   "cell_type": "markdown",
   "id": "60c05413",
   "metadata": {},
   "source": [
    "Load the probe dataset"
   ]
  },
  {
   "cell_type": "markdown",
   "id": "2ddd59e0-1556-491c-9279-73e5e5b38c93",
   "metadata": {},
   "source": [
    "The .ndf file describes the design of the Roche Nimblegen microarray chips that were used in this study. This file is renamed from the GPL6759.ndf file corresponding to the raw data repository GEO accession GSE11300, which can be downloaded from https://www.ncbi.nlm.nih.gov/geo/download/?acc=GSE11300&format=file"
   ]
  },
  {
   "cell_type": "code",
   "execution_count": 5,
   "id": "af5b6d29",
   "metadata": {},
   "outputs": [],
   "source": [
    "probe_df = pd.read_csv('../../new_raw_data/GSE11300/GPL6759.ndf.gz', compression='gzip', sep='\\t')"
   ]
  },
  {
   "cell_type": "markdown",
   "id": "57d3522b",
   "metadata": {},
   "source": [
    "Take a look"
   ]
  },
  {
   "cell_type": "code",
   "execution_count": 6,
   "id": "cb3fae3a",
   "metadata": {},
   "outputs": [
    {
     "data": {
      "text/html": [
       "<div>\n",
       "<style scoped>\n",
       "    .dataframe tbody tr th:only-of-type {\n",
       "        vertical-align: middle;\n",
       "    }\n",
       "\n",
       "    .dataframe tbody tr th {\n",
       "        vertical-align: top;\n",
       "    }\n",
       "\n",
       "    .dataframe thead th {\n",
       "        text-align: right;\n",
       "    }\n",
       "</style>\n",
       "<table border=\"1\" class=\"dataframe\">\n",
       "  <thead>\n",
       "    <tr style=\"text-align: right;\">\n",
       "      <th></th>\n",
       "      <th>PROBE_DESIGN_ID</th>\n",
       "      <th>CONTAINER</th>\n",
       "      <th>DESIGN_NOTE</th>\n",
       "      <th>SELECTION_CRITERIA</th>\n",
       "      <th>SEQ_ID</th>\n",
       "      <th>PROBE_SEQUENCE</th>\n",
       "      <th>MISMATCH</th>\n",
       "      <th>MATCH_INDEX</th>\n",
       "      <th>FEATURE_ID</th>\n",
       "      <th>ROW_NUM</th>\n",
       "      <th>COL_NUM</th>\n",
       "      <th>PROBE_CLASS</th>\n",
       "      <th>PROBE_ID</th>\n",
       "      <th>POSITION</th>\n",
       "      <th>DESIGN_ID</th>\n",
       "      <th>X</th>\n",
       "      <th>Y</th>\n",
       "    </tr>\n",
       "  </thead>\n",
       "  <tbody>\n",
       "    <tr>\n",
       "      <th>0</th>\n",
       "      <td>5314_0001_0001</td>\n",
       "      <td>BLOCK1</td>\n",
       "      <td>rank_selected</td>\n",
       "      <td>rank:09;score:376;uniq:03;count:37;freq:00;rul...</td>\n",
       "      <td>TETRA00S0021925</td>\n",
       "      <td>AGATATGTATGACTCTATACATAGAAATGTGAATGATATAGTTAGC...</td>\n",
       "      <td>0</td>\n",
       "      <td>64456195</td>\n",
       "      <td>64456195</td>\n",
       "      <td>1</td>\n",
       "      <td>1</td>\n",
       "      <td>experimental</td>\n",
       "      <td>TETRAP00318583</td>\n",
       "      <td>2262</td>\n",
       "      <td>5314</td>\n",
       "      <td>1</td>\n",
       "      <td>1</td>\n",
       "    </tr>\n",
       "    <tr>\n",
       "      <th>1</th>\n",
       "      <td>5314_0023_0001</td>\n",
       "      <td>BLOCK1</td>\n",
       "      <td>rank_selected</td>\n",
       "      <td>rank:09;score:402;uniq:26;count:37;freq:00;rul...</td>\n",
       "      <td>TETRA00S0012676</td>\n",
       "      <td>AAGGGCGCATTAGTGCCAAATGGGACACGTAGAAAGGTAGAGGGAT...</td>\n",
       "      <td>0</td>\n",
       "      <td>64330340</td>\n",
       "      <td>64330340</td>\n",
       "      <td>1</td>\n",
       "      <td>23</td>\n",
       "      <td>experimental</td>\n",
       "      <td>TETRAP00183246</td>\n",
       "      <td>3282</td>\n",
       "      <td>5314</td>\n",
       "      <td>23</td>\n",
       "      <td>1</td>\n",
       "    </tr>\n",
       "    <tr>\n",
       "      <th>2</th>\n",
       "      <td>5314_0025_0001</td>\n",
       "      <td>BLOCK1</td>\n",
       "      <td>rank_selected</td>\n",
       "      <td>rank:08;score:115;uniq:01;count:31;freq:00;rul...</td>\n",
       "      <td>TETRA00S0002513</td>\n",
       "      <td>TATCATATAAAAATGTGTCTTGTTTATAAGACATTAATTGCTTAAT...</td>\n",
       "      <td>0</td>\n",
       "      <td>64193974</td>\n",
       "      <td>64193974</td>\n",
       "      <td>1</td>\n",
       "      <td>25</td>\n",
       "      <td>experimental</td>\n",
       "      <td>TETRAP00036232</td>\n",
       "      <td>262</td>\n",
       "      <td>5314</td>\n",
       "      <td>25</td>\n",
       "      <td>1</td>\n",
       "    </tr>\n",
       "    <tr>\n",
       "      <th>3</th>\n",
       "      <td>5314_0027_0001</td>\n",
       "      <td>BLOCK1</td>\n",
       "      <td>rank_selected</td>\n",
       "      <td>rank:11;score:341;uniq:23;count:37;freq:00;rul...</td>\n",
       "      <td>TETRA00S0000062</td>\n",
       "      <td>AGATTTGATGTAATATAAGTTATCCGAAACATGGCAGTAGAATGCA...</td>\n",
       "      <td>0</td>\n",
       "      <td>64161203</td>\n",
       "      <td>64161203</td>\n",
       "      <td>1</td>\n",
       "      <td>27</td>\n",
       "      <td>experimental</td>\n",
       "      <td>TETRAP00000895</td>\n",
       "      <td>825</td>\n",
       "      <td>5314</td>\n",
       "      <td>27</td>\n",
       "      <td>1</td>\n",
       "    </tr>\n",
       "    <tr>\n",
       "      <th>4</th>\n",
       "      <td>5314_0029_0001</td>\n",
       "      <td>BLOCK1</td>\n",
       "      <td>rank_selected</td>\n",
       "      <td>rank:01;score:560;uniq:21;count:37;freq:00;rul...</td>\n",
       "      <td>TETRA00S0006635</td>\n",
       "      <td>TAAATAACTAAGAGCATAAGGCTGGTGCAAGTAACTCAATGCAACC...</td>\n",
       "      <td>0</td>\n",
       "      <td>64249458</td>\n",
       "      <td>64249458</td>\n",
       "      <td>1</td>\n",
       "      <td>29</td>\n",
       "      <td>experimental</td>\n",
       "      <td>TETRAP00096103</td>\n",
       "      <td>3290</td>\n",
       "      <td>5314</td>\n",
       "      <td>29</td>\n",
       "      <td>1</td>\n",
       "    </tr>\n",
       "  </tbody>\n",
       "</table>\n",
       "</div>"
      ],
      "text/plain": [
       "  PROBE_DESIGN_ID CONTAINER    DESIGN_NOTE  \\\n",
       "0  5314_0001_0001    BLOCK1  rank_selected   \n",
       "1  5314_0023_0001    BLOCK1  rank_selected   \n",
       "2  5314_0025_0001    BLOCK1  rank_selected   \n",
       "3  5314_0027_0001    BLOCK1  rank_selected   \n",
       "4  5314_0029_0001    BLOCK1  rank_selected   \n",
       "\n",
       "                                  SELECTION_CRITERIA           SEQ_ID  \\\n",
       "0  rank:09;score:376;uniq:03;count:37;freq:00;rul...  TETRA00S0021925   \n",
       "1  rank:09;score:402;uniq:26;count:37;freq:00;rul...  TETRA00S0012676   \n",
       "2  rank:08;score:115;uniq:01;count:31;freq:00;rul...  TETRA00S0002513   \n",
       "3  rank:11;score:341;uniq:23;count:37;freq:00;rul...  TETRA00S0000062   \n",
       "4  rank:01;score:560;uniq:21;count:37;freq:00;rul...  TETRA00S0006635   \n",
       "\n",
       "                                      PROBE_SEQUENCE  MISMATCH  MATCH_INDEX  \\\n",
       "0  AGATATGTATGACTCTATACATAGAAATGTGAATGATATAGTTAGC...         0     64456195   \n",
       "1  AAGGGCGCATTAGTGCCAAATGGGACACGTAGAAAGGTAGAGGGAT...         0     64330340   \n",
       "2  TATCATATAAAAATGTGTCTTGTTTATAAGACATTAATTGCTTAAT...         0     64193974   \n",
       "3  AGATTTGATGTAATATAAGTTATCCGAAACATGGCAGTAGAATGCA...         0     64161203   \n",
       "4  TAAATAACTAAGAGCATAAGGCTGGTGCAAGTAACTCAATGCAACC...         0     64249458   \n",
       "\n",
       "   FEATURE_ID  ROW_NUM  COL_NUM   PROBE_CLASS        PROBE_ID  POSITION  \\\n",
       "0    64456195        1        1  experimental  TETRAP00318583      2262   \n",
       "1    64330340        1       23  experimental  TETRAP00183246      3282   \n",
       "2    64193974        1       25  experimental  TETRAP00036232       262   \n",
       "3    64161203        1       27  experimental  TETRAP00000895       825   \n",
       "4    64249458        1       29  experimental  TETRAP00096103      3290   \n",
       "\n",
       "   DESIGN_ID   X  Y  \n",
       "0       5314   1  1  \n",
       "1       5314  23  1  \n",
       "2       5314  25  1  \n",
       "3       5314  27  1  \n",
       "4       5314  29  1  "
      ]
     },
     "execution_count": 6,
     "metadata": {},
     "output_type": "execute_result"
    }
   ],
   "source": [
    "probe_df.head()"
   ]
  },
  {
   "cell_type": "markdown",
   "id": "ff0bbab7-1624-4577-a634-8f8861b6b891",
   "metadata": {},
   "source": [
    "Note: the SEQ_ID is what the chip designers thought the genes were (later converted to TTHERM_ format); the PROBE_ID is unique for each PROBE_SEQUENCE. Consequently, for all of the quality control and filtering, we want to work with the PROBE_IDs, which we can then map to our current understanding of the genome by their sequence."
   ]
  },
  {
   "cell_type": "markdown",
   "id": "01ac8b64",
   "metadata": {},
   "source": [
    "The seq ids are not unique because multiple probes can target a single gene. Keep in mind that our understanding of what genes exist has dramatically changed since these microarrays were designed."
   ]
  },
  {
   "cell_type": "code",
   "execution_count": 7,
   "id": "10e4d02e-7543-4bd3-bd43-fdeaa1632469",
   "metadata": {},
   "outputs": [
    {
     "data": {
      "text/plain": [
       "392778"
      ]
     },
     "execution_count": 7,
     "metadata": {},
     "output_type": "execute_result"
    }
   ],
   "source": [
    "len(probe_df)"
   ]
  },
  {
   "cell_type": "markdown",
   "id": "6c76afa7-85cc-4634-b932-72b6ce5f202c",
   "metadata": {},
   "source": [
    "This length is indicative of a 1:2 design for the chip. See http://mtweb.cs.ucl.ac.uk/mus/mus/binnaz/CNV/NimbleGene/DATA/OID8421-2/Documentation/NimbleGen_data_formats.pdf for more info"
   ]
  },
  {
   "cell_type": "code",
   "execution_count": 15,
   "id": "fe499279-e0e7-47b7-9257-8724fca606ce",
   "metadata": {},
   "outputs": [
    {
     "data": {
      "text/plain": [
       "array(['experimental', nan, 'control:reseq_qc:synthesis', 'fiducial',\n",
       "       'linker', 'synthesis', 'control:sample_tracking:A',\n",
       "       'control:empty', 'encoded number', 'control:reseq_qc:label',\n",
       "       'uniformity', 'control', 'control:sample_tracking:B'], dtype=object)"
      ]
     },
     "execution_count": 15,
     "metadata": {},
     "output_type": "execute_result"
    }
   ],
   "source": [
    "probe_df['PROBE_CLASS'].unique()"
   ]
  },
  {
   "cell_type": "code",
   "execution_count": 16,
   "id": "dbd8f1c4",
   "metadata": {},
   "outputs": [
    {
     "data": {
      "text/plain": [
       "array(['fiducial', 'linker', 'synthesis', 'control:empty',\n",
       "       'encoded number', 'uniformity', 'control',\n",
       "       'control:sample_tracking:B'], dtype=object)"
      ]
     },
     "execution_count": 16,
     "metadata": {},
     "output_type": "execute_result"
    }
   ],
   "source": [
    "probe_df[probe_df.duplicated(subset=['PROBE_ID'])]['PROBE_CLASS'].unique()"
   ]
  },
  {
   "cell_type": "markdown",
   "id": "a9b9a991",
   "metadata": {},
   "source": [
    "These are all controls of various sorts, etc. and I can exclude them."
   ]
  },
  {
   "cell_type": "code",
   "execution_count": 17,
   "id": "dbbdecd7-499f-43d1-a76d-0e8ca2b306e7",
   "metadata": {},
   "outputs": [],
   "source": [
    "experimental_probe_df = probe_df.loc[probe_df['PROBE_CLASS']=='experimental']"
   ]
  },
  {
   "cell_type": "code",
   "execution_count": 18,
   "id": "d3d89e87-5364-47fb-a87e-7f248ac8f8f3",
   "metadata": {},
   "outputs": [
    {
     "data": {
      "text/html": [
       "<div>\n",
       "<style scoped>\n",
       "    .dataframe tbody tr th:only-of-type {\n",
       "        vertical-align: middle;\n",
       "    }\n",
       "\n",
       "    .dataframe tbody tr th {\n",
       "        vertical-align: top;\n",
       "    }\n",
       "\n",
       "    .dataframe thead th {\n",
       "        text-align: right;\n",
       "    }\n",
       "</style>\n",
       "<table border=\"1\" class=\"dataframe\">\n",
       "  <thead>\n",
       "    <tr style=\"text-align: right;\">\n",
       "      <th></th>\n",
       "      <th>PROBE_DESIGN_ID</th>\n",
       "      <th>CONTAINER</th>\n",
       "      <th>DESIGN_NOTE</th>\n",
       "      <th>SELECTION_CRITERIA</th>\n",
       "      <th>SEQ_ID</th>\n",
       "      <th>PROBE_SEQUENCE</th>\n",
       "      <th>MISMATCH</th>\n",
       "      <th>MATCH_INDEX</th>\n",
       "      <th>FEATURE_ID</th>\n",
       "      <th>ROW_NUM</th>\n",
       "      <th>COL_NUM</th>\n",
       "      <th>PROBE_CLASS</th>\n",
       "      <th>PROBE_ID</th>\n",
       "      <th>POSITION</th>\n",
       "      <th>DESIGN_ID</th>\n",
       "      <th>X</th>\n",
       "      <th>Y</th>\n",
       "    </tr>\n",
       "  </thead>\n",
       "  <tbody>\n",
       "    <tr>\n",
       "      <th>0</th>\n",
       "      <td>5314_0001_0001</td>\n",
       "      <td>BLOCK1</td>\n",
       "      <td>rank_selected</td>\n",
       "      <td>rank:09;score:376;uniq:03;count:37;freq:00;rul...</td>\n",
       "      <td>TETRA00S0021925</td>\n",
       "      <td>AGATATGTATGACTCTATACATAGAAATGTGAATGATATAGTTAGC...</td>\n",
       "      <td>0</td>\n",
       "      <td>64456195</td>\n",
       "      <td>64456195</td>\n",
       "      <td>1</td>\n",
       "      <td>1</td>\n",
       "      <td>experimental</td>\n",
       "      <td>TETRAP00318583</td>\n",
       "      <td>2262</td>\n",
       "      <td>5314</td>\n",
       "      <td>1</td>\n",
       "      <td>1</td>\n",
       "    </tr>\n",
       "    <tr>\n",
       "      <th>1</th>\n",
       "      <td>5314_0023_0001</td>\n",
       "      <td>BLOCK1</td>\n",
       "      <td>rank_selected</td>\n",
       "      <td>rank:09;score:402;uniq:26;count:37;freq:00;rul...</td>\n",
       "      <td>TETRA00S0012676</td>\n",
       "      <td>AAGGGCGCATTAGTGCCAAATGGGACACGTAGAAAGGTAGAGGGAT...</td>\n",
       "      <td>0</td>\n",
       "      <td>64330340</td>\n",
       "      <td>64330340</td>\n",
       "      <td>1</td>\n",
       "      <td>23</td>\n",
       "      <td>experimental</td>\n",
       "      <td>TETRAP00183246</td>\n",
       "      <td>3282</td>\n",
       "      <td>5314</td>\n",
       "      <td>23</td>\n",
       "      <td>1</td>\n",
       "    </tr>\n",
       "    <tr>\n",
       "      <th>2</th>\n",
       "      <td>5314_0025_0001</td>\n",
       "      <td>BLOCK1</td>\n",
       "      <td>rank_selected</td>\n",
       "      <td>rank:08;score:115;uniq:01;count:31;freq:00;rul...</td>\n",
       "      <td>TETRA00S0002513</td>\n",
       "      <td>TATCATATAAAAATGTGTCTTGTTTATAAGACATTAATTGCTTAAT...</td>\n",
       "      <td>0</td>\n",
       "      <td>64193974</td>\n",
       "      <td>64193974</td>\n",
       "      <td>1</td>\n",
       "      <td>25</td>\n",
       "      <td>experimental</td>\n",
       "      <td>TETRAP00036232</td>\n",
       "      <td>262</td>\n",
       "      <td>5314</td>\n",
       "      <td>25</td>\n",
       "      <td>1</td>\n",
       "    </tr>\n",
       "    <tr>\n",
       "      <th>3</th>\n",
       "      <td>5314_0027_0001</td>\n",
       "      <td>BLOCK1</td>\n",
       "      <td>rank_selected</td>\n",
       "      <td>rank:11;score:341;uniq:23;count:37;freq:00;rul...</td>\n",
       "      <td>TETRA00S0000062</td>\n",
       "      <td>AGATTTGATGTAATATAAGTTATCCGAAACATGGCAGTAGAATGCA...</td>\n",
       "      <td>0</td>\n",
       "      <td>64161203</td>\n",
       "      <td>64161203</td>\n",
       "      <td>1</td>\n",
       "      <td>27</td>\n",
       "      <td>experimental</td>\n",
       "      <td>TETRAP00000895</td>\n",
       "      <td>825</td>\n",
       "      <td>5314</td>\n",
       "      <td>27</td>\n",
       "      <td>1</td>\n",
       "    </tr>\n",
       "    <tr>\n",
       "      <th>4</th>\n",
       "      <td>5314_0029_0001</td>\n",
       "      <td>BLOCK1</td>\n",
       "      <td>rank_selected</td>\n",
       "      <td>rank:01;score:560;uniq:21;count:37;freq:00;rul...</td>\n",
       "      <td>TETRA00S0006635</td>\n",
       "      <td>TAAATAACTAAGAGCATAAGGCTGGTGCAAGTAACTCAATGCAACC...</td>\n",
       "      <td>0</td>\n",
       "      <td>64249458</td>\n",
       "      <td>64249458</td>\n",
       "      <td>1</td>\n",
       "      <td>29</td>\n",
       "      <td>experimental</td>\n",
       "      <td>TETRAP00096103</td>\n",
       "      <td>3290</td>\n",
       "      <td>5314</td>\n",
       "      <td>29</td>\n",
       "      <td>1</td>\n",
       "    </tr>\n",
       "  </tbody>\n",
       "</table>\n",
       "</div>"
      ],
      "text/plain": [
       "  PROBE_DESIGN_ID CONTAINER    DESIGN_NOTE  \\\n",
       "0  5314_0001_0001    BLOCK1  rank_selected   \n",
       "1  5314_0023_0001    BLOCK1  rank_selected   \n",
       "2  5314_0025_0001    BLOCK1  rank_selected   \n",
       "3  5314_0027_0001    BLOCK1  rank_selected   \n",
       "4  5314_0029_0001    BLOCK1  rank_selected   \n",
       "\n",
       "                                  SELECTION_CRITERIA           SEQ_ID  \\\n",
       "0  rank:09;score:376;uniq:03;count:37;freq:00;rul...  TETRA00S0021925   \n",
       "1  rank:09;score:402;uniq:26;count:37;freq:00;rul...  TETRA00S0012676   \n",
       "2  rank:08;score:115;uniq:01;count:31;freq:00;rul...  TETRA00S0002513   \n",
       "3  rank:11;score:341;uniq:23;count:37;freq:00;rul...  TETRA00S0000062   \n",
       "4  rank:01;score:560;uniq:21;count:37;freq:00;rul...  TETRA00S0006635   \n",
       "\n",
       "                                      PROBE_SEQUENCE  MISMATCH  MATCH_INDEX  \\\n",
       "0  AGATATGTATGACTCTATACATAGAAATGTGAATGATATAGTTAGC...         0     64456195   \n",
       "1  AAGGGCGCATTAGTGCCAAATGGGACACGTAGAAAGGTAGAGGGAT...         0     64330340   \n",
       "2  TATCATATAAAAATGTGTCTTGTTTATAAGACATTAATTGCTTAAT...         0     64193974   \n",
       "3  AGATTTGATGTAATATAAGTTATCCGAAACATGGCAGTAGAATGCA...         0     64161203   \n",
       "4  TAAATAACTAAGAGCATAAGGCTGGTGCAAGTAACTCAATGCAACC...         0     64249458   \n",
       "\n",
       "   FEATURE_ID  ROW_NUM  COL_NUM   PROBE_CLASS        PROBE_ID  POSITION  \\\n",
       "0    64456195        1        1  experimental  TETRAP00318583      2262   \n",
       "1    64330340        1       23  experimental  TETRAP00183246      3282   \n",
       "2    64193974        1       25  experimental  TETRAP00036232       262   \n",
       "3    64161203        1       27  experimental  TETRAP00000895       825   \n",
       "4    64249458        1       29  experimental  TETRAP00096103      3290   \n",
       "\n",
       "   DESIGN_ID   X  Y  \n",
       "0       5314   1  1  \n",
       "1       5314  23  1  \n",
       "2       5314  25  1  \n",
       "3       5314  27  1  \n",
       "4       5314  29  1  "
      ]
     },
     "execution_count": 18,
     "metadata": {},
     "output_type": "execute_result"
    }
   ],
   "source": [
    "experimental_probe_df.head()"
   ]
  },
  {
   "cell_type": "code",
   "execution_count": 19,
   "id": "ee39c5fa-e3b6-4b33-8239-b1a31c4b8517",
   "metadata": {},
   "outputs": [
    {
     "data": {
      "text/plain": [
       "392778"
      ]
     },
     "execution_count": 19,
     "metadata": {},
     "output_type": "execute_result"
    }
   ],
   "source": [
    "len(probe_df)"
   ]
  },
  {
   "cell_type": "code",
   "execution_count": 20,
   "id": "4ca80abb-ac9c-493b-bf96-8ffccf38ac90",
   "metadata": {},
   "outputs": [
    {
     "data": {
      "text/plain": [
       "384999"
      ]
     },
     "execution_count": 20,
     "metadata": {},
     "output_type": "execute_result"
    }
   ],
   "source": [
    "len(experimental_probe_df)"
   ]
  },
  {
   "cell_type": "code",
   "execution_count": 21,
   "id": "8fa79da9-97f6-4b13-89cb-0c0622141b66",
   "metadata": {},
   "outputs": [
    {
     "data": {
      "text/plain": [
       "array([0])"
      ]
     },
     "execution_count": 21,
     "metadata": {},
     "output_type": "execute_result"
    }
   ],
   "source": [
    "experimental_probe_df['MISMATCH'].unique()"
   ]
  },
  {
   "cell_type": "markdown",
   "id": "b0d2af61",
   "metadata": {},
   "source": [
    "Extract the probe ids and sequences to build a fasta file"
   ]
  },
  {
   "cell_type": "code",
   "execution_count": 22,
   "id": "fc2e81da",
   "metadata": {},
   "outputs": [],
   "source": [
    "probe_ids = experimental_probe_df['PROBE_ID'].values\n",
    "probe_seqs = experimental_probe_df['PROBE_SEQUENCE'].values"
   ]
  },
  {
   "cell_type": "markdown",
   "id": "d363d975",
   "metadata": {},
   "source": [
    "Build the fasta file"
   ]
  },
  {
   "cell_type": "code",
   "execution_count": 23,
   "id": "4f727ba9",
   "metadata": {},
   "outputs": [],
   "source": [
    "with open('./2007-02-28_microarray_experimental_probes.fna', 'w') as f:\n",
    "    for i, p in zip(probe_ids, probe_seqs):\n",
    "        f.write(f\">{i}\\n\")\n",
    "        f.write(f\"{p}\\n\\n\")"
   ]
  },
  {
   "cell_type": "markdown",
   "id": "cbc605b5",
   "metadata": {},
   "source": [
    "## Step 2: use hisat 2 to align probes to newest genome"
   ]
  },
  {
   "cell_type": "markdown",
   "id": "f9aaa7ec",
   "metadata": {},
   "source": [
    "Bash command to index the 2021 _T. thermophila_ genome CDS fasta"
   ]
  },
  {
   "cell_type": "code",
   "execution_count": 24,
   "id": "c3fc7d91",
   "metadata": {},
   "outputs": [],
   "source": [
    "hisat2_build_path = './hisat2-2.2.1/hisat2-2.2.1/hisat2-build'\n",
    "\n",
    "os.chmod(hisat2_build_path, os.stat(hisat2_build_path).st_mode | stat.S_IEXEC)\n",
    "\n",
    "hisat2_build_s_path = './hisat2-2.2.1/hisat2-2.2.1/hisat2-build-s'\n",
    "\n",
    "os.chmod(hisat2_build_s_path, os.stat(hisat2_build_s_path).st_mode | stat.S_IEXEC)\n",
    "\n",
    "hisat2_build_l_path = './hisat2-2.2.1/hisat2-2.2.1/hisat2-build-l'\n",
    "\n",
    "os.chmod(hisat2_build_l_path, os.stat(hisat2_build_l_path).st_mode | stat.S_IEXEC)"
   ]
  },
  {
   "cell_type": "code",
   "execution_count": 25,
   "id": "d719e362",
   "metadata": {},
   "outputs": [],
   "source": [
    "index_genome_command = f\"{hisat2_build_path} -f ../../active_files/cds.fasta ttherm_2021\""
   ]
  },
  {
   "cell_type": "code",
   "execution_count": 26,
   "id": "da7ff8fe",
   "metadata": {},
   "outputs": [
    {
     "data": {
      "text/plain": [
       "['./hisat2-2.2.1/hisat2-2.2.1/hisat2-build',\n",
       " '-f',\n",
       " '../../active_files/cds.fasta',\n",
       " 'ttherm_2021']"
      ]
     },
     "execution_count": 26,
     "metadata": {},
     "output_type": "execute_result"
    }
   ],
   "source": [
    "index_genome_command.split()"
   ]
  },
  {
   "cell_type": "code",
   "execution_count": 28,
   "id": "16412129",
   "metadata": {},
   "outputs": [],
   "source": [
    "r = subprocess.run(args=index_genome_command.split(), capture_output=True)"
   ]
  },
  {
   "cell_type": "code",
   "execution_count": 29,
   "id": "241d7225",
   "metadata": {},
   "outputs": [
    {
     "name": "stdout",
     "output_type": "stream",
     "text": [
      "Building DifferenceCoverSample\n",
      "  Building sPrime\n",
      "  Building sPrimeOrder\n",
      "  V-Sorting samples\n",
      "  V-Sorting samples time: 00:00:01\n",
      "  Allocating rank array\n",
      "  Ranking v-sort output\n",
      "  Ranking v-sort output time: 00:00:00\n",
      "  Invoking Larsson-Sadakane on ranks\n",
      "  Invoking Larsson-Sadakane on ranks time: 00:00:00\n",
      "  Sanity-checking and returning\n",
      "Building samples\n",
      "Reserving space for 12 sample suffixes\n",
      "Generating random suffixes\n",
      "QSorting 12 sample offsets, eliminating duplicates\n",
      "QSorting sample offsets, eliminating duplicates time: 00:00:00\n",
      "Multikey QSorting 12 samples\n",
      "  (Using difference cover)\n",
      "  Multikey QSorting samples time: 00:00:00\n",
      "Calculating bucket sizes\n",
      "Splitting and merging\n",
      "  Splitting and merging time: 00:00:00\n",
      "Avg bucket size: 6.73142e+06 (target: 10097132)\n",
      "Getting block 1 of 8\n",
      "  Reserving size (10097133) for bucket 1\n",
      "  Calculating Z arrays for bucket 1\n",
      "  Entering block accumulator loop for bucket 1:\n",
      "  bucket 1: 10%\n",
      "  bucket 1: 20%\n",
      "  bucket 1: 30%\n",
      "  bucket 1: 40%\n",
      "  bucket 1: 50%\n",
      "  bucket 1: 60%\n",
      "  bucket 1: 70%\n",
      "  bucket 1: 80%\n",
      "  bucket 1: 90%\n",
      "  bucket 1: 100%\n",
      "  Sorting block of length 6643744 for bucket 1\n",
      "  (Using difference cover)\n",
      "  Sorting block time: 00:00:01\n",
      "Returning block of 6643745 for bucket 1\n",
      "Getting block 2 of 8\n",
      "  Reserving size (10097133) for bucket 2\n",
      "  Calculating Z arrays for bucket 2\n",
      "  Entering block accumulator loop for bucket 2:\n",
      "  bucket 2: 10%\n",
      "  bucket 2: 20%\n",
      "  bucket 2: 30%\n",
      "  bucket 2: 40%\n",
      "  bucket 2: 50%\n",
      "  bucket 2: 60%\n",
      "  bucket 2: 70%\n",
      "  bucket 2: 80%\n",
      "  bucket 2: 90%\n",
      "  bucket 2: 100%\n",
      "  Sorting block of length 5222012 for bucket 2\n",
      "  (Using difference cover)\n",
      "  Sorting block time: 00:00:00\n",
      "Returning block of 5222013 for bucket 2\n",
      "Getting block 3 of 8\n",
      "  Reserving size (10097133) for bucket 3\n",
      "  Calculating Z arrays for bucket 3\n",
      "  Entering block accumulator loop for bucket 3:\n",
      "  bucket 3: 10%\n",
      "  bucket 3: 20%\n",
      "  bucket 3: 30%\n",
      "  bucket 3: 40%\n",
      "  bucket 3: 50%\n",
      "  bucket 3: 60%\n",
      "  bucket 3: 70%\n",
      "  bucket 3: 80%\n",
      "  bucket 3: 90%\n",
      "  bucket 3: 100%\n",
      "  Sorting block of length 8302464 for bucket 3\n",
      "  (Using difference cover)\n",
      "  Sorting block time: 00:00:01\n",
      "Returning block of 8302465 for bucket 3\n",
      "Getting block 4 of 8\n",
      "  Reserving size (10097133) for bucket 4\n",
      "  Calculating Z arrays for bucket 4\n",
      "  Entering block accumulator loop for bucket 4:\n",
      "  bucket 4: 10%\n",
      "  bucket 4: 20%\n",
      "  bucket 4: 30%\n",
      "  bucket 4: 40%\n",
      "  bucket 4: 50%\n",
      "  bucket 4: 60%\n",
      "  bucket 4: 70%\n",
      "  bucket 4: 80%\n",
      "  bucket 4: 90%\n",
      "  bucket 4: 100%\n",
      "  Sorting block of length 3811894 for bucket 4\n",
      "  (Using difference cover)\n",
      "  Sorting block time: 00:00:01\n",
      "Returning block of 3811895 for bucket 4\n",
      "Getting block 5 of 8\n",
      "  Reserving size (10097133) for bucket 5\n",
      "  Calculating Z arrays for bucket 5\n",
      "  Entering block accumulator loop for bucket 5:\n",
      "  bucket 5: 10%\n",
      "  bucket 5: 20%\n",
      "  bucket 5: 30%\n",
      "  bucket 5: 40%\n",
      "  bucket 5: 50%\n",
      "  bucket 5: 60%\n",
      "  bucket 5: 70%\n",
      "  bucket 5: 80%\n",
      "  bucket 5: 90%\n",
      "  bucket 5: 100%\n",
      "  Sorting block of length 8676587 for bucket 5\n",
      "  (Using difference cover)\n",
      "  Sorting block time: 00:00:01\n",
      "Returning block of 8676588 for bucket 5\n",
      "Getting block 6 of 8\n",
      "  Reserving size (10097133) for bucket 6\n",
      "  Calculating Z arrays for bucket 6\n",
      "  Entering block accumulator loop for bucket 6:\n",
      "  bucket 6: 10%\n",
      "  bucket 6: 20%\n",
      "  bucket 6: 30%\n",
      "  bucket 6: 40%\n",
      "  bucket 6: 50%\n",
      "  bucket 6: 60%\n",
      "  bucket 6: 70%\n",
      "  bucket 6: 80%\n",
      "  bucket 6: 90%\n",
      "  bucket 6: 100%\n",
      "  Sorting block of length 9345042 for bucket 6\n",
      "  (Using difference cover)\n",
      "  Sorting block time: 00:00:01\n",
      "Returning block of 9345043 for bucket 6\n",
      "Getting block 7 of 8\n",
      "  Reserving size (10097133) for bucket 7\n",
      "  Calculating Z arrays for bucket 7\n",
      "  Entering block accumulator loop for bucket 7:\n",
      "  bucket 7: 10%\n",
      "  bucket 7: 20%\n",
      "  bucket 7: 30%\n",
      "  bucket 7: 40%\n",
      "  bucket 7: 50%\n",
      "  bucket 7: 60%\n",
      "  bucket 7: 70%\n",
      "  bucket 7: 80%\n",
      "  bucket 7: 90%\n",
      "  bucket 7: 100%\n",
      "  Sorting block of length 10054791 for bucket 7\n",
      "  (Using difference cover)\n",
      "  Sorting block time: 00:00:02\n",
      "Returning block of 10054792 for bucket 7\n",
      "Getting block 8 of 8\n",
      "  Reserving size (10097133) for bucket 8\n",
      "  Calculating Z arrays for bucket 8\n",
      "  Entering block accumulator loop for bucket 8:\n",
      "  bucket 8: 10%\n",
      "  bucket 8: 20%\n",
      "  bucket 8: 30%\n",
      "  bucket 8: 40%\n",
      "  bucket 8: 50%\n",
      "  bucket 8: 60%\n",
      "  bucket 8: 70%\n",
      "  bucket 8: 80%\n",
      "  bucket 8: 90%\n",
      "  bucket 8: 100%\n",
      "  Sorting block of length 1794831 for bucket 8\n",
      "  (Using difference cover)\n",
      "  Sorting block time: 00:00:00\n",
      "Returning block of 1794832 for bucket 8\n",
      "\n"
     ]
    }
   ],
   "source": [
    "print(r.stdout.decode('utf-8'))"
   ]
  },
  {
   "cell_type": "code",
   "execution_count": 30,
   "id": "c2601c8b",
   "metadata": {},
   "outputs": [
    {
     "name": "stdout",
     "output_type": "stream",
     "text": [
      "Settings:\n",
      "  Output files: \"ttherm_2021.*.ht2\"\n",
      "  Line rate: 6 (line is 64 bytes)\n",
      "  Lines per side: 1 (side is 64 bytes)\n",
      "  Offset rate: 4 (one in 16)\n",
      "  FTable chars: 10\n",
      "  Strings: unpacked\n",
      "  Local offset rate: 3 (one in 8)\n",
      "  Local fTable chars: 6\n",
      "  Local sequence length: 57344\n",
      "  Local sequence overlap between two consecutive indexes: 1024\n",
      "  Endianness: little\n",
      "  Actual local endianness: little\n",
      "  Sanity checking: disabled\n",
      "  Assertions: disabled\n",
      "  Random seed: 0\n",
      "  Sizeofs: void*:8, int:4, long:8, size_t:8\n",
      "Input files DNA, FASTA:\n",
      "  ../../active_files/cds.fasta\n",
      "Reading reference sizes\n",
      "  Time reading reference sizes: 00:00:00\n",
      "Calculating joined length\n",
      "Writing header\n",
      "Reserving space for joined string\n",
      "Joining reference sequences\n",
      "  Time to join reference sequences: 00:00:00\n",
      "  Time to read SNPs and splice sites: 00:00:00\n",
      "Using parameters --bmax 10097133 --dcv 1024\n",
      "  Doing ahead-of-time memory usage test\n",
      "  Passed!  Constructing with these parameters: --bmax 10097133 --dcv 1024\n",
      "Constructing suffix-array element generator\n",
      "Converting suffix-array elements to index image\n",
      "Allocating ftab, absorbFtab\n",
      "Entering GFM loop\n",
      "Exited GFM loop\n",
      "fchr[A]: 0\n",
      "fchr[C]: 21542251\n",
      "fchr[G]: 28378636\n",
      "fchr[T]: 36216290\n",
      "fchr[$]: 53851372\n",
      "Exiting GFM::buildToDisk()\n",
      "Returning from initFromVector\n",
      "Wrote 22998885 bytes to primary GFM file: ttherm_2021.1.ht2\n",
      "Wrote 13462848 bytes to secondary GFM file: ttherm_2021.2.ht2\n",
      "Re-opening _in1 and _in2 as input streams\n",
      "Returning from GFM constructor\n",
      "Returning from initFromVector\n",
      "Wrote 236785421 bytes to primary GFM file: ttherm_2021.5.ht2\n",
      "Wrote 13492838 bytes to secondary GFM file: ttherm_2021.6.ht2\n",
      "Re-opening _in5 and _in5 as input streams\n",
      "Returning from HGFM constructor\n",
      "Headers:\n",
      "    len: 53851372\n",
      "    gbwtLen: 53851373\n",
      "    nodes: 53851373\n",
      "    sz: 13462843\n",
      "    gbwtSz: 13462844\n",
      "    lineRate: 6\n",
      "    offRate: 4\n",
      "    offMask: 0xfffffff0\n",
      "    ftabChars: 10\n",
      "    eftabLen: 0\n",
      "    eftabSz: 0\n",
      "    ftabLen: 1048577\n",
      "    ftabSz: 4194308\n",
      "    offsLen: 3365711\n",
      "    offsSz: 13462844\n",
      "    lineSz: 64\n",
      "    sideSz: 64\n",
      "    sideGbwtSz: 48\n",
      "    sideGbwtLen: 192\n",
      "    numSides: 280476\n",
      "    numLines: 280476\n",
      "    gbwtTotLen: 17950464\n",
      "    gbwtTotSz: 17950464\n",
      "    reverse: 0\n",
      "    linearFM: Yes\n",
      "Total time for call to driver() for forward index: 00:00:26\n",
      "\n"
     ]
    }
   ],
   "source": [
    "print(r.stderr.decode('utf-8'))"
   ]
  },
  {
   "cell_type": "markdown",
   "id": "c251f167",
   "metadata": {},
   "source": [
    "Bash command to align the probe sequences to the CDS regions"
   ]
  },
  {
   "cell_type": "code",
   "execution_count": 31,
   "id": "889204da",
   "metadata": {},
   "outputs": [],
   "source": [
    "hisat2_path = './hisat2-2.2.1/hisat2-2.2.1/hisat2'\n",
    "os.chmod(hisat2_path, os.stat(hisat2_path).st_mode | stat.S_IEXEC)\n",
    "\n",
    "hisat2_path_s = './hisat2-2.2.1/hisat2-2.2.1/hisat2-align-s'\n",
    "\n",
    "os.chmod(hisat2_path_s, os.stat(hisat2_path_s).st_mode | stat.S_IEXEC)\n",
    "\n",
    "hisat2_path_l = './hisat2-2.2.1/hisat2-2.2.1/hisat2-align-l'\n",
    "\n",
    "os.chmod(hisat2_path_l, os.stat(hisat2_path_l).st_mode | stat.S_IEXEC)"
   ]
  },
  {
   "cell_type": "code",
   "execution_count": 32,
   "id": "42e28f4a",
   "metadata": {},
   "outputs": [],
   "source": [
    "align_to_genome_command = f\"\"\"\n",
    "{hisat2_path} -f -x ttherm_2021 --no-hd\n",
    "-U ./2007-02-28_microarray_experimental_probes.fna \n",
    "-S microarray_probe_alignment.sam\"\"\""
   ]
  },
  {
   "cell_type": "code",
   "execution_count": 33,
   "id": "77735b5c",
   "metadata": {},
   "outputs": [
    {
     "data": {
      "text/plain": [
       "['./hisat2-2.2.1/hisat2-2.2.1/hisat2',\n",
       " '-f',\n",
       " '-x',\n",
       " 'ttherm_2021',\n",
       " '--no-hd',\n",
       " '-U',\n",
       " './2007-02-28_microarray_experimental_probes.fna',\n",
       " '-S',\n",
       " 'microarray_probe_alignment.sam']"
      ]
     },
     "execution_count": 33,
     "metadata": {},
     "output_type": "execute_result"
    }
   ],
   "source": [
    "align_to_genome_command.split()"
   ]
  },
  {
   "cell_type": "code",
   "execution_count": 34,
   "id": "7aa12c42",
   "metadata": {},
   "outputs": [],
   "source": [
    "r2 = subprocess.run(args=align_to_genome_command.split(), capture_output=True)"
   ]
  },
  {
   "cell_type": "code",
   "execution_count": 35,
   "id": "1a9e8586",
   "metadata": {},
   "outputs": [
    {
     "name": "stdout",
     "output_type": "stream",
     "text": [
      "\n"
     ]
    }
   ],
   "source": [
    "print(r2.stdout.decode('utf-8'))"
   ]
  },
  {
   "cell_type": "code",
   "execution_count": 36,
   "id": "d9601307",
   "metadata": {},
   "outputs": [
    {
     "name": "stdout",
     "output_type": "stream",
     "text": [
      "384999 reads; of these:\n",
      "  384999 (100.00%) were unpaired; of these:\n",
      "    61733 (16.03%) aligned 0 times\n",
      "    313654 (81.47%) aligned exactly 1 time\n",
      "    9612 (2.50%) aligned >1 times\n",
      "83.97% overall alignment rate\n",
      "\n"
     ]
    }
   ],
   "source": [
    "print(r2.stderr.decode('utf-8'))"
   ]
  }
 ],
 "metadata": {
  "kernelspec": {
   "display_name": "Python 3 (ipykernel)",
   "language": "python",
   "name": "python3"
  },
  "language_info": {
   "codemirror_mode": {
    "name": "ipython",
    "version": 3
   },
   "file_extension": ".py",
   "mimetype": "text/x-python",
   "name": "python",
   "nbconvert_exporter": "python",
   "pygments_lexer": "ipython3",
   "version": "3.8.16"
  }
 },
 "nbformat": 4,
 "nbformat_minor": 5
}

{
 "cells": [
  {
   "cell_type": "code",
   "execution_count": 1,
   "metadata": {},
   "outputs": [
    {
     "name": "stdout",
     "output_type": "stream",
     "text": [
      "Original Matrix:\n",
      "[[0.243 3.    9.   ]\n",
      " [4.7   8.23  6.   ]\n",
      " [7.    8.    9.   ]]\n",
      "\n",
      "Opposite Matrix:\n",
      "[[9.    6.243 0.243]\n",
      " [4.543 1.013 3.243]\n",
      " [2.243 1.243 0.243]]\n"
     ]
    }
   ],
   "source": [
    "import numpy as np\n",
    "\n",
    "# Define a matrix\n",
    "matrix = np.array([[0.243, 3, 9],\n",
    "                   [4.7, 8.23, 6],\n",
    "                   [7, 8, 9]])\n",
    "\n",
    "# Find the minimum and maximum values in the matrix\n",
    "min_value = np.min(matrix)\n",
    "max_value = np.max(matrix)\n",
    "\n",
    "# Calculate the \"opposite\" values for each element\n",
    "opposite_matrix = (max_value + min_value) - matrix\n",
    "\n",
    "print(\"Original Matrix:\")\n",
    "print(matrix)\n",
    "\n",
    "print(\"\\nOpposite Matrix:\")\n",
    "print(opposite_matrix)"
   ]
  },
  {
   "cell_type": "code",
   "execution_count": 2,
   "metadata": {},
   "outputs": [
    {
     "data": {
      "text/plain": [
       "array([0.243, 3.   , 9.   , 4.7  , 8.23 , 6.   , 7.   , 8.   , 9.   ])"
      ]
     },
     "execution_count": 2,
     "metadata": {},
     "output_type": "execute_result"
    }
   ],
   "source": [
    "fmatrix = matrix.flatten()\n",
    "fmatrix"
   ]
  },
  {
   "cell_type": "code",
   "execution_count": 3,
   "metadata": {},
   "outputs": [
    {
     "data": {
      "text/plain": [
       "array([9.   , 8.   , 7.   , 6.   , 8.23 , 4.7  , 9.   , 3.   , 0.243])"
      ]
     },
     "execution_count": 3,
     "metadata": {},
     "output_type": "execute_result"
    }
   ],
   "source": [
    "rf_matrix = fmatrix[::-1]\n",
    "rf_matrix"
   ]
  },
  {
   "cell_type": "code",
   "execution_count": 4,
   "metadata": {},
   "outputs": [
    {
     "data": {
      "text/plain": [
       "array([[9.   , 8.   , 7.   ],\n",
       "       [6.   , 8.23 , 4.7  ],\n",
       "       [9.   , 3.   , 0.243]])"
      ]
     },
     "execution_count": 4,
     "metadata": {},
     "output_type": "execute_result"
    }
   ],
   "source": [
    "rf_matrix.reshape(matrix.shape)"
   ]
  },
  {
   "cell_type": "code",
   "execution_count": 5,
   "metadata": {},
   "outputs": [],
   "source": [
    "import pandas as pd"
   ]
  },
  {
   "cell_type": "code",
   "execution_count": 6,
   "metadata": {},
   "outputs": [],
   "source": [
    "clr_df = pd.read_csv('./clr_network_for_distances.csv')"
   ]
  },
  {
   "cell_type": "code",
   "execution_count": 7,
   "metadata": {},
   "outputs": [],
   "source": [
    "clr_df.rename(columns={'Unnamed: 0':'TTHERM_ID'}, inplace=True)"
   ]
  },
  {
   "cell_type": "code",
   "execution_count": 8,
   "metadata": {},
   "outputs": [
    {
     "data": {
      "text/plain": [
       "(20326, 20327)"
      ]
     },
     "execution_count": 8,
     "metadata": {},
     "output_type": "execute_result"
    }
   ],
   "source": [
    "clr_df.shape"
   ]
  },
  {
   "cell_type": "code",
   "execution_count": 9,
   "metadata": {},
   "outputs": [
    {
     "data": {
      "text/html": [
       "<div>\n",
       "<style scoped>\n",
       "    .dataframe tbody tr th:only-of-type {\n",
       "        vertical-align: middle;\n",
       "    }\n",
       "\n",
       "    .dataframe tbody tr th {\n",
       "        vertical-align: top;\n",
       "    }\n",
       "\n",
       "    .dataframe thead th {\n",
       "        text-align: right;\n",
       "    }\n",
       "</style>\n",
       "<table border=\"1\" class=\"dataframe\">\n",
       "  <thead>\n",
       "    <tr style=\"text-align: right;\">\n",
       "      <th></th>\n",
       "      <th>TTHERM_ID</th>\n",
       "      <th>TTHERM_000000042</th>\n",
       "      <th>TTHERM_000000045</th>\n",
       "      <th>TTHERM_00000010</th>\n",
       "      <th>TTHERM_00000020</th>\n",
       "      <th>TTHERM_00000030</th>\n",
       "      <th>TTHERM_00000040</th>\n",
       "      <th>TTHERM_00000070</th>\n",
       "      <th>TTHERM_000001189</th>\n",
       "      <th>TTHERM_000001241</th>\n",
       "      <th>...</th>\n",
       "      <th>TTHERM_02091560</th>\n",
       "      <th>TTHERM_02094560</th>\n",
       "      <th>TTHERM_02096560</th>\n",
       "      <th>TTHERM_02105572</th>\n",
       "      <th>TTHERM_02272860</th>\n",
       "      <th>TTHERM_02293890</th>\n",
       "      <th>TTHERM_02385080</th>\n",
       "      <th>TTHERM_02555200</th>\n",
       "      <th>TTHERM_02607240</th>\n",
       "      <th>TTHERM_02653470</th>\n",
       "    </tr>\n",
       "  </thead>\n",
       "  <tbody>\n",
       "    <tr>\n",
       "      <th>0</th>\n",
       "      <td>TTHERM_000000042</td>\n",
       "      <td>0.000000</td>\n",
       "      <td>0.000000</td>\n",
       "      <td>0.752140</td>\n",
       "      <td>2.351691</td>\n",
       "      <td>0.766892</td>\n",
       "      <td>0.000000</td>\n",
       "      <td>2.450125</td>\n",
       "      <td>2.047900</td>\n",
       "      <td>0.0</td>\n",
       "      <td>...</td>\n",
       "      <td>0.000000</td>\n",
       "      <td>0.0</td>\n",
       "      <td>0.000000</td>\n",
       "      <td>0.0</td>\n",
       "      <td>0.0</td>\n",
       "      <td>0.000000</td>\n",
       "      <td>0.000000</td>\n",
       "      <td>0.0</td>\n",
       "      <td>0.0</td>\n",
       "      <td>0.000000</td>\n",
       "    </tr>\n",
       "    <tr>\n",
       "      <th>1</th>\n",
       "      <td>TTHERM_000000045</td>\n",
       "      <td>0.000000</td>\n",
       "      <td>0.000000</td>\n",
       "      <td>2.419513</td>\n",
       "      <td>0.000000</td>\n",
       "      <td>0.000000</td>\n",
       "      <td>0.000000</td>\n",
       "      <td>0.000000</td>\n",
       "      <td>0.000000</td>\n",
       "      <td>0.0</td>\n",
       "      <td>...</td>\n",
       "      <td>0.000000</td>\n",
       "      <td>0.0</td>\n",
       "      <td>0.000000</td>\n",
       "      <td>0.0</td>\n",
       "      <td>0.0</td>\n",
       "      <td>1.955770</td>\n",
       "      <td>0.000000</td>\n",
       "      <td>0.0</td>\n",
       "      <td>0.0</td>\n",
       "      <td>0.706766</td>\n",
       "    </tr>\n",
       "    <tr>\n",
       "      <th>2</th>\n",
       "      <td>TTHERM_00000010</td>\n",
       "      <td>0.752140</td>\n",
       "      <td>2.419513</td>\n",
       "      <td>0.000000</td>\n",
       "      <td>4.752502</td>\n",
       "      <td>2.560668</td>\n",
       "      <td>0.000000</td>\n",
       "      <td>0.406447</td>\n",
       "      <td>1.138716</td>\n",
       "      <td>0.0</td>\n",
       "      <td>...</td>\n",
       "      <td>0.000000</td>\n",
       "      <td>0.0</td>\n",
       "      <td>0.225795</td>\n",
       "      <td>0.0</td>\n",
       "      <td>0.0</td>\n",
       "      <td>0.510083</td>\n",
       "      <td>0.245607</td>\n",
       "      <td>0.0</td>\n",
       "      <td>0.0</td>\n",
       "      <td>1.327470</td>\n",
       "    </tr>\n",
       "    <tr>\n",
       "      <th>3</th>\n",
       "      <td>TTHERM_00000020</td>\n",
       "      <td>2.351691</td>\n",
       "      <td>0.000000</td>\n",
       "      <td>4.752502</td>\n",
       "      <td>0.000000</td>\n",
       "      <td>5.771229</td>\n",
       "      <td>1.423059</td>\n",
       "      <td>0.072651</td>\n",
       "      <td>1.300164</td>\n",
       "      <td>0.0</td>\n",
       "      <td>...</td>\n",
       "      <td>0.801577</td>\n",
       "      <td>0.0</td>\n",
       "      <td>0.000000</td>\n",
       "      <td>0.0</td>\n",
       "      <td>0.0</td>\n",
       "      <td>0.000000</td>\n",
       "      <td>0.000000</td>\n",
       "      <td>0.0</td>\n",
       "      <td>0.0</td>\n",
       "      <td>0.000000</td>\n",
       "    </tr>\n",
       "    <tr>\n",
       "      <th>4</th>\n",
       "      <td>TTHERM_00000030</td>\n",
       "      <td>0.766892</td>\n",
       "      <td>0.000000</td>\n",
       "      <td>2.560668</td>\n",
       "      <td>5.771229</td>\n",
       "      <td>0.000000</td>\n",
       "      <td>2.146661</td>\n",
       "      <td>0.000000</td>\n",
       "      <td>1.689063</td>\n",
       "      <td>0.0</td>\n",
       "      <td>...</td>\n",
       "      <td>0.327724</td>\n",
       "      <td>0.0</td>\n",
       "      <td>0.000000</td>\n",
       "      <td>0.0</td>\n",
       "      <td>0.0</td>\n",
       "      <td>0.000000</td>\n",
       "      <td>0.000000</td>\n",
       "      <td>0.0</td>\n",
       "      <td>0.0</td>\n",
       "      <td>0.000000</td>\n",
       "    </tr>\n",
       "  </tbody>\n",
       "</table>\n",
       "<p>5 rows × 20327 columns</p>\n",
       "</div>"
      ],
      "text/plain": [
       "          TTHERM_ID  TTHERM_000000042  TTHERM_000000045  TTHERM_00000010  \\\n",
       "0  TTHERM_000000042          0.000000          0.000000         0.752140   \n",
       "1  TTHERM_000000045          0.000000          0.000000         2.419513   \n",
       "2   TTHERM_00000010          0.752140          2.419513         0.000000   \n",
       "3   TTHERM_00000020          2.351691          0.000000         4.752502   \n",
       "4   TTHERM_00000030          0.766892          0.000000         2.560668   \n",
       "\n",
       "   TTHERM_00000020  TTHERM_00000030  TTHERM_00000040  TTHERM_00000070  \\\n",
       "0         2.351691         0.766892         0.000000         2.450125   \n",
       "1         0.000000         0.000000         0.000000         0.000000   \n",
       "2         4.752502         2.560668         0.000000         0.406447   \n",
       "3         0.000000         5.771229         1.423059         0.072651   \n",
       "4         5.771229         0.000000         2.146661         0.000000   \n",
       "\n",
       "   TTHERM_000001189  TTHERM_000001241  ...  TTHERM_02091560  TTHERM_02094560  \\\n",
       "0          2.047900               0.0  ...         0.000000              0.0   \n",
       "1          0.000000               0.0  ...         0.000000              0.0   \n",
       "2          1.138716               0.0  ...         0.000000              0.0   \n",
       "3          1.300164               0.0  ...         0.801577              0.0   \n",
       "4          1.689063               0.0  ...         0.327724              0.0   \n",
       "\n",
       "   TTHERM_02096560  TTHERM_02105572  TTHERM_02272860  TTHERM_02293890  \\\n",
       "0         0.000000              0.0              0.0         0.000000   \n",
       "1         0.000000              0.0              0.0         1.955770   \n",
       "2         0.225795              0.0              0.0         0.510083   \n",
       "3         0.000000              0.0              0.0         0.000000   \n",
       "4         0.000000              0.0              0.0         0.000000   \n",
       "\n",
       "   TTHERM_02385080  TTHERM_02555200  TTHERM_02607240  TTHERM_02653470  \n",
       "0         0.000000              0.0              0.0         0.000000  \n",
       "1         0.000000              0.0              0.0         0.706766  \n",
       "2         0.245607              0.0              0.0         1.327470  \n",
       "3         0.000000              0.0              0.0         0.000000  \n",
       "4         0.000000              0.0              0.0         0.000000  \n",
       "\n",
       "[5 rows x 20327 columns]"
      ]
     },
     "execution_count": 9,
     "metadata": {},
     "output_type": "execute_result"
    }
   ],
   "source": [
    "clr_df.head()"
   ]
  },
  {
   "cell_type": "code",
   "execution_count": 10,
   "metadata": {},
   "outputs": [
    {
     "data": {
      "text/plain": [
       "52.9604085486791"
      ]
     },
     "execution_count": 10,
     "metadata": {},
     "output_type": "execute_result"
    }
   ],
   "source": [
    "max_zscore = clr_df.max(axis=None, numeric_only=True)\n",
    "max_zscore"
   ]
  },
  {
   "cell_type": "code",
   "execution_count": 11,
   "metadata": {},
   "outputs": [
    {
     "data": {
      "text/plain": [
       "0.0"
      ]
     },
     "execution_count": 11,
     "metadata": {},
     "output_type": "execute_result"
    }
   ],
   "source": [
    "min_zscore = clr_df.min(axis=None, numeric_only=True)\n",
    "min_zscore"
   ]
  },
  {
   "cell_type": "code",
   "execution_count": 12,
   "metadata": {},
   "outputs": [
    {
     "data": {
      "text/plain": [
       "array([[0.        , 0.        , 0.75213975, ..., 0.        , 0.        ,\n",
       "        0.        ],\n",
       "       [0.        , 0.        , 2.41951306, ..., 0.        , 0.        ,\n",
       "        0.70676605],\n",
       "       [0.75213975, 2.41951306, 0.        , ..., 0.        , 0.        ,\n",
       "        1.32747021],\n",
       "       ...,\n",
       "       [0.        , 0.        , 0.        , ..., 0.        , 2.73858538,\n",
       "        1.1887816 ],\n",
       "       [0.        , 0.        , 0.        , ..., 2.73858538, 0.        ,\n",
       "        0.        ],\n",
       "       [0.        , 0.70676605, 1.32747021, ..., 1.1887816 , 0.        ,\n",
       "        0.        ]])"
      ]
     },
     "execution_count": 12,
     "metadata": {},
     "output_type": "execute_result"
    }
   ],
   "source": [
    "zscore_arr = clr_df.loc[:,clr_df.columns[1:]].to_numpy()\n",
    "zscore_arr"
   ]
  },
  {
   "cell_type": "code",
   "execution_count": 13,
   "metadata": {},
   "outputs": [],
   "source": [
    "inverted_zscore_arr = (max_zscore + min_zscore) - zscore_arr"
   ]
  },
  {
   "cell_type": "code",
   "execution_count": 14,
   "metadata": {},
   "outputs": [
    {
     "data": {
      "text/plain": [
       "array([[52.96040855, 52.96040855, 52.2082688 , ..., 52.96040855,\n",
       "        52.96040855, 52.96040855],\n",
       "       [52.96040855, 52.96040855, 50.54089548, ..., 52.96040855,\n",
       "        52.96040855, 52.2536425 ],\n",
       "       [52.2082688 , 50.54089548, 52.96040855, ..., 52.96040855,\n",
       "        52.96040855, 51.63293833],\n",
       "       ...,\n",
       "       [52.96040855, 52.96040855, 52.96040855, ..., 52.96040855,\n",
       "        50.22182317, 51.77162695],\n",
       "       [52.96040855, 52.96040855, 52.96040855, ..., 50.22182317,\n",
       "        52.96040855, 52.96040855],\n",
       "       [52.96040855, 52.2536425 , 51.63293833, ..., 51.77162695,\n",
       "        52.96040855, 52.96040855]])"
      ]
     },
     "execution_count": 14,
     "metadata": {},
     "output_type": "execute_result"
    }
   ],
   "source": [
    "inverted_zscore_arr"
   ]
  },
  {
   "cell_type": "code",
   "execution_count": 15,
   "metadata": {},
   "outputs": [
    {
     "data": {
      "text/plain": [
       "(20326, 20326)"
      ]
     },
     "execution_count": 15,
     "metadata": {},
     "output_type": "execute_result"
    }
   ],
   "source": [
    "inverted_zscore_arr.shape"
   ]
  },
  {
   "cell_type": "code",
   "execution_count": 16,
   "metadata": {},
   "outputs": [
    {
     "data": {
      "text/plain": [
       "0.0"
      ]
     },
     "execution_count": 16,
     "metadata": {},
     "output_type": "execute_result"
    }
   ],
   "source": [
    "np.min(inverted_zscore_arr)"
   ]
  },
  {
   "cell_type": "code",
   "execution_count": 17,
   "metadata": {},
   "outputs": [
    {
     "data": {
      "text/plain": [
       "2"
      ]
     },
     "execution_count": 17,
     "metadata": {},
     "output_type": "execute_result"
    }
   ],
   "source": [
    "(inverted_zscore_arr.shape[0] * inverted_zscore_arr.shape[1]) - np.count_nonzero(inverted_zscore_arr)"
   ]
  },
  {
   "cell_type": "code",
   "execution_count": 18,
   "metadata": {},
   "outputs": [],
   "source": [
    "zero_idxs = np.where(inverted_zscore_arr == 0)"
   ]
  },
  {
   "cell_type": "code",
   "execution_count": 22,
   "metadata": {},
   "outputs": [
    {
     "data": {
      "text/plain": [
       "(array([4301, 7544]), array([7544, 4301]))"
      ]
     },
     "execution_count": 22,
     "metadata": {},
     "output_type": "execute_result"
    }
   ],
   "source": [
    "zero_idxs"
   ]
  },
  {
   "cell_type": "code",
   "execution_count": 19,
   "metadata": {},
   "outputs": [],
   "source": [
    "import copy\n",
    "\n",
    "nonzero_inverted_zscore_arr = copy.deepcopy(inverted_zscore_arr)"
   ]
  },
  {
   "cell_type": "code",
   "execution_count": 20,
   "metadata": {},
   "outputs": [],
   "source": [
    "for idx_pair in zero_idxs:\n",
    "    nonzero_inverted_zscore_arr[idx_pair[0]][idx_pair[1]] = 1e-20"
   ]
  },
  {
   "cell_type": "code",
   "execution_count": 21,
   "metadata": {},
   "outputs": [
    {
     "data": {
      "text/plain": [
       "(array([], dtype=int64), array([], dtype=int64))"
      ]
     },
     "execution_count": 21,
     "metadata": {},
     "output_type": "execute_result"
    }
   ],
   "source": [
    "np.where(nonzero_inverted_zscore_arr == 0)"
   ]
  },
  {
   "cell_type": "code",
   "execution_count": null,
   "metadata": {},
   "outputs": [],
   "source": []
  }
 ],
 "metadata": {
  "kernelspec": {
   "display_name": "Python 3",
   "language": "python",
   "name": "python3"
  },
  "language_info": {
   "codemirror_mode": {
    "name": "ipython",
    "version": 3
   },
   "file_extension": ".py",
   "mimetype": "text/x-python",
   "name": "python",
   "nbconvert_exporter": "python",
   "pygments_lexer": "ipython3",
   "version": "3.11.6"
  }
 },
 "nbformat": 4,
 "nbformat_minor": 2
}

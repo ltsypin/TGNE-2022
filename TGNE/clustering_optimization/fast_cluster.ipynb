{
 "cells": [
  {
   "cell_type": "code",
   "execution_count": 178,
   "metadata": {},
   "outputs": [],
   "source": [
    "import copy\n",
    "import json\n",
    "import os\n",
    "import re\n",
    "import glob\n",
    "import tqdm\n",
    "import multiprocessing\n",
    "\n",
    "import numpy as np\n",
    "import pandas as pd\n",
    "import matplotlib.pyplot as plt\n",
    "import seaborn as sns\n",
    "import pdb\n",
    "from sklearn.metrics import silhouette_score, pairwise_distances, silhouette_samples\n",
    "from sklearn.cluster import KMeans\n",
    "from sklearn.preprocessing import StandardScaler\n",
    "from sklearn.datasets import make_blobs\n",
    "from sklearn.neighbors import NearestNeighbors\n",
    "\n",
    "import scipy.stats as st\n",
    "import scipy.spatial\n",
    "import scipy.cluster.hierarchy\n",
    "\n",
    "import requests\n",
    "import bs4\n",
    "\n",
    "import umap\n",
    "# import pymde\n",
    "\n",
    "# import torch\n",
    "\n",
    "import igraph as ig\n",
    "import leidenalg as la\n",
    "\n",
    "from Bio import SeqIO\n",
    "\n",
    "import bokeh\n",
    "from bokeh.plotting import show as show_interactive, output_file, output_notebook\n",
    "from bokeh.layouts import column, row\n",
    "from bokeh.models import (\n",
    "    CustomJS,\n",
    "    TextInput,\n",
    "    LassoSelectTool,\n",
    "    Select,\n",
    "    MultiSelect,\n",
    "    ColorBar,\n",
    "    Legend,\n",
    "    LegendItem,\n",
    "    DataTable,\n",
    "    DateFormatter,\n",
    "    TableColumn,\n",
    "    Button,\n",
    "    HTMLTemplateFormatter,\n",
    "    FactorRange,\n",
    ")\n",
    "from bokeh.events import SelectionGeometry\n",
    "from bokeh.transform import linear_cmap, jitter\n",
    "\n",
    "from matplotlib.pyplot import show as show_static\n",
    "\n",
    "import networkx as nx\n",
    "\n",
    "import subprocess\n",
    "\n",
    "from pynndescent import NNDescent\n",
    "\n",
    "from csv import DictWriter\n",
    "\n",
    "from datetime import datetime"
   ]
  },
  {
   "cell_type": "code",
   "execution_count": 179,
   "metadata": {},
   "outputs": [],
   "source": [
    "def shuffle_row(row):\n",
    "    shuffled_row = row.values.copy()\n",
    "    np.random.shuffle(shuffled_row)\n",
    "    return pd.Series(shuffled_row, index=row.index)\n",
    "\n",
    "def shuffle_rows(df):\n",
    "    columns_to_shuffle = df.columns[1:]\n",
    "    df[columns_to_shuffle] = df[columns_to_shuffle].apply(shuffle_row, axis=1)\n",
    "    return df"
   ]
  },
  {
   "cell_type": "code",
   "execution_count": 180,
   "metadata": {},
   "outputs": [],
   "source": [
    "def get_geom_mean_expression(expression_df):\n",
    "    \"\"\"\n",
    "    \n",
    "    Function to take an expression dataframe from the microarrays and collapse it into the means of\n",
    "    all replicate chips.\n",
    "    \"\"\"\n",
    "    # C2 and S12 got removed during quality control\n",
    "    x = [\n",
    "        'Ll', \n",
    "        'Lm', \n",
    "        'Lh', \n",
    "        'S0', \n",
    "        'S3', \n",
    "        'S6', \n",
    "        'S9', \n",
    "        # 'S12', \n",
    "        'S15', \n",
    "        'S24', \n",
    "        'C0', \n",
    "        # 'C2', \n",
    "        'C4', \n",
    "        'C6', \n",
    "        'C8', \n",
    "        'C10', \n",
    "        'C12', \n",
    "        'C14', \n",
    "        'C16', \n",
    "        'C18']\n",
    "    \n",
    "    # cols = expression_df.columns[1:]\n",
    "    # x = [c for c in x if c in cols]\n",
    "    \n",
    "    condition_expr_dict = {c.split(\"_\")[0]: [] for c in expression_df.columns[1:]}\n",
    "    \n",
    "    for c in list(expression_df.columns)[1:]:\n",
    "        \n",
    "        cond = c.split('_')[0]\n",
    "        if cond in condition_expr_dict.keys():\n",
    "            expr_list = condition_expr_dict.get(cond, [])\n",
    "\n",
    "            # Need to avoid true zeros\n",
    "            expr_list.append(expression_df[c].values)\n",
    "            condition_expr_dict[cond] = expr_list\n",
    "        \n",
    "    condition_mean_dict = {c: (st.mstats.gmean(np.array(condition_expr_dict[c]) + 1, 0) - 1) for c in condition_expr_dict.keys() if c in x}\n",
    "    \n",
    "    mean_expr_df = pd.DataFrame(condition_mean_dict)\n",
    "    mean_expr_df['TTHERM_ID'] = expression_df['TTHERM_ID'].values\n",
    "    cols = list(mean_expr_df.columns)\n",
    "    reorder = cols[-1:] + cols[:-1]\n",
    "    mean_expr_df = mean_expr_df[reorder]\n",
    "    \n",
    "    return mean_expr_df\n",
    "\n",
    "def normalizer(array):\n",
    "    \"\"\"\n",
    "    Normalizes the values of an array to range from zero to one\n",
    "    \"\"\"\n",
    "    \n",
    "    a = np.array(array)\n",
    "    \n",
    "    normalized = (array - np.min(array)) / (np.max(array) - np.min(array))\n",
    "    \n",
    "    return normalized\n",
    "\n",
    "def normalize_expression_per_gene(expression_df):\n",
    "    \"\"\"\n",
    "    Function to normalize all gene expression to range from zero to one.\n",
    "    \"\"\"\n",
    "    if 'TTHERM_ID' in expression_df.columns:\n",
    "        ttids = expression_df['TTHERM_ID'].values\n",
    "        data = expression_df[list(expression_df.columns)[1:]]\n",
    "        \n",
    "        norm_expression_df = data.apply(lambda row: normalizer(row), axis=1)\n",
    "        norm_expression_df['TTHERM_ID'] = ttids\n",
    "        \n",
    "        columns = norm_expression_df.columns.tolist()\n",
    "        \n",
    "        rearrangment = columns[-1:] + columns[:-1]\n",
    "        \n",
    "        norm_expression_df = norm_expression_df[rearrangment]\n",
    "        \n",
    "    else:\n",
    "        norm_expression_df = expression_df.apply(lambda row: normalizer(row), axis=1)\n",
    "    \n",
    "    return norm_expression_df"
   ]
  },
  {
   "cell_type": "code",
   "execution_count": 181,
   "metadata": {},
   "outputs": [],
   "source": [
    "def compute_pairwise_distance_matrix(data_df, metric, n_jobs=-1, p_minkowski=1):\n",
    "\n",
    "    if metric == 'minkowski':\n",
    "        pair_dists = pairwise_distances(data_df, metric=metric, n_jobs=n_jobs, p=p_minkowski)\n",
    "    else:\n",
    "        pair_dists = pairwise_distances(data_df, metric=metric, n_jobs=n_jobs)\n",
    "    \n",
    "    return pair_dists"
   ]
  },
  {
   "cell_type": "code",
   "execution_count": 182,
   "metadata": {},
   "outputs": [],
   "source": [
    "def compute_nns(data_df, nn, metric, random_state=42, n_jobs=-1, p_minkowski=1):\n",
    "    \n",
    "    # num_neighbors = NearestNeighbors(n_neighbors=nn, metric='precomputed', n_jobs=-1).fit(manhattan_distance_matrix)\n",
    "    # nn_dists, nn_idxs = num_neighbors.kneighbors(return_distance=True)\n",
    "\n",
    "    n_trees = min(64, 5 + int(round((data_df.shape[0]) ** 0.5 / 20.0)))\n",
    "    n_iters = max(5, int(round(np.log2(data_df.shape[0]))))\n",
    "\n",
    "    if metric == 'minkowski':\n",
    "        knn_search_index = NNDescent(\n",
    "                data_df,\n",
    "                n_neighbors=nn,\n",
    "                metric=metric,\n",
    "                metric_kwds={'p': p_minkowski},\n",
    "                random_state=random_state,\n",
    "                n_trees=n_trees,\n",
    "                n_iters=n_iters,\n",
    "                max_candidates=60,\n",
    "                # low_memory=low_memory,\n",
    "                n_jobs=n_jobs,\n",
    "                verbose=False,\n",
    "                compressed=False,\n",
    "            )\n",
    "    else:\n",
    "        knn_search_index = NNDescent(\n",
    "                    data_df,\n",
    "                    n_neighbors=nn,\n",
    "                    metric=metric,\n",
    "                    # metric_kwds=metric_kwds,\n",
    "                    random_state=random_state,\n",
    "                    n_trees=n_trees,\n",
    "                    n_iters=n_iters,\n",
    "                    max_candidates=60,\n",
    "                    # low_memory=low_memory,\n",
    "                    n_jobs=n_jobs,\n",
    "                    verbose=False,\n",
    "                    compressed=False,\n",
    "                )\n",
    "    nn_idxs, nn_dists = knn_search_index.neighbor_graph\n",
    "\n",
    "    return nn_idxs, nn_dists"
   ]
  },
  {
   "cell_type": "code",
   "execution_count": 183,
   "metadata": {},
   "outputs": [],
   "source": [
    "def compute_umap_graph(data_df, nn, metric, nn_idxs, nn_dists):\n",
    "    \n",
    "    result, sigmas, rhos, dists = umap.umap_.fuzzy_simplicial_set(data_df, nn, 42, metric, knn_indices=nn_idxs, knn_dists=nn_dists, return_dists=True)\n",
    "\n",
    "    sources, targets = result.nonzero()\n",
    "    edge_list = zip(sources, targets)\n",
    "    weights = result.data\n",
    "\n",
    "    g = ig.Graph(edges=edge_list, edge_attrs={'weight': weights})\n",
    "    \n",
    "    return g"
   ]
  },
  {
   "cell_type": "code",
   "execution_count": 184,
   "metadata": {},
   "outputs": [],
   "source": [
    "def compute_leiden_partition(graph, resolution_parameter, random_state=42):\n",
    "        \n",
    "        partition = la.find_partition(graph, la.CPMVertexPartition, resolution_parameter = resolution_parameter, seed=random_state, weights='weight')\n",
    "        # partition = la.find_partition(g, la.ModularityVertexPartition, seed=42, weights='weight')\n",
    "\n",
    "        leiden_modules = np.array(partition.membership)\n",
    "\n",
    "        return leiden_modules"
   ]
  },
  {
   "cell_type": "code",
   "execution_count": 185,
   "metadata": {},
   "outputs": [],
   "source": [
    "def compute_communities(parition, idx_labels):\n",
    "    communities = {}\n",
    "\n",
    "    for idx, membership in enumerate(parition):\n",
    "        if membership not in communities:\n",
    "            communities[membership] = []\n",
    "        communities[membership].append(idx_labels[idx])\n",
    "\n",
    "    return communities.values()"
   ]
  },
  {
   "cell_type": "code",
   "execution_count": 186,
   "metadata": {},
   "outputs": [],
   "source": [
    "def compute_silhouette_score(distance_matrix, parition):\n",
    "    return silhouette_score(distance_matrix, parition, metric='precomputed')"
   ]
  },
  {
   "cell_type": "code",
   "execution_count": 187,
   "metadata": {},
   "outputs": [],
   "source": [
    "def compute_modularity(graph, communities):\n",
    "    nx_g = nx.Graph(graph.get_edgelist())\n",
    "    return nx.community.quality.modularity(nx_g, communities, weight='weight')"
   ]
  },
  {
   "cell_type": "code",
   "execution_count": 188,
   "metadata": {},
   "outputs": [],
   "source": [
    "def format_parition_for_enrichment(df, parition):\n",
    "    edf = pd.DataFrame.from_dict({'TTHERM_ID': []})\n",
    "    edf['TTHERM_ID'] = df['TTHERM_ID'].values\n",
    "    edf[f'leiden_label_full'] = parition\n",
    "    return edf"
   ]
  },
  {
   "cell_type": "code",
   "execution_count": 189,
   "metadata": {},
   "outputs": [],
   "source": [
    "def remove_file(file_path):\n",
    "    if os.path.exists(file_path):\n",
    "        os.remove(file_path)"
   ]
  },
  {
   "cell_type": "code",
   "execution_count": 190,
   "metadata": {},
   "outputs": [],
   "source": [
    "def compute_enrichment(df, parition):\n",
    "    edf = format_parition_for_enrichment(df, parition)\n",
    "\n",
    "    temp_scan_file = './temp_scan_partition.csv'\n",
    "\n",
    "    temp_enrich_file = './temp_scan_enrich.csv'\n",
    "\n",
    "    edf.to_csv(temp_scan_file, index=False)\n",
    "\n",
    "    subprocess.run(['python3', './fast_enrichment_analysis.py', temp_scan_file, temp_enrich_file])\n",
    "\n",
    "    cedf = pd.read_csv(temp_enrich_file)\n",
    "    \n",
    "    remove_file(temp_scan_file)\n",
    "\n",
    "    remove_file(temp_enrich_file)\n",
    "\n",
    "    return cedf"
   ]
  },
  {
   "cell_type": "code",
   "execution_count": 191,
   "metadata": {},
   "outputs": [],
   "source": [
    "def compute_num_clusters(parition, communities=None):\n",
    "    if communities is None:\n",
    "        return len(set(parition))\n",
    "    \n",
    "    if len(set(parition)) != len(communities):\n",
    "        raise ValueError(f'The number of clusters/modules ({len(set(parition))}) in the parition != the number of communities ({len(communities)}).')\n",
    "    \n",
    "    return len(set(parition))"
   ]
  },
  {
   "cell_type": "code",
   "execution_count": 192,
   "metadata": {},
   "outputs": [],
   "source": [
    "def compute_num_enriched_clusters(cedf):\n",
    "    return len(set(cedf['module'].values))"
   ]
  },
  {
   "cell_type": "code",
   "execution_count": 193,
   "metadata": {},
   "outputs": [],
   "source": [
    "def compute_num_enriched_cluster_genes(edf, parition):\n",
    "    total_num_genes = 0\n",
    "\n",
    "    for m in set(edf['module'].values):\n",
    "        num_genes = np.count_nonzero(parition == int(m))\n",
    "        total_num_genes += num_genes\n",
    "    \n",
    "    return total_num_genes\n",
    "    "
   ]
  },
  {
   "cell_type": "code",
   "execution_count": 194,
   "metadata": {},
   "outputs": [],
   "source": [
    "def write_to_csv(csv_file_path, data_item, header):\n",
    "    # Check if the CSV file exists and write header if it doesn't\n",
    "    if not os.path.isfile(csv_file_path):\n",
    "        with open(csv_file_path, 'w', newline='') as file:\n",
    "            writer = DictWriter(file, fieldnames=header)\n",
    "            writer.writeheader()\n",
    "\n",
    "    with open(csv_file_path, 'a', newline='') as file:\n",
    "        writer = DictWriter(file, fieldnames=header)\n",
    "        writer.writerow(data_item)"
   ]
  },
  {
   "cell_type": "markdown",
   "metadata": {},
   "source": [
    "# CLUSTER START"
   ]
  },
  {
   "cell_type": "code",
   "execution_count": 195,
   "metadata": {},
   "outputs": [],
   "source": [
    "shuffle = False\n",
    "num_iterations = 1\n",
    "full_filtered_df = pd.read_csv('../microarray_probe_alignment_and_filtering/allgood_filt_agg_tidy_2021aligned_qc_rma_expression_full.csv')\n",
    "full_filtered_df = full_filtered_df.rename(columns={'Unnamed: 0': 'TTHERM_ID'})"
   ]
  },
  {
   "cell_type": "code",
   "execution_count": 196,
   "metadata": {},
   "outputs": [
    {
     "data": {
      "text/html": [
       "<div>\n",
       "<style scoped>\n",
       "    .dataframe tbody tr th:only-of-type {\n",
       "        vertical-align: middle;\n",
       "    }\n",
       "\n",
       "    .dataframe tbody tr th {\n",
       "        vertical-align: top;\n",
       "    }\n",
       "\n",
       "    .dataframe thead th {\n",
       "        text-align: right;\n",
       "    }\n",
       "</style>\n",
       "<table border=\"1\" class=\"dataframe\">\n",
       "  <thead>\n",
       "    <tr style=\"text-align: right;\">\n",
       "      <th></th>\n",
       "      <th>TTHERM_ID</th>\n",
       "      <th>Ll_GSM283687</th>\n",
       "      <th>Ll_GSM284355</th>\n",
       "      <th>Ll_GSM284362</th>\n",
       "      <th>Lm_GSM283690</th>\n",
       "      <th>Lm_GSM284357</th>\n",
       "      <th>Lm_GSM284363</th>\n",
       "      <th>Lh_GSM283691</th>\n",
       "      <th>Lh_GSM284360</th>\n",
       "      <th>Lh_GSM284364</th>\n",
       "      <th>...</th>\n",
       "      <th>C12_GSM656237</th>\n",
       "      <th>C14_GSM285580</th>\n",
       "      <th>C14_GSM285593</th>\n",
       "      <th>C14_GSM656238</th>\n",
       "      <th>C16_GSM285582</th>\n",
       "      <th>C16_GSM285595</th>\n",
       "      <th>C16_GSM656239</th>\n",
       "      <th>C18_GSM285583</th>\n",
       "      <th>C18_GSM285596</th>\n",
       "      <th>C18_GSM656240</th>\n",
       "    </tr>\n",
       "  </thead>\n",
       "  <tbody>\n",
       "    <tr>\n",
       "      <th>0</th>\n",
       "      <td>TTHERM_000000042</td>\n",
       "      <td>6.928782</td>\n",
       "      <td>7.264201</td>\n",
       "      <td>6.934214</td>\n",
       "      <td>6.732989</td>\n",
       "      <td>6.970612</td>\n",
       "      <td>7.150978</td>\n",
       "      <td>6.126826</td>\n",
       "      <td>6.868968</td>\n",
       "      <td>6.641119</td>\n",
       "      <td>...</td>\n",
       "      <td>6.450318</td>\n",
       "      <td>8.049750</td>\n",
       "      <td>7.788162</td>\n",
       "      <td>7.052154</td>\n",
       "      <td>6.517742</td>\n",
       "      <td>6.918501</td>\n",
       "      <td>6.048861</td>\n",
       "      <td>7.041619</td>\n",
       "      <td>6.757932</td>\n",
       "      <td>5.817246</td>\n",
       "    </tr>\n",
       "    <tr>\n",
       "      <th>1</th>\n",
       "      <td>TTHERM_000000045</td>\n",
       "      <td>9.633489</td>\n",
       "      <td>9.977124</td>\n",
       "      <td>10.027529</td>\n",
       "      <td>9.720665</td>\n",
       "      <td>9.605762</td>\n",
       "      <td>10.225542</td>\n",
       "      <td>10.279608</td>\n",
       "      <td>10.459966</td>\n",
       "      <td>10.693337</td>\n",
       "      <td>...</td>\n",
       "      <td>11.130466</td>\n",
       "      <td>11.207738</td>\n",
       "      <td>11.009172</td>\n",
       "      <td>10.615417</td>\n",
       "      <td>11.038938</td>\n",
       "      <td>11.009222</td>\n",
       "      <td>10.216348</td>\n",
       "      <td>11.099187</td>\n",
       "      <td>11.172276</td>\n",
       "      <td>10.561021</td>\n",
       "    </tr>\n",
       "    <tr>\n",
       "      <th>2</th>\n",
       "      <td>TTHERM_00000010</td>\n",
       "      <td>5.066343</td>\n",
       "      <td>4.767264</td>\n",
       "      <td>5.010981</td>\n",
       "      <td>6.139047</td>\n",
       "      <td>4.619361</td>\n",
       "      <td>4.751761</td>\n",
       "      <td>5.818550</td>\n",
       "      <td>5.342529</td>\n",
       "      <td>5.483750</td>\n",
       "      <td>...</td>\n",
       "      <td>6.314438</td>\n",
       "      <td>7.423571</td>\n",
       "      <td>7.507645</td>\n",
       "      <td>7.417087</td>\n",
       "      <td>7.147801</td>\n",
       "      <td>7.747930</td>\n",
       "      <td>7.093641</td>\n",
       "      <td>7.672685</td>\n",
       "      <td>7.511290</td>\n",
       "      <td>6.890117</td>\n",
       "    </tr>\n",
       "    <tr>\n",
       "      <th>3</th>\n",
       "      <td>TTHERM_00000020</td>\n",
       "      <td>4.696881</td>\n",
       "      <td>4.638401</td>\n",
       "      <td>4.956299</td>\n",
       "      <td>6.942556</td>\n",
       "      <td>5.101252</td>\n",
       "      <td>4.730307</td>\n",
       "      <td>8.457690</td>\n",
       "      <td>4.526411</td>\n",
       "      <td>4.908300</td>\n",
       "      <td>...</td>\n",
       "      <td>5.250233</td>\n",
       "      <td>4.974993</td>\n",
       "      <td>5.747498</td>\n",
       "      <td>5.252167</td>\n",
       "      <td>5.210531</td>\n",
       "      <td>7.083187</td>\n",
       "      <td>5.252222</td>\n",
       "      <td>5.037613</td>\n",
       "      <td>5.495281</td>\n",
       "      <td>5.013987</td>\n",
       "    </tr>\n",
       "    <tr>\n",
       "      <th>4</th>\n",
       "      <td>TTHERM_00000030</td>\n",
       "      <td>4.654278</td>\n",
       "      <td>4.537105</td>\n",
       "      <td>4.928739</td>\n",
       "      <td>5.063991</td>\n",
       "      <td>4.584168</td>\n",
       "      <td>4.911880</td>\n",
       "      <td>5.935311</td>\n",
       "      <td>4.519470</td>\n",
       "      <td>4.757861</td>\n",
       "      <td>...</td>\n",
       "      <td>4.651688</td>\n",
       "      <td>4.920573</td>\n",
       "      <td>4.636333</td>\n",
       "      <td>4.883712</td>\n",
       "      <td>4.779395</td>\n",
       "      <td>4.744335</td>\n",
       "      <td>4.513140</td>\n",
       "      <td>4.838428</td>\n",
       "      <td>4.961475</td>\n",
       "      <td>4.653340</td>\n",
       "    </tr>\n",
       "  </tbody>\n",
       "</table>\n",
       "<p>5 rows × 48 columns</p>\n",
       "</div>"
      ],
      "text/plain": [
       "          TTHERM_ID  Ll_GSM283687  Ll_GSM284355  Ll_GSM284362  Lm_GSM283690  \\\n",
       "0  TTHERM_000000042      6.928782      7.264201      6.934214      6.732989   \n",
       "1  TTHERM_000000045      9.633489      9.977124     10.027529      9.720665   \n",
       "2   TTHERM_00000010      5.066343      4.767264      5.010981      6.139047   \n",
       "3   TTHERM_00000020      4.696881      4.638401      4.956299      6.942556   \n",
       "4   TTHERM_00000030      4.654278      4.537105      4.928739      5.063991   \n",
       "\n",
       "   Lm_GSM284357  Lm_GSM284363  Lh_GSM283691  Lh_GSM284360  Lh_GSM284364  ...  \\\n",
       "0      6.970612      7.150978      6.126826      6.868968      6.641119  ...   \n",
       "1      9.605762     10.225542     10.279608     10.459966     10.693337  ...   \n",
       "2      4.619361      4.751761      5.818550      5.342529      5.483750  ...   \n",
       "3      5.101252      4.730307      8.457690      4.526411      4.908300  ...   \n",
       "4      4.584168      4.911880      5.935311      4.519470      4.757861  ...   \n",
       "\n",
       "   C12_GSM656237  C14_GSM285580  C14_GSM285593  C14_GSM656238  C16_GSM285582  \\\n",
       "0       6.450318       8.049750       7.788162       7.052154       6.517742   \n",
       "1      11.130466      11.207738      11.009172      10.615417      11.038938   \n",
       "2       6.314438       7.423571       7.507645       7.417087       7.147801   \n",
       "3       5.250233       4.974993       5.747498       5.252167       5.210531   \n",
       "4       4.651688       4.920573       4.636333       4.883712       4.779395   \n",
       "\n",
       "   C16_GSM285595  C16_GSM656239  C18_GSM285583  C18_GSM285596  C18_GSM656240  \n",
       "0       6.918501       6.048861       7.041619       6.757932       5.817246  \n",
       "1      11.009222      10.216348      11.099187      11.172276      10.561021  \n",
       "2       7.747930       7.093641       7.672685       7.511290       6.890117  \n",
       "3       7.083187       5.252222       5.037613       5.495281       5.013987  \n",
       "4       4.744335       4.513140       4.838428       4.961475       4.653340  \n",
       "\n",
       "[5 rows x 48 columns]"
      ]
     },
     "execution_count": 196,
     "metadata": {},
     "output_type": "execute_result"
    }
   ],
   "source": [
    "full_filtered_df.head()"
   ]
  },
  {
   "cell_type": "code",
   "execution_count": 197,
   "metadata": {},
   "outputs": [],
   "source": [
    "# np.random.seed(42)\n",
    "# X, _ = make_blobs(n_samples=10000, n_features=30, centers=350, cluster_std=1.0, random_state=42)  # Use only 2 features\n",
    "# # Convert X to a DataFrame\n",
    "# columns = ['feature' + str(i) for i in range(X.shape[1])]\n",
    "# df = pd.DataFrame(X, columns=columns)\n",
    "# raw_data = df.values"
   ]
  },
  {
   "cell_type": "code",
   "execution_count": 198,
   "metadata": {},
   "outputs": [
    {
     "data": {
      "text/plain": [
       "(20326, 47)"
      ]
     },
     "execution_count": 198,
     "metadata": {},
     "output_type": "execute_result"
    }
   ],
   "source": [
    "dimensions = 47\n",
    "\n",
    "sampler = st.qmc.LatinHypercube(d=dimensions)\n",
    "# sampler = st.qmc.Sobol(d=dimensions)\n",
    "hypercube_sample = sampler.random(n=20326)\n",
    "\n",
    "hypercube_sample.shape\n"
   ]
  },
  {
   "cell_type": "code",
   "execution_count": 199,
   "metadata": {},
   "outputs": [
    {
     "data": {
      "text/plain": [
       "<matplotlib.collections.PathCollection at 0x2ab192cd0>"
      ]
     },
     "execution_count": 199,
     "metadata": {},
     "output_type": "execute_result"
    },
    {
     "data": {
      "image/png": "[encoded data removed]",
      "text/plain": [
       "<Figure size 640x480 with 1 Axes>"
      ]
     },
     "metadata": {},
     "output_type": "display_data"
    }
   ],
   "source": [
    "plt.scatter(hypercube_sample[1234], hypercube_sample[20000])"
   ]
  },
  {
   "cell_type": "code",
   "execution_count": 200,
   "metadata": {},
   "outputs": [
    {
     "name": "stdout",
     "output_type": "stream",
     "text": [
      "Number of CPU cores: 10\n"
     ]
    }
   ],
   "source": [
    "def get_cpu_cores():\n",
    "    # If you're using Linux or macOS\n",
    "    if os.name == 'posix':\n",
    "        return os.cpu_count()\n",
    "\n",
    "    # If you're using Windows\n",
    "    elif os.name == 'nt':\n",
    "        return multiprocessing.cpu_count()\n",
    "\n",
    "    # If the operating system is not recognized\n",
    "    else:\n",
    "        return \"Unable to determine the number of CPU cores.\"\n",
    "\n",
    "# Get and print the number of CPU cores\n",
    "num_cores = get_cpu_cores()\n",
    "print(f\"Number of CPU cores: {num_cores}\")"
   ]
  },
  {
   "cell_type": "code",
   "execution_count": 201,
   "metadata": {},
   "outputs": [
    {
     "data": {
      "text/plain": [
       "4"
      ]
     },
     "execution_count": 201,
     "metadata": {},
     "output_type": "execute_result"
    }
   ],
   "source": [
    "def floor_half_to_even(number):\n",
    "    return number // 4 * 2\n",
    "\n",
    "num_workers = floor_half_to_even(num_cores)\n",
    "num_workers"
   ]
  },
  {
   "cell_type": "code",
   "execution_count": 202,
   "metadata": {},
   "outputs": [
    {
     "data": {
      "text/plain": [
       "1.752187502913408"
      ]
     },
     "execution_count": 202,
     "metadata": {},
     "output_type": "execute_result"
    }
   ],
   "source": [
    "st.qmc.discrepancy(hypercube_sample, workers=num_workers)"
   ]
  },
  {
   "cell_type": "code",
   "execution_count": 203,
   "metadata": {},
   "outputs": [],
   "source": [
    "curr_datetime = str(datetime.now())"
   ]
  },
  {
   "cell_type": "code",
   "execution_count": 204,
   "metadata": {},
   "outputs": [],
   "source": [
    "metric = 'minkowski'\n",
    "# p_minkowski = 0.5\n",
    "n_jobs = -1\n",
    "random_state = 42"
   ]
  },
  {
   "cell_type": "code",
   "execution_count": 205,
   "metadata": {},
   "outputs": [],
   "source": [
    "nn = 12"
   ]
  },
  {
   "cell_type": "code",
   "execution_count": 206,
   "metadata": {},
   "outputs": [],
   "source": [
    "rp = 0.0950"
   ]
  },
  {
   "cell_type": "code",
   "execution_count": 207,
   "metadata": {},
   "outputs": [],
   "source": [
    "# num_iterations = 100\n",
    "# shuffle = True"
   ]
  },
  {
   "cell_type": "code",
   "execution_count": 208,
   "metadata": {},
   "outputs": [
    {
     "name": "stderr",
     "output_type": "stream",
     "text": [
      "100%|██████████| 2029/2029 [00:27<00:00, 74.84it/s] \n",
      "100%|██████████| 2137/2137 [00:41<00:00, 51.72it/s] \n",
      "100%|██████████| 2071/2071 [00:15<00:00, 130.42it/s]\n",
      "100%|██████████| 2054/2054 [00:21<00:00, 97.05it/s] \n",
      "100%|██████████| 2002/2002 [00:32<00:00, 60.78it/s] \n",
      "100%|██████████| 1948/1948 [00:55<00:00, 35.29it/s] \n",
      "100%|██████████| 1941/1941 [00:31<00:00, 62.24it/s] \n",
      "100%|██████████| 1917/1917 [00:37<00:00, 51.50it/s] \n",
      "100%|██████████| 1926/1926 [00:31<00:00, 60.83it/s] \n",
      "100%|██████████| 1905/1905 [00:23<00:00, 81.29it/s] \n"
     ]
    }
   ],
   "source": [
    "# for iteration in tqdm.tqdm(range(num_iterations)):\n",
    "for p_minkowski in np.arange(0.1, 1.1, 0.1):\n",
    "    \n",
    "    if shuffle:\n",
    "        full_filtered_df = shuffle_rows(full_filtered_df)\n",
    "        \n",
    "    full_filtered_norm_df = normalize_expression_per_gene(full_filtered_df)\n",
    "    \n",
    "    raw_data = full_filtered_norm_df[list(full_filtered_norm_df.columns)[1:]].values\n",
    "    # raw_data = pd.DataFrame(hypercube_sample)\n",
    "\n",
    "    idx_labels = list(range(raw_data.shape[0]))\n",
    "\n",
    "\n",
    "    distance_matrix = compute_pairwise_distance_matrix(raw_data, metric, n_jobs, p_minkowski)\n",
    "\n",
    "    nn_idxs, nn_dists = compute_nns(raw_data, nn, metric, random_state, n_jobs, p_minkowski)\n",
    "\n",
    "    nn_graph = compute_umap_graph(raw_data, nn, metric, nn_idxs, nn_dists)\n",
    "\n",
    "    parition = compute_leiden_partition(nn_graph, rp, random_state)\n",
    "\n",
    "    communities = compute_communities(parition, idx_labels)\n",
    "\n",
    "    sil_score = compute_silhouette_score(distance_matrix, parition)\n",
    "\n",
    "    modularity = compute_modularity(nn_graph, communities)\n",
    "\n",
    "    enrichment_df = compute_enrichment(full_filtered_norm_df, parition)\n",
    "\n",
    "    num_clusters = compute_num_clusters(parition, communities)\n",
    "\n",
    "    num_enriched_clusters = compute_num_enriched_clusters(enrichment_df)\n",
    "\n",
    "    num_enriched_cluster_genes = compute_num_enriched_cluster_genes(enrichment_df, parition)\n",
    "\n",
    "    cluster_stats = {\n",
    "        'shuffled': shuffle,\n",
    "        'dimensionality': 'baseline',\n",
    "        'graph': 'umap_fuzzy_simplicial_set',\n",
    "        'nns': nn,\n",
    "        'clustering': 'leiden_cpm',\n",
    "        'parameter': rp,\n",
    "        'metric': f'{metric}_{p_minkowski}' if metric == 'minkowski' else metric,\n",
    "        'nclusters': num_clusters,\n",
    "        'silhouette_score': sil_score,\n",
    "        'modularity': modularity,\n",
    "        'nenriched_clusters': num_enriched_clusters,\n",
    "        'nenriched_cluster_genes': num_enriched_cluster_genes,\n",
    "        'datetime': curr_datetime\n",
    "    }\n",
    "\n",
    "    write_to_csv('./scan_stats.csv', cluster_stats, list(cluster_stats.keys()))"
   ]
  },
  {
   "cell_type": "code",
   "execution_count": 209,
   "metadata": {},
   "outputs": [
    {
     "data": {
      "text/plain": [
       "0.035347023885248983"
      ]
     },
     "execution_count": 209,
     "metadata": {},
     "output_type": "execute_result"
    }
   ],
   "source": [
    "sil_score"
   ]
  },
  {
   "cell_type": "code",
   "execution_count": 210,
   "metadata": {},
   "outputs": [
    {
     "data": {
      "text/plain": [
       "0.2944061004414327"
      ]
     },
     "execution_count": 210,
     "metadata": {},
     "output_type": "execute_result"
    }
   ],
   "source": [
    "modularity"
   ]
  },
  {
   "cell_type": "code",
   "execution_count": 211,
   "metadata": {},
   "outputs": [
    {
     "data": {
      "text/plain": [
       "1905"
      ]
     },
     "execution_count": 211,
     "metadata": {},
     "output_type": "execute_result"
    }
   ],
   "source": [
    "num_clusters"
   ]
  },
  {
   "cell_type": "code",
   "execution_count": 212,
   "metadata": {},
   "outputs": [
    {
     "data": {
      "text/plain": [
       "316"
      ]
     },
     "execution_count": 212,
     "metadata": {},
     "output_type": "execute_result"
    }
   ],
   "source": [
    "num_enriched_clusters"
   ]
  },
  {
   "cell_type": "code",
   "execution_count": 213,
   "metadata": {},
   "outputs": [
    {
     "data": {
      "text/plain": [
       "4058"
      ]
     },
     "execution_count": 213,
     "metadata": {},
     "output_type": "execute_result"
    }
   ],
   "source": [
    "num_enriched_cluster_genes"
   ]
  },
  {
   "cell_type": "code",
   "execution_count": 214,
   "metadata": {},
   "outputs": [],
   "source": [
    "def get_gene_module_assignments(all_gene_labels, gene_list, parition):\n",
    "    gene_module_assignments = {}\n",
    "\n",
    "    for gene in gene_list:\n",
    "        if gene not in all_gene_labels:\n",
    "            raise ValueError(f'The gene {gene} is not in the list of all gene labels.')\n",
    "        gene_idx = all_gene_labels.index(gene)\n",
    "        module_num = parition[gene_idx]\n",
    "        if module_num not in gene_module_assignments:\n",
    "            gene_module_assignments[module_num] = []\n",
    "        gene_module_assignments[module_num].append(gene)\n",
    "\n",
    "    return gene_module_assignments"
   ]
  },
  {
   "cell_type": "code",
   "execution_count": 215,
   "metadata": {},
   "outputs": [],
   "source": [
    "gene_list_1 = [\"TTHERM_01055600\", \"TTHERM_01002870\", \"TTHERM_01002860\", \"TTHERM_00630470\", \"TTHERM_00624730\", \"TTHERM_00624720\", \"TTHERM_00527180\", \"TTHERM_00522600\", \"TTHERM_00378890\", \"TTHERM_00335830\", \"TTHERM_00221120\"]"
   ]
  },
  {
   "cell_type": "code",
   "execution_count": 216,
   "metadata": {},
   "outputs": [],
   "source": [
    "gene_list_2 = [\"TTHERM_00420610\", \"TTHERM_00410210\", \"TTHERM_00313130\", \"TTHERM_00467390\"]\n",
    "#                                                                       MAYBE"
   ]
  },
  {
   "cell_type": "code",
   "execution_count": 217,
   "metadata": {},
   "outputs": [],
   "source": [
    "gene_list_3 = [\"TTHERM_01107420\", \"TTHERM_01004990\", \"TTHERM_00985020\", \"TTHERM_00899470\", \"TTHERM_00865150\", \"TTHERM_00858130\", \"TTHERM_00849480\", \"TTHERM_00829340\", \"TTHERM_00780750\", \"TTHERM_00716180\", \"TTHERM_00704030\", \"TTHERM_00691170\", \"TTHERM_00684590\", \"TTHERM_00670190\", \"TTHERM_00571880\", \"TTHERM_00561799\", \"TTHERM_00529890\", \"TTHERM_00526250\", \"TTHERM_00469140\", \"TTHERM_00455600\", \"TTHERM_00439330\", \"TTHERM_00439030\", \"TTHERM_00424700\", \"TTHERM_00316660\", \"TTHERM_00312120\", \"TTHERM_00301770\", \"TTHERM_00297130\", \"TTHERM_00292160\", \"TTHERM_00243710\", \"TTHERM_00113120\", \"TTHERM_000711791\", \"TTHERM_00069420\", \"TTHERM_00048890\", \"TTHERM_000463439\", \"TTHERM_000439109\", \"TTHERM_00037290\", \"TTHERM_000248319\", \"TTHERM_000086999\", \"TTHERM_01079170\", \"TTHERM_01005150\", \"TTHERM_00865050\", \"TTHERM_00773520\", \"TTHERM_00729230\", \"TTHERM_00704040\", \"TTHERM_00672040\", \"TTHERM_00667000\", \"TTHERM_00648920\", \"TTHERM_00614820\", \"TTHERM_00576890\", \"TTHERM_00572090\", \"TTHERM_00483610\", \"TTHERM_00446570\", \"TTHERM_00441870\", \"TTHERM_00219420\", \"TTHERM_00194810\", \"TTHERM_00161750\", \"TTHERM_00142290\", \"TTHERM_001000210\", \"TTHERM_00083540\", \"TTHERM_00058860\", \"TTHERM_00048980\", \"TTHERM_00046130\", \"TTHERM_000420919\", \"TTHERM_000383629\", \"TTHERM_00013120\", \"TTHERM_00011190\", \"TTHERM_01245640\", \"TTHERM_01197090\", \"TTHERM_01195950\", \"TTHERM_01016190\", \"TTHERM_00790790\", \"TTHERM_00585320\", \"TTHERM_00568050\", \"TTHERM_00554270\", \"TTHERM_00498190\", \"TTHERM_00487030\", \"TTHERM_00448570\", \"TTHERM_00277550\", \"TTHERM_00242370\", \"TTHERM_00143660\", \"TTHERM_00105150\", \"TTHERM_00092850\", \"TTHERM_000011759\"]"
   ]
  },
  {
   "cell_type": "code",
   "execution_count": 218,
   "metadata": {},
   "outputs": [
    {
     "data": {
      "text/plain": [
       "{821: ['TTHERM_01055600',\n",
       "  'TTHERM_01002870',\n",
       "  'TTHERM_01002860',\n",
       "  'TTHERM_00630470',\n",
       "  'TTHERM_00624730',\n",
       "  'TTHERM_00624720',\n",
       "  'TTHERM_00527180',\n",
       "  'TTHERM_00522600',\n",
       "  'TTHERM_00378890',\n",
       "  'TTHERM_00335830',\n",
       "  'TTHERM_00221120']}"
      ]
     },
     "execution_count": 218,
     "metadata": {},
     "output_type": "execute_result"
    }
   ],
   "source": [
    "get_gene_module_assignments(list(full_filtered_norm_df['TTHERM_ID'].values), gene_list_1, list(parition))"
   ]
  },
  {
   "cell_type": "code",
   "execution_count": 219,
   "metadata": {},
   "outputs": [
    {
     "data": {
      "text/plain": [
       "{411: ['TTHERM_00420610', 'TTHERM_00313130'],\n",
       " 118: ['TTHERM_00410210'],\n",
       " 1798: ['TTHERM_00467390']}"
      ]
     },
     "execution_count": 219,
     "metadata": {},
     "output_type": "execute_result"
    }
   ],
   "source": [
    "get_gene_module_assignments(list(full_filtered_norm_df['TTHERM_ID'].values), gene_list_2, list(parition))"
   ]
  },
  {
   "cell_type": "code",
   "execution_count": 220,
   "metadata": {},
   "outputs": [
    {
     "data": {
      "text/plain": [
       "{143: ['TTHERM_01107420',\n",
       "  'TTHERM_01004990',\n",
       "  'TTHERM_00858130',\n",
       "  'TTHERM_00780750',\n",
       "  'TTHERM_00691170',\n",
       "  'TTHERM_00561799',\n",
       "  'TTHERM_00439330',\n",
       "  'TTHERM_00439030',\n",
       "  'TTHERM_00316660',\n",
       "  'TTHERM_00301770',\n",
       "  'TTHERM_00243710',\n",
       "  'TTHERM_000711791',\n",
       "  'TTHERM_000248319',\n",
       "  'TTHERM_01079170',\n",
       "  'TTHERM_00672040',\n",
       "  'TTHERM_00013120'],\n",
       " 1023: ['TTHERM_00985020',\n",
       "  'TTHERM_00526250',\n",
       "  'TTHERM_00312120',\n",
       "  'TTHERM_00292160',\n",
       "  'TTHERM_00113120'],\n",
       " 966: ['TTHERM_00899470'],\n",
       " 220: ['TTHERM_00865150',\n",
       "  'TTHERM_00684590',\n",
       "  'TTHERM_00571880',\n",
       "  'TTHERM_00424700',\n",
       "  'TTHERM_00069420'],\n",
       " 168: ['TTHERM_00849480', 'TTHERM_00829340', 'TTHERM_00716180'],\n",
       " 203: ['TTHERM_00704030',\n",
       "  'TTHERM_00529890',\n",
       "  'TTHERM_00469140',\n",
       "  'TTHERM_00455600',\n",
       "  'TTHERM_00037290'],\n",
       " 356: ['TTHERM_00670190'],\n",
       " 362: ['TTHERM_00297130'],\n",
       " 367: ['TTHERM_00048890', 'TTHERM_000086999'],\n",
       " 863: ['TTHERM_000463439'],\n",
       " 1815: ['TTHERM_000439109'],\n",
       " 531: ['TTHERM_01005150',\n",
       "  'TTHERM_00704040',\n",
       "  'TTHERM_00614820',\n",
       "  'TTHERM_00576890',\n",
       "  'TTHERM_00441870',\n",
       "  'TTHERM_00219420',\n",
       "  'TTHERM_00194810',\n",
       "  'TTHERM_00161750',\n",
       "  'TTHERM_001000210',\n",
       "  'TTHERM_00058860',\n",
       "  'TTHERM_00048980',\n",
       "  'TTHERM_00046130',\n",
       "  'TTHERM_000420919'],\n",
       " 82: ['TTHERM_00865050',\n",
       "  'TTHERM_00773520',\n",
       "  'TTHERM_00483610',\n",
       "  'TTHERM_00446570',\n",
       "  'TTHERM_00083540',\n",
       "  'TTHERM_00011190'],\n",
       " 242: ['TTHERM_00729230',\n",
       "  'TTHERM_01245640',\n",
       "  'TTHERM_00790790',\n",
       "  'TTHERM_00585320',\n",
       "  'TTHERM_00568050',\n",
       "  'TTHERM_00554270',\n",
       "  'TTHERM_00487030',\n",
       "  'TTHERM_00448570',\n",
       "  'TTHERM_00277550',\n",
       "  'TTHERM_00242370',\n",
       "  'TTHERM_00105150',\n",
       "  'TTHERM_00092850',\n",
       "  'TTHERM_000011759'],\n",
       " 775: ['TTHERM_00667000', 'TTHERM_00648920', 'TTHERM_00142290'],\n",
       " 285: ['TTHERM_00572090', 'TTHERM_000383629'],\n",
       " 1007: ['TTHERM_01197090', 'TTHERM_01195950'],\n",
       " 1279: ['TTHERM_01016190'],\n",
       " 619: ['TTHERM_00498190', 'TTHERM_00143660']}"
      ]
     },
     "execution_count": 220,
     "metadata": {},
     "output_type": "execute_result"
    }
   ],
   "source": [
    "get_gene_module_assignments(list(full_filtered_norm_df['TTHERM_ID'].values), gene_list_3, list(parition))"
   ]
  },
  {
   "cell_type": "code",
   "execution_count": 221,
   "metadata": {},
   "outputs": [
    {
     "name": "stdout",
     "output_type": "stream",
     "text": [
      "The fractional distance between vector1 and vector2 is: 27.0\n"
     ]
    }
   ],
   "source": [
    "import numpy as np\n",
    "\n",
    "def fractional_distance(x, y, p):\n",
    "    \"\"\"\n",
    "    Calculate fractional distance between two vectors x and y.\n",
    "\n",
    "    Parameters:\n",
    "    - x, y: Input vectors (lists, arrays, etc.).\n",
    "    - p: Fractional exponent.\n",
    "\n",
    "    Returns:\n",
    "    - Fractional distance.\n",
    "    \"\"\"\n",
    "    if len(x) != len(y):\n",
    "        raise ValueError(\"Input vectors must have the same length\")\n",
    "\n",
    "    distance = np.power(np.sum(np.abs(np.array(x) - np.array(y)) ** p), 1/p)\n",
    "    return distance\n",
    "\n",
    "# Example usage:\n",
    "vector1 = [1, 2, 3]\n",
    "vector2 = [4, 5, 6]\n",
    "fractional_exponent = 0.5\n",
    "\n",
    "result = fractional_distance(vector1, vector2, fractional_exponent)\n",
    "print(f\"The fractional distance between vector1 and vector2 is: {result}\")\n"
   ]
  }
 ],
 "metadata": {
  "kernelspec": {
   "display_name": "Python 3",
   "language": "python",
   "name": "python3"
  },
  "language_info": {
   "codemirror_mode": {
    "name": "ipython",
    "version": 3
   },
   "file_extension": ".py",
   "mimetype": "text/x-python",
   "name": "python",
   "nbconvert_exporter": "python",
   "pygments_lexer": "ipython3",
   "version": "3.11.6"
  }
 },
 "nbformat": 4,
 "nbformat_minor": 2
}

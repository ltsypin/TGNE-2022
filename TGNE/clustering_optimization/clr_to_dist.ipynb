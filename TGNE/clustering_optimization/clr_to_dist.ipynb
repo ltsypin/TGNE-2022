{
 "cells": [
  {
   "cell_type": "code",
   "execution_count": 1,
   "metadata": {},
   "outputs": [],
   "source": [
    "import numpy as np\n",
    "import pandas as pd"
   ]
  },
  {
   "cell_type": "code",
   "execution_count": 2,
   "metadata": {},
   "outputs": [],
   "source": [
    "def min_max_scale_2d_arr(arr: np.array):\n",
    "\n",
    "    flat_arr = arr.flatten()\n",
    "\n",
    "    non_inf_mask = flat_arr != float('inf')\n",
    "\n",
    "    max_val = max(flat_arr[non_inf_mask])\n",
    "    min_val = min(flat_arr)\n",
    "\n",
    "    # change inf to zeros, so scaling is not affected\n",
    "    inf_zscore_idxs = np.where(arr == float('inf'))\n",
    "\n",
    "    for idx in range(len(inf_zscore_idxs[0])):\n",
    "        arr[inf_zscore_idxs[0][idx]][inf_zscore_idxs[1][idx]] = 0\n",
    "\n",
    "    scaled_arr = (arr - min_val) / (max_val - min_val)\n",
    "\n",
    "    return scaled_arr"
   ]
  },
  {
   "cell_type": "code",
   "execution_count": 3,
   "metadata": {},
   "outputs": [
    {
     "name": "stdout",
     "output_type": "stream",
     "text": [
      "(19152, 19153)\n"
     ]
    },
    {
     "data": {
      "text/html": [
       "<div>\n",
       "<style scoped>\n",
       "    .dataframe tbody tr th:only-of-type {\n",
       "        vertical-align: middle;\n",
       "    }\n",
       "\n",
       "    .dataframe tbody tr th {\n",
       "        vertical-align: top;\n",
       "    }\n",
       "\n",
       "    .dataframe thead th {\n",
       "        text-align: right;\n",
       "    }\n",
       "</style>\n",
       "<table border=\"1\" class=\"dataframe\">\n",
       "  <thead>\n",
       "    <tr style=\"text-align: right;\">\n",
       "      <th></th>\n",
       "      <th>TTHERM_ID</th>\n",
       "      <th>TTHERM_00161860</th>\n",
       "      <th>TTHERM_00161850</th>\n",
       "      <th>TTHERM_00161840</th>\n",
       "      <th>TTHERM_00161830</th>\n",
       "      <th>TTHERM_00161790</th>\n",
       "      <th>TTHERM_00161780</th>\n",
       "      <th>TTHERM_000161759</th>\n",
       "      <th>YF00000015.t1</th>\n",
       "      <th>TTHERM_00161750</th>\n",
       "      <th>...</th>\n",
       "      <th>YF00038356.t1</th>\n",
       "      <th>YF00038359.t1</th>\n",
       "      <th>YF00038369.t1</th>\n",
       "      <th>TTHERM_01068130</th>\n",
       "      <th>YF00038374.t1</th>\n",
       "      <th>TTHERM_01082890</th>\n",
       "      <th>YF00038376.t1</th>\n",
       "      <th>YF00038377.t1</th>\n",
       "      <th>TTHERM_000989489</th>\n",
       "      <th>YF00038707.t1</th>\n",
       "    </tr>\n",
       "  </thead>\n",
       "  <tbody>\n",
       "    <tr>\n",
       "      <th>0</th>\n",
       "      <td>TTHERM_00161860</td>\n",
       "      <td>0.000000</td>\n",
       "      <td>0.000000</td>\n",
       "      <td>1.011770</td>\n",
       "      <td>0.544702</td>\n",
       "      <td>3.790811</td>\n",
       "      <td>0.072156</td>\n",
       "      <td>0.000000</td>\n",
       "      <td>2.830599</td>\n",
       "      <td>0.000000</td>\n",
       "      <td>...</td>\n",
       "      <td>0.000849</td>\n",
       "      <td>0.247060</td>\n",
       "      <td>0.004260</td>\n",
       "      <td>2.553476</td>\n",
       "      <td>0.080188</td>\n",
       "      <td>0.000000</td>\n",
       "      <td>0.081121</td>\n",
       "      <td>0.000000</td>\n",
       "      <td>0.099867</td>\n",
       "      <td>4.388899</td>\n",
       "    </tr>\n",
       "    <tr>\n",
       "      <th>1</th>\n",
       "      <td>TTHERM_00161850</td>\n",
       "      <td>0.000000</td>\n",
       "      <td>0.000000</td>\n",
       "      <td>0.662679</td>\n",
       "      <td>2.106980</td>\n",
       "      <td>1.319153</td>\n",
       "      <td>0.000000</td>\n",
       "      <td>0.285196</td>\n",
       "      <td>0.000000</td>\n",
       "      <td>0.018998</td>\n",
       "      <td>...</td>\n",
       "      <td>0.000000</td>\n",
       "      <td>3.250603</td>\n",
       "      <td>3.568258</td>\n",
       "      <td>0.908856</td>\n",
       "      <td>0.057345</td>\n",
       "      <td>0.048619</td>\n",
       "      <td>0.217558</td>\n",
       "      <td>1.786403</td>\n",
       "      <td>0.751179</td>\n",
       "      <td>0.000000</td>\n",
       "    </tr>\n",
       "    <tr>\n",
       "      <th>2</th>\n",
       "      <td>TTHERM_00161840</td>\n",
       "      <td>1.011770</td>\n",
       "      <td>0.662679</td>\n",
       "      <td>0.000000</td>\n",
       "      <td>6.703985</td>\n",
       "      <td>3.812577</td>\n",
       "      <td>0.000000</td>\n",
       "      <td>2.071413</td>\n",
       "      <td>0.000000</td>\n",
       "      <td>2.330468</td>\n",
       "      <td>...</td>\n",
       "      <td>2.817666</td>\n",
       "      <td>3.527004</td>\n",
       "      <td>0.000000</td>\n",
       "      <td>4.432487</td>\n",
       "      <td>8.796609</td>\n",
       "      <td>0.000000</td>\n",
       "      <td>0.355199</td>\n",
       "      <td>1.059101</td>\n",
       "      <td>0.000000</td>\n",
       "      <td>0.981875</td>\n",
       "    </tr>\n",
       "    <tr>\n",
       "      <th>3</th>\n",
       "      <td>TTHERM_00161830</td>\n",
       "      <td>0.544702</td>\n",
       "      <td>2.106980</td>\n",
       "      <td>6.703985</td>\n",
       "      <td>0.000000</td>\n",
       "      <td>1.513556</td>\n",
       "      <td>0.000000</td>\n",
       "      <td>1.680607</td>\n",
       "      <td>0.562822</td>\n",
       "      <td>6.764740</td>\n",
       "      <td>...</td>\n",
       "      <td>1.796626</td>\n",
       "      <td>1.439393</td>\n",
       "      <td>1.498757</td>\n",
       "      <td>2.880878</td>\n",
       "      <td>2.741864</td>\n",
       "      <td>0.801501</td>\n",
       "      <td>0.155717</td>\n",
       "      <td>0.676565</td>\n",
       "      <td>0.396551</td>\n",
       "      <td>0.039557</td>\n",
       "    </tr>\n",
       "    <tr>\n",
       "      <th>4</th>\n",
       "      <td>TTHERM_00161790</td>\n",
       "      <td>3.790811</td>\n",
       "      <td>1.319153</td>\n",
       "      <td>3.812577</td>\n",
       "      <td>1.513556</td>\n",
       "      <td>0.000000</td>\n",
       "      <td>0.000000</td>\n",
       "      <td>4.464332</td>\n",
       "      <td>0.000000</td>\n",
       "      <td>0.125314</td>\n",
       "      <td>...</td>\n",
       "      <td>2.467580</td>\n",
       "      <td>0.564686</td>\n",
       "      <td>0.000000</td>\n",
       "      <td>4.384075</td>\n",
       "      <td>1.004587</td>\n",
       "      <td>0.000000</td>\n",
       "      <td>0.000000</td>\n",
       "      <td>0.000110</td>\n",
       "      <td>0.002090</td>\n",
       "      <td>3.042215</td>\n",
       "    </tr>\n",
       "  </tbody>\n",
       "</table>\n",
       "<p>5 rows × 19153 columns</p>\n",
       "</div>"
      ],
      "text/plain": [
       "         TTHERM_ID  TTHERM_00161860  TTHERM_00161850  TTHERM_00161840  \\\n",
       "0  TTHERM_00161860         0.000000         0.000000         1.011770   \n",
       "1  TTHERM_00161850         0.000000         0.000000         0.662679   \n",
       "2  TTHERM_00161840         1.011770         0.662679         0.000000   \n",
       "3  TTHERM_00161830         0.544702         2.106980         6.703985   \n",
       "4  TTHERM_00161790         3.790811         1.319153         3.812577   \n",
       "\n",
       "   TTHERM_00161830  TTHERM_00161790  TTHERM_00161780  TTHERM_000161759  \\\n",
       "0         0.544702         3.790811         0.072156          0.000000   \n",
       "1         2.106980         1.319153         0.000000          0.285196   \n",
       "2         6.703985         3.812577         0.000000          2.071413   \n",
       "3         0.000000         1.513556         0.000000          1.680607   \n",
       "4         1.513556         0.000000         0.000000          4.464332   \n",
       "\n",
       "   YF00000015.t1  TTHERM_00161750  ...  YF00038356.t1  YF00038359.t1  \\\n",
       "0       2.830599         0.000000  ...       0.000849       0.247060   \n",
       "1       0.000000         0.018998  ...       0.000000       3.250603   \n",
       "2       0.000000         2.330468  ...       2.817666       3.527004   \n",
       "3       0.562822         6.764740  ...       1.796626       1.439393   \n",
       "4       0.000000         0.125314  ...       2.467580       0.564686   \n",
       "\n",
       "   YF00038369.t1  TTHERM_01068130  YF00038374.t1  TTHERM_01082890  \\\n",
       "0       0.004260         2.553476       0.080188         0.000000   \n",
       "1       3.568258         0.908856       0.057345         0.048619   \n",
       "2       0.000000         4.432487       8.796609         0.000000   \n",
       "3       1.498757         2.880878       2.741864         0.801501   \n",
       "4       0.000000         4.384075       1.004587         0.000000   \n",
       "\n",
       "   YF00038376.t1  YF00038377.t1  TTHERM_000989489  YF00038707.t1  \n",
       "0       0.081121       0.000000          0.099867       4.388899  \n",
       "1       0.217558       1.786403          0.751179       0.000000  \n",
       "2       0.355199       1.059101          0.000000       0.981875  \n",
       "3       0.155717       0.676565          0.396551       0.039557  \n",
       "4       0.000000       0.000110          0.002090       3.042215  \n",
       "\n",
       "[5 rows x 19153 columns]"
      ]
     },
     "execution_count": 3,
     "metadata": {},
     "output_type": "execute_result"
    }
   ],
   "source": [
    "clr_df = pd.read_csv('./clr_network_for_distances_6.csv')\n",
    "clr_df.rename(columns={'Unnamed: 0':'TTHERM_ID'}, inplace=True)\n",
    "print(clr_df.shape)\n",
    "clr_df.head()"
   ]
  },
  {
   "cell_type": "code",
   "execution_count": 4,
   "metadata": {},
   "outputs": [
    {
     "data": {
      "text/plain": [
       "array([[0.        , 0.        , 1.0117703 , ..., 0.        , 0.09986675,\n",
       "        4.38889906],\n",
       "       [0.        , 0.        , 0.66267856, ..., 1.78640303, 0.75117937,\n",
       "        0.        ],\n",
       "       [1.0117703 , 0.66267856, 0.        , ..., 1.0591007 , 0.        ,\n",
       "        0.98187478],\n",
       "       ...,\n",
       "       [0.        , 1.78640303, 1.0591007 , ..., 0.        , 0.        ,\n",
       "        0.0452325 ],\n",
       "       [0.09986675, 0.75117937, 0.        , ..., 0.        , 0.        ,\n",
       "        0.        ],\n",
       "       [4.38889906, 0.        , 0.98187478, ..., 0.0452325 , 0.        ,\n",
       "        0.        ]])"
      ]
     },
     "execution_count": 4,
     "metadata": {},
     "output_type": "execute_result"
    }
   ],
   "source": [
    "zscore_arr = clr_df.loc[:,clr_df.columns[1:]].to_numpy()\n",
    "zscore_arr"
   ]
  },
  {
   "cell_type": "markdown",
   "metadata": {},
   "source": [
    "# My solution"
   ]
  },
  {
   "cell_type": "code",
   "execution_count": 5,
   "metadata": {},
   "outputs": [
    {
     "data": {
      "text/plain": [
       "array([[0.        , 0.        , 0.0025553 , ..., 0.        , 0.00025222,\n",
       "        0.0110845 ],\n",
       "       [0.        , 0.        , 0.00167365, ..., 0.0045117 , 0.00189716,\n",
       "        0.        ],\n",
       "       [0.0025553 , 0.00167365, 0.        , ..., 0.00267484, 0.        ,\n",
       "        0.0024798 ],\n",
       "       ...,\n",
       "       [0.        , 0.0045117 , 0.00267484, ..., 0.        , 0.        ,\n",
       "        0.00011424],\n",
       "       [0.00025222, 0.00189716, 0.        , ..., 0.        , 0.        ,\n",
       "        0.        ],\n",
       "       [0.0110845 , 0.        , 0.0024798 , ..., 0.00011424, 0.        ,\n",
       "        0.        ]])"
      ]
     },
     "execution_count": 5,
     "metadata": {},
     "output_type": "execute_result"
    }
   ],
   "source": [
    "scaled_zscore_arr = min_max_scale_2d_arr(zscore_arr)\n",
    "scaled_zscore_arr"
   ]
  },
  {
   "cell_type": "code",
   "execution_count": 6,
   "metadata": {},
   "outputs": [
    {
     "data": {
      "text/plain": [
       "2.220446049250313e-16"
      ]
     },
     "execution_count": 6,
     "metadata": {},
     "output_type": "execute_result"
    }
   ],
   "source": [
    "info = np.finfo(np.float64)\n",
    "smallest_float = info.eps\n",
    "smallest_float"
   ]
  },
  {
   "cell_type": "code",
   "execution_count": 7,
   "metadata": {},
   "outputs": [
    {
     "data": {
      "text/plain": [
       "array([[1.41421356, 1.41421356, 1.41240553, ..., 1.41421356, 1.4140352 ,\n",
       "        1.4063538 ],\n",
       "       [1.41421356, 1.41421356, 1.41302962, ..., 1.4110197 , 1.41287143,\n",
       "        1.41421356],\n",
       "       [1.41240553, 1.41302962, 1.41421356, ..., 1.4123209 , 1.41421356,\n",
       "        1.41245899],\n",
       "       ...,\n",
       "       [1.41421356, 1.4110197 , 1.4123209 , ..., 1.41421356, 1.41421356,\n",
       "        1.41413278],\n",
       "       [1.4140352 , 1.41287143, 1.41421356, ..., 1.41421356, 1.41421356,\n",
       "        1.41421356],\n",
       "       [1.4063538 , 1.41421356, 1.41245899, ..., 1.41413278, 1.41421356,\n",
       "        1.41421356]])"
      ]
     },
     "execution_count": 7,
     "metadata": {},
     "output_type": "execute_result"
    }
   ],
   "source": [
    "clr_dist_arr = np.sqrt(2 * (1 - scaled_zscore_arr)) + smallest_float # add smallest value possible to avoid zeros\n",
    "# I based this solution on these two resources:\n",
    "# https://medium.com/swlh/is-correlation-distance-a-metric-5a383973978f\n",
    "# https://stats.stackexchange.com/questions/165194/using-correlation-as-distance-metric-for-hierarchical-clustering\n",
    "clr_dist_arr"
   ]
  },
  {
   "cell_type": "code",
   "execution_count": 8,
   "metadata": {},
   "outputs": [],
   "source": [
    "np.fill_diagonal(clr_dist_arr, 0) # diagonal must be zeros for dist matrix"
   ]
  },
  {
   "cell_type": "markdown",
   "metadata": {},
   "source": [
    "# Your suggested solution"
   ]
  },
  {
   "cell_type": "code",
   "execution_count": 9,
   "metadata": {},
   "outputs": [],
   "source": [
    "# 1 / zscore for all zscores != zero\n",
    "# scale values linearly 0 to 1\n",
    "# assign 1s to idxs where original zscores == zero"
   ]
  },
  {
   "cell_type": "code",
   "execution_count": 10,
   "metadata": {},
   "outputs": [
    {
     "name": "stderr",
     "output_type": "stream",
     "text": [
      "<ipython-input-10-bd3c8ad16c2a>:2: RuntimeWarning: divide by zero encountered in true_divide\n",
      "  inverse_zscore_arr = 1 / zscore_arr\n"
     ]
    },
    {
     "data": {
      "text/plain": [
       "array([[-4.64807962e-20, -4.64807962e-20,  1.81434517e-17, ...,\n",
       "        -4.64807962e-20,  1.84239419e-16,  4.14683358e-18],\n",
       "       [-4.64807962e-20, -4.64807962e-20,  2.77257071e-17, ...,\n",
       "         1.02558044e-17,  2.44537040e-17, -4.64807962e-20],\n",
       "       [ 1.81434517e-17,  2.77257071e-17, -4.64807962e-20, ...,\n",
       "         1.73305576e-17, -4.64807962e-20,  1.86972875e-17],\n",
       "       ...,\n",
       "       [-4.64807962e-20,  1.02558044e-17,  1.73305576e-17, ...,\n",
       "        -4.64807962e-20, -4.64807962e-20,  4.06829856e-16],\n",
       "       [ 1.84239419e-16,  2.44537040e-17, -4.64807962e-20, ...,\n",
       "        -4.64807962e-20, -4.64807962e-20, -4.64807962e-20],\n",
       "       [ 4.14683358e-18, -4.64807962e-20,  1.86972875e-17, ...,\n",
       "         4.06829856e-16, -4.64807962e-20, -4.64807962e-20]])"
      ]
     },
     "execution_count": 10,
     "metadata": {},
     "output_type": "execute_result"
    }
   ],
   "source": [
    "zero_zscore_idxs = np.where(zscore_arr == 0)\n",
    "inverse_zscore_arr = 1 / zscore_arr\n",
    "\n",
    "scaled_inverse_zscore_arr = min_max_scale_2d_arr(inverse_zscore_arr)\n",
    "scaled_inverse_zscore_arr"
   ]
  },
  {
   "cell_type": "code",
   "execution_count": 11,
   "metadata": {},
   "outputs": [
    {
     "data": {
      "text/plain": [
       "array([[1.00000000e+00, 1.00000000e+00, 1.81434517e-17, ...,\n",
       "        1.00000000e+00, 1.84239419e-16, 4.14683358e-18],\n",
       "       [1.00000000e+00, 1.00000000e+00, 2.77257071e-17, ...,\n",
       "        1.02558044e-17, 2.44537040e-17, 1.00000000e+00],\n",
       "       [1.81434517e-17, 2.77257071e-17, 1.00000000e+00, ...,\n",
       "        1.73305576e-17, 1.00000000e+00, 1.86972875e-17],\n",
       "       ...,\n",
       "       [1.00000000e+00, 1.02558044e-17, 1.73305576e-17, ...,\n",
       "        1.00000000e+00, 1.00000000e+00, 4.06829856e-16],\n",
       "       [1.84239419e-16, 2.44537040e-17, 1.00000000e+00, ...,\n",
       "        1.00000000e+00, 1.00000000e+00, 1.00000000e+00],\n",
       "       [4.14683358e-18, 1.00000000e+00, 1.86972875e-17, ...,\n",
       "        4.06829856e-16, 1.00000000e+00, 1.00000000e+00]])"
      ]
     },
     "execution_count": 11,
     "metadata": {},
     "output_type": "execute_result"
    }
   ],
   "source": [
    "for idx in range(len(zero_zscore_idxs[0])):\n",
    "    scaled_inverse_zscore_arr[zero_zscore_idxs[0][idx]][zero_zscore_idxs[1][idx]] = 1\n",
    "scaled_inverse_zscore_arr"
   ]
  },
  {
   "cell_type": "code",
   "execution_count": 12,
   "metadata": {},
   "outputs": [
    {
     "data": {
      "text/plain": [
       "(array([2284, 2287]), array([2287, 2284]))"
      ]
     },
     "execution_count": 12,
     "metadata": {},
     "output_type": "execute_result"
    }
   ],
   "source": [
    "np.where(scaled_inverse_zscore_arr == 0) # once distance is still zero due to the min max scaling"
   ]
  },
  {
   "cell_type": "code",
   "execution_count": 13,
   "metadata": {},
   "outputs": [],
   "source": [
    "np.fill_diagonal(scaled_inverse_zscore_arr, 0) # diagonal must be zeros for dist matrix"
   ]
  }
 ],
 "metadata": {
  "kernelspec": {
   "display_name": "Python 3",
   "language": "python",
   "name": "python3"
  },
  "language_info": {
   "codemirror_mode": {
    "name": "ipython",
    "version": 3
   },
   "file_extension": ".py",
   "mimetype": "text/x-python",
   "name": "python",
   "nbconvert_exporter": "python",
   "pygments_lexer": "ipython3",
   "version": "3.9.9"
  }
 },
 "nbformat": 4,
 "nbformat_minor": 2
}

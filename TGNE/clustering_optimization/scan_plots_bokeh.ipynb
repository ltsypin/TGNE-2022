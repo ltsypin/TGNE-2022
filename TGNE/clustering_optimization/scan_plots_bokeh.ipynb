{
 "cells": [
  {
   "cell_type": "code",
   "execution_count": 1,
   "metadata": {},
   "outputs": [],
   "source": [
    "from bokeh.plotting import figure, show\n",
    "from bokeh.models import HoverTool\n",
    "from bokeh.models import Panel, Tabs, RangeSlider, CustomJS, Column, Row, ColumnDataSource, CategoricalColorMapper\n",
    "from bokeh.plotting import output_file, save\n",
    "\n",
    "from matplotlib.pyplot import show as show_static\n",
    "import matplotlib.pyplot as plt\n",
    "import pandas as pd\n",
    "import numpy as np\n",
    "import sys\n",
    "import distinctipy\n",
    "import glob\n",
    "\n",
    "sys.path.append('../../')\n",
    "from utils import dataframe_utils"
   ]
  },
  {
   "cell_type": "code",
   "execution_count": 2,
   "metadata": {},
   "outputs": [],
   "source": [
    "def csv_files_to_df(files: list):\n",
    "\n",
    "    combined_df = None\n",
    "\n",
    "    for f in files:\n",
    "\n",
    "        if combined_df is None:\n",
    "            combined_df = pd.read_csv(f)\n",
    "            continue\n",
    "\n",
    "        curr_df = pd.read_csv(f)\n",
    "\n",
    "        combined_df = pd.concat([combined_df, curr_df], ignore_index=True)\n",
    "\n",
    "    return combined_df"
   ]
  },
  {
   "cell_type": "code",
   "execution_count": 3,
   "metadata": {},
   "outputs": [],
   "source": [
    "def compute_fraction_clusters_enriched(row):\n",
    "    return row['nenriched_clusters'] / (row['nclusters'])"
   ]
  },
  {
   "cell_type": "code",
   "execution_count": 4,
   "metadata": {},
   "outputs": [],
   "source": [
    "def smallest_unit(number):\n",
    "    # Convert the number to a string to handle decimal places\n",
    "    num_str = str(number)\n",
    "    \n",
    "    # Find the position of the decimal point\n",
    "    decimal_pos = num_str.find('.')\n",
    "    \n",
    "    # If there's no decimal point, return 1 (for integers)\n",
    "    if decimal_pos == -1:\n",
    "        return 1\n",
    "    \n",
    "    # Calculate the length of the fractional part\n",
    "    fractional_length = len(num_str) - decimal_pos - 1\n",
    "    \n",
    "    # Calculate the smallest unit\n",
    "    smallest_unit = 10 ** (-fractional_length)\n",
    "    \n",
    "    return smallest_unit"
   ]
  },
  {
   "cell_type": "code",
   "execution_count": 5,
   "metadata": {},
   "outputs": [],
   "source": [
    "def rgb_to_hex(rgb):\n",
    "    \"\"\"\n",
    "    Convert RGB tuple to hexadecimal color code.\n",
    "    \"\"\"\n",
    "    return '#{:02x}{:02x}{:02x}'.format(int(rgb[0] * 255), int(rgb[1] * 255), int(rgb[2] * 255))"
   ]
  },
  {
   "cell_type": "code",
   "execution_count": 6,
   "metadata": {},
   "outputs": [],
   "source": [
    "def save_parameter_comparison_plot(df_stats: pd.DataFrame, metric_colors_dict: dict, out_file_name='clustering_analysis.html', bokeh_y='nenriched_clusters'):\n",
    "\n",
    "    df_stats.rename(columns={col: col.replace('.', '_') for col in df_stats.columns}, inplace=True)\n",
    "\n",
    "    # resource: https://malouche.github.io/notebooks/scatter_bokeh2.html\n",
    "    # PLOT 1\n",
    "\n",
    "    tabs = []\n",
    "\n",
    "    bokeh_data_dict = {}\n",
    "\n",
    "    bokeh_data_dict['METRIC COMPARISON: UNFILTERED'] = df_stats\n",
    "\n",
    "    filter_cols = [col for col in list(df_stats.columns) if isinstance(df_stats[col].values[0], (int, float, np.int64, np.float64))]\n",
    "\n",
    "    bokeh_data_dict['METRIC COMPARISON: FILTERED (10 < mean_cluster_size < 40) (10 < median_cluster_size < 40)'] = df_stats.loc[\n",
    "        # (df_stats['metric'] == 'cosine') &\n",
    "        # (df_stats['nns'] == 3) & \n",
    "        # (df_stats['parameter'] == 0.405) & \n",
    "\n",
    "        (df_stats['mean_cluster_size'] > 10) &\n",
    "        (df_stats['median_cluster_size'] > 10) &\n",
    "        (df_stats['mean_cluster_size'] < 40) &\n",
    "        (df_stats['median_cluster_size'] < 40) &\n",
    "        # (df_stats['nenriched_cluster_genes'] > 7000) &\n",
    "        # (df_stats['modularity'] > 0.4) &\n",
    "\n",
    "        (df_stats['dimensionality'] == 'baseline') &\n",
    "        (df_stats['graph'] == 'umap_fuzzy_simplicial_set') &\n",
    "        (df_stats['clustering'] == 'leiden_cpm') &\n",
    "        (df_stats['partition_type'] == 'EXP')\n",
    "    ]\n",
    "\n",
    "    bokeh_x = 'modularity'\n",
    "    bokeh_y = bokeh_y\n",
    "    # bokeh_y = 'fraction_clusters_enriched'\n",
    "    color_column = 'metric'  # Column to use for coloring the points\n",
    "\n",
    "    axis_padding = 0.05\n",
    "    x_min, x_max = df_stats[bokeh_x].min() - axis_padding * df_stats[bokeh_x].min(), df_stats[bokeh_x].max() + axis_padding * df_stats[bokeh_x].max()\n",
    "    y_min, y_max = df_stats[bokeh_y].min() - axis_padding * df_stats[bokeh_y].min(), df_stats[bokeh_y].max() + axis_padding * df_stats[bokeh_y].max()\n",
    "\n",
    "    for tab_name, bokeh_df in bokeh_data_dict.items():\n",
    "\n",
    "        p = figure(plot_width=1000, plot_height=800, title='HOVER OVER POINTS TO SHOW DATA. CLICK ON METRICS IN THE LEGEND TO HIDE THEM.', sizing_mode='stretch_both', x_range=(x_min, x_max), y_range=(y_min, y_max))\n",
    "\n",
    "        for val in sorted(bokeh_df[color_column].unique()):\n",
    "            col_df=bokeh_df.loc[(bokeh_df[color_column]==val)]\n",
    "            p.scatter(bokeh_x, bokeh_y, size=3, color=metric_colors_dict[val], legend_label=val, source=col_df)\n",
    "\n",
    "        tooltips = []\n",
    "        for column in col_df.columns:\n",
    "            tooltip = (column.replace('_', ' ').title(), f'@{column}')\n",
    "            tooltips.append(tooltip)\n",
    "\n",
    "        hover = HoverTool(tooltips=tooltips)\n",
    "\n",
    "        p.add_tools(hover)\n",
    "\n",
    "        p.legend.click_policy=\"hide\"\n",
    "        p.legend.location = \"bottom_left\"\n",
    "\n",
    "        p.xaxis.axis_label = bokeh_x\n",
    "        p.yaxis.axis_label = bokeh_y\n",
    "\n",
    "        p.min_border = 100\n",
    "\n",
    "        tabs.append(Panel(child=p, title=tab_name))\n",
    "\n",
    "    plot_tabs1 = [t for t in tabs]\n",
    "\n",
    "\n",
    "    # PLOT 2\n",
    "\n",
    "    tabs = []\n",
    "\n",
    "    bokeh_data_dict = {}\n",
    "\n",
    "    bokeh_data_dict['DYNAMIC FILTERING: UNFILTERED'] = df_stats\n",
    "\n",
    "    filter_cols = [col for col in list(df_stats.columns) if isinstance(df_stats[col].values[0], (int, float, np.int64, np.float64))]\n",
    "\n",
    "    bokeh_data_dict['DYNAMIC FILTERING: FILTERED (10 < mean_cluster_size < 40) (10 < median_cluster_size < 40)'] = df_stats.loc[\n",
    "        # (df_stats['metric'] == 'cosine') &\n",
    "        # (df_stats['nns'] == 3) & \n",
    "        # (df_stats['parameter'] == 0.405) & \n",
    "\n",
    "        (df_stats['mean_cluster_size'] > 10) &\n",
    "        (df_stats['median_cluster_size'] > 10) &\n",
    "        (df_stats['mean_cluster_size'] < 40) &\n",
    "        (df_stats['median_cluster_size'] < 40) &\n",
    "        # (df_stats['nenriched_cluster_genes'] > 7000) &\n",
    "        # (df_stats['modularity'] > 0.4) &\n",
    "\n",
    "        (df_stats['dimensionality'] == 'baseline') &\n",
    "        (df_stats['graph'] == 'umap_fuzzy_simplicial_set') &\n",
    "        (df_stats['clustering'] == 'leiden_cpm') &\n",
    "        (df_stats['partition_type'] == 'EXP')\n",
    "    ]\n",
    "\n",
    "    bokeh_x = 'modularity'\n",
    "    bokeh_y = bokeh_y\n",
    "    # bokeh_y = 'fraction_clusters_enriched'\n",
    "    color_column = 'metric'  # Column to use for coloring the points\n",
    "\n",
    "    axis_padding = 0.05\n",
    "    x_min, x_max = df_stats[bokeh_x].min() - axis_padding * df_stats[bokeh_x].min(), df_stats[bokeh_x].max() + axis_padding * df_stats[bokeh_x].max()\n",
    "    y_min, y_max = df_stats[bokeh_y].min() - axis_padding * df_stats[bokeh_y].min(), df_stats[bokeh_y].max() + axis_padding * df_stats[bokeh_y].max()\n",
    "\n",
    "    color_mapper = CategoricalColorMapper(factors=list(metric_colors_dict.keys()), palette=list(metric_colors_dict.values()))\n",
    "\n",
    "    for tab_name, bokeh_df in bokeh_data_dict.items():\n",
    "\n",
    "        bokeh_data_source = ColumnDataSource(bokeh_df)\n",
    "\n",
    "        sliders = {}\n",
    "\n",
    "\n",
    "        for variable in filter_cols:\n",
    "\n",
    "            slider_start = bokeh_df[variable].min()\n",
    "            slider_end = bokeh_df[variable].max()\n",
    "\n",
    "            if slider_start == slider_end:\n",
    "                slider_end += smallest_unit(slider_end)\n",
    "            \n",
    "            sliders[variable] = RangeSlider(start=slider_start,\n",
    "                                                end=slider_end,\n",
    "                                                value=(slider_start, slider_end),\n",
    "                                                step=smallest_unit(bokeh_df[variable].max()),\n",
    "                                                title=f\"{variable} range\")\n",
    "\n",
    "\n",
    "        p = figure(plot_width=1000, plot_height=800, title='HOVER OVER POINTS TO SHOW DATA. USE THE SLIDERS TO FILTER THE PARTITIONS.', sizing_mode='stretch_both', x_range=(x_min, x_max), y_range=(y_min, y_max))\n",
    "\n",
    "        p.circle(\n",
    "                x=bokeh_x,\n",
    "                y=bokeh_y,\n",
    "                source=bokeh_data_source,\n",
    "                color={'field': color_column, 'transform': color_mapper},\n",
    "                size=5,\n",
    "                alpha=1,\n",
    "                line_color='black'\n",
    "            )\n",
    "\n",
    "        callback = CustomJS(args=dict(source=bokeh_data_source, sliders=sliders), code=\"\"\"\n",
    "            const data = source.data;\n",
    "            const indices = [];\n",
    "            const variables = Object.keys(sliders);\n",
    "            \n",
    "            for (let i = 0; i < data['index'].length; i++) {\n",
    "                let include = true;\n",
    "                \n",
    "                for (const variable of variables) {\n",
    "                    const slider_range = sliders[variable].value;\n",
    "                    const value = data[variable][i];\n",
    "                    \n",
    "                    if (value < slider_range[0] || value > slider_range[1]) {\n",
    "                        include = false;\n",
    "                        break;\n",
    "                    }\n",
    "                }\n",
    "                \n",
    "                if (include) {\n",
    "                    indices.push(i);\n",
    "                }\n",
    "            }\n",
    "            \n",
    "            source.selected.indices = indices;\n",
    "            source.change.emit();\n",
    "        \"\"\")\n",
    "\n",
    "        # Attach the callback to all sliders\n",
    "        for slider in sliders.values():\n",
    "            slider.js_on_change('value', callback)\n",
    "\n",
    "        # Add all sliders to a layout\n",
    "        slider_layout = Column(*sliders.values())\n",
    "\n",
    "        tooltips = []\n",
    "        for column in bokeh_df.columns:\n",
    "            tooltip = (column.replace('_', ' ').title(), f'@{column}')\n",
    "            tooltips.append(tooltip)\n",
    "\n",
    "        hover = HoverTool(tooltips=tooltips)\n",
    "\n",
    "        p.add_tools(hover)\n",
    "\n",
    "        # p.legend.click_policy=\"hide\"\n",
    "        # p.legend.location = \"bottom_left\"\n",
    "\n",
    "        p.xaxis.axis_label = bokeh_x\n",
    "        p.yaxis.axis_label = bokeh_y\n",
    "\n",
    "        p.min_border = 100\n",
    "\n",
    "        slider_layout.margin = 100\n",
    "\n",
    "        layout = Row(p, slider_layout)\n",
    "\n",
    "        tabs.append(Panel(child=layout, title=tab_name))\n",
    "\n",
    "    plot_tabs2 = [t for t in tabs]\n",
    "\n",
    "    # SAVE PLOTS\n",
    "\n",
    "    tabbed_plot = Tabs(tabs=(plot_tabs1 + plot_tabs2))\n",
    "\n",
    "    output_file(f'./{out_file_name}')\n",
    "\n",
    "    save(tabbed_plot)"
   ]
  },
  {
   "cell_type": "code",
   "execution_count": 7,
   "metadata": {},
   "outputs": [],
   "source": [
    "microarray_data_pattern = './microarray/*'\n",
    "\n",
    "rna_seq_data_pattern = './rna_seq/*'\n",
    "\n",
    "microarray_stats_files = glob.glob(microarray_data_pattern)\n",
    "\n",
    "rna_seq_stats_files = glob.glob(rna_seq_data_pattern)\n",
    "\n",
    "microarray_stats_df = csv_files_to_df(microarray_stats_files)\n",
    "\n",
    "rna_seq_stats_df = csv_files_to_df(rna_seq_stats_files)"
   ]
  },
  {
   "cell_type": "code",
   "execution_count": 8,
   "metadata": {},
   "outputs": [],
   "source": [
    "microarray_stats_df['fraction_clusters_enriched'] = microarray_stats_df.apply(compute_fraction_clusters_enriched, axis=1)"
   ]
  },
  {
   "cell_type": "code",
   "execution_count": 9,
   "metadata": {},
   "outputs": [
    {
     "data": {
      "text/plain": [
       "array(['manhattan', 'correlation', 'l1', 'hamming', 'braycurtis',\n",
       "       'minkowski_5.0', 'minkowski_0.5', 'minkowski_4.0', 'angular',\n",
       "       'minkowski_3.0', 'minkowski_2.0', 'nan_euclidean', 'canberra',\n",
       "       'seuclidean', 'euclidean', 'matching', 'cityblock',\n",
       "       'minkowski_1.0', 'chebyshev', 'sqeuclidean', 'cosine', 'l2'],\n",
       "      dtype=object)"
      ]
     },
     "execution_count": 9,
     "metadata": {},
     "output_type": "execute_result"
    }
   ],
   "source": [
    "microarray_stats_df['metric'].unique()"
   ]
  },
  {
   "cell_type": "code",
   "execution_count": 10,
   "metadata": {},
   "outputs": [
    {
     "data": {
      "text/plain": [
       "Index(['partition_type', 'dimensionality', 'metric', 'graph', 'nns',\n",
       "       'clustering', 'parameter', 'silhouette_score', 'modularity',\n",
       "       'nclusters', 'mean_cluster_size', 'median_cluster_size',\n",
       "       'sd_cluster_size', 'max_cluster_size', 'min_cluster_size', 'ngenes',\n",
       "       'nenriched_clusters', 'mean_enriched_cluster_size',\n",
       "       'median_enriched_cluster_size', 'sd_enriched_cluster_size',\n",
       "       'max_enriched_cluster_size', 'min_enriched_cluster_size',\n",
       "       'nenriched_cluster_genes', 'datetime',\n",
       "       'max_fraction_same_cluster_MCMsubset.tsv',\n",
       "       'max_fraction_same_cluster_ProteosomeSubset.tsv',\n",
       "       'max_fraction_same_cluster_Histone_subset.tsv',\n",
       "       'max_fraction_same_cluster_MucocystSubsets.tsv',\n",
       "       'max_fraction_same_cluster_RibosomalSubset.tsv',\n",
       "       'fraction_clusters_enriched'],\n",
       "      dtype='object')"
      ]
     },
     "execution_count": 10,
     "metadata": {},
     "output_type": "execute_result"
    }
   ],
   "source": [
    "microarray_stats_df.columns"
   ]
  },
  {
   "cell_type": "code",
   "execution_count": 11,
   "metadata": {},
   "outputs": [
    {
     "data": {
      "text/plain": [
       "{'partition_type': str,\n",
       " 'dimensionality': str,\n",
       " 'metric': str,\n",
       " 'graph': str,\n",
       " 'nns': numpy.int64,\n",
       " 'clustering': str,\n",
       " 'parameter': numpy.float64,\n",
       " 'silhouette_score': numpy.float64,\n",
       " 'modularity': numpy.float64,\n",
       " 'nclusters': numpy.int64,\n",
       " 'mean_cluster_size': numpy.float64,\n",
       " 'median_cluster_size': numpy.float64,\n",
       " 'sd_cluster_size': numpy.float64,\n",
       " 'max_cluster_size': numpy.int64,\n",
       " 'min_cluster_size': numpy.int64,\n",
       " 'ngenes': numpy.int64,\n",
       " 'nenriched_clusters': numpy.int64,\n",
       " 'mean_enriched_cluster_size': numpy.float64,\n",
       " 'median_enriched_cluster_size': numpy.float64,\n",
       " 'sd_enriched_cluster_size': numpy.float64,\n",
       " 'max_enriched_cluster_size': numpy.float64,\n",
       " 'min_enriched_cluster_size': numpy.float64,\n",
       " 'nenriched_cluster_genes': numpy.int64,\n",
       " 'datetime': str,\n",
       " 'max_fraction_same_cluster_MCMsubset.tsv': numpy.float64,\n",
       " 'max_fraction_same_cluster_ProteosomeSubset.tsv': numpy.float64,\n",
       " 'max_fraction_same_cluster_Histone_subset.tsv': numpy.float64,\n",
       " 'max_fraction_same_cluster_MucocystSubsets.tsv': numpy.float64,\n",
       " 'max_fraction_same_cluster_RibosomalSubset.tsv': numpy.float64,\n",
       " 'fraction_clusters_enriched': numpy.float64}"
      ]
     },
     "execution_count": 11,
     "metadata": {},
     "output_type": "execute_result"
    }
   ],
   "source": [
    "{col: type(microarray_stats_df[col].values[0]) for col in list(microarray_stats_df.columns)}"
   ]
  },
  {
   "cell_type": "code",
   "execution_count": 12,
   "metadata": {},
   "outputs": [
    {
     "data": {
      "text/plain": [
       "['nns',\n",
       " 'parameter',\n",
       " 'silhouette_score',\n",
       " 'modularity',\n",
       " 'nclusters',\n",
       " 'mean_cluster_size',\n",
       " 'median_cluster_size',\n",
       " 'sd_cluster_size',\n",
       " 'max_cluster_size',\n",
       " 'min_cluster_size',\n",
       " 'ngenes',\n",
       " 'nenriched_clusters',\n",
       " 'mean_enriched_cluster_size',\n",
       " 'median_enriched_cluster_size',\n",
       " 'sd_enriched_cluster_size',\n",
       " 'max_enriched_cluster_size',\n",
       " 'min_enriched_cluster_size',\n",
       " 'nenriched_cluster_genes',\n",
       " 'max_fraction_same_cluster_MCMsubset.tsv',\n",
       " 'max_fraction_same_cluster_ProteosomeSubset.tsv',\n",
       " 'max_fraction_same_cluster_Histone_subset.tsv',\n",
       " 'max_fraction_same_cluster_MucocystSubsets.tsv',\n",
       " 'max_fraction_same_cluster_RibosomalSubset.tsv',\n",
       " 'fraction_clusters_enriched']"
      ]
     },
     "execution_count": 12,
     "metadata": {},
     "output_type": "execute_result"
    }
   ],
   "source": [
    "[col for col in list(microarray_stats_df.columns) if isinstance(microarray_stats_df[col].values[0], (int, float, np.int64, np.float64))]"
   ]
  },
  {
   "cell_type": "code",
   "execution_count": 13,
   "metadata": {},
   "outputs": [],
   "source": [
    "rna_seq_stats_df['fraction_clusters_enriched'] = rna_seq_stats_df.apply(compute_fraction_clusters_enriched, axis=1)"
   ]
  },
  {
   "cell_type": "code",
   "execution_count": 14,
   "metadata": {},
   "outputs": [
    {
     "data": {
      "text/plain": [
       "array(['minkowski_4.0', 'minkowski_5.0', 'matching', 'cityblock', 'l1',\n",
       "       'cosine', 'l2', 'canberra', 'seuclidean', 'correlation', 'angular',\n",
       "       'minkowski_3.0', 'braycurtis', 'hamming', 'manhattan', 'euclidean',\n",
       "       'nan_euclidean', 'chebyshev', 'sqeuclidean', 'minkowski_0.5',\n",
       "       'minkowski_2.0', 'minkowski_1.0'], dtype=object)"
      ]
     },
     "execution_count": 14,
     "metadata": {},
     "output_type": "execute_result"
    }
   ],
   "source": [
    "rna_seq_stats_df['metric'].unique()"
   ]
  },
  {
   "cell_type": "code",
   "execution_count": 15,
   "metadata": {},
   "outputs": [
    {
     "data": {
      "text/plain": [
       "Index(['partition_type', 'dimensionality', 'metric', 'graph', 'nns',\n",
       "       'clustering', 'parameter', 'silhouette_score', 'modularity',\n",
       "       'nclusters', 'mean_cluster_size', 'median_cluster_size',\n",
       "       'sd_cluster_size', 'max_cluster_size', 'min_cluster_size', 'ngenes',\n",
       "       'nenriched_clusters', 'mean_enriched_cluster_size',\n",
       "       'median_enriched_cluster_size', 'sd_enriched_cluster_size',\n",
       "       'max_enriched_cluster_size', 'min_enriched_cluster_size',\n",
       "       'nenriched_cluster_genes', 'datetime',\n",
       "       'max_fraction_same_cluster_MCMsubset.tsv',\n",
       "       'max_fraction_same_cluster_ProteosomeSubset.tsv',\n",
       "       'max_fraction_same_cluster_Histone_subset.tsv',\n",
       "       'max_fraction_same_cluster_MucocystSubsets.tsv',\n",
       "       'max_fraction_same_cluster_RibosomalSubset.tsv',\n",
       "       'fraction_clusters_enriched'],\n",
       "      dtype='object')"
      ]
     },
     "execution_count": 15,
     "metadata": {},
     "output_type": "execute_result"
    }
   ],
   "source": [
    "rna_seq_stats_df.columns"
   ]
  },
  {
   "cell_type": "code",
   "execution_count": 16,
   "metadata": {},
   "outputs": [
    {
     "data": {
      "text/plain": [
       "{'partition_type': str,\n",
       " 'dimensionality': str,\n",
       " 'metric': str,\n",
       " 'graph': str,\n",
       " 'nns': numpy.int64,\n",
       " 'clustering': str,\n",
       " 'parameter': numpy.float64,\n",
       " 'silhouette_score': numpy.float64,\n",
       " 'modularity': numpy.float64,\n",
       " 'nclusters': numpy.int64,\n",
       " 'mean_cluster_size': numpy.float64,\n",
       " 'median_cluster_size': numpy.float64,\n",
       " 'sd_cluster_size': numpy.float64,\n",
       " 'max_cluster_size': numpy.int64,\n",
       " 'min_cluster_size': numpy.int64,\n",
       " 'ngenes': numpy.int64,\n",
       " 'nenriched_clusters': numpy.int64,\n",
       " 'mean_enriched_cluster_size': numpy.float64,\n",
       " 'median_enriched_cluster_size': numpy.float64,\n",
       " 'sd_enriched_cluster_size': numpy.float64,\n",
       " 'max_enriched_cluster_size': numpy.int64,\n",
       " 'min_enriched_cluster_size': numpy.int64,\n",
       " 'nenriched_cluster_genes': numpy.int64,\n",
       " 'datetime': str,\n",
       " 'max_fraction_same_cluster_MCMsubset.tsv': numpy.float64,\n",
       " 'max_fraction_same_cluster_ProteosomeSubset.tsv': numpy.float64,\n",
       " 'max_fraction_same_cluster_Histone_subset.tsv': numpy.float64,\n",
       " 'max_fraction_same_cluster_MucocystSubsets.tsv': numpy.float64,\n",
       " 'max_fraction_same_cluster_RibosomalSubset.tsv': numpy.float64,\n",
       " 'fraction_clusters_enriched': numpy.float64}"
      ]
     },
     "execution_count": 16,
     "metadata": {},
     "output_type": "execute_result"
    }
   ],
   "source": [
    "{col: type(rna_seq_stats_df[col].values[0]) for col in list(rna_seq_stats_df.columns)}"
   ]
  },
  {
   "cell_type": "code",
   "execution_count": 17,
   "metadata": {},
   "outputs": [
    {
     "data": {
      "text/plain": [
       "['nns',\n",
       " 'parameter',\n",
       " 'silhouette_score',\n",
       " 'modularity',\n",
       " 'nclusters',\n",
       " 'mean_cluster_size',\n",
       " 'median_cluster_size',\n",
       " 'sd_cluster_size',\n",
       " 'max_cluster_size',\n",
       " 'min_cluster_size',\n",
       " 'ngenes',\n",
       " 'nenriched_clusters',\n",
       " 'mean_enriched_cluster_size',\n",
       " 'median_enriched_cluster_size',\n",
       " 'sd_enriched_cluster_size',\n",
       " 'max_enriched_cluster_size',\n",
       " 'min_enriched_cluster_size',\n",
       " 'nenriched_cluster_genes',\n",
       " 'max_fraction_same_cluster_MCMsubset.tsv',\n",
       " 'max_fraction_same_cluster_ProteosomeSubset.tsv',\n",
       " 'max_fraction_same_cluster_Histone_subset.tsv',\n",
       " 'max_fraction_same_cluster_MucocystSubsets.tsv',\n",
       " 'max_fraction_same_cluster_RibosomalSubset.tsv',\n",
       " 'fraction_clusters_enriched']"
      ]
     },
     "execution_count": 17,
     "metadata": {},
     "output_type": "execute_result"
    }
   ],
   "source": [
    "[col for col in list(rna_seq_stats_df.columns) if isinstance(rna_seq_stats_df[col].values[0], (int, float, np.int64, np.float64))]"
   ]
  },
  {
   "cell_type": "code",
   "execution_count": 18,
   "metadata": {},
   "outputs": [
    {
     "data": {
      "text/plain": [
       "(22, 22)"
      ]
     },
     "execution_count": 18,
     "metadata": {},
     "output_type": "execute_result"
    }
   ],
   "source": [
    "len(rna_seq_stats_df['metric'].unique()), len(microarray_stats_df['metric'].unique())"
   ]
  },
  {
   "cell_type": "code",
   "execution_count": 19,
   "metadata": {},
   "outputs": [
    {
     "data": {
      "image/png": "[encoded data removed]",
      "text/plain": [
       "<Figure size 576x576 with 1 Axes>"
      ]
     },
     "metadata": {
      "needs_background": "light"
     },
     "output_type": "display_data"
    }
   ],
   "source": [
    "num_colors = len(rna_seq_stats_df['metric'].unique())\n",
    "colors = distinctipy.get_colors(num_colors)\n",
    "distinctipy.color_swatch(colors)\n",
    "metric_colors_dict = {m : rgb_to_hex(colors[idx]) for idx, m in enumerate(rna_seq_stats_df['metric'].unique())}"
   ]
  },
  {
   "cell_type": "code",
   "execution_count": 20,
   "metadata": {},
   "outputs": [],
   "source": [
    "save_parameter_comparison_plot(microarray_stats_df, metric_colors_dict=metric_colors_dict, out_file_name='microarray_stats_plot.html')\n",
    "save_parameter_comparison_plot(rna_seq_stats_df, metric_colors_dict=metric_colors_dict, out_file_name='rna_seq_stats_plot.html')"
   ]
  },
  {
   "cell_type": "code",
   "execution_count": 21,
   "metadata": {},
   "outputs": [],
   "source": [
    "save_parameter_comparison_plot(microarray_stats_df, metric_colors_dict=metric_colors_dict, out_file_name='microarray_stats_plot_fract.html', bokeh_y='fraction_clusters_enriched')\n",
    "save_parameter_comparison_plot(rna_seq_stats_df, metric_colors_dict=metric_colors_dict, out_file_name='rna_seq_stats_plot_fract.html', bokeh_y='fraction_clusters_enriched')"
   ]
  }
 ],
 "metadata": {
  "kernelspec": {
   "display_name": "cdh2_bokeh.env",
   "language": "python",
   "name": "python3"
  },
  "language_info": {
   "codemirror_mode": {
    "name": "ipython",
    "version": 3
   },
   "file_extension": ".py",
   "mimetype": "text/x-python",
   "name": "python",
   "nbconvert_exporter": "python",
   "pygments_lexer": "ipython3",
   "version": "3.9.9"
  }
 },
 "nbformat": 4,
 "nbformat_minor": 2
}

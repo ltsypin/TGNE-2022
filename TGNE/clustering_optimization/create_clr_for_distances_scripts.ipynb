{
 "cells": [
  {
   "cell_type": "code",
   "execution_count": 1,
   "metadata": {},
   "outputs": [],
   "source": [
    "import numpy as np"
   ]
  },
  {
   "cell_type": "code",
   "execution_count": 2,
   "metadata": {},
   "outputs": [],
   "source": [
    "datasets = {'microarray' : '../microarray_probe_alignment_and_filtering/allgood_filt_agg_tidy_2021aligned_qc_rma_expression_full.csv',\n",
    "            'rna_seq': '../../active_fastas/rna_seq.csv'}"
   ]
  },
  {
   "cell_type": "code",
   "execution_count": 3,
   "metadata": {},
   "outputs": [
    {
     "name": "stdout",
     "output_type": "stream",
     "text": [
      "arch -x86_64 /Users/michaelbertagna/anaconda3/envs/cdh2_r.env/lib/R/bin/Rscript -e \"rmarkdown::render('TGNE/clustering_optimization/microarray_clr_for_distances_02nn.Rmd')\"\n",
      "\n",
      "arch -x86_64 /Users/michaelbertagna/anaconda3/envs/cdh2_r.env/lib/R/bin/Rscript -e \"rmarkdown::render('TGNE/clustering_optimization/microarray_clr_for_distances_03nn.Rmd')\"\n",
      "\n",
      "arch -x86_64 /Users/michaelbertagna/anaconda3/envs/cdh2_r.env/lib/R/bin/Rscript -e \"rmarkdown::render('TGNE/clustering_optimization/microarray_clr_for_distances_04nn.Rmd')\"\n",
      "\n",
      "arch -x86_64 /Users/michaelbertagna/anaconda3/envs/cdh2_r.env/lib/R/bin/Rscript -e \"rmarkdown::render('TGNE/clustering_optimization/microarray_clr_for_distances_05nn.Rmd')\"\n",
      "\n",
      "arch -x86_64 /Users/michaelbertagna/anaconda3/envs/cdh2_r.env/lib/R/bin/Rscript -e \"rmarkdown::render('TGNE/clustering_optimization/microarray_clr_for_distances_06nn.Rmd')\"\n",
      "\n",
      "arch -x86_64 /Users/michaelbertagna/anaconda3/envs/cdh2_r.env/lib/R/bin/Rscript -e \"rmarkdown::render('TGNE/clustering_optimization/microarray_clr_for_distances_07nn.Rmd')\"\n",
      "\n",
      "arch -x86_64 /Users/michaelbertagna/anaconda3/envs/cdh2_r.env/lib/R/bin/Rscript -e \"rmarkdown::render('TGNE/clustering_optimization/microarray_clr_for_distances_08nn.Rmd')\"\n",
      "\n",
      "arch -x86_64 /Users/michaelbertagna/anaconda3/envs/cdh2_r.env/lib/R/bin/Rscript -e \"rmarkdown::render('TGNE/clustering_optimization/microarray_clr_for_distances_09nn.Rmd')\"\n",
      "\n",
      "arch -x86_64 /Users/michaelbertagna/anaconda3/envs/cdh2_r.env/lib/R/bin/Rscript -e \"rmarkdown::render('TGNE/clustering_optimization/microarray_clr_for_distances_10nn.Rmd')\"\n",
      "\n",
      "arch -x86_64 /Users/michaelbertagna/anaconda3/envs/cdh2_r.env/lib/R/bin/Rscript -e \"rmarkdown::render('TGNE/clustering_optimization/microarray_clr_for_distances_11nn.Rmd')\"\n",
      "\n",
      "arch -x86_64 /Users/michaelbertagna/anaconda3/envs/cdh2_r.env/lib/R/bin/Rscript -e \"rmarkdown::render('TGNE/clustering_optimization/microarray_clr_for_distances_12nn.Rmd')\"\n",
      "\n",
      "arch -x86_64 /Users/michaelbertagna/anaconda3/envs/cdh2_r.env/lib/R/bin/Rscript -e \"rmarkdown::render('TGNE/clustering_optimization/rna_seq_clr_for_distances_02nn.Rmd')\"\n",
      "\n",
      "arch -x86_64 /Users/michaelbertagna/anaconda3/envs/cdh2_r.env/lib/R/bin/Rscript -e \"rmarkdown::render('TGNE/clustering_optimization/rna_seq_clr_for_distances_03nn.Rmd')\"\n",
      "\n",
      "arch -x86_64 /Users/michaelbertagna/anaconda3/envs/cdh2_r.env/lib/R/bin/Rscript -e \"rmarkdown::render('TGNE/clustering_optimization/rna_seq_clr_for_distances_04nn.Rmd')\"\n",
      "\n",
      "arch -x86_64 /Users/michaelbertagna/anaconda3/envs/cdh2_r.env/lib/R/bin/Rscript -e \"rmarkdown::render('TGNE/clustering_optimization/rna_seq_clr_for_distances_05nn.Rmd')\"\n",
      "\n",
      "arch -x86_64 /Users/michaelbertagna/anaconda3/envs/cdh2_r.env/lib/R/bin/Rscript -e \"rmarkdown::render('TGNE/clustering_optimization/rna_seq_clr_for_distances_06nn.Rmd')\"\n",
      "\n",
      "arch -x86_64 /Users/michaelbertagna/anaconda3/envs/cdh2_r.env/lib/R/bin/Rscript -e \"rmarkdown::render('TGNE/clustering_optimization/rna_seq_clr_for_distances_07nn.Rmd')\"\n",
      "\n",
      "arch -x86_64 /Users/michaelbertagna/anaconda3/envs/cdh2_r.env/lib/R/bin/Rscript -e \"rmarkdown::render('TGNE/clustering_optimization/rna_seq_clr_for_distances_08nn.Rmd')\"\n",
      "\n",
      "arch -x86_64 /Users/michaelbertagna/anaconda3/envs/cdh2_r.env/lib/R/bin/Rscript -e \"rmarkdown::render('TGNE/clustering_optimization/rna_seq_clr_for_distances_09nn.Rmd')\"\n",
      "\n",
      "arch -x86_64 /Users/michaelbertagna/anaconda3/envs/cdh2_r.env/lib/R/bin/Rscript -e \"rmarkdown::render('TGNE/clustering_optimization/rna_seq_clr_for_distances_10nn.Rmd')\"\n",
      "\n",
      "arch -x86_64 /Users/michaelbertagna/anaconda3/envs/cdh2_r.env/lib/R/bin/Rscript -e \"rmarkdown::render('TGNE/clustering_optimization/rna_seq_clr_for_distances_11nn.Rmd')\"\n",
      "\n",
      "arch -x86_64 /Users/michaelbertagna/anaconda3/envs/cdh2_r.env/lib/R/bin/Rscript -e \"rmarkdown::render('TGNE/clustering_optimization/rna_seq_clr_for_distances_12nn.Rmd')\"\n",
      "\n"
     ]
    }
   ],
   "source": [
    "for dataset, dataset_path in datasets.items():\n",
    "    for nn in np.arange(2,13):\n",
    "        rmd_file_str = f'''---\n",
    "title: \"clr_for_distances\"\n",
    "author: \"Michael Bertagna\"\n",
    "date: \"2024-02-02\"\n",
    "output: html_document\n",
    "---\n",
    "\n",
    "```{{r setup, include=FALSE}}\n",
    "knitr::opts_chunk$set(echo = TRUE)\n",
    "```\n",
    "\n",
    "```{{r}}\n",
    "setwd(\"~/git/TGNE-2022/TGNE/clustering_optimization\")\n",
    "library(parmigene)\n",
    "Sys.getenv(\"OMP_NUM_THREADS\")\n",
    "```\n",
    "\n",
    "IMPORT THE FILTERED DATA AS A DATAFRAME AND TAKE THE TRANSPOSE\n",
    "\n",
    "```{{r}}\n",
    "data <- read.csv(\"{dataset_path}\", header = TRUE, row.names = 1)\n",
    "\n",
    "nn <- {nn}\n",
    "\n",
    "data_knn <- knnmi.all(data, k=nn)\n",
    "```\n",
    "\n",
    "BUILD THE NETWORK\n",
    "\n",
    "```{{r}}\n",
    "clr_network <- clr(data_knn)\n",
    "```\n",
    "\n",
    "```{{r}}\n",
    "write.csv(as.data.frame(clr_network), file = paste('./{dataset}_clr_networks/clr_network_for_distances_', nn, '.csv', sep = ''), row.names = TRUE)\n",
    "```\n",
    "'''\n",
    "        file_name = f'./{dataset}_clr_for_distances_{str(nn).zfill(2)}nn.Rmd'\n",
    "        with open(file_name, 'w') as f:\n",
    "            f.write(rmd_file_str)\n",
    "            print(f'arch -x86_64 /Users/michaelbertagna/anaconda3/envs/cdh2_r.env/lib/R/bin/Rscript -e \\\"rmarkdown::render(\\'TGNE/clustering_optimization/{file_name.replace(\"./\", \"\")}\\')\\\"')\n",
    "            print()"
   ]
  }
 ],
 "metadata": {
  "kernelspec": {
   "display_name": "Python 3",
   "language": "python",
   "name": "python3"
  },
  "language_info": {
   "codemirror_mode": {
    "name": "ipython",
    "version": 3
   },
   "file_extension": ".py",
   "mimetype": "text/x-python",
   "name": "python",
   "nbconvert_exporter": "python",
   "pygments_lexer": "ipython3",
   "version": "3.9.9"
  }
 },
 "nbformat": 4,
 "nbformat_minor": 2
}

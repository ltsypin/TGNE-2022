{
 "cells": [
  {
   "cell_type": "code",
   "execution_count": 3,
   "metadata": {},
   "outputs": [],
   "source": [
    "import numpy as np"
   ]
  },
  {
   "cell_type": "code",
   "execution_count": 4,
   "metadata": {},
   "outputs": [],
   "source": [
    "for nn in np.arange(2,13):\n",
    "    rmd_file_str = f'''---\n",
    "title: \"clr_for_distances\"\n",
    "author: \"Michael Bertagna\"\n",
    "date: \"2024-02-02\"\n",
    "output: html_document\n",
    "---\n",
    "\n",
    "```{{r setup, include=FALSE}}\n",
    "knitr::opts_chunk$set(echo = TRUE)\n",
    "```\n",
    "\n",
    "```{{r}}\n",
    "setwd(\"~/git/TGNE-2022/TGNE/clustering_optimization\")\n",
    "library(parmigene)\n",
    "Sys.getenv(\"OMP_NUM_THREADS\")\n",
    "```\n",
    "\n",
    "IMPORT THE FILTERED DATA AS A DATAFRAME AND TAKE THE TRANSPOSE\n",
    "\n",
    "```{{r}}\n",
    "data <- read.csv(\"../microarray_probe_alignment_and_filtering/allgood_filt_agg_tidy_2021aligned_qc_rma_expression_full.csv\", header = TRUE, row.names = 1)\n",
    "\n",
    "nn <- {nn}\n",
    "\n",
    "data_knn <- knnmi.all(data, k=nn)\n",
    "```\n",
    "\n",
    "BUILD THE NETWORK\n",
    "\n",
    "```{{r}}\n",
    "clr_network <- clr(data_knn)\n",
    "```\n",
    "\n",
    "```{{r}}\n",
    "write.csv(as.data.frame(clr_network), file = paste('./clr_network_for_distances_', nn, '.csv', sep = ''), row.names = TRUE)\n",
    "```\n",
    "'''\n",
    "\n",
    "    with open(f'./clr_for_distances_{str(nn).zfill(2)}nn.Rmd', 'w') as f:\n",
    "        f.write(rmd_file_str)"
   ]
  }
 ],
 "metadata": {
  "kernelspec": {
   "display_name": "Python 3",
   "language": "python",
   "name": "python3"
  },
  "language_info": {
   "codemirror_mode": {
    "name": "ipython",
    "version": 3
   },
   "file_extension": ".py",
   "mimetype": "text/x-python",
   "name": "python",
   "nbconvert_exporter": "python",
   "pygments_lexer": "ipython3",
   "version": "3.9.9"
  }
 },
 "nbformat": 4,
 "nbformat_minor": 2
}

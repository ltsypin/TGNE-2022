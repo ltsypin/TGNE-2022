{
 "cells": [
  {
   "cell_type": "code",
   "execution_count": 1,
   "metadata": {},
   "outputs": [],
   "source": [
    "from matplotlib.pyplot import show as show_static\n",
    "import matplotlib.pyplot as plt\n",
    "import pandas as pd\n",
    "import numpy as np\n",
    "import sys\n",
    "import distinctipy\n",
    "import glob\n",
    "\n",
    "sys.path.append('../../')\n",
    "from utils import dataframe_utils"
   ]
  },
  {
   "cell_type": "markdown",
   "metadata": {},
   "source": [
    "### SET PLOTTING METRIC"
   ]
  },
  {
   "cell_type": "code",
   "execution_count": 2,
   "metadata": {},
   "outputs": [],
   "source": [
    "# plotting_metric = 'manhattan'\n",
    "# plotting_metric = 'clr'\n",
    "plotting_metric = 'cosine'\n",
    "# plotting_metric = 'minkowski_0.25'\n",
    "# plotting_metric = 'minkowski_0.5'\n",
    "# plotting_metric = 'minkowski_0.75'\n",
    "# plotting_metric = 'minkowski_1.0'\n",
    "# plotting_metric = 'minkowski_1.5'\n",
    "# plotting_metric = 'minkowski_2.0'\n",
    "# plotting_metric = 'minkowski_3.0'\n",
    "# plotting_metric = 'minkowski_4.0'\n",
    "# plotting_metric = 'minkowski_5.0'\n",
    "# plotting_metric = 'euclidean'"
   ]
  },
  {
   "cell_type": "code",
   "execution_count": 3,
   "metadata": {},
   "outputs": [],
   "source": [
    "# df_stats = pd.read_csv('./scan_stats_mar2024.csv')\n",
    "# df_stats = pd.read_csv('./scan_stats_v2.csv')\n",
    "# df_stats = pd.read_csv('./scan_stats_clr.csv')\n",
    "# df_stats = pd.read_csv('./scan_stats_metrics2.csv')\n",
    "# df_stats = pd.read_csv('./scan_stats_sklearn_distance.csv')\n",
    "# df_stats = pd.read_csv('./scan_stats_sklearn_distance_v2.csv')\n",
    "\n",
    "pattern = './scan_stats_apr02/*'\n",
    "\n",
    "stats_files = glob.glob(pattern)\n",
    "\n",
    "df_stats = None\n",
    "\n",
    "for s_file in stats_files:\n",
    "    if df_stats is None:\n",
    "        df_stats = pd.read_csv(s_file)\n",
    "        continue\n",
    "\n",
    "    curr_df = pd.read_csv(s_file)\n",
    "\n",
    "    df_stats = pd.concat([df_stats, curr_df], ignore_index=True)"
   ]
  },
  {
   "cell_type": "code",
   "execution_count": 4,
   "metadata": {},
   "outputs": [],
   "source": [
    "def compute_fraction_clusters_enriched(row):\n",
    "    return row['nenriched_clusters'] / (row['nclusters'])"
   ]
  },
  {
   "cell_type": "code",
   "execution_count": 5,
   "metadata": {},
   "outputs": [],
   "source": [
    "df_stats['fraction_clusters_enriched'] = df_stats.apply(compute_fraction_clusters_enriched, axis=1)"
   ]
  },
  {
   "cell_type": "code",
   "execution_count": 6,
   "metadata": {},
   "outputs": [
    {
     "data": {
      "text/plain": [
       "array(['minkowski_0.5', 'clr', 'minkowski_4.0', 'manhattan',\n",
       "       'minkowski_1.0', 'minkowski_2.0', 'euclidean', 'minkowski_5.0',\n",
       "       'cosine', 'minkowski_3.0'], dtype=object)"
      ]
     },
     "execution_count": 6,
     "metadata": {},
     "output_type": "execute_result"
    }
   ],
   "source": [
    "df_stats['metric'].unique()"
   ]
  },
  {
   "cell_type": "code",
   "execution_count": 7,
   "metadata": {},
   "outputs": [
    {
     "data": {
      "text/plain": [
       "Index(['partition_type', 'dimensionality', 'metric', 'graph', 'nns',\n",
       "       'clustering', 'parameter', 'silhouette_score', 'modularity',\n",
       "       'nclusters', 'mean_cluster_size', 'median_cluster_size',\n",
       "       'sd_cluster_size', 'nenriched_clusters', 'mean_enriched_cluster_size',\n",
       "       'median_enriched_cluster_size', 'sd_enriched_cluster_size',\n",
       "       'nenriched_cluster_genes', 'datetime', 'fraction_clusters_enriched'],\n",
       "      dtype='object')"
      ]
     },
     "execution_count": 7,
     "metadata": {},
     "output_type": "execute_result"
    }
   ],
   "source": [
    "df_stats.columns"
   ]
  },
  {
   "cell_type": "code",
   "execution_count": 8,
   "metadata": {},
   "outputs": [
    {
     "data": {
      "text/plain": [
       "{'partition_type': str,\n",
       " 'dimensionality': str,\n",
       " 'metric': str,\n",
       " 'graph': str,\n",
       " 'nns': numpy.int64,\n",
       " 'clustering': str,\n",
       " 'parameter': numpy.float64,\n",
       " 'silhouette_score': numpy.float64,\n",
       " 'modularity': numpy.float64,\n",
       " 'nclusters': numpy.int64,\n",
       " 'mean_cluster_size': numpy.float64,\n",
       " 'median_cluster_size': numpy.float64,\n",
       " 'sd_cluster_size': numpy.float64,\n",
       " 'nenriched_clusters': numpy.int64,\n",
       " 'mean_enriched_cluster_size': numpy.float64,\n",
       " 'median_enriched_cluster_size': numpy.float64,\n",
       " 'sd_enriched_cluster_size': numpy.float64,\n",
       " 'nenriched_cluster_genes': numpy.int64,\n",
       " 'datetime': str,\n",
       " 'fraction_clusters_enriched': numpy.float64}"
      ]
     },
     "execution_count": 8,
     "metadata": {},
     "output_type": "execute_result"
    }
   ],
   "source": [
    "{col: type(df_stats[col].values[0]) for col in list(df_stats.columns)}"
   ]
  },
  {
   "cell_type": "code",
   "execution_count": 9,
   "metadata": {},
   "outputs": [
    {
     "data": {
      "text/plain": [
       "['nns',\n",
       " 'parameter',\n",
       " 'silhouette_score',\n",
       " 'modularity',\n",
       " 'nclusters',\n",
       " 'mean_cluster_size',\n",
       " 'median_cluster_size',\n",
       " 'sd_cluster_size',\n",
       " 'nenriched_clusters',\n",
       " 'mean_enriched_cluster_size',\n",
       " 'median_enriched_cluster_size',\n",
       " 'sd_enriched_cluster_size',\n",
       " 'nenriched_cluster_genes',\n",
       " 'fraction_clusters_enriched']"
      ]
     },
     "execution_count": 9,
     "metadata": {},
     "output_type": "execute_result"
    }
   ],
   "source": [
    "[col for col in list(df_stats.columns) if isinstance(df_stats[col].values[0], (int, float, np.int64, np.float64))]"
   ]
  },
  {
   "cell_type": "code",
   "execution_count": 10,
   "metadata": {},
   "outputs": [],
   "source": [
    "def smallest_unit(number):\n",
    "    # Convert the number to a string to handle decimal places\n",
    "    num_str = str(number)\n",
    "    \n",
    "    # Find the position of the decimal point\n",
    "    decimal_pos = num_str.find('.')\n",
    "    \n",
    "    # If there's no decimal point, return 1 (for integers)\n",
    "    if decimal_pos == -1:\n",
    "        return 1\n",
    "    \n",
    "    # Calculate the length of the fractional part\n",
    "    fractional_length = len(num_str) - decimal_pos - 1\n",
    "    \n",
    "    # Calculate the smallest unit\n",
    "    smallest_unit = 10 ** (-fractional_length)\n",
    "    \n",
    "    return smallest_unit"
   ]
  },
  {
   "cell_type": "code",
   "execution_count": 11,
   "metadata": {},
   "outputs": [],
   "source": [
    "# resource: https://malouche.github.io/notebooks/scatter_bokeh2.html\n",
    "from bokeh.plotting import figure, show\n",
    "from bokeh.models import HoverTool\n",
    "from bokeh.models import Panel, Tabs\n",
    "from bokeh.plotting import output_file, save\n",
    "\n",
    "import pandas as pd\n",
    "import math\n",
    "\n",
    "tabs = []\n",
    "\n",
    "bokeh_data_dict = {}\n",
    "\n",
    "bokeh_data_dict['METRIC COMPARISON: UNFILTERED'] = df_stats\n",
    "\n",
    "filter_cols = [col for col in list(df_stats.columns) if isinstance(df_stats[col].values[0], (int, float, np.int64, np.float64))]\n",
    "\n",
    "bokeh_data_dict['METRIC COMPARISON: FILTERED (10 < mean_cluster_size < 40) (10 < median_cluster_size < 40)'] = df_stats.loc[\n",
    "    # (df_stats['metric'] == 'cosine') &\n",
    "    # (df_stats['nns'] == 3) & \n",
    "    # (df_stats['parameter'] == 0.405) & \n",
    "\n",
    "    (df_stats['mean_cluster_size'] > 10) &\n",
    "    (df_stats['median_cluster_size'] > 10) &\n",
    "    (df_stats['mean_cluster_size'] < 40) &\n",
    "    (df_stats['median_cluster_size'] < 40) &\n",
    "    # (df_stats['nenriched_cluster_genes'] > 7000) &\n",
    "    # (df_stats['modularity'] > 0.4) &\n",
    "\n",
    "    (df_stats['dimensionality'] == 'baseline') &\n",
    "    (df_stats['graph'] == 'umap_fuzzy_simplicial_set') &\n",
    "    (df_stats['clustering'] == 'leiden_cpm') &\n",
    "    (df_stats['partition_type'] == 'EXP')\n",
    "]\n",
    "\n",
    "bokeh_x = 'modularity'\n",
    "# bokeh_y = 'nenriched_clusters'\n",
    "bokeh_y = 'fraction_clusters_enriched'\n",
    "color_column = 'metric'  # Column to use for coloring the points\n",
    "\n",
    "x_min, x_max = math.floor(df_stats[bokeh_x].min()) - smallest_unit(df_stats[bokeh_x].min()), math.ceil(df_stats[bokeh_x].max()) + smallest_unit(df_stats[bokeh_x].max())\n",
    "y_min, y_max = math.floor(df_stats[bokeh_y].min()) - smallest_unit(df_stats[bokeh_y].min()), math.ceil(df_stats[bokeh_y].max()) + smallest_unit(df_stats[bokeh_y].max())\n",
    "\n",
    "metric_colors_dict = {\n",
    "    'minkowski_5.0': '#fa0217',\n",
    "    'minkowski_3.0': '#fa029b',\n",
    "    'minkowski_2.0': '#bc02fa',\n",
    "    'clr': '#0207fa',\n",
    "    'cosine': '#02e1fa',\n",
    "    'minkowski_1.0': '#02fa28',\n",
    "    'manhattan': '#e9fa02',\n",
    "    'minkowski_0.5': '#fa9f02',\n",
    "    'euclidean': '#02fab8',\n",
    "    'minkowski_4.0': '#8bfa02'\n",
    "}\n",
    "\n",
    "for tab_name, bokeh_df in bokeh_data_dict.items():\n",
    "\n",
    "    p = figure(plot_width=1000, plot_height=800, title='HOVER OVER POINTS TO SHOW DATA. CLICK ON METRICS IN THE LEGEND TO HIDE THEM.', sizing_mode='stretch_both', x_range=(x_min, x_max), y_range=(y_min, y_max))\n",
    "\n",
    "    for val in sorted(bokeh_df[color_column].unique()):\n",
    "        col_df=bokeh_df.loc[(bokeh_df[color_column]==val)]\n",
    "        p.scatter(bokeh_x, bokeh_y, size=3, color=metric_colors_dict[val], legend_label=val, source=col_df)\n",
    "\n",
    "\n",
    "    hover = HoverTool(tooltips=[\n",
    "        ('Partition Type', '@partition_type'),\n",
    "        ('Dimensionality', '@dimensionality'),\n",
    "        ('Metric', '@metric'),\n",
    "        ('Graph', '@graph'),\n",
    "        ('Nearest Neighbors', '@nns'),\n",
    "        ('Clustering', '@clustering'),\n",
    "        ('Parameter', '@parameter'),\n",
    "        ('Silhouette Score', '@silhouette_score'),\n",
    "        ('Modularity', '@modularity'),\n",
    "        ('Number of Clusters', '@nclusters'),\n",
    "        ('Mean Cluster Size', '@mean_cluster_size'),\n",
    "        ('Median Cluster Size', '@median_cluster_size'),\n",
    "        ('Standard Deviation of Cluster Size', '@sd_cluster_size'),\n",
    "        ('Number of Enriched Clusters', '@nenriched_clusters'),\n",
    "        ('Mean Enriched Cluster Size', '@mean_enriched_cluster_size'),\n",
    "        ('Median Enriched Cluster Size', '@median_enriched_cluster_size'),\n",
    "        ('Standard Deviation of Enriched Cluster Size', '@sd_enriched_cluster_size'),\n",
    "        ('Number of Enriched Cluster Genes', '@nenriched_cluster_genes'),\n",
    "        ('Fraction of Clusters Enriched', '@fraction_clusters_enriched'),\n",
    "    ])\n",
    "    p.add_tools(hover)\n",
    "\n",
    "    p.legend.click_policy=\"hide\"\n",
    "    p.legend.location = \"bottom_left\"\n",
    "\n",
    "    p.xaxis.axis_label = bokeh_x\n",
    "    p.yaxis.axis_label = bokeh_y\n",
    "\n",
    "    p.min_border = 100\n",
    "\n",
    "    tabs.append(Panel(child=p, title=tab_name))\n",
    "\n",
    "plot_tabs1 = [t for t in tabs]\n"
   ]
  },
  {
   "cell_type": "code",
   "execution_count": 12,
   "metadata": {},
   "outputs": [],
   "source": [
    "# resource: https://malouche.github.io/notebooks/scatter_bokeh2.html\n",
    "from bokeh.plotting import figure, show\n",
    "from bokeh.models import HoverTool\n",
    "from bokeh.models import Panel, Tabs, RangeSlider, CustomJS, Column, Row, ColumnDataSource, CategoricalColorMapper, Legend\n",
    "\n",
    "from bokeh.plotting import output_file, save\n",
    "\n",
    "import pandas as pd\n",
    "import math\n",
    "\n",
    "tabs = []\n",
    "\n",
    "bokeh_data_dict = {}\n",
    "\n",
    "bokeh_data_dict['DYNAMIC FILTERING: UNFILTERED'] = df_stats\n",
    "\n",
    "filter_cols = [col for col in list(df_stats.columns) if isinstance(df_stats[col].values[0], (int, float, np.int64, np.float64))]\n",
    "\n",
    "bokeh_data_dict['DYNAMIC FILTERING: FILTERED (10 < mean_cluster_size < 40) (10 < median_cluster_size < 40)'] = df_stats.loc[\n",
    "    # (df_stats['metric'] == 'cosine') &\n",
    "    # (df_stats['nns'] == 3) & \n",
    "    # (df_stats['parameter'] == 0.405) & \n",
    "\n",
    "    (df_stats['mean_cluster_size'] > 10) &\n",
    "    (df_stats['median_cluster_size'] > 10) &\n",
    "    (df_stats['mean_cluster_size'] < 40) &\n",
    "    (df_stats['median_cluster_size'] < 40) &\n",
    "    # (df_stats['nenriched_cluster_genes'] > 7000) &\n",
    "    # (df_stats['modularity'] > 0.4) &\n",
    "\n",
    "    (df_stats['dimensionality'] == 'baseline') &\n",
    "    (df_stats['graph'] == 'umap_fuzzy_simplicial_set') &\n",
    "    (df_stats['clustering'] == 'leiden_cpm') &\n",
    "    (df_stats['partition_type'] == 'EXP')\n",
    "]\n",
    "\n",
    "bokeh_x = 'modularity'\n",
    "# bokeh_y = 'nenriched_clusters'\n",
    "bokeh_y = 'fraction_clusters_enriched'\n",
    "color_column = 'metric'  # Column to use for coloring the points\n",
    "\n",
    "x_min, x_max = math.floor(df_stats[bokeh_x].min()) - smallest_unit(df_stats[bokeh_x].min()), math.ceil(df_stats[bokeh_x].max()) + smallest_unit(df_stats[bokeh_x].max())\n",
    "y_min, y_max = math.floor(df_stats[bokeh_y].min()) - smallest_unit(df_stats[bokeh_y].min()), math.ceil(df_stats[bokeh_y].max()) + smallest_unit(df_stats[bokeh_y].max())\n",
    "\n",
    "metric_colors_dict = {\n",
    "    'minkowski_5.0': '#fa0217',\n",
    "    'minkowski_3.0': '#fa029b',\n",
    "    'minkowski_2.0': '#bc02fa',\n",
    "    'clr': '#0207fa',\n",
    "    'cosine': '#02e1fa',\n",
    "    'minkowski_1.0': '#02fa28',\n",
    "    'manhattan': '#e9fa02',\n",
    "    'minkowski_0.5': '#fa9f02',\n",
    "    'euclidean': '#02fab8',\n",
    "    'minkowski_4.0': '#8bfa02'\n",
    "}\n",
    "\n",
    "color_mapper = CategoricalColorMapper(factors=list(metric_colors_dict.keys()), palette=list(metric_colors_dict.values()))\n",
    "\n",
    "for tab_name, bokeh_df in bokeh_data_dict.items():\n",
    "\n",
    "    bokeh_data_source = ColumnDataSource(bokeh_df)\n",
    "\n",
    "    sliders = {}\n",
    "\n",
    "    for variable in filter_cols:\n",
    "        sliders[variable] = RangeSlider(start=bokeh_df[variable].min(),\n",
    "                                            end=bokeh_df[variable].max(),\n",
    "                                            value=(bokeh_df[variable].min(), bokeh_df[variable].max()),\n",
    "                                            step=smallest_unit(bokeh_df[variable].max()),\n",
    "                                            title=f\"{variable} range\")\n",
    "\n",
    "\n",
    "    p = figure(plot_width=1000, plot_height=800, title='HOVER OVER POINTS TO SHOW DATA. USE THE SLIDERS TO FILTER THE PARTITIONS.', sizing_mode='stretch_both', x_range=(x_min, x_max), y_range=(y_min, y_max))\n",
    "\n",
    "    p.circle(\n",
    "            x=bokeh_x,\n",
    "            y=bokeh_y,\n",
    "            source=bokeh_data_source,\n",
    "            color={'field': color_column, 'transform': color_mapper},\n",
    "            size=5,\n",
    "            alpha=1,\n",
    "            line_color='black'\n",
    "        )\n",
    "\n",
    "    callback = CustomJS(args=dict(source=bokeh_data_source, sliders=sliders), code=\"\"\"\n",
    "        const data = source.data;\n",
    "        const indices = [];\n",
    "        const variables = Object.keys(sliders);\n",
    "        \n",
    "        for (let i = 0; i < data['index'].length; i++) {\n",
    "            let include = true;\n",
    "            \n",
    "            for (const variable of variables) {\n",
    "                const slider_range = sliders[variable].value;\n",
    "                const value = data[variable][i];\n",
    "                \n",
    "                if (value < slider_range[0] || value > slider_range[1]) {\n",
    "                    include = false;\n",
    "                    break;\n",
    "                }\n",
    "            }\n",
    "            \n",
    "            if (include) {\n",
    "                indices.push(i);\n",
    "            }\n",
    "        }\n",
    "        \n",
    "        source.selected.indices = indices;\n",
    "        source.change.emit();\n",
    "    \"\"\")\n",
    "\n",
    "    # Attach the callback to all sliders\n",
    "    for slider in sliders.values():\n",
    "        slider.js_on_change('value', callback)\n",
    "\n",
    "    # Add all sliders to a layout\n",
    "    slider_layout = Column(*sliders.values())\n",
    "\n",
    "    hover = HoverTool(tooltips=[\n",
    "        ('Partition Type', '@partition_type'),\n",
    "        ('Dimensionality', '@dimensionality'),\n",
    "        ('Metric', '@metric'),\n",
    "        ('Graph', '@graph'),\n",
    "        ('Nearest Neighbors', '@nns'),\n",
    "        ('Clustering', '@clustering'),\n",
    "        ('Parameter', '@parameter'),\n",
    "        ('Silhouette Score', '@silhouette_score'),\n",
    "        ('Modularity', '@modularity'),\n",
    "        ('Number of Clusters', '@nclusters'),\n",
    "        ('Mean Cluster Size', '@mean_cluster_size'),\n",
    "        ('Median Cluster Size', '@median_cluster_size'),\n",
    "        ('Standard Deviation of Cluster Size', '@sd_cluster_size'),\n",
    "        ('Number of Enriched Clusters', '@nenriched_clusters'),\n",
    "        ('Mean Enriched Cluster Size', '@mean_enriched_cluster_size'),\n",
    "        ('Median Enriched Cluster Size', '@median_enriched_cluster_size'),\n",
    "        ('Standard Deviation of Enriched Cluster Size', '@sd_enriched_cluster_size'),\n",
    "        ('Number of Enriched Cluster Genes', '@nenriched_cluster_genes'),\n",
    "        ('Fraction of Clusters Enriched', '@fraction_clusters_enriched'),\n",
    "    ])\n",
    "    p.add_tools(hover)\n",
    "\n",
    "    # p.legend.click_policy=\"hide\"\n",
    "    # p.legend.location = \"bottom_left\"\n",
    "\n",
    "    p.xaxis.axis_label = bokeh_x\n",
    "    p.yaxis.axis_label = bokeh_y\n",
    "\n",
    "    p.min_border = 100\n",
    "\n",
    "    slider_layout.margin = 100\n",
    "\n",
    "    layout = Row(p, slider_layout)\n",
    "\n",
    "    tabs.append(Panel(child=layout, title=tab_name))\n",
    "\n",
    "plot_tabs2 = [t for t in tabs]\n",
    "\n",
    "# FIXME add filtering\n",
    "# https://docs.bokeh.org/en/latest/docs/user_guide/basic/data.html#customjsfilter"
   ]
  },
  {
   "cell_type": "code",
   "execution_count": 13,
   "metadata": {},
   "outputs": [],
   "source": [
    "tabbed_plot = Tabs(tabs=(plot_tabs1 + plot_tabs2))\n",
    "\n",
    "output_file('./clustering_analysis.html')\n",
    "\n",
    "save(tabbed_plot)\n",
    "\n",
    "show(tabbed_plot)"
   ]
  },
  {
   "cell_type": "code",
   "execution_count": null,
   "metadata": {},
   "outputs": [],
   "source": [
    "df_stats"
   ]
  },
  {
   "cell_type": "code",
   "execution_count": null,
   "metadata": {},
   "outputs": [],
   "source": [
    "df_stats.drop_duplicates(subset=df_stats.columns.difference(['datetime']), inplace=True)"
   ]
  },
  {
   "cell_type": "code",
   "execution_count": null,
   "metadata": {},
   "outputs": [],
   "source": [
    "df_stats"
   ]
  },
  {
   "cell_type": "code",
   "execution_count": null,
   "metadata": {},
   "outputs": [],
   "source": [
    "dataframe_utils.sql_query_df({'scan_stats_df': df_stats}, 'select max(parameter) from scan_stats_df')"
   ]
  },
  {
   "cell_type": "code",
   "execution_count": null,
   "metadata": {},
   "outputs": [],
   "source": [
    "dataframe_utils.sql_query_df({'scan_stats_df': df_stats}, 'select min(parameter) from scan_stats_df')"
   ]
  },
  {
   "cell_type": "code",
   "execution_count": null,
   "metadata": {},
   "outputs": [],
   "source": [
    "dataframe_utils.sql_query_df({'scan_stats_df': df_stats}, 'select count(distinct parameter) from scan_stats_df')"
   ]
  },
  {
   "cell_type": "code",
   "execution_count": null,
   "metadata": {},
   "outputs": [],
   "source": [
    "def compute_num_clusters_fraction_of_genes_enriched(row):\n",
    "    return row['nenriched_clusters'] * (row['nenriched_cluster_genes'] / 20326)"
   ]
  },
  {
   "cell_type": "code",
   "execution_count": null,
   "metadata": {},
   "outputs": [],
   "source": [
    "df_stats['num_clusters_fraction_of_genes_enriched'] = df_stats.apply(compute_num_clusters_fraction_of_genes_enriched, axis=1)"
   ]
  },
  {
   "cell_type": "code",
   "execution_count": null,
   "metadata": {},
   "outputs": [],
   "source": [
    "df_stats"
   ]
  },
  {
   "cell_type": "code",
   "execution_count": null,
   "metadata": {},
   "outputs": [],
   "source": [
    "19 * (19933/20326)"
   ]
  },
  {
   "cell_type": "markdown",
   "metadata": {},
   "source": [
    "# DISTANCE METRIC COMPARISON"
   ]
  },
  {
   "cell_type": "code",
   "execution_count": null,
   "metadata": {},
   "outputs": [],
   "source": [
    "num_colors = len(df_stats['metric'].unique())\n",
    "colors = distinctipy.get_colors(num_colors)\n",
    "distinctipy.color_swatch(colors)"
   ]
  },
  {
   "cell_type": "code",
   "execution_count": null,
   "metadata": {},
   "outputs": [],
   "source": [
    "plt.figure(figsize=(40, 40))\n",
    "\n",
    "color_dict = {} \n",
    "\n",
    "for idx, m in enumerate(df_stats['metric'].unique()):\n",
    "    for p in sorted(df_stats['parameter'].unique()):\n",
    "        df = df_stats.loc[\n",
    "            (df_stats['parameter'] == p) & \n",
    "            (df_stats['dimensionality'] == 'baseline') &\n",
    "            (df_stats['graph'] == 'umap_fuzzy_simplicial_set') &\n",
    "            (df_stats['clustering'] == 'leiden_cpm') &\n",
    "            (df_stats['metric'] == m)\n",
    "        ]\n",
    "\n",
    "        y = 'nenriched_clusters'\n",
    "        # y = 'num_clusters_fraction_of_genes_enriched'\n",
    "\n",
    "        # x = 'silhouette_score'\n",
    "        x = 'modularity'\n",
    "\n",
    "        # plt.plot(df[x].values, df[y].values, label=f'{p}', color=colors[idx])\n",
    "        plt.scatter(df[x].values, df[y].values, label=f'{p}', color=colors[idx], s=5)\n",
    "\n",
    "\n",
    "    color_dict[m] = colors[idx]  \n",
    "\n",
    "plt.xlabel(x, fontsize=40)\n",
    "plt.ylabel(y, fontsize=40)\n",
    "plt.title(f'{y} VS. {x}', fontsize=40)\n",
    "\n",
    "handles = [plt.Line2D([0], [0], marker='o', color='w', markerfacecolor=color_dict[m], markersize=10) for m in color_dict]\n",
    "plt.legend(handles, color_dict.keys(), title='Metrics', bbox_to_anchor=(1.05, 1), loc='upper left', fontsize=40)\n",
    "\n",
    "plt.show()"
   ]
  },
  {
   "cell_type": "code",
   "execution_count": null,
   "metadata": {},
   "outputs": [],
   "source": [
    "df_stats.loc[\n",
    "    (df_stats['mean_cluster_size'] > 9) & \n",
    "    (df_stats['mean_cluster_size'] < 30) &\n",
    "    (df_stats['median_cluster_size'] > 9) & \n",
    "    (df_stats['median_cluster_size'] < 30)\n",
    "    ]"
   ]
  },
  {
   "cell_type": "code",
   "execution_count": null,
   "metadata": {},
   "outputs": [],
   "source": [
    "df_stats_true = df_stats.loc[df_stats['partition_type'] == 'EXP']\n",
    "df_stats_neg_ctrl = df_stats.loc[~(df_stats['partition_type'] == 'EXP')]"
   ]
  },
  {
   "cell_type": "code",
   "execution_count": null,
   "metadata": {},
   "outputs": [],
   "source": [
    "df_stats_true"
   ]
  },
  {
   "cell_type": "code",
   "execution_count": null,
   "metadata": {},
   "outputs": [],
   "source": [
    "df_stats_neg_ctrl"
   ]
  },
  {
   "cell_type": "code",
   "execution_count": null,
   "metadata": {},
   "outputs": [],
   "source": [
    "df_true_cluster = df_stats_true.loc[\n",
    "    (df_stats_true['nns'] == 10) & \n",
    "    (df_stats_true['parameter'] == 0.0105) & \n",
    "\n",
    "    (df_stats_true['dimensionality'] == 'baseline') &\n",
    "    (df_stats_true['graph'] == 'umap_fuzzy_simplicial_set') &\n",
    "    (df_stats_true['clustering'] == 'leiden_cpm') &\n",
    "    (df_stats_true['metric'] == plotting_metric) \n",
    "]"
   ]
  },
  {
   "cell_type": "code",
   "execution_count": null,
   "metadata": {},
   "outputs": [],
   "source": [
    "df_neg_ctrls = df_stats_neg_ctrl.loc[\n",
    "    (df_stats_neg_ctrl['nns'] == 10) & \n",
    "    (df_stats_neg_ctrl['parameter'] == 0.0105) & \n",
    "\n",
    "    (df_stats_neg_ctrl['dimensionality'] == 'baseline') &\n",
    "    (df_stats_neg_ctrl['graph'] == 'umap_fuzzy_simplicial_set') &\n",
    "    (df_stats_neg_ctrl['clustering'] == 'leiden_cpm') &\n",
    "    (df_stats_neg_ctrl['metric'] == plotting_metric) \n",
    "]"
   ]
  },
  {
   "cell_type": "code",
   "execution_count": null,
   "metadata": {},
   "outputs": [],
   "source": [
    "df_true_cluster"
   ]
  },
  {
   "cell_type": "code",
   "execution_count": null,
   "metadata": {},
   "outputs": [],
   "source": [
    "df_neg_ctrls"
   ]
  },
  {
   "cell_type": "code",
   "execution_count": null,
   "metadata": {},
   "outputs": [],
   "source": [
    "hist_clustering_metric = 'silhouette_score'\n",
    "# hist_clustering_metric = 'modularity'\n",
    "\n",
    "hist_data = df_neg_ctrls[hist_clustering_metric].values\n",
    "hist_data"
   ]
  },
  {
   "cell_type": "code",
   "execution_count": null,
   "metadata": {},
   "outputs": [],
   "source": [
    "# hist_line_at_x = df_true_cluster[hist_clustering_metric].values[0]\n",
    "# hist_line_at_x"
   ]
  },
  {
   "cell_type": "code",
   "execution_count": null,
   "metadata": {},
   "outputs": [],
   "source": [
    "# # Create the histogram\n",
    "# plt.hist(hist_data, bins=30, edgecolor='black')\n",
    "\n",
    "# # Add a vertical line at the specified x value\n",
    "# plt.axvline(x=hist_line_at_x, color='red', linestyle='dashed', linewidth=2, label='experimental at x={}'.format(round(hist_line_at_x, 2)))\n",
    "\n",
    "# # Add labels and title\n",
    "# plt.xlabel(hist_clustering_metric)\n",
    "# plt.ylabel('frequency')\n",
    "# plt.title(f'{len(hist_data)} neg. controls vs. experimental {hist_clustering_metric} distribution')\n",
    "\n",
    "# plt.legend()\n",
    "\n",
    "# # Show the plot\n",
    "# plt.show()"
   ]
  },
  {
   "cell_type": "code",
   "execution_count": null,
   "metadata": {},
   "outputs": [],
   "source": [
    "df_stats_true['silhouette_score'].mean()"
   ]
  },
  {
   "cell_type": "code",
   "execution_count": null,
   "metadata": {},
   "outputs": [],
   "source": [
    "df_stats_true['silhouette_score'].median()"
   ]
  },
  {
   "cell_type": "code",
   "execution_count": null,
   "metadata": {},
   "outputs": [],
   "source": [
    "df_stats_true['silhouette_score'].max()"
   ]
  },
  {
   "cell_type": "code",
   "execution_count": null,
   "metadata": {},
   "outputs": [],
   "source": [
    "df_stats_true['modularity'].mean()"
   ]
  },
  {
   "cell_type": "code",
   "execution_count": null,
   "metadata": {},
   "outputs": [],
   "source": [
    "df_stats_neg_ctrl['silhouette_score'].mean()"
   ]
  },
  {
   "cell_type": "code",
   "execution_count": null,
   "metadata": {},
   "outputs": [],
   "source": [
    "df_stats_neg_ctrl['silhouette_score'].median()"
   ]
  },
  {
   "cell_type": "code",
   "execution_count": null,
   "metadata": {},
   "outputs": [],
   "source": [
    "df_stats_neg_ctrl['silhouette_score'].max()"
   ]
  },
  {
   "cell_type": "code",
   "execution_count": null,
   "metadata": {},
   "outputs": [],
   "source": [
    "df_stats_neg_ctrl['modularity'].mean()"
   ]
  },
  {
   "cell_type": "code",
   "execution_count": null,
   "metadata": {},
   "outputs": [],
   "source": [
    "df_stats_neg_ctrl['modularity'].median()"
   ]
  },
  {
   "cell_type": "code",
   "execution_count": null,
   "metadata": {},
   "outputs": [],
   "source": [
    "df_stats_true['nns'].unique()"
   ]
  },
  {
   "cell_type": "code",
   "execution_count": null,
   "metadata": {},
   "outputs": [],
   "source": [
    "df_stats_true['parameter'].unique()"
   ]
  },
  {
   "cell_type": "code",
   "execution_count": null,
   "metadata": {},
   "outputs": [],
   "source": [
    "df_stats_true['parameter'].min()"
   ]
  },
  {
   "cell_type": "code",
   "execution_count": null,
   "metadata": {},
   "outputs": [],
   "source": [
    "df_stats_true.loc[df_stats_true['modularity'] > 0.8]"
   ]
  },
  {
   "cell_type": "code",
   "execution_count": null,
   "metadata": {},
   "outputs": [],
   "source": [
    "df_stats_true.loc[(df_stats_true['silhouette_score'] > 0.04) & (df_stats_true['nclusters'] > 100)]"
   ]
  },
  {
   "cell_type": "code",
   "execution_count": null,
   "metadata": {},
   "outputs": [],
   "source": [
    "df_stats_true.loc[df_stats_true['nclusters'] < 10]"
   ]
  },
  {
   "cell_type": "code",
   "execution_count": null,
   "metadata": {},
   "outputs": [],
   "source": [
    "df_stats_true.loc[(df_stats_true['metric'] != 'manhattan') & (df_stats_true['metric'] != 'euclidean')]"
   ]
  },
  {
   "cell_type": "code",
   "execution_count": null,
   "metadata": {},
   "outputs": [],
   "source": [
    "df_stats_true.loc[(df_stats_true['metric'] != 'cosine') & (df_stats_true['metric'] != 'euclidean') & (df_stats_true['nns'] == 12) & (df_stats_true['parameter'] == 0.095)]"
   ]
  },
  {
   "cell_type": "code",
   "execution_count": null,
   "metadata": {},
   "outputs": [],
   "source": [
    "df_stats_true.loc[(df_stats_true['metric'] != 'manhattan') & (df_stats_true['metric'] != 'euclidean')]"
   ]
  },
  {
   "cell_type": "code",
   "execution_count": null,
   "metadata": {},
   "outputs": [],
   "source": [
    "for p in (df_stats_true['parameter'].unique()):\n",
    "    pdf = df_stats_true.loc[df_stats_true['parameter'] == p]\n",
    "    max_pdf = pdf.loc[pdf['silhouette_score'] == pdf['silhouette_score'].max()]\n",
    "    print(max_pdf[['nns', 'silhouette_score', 'nclusters']])"
   ]
  },
  {
   "cell_type": "code",
   "execution_count": null,
   "metadata": {},
   "outputs": [],
   "source": [
    "# Create an empty DataFrame to store the results\n",
    "best_nn_df = pd.DataFrame(columns=['parameter', 'nns', 'silhouette_score', 'nclusters'])\n",
    "\n",
    "# Iterate over unique parameters\n",
    "for p in df_stats_true['parameter'].unique():\n",
    "    pdf = df_stats_true.loc[df_stats_true['parameter'] == p]\n",
    "    \n",
    "    # Find the row with the maximum silhouette_score\n",
    "    max_pdf = pdf.loc[pdf['silhouette_score'].idxmax()]\n",
    "    \n",
    "    # Append the relevant information to the result DataFrame\n",
    "    best_nn_df = best_nn_df.append({'parameter': p, 'nns': max_pdf['nns'],\n",
    "                                  'silhouette_score': max_pdf['silhouette_score'],\n",
    "                                  'nclusters': max_pdf['nclusters'],\n",
    "                                  'nenriched_clusters': max_pdf['nenriched_clusters'],\n",
    "                                  'nenriched_cluster_genes': max_pdf['nenriched_cluster_genes']\n",
    "                                  }, ignore_index=True)\n",
    "    \n",
    "\n",
    "best_nn_df[best_nn_df['nclusters'] > 50]"
   ]
  },
  {
   "cell_type": "markdown",
   "metadata": {},
   "source": [
    "# CONSTRAINED NN PLOTTING PARAMETERS"
   ]
  },
  {
   "cell_type": "code",
   "execution_count": null,
   "metadata": {},
   "outputs": [],
   "source": [
    "# PLOTTING PARAMETERS\n",
    "df = df_stats_true.loc[\n",
    "    (df_stats_true['nns'] == 6) & \n",
    "    # (df_stats_true['parameter'] == 0.0005) & \n",
    "\n",
    "    (df_stats_true['dimensionality'] == 'baseline') &\n",
    "    (df_stats_true['graph'] == 'umap_fuzzy_simplicial_set') &\n",
    "    (df_stats_true['clustering'] == 'leiden_cpm') &\n",
    "    (df_stats_true['metric'] == plotting_metric) &\n",
    "    (df_stats_true['nclusters'] > 50)\n",
    "]\n",
    "\n",
    "df"
   ]
  },
  {
   "cell_type": "code",
   "execution_count": null,
   "metadata": {},
   "outputs": [],
   "source": [
    "df = df_stats.loc[\n",
    "    (df_stats['nns'] > 4) & \n",
    "    (df_stats['nns'] < 6) & \n",
    "    (df_stats['parameter'] > 0.034) & \n",
    "    (df_stats['parameter'] < 0.036) &\n",
    "\n",
    "\n",
    "    (df_stats['dimensionality'] == 'baseline') &\n",
    "    (df_stats['graph'] == 'umap_fuzzy_simplicial_set') &\n",
    "    (df_stats['clustering'] == 'leiden_cpm') &\n",
    "    (df_stats['metric'] == 'manhattan')\n",
    "]"
   ]
  },
  {
   "cell_type": "code",
   "execution_count": null,
   "metadata": {},
   "outputs": [],
   "source": [
    "df_optimal = df_stats_true.loc[\n",
    "    (df_stats_true['dimensionality'] == 'baseline')\n",
    "    & (df_stats_true['graph'] == 'umap_fuzzy_simplicial_set')\n",
    "    & (df_stats_true['clustering'] == 'leiden_cpm') \n",
    "    & (df_stats_true['metric'] == plotting_metric) \n",
    "    # & (df_stats_true['nenriched_cluster_genes'] > 5000) \n",
    "    # & (df_stats_true['nenriched_cluster_genes'] < 6000) \n",
    "    # & (df_stats_true['nclusters'] > 1000)\n",
    "    # & (df_stats_true['nclusters'] < 1300)\n",
    "    & (df_stats_true['nenriched_clusters'] > 350)\n",
    "    # & (df_stats_true['modularity'] > 0.5)\n",
    "    & (df_stats_true['mean_cluster_size'] < 50)\n",
    "    & (df_stats_true['median_cluster_size'] < 50)\n",
    "    & (df_stats_true['mean_enriched_cluster_size'] < 50)\n",
    "    & (df_stats_true['median_enriched_cluster_size'] < 50)\n",
    "    & (df_stats_true['mean_cluster_size'] > 10)\n",
    "    & (df_stats_true['median_cluster_size'] > 10)\n",
    "    & (df_stats_true['mean_enriched_cluster_size'] > 10)\n",
    "    & (df_stats_true['median_enriched_cluster_size'] > 10)\n",
    "].sort_values(by=['modularity', 'silhouette_score'], ascending=False)\n",
    "df_optimal"
   ]
  },
  {
   "cell_type": "code",
   "execution_count": null,
   "metadata": {},
   "outputs": [],
   "source": [
    "plt.plot(df_optimal['modularity'].values, df_optimal['silhouette_score'].values)\n",
    "plt.show()"
   ]
  },
  {
   "cell_type": "code",
   "execution_count": null,
   "metadata": {},
   "outputs": [],
   "source": [
    "plt.plot(df_stats_true['modularity'].values, df_stats_true['silhouette_score'].values)\n",
    "plt.show()"
   ]
  },
  {
   "cell_type": "code",
   "execution_count": null,
   "metadata": {},
   "outputs": [],
   "source": [
    "df_stats_true.loc[\n",
    "    (df_stats_true['dimensionality'] == 'baseline')\n",
    "    & (df_stats_true['graph'] == 'umap_fuzzy_simplicial_set')\n",
    "    & (df_stats_true['clustering'] == 'leiden_cpm') \n",
    "    & (df_stats_true['metric'] == plotting_metric) \n",
    "    & (df_stats_true['nclusters'] > 1000)\n",
    "    & (df_stats_true['nclusters'] < 1300)\n",
    "]"
   ]
  },
  {
   "cell_type": "code",
   "execution_count": null,
   "metadata": {},
   "outputs": [],
   "source": [
    "df_stats_true.loc[\n",
    "    (df_stats_true['num_clusters_fraction_of_genes_enriched'] == df_stats_true['num_clusters_fraction_of_genes_enriched'].max())\n",
    "]"
   ]
  },
  {
   "cell_type": "code",
   "execution_count": null,
   "metadata": {},
   "outputs": [],
   "source": [
    "df_stats_true.loc[\n",
    "    (df_stats_true['nenriched_cluster_genes'] == df_stats_true['nenriched_cluster_genes'].max())\n",
    "]"
   ]
  },
  {
   "cell_type": "markdown",
   "metadata": {},
   "source": [
    "# Upper limit of nenriched_cluster_genes: 10247/19152 genes 53.50%\n",
    "# (2021) 6625 genes (32.59%)"
   ]
  },
  {
   "cell_type": "code",
   "execution_count": null,
   "metadata": {},
   "outputs": [],
   "source": [
    "df.loc[df['nenriched_clusters']==df['nenriched_clusters'].max()]"
   ]
  },
  {
   "cell_type": "code",
   "execution_count": null,
   "metadata": {},
   "outputs": [],
   "source": [
    "# 8NN local maxs (sklearn NN)\n",
    "df.loc[\n",
    "    (df['parameter']==0.950)\n",
    "    | (df['parameter']==0.755)\n",
    "    | (df['parameter']==0.530)\n",
    "    | (df['parameter']==0.370)\n",
    "    | (df['parameter']==0.225)\n",
    "    | (df['parameter']==0.115)\n",
    "    | (df['parameter']==0.045)\n",
    "    | (df['parameter']==0.020)\n",
    "    ]"
   ]
  },
  {
   "cell_type": "code",
   "execution_count": null,
   "metadata": {},
   "outputs": [],
   "source": [
    "# 10NN local maxs (sklearn NN)\n",
    "df.loc[\n",
    "    (df['parameter']==0.1)\n",
    "    ]"
   ]
  },
  {
   "cell_type": "code",
   "execution_count": null,
   "metadata": {},
   "outputs": [],
   "source": [
    "# 2NN local maxs\n",
    "df.loc[\n",
    "    (df['parameter']==0.280)\n",
    "    ]"
   ]
  },
  {
   "cell_type": "code",
   "execution_count": null,
   "metadata": {},
   "outputs": [],
   "source": [
    "# 3NN local maxs\n",
    "df.loc[\n",
    "    (df['parameter']==0.900)\n",
    "    | (df['parameter']==0.605)\n",
    "    | (df['parameter']==0.536)\n",
    "    | (df['parameter']==0.485)\n",
    "    | (df['parameter']==0.340)\n",
    "    | (df['parameter']==0.075)\n",
    "    ]"
   ]
  },
  {
   "cell_type": "code",
   "execution_count": null,
   "metadata": {},
   "outputs": [],
   "source": [
    "# 5NN local maxs\n",
    "df.loc[\n",
    "    (df['parameter']==0.935)\n",
    "    | (df['parameter']==0.795)\n",
    "    | (df['parameter']==0.640)\n",
    "    | (df['parameter']==0.465)\n",
    "    | (df['parameter']==0.350)\n",
    "    | (df['parameter']==0.295)\n",
    "    | (df['parameter']==0.190)\n",
    "    | (df['parameter']==0.125)\n",
    "    | (df['parameter']==0.0499999999999999)\n",
    "    | (df['parameter']==0.0349999999999999)\n",
    "    ]"
   ]
  },
  {
   "cell_type": "code",
   "execution_count": null,
   "metadata": {},
   "outputs": [],
   "source": [
    "# 6NN local maxs\n",
    "df.loc[\n",
    "    (df['parameter']==0.800)\n",
    "    | (df['parameter']==0.665)\n",
    "    | (df['parameter']==0.435)\n",
    "    | (df['parameter']==0.045)\n",
    "    ]"
   ]
  },
  {
   "cell_type": "code",
   "execution_count": null,
   "metadata": {},
   "outputs": [],
   "source": [
    "y = 'nenriched_clusters'\n",
    "# y = 'num_clusters_fraction_of_genes_enriched'\n",
    "\n",
    "# x = 'silhouette_score'\n",
    "x = 'modularity'\n",
    "\n",
    "labels = 'parameter'\n",
    "# labels = 'nns'"
   ]
  },
  {
   "cell_type": "code",
   "execution_count": null,
   "metadata": {},
   "outputs": [],
   "source": [
    "x_in = 50\n",
    "y_in = 50\n",
    "# x_in = 15\n",
    "# y_in = 10\n",
    "plt.figure(figsize=(x_in, y_in))\n",
    "\n",
    "# Create scatter plot\n",
    "plt.scatter(df[x].values, df[y].values)\n",
    "\n",
    "label_adj_x = (0\n",
    "            + (df[x].max() - df[x].min()) * 0.0075\n",
    "            # + x_in/6.4\n",
    "                )\n",
    "label_adj_y = (0 \n",
    "            # + (y_in/4.8)\n",
    "               )\n",
    "\n",
    "# Label each point with the number of nearest neighbors below the point\n",
    "for i, txt in enumerate(df[labels].values):\n",
    "    plt.text(df[x].values[i] + label_adj_x, df[y].values[i] + label_adj_y, \n",
    "            str(\"{:.3f}\".format(\n",
    "                txt\n",
    "                ))\n",
    "                ,\n",
    "            fontsize=8, ha='center', va='top', color='black')\n",
    "\n",
    "# Set axis labels and title\n",
    "plt.xlabel(x)\n",
    "plt.ylabel(y)\n",
    "plt.title(f'{y} VS. {x} for varying {labels}')\n",
    "\n",
    "# Display the plot\n",
    "plt.show()"
   ]
  },
  {
   "cell_type": "code",
   "execution_count": null,
   "metadata": {},
   "outputs": [],
   "source": [
    "df_stats_true['parameter'].unique()"
   ]
  },
  {
   "cell_type": "markdown",
   "metadata": {},
   "source": [
    "# NN CURVES FOR VARYING RP PLOTTING PARAMETERS"
   ]
  },
  {
   "cell_type": "code",
   "execution_count": null,
   "metadata": {},
   "outputs": [],
   "source": [
    "plot_ps = sorted(df_stats_true['parameter'].unique())\n",
    "\n",
    "# FOR FINER STEP SCAN\n",
    "if df_stats_true.loc[(df_stats_true['metric'] == plotting_metric)].shape[0] > 200:\n",
    "    plot_ps = []\n",
    "    for p_idx in np.arange(19, len(df_stats_true['parameter'].unique()), 20):\n",
    "        plot_ps.append(sorted(df_stats_true['parameter'].unique())[p_idx])"
   ]
  },
  {
   "cell_type": "code",
   "execution_count": null,
   "metadata": {},
   "outputs": [],
   "source": [
    "import distinctipy\n",
    "\n",
    "num_colors = len(df_stats_true['parameter'].unique())\n",
    "\n",
    "colors = distinctipy.get_colors(num_colors)"
   ]
  },
  {
   "cell_type": "code",
   "execution_count": null,
   "metadata": {},
   "outputs": [],
   "source": [
    "plt.figure(figsize=(20, 20))\n",
    "\n",
    "for idx, p in enumerate(plot_ps):\n",
    "    df = df_stats_true.loc[\n",
    "        # (df_stats_true['nns'] == 6) & \n",
    "        (df_stats_true['parameter'] == p) & \n",
    "\n",
    "        (df_stats_true['dimensionality'] == 'baseline') &\n",
    "        (df_stats_true['graph'] == 'umap_fuzzy_simplicial_set') &\n",
    "        (df_stats_true['clustering'] == 'leiden_cpm') &\n",
    "        (df_stats_true['metric'] == plotting_metric) &\n",
    "        (df_stats_true['nclusters'] > 50)\n",
    "    ]\n",
    "\n",
    "    y = 'nenriched_clusters'\n",
    "    # y = 'num_clusters_fraction_of_genes_enriched'\n",
    "\n",
    "    # x = 'silhouette_score'\n",
    "    x = 'modularity'\n",
    "\n",
    "    plt.plot(df[x].values, df[y].values, label=str(p), color=colors[idx])\n",
    "\n",
    "# Set axis labels and title\n",
    "plt.xlabel(x)\n",
    "plt.ylabel(y)\n",
    "plt.title(f'{y} VS. {x}')\n",
    "\n",
    "# Display the plot\n",
    "plt.legend()\n",
    "plt.show()"
   ]
  },
  {
   "cell_type": "code",
   "execution_count": null,
   "metadata": {},
   "outputs": [],
   "source": [
    "plt.figure(figsize=(20, 20))\n",
    "\n",
    "for idx, p in enumerate(plot_ps):\n",
    "    df = df_stats_true.loc[\n",
    "        # (df_stats_true['nns'] == 6) & \n",
    "        (df_stats_true['parameter'] == p) & \n",
    "\n",
    "        (df_stats_true['dimensionality'] == 'baseline') &\n",
    "        (df_stats_true['graph'] == 'umap_fuzzy_simplicial_set') &\n",
    "        (df_stats_true['clustering'] == 'leiden_cpm') &\n",
    "        (df_stats_true['metric'] == plotting_metric) &\n",
    "        (df_stats_true['nclusters'] > 50)\n",
    "    ]\n",
    "\n",
    "    y = 'nenriched_cluster_genes'\n",
    "    # y = 'num_clusters_fraction_of_genes_enriched'\n",
    "\n",
    "    # x = 'silhouette_score'\n",
    "    x = 'modularity'\n",
    "\n",
    "    plt.plot(df[x].values, df[y].values, label=str(p), color=colors[idx])\n",
    "\n",
    "# Set axis labels and title\n",
    "plt.xlabel(x)\n",
    "plt.ylabel(y)\n",
    "plt.title(f'{y} VS. {x}')\n",
    "\n",
    "# Display the plot\n",
    "plt.legend()\n",
    "plt.show()"
   ]
  },
  {
   "cell_type": "code",
   "execution_count": null,
   "metadata": {},
   "outputs": [],
   "source": [
    "df_stats_true.loc[\n",
    "        (df_stats_true['nns'] == 3) & \n",
    "        (df_stats_true['parameter'] == 0.5) & \n",
    "        (df_stats_true['dimensionality'] == 'baseline') &\n",
    "        (df_stats_true['graph'] == 'umap_fuzzy_simplicial_set') &\n",
    "        (df_stats_true['clustering'] == 'leiden_cpm') &\n",
    "        (df_stats_true['metric'] == 'cosine') &\n",
    "        (df_stats_true['nclusters'] > 50)\n",
    "    ]"
   ]
  },
  {
   "cell_type": "code",
   "execution_count": null,
   "metadata": {},
   "outputs": [],
   "source": [
    "df_stats_true.loc[\n",
    "        (df_stats_true['nns'] == 3) & \n",
    "        (df_stats_true['parameter'] == 0.21) & \n",
    "        (df_stats_true['dimensionality'] == 'baseline') &\n",
    "        (df_stats_true['graph'] == 'umap_fuzzy_simplicial_set') &\n",
    "        (df_stats_true['clustering'] == 'leiden_cpm') &\n",
    "        (df_stats_true['metric'] == 'cosine') &\n",
    "        (df_stats_true['nclusters'] > 50)\n",
    "    ]"
   ]
  },
  {
   "cell_type": "code",
   "execution_count": null,
   "metadata": {},
   "outputs": [],
   "source": [
    "df_stats_true.loc[\n",
    "        (df_stats_true['nns'] == 3) & \n",
    "        (df_stats_true['parameter'] == 0.405) & \n",
    "        (df_stats_true['dimensionality'] == 'baseline') &\n",
    "        (df_stats_true['graph'] == 'umap_fuzzy_simplicial_set') &\n",
    "        (df_stats_true['clustering'] == 'leiden_cpm') &\n",
    "        (df_stats_true['metric'] == 'cosine') &\n",
    "        (df_stats_true['nclusters'] > 50)\n",
    "    ]"
   ]
  },
  {
   "cell_type": "code",
   "execution_count": null,
   "metadata": {},
   "outputs": [],
   "source": [
    "df_stats_true.loc[\n",
    "        # (df_stats_true['nns'] == 3) & \n",
    "        # (df_stats_true['parameter'] == 0.405) & \n",
    "        (df_stats_true['dimensionality'] == 'baseline') &\n",
    "        (df_stats_true['graph'] == 'umap_fuzzy_simplicial_set') &\n",
    "        (df_stats_true['clustering'] == 'leiden_cpm') &\n",
    "        (df_stats_true['metric'] == 'cosine') &\n",
    "        (df_stats_true['mean_cluster_size'] > 10) &\n",
    "        (df_stats_true['median_cluster_size'] > 10) &\n",
    "        (df_stats_true['mean_cluster_size'] < 30) &\n",
    "        (df_stats_true['median_cluster_size'] < 30) &\n",
    "        (df_stats_true['nenriched_cluster_genes'] > 7000) &\n",
    "        (df_stats_true['modularity'] > 0.4)\n",
    "    ]"
   ]
  },
  {
   "cell_type": "code",
   "execution_count": null,
   "metadata": {},
   "outputs": [],
   "source": [
    "import matplotlib.pyplot as plt\n",
    "# from mpl_toolkits.mplot3d import Axes3D\n",
    "\n",
    "fig = plt.figure(figsize=(20, 20))\n",
    "ax = fig.add_subplot(111, projection='3d')\n",
    "\n",
    "for idx, p in enumerate(plot_ps):\n",
    "    df = df_stats_true.loc[\n",
    "        # (df_stats_true['nns'] == 6) & \n",
    "        (df_stats_true['parameter'] == p) & \n",
    "        (df_stats_true['dimensionality'] == 'baseline') &\n",
    "        (df_stats_true['graph'] == 'umap_fuzzy_simplicial_set') &\n",
    "        (df_stats_true['clustering'] == 'leiden_cpm') &\n",
    "        (df_stats_true['metric'] == plotting_metric) &\n",
    "        (df_stats_true['nclusters'] > 50)\n",
    "    ]\n",
    "\n",
    "    y = 'nenriched_clusters'\n",
    "    x = 'modularity'\n",
    "    z = 'nenriched_cluster_genes'\n",
    "\n",
    "    ax.plot(df[x].values, df[y].values, df[z].values, label=str(p), color=colors[idx])\n",
    "\n",
    "# Set axis labels and title\n",
    "ax.set_xlabel(x)\n",
    "ax.set_ylabel(y)\n",
    "ax.set_zlabel(z)\n",
    "plt.title(f'{y} VS. {x} VS. {z}')\n",
    "\n",
    "# Display the plot\n",
    "plt.legend()\n",
    "plt.show()"
   ]
  },
  {
   "cell_type": "markdown",
   "metadata": {},
   "source": [
    "# NN SCATTER FOR VARYING RP PLOTTING PARAMETERS"
   ]
  },
  {
   "cell_type": "code",
   "execution_count": null,
   "metadata": {},
   "outputs": [],
   "source": [
    "for p in sorted(df_stats_true['parameter'].unique()):\n",
    "    df = df_stats_true.loc[\n",
    "        # (df_stats_true['nns'] == 6) & \n",
    "        (df_stats_true['parameter'] == p) & \n",
    "\n",
    "        (df_stats_true['dimensionality'] == 'baseline') &\n",
    "        (df_stats_true['graph'] == 'umap_fuzzy_simplicial_set') &\n",
    "        (df_stats_true['clustering'] == 'leiden_cpm') &\n",
    "        (df_stats_true['metric'] == plotting_metric) &\n",
    "        (df_stats_true['nclusters'] > 50)\n",
    "    ]\n",
    "\n",
    "    y = 'nenriched_clusters'\n",
    "    # y = 'num_clusters_fraction_of_genes_enriched'\n",
    "\n",
    "    # x = 'silhouette_score'\n",
    "    x = 'modularity'\n",
    "\n",
    "    # labels = 'parameter'\n",
    "    labels = 'nns'\n",
    "\n",
    "    # Create scatter plot\n",
    "    plt.scatter(df[x].values, df[y].values)\n",
    "\n",
    "    label_adj = (df[x].max() - df[x].min()) * 0.03\n",
    "\n",
    "    # Label each point with the number of nearest neighbors below the point\n",
    "    for i, txt in enumerate(df[labels].values):\n",
    "        plt.text(df[x].values[i] + label_adj, df[y].values[i], str(txt),\n",
    "                fontsize=8, ha='center', va='top', color='black')\n",
    "\n",
    "    # Set axis labels and title\n",
    "    plt.xlabel(x)\n",
    "    plt.ylabel(y)\n",
    "    plt.title(f'{y} VS. {x} for varying {labels}')\n",
    "\n",
    "    # Display the plot\n",
    "    print(p)\n",
    "    plt.show()"
   ]
  }
 ],
 "metadata": {
  "kernelspec": {
   "display_name": "Python 3",
   "language": "python",
   "name": "python3"
  },
  "language_info": {
   "codemirror_mode": {
    "name": "ipython",
    "version": 3
   },
   "file_extension": ".py",
   "mimetype": "text/x-python",
   "name": "python",
   "nbconvert_exporter": "python",
   "pygments_lexer": "ipython3",
   "version": "3.9.9"
  }
 },
 "nbformat": 4,
 "nbformat_minor": 2
}

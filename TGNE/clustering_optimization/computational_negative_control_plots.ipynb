{
 "cells": [
  {
   "cell_type": "code",
   "execution_count": 1,
   "metadata": {},
   "outputs": [],
   "source": [
    "from matplotlib.pyplot import show as show_static\n",
    "import matplotlib.pyplot as plt\n",
    "import numpy as np\n",
    "import sys\n",
    "import glob\n",
    "from scipy import stats\n",
    "\n",
    "sys.path.append('../../')\n",
    "from utils import dataframe_utils, clustering_utils"
   ]
  },
  {
   "cell_type": "code",
   "execution_count": 2,
   "metadata": {},
   "outputs": [],
   "source": [
    "norm_type = 'min_max'\n",
    "# norm_type = 'z_score'\n",
    "\n",
    "microarray_data_pattern = f'./2024-08-08_microarray/{norm_type}/**/*.csv'\n",
    "\n",
    "rna_seq_data_pattern = f'./2024-08-08_rna_seq/{norm_type}/**/*.csv'\n",
    "\n",
    "microarray_stats_files = glob.glob(microarray_data_pattern)\n",
    "\n",
    "rna_seq_stats_files = glob.glob(rna_seq_data_pattern)\n",
    "\n",
    "microarray_stats_df = dataframe_utils.csv_files_to_df(microarray_stats_files)\n",
    "\n",
    "rna_seq_stats_df = dataframe_utils.csv_files_to_df(rna_seq_stats_files)"
   ]
  },
  {
   "cell_type": "code",
   "execution_count": 3,
   "metadata": {},
   "outputs": [
    {
     "data": {
      "text/plain": [
       "['./2024-08-08_microarray/min_max/nc/microarray_min_max_NC_manhattan_3_2024-08-13_00-25-21.537267_scan_stats.csv',\n",
       " './2024-08-08_microarray/min_max/nc/microarray_min_max_TNC_manhattan_3_2024-08-13_12-42-16.571431_scan_stats.csv',\n",
       " './2024-08-08_microarray/min_max/exp/microarray_min_max_EXP_manhattan_9_2024-08-12_18-27-18.970980_scan_stats.csv',\n",
       " './2024-08-08_microarray/min_max/exp/microarray_min_max_EXP_angular_6_2024-09-17_10-38-01.935912_scan_stats.csv',\n",
       " './2024-08-08_microarray/min_max/exp/microarray_min_max_EXP_correlation_4_2024-09-15_22-00-11.226104_scan_stats.csv',\n",
       " './2024-08-08_microarray/min_max/exp/microarray_min_max_EXP_euclidean_10_2024-09-13_12-02-55.193484_scan_stats.csv',\n",
       " './2024-08-08_microarray/min_max/exp/microarray_min_max_EXP_manhattan_12_2024-08-12_18-27-18.971147_scan_stats.csv',\n",
       " './2024-08-08_microarray/min_max/exp/microarray_min_max_EXP_angular_7_2024-09-17_10-38-01.935286_scan_stats.csv',\n",
       " './2024-08-08_microarray/min_max/exp/microarray_min_max_EXP_angular_4_2024-09-17_10-38-01.937090_scan_stats.csv',\n",
       " './2024-08-08_microarray/min_max/exp/microarray_min_max_EXP_correlation_7_2024-09-15_22-03-11.577484_scan_stats.csv',\n",
       " './2024-08-08_microarray/min_max/exp/microarray_min_max_EXP_manhattan_11_2024-08-12_18-27-18.971101_scan_stats.csv',\n",
       " './2024-08-08_microarray/min_max/exp/microarray_min_max_EXP_euclidean_6_2024-09-13_12-02-55.192801_scan_stats.csv',\n",
       " './2024-08-08_microarray/min_max/exp/microarray_min_max_EXP_euclidean_4_2024-09-13_12-02-55.207909_scan_stats.csv',\n",
       " './2024-08-08_microarray/min_max/exp/microarray_min_max_EXP_angular_10_2024-09-17_12-01-48.581742_scan_stats.csv',\n",
       " './2024-08-08_microarray/min_max/exp/microarray_min_max_EXP_correlation_2_2024-09-15_21-58-24.196659_scan_stats.csv',\n",
       " './2024-08-08_microarray/min_max/exp/microarray_min_max_EXP_euclidean_11_2024-09-13_12-02-55.206559_scan_stats.csv',\n",
       " './2024-08-08_microarray/min_max/exp/microarray_min_max_EXP_correlation_3_2024-09-15_21-59-11.040286_scan_stats.csv',\n",
       " './2024-08-08_microarray/min_max/exp/microarray_min_max_EXP_manhattan_4_2024-08-12_18-27-18.971335_scan_stats.csv',\n",
       " './2024-08-08_microarray/min_max/exp/microarray_min_max_EXP_angular_9_2024-09-17_10-38-01.936138_scan_stats.csv',\n",
       " './2024-08-08_microarray/min_max/exp/microarray_min_max_EXP_angular_3_2024-09-17_10-38-01.936953_scan_stats.csv',\n",
       " './2024-08-08_microarray/min_max/exp/microarray_min_max_EXP_euclidean_8_2024-09-13_12-02-55.210377_scan_stats.csv',\n",
       " './2024-08-08_microarray/min_max/exp/microarray_min_max_EXP_angular_8_2024-09-17_10-38-01.935987_scan_stats.csv',\n",
       " './2024-08-08_microarray/min_max/exp/microarray_min_max_EXP_manhattan_10_2024-08-12_18-27-18.971166_scan_stats.csv',\n",
       " './2024-08-08_microarray/min_max/exp/microarray_min_max_EXP_correlation_11_2024-09-15_21-35-10.138663_scan_stats.csv',\n",
       " './2024-08-08_microarray/min_max/exp/microarray_min_max_EXP_angular_5_2024-09-17_10-38-01.937567_scan_stats.csv',\n",
       " './2024-08-08_microarray/min_max/exp/microarray_min_max_EXP_correlation_8_2024-09-15_22-04-07.586057_scan_stats.csv',\n",
       " './2024-08-08_microarray/min_max/exp/microarray_min_max_EXP_correlation_6_2024-09-15_22-03-10.902441_scan_stats.csv',\n",
       " './2024-08-08_microarray/min_max/exp/microarray_min_max_EXP_correlation_5_2024-09-15_22-00-11.230583_scan_stats.csv',\n",
       " './2024-08-08_microarray/min_max/exp/microarray_min_max_EXP_euclidean_7_2024-09-13_12-02-55.213640_scan_stats.csv',\n",
       " './2024-08-08_microarray/min_max/exp/microarray_min_max_EXP_manhattan_7_2024-08-12_18-27-18.971115_scan_stats.csv',\n",
       " './2024-08-08_microarray/min_max/exp/microarray_min_max_EXP_manhattan_8_2024-08-12_18-27-18.971190_scan_stats.csv',\n",
       " './2024-08-08_microarray/min_max/exp/microarray_min_max_EXP_angular_12_2024-09-17_10-38-01.935861_scan_stats.csv',\n",
       " './2024-08-08_microarray/min_max/exp/microarray_min_max_EXP_euclidean_5_2024-09-13_12-02-55.211699_scan_stats.csv',\n",
       " './2024-08-08_microarray/min_max/exp/microarray_min_max_EXP_angular_2_2024-09-17_10-38-01.936146_scan_stats.csv',\n",
       " './2024-08-08_microarray/min_max/exp/microarray_min_max_EXP_manhattan_5_2024-08-12_18-27-18.971141_scan_stats.csv',\n",
       " './2024-08-08_microarray/min_max/exp/microarray_min_max_EXP_correlation_9_2024-09-15_22-04-08.078104_scan_stats.csv',\n",
       " './2024-08-08_microarray/min_max/exp/microarray_min_max_EXP_correlation_10_2024-09-15_21-35-09.574545_scan_stats.csv',\n",
       " './2024-08-08_microarray/min_max/exp/microarray_min_max_EXP_correlation_12_2024-09-15_21-37-09.008986_scan_stats.csv',\n",
       " './2024-08-08_microarray/min_max/exp/microarray_min_max_EXP_angular_11_2024-09-17_10-38-01.937519_scan_stats.csv',\n",
       " './2024-08-08_microarray/min_max/exp/microarray_min_max_EXP_manhattan_2_2024-08-12_18-27-18.970989_scan_stats.csv',\n",
       " './2024-08-08_microarray/min_max/exp/microarray_min_max_EXP_manhattan_3_2024-08-12_18-14-49.419318_scan_stats.csv',\n",
       " './2024-08-08_microarray/min_max/exp/microarray_min_max_EXP_euclidean_2_2024-09-13_12-02-55.191876_scan_stats.csv',\n",
       " './2024-08-08_microarray/min_max/exp/microarray_min_max_EXP_euclidean_12_2024-09-13_12-02-55.201975_scan_stats.csv',\n",
       " './2024-08-08_microarray/min_max/exp/microarray_min_max_EXP_manhattan_6_2024-08-12_18-27-18.971321_scan_stats.csv',\n",
       " './2024-08-08_microarray/min_max/exp/microarray_min_max_EXP_euclidean_3_2024-09-13_11-43-51.683246_scan_stats.csv',\n",
       " './2024-08-08_microarray/min_max/exp/microarray_min_max_EXP_euclidean_9_2024-09-13_12-02-55.192736_scan_stats.csv']"
      ]
     },
     "execution_count": 3,
     "metadata": {},
     "output_type": "execute_result"
    }
   ],
   "source": [
    "microarray_stats_files"
   ]
  },
  {
   "cell_type": "code",
   "execution_count": 4,
   "metadata": {},
   "outputs": [
    {
     "data": {
      "text/plain": [
       "['./2024-08-08_rna_seq/min_max/nc/rna_seq_min_max_NC_manhattan_3_2024-08-13_00-25-21.934158_scan_stats.csv',\n",
       " './2024-08-08_rna_seq/min_max/nc/rna_seq_min_max_TNC_manhattan_3_2024-08-13_12-42-16.627921_scan_stats.csv',\n",
       " './2024-08-08_rna_seq/min_max/exp/rna_seq_min_max_EXP_manhattan_12_2024-08-12_18-27-18.971908_scan_stats.csv',\n",
       " './2024-08-08_rna_seq/min_max/exp/rna_seq_min_max_EXP_manhattan_3_2024-08-12_18-14-49.429985_scan_stats.csv',\n",
       " './2024-08-08_rna_seq/min_max/exp/rna_seq_min_max_EXP_angular_2_2024-09-17_10-38-01.936495_scan_stats.csv',\n",
       " './2024-08-08_rna_seq/min_max/exp/rna_seq_min_max_EXP_correlation_10_2024-09-15_22-04-07.722470_scan_stats.csv',\n",
       " './2024-08-08_rna_seq/min_max/exp/rna_seq_min_max_EXP_correlation_11_2024-09-15_22-05-08.887245_scan_stats.csv',\n",
       " './2024-08-08_rna_seq/min_max/exp/rna_seq_min_max_EXP_correlation_12_2024-09-15_22-06-09.172730_scan_stats.csv',\n",
       " './2024-08-08_rna_seq/min_max/exp/rna_seq_min_max_EXP_manhattan_11_2024-08-12_18-27-18.971566_scan_stats.csv',\n",
       " './2024-08-08_rna_seq/min_max/exp/rna_seq_min_max_EXP_euclidean_6_2024-09-13_12-02-55.206763_scan_stats.csv',\n",
       " './2024-08-08_rna_seq/min_max/exp/rna_seq_min_max_EXP_angular_7_2024-09-17_10-38-01.936688_scan_stats.csv',\n",
       " './2024-08-08_rna_seq/min_max/exp/rna_seq_min_max_EXP_manhattan_10_2024-08-12_18-27-18.971937_scan_stats.csv',\n",
       " './2024-08-08_rna_seq/min_max/exp/rna_seq_min_max_EXP_manhattan_8_2024-08-12_18-27-18.971183_scan_stats.csv',\n",
       " './2024-08-08_rna_seq/min_max/exp/rna_seq_min_max_EXP_euclidean_4_2024-09-13_12-02-55.206628_scan_stats.csv',\n",
       " './2024-08-08_rna_seq/min_max/exp/rna_seq_min_max_EXP_angular_10_2024-09-17_10-38-01.935636_scan_stats.csv',\n",
       " './2024-08-08_rna_seq/min_max/exp/rna_seq_min_max_EXP_angular_5_2024-09-17_10-38-01.936579_scan_stats.csv',\n",
       " './2024-08-08_rna_seq/min_max/exp/rna_seq_min_max_EXP_angular_9_2024-09-17_10-38-01.935044_scan_stats.csv',\n",
       " './2024-08-08_rna_seq/min_max/exp/rna_seq_min_max_EXP_correlation_7_2024-09-16_04-48-43.562280_scan_stats.csv',\n",
       " './2024-08-08_rna_seq/min_max/exp/rna_seq_min_max_EXP_angular_6_2024-09-17_10-38-01.937315_scan_stats.csv',\n",
       " './2024-08-08_rna_seq/min_max/exp/rna_seq_min_max_EXP_angular_12_2024-09-17_10-38-01.936032_scan_stats.csv',\n",
       " './2024-08-08_rna_seq/min_max/exp/rna_seq_min_max_EXP_euclidean_9_2024-09-13_12-02-55.192935_scan_stats.csv',\n",
       " './2024-08-08_rna_seq/min_max/exp/rna_seq_min_max_EXP_angular_8_2024-09-17_10-38-01.935880_scan_stats.csv',\n",
       " './2024-08-08_rna_seq/min_max/exp/rna_seq_min_max_EXP_manhattan_5_2024-08-12_18-27-18.971532_scan_stats.csv',\n",
       " './2024-08-08_rna_seq/min_max/exp/rna_seq_min_max_EXP_euclidean_11_2024-09-13_12-02-55.204872_scan_stats.csv',\n",
       " './2024-08-08_rna_seq/min_max/exp/rna_seq_min_max_EXP_correlation_2_2024-09-15_22-07-07.837899_scan_stats.csv',\n",
       " './2024-08-08_rna_seq/min_max/exp/rna_seq_min_max_EXP_correlation_3_2024-09-15_22-08-04.649698_scan_stats.csv',\n",
       " './2024-08-08_rna_seq/min_max/exp/rna_seq_min_max_EXP_euclidean_5_2024-09-13_12-02-55.201385_scan_stats.csv',\n",
       " './2024-08-08_rna_seq/min_max/exp/rna_seq_min_max_EXP_angular_4_2024-09-17_10-38-01.937047_scan_stats.csv',\n",
       " './2024-08-08_rna_seq/min_max/exp/rna_seq_min_max_EXP_manhattan_6_2024-08-12_18-27-18.971211_scan_stats.csv',\n",
       " './2024-08-08_rna_seq/min_max/exp/rna_seq_min_max_EXP_correlation_5_2024-09-16_04-48-43.530057_scan_stats.csv',\n",
       " './2024-08-08_rna_seq/min_max/exp/rna_seq_min_max_EXP_euclidean_8_2024-09-13_12-02-55.192914_scan_stats.csv',\n",
       " './2024-08-08_rna_seq/min_max/exp/rna_seq_min_max_EXP_euclidean_10_2024-09-13_12-02-55.205084_scan_stats.csv',\n",
       " './2024-08-08_rna_seq/min_max/exp/rna_seq_min_max_EXP_euclidean_12_2024-09-13_12-02-55.209596_scan_stats.csv',\n",
       " './2024-08-08_rna_seq/min_max/exp/rna_seq_min_max_EXP_angular_11_2024-09-17_10-38-01.936881_scan_stats.csv',\n",
       " './2024-08-08_rna_seq/min_max/exp/rna_seq_min_max_EXP_correlation_9_2024-09-16_04-54-16.756952_scan_stats.csv',\n",
       " './2024-08-08_rna_seq/min_max/exp/rna_seq_min_max_EXP_euclidean_3_2024-09-13_11-43-51.682874_scan_stats.csv',\n",
       " './2024-08-08_rna_seq/min_max/exp/rna_seq_min_max_EXP_correlation_6_2024-09-16_04-48-43.539028_scan_stats.csv',\n",
       " './2024-08-08_rna_seq/min_max/exp/rna_seq_min_max_EXP_euclidean_2_2024-09-13_12-02-55.205684_scan_stats.csv',\n",
       " './2024-08-08_rna_seq/min_max/exp/rna_seq_min_max_EXP_manhattan_9_2024-08-12_18-27-18.971541_scan_stats.csv',\n",
       " './2024-08-08_rna_seq/min_max/exp/rna_seq_min_max_EXP_euclidean_7_2024-09-13_12-02-55.200353_scan_stats.csv',\n",
       " './2024-08-08_rna_seq/min_max/exp/rna_seq_min_max_EXP_correlation_8_2024-09-16_04-48-57.880067_scan_stats.csv',\n",
       " './2024-08-08_rna_seq/min_max/exp/rna_seq_min_max_EXP_manhattan_7_2024-08-12_18-27-18.971135_scan_stats.csv',\n",
       " './2024-08-08_rna_seq/min_max/exp/rna_seq_min_max_EXP_angular_3_2024-09-17_10-38-01.935816_scan_stats.csv',\n",
       " './2024-08-08_rna_seq/min_max/exp/rna_seq_min_max_EXP_manhattan_4_2024-08-12_18-27-18.971575_scan_stats.csv',\n",
       " './2024-08-08_rna_seq/min_max/exp/rna_seq_min_max_EXP_manhattan_2_2024-08-12_18-27-18.971172_scan_stats.csv',\n",
       " './2024-08-08_rna_seq/min_max/exp/rna_seq_min_max_EXP_correlation_4_2024-09-15_22-08-05.171167_scan_stats.csv']"
      ]
     },
     "execution_count": 4,
     "metadata": {},
     "output_type": "execute_result"
    }
   ],
   "source": [
    "rna_seq_stats_files"
   ]
  },
  {
   "cell_type": "code",
   "execution_count": 5,
   "metadata": {},
   "outputs": [],
   "source": [
    "microarray_stats_df['fraction_clusters_enriched'] = microarray_stats_df.apply(clustering_utils.compute_fraction_clusters_enriched, axis=1)"
   ]
  },
  {
   "cell_type": "code",
   "execution_count": 6,
   "metadata": {},
   "outputs": [],
   "source": [
    "rna_seq_stats_df['fraction_clusters_enriched'] = rna_seq_stats_df.apply(clustering_utils.compute_fraction_clusters_enriched, axis=1)"
   ]
  },
  {
   "cell_type": "code",
   "execution_count": 7,
   "metadata": {},
   "outputs": [
    {
     "data": {
      "text/plain": [
       "((10985, 34), (11194, 34))"
      ]
     },
     "execution_count": 7,
     "metadata": {},
     "output_type": "execute_result"
    }
   ],
   "source": [
    "rna_seq_stats_df.shape, microarray_stats_df.shape"
   ]
  },
  {
   "cell_type": "code",
   "execution_count": 8,
   "metadata": {},
   "outputs": [
    {
     "name": "stdout",
     "output_type": "stream",
     "text": [
      "min_max\n",
      "1000 1000\n",
      "-0.0535916308134494 0.06790995147320358\n",
      "2.5465756509969695e-06 2.3708652283209705e-06\n",
      "Distribution Comparision - T-statistic: 146.52878513991064, P-value: 0.0\n",
      "EXP to Simulated - Z-score: 28.205280523680212, P-value: 0.0\n",
      "EXP to Scrambled - Z-score: 20.772666541790908, P-value: 0.0\n"
     ]
    },
    {
     "data": {
      "image/png": "[encoded data removed]",
      "text/plain": [
       "<Figure size 640x480 with 1 Axes>"
      ]
     },
     "metadata": {},
     "output_type": "display_data"
    },
    {
     "name": "stdout",
     "output_type": "stream",
     "text": [
      "1000 1000\n",
      "-0.008248398300443216 -0.0451823664012182\n",
      "2.0889759582713136e-06 2.1185061067879995e-06\n",
      "Distribution Comparision - T-statistic: 44.595027549700966, P-value: 4.814414198067558e-302\n",
      "EXP to Simulated - Z-score: 89.80215158390892, P-value: 0.0\n",
      "EXP to Scrambled - Z-score: 88.432266584201, P-value: 0.0\n"
     ]
    },
    {
     "data": {
      "image/png": "[encoded data removed]",
      "text/plain": [
       "<Figure size 640x480 with 1 Axes>"
      ]
     },
     "metadata": {},
     "output_type": "display_data"
    }
   ],
   "source": [
    "import statistics\n",
    "\n",
    "np.random.seed(seed=42)\n",
    "\n",
    "dfs = {'rna_seq': rna_seq_stats_df, 'microarray': microarray_stats_df}\n",
    "\n",
    "print(norm_type)\n",
    "\n",
    "for name, df_stats in dfs.items():\n",
    "\n",
    "    df_stats_exp = df_stats.loc[\n",
    "        (df_stats['partition_type'] == 'EXP')\n",
    "        &\n",
    "        (df_stats['metric'] == 'manhattan')\n",
    "        &\n",
    "        (df_stats['nns'] == 3)\n",
    "        &\n",
    "        (df_stats['parameter'] == 0.005)\n",
    "                                ]\n",
    "    \n",
    "    df_stats_nc = df_stats.loc[df_stats['partition_type'] == 'NC']\n",
    "    df_stats_tnc = df_stats.loc[df_stats['partition_type'] == 'TNC']\n",
    "    # hist_clustering_metric = 'silhouette_score'\n",
    "    hist_clustering_metric = 'modularity'\n",
    "\n",
    "    hist_data = np.random.choice(list(df_stats_nc[hist_clustering_metric].values), 1000, replace=False) \n",
    "    # hist_data = df_stats_nc[hist_clustering_metric].values\n",
    "    hist_data_tnc = np.random.choice(list(df_stats_tnc[hist_clustering_metric].values), 1000, replace=False) \n",
    "    # hist_data_tnc = df_stats_tnc[hist_clustering_metric].values\n",
    "    exp_line_at_x = df_stats_exp[hist_clustering_metric].values[0]\n",
    "    exp_line_at_x\n",
    "    # tnc_line_at_x = df_stats_tnc[hist_clustering_metric].values[0]\n",
    "    # tnc_line_at_x\n",
    "\n",
    "    print(len(hist_data), len(hist_data_tnc))\n",
    "\n",
    "    print(stats.skew(hist_data), stats.skew(hist_data_tnc))\n",
    "\n",
    "    print(statistics.variance(hist_data), statistics.variance(hist_data_tnc))\n",
    "\n",
    "    # Create the histogram\n",
    "    plt.hist(hist_data, bins=30, color='black', label='Scrambled NC')\n",
    "    plt.hist(hist_data_tnc, bins=30, color='purple', label='Simulated NC')\n",
    "\n",
    "    t_stat, p_value = stats.ttest_ind(hist_data, hist_data_tnc)\n",
    "    print(f\"Distribution Comparision - T-statistic: {t_stat}, P-value: {p_value}\")\n",
    "\n",
    "    # Calculate z-score\n",
    "    z_score = (exp_line_at_x - np.mean(hist_data_tnc)) / np.std(hist_data_tnc)\n",
    "    # Calculate p-value for a two-tailed test\n",
    "    p_value = 2 * (1 - stats.norm.cdf(abs(z_score)))\n",
    "    print(f\"EXP to Simulated - Z-score: {z_score}, P-value: {p_value}\")\n",
    "\n",
    "    # Calculate z-score\n",
    "    z_score = (exp_line_at_x - np.mean(hist_data)) / np.std(hist_data)\n",
    "    # Calculate p-value for a two-tailed test\n",
    "    p_value = 2 * (1 - stats.norm.cdf(abs(z_score)))\n",
    "    print(f\"EXP to Scrambled - Z-score: {z_score}, P-value: {p_value}\")\n",
    "\n",
    "    # Add a vertical line at the specified x value\n",
    "    # plt.axvline(x=exp_line_at_x, color='red', linestyle='dashed', linewidth=2, label='EXP at x={} ($P$ < 0.001)'.format(round(exp_line_at_x, 2)))\n",
    "    # plt.axvline(x=tnc_line_at_x, color='blue', linestyle='dashed', linewidth=2, label='TNC at x={}'.format(round(tnc_line_at_x, 2)))\n",
    "    plt.axvline(x=exp_line_at_x, color='#47EA00', linestyle='dashed', linewidth=2, label='Experimental')\n",
    "    # plt.axvline(x=tnc_line_at_x, color='purple', linestyle='dashed', linewidth=2, label='TNC')\n",
    "\n",
    "\n",
    "    # Add labels and title\n",
    "    plt.xlabel(hist_clustering_metric.capitalize())\n",
    "    plt.ylabel('# of Negative Control Paritions')\n",
    "    # plt.title(f'{len(hist_data)} Neg. Controls vs. Experimental {hist_clustering_metric.capitalize()} Distribution')\n",
    "\n",
    "    plt.legend(bbox_to_anchor=(0.325, 1))\n",
    "\n",
    "    plt.savefig(f'{name}_{norm_type}_mod_plot.svg', format='svg')\n",
    "\n",
    "    plt.show()"
   ]
  },
  {
   "cell_type": "code",
   "execution_count": null,
   "metadata": {},
   "outputs": [],
   "source": []
  },
  {
   "cell_type": "code",
   "execution_count": 9,
   "metadata": {},
   "outputs": [
    {
     "data": {
      "text/plain": [
       "-0.05311445028803653"
      ]
     },
     "execution_count": 9,
     "metadata": {},
     "output_type": "execute_result"
    }
   ],
   "source": [
    "df_stats_nc['silhouette_score'].mean()"
   ]
  },
  {
   "cell_type": "code",
   "execution_count": 10,
   "metadata": {},
   "outputs": [
    {
     "data": {
      "text/plain": [
       "-0.0530013598211022"
      ]
     },
     "execution_count": 10,
     "metadata": {},
     "output_type": "execute_result"
    }
   ],
   "source": [
    "df_stats_nc['silhouette_score'].median()"
   ]
  },
  {
   "cell_type": "code",
   "execution_count": 11,
   "metadata": {},
   "outputs": [
    {
     "data": {
      "text/plain": [
       "-0.0487132748356032"
      ]
     },
     "execution_count": 11,
     "metadata": {},
     "output_type": "execute_result"
    }
   ],
   "source": [
    "df_stats_nc['silhouette_score'].max()"
   ]
  },
  {
   "cell_type": "code",
   "execution_count": 12,
   "metadata": {},
   "outputs": [
    {
     "data": {
      "text/plain": [
       "0.6422849595374144"
      ]
     },
     "execution_count": 12,
     "metadata": {},
     "output_type": "execute_result"
    }
   ],
   "source": [
    "df_stats_nc['modularity'].mean()"
   ]
  },
  {
   "cell_type": "code",
   "execution_count": 13,
   "metadata": {},
   "outputs": [
    {
     "data": {
      "text/plain": [
       "0.6423189927811974"
      ]
     },
     "execution_count": 13,
     "metadata": {},
     "output_type": "execute_result"
    }
   ],
   "source": [
    "df_stats_nc['modularity'].median()"
   ]
  },
  {
   "cell_type": "code",
   "execution_count": 14,
   "metadata": {},
   "outputs": [
    {
     "data": {
      "text/plain": [
       "0.6466359981164015"
      ]
     },
     "execution_count": 14,
     "metadata": {},
     "output_type": "execute_result"
    }
   ],
   "source": [
    "df_stats_nc['modularity'].max()"
   ]
  },
  {
   "cell_type": "code",
   "execution_count": 15,
   "metadata": {},
   "outputs": [
    {
     "data": {
      "text/plain": [
       "(0.6422849595374144, 0.0014381399276310362, 4.5477977653437954e-05)"
      ]
     },
     "execution_count": 15,
     "metadata": {},
     "output_type": "execute_result"
    }
   ],
   "source": [
    "nc_mean = df_stats_nc[hist_clustering_metric].mean()\n",
    "nc_std = df_stats_nc[hist_clustering_metric].std()\n",
    "\n",
    "nc_se = nc_std / (np.sqrt(len(hist_data)))\n",
    "\n",
    "nc_mean, nc_std, nc_se"
   ]
  },
  {
   "cell_type": "code",
   "execution_count": 16,
   "metadata": {},
   "outputs": [
    {
     "data": {
      "text/plain": [
       "(2809.205415504296, 999)"
      ]
     },
     "execution_count": 16,
     "metadata": {},
     "output_type": "execute_result"
    }
   ],
   "source": [
    "t_stat = (exp_line_at_x - nc_mean) / nc_se\n",
    "\n",
    "d_freedom = len(hist_data) - 1\n",
    "\n",
    "t_stat, d_freedom"
   ]
  },
  {
   "cell_type": "code",
   "execution_count": 17,
   "metadata": {},
   "outputs": [
    {
     "data": {
      "text/plain": [
       "0.0"
      ]
     },
     "execution_count": 17,
     "metadata": {},
     "output_type": "execute_result"
    }
   ],
   "source": [
    "p_value = 2 * (1 - stats.t.cdf(abs(t_stat), d_freedom))\n",
    "p_value"
   ]
  },
  {
   "cell_type": "code",
   "execution_count": 18,
   "metadata": {},
   "outputs": [
    {
     "data": {
      "text/plain": [
       "0.0"
      ]
     },
     "execution_count": 18,
     "metadata": {},
     "output_type": "execute_result"
    }
   ],
   "source": [
    "p_value = 2 * stats.t.sf(abs(t_stat), d_freedom)\n",
    "p_value"
   ]
  },
  {
   "cell_type": "code",
   "execution_count": 19,
   "metadata": {},
   "outputs": [
    {
     "data": {
      "text/plain": [
       "0.05"
      ]
     },
     "execution_count": 19,
     "metadata": {},
     "output_type": "execute_result"
    }
   ],
   "source": [
    "alpha = 0.05\n",
    "alpha"
   ]
  },
  {
   "cell_type": "code",
   "execution_count": 20,
   "metadata": {},
   "outputs": [
    {
     "data": {
      "text/plain": [
       "True"
      ]
     },
     "execution_count": 20,
     "metadata": {},
     "output_type": "execute_result"
    }
   ],
   "source": [
    "p_value < alpha"
   ]
  }
 ],
 "metadata": {
  "kernelspec": {
   "display_name": "tgne_all.env",
   "language": "python",
   "name": "python3"
  },
  "language_info": {
   "codemirror_mode": {
    "name": "ipython",
    "version": 3
   },
   "file_extension": ".py",
   "mimetype": "text/x-python",
   "name": "python",
   "nbconvert_exporter": "python",
   "pygments_lexer": "ipython3",
   "version": "3.8.16"
  }
 },
 "nbformat": 4,
 "nbformat_minor": 2
}

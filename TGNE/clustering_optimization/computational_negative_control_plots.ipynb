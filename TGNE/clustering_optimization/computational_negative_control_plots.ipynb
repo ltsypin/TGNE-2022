{
 "cells": [
  {
   "cell_type": "code",
   "execution_count": 1,
   "metadata": {},
   "outputs": [],
   "source": [
    "from matplotlib.pyplot import show as show_static\n",
    "import matplotlib.pyplot as plt\n",
    "import numpy as np\n",
    "import sys\n",
    "import glob\n",
    "from scipy import stats\n",
    "\n",
    "sys.path.append('../../')\n",
    "from utils import dataframe_utils, clustering_utils"
   ]
  },
  {
   "cell_type": "code",
   "execution_count": 2,
   "metadata": {},
   "outputs": [
    {
     "name": "stderr",
     "output_type": "stream",
     "text": [
      "/Users/michaelbertagna/git/TGNE-2022/TGNE/clustering_optimization/../../utils/dataframe_utils.py:64: ParserWarning: Falling back to the 'python' engine because the 'c' engine does not support sep=None with delim_whitespace=False; you can avoid this warning by specifying engine='python'.\n",
      "  curr_df = pd.read_csv(f, sep=sep, names=cols)\n",
      "/Users/michaelbertagna/git/TGNE-2022/TGNE/clustering_optimization/../../utils/dataframe_utils.py:64: ParserWarning: Falling back to the 'python' engine because the 'c' engine does not support sep=None with delim_whitespace=False; you can avoid this warning by specifying engine='python'.\n",
      "  curr_df = pd.read_csv(f, sep=sep, names=cols)\n",
      "/Users/michaelbertagna/git/TGNE-2022/TGNE/clustering_optimization/../../utils/dataframe_utils.py:64: ParserWarning: Falling back to the 'python' engine because the 'c' engine does not support sep=None with delim_whitespace=False; you can avoid this warning by specifying engine='python'.\n",
      "  curr_df = pd.read_csv(f, sep=sep, names=cols)\n",
      "/Users/michaelbertagna/git/TGNE-2022/TGNE/clustering_optimization/../../utils/dataframe_utils.py:64: ParserWarning: Falling back to the 'python' engine because the 'c' engine does not support sep=None with delim_whitespace=False; you can avoid this warning by specifying engine='python'.\n",
      "  curr_df = pd.read_csv(f, sep=sep, names=cols)\n",
      "/Users/michaelbertagna/git/TGNE-2022/TGNE/clustering_optimization/../../utils/dataframe_utils.py:64: ParserWarning: Falling back to the 'python' engine because the 'c' engine does not support sep=None with delim_whitespace=False; you can avoid this warning by specifying engine='python'.\n",
      "  curr_df = pd.read_csv(f, sep=sep, names=cols)\n",
      "/Users/michaelbertagna/git/TGNE-2022/TGNE/clustering_optimization/../../utils/dataframe_utils.py:64: ParserWarning: Falling back to the 'python' engine because the 'c' engine does not support sep=None with delim_whitespace=False; you can avoid this warning by specifying engine='python'.\n",
      "  curr_df = pd.read_csv(f, sep=sep, names=cols)\n",
      "/Users/michaelbertagna/git/TGNE-2022/TGNE/clustering_optimization/../../utils/dataframe_utils.py:64: ParserWarning: Falling back to the 'python' engine because the 'c' engine does not support sep=None with delim_whitespace=False; you can avoid this warning by specifying engine='python'.\n",
      "  curr_df = pd.read_csv(f, sep=sep, names=cols)\n",
      "/Users/michaelbertagna/git/TGNE-2022/TGNE/clustering_optimization/../../utils/dataframe_utils.py:64: ParserWarning: Falling back to the 'python' engine because the 'c' engine does not support sep=None with delim_whitespace=False; you can avoid this warning by specifying engine='python'.\n",
      "  curr_df = pd.read_csv(f, sep=sep, names=cols)\n",
      "/Users/michaelbertagna/git/TGNE-2022/TGNE/clustering_optimization/../../utils/dataframe_utils.py:64: ParserWarning: Falling back to the 'python' engine because the 'c' engine does not support sep=None with delim_whitespace=False; you can avoid this warning by specifying engine='python'.\n",
      "  curr_df = pd.read_csv(f, sep=sep, names=cols)\n",
      "/Users/michaelbertagna/git/TGNE-2022/TGNE/clustering_optimization/../../utils/dataframe_utils.py:64: ParserWarning: Falling back to the 'python' engine because the 'c' engine does not support sep=None with delim_whitespace=False; you can avoid this warning by specifying engine='python'.\n",
      "  curr_df = pd.read_csv(f, sep=sep, names=cols)\n",
      "/Users/michaelbertagna/git/TGNE-2022/TGNE/clustering_optimization/../../utils/dataframe_utils.py:64: ParserWarning: Falling back to the 'python' engine because the 'c' engine does not support sep=None with delim_whitespace=False; you can avoid this warning by specifying engine='python'.\n",
      "  curr_df = pd.read_csv(f, sep=sep, names=cols)\n",
      "/Users/michaelbertagna/git/TGNE-2022/TGNE/clustering_optimization/../../utils/dataframe_utils.py:64: ParserWarning: Falling back to the 'python' engine because the 'c' engine does not support sep=None with delim_whitespace=False; you can avoid this warning by specifying engine='python'.\n",
      "  curr_df = pd.read_csv(f, sep=sep, names=cols)\n",
      "/Users/michaelbertagna/git/TGNE-2022/TGNE/clustering_optimization/../../utils/dataframe_utils.py:64: ParserWarning: Falling back to the 'python' engine because the 'c' engine does not support sep=None with delim_whitespace=False; you can avoid this warning by specifying engine='python'.\n",
      "  curr_df = pd.read_csv(f, sep=sep, names=cols)\n",
      "/Users/michaelbertagna/git/TGNE-2022/TGNE/clustering_optimization/../../utils/dataframe_utils.py:64: ParserWarning: Falling back to the 'python' engine because the 'c' engine does not support sep=None with delim_whitespace=False; you can avoid this warning by specifying engine='python'.\n",
      "  curr_df = pd.read_csv(f, sep=sep, names=cols)\n",
      "/Users/michaelbertagna/git/TGNE-2022/TGNE/clustering_optimization/../../utils/dataframe_utils.py:64: ParserWarning: Falling back to the 'python' engine because the 'c' engine does not support sep=None with delim_whitespace=False; you can avoid this warning by specifying engine='python'.\n",
      "  curr_df = pd.read_csv(f, sep=sep, names=cols)\n",
      "/Users/michaelbertagna/git/TGNE-2022/TGNE/clustering_optimization/../../utils/dataframe_utils.py:64: ParserWarning: Falling back to the 'python' engine because the 'c' engine does not support sep=None with delim_whitespace=False; you can avoid this warning by specifying engine='python'.\n",
      "  curr_df = pd.read_csv(f, sep=sep, names=cols)\n",
      "/Users/michaelbertagna/git/TGNE-2022/TGNE/clustering_optimization/../../utils/dataframe_utils.py:64: ParserWarning: Falling back to the 'python' engine because the 'c' engine does not support sep=None with delim_whitespace=False; you can avoid this warning by specifying engine='python'.\n",
      "  curr_df = pd.read_csv(f, sep=sep, names=cols)\n",
      "/Users/michaelbertagna/git/TGNE-2022/TGNE/clustering_optimization/../../utils/dataframe_utils.py:64: ParserWarning: Falling back to the 'python' engine because the 'c' engine does not support sep=None with delim_whitespace=False; you can avoid this warning by specifying engine='python'.\n",
      "  curr_df = pd.read_csv(f, sep=sep, names=cols)\n",
      "/Users/michaelbertagna/git/TGNE-2022/TGNE/clustering_optimization/../../utils/dataframe_utils.py:64: ParserWarning: Falling back to the 'python' engine because the 'c' engine does not support sep=None with delim_whitespace=False; you can avoid this warning by specifying engine='python'.\n",
      "  curr_df = pd.read_csv(f, sep=sep, names=cols)\n",
      "/Users/michaelbertagna/git/TGNE-2022/TGNE/clustering_optimization/../../utils/dataframe_utils.py:64: ParserWarning: Falling back to the 'python' engine because the 'c' engine does not support sep=None with delim_whitespace=False; you can avoid this warning by specifying engine='python'.\n",
      "  curr_df = pd.read_csv(f, sep=sep, names=cols)\n",
      "/Users/michaelbertagna/git/TGNE-2022/TGNE/clustering_optimization/../../utils/dataframe_utils.py:64: ParserWarning: Falling back to the 'python' engine because the 'c' engine does not support sep=None with delim_whitespace=False; you can avoid this warning by specifying engine='python'.\n",
      "  curr_df = pd.read_csv(f, sep=sep, names=cols)\n",
      "/Users/michaelbertagna/git/TGNE-2022/TGNE/clustering_optimization/../../utils/dataframe_utils.py:64: ParserWarning: Falling back to the 'python' engine because the 'c' engine does not support sep=None with delim_whitespace=False; you can avoid this warning by specifying engine='python'.\n",
      "  curr_df = pd.read_csv(f, sep=sep, names=cols)\n",
      "/Users/michaelbertagna/git/TGNE-2022/TGNE/clustering_optimization/../../utils/dataframe_utils.py:64: ParserWarning: Falling back to the 'python' engine because the 'c' engine does not support sep=None with delim_whitespace=False; you can avoid this warning by specifying engine='python'.\n",
      "  curr_df = pd.read_csv(f, sep=sep, names=cols)\n",
      "/Users/michaelbertagna/git/TGNE-2022/TGNE/clustering_optimization/../../utils/dataframe_utils.py:64: ParserWarning: Falling back to the 'python' engine because the 'c' engine does not support sep=None with delim_whitespace=False; you can avoid this warning by specifying engine='python'.\n",
      "  curr_df = pd.read_csv(f, sep=sep, names=cols)\n",
      "/Users/michaelbertagna/git/TGNE-2022/TGNE/clustering_optimization/../../utils/dataframe_utils.py:64: ParserWarning: Falling back to the 'python' engine because the 'c' engine does not support sep=None with delim_whitespace=False; you can avoid this warning by specifying engine='python'.\n",
      "  curr_df = pd.read_csv(f, sep=sep, names=cols)\n",
      "/Users/michaelbertagna/git/TGNE-2022/TGNE/clustering_optimization/../../utils/dataframe_utils.py:64: ParserWarning: Falling back to the 'python' engine because the 'c' engine does not support sep=None with delim_whitespace=False; you can avoid this warning by specifying engine='python'.\n",
      "  curr_df = pd.read_csv(f, sep=sep, names=cols)\n",
      "/Users/michaelbertagna/git/TGNE-2022/TGNE/clustering_optimization/../../utils/dataframe_utils.py:64: ParserWarning: Falling back to the 'python' engine because the 'c' engine does not support sep=None with delim_whitespace=False; you can avoid this warning by specifying engine='python'.\n",
      "  curr_df = pd.read_csv(f, sep=sep, names=cols)\n",
      "/Users/michaelbertagna/git/TGNE-2022/TGNE/clustering_optimization/../../utils/dataframe_utils.py:64: ParserWarning: Falling back to the 'python' engine because the 'c' engine does not support sep=None with delim_whitespace=False; you can avoid this warning by specifying engine='python'.\n",
      "  curr_df = pd.read_csv(f, sep=sep, names=cols)\n"
     ]
    }
   ],
   "source": [
    "microarray_data_pattern = './tgd2024_may15_avg_scan_stats_microarray/*.csv'\n",
    "\n",
    "rna_seq_data_pattern = './tgd2024_may15_avg_scan_stats_rna_seq/*.csv'\n",
    "\n",
    "microarray_stats_files = glob.glob(microarray_data_pattern) + glob.glob('./tgd2024_may15_avg_scan_stats_microarray/nc/*.csv')\n",
    "\n",
    "rna_seq_stats_files = glob.glob(rna_seq_data_pattern) + glob.glob('./tgd2024_may15_avg_scan_stats_rna_seq/nc/*.csv')\n",
    "\n",
    "microarray_stats_df = dataframe_utils.csv_files_to_df(microarray_stats_files)\n",
    "\n",
    "rna_seq_stats_df = dataframe_utils.csv_files_to_df(rna_seq_stats_files)"
   ]
  },
  {
   "cell_type": "code",
   "execution_count": 3,
   "metadata": {},
   "outputs": [],
   "source": [
    "microarray_stats_df['fraction_clusters_enriched'] = microarray_stats_df.apply(clustering_utils.compute_fraction_clusters_enriched, axis=1)"
   ]
  },
  {
   "cell_type": "code",
   "execution_count": 4,
   "metadata": {},
   "outputs": [],
   "source": [
    "rna_seq_stats_df['fraction_clusters_enriched'] = rna_seq_stats_df.apply(clustering_utils.compute_fraction_clusters_enriched, axis=1)"
   ]
  },
  {
   "cell_type": "code",
   "execution_count": 13,
   "metadata": {},
   "outputs": [
    {
     "name": "stdout",
     "output_type": "stream",
     "text": [
      "0.6514668280565025 0.0014226700334290028 8.080222817146694e-05\n",
      "1359.9970312126363 309\n",
      "0.0 0.05\n",
      "True\n"
     ]
    },
    {
     "data": {
      "image/png": "[encoded data removed]",
      "text/plain": [
       "<Figure size 640x480 with 1 Axes>"
      ]
     },
     "metadata": {},
     "output_type": "display_data"
    },
    {
     "name": "stdout",
     "output_type": "stream",
     "text": [
      "0.7619869806562761 0.0014845319100364129 8.431574666225796e-05\n",
      "184.6526637487216 309\n",
      "2.80497e-318 0.05\n",
      "True\n"
     ]
    },
    {
     "data": {
      "image/png": "[encoded data removed]",
      "text/plain": [
       "<Figure size 640x480 with 1 Axes>"
      ]
     },
     "metadata": {},
     "output_type": "display_data"
    }
   ],
   "source": [
    "dfs = [microarray_stats_df, rna_seq_stats_df]\n",
    "\n",
    "for df_stats in dfs:\n",
    "\n",
    "    df_stats_exp = df_stats.loc[\n",
    "        (df_stats['partition_type'] == 'EXP')\n",
    "        &\n",
    "        (df_stats['metric'] == 'manhattan')\n",
    "        &\n",
    "        (df_stats['nns'] == 3)\n",
    "        &\n",
    "        (df_stats['parameter'] == 0.005)\n",
    "                                ]\n",
    "    df_stats_nc = df_stats.loc[df_stats['partition_type'] == 'NC']\n",
    "    df_stats_tnc = df_stats.loc[df_stats['partition_type'] == 'TNC']\n",
    "    # hist_clustering_metric = 'silhouette_score'\n",
    "    hist_clustering_metric = 'modularity'\n",
    "\n",
    "    hist_data = df_stats_nc[hist_clustering_metric].values\n",
    "    hist_data\n",
    "    exp_line_at_x = df_stats_exp[hist_clustering_metric].values[0]\n",
    "    exp_line_at_x\n",
    "    tnc_line_at_x = df_stats_tnc[hist_clustering_metric].values[0]\n",
    "    tnc_line_at_x\n",
    "    # Create the histogram\n",
    "    plt.hist(hist_data, bins=30, color='black')\n",
    "\n",
    "    # Add a vertical line at the specified x value\n",
    "    # plt.axvline(x=exp_line_at_x, color='red', linestyle='dashed', linewidth=2, label='EXP at x={} ($P$ < 0.001)'.format(round(exp_line_at_x, 2)))\n",
    "    # plt.axvline(x=tnc_line_at_x, color='blue', linestyle='dashed', linewidth=2, label='TNC at x={}'.format(round(tnc_line_at_x, 2)))\n",
    "    plt.axvline(x=exp_line_at_x, color='#47EA00', linestyle='dashed', linewidth=2, label='EXP ($p$ < 0.001)')\n",
    "    plt.axvline(x=tnc_line_at_x, color='purple', linestyle='dashed', linewidth=2, label='TNC')\n",
    "\n",
    "\n",
    "    # Add labels and title\n",
    "    plt.xlabel(hist_clustering_metric.capitalize())\n",
    "    plt.ylabel('# of Negative Control Paritions')\n",
    "    # plt.title(f'{len(hist_data)} Neg. Controls vs. Experimental {hist_clustering_metric.capitalize()} Distribution')\n",
    "\n",
    "    plt.legend(bbox_to_anchor=(0.575, 1))\n",
    "\n",
    "    nc_mean = df_stats_nc[hist_clustering_metric].mean()\n",
    "    nc_std = df_stats_nc[hist_clustering_metric].std()\n",
    "\n",
    "    nc_se = nc_std / (np.sqrt(len(hist_data)))\n",
    "\n",
    "    print(nc_mean, nc_std, nc_se)\n",
    "\n",
    "    t_stat = (exp_line_at_x - nc_mean) / nc_se\n",
    "\n",
    "    d_freedom = len(hist_data) - 1\n",
    "\n",
    "    print(t_stat, d_freedom)\n",
    "\n",
    "    # p_value = 2 * (1 - stats.t.cdf(abs(t_stat), d_freedom))\n",
    "    p_value = 2 * stats.t.sf(abs(t_stat), d_freedom)\n",
    "\n",
    "    alpha = 0.05\n",
    "\n",
    "    print(p_value, alpha)\n",
    "    print(p_value < alpha)\n",
    "\n",
    "    # Show the plot\n",
    "    plt.show()"
   ]
  },
  {
   "cell_type": "code",
   "execution_count": 12,
   "metadata": {},
   "outputs": [
    {
     "data": {
      "text/plain": [
       "-0.05620262004384093"
      ]
     },
     "execution_count": 12,
     "metadata": {},
     "output_type": "execute_result"
    }
   ],
   "source": [
    "df_stats_nc['silhouette_score'].mean()"
   ]
  },
  {
   "cell_type": "code",
   "execution_count": 13,
   "metadata": {},
   "outputs": [
    {
     "data": {
      "text/plain": [
       "-0.0559447250659985"
      ]
     },
     "execution_count": 13,
     "metadata": {},
     "output_type": "execute_result"
    }
   ],
   "source": [
    "df_stats_nc['silhouette_score'].median()"
   ]
  },
  {
   "cell_type": "code",
   "execution_count": 14,
   "metadata": {},
   "outputs": [
    {
     "data": {
      "text/plain": [
       "-0.0520428030230455"
      ]
     },
     "execution_count": 14,
     "metadata": {},
     "output_type": "execute_result"
    }
   ],
   "source": [
    "df_stats_nc['silhouette_score'].max()"
   ]
  },
  {
   "cell_type": "code",
   "execution_count": 15,
   "metadata": {},
   "outputs": [
    {
     "data": {
      "text/plain": [
       "0.6514668280565025"
      ]
     },
     "execution_count": 15,
     "metadata": {},
     "output_type": "execute_result"
    }
   ],
   "source": [
    "df_stats_nc['modularity'].mean()"
   ]
  },
  {
   "cell_type": "code",
   "execution_count": 16,
   "metadata": {},
   "outputs": [
    {
     "data": {
      "text/plain": [
       "0.651583955617214"
      ]
     },
     "execution_count": 16,
     "metadata": {},
     "output_type": "execute_result"
    }
   ],
   "source": [
    "df_stats_nc['modularity'].median()"
   ]
  },
  {
   "cell_type": "code",
   "execution_count": 17,
   "metadata": {},
   "outputs": [
    {
     "data": {
      "text/plain": [
       "0.6551707659573883"
      ]
     },
     "execution_count": 17,
     "metadata": {},
     "output_type": "execute_result"
    }
   ],
   "source": [
    "df_stats_nc['modularity'].max()"
   ]
  },
  {
   "cell_type": "code",
   "execution_count": 18,
   "metadata": {},
   "outputs": [
    {
     "data": {
      "text/plain": [
       "(0.6514668280565025, 0.0014226700334290028, 8.080222817146694e-05)"
      ]
     },
     "execution_count": 18,
     "metadata": {},
     "output_type": "execute_result"
    }
   ],
   "source": [
    "nc_mean = df_stats_nc[hist_clustering_metric].mean()\n",
    "nc_std = df_stats_nc[hist_clustering_metric].std()\n",
    "\n",
    "nc_se = nc_std / (np.sqrt(len(hist_data)))\n",
    "\n",
    "nc_mean, nc_std, nc_se"
   ]
  },
  {
   "cell_type": "code",
   "execution_count": 19,
   "metadata": {},
   "outputs": [
    {
     "data": {
      "text/plain": [
       "(1359.9970312126363, 309)"
      ]
     },
     "execution_count": 19,
     "metadata": {},
     "output_type": "execute_result"
    }
   ],
   "source": [
    "t_stat = (exp_line_at_x - nc_mean) / nc_se\n",
    "\n",
    "d_freedom = len(hist_data) - 1\n",
    "\n",
    "t_stat, d_freedom"
   ]
  },
  {
   "cell_type": "code",
   "execution_count": 20,
   "metadata": {},
   "outputs": [
    {
     "data": {
      "text/plain": [
       "0.0"
      ]
     },
     "execution_count": 20,
     "metadata": {},
     "output_type": "execute_result"
    }
   ],
   "source": [
    "p_value = 2 * (1 - stats.t.cdf(abs(t_stat), d_freedom))\n",
    "p_value"
   ]
  },
  {
   "cell_type": "code",
   "execution_count": 21,
   "metadata": {},
   "outputs": [
    {
     "data": {
      "text/plain": [
       "0.0"
      ]
     },
     "execution_count": 21,
     "metadata": {},
     "output_type": "execute_result"
    }
   ],
   "source": [
    "p_value = 2 * stats.t.sf(abs(t_stat), d_freedom)\n",
    "p_value"
   ]
  },
  {
   "cell_type": "code",
   "execution_count": 23,
   "metadata": {},
   "outputs": [
    {
     "data": {
      "text/plain": [
       "0.05"
      ]
     },
     "execution_count": 23,
     "metadata": {},
     "output_type": "execute_result"
    }
   ],
   "source": [
    "alpha = 0.05\n",
    "alpha"
   ]
  },
  {
   "cell_type": "code",
   "execution_count": 24,
   "metadata": {},
   "outputs": [
    {
     "data": {
      "text/plain": [
       "True"
      ]
     },
     "execution_count": 24,
     "metadata": {},
     "output_type": "execute_result"
    }
   ],
   "source": [
    "p_value < alpha"
   ]
  }
 ],
 "metadata": {
  "kernelspec": {
   "display_name": "tgne_all.env",
   "language": "python",
   "name": "python3"
  },
  "language_info": {
   "codemirror_mode": {
    "name": "ipython",
    "version": 3
   },
   "file_extension": ".py",
   "mimetype": "text/x-python",
   "name": "python",
   "nbconvert_exporter": "python",
   "pygments_lexer": "ipython3",
   "version": "3.8.16"
  }
 },
 "nbformat": 4,
 "nbformat_minor": 2
}

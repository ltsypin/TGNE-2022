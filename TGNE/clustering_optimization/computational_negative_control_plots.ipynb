{
 "cells": [
  {
   "cell_type": "code",
   "execution_count": 1,
   "metadata": {},
   "outputs": [],
   "source": [
    "from matplotlib.pyplot import show as show_static\n",
    "import matplotlib.pyplot as plt\n",
    "import pandas as pd\n",
    "import numpy as np\n",
    "import sys\n",
    "import glob\n",
    "from scipy import stats\n",
    "\n",
    "sys.path.append('../../')\n",
    "from utils import dataframe_utils, clustering_utils"
   ]
  },
  {
   "cell_type": "code",
   "execution_count": 2,
   "metadata": {},
   "outputs": [],
   "source": [
    "microarray_data_pattern = './tgd2024_may15_avg_scan_stats_microarray/*.csv'\n",
    "\n",
    "rna_seq_data_pattern = './tgd2024_may15_avg_scan_stats_rna_seq/*.csv'\n",
    "\n",
    "microarray_stats_files = glob.glob(microarray_data_pattern) + glob.glob('./tgd2024_may15_avg_scan_stats_microarray/nc/*.csv')\n",
    "\n",
    "rna_seq_stats_files = glob.glob(rna_seq_data_pattern) + glob.glob('./tgd2024_may15_avg_scan_stats_rna_seq/nc/*.csv')\n",
    "\n",
    "microarray_stats_df = dataframe_utils.csv_files_to_df(microarray_stats_files)\n",
    "\n",
    "rna_seq_stats_df = dataframe_utils.csv_files_to_df(rna_seq_stats_files)"
   ]
  },
  {
   "cell_type": "code",
   "execution_count": 3,
   "metadata": {},
   "outputs": [],
   "source": [
    "microarray_stats_df['fraction_clusters_enriched'] = microarray_stats_df.apply(clustering_utils.compute_fraction_clusters_enriched, axis=1)"
   ]
  },
  {
   "cell_type": "code",
   "execution_count": 4,
   "metadata": {},
   "outputs": [],
   "source": [
    "rna_seq_stats_df['fraction_clusters_enriched'] = rna_seq_stats_df.apply(clustering_utils.compute_fraction_clusters_enriched, axis=1)"
   ]
  },
  {
   "cell_type": "code",
   "execution_count": 5,
   "metadata": {},
   "outputs": [],
   "source": [
    "df_stats = microarray_stats_df\n",
    "# df_stats = rna_seq_stats_df"
   ]
  },
  {
   "cell_type": "code",
   "execution_count": 6,
   "metadata": {},
   "outputs": [
    {
     "data": {
      "text/html": [
       "<div>\n",
       "<style scoped>\n",
       "    .dataframe tbody tr th:only-of-type {\n",
       "        vertical-align: middle;\n",
       "    }\n",
       "\n",
       "    .dataframe tbody tr th {\n",
       "        vertical-align: top;\n",
       "    }\n",
       "\n",
       "    .dataframe thead th {\n",
       "        text-align: right;\n",
       "    }\n",
       "</style>\n",
       "<table border=\"1\" class=\"dataframe\">\n",
       "  <thead>\n",
       "    <tr style=\"text-align: right;\">\n",
       "      <th></th>\n",
       "      <th>partition_type</th>\n",
       "      <th>dimensionality</th>\n",
       "      <th>metric</th>\n",
       "      <th>graph</th>\n",
       "      <th>nns</th>\n",
       "      <th>clustering</th>\n",
       "      <th>parameter</th>\n",
       "      <th>silhouette_score</th>\n",
       "      <th>modularity</th>\n",
       "      <th>nclusters</th>\n",
       "      <th>...</th>\n",
       "      <th>max_enriched_cluster_size</th>\n",
       "      <th>min_enriched_cluster_size</th>\n",
       "      <th>nenriched_cluster_genes</th>\n",
       "      <th>datetime</th>\n",
       "      <th>max_fraction_same_cluster_MCMsubset.tsv</th>\n",
       "      <th>max_fraction_same_cluster_ProteosomeSubset.tsv</th>\n",
       "      <th>max_fraction_same_cluster_Histone_subset.tsv</th>\n",
       "      <th>max_fraction_same_cluster_MucocystSubsets.tsv</th>\n",
       "      <th>max_fraction_same_cluster_RibosomalSubset.tsv</th>\n",
       "      <th>fraction_clusters_enriched</th>\n",
       "    </tr>\n",
       "  </thead>\n",
       "  <tbody>\n",
       "    <tr>\n",
       "      <th>0</th>\n",
       "      <td>EXP</td>\n",
       "      <td>baseline</td>\n",
       "      <td>manhattan</td>\n",
       "      <td>umap_fuzzy_simplicial_set</td>\n",
       "      <td>11</td>\n",
       "      <td>leiden_cpm</td>\n",
       "      <td>0.000</td>\n",
       "      <td>NaN</td>\n",
       "      <td>0.000000</td>\n",
       "      <td>1</td>\n",
       "      <td>...</td>\n",
       "      <td>20426</td>\n",
       "      <td>20426</td>\n",
       "      <td>20426</td>\n",
       "      <td>2024-05-20 11:36:20.510456</td>\n",
       "      <td>1.000000</td>\n",
       "      <td>1.0</td>\n",
       "      <td>1.0</td>\n",
       "      <td>1.0</td>\n",
       "      <td>1.000000</td>\n",
       "      <td>1.000000</td>\n",
       "    </tr>\n",
       "    <tr>\n",
       "      <th>1</th>\n",
       "      <td>EXP</td>\n",
       "      <td>baseline</td>\n",
       "      <td>manhattan</td>\n",
       "      <td>umap_fuzzy_simplicial_set</td>\n",
       "      <td>11</td>\n",
       "      <td>leiden_cpm</td>\n",
       "      <td>0.005</td>\n",
       "      <td>0.032619</td>\n",
       "      <td>0.560810</td>\n",
       "      <td>173</td>\n",
       "      <td>...</td>\n",
       "      <td>344</td>\n",
       "      <td>25</td>\n",
       "      <td>14288</td>\n",
       "      <td>2024-05-20 11:36:20.510456</td>\n",
       "      <td>0.333333</td>\n",
       "      <td>0.5</td>\n",
       "      <td>1.0</td>\n",
       "      <td>1.0</td>\n",
       "      <td>0.428571</td>\n",
       "      <td>0.618497</td>\n",
       "    </tr>\n",
       "    <tr>\n",
       "      <th>2</th>\n",
       "      <td>EXP</td>\n",
       "      <td>baseline</td>\n",
       "      <td>manhattan</td>\n",
       "      <td>umap_fuzzy_simplicial_set</td>\n",
       "      <td>11</td>\n",
       "      <td>leiden_cpm</td>\n",
       "      <td>0.010</td>\n",
       "      <td>0.028410</td>\n",
       "      <td>0.499882</td>\n",
       "      <td>330</td>\n",
       "      <td>...</td>\n",
       "      <td>162</td>\n",
       "      <td>8</td>\n",
       "      <td>11457</td>\n",
       "      <td>2024-05-20 11:36:20.510456</td>\n",
       "      <td>0.333333</td>\n",
       "      <td>0.5</td>\n",
       "      <td>1.0</td>\n",
       "      <td>1.0</td>\n",
       "      <td>0.428571</td>\n",
       "      <td>0.503030</td>\n",
       "    </tr>\n",
       "    <tr>\n",
       "      <th>3</th>\n",
       "      <td>EXP</td>\n",
       "      <td>baseline</td>\n",
       "      <td>manhattan</td>\n",
       "      <td>umap_fuzzy_simplicial_set</td>\n",
       "      <td>11</td>\n",
       "      <td>leiden_cpm</td>\n",
       "      <td>0.015</td>\n",
       "      <td>0.026659</td>\n",
       "      <td>0.462227</td>\n",
       "      <td>474</td>\n",
       "      <td>...</td>\n",
       "      <td>110</td>\n",
       "      <td>12</td>\n",
       "      <td>9266</td>\n",
       "      <td>2024-05-20 11:36:20.510456</td>\n",
       "      <td>0.333333</td>\n",
       "      <td>0.5</td>\n",
       "      <td>1.0</td>\n",
       "      <td>1.0</td>\n",
       "      <td>0.428571</td>\n",
       "      <td>0.402954</td>\n",
       "    </tr>\n",
       "    <tr>\n",
       "      <th>4</th>\n",
       "      <td>EXP</td>\n",
       "      <td>baseline</td>\n",
       "      <td>manhattan</td>\n",
       "      <td>umap_fuzzy_simplicial_set</td>\n",
       "      <td>11</td>\n",
       "      <td>leiden_cpm</td>\n",
       "      <td>0.020</td>\n",
       "      <td>0.026406</td>\n",
       "      <td>0.441483</td>\n",
       "      <td>609</td>\n",
       "      <td>...</td>\n",
       "      <td>98</td>\n",
       "      <td>8</td>\n",
       "      <td>8601</td>\n",
       "      <td>2024-05-20 11:36:20.510456</td>\n",
       "      <td>0.333333</td>\n",
       "      <td>0.5</td>\n",
       "      <td>1.0</td>\n",
       "      <td>1.0</td>\n",
       "      <td>0.428571</td>\n",
       "      <td>0.356322</td>\n",
       "    </tr>\n",
       "    <tr>\n",
       "      <th>...</th>\n",
       "      <td>...</td>\n",
       "      <td>...</td>\n",
       "      <td>...</td>\n",
       "      <td>...</td>\n",
       "      <td>...</td>\n",
       "      <td>...</td>\n",
       "      <td>...</td>\n",
       "      <td>...</td>\n",
       "      <td>...</td>\n",
       "      <td>...</td>\n",
       "      <td>...</td>\n",
       "      <td>...</td>\n",
       "      <td>...</td>\n",
       "      <td>...</td>\n",
       "      <td>...</td>\n",
       "      <td>...</td>\n",
       "      <td>...</td>\n",
       "      <td>...</td>\n",
       "      <td>...</td>\n",
       "      <td>...</td>\n",
       "      <td>...</td>\n",
       "    </tr>\n",
       "    <tr>\n",
       "      <th>2426</th>\n",
       "      <td>NC</td>\n",
       "      <td>baseline</td>\n",
       "      <td>manhattan</td>\n",
       "      <td>umap_fuzzy_simplicial_set</td>\n",
       "      <td>3</td>\n",
       "      <td>leiden_cpm</td>\n",
       "      <td>0.005</td>\n",
       "      <td>-0.056259</td>\n",
       "      <td>0.649941</td>\n",
       "      <td>775</td>\n",
       "      <td>...</td>\n",
       "      <td>51</td>\n",
       "      <td>18</td>\n",
       "      <td>975</td>\n",
       "      <td>2024-05-31 15:04:44.154417</td>\n",
       "      <td>0.333333</td>\n",
       "      <td>0.5</td>\n",
       "      <td>1.0</td>\n",
       "      <td>1.0</td>\n",
       "      <td>0.142857</td>\n",
       "      <td>0.043871</td>\n",
       "    </tr>\n",
       "    <tr>\n",
       "      <th>2427</th>\n",
       "      <td>NC</td>\n",
       "      <td>baseline</td>\n",
       "      <td>manhattan</td>\n",
       "      <td>umap_fuzzy_simplicial_set</td>\n",
       "      <td>3</td>\n",
       "      <td>leiden_cpm</td>\n",
       "      <td>0.005</td>\n",
       "      <td>-0.053995</td>\n",
       "      <td>0.651992</td>\n",
       "      <td>780</td>\n",
       "      <td>...</td>\n",
       "      <td>43</td>\n",
       "      <td>14</td>\n",
       "      <td>936</td>\n",
       "      <td>2024-05-31 15:04:44.154417</td>\n",
       "      <td>0.333333</td>\n",
       "      <td>0.5</td>\n",
       "      <td>1.0</td>\n",
       "      <td>1.0</td>\n",
       "      <td>0.142857</td>\n",
       "      <td>0.046154</td>\n",
       "    </tr>\n",
       "    <tr>\n",
       "      <th>2428</th>\n",
       "      <td>NC</td>\n",
       "      <td>baseline</td>\n",
       "      <td>manhattan</td>\n",
       "      <td>umap_fuzzy_simplicial_set</td>\n",
       "      <td>3</td>\n",
       "      <td>leiden_cpm</td>\n",
       "      <td>0.005</td>\n",
       "      <td>-0.056395</td>\n",
       "      <td>0.650248</td>\n",
       "      <td>780</td>\n",
       "      <td>...</td>\n",
       "      <td>45</td>\n",
       "      <td>13</td>\n",
       "      <td>899</td>\n",
       "      <td>2024-05-31 15:04:44.154417</td>\n",
       "      <td>0.333333</td>\n",
       "      <td>0.5</td>\n",
       "      <td>1.0</td>\n",
       "      <td>1.0</td>\n",
       "      <td>0.142857</td>\n",
       "      <td>0.043590</td>\n",
       "    </tr>\n",
       "    <tr>\n",
       "      <th>2429</th>\n",
       "      <td>NC</td>\n",
       "      <td>baseline</td>\n",
       "      <td>manhattan</td>\n",
       "      <td>umap_fuzzy_simplicial_set</td>\n",
       "      <td>3</td>\n",
       "      <td>leiden_cpm</td>\n",
       "      <td>0.005</td>\n",
       "      <td>-0.058931</td>\n",
       "      <td>0.652060</td>\n",
       "      <td>770</td>\n",
       "      <td>...</td>\n",
       "      <td>44</td>\n",
       "      <td>16</td>\n",
       "      <td>741</td>\n",
       "      <td>2024-05-31 15:04:44.154417</td>\n",
       "      <td>0.333333</td>\n",
       "      <td>0.5</td>\n",
       "      <td>1.0</td>\n",
       "      <td>1.0</td>\n",
       "      <td>0.142857</td>\n",
       "      <td>0.033766</td>\n",
       "    </tr>\n",
       "    <tr>\n",
       "      <th>2430</th>\n",
       "      <td>TNC</td>\n",
       "      <td>baseline</td>\n",
       "      <td>manhattan</td>\n",
       "      <td>umap_fuzzy_simplicial_set</td>\n",
       "      <td>3</td>\n",
       "      <td>leiden_cpm</td>\n",
       "      <td>0.005</td>\n",
       "      <td>-0.054356</td>\n",
       "      <td>0.684665</td>\n",
       "      <td>765</td>\n",
       "      <td>...</td>\n",
       "      <td>43</td>\n",
       "      <td>17</td>\n",
       "      <td>807</td>\n",
       "      <td>2024-05-31 15:24:38.206103</td>\n",
       "      <td>0.333333</td>\n",
       "      <td>0.5</td>\n",
       "      <td>1.0</td>\n",
       "      <td>1.0</td>\n",
       "      <td>0.142857</td>\n",
       "      <td>0.037908</td>\n",
       "    </tr>\n",
       "  </tbody>\n",
       "</table>\n",
       "<p>2431 rows × 30 columns</p>\n",
       "</div>"
      ],
      "text/plain": [
       "     partition_type dimensionality     metric                      graph  nns  \\\n",
       "0               EXP       baseline  manhattan  umap_fuzzy_simplicial_set   11   \n",
       "1               EXP       baseline  manhattan  umap_fuzzy_simplicial_set   11   \n",
       "2               EXP       baseline  manhattan  umap_fuzzy_simplicial_set   11   \n",
       "3               EXP       baseline  manhattan  umap_fuzzy_simplicial_set   11   \n",
       "4               EXP       baseline  manhattan  umap_fuzzy_simplicial_set   11   \n",
       "...             ...            ...        ...                        ...  ...   \n",
       "2426             NC       baseline  manhattan  umap_fuzzy_simplicial_set    3   \n",
       "2427             NC       baseline  manhattan  umap_fuzzy_simplicial_set    3   \n",
       "2428             NC       baseline  manhattan  umap_fuzzy_simplicial_set    3   \n",
       "2429             NC       baseline  manhattan  umap_fuzzy_simplicial_set    3   \n",
       "2430            TNC       baseline  manhattan  umap_fuzzy_simplicial_set    3   \n",
       "\n",
       "      clustering  parameter  silhouette_score  modularity  nclusters  ...  \\\n",
       "0     leiden_cpm      0.000               NaN    0.000000          1  ...   \n",
       "1     leiden_cpm      0.005          0.032619    0.560810        173  ...   \n",
       "2     leiden_cpm      0.010          0.028410    0.499882        330  ...   \n",
       "3     leiden_cpm      0.015          0.026659    0.462227        474  ...   \n",
       "4     leiden_cpm      0.020          0.026406    0.441483        609  ...   \n",
       "...          ...        ...               ...         ...        ...  ...   \n",
       "2426  leiden_cpm      0.005         -0.056259    0.649941        775  ...   \n",
       "2427  leiden_cpm      0.005         -0.053995    0.651992        780  ...   \n",
       "2428  leiden_cpm      0.005         -0.056395    0.650248        780  ...   \n",
       "2429  leiden_cpm      0.005         -0.058931    0.652060        770  ...   \n",
       "2430  leiden_cpm      0.005         -0.054356    0.684665        765  ...   \n",
       "\n",
       "      max_enriched_cluster_size  min_enriched_cluster_size  \\\n",
       "0                         20426                      20426   \n",
       "1                           344                         25   \n",
       "2                           162                          8   \n",
       "3                           110                         12   \n",
       "4                            98                          8   \n",
       "...                         ...                        ...   \n",
       "2426                         51                         18   \n",
       "2427                         43                         14   \n",
       "2428                         45                         13   \n",
       "2429                         44                         16   \n",
       "2430                         43                         17   \n",
       "\n",
       "      nenriched_cluster_genes                    datetime  \\\n",
       "0                       20426  2024-05-20 11:36:20.510456   \n",
       "1                       14288  2024-05-20 11:36:20.510456   \n",
       "2                       11457  2024-05-20 11:36:20.510456   \n",
       "3                        9266  2024-05-20 11:36:20.510456   \n",
       "4                        8601  2024-05-20 11:36:20.510456   \n",
       "...                       ...                         ...   \n",
       "2426                      975  2024-05-31 15:04:44.154417   \n",
       "2427                      936  2024-05-31 15:04:44.154417   \n",
       "2428                      899  2024-05-31 15:04:44.154417   \n",
       "2429                      741  2024-05-31 15:04:44.154417   \n",
       "2430                      807  2024-05-31 15:24:38.206103   \n",
       "\n",
       "      max_fraction_same_cluster_MCMsubset.tsv  \\\n",
       "0                                    1.000000   \n",
       "1                                    0.333333   \n",
       "2                                    0.333333   \n",
       "3                                    0.333333   \n",
       "4                                    0.333333   \n",
       "...                                       ...   \n",
       "2426                                 0.333333   \n",
       "2427                                 0.333333   \n",
       "2428                                 0.333333   \n",
       "2429                                 0.333333   \n",
       "2430                                 0.333333   \n",
       "\n",
       "      max_fraction_same_cluster_ProteosomeSubset.tsv  \\\n",
       "0                                                1.0   \n",
       "1                                                0.5   \n",
       "2                                                0.5   \n",
       "3                                                0.5   \n",
       "4                                                0.5   \n",
       "...                                              ...   \n",
       "2426                                             0.5   \n",
       "2427                                             0.5   \n",
       "2428                                             0.5   \n",
       "2429                                             0.5   \n",
       "2430                                             0.5   \n",
       "\n",
       "      max_fraction_same_cluster_Histone_subset.tsv  \\\n",
       "0                                              1.0   \n",
       "1                                              1.0   \n",
       "2                                              1.0   \n",
       "3                                              1.0   \n",
       "4                                              1.0   \n",
       "...                                            ...   \n",
       "2426                                           1.0   \n",
       "2427                                           1.0   \n",
       "2428                                           1.0   \n",
       "2429                                           1.0   \n",
       "2430                                           1.0   \n",
       "\n",
       "      max_fraction_same_cluster_MucocystSubsets.tsv  \\\n",
       "0                                               1.0   \n",
       "1                                               1.0   \n",
       "2                                               1.0   \n",
       "3                                               1.0   \n",
       "4                                               1.0   \n",
       "...                                             ...   \n",
       "2426                                            1.0   \n",
       "2427                                            1.0   \n",
       "2428                                            1.0   \n",
       "2429                                            1.0   \n",
       "2430                                            1.0   \n",
       "\n",
       "      max_fraction_same_cluster_RibosomalSubset.tsv  \\\n",
       "0                                          1.000000   \n",
       "1                                          0.428571   \n",
       "2                                          0.428571   \n",
       "3                                          0.428571   \n",
       "4                                          0.428571   \n",
       "...                                             ...   \n",
       "2426                                       0.142857   \n",
       "2427                                       0.142857   \n",
       "2428                                       0.142857   \n",
       "2429                                       0.142857   \n",
       "2430                                       0.142857   \n",
       "\n",
       "      fraction_clusters_enriched  \n",
       "0                       1.000000  \n",
       "1                       0.618497  \n",
       "2                       0.503030  \n",
       "3                       0.402954  \n",
       "4                       0.356322  \n",
       "...                          ...  \n",
       "2426                    0.043871  \n",
       "2427                    0.046154  \n",
       "2428                    0.043590  \n",
       "2429                    0.033766  \n",
       "2430                    0.037908  \n",
       "\n",
       "[2431 rows x 30 columns]"
      ]
     },
     "execution_count": 6,
     "metadata": {},
     "output_type": "execute_result"
    }
   ],
   "source": [
    "df_stats"
   ]
  },
  {
   "cell_type": "code",
   "execution_count": 7,
   "metadata": {},
   "outputs": [],
   "source": [
    "df_stats_exp = df_stats.loc[\n",
    "    (df_stats['partition_type'] == 'EXP')\n",
    "    &\n",
    "    (df_stats['metric'] == 'manhattan')\n",
    "    &\n",
    "    (df_stats['nns'] == 3)\n",
    "    &\n",
    "    (df_stats['parameter'] == 0.005)\n",
    "                            ]\n",
    "df_stats_nc = df_stats.loc[df_stats['partition_type'] == 'NC']\n",
    "df_stats_tnc = df_stats.loc[df_stats['partition_type'] == 'TNC']"
   ]
  },
  {
   "cell_type": "code",
   "execution_count": 8,
   "metadata": {},
   "outputs": [
    {
     "data": {
      "text/plain": [
       "array([0.65042991, 0.65147536, 0.65110509, 0.65383978, 0.65337456,\n",
       "       0.64970631, 0.64994095, 0.65199222, 0.65024754, 0.65206049])"
      ]
     },
     "execution_count": 8,
     "metadata": {},
     "output_type": "execute_result"
    }
   ],
   "source": [
    "# hist_clustering_metric = 'silhouette_score'\n",
    "hist_clustering_metric = 'modularity'\n",
    "\n",
    "hist_data = df_stats_nc[hist_clustering_metric].values\n",
    "hist_data"
   ]
  },
  {
   "cell_type": "code",
   "execution_count": 9,
   "metadata": {},
   "outputs": [
    {
     "data": {
      "text/plain": [
       "0.7613576184850636"
      ]
     },
     "execution_count": 9,
     "metadata": {},
     "output_type": "execute_result"
    }
   ],
   "source": [
    "exp_line_at_x = df_stats_exp[hist_clustering_metric].values[0]\n",
    "exp_line_at_x"
   ]
  },
  {
   "cell_type": "code",
   "execution_count": 10,
   "metadata": {},
   "outputs": [
    {
     "data": {
      "text/plain": [
       "0.6846649659318523"
      ]
     },
     "execution_count": 10,
     "metadata": {},
     "output_type": "execute_result"
    }
   ],
   "source": [
    "tnc_line_at_x = df_stats_tnc[hist_clustering_metric].values[0]\n",
    "tnc_line_at_x"
   ]
  },
  {
   "cell_type": "code",
   "execution_count": 11,
   "metadata": {},
   "outputs": [
    {
     "data": {
      "image/png": "[encoded data removed]",
      "text/plain": [
       "<Figure size 640x480 with 1 Axes>"
      ]
     },
     "metadata": {},
     "output_type": "display_data"
    }
   ],
   "source": [
    "# Create the histogram\n",
    "plt.hist(hist_data, bins=30, edgecolor='black')\n",
    "\n",
    "# Add a vertical line at the specified x value\n",
    "plt.axvline(x=exp_line_at_x, color='green', linestyle='dashed', linewidth=2, label='EXP at x={}'.format(round(exp_line_at_x, 2)))\n",
    "plt.axvline(x=tnc_line_at_x, color='red', linestyle='dashed', linewidth=2, label='TNC at x={}'.format(round(tnc_line_at_x, 2)))\n",
    "\n",
    "\n",
    "# Add labels and title\n",
    "plt.xlabel(hist_clustering_metric)\n",
    "plt.ylabel('# of negative control paritions')\n",
    "plt.title(f'{len(hist_data)} neg. controls vs. experimental {hist_clustering_metric} distribution')\n",
    "\n",
    "plt.legend()\n",
    "\n",
    "# Show the plot\n",
    "plt.show()"
   ]
  },
  {
   "cell_type": "code",
   "execution_count": 12,
   "metadata": {},
   "outputs": [
    {
     "data": {
      "text/plain": [
       "-0.05685359746258498"
      ]
     },
     "execution_count": 12,
     "metadata": {},
     "output_type": "execute_result"
    }
   ],
   "source": [
    "df_stats_nc['silhouette_score'].mean()"
   ]
  },
  {
   "cell_type": "code",
   "execution_count": 13,
   "metadata": {},
   "outputs": [
    {
     "data": {
      "text/plain": [
       "-0.05663612882341015"
      ]
     },
     "execution_count": 13,
     "metadata": {},
     "output_type": "execute_result"
    }
   ],
   "source": [
    "df_stats_nc['silhouette_score'].median()"
   ]
  },
  {
   "cell_type": "code",
   "execution_count": 14,
   "metadata": {},
   "outputs": [
    {
     "data": {
      "text/plain": [
       "-0.0528749825641353"
      ]
     },
     "execution_count": 14,
     "metadata": {},
     "output_type": "execute_result"
    }
   ],
   "source": [
    "df_stats_nc['silhouette_score'].max()"
   ]
  },
  {
   "cell_type": "code",
   "execution_count": 15,
   "metadata": {},
   "outputs": [
    {
     "data": {
      "text/plain": [
       "0.6514172211001327"
      ]
     },
     "execution_count": 15,
     "metadata": {},
     "output_type": "execute_result"
    }
   ],
   "source": [
    "df_stats_nc['modularity'].mean()"
   ]
  },
  {
   "cell_type": "code",
   "execution_count": 16,
   "metadata": {},
   "outputs": [
    {
     "data": {
      "text/plain": [
       "0.6512902237633005"
      ]
     },
     "execution_count": 16,
     "metadata": {},
     "output_type": "execute_result"
    }
   ],
   "source": [
    "df_stats_nc['modularity'].median()"
   ]
  },
  {
   "cell_type": "code",
   "execution_count": 17,
   "metadata": {},
   "outputs": [
    {
     "data": {
      "text/plain": [
       "0.6538397836472338"
      ]
     },
     "execution_count": 17,
     "metadata": {},
     "output_type": "execute_result"
    }
   ],
   "source": [
    "df_stats_nc['modularity'].max()"
   ]
  },
  {
   "cell_type": "code",
   "execution_count": 18,
   "metadata": {},
   "outputs": [
    {
     "data": {
      "text/plain": [
       "(0.6514172211001327, 0.001414006325940068, 0.0004471480615857045)"
      ]
     },
     "execution_count": 18,
     "metadata": {},
     "output_type": "execute_result"
    }
   ],
   "source": [
    "nc_mean = df_stats_nc[hist_clustering_metric].mean()\n",
    "nc_std = df_stats_nc[hist_clustering_metric].std()\n",
    "\n",
    "nc_se = nc_std / (np.sqrt(len(hist_data)))\n",
    "\n",
    "nc_mean, nc_std, nc_se"
   ]
  },
  {
   "cell_type": "code",
   "execution_count": 19,
   "metadata": {},
   "outputs": [
    {
     "data": {
      "text/plain": [
       "(245.87023142860858, 9)"
      ]
     },
     "execution_count": 19,
     "metadata": {},
     "output_type": "execute_result"
    }
   ],
   "source": [
    "t_stat = (exp_line_at_x - nc_mean) / nc_se\n",
    "\n",
    "d_freedom = len(hist_data) - 1\n",
    "\n",
    "t_stat, d_freedom"
   ]
  },
  {
   "cell_type": "code",
   "execution_count": 20,
   "metadata": {},
   "outputs": [
    {
     "data": {
      "text/plain": [
       "0.0"
      ]
     },
     "execution_count": 20,
     "metadata": {},
     "output_type": "execute_result"
    }
   ],
   "source": [
    "p_value = 2 * (1 - stats.t.cdf(abs(t_stat), d_freedom))\n",
    "p_value"
   ]
  },
  {
   "cell_type": "code",
   "execution_count": 21,
   "metadata": {},
   "outputs": [
    {
     "data": {
      "text/plain": [
       "0.05"
      ]
     },
     "execution_count": 21,
     "metadata": {},
     "output_type": "execute_result"
    }
   ],
   "source": [
    "alpha = 0.05\n",
    "alpha"
   ]
  },
  {
   "cell_type": "code",
   "execution_count": 22,
   "metadata": {},
   "outputs": [
    {
     "data": {
      "text/plain": [
       "True"
      ]
     },
     "execution_count": 22,
     "metadata": {},
     "output_type": "execute_result"
    }
   ],
   "source": [
    "p_value < alpha"
   ]
  }
 ],
 "metadata": {
  "kernelspec": {
   "display_name": "tgne_all.env",
   "language": "python",
   "name": "python3"
  },
  "language_info": {
   "codemirror_mode": {
    "name": "ipython",
    "version": 3
   },
   "file_extension": ".py",
   "mimetype": "text/x-python",
   "name": "python",
   "nbconvert_exporter": "python",
   "pygments_lexer": "ipython3",
   "version": "3.8.16"
  }
 },
 "nbformat": 4,
 "nbformat_minor": 2
}

{
 "cells": [
  {
   "cell_type": "code",
   "execution_count": 1,
   "metadata": {},
   "outputs": [],
   "source": [
    "from matplotlib.pyplot import show as show_static\n",
    "import matplotlib.pyplot as plt\n",
    "import numpy as np\n",
    "import sys\n",
    "import glob\n",
    "from scipy import stats\n",
    "\n",
    "sys.path.append('../../')\n",
    "from utils import dataframe_utils, clustering_utils"
   ]
  },
  {
   "cell_type": "code",
   "execution_count": 2,
   "metadata": {},
   "outputs": [],
   "source": [
    "microarray_data_pattern = './tgd2024_may15_avg_scan_stats_microarray/**/*.csv'\n",
    "\n",
    "rna_seq_data_pattern = './tgd2024_jun20_avg_scan_stats_rna_seq/**/*.csv'\n",
    "\n",
    "microarray_stats_files = glob.glob(microarray_data_pattern)\n",
    "\n",
    "rna_seq_stats_files = glob.glob(rna_seq_data_pattern)\n",
    "\n",
    "microarray_stats_df = dataframe_utils.csv_files_to_df(microarray_stats_files)\n",
    "\n",
    "rna_seq_stats_df = dataframe_utils.csv_files_to_df(rna_seq_stats_files)"
   ]
  },
  {
   "cell_type": "code",
   "execution_count": 3,
   "metadata": {},
   "outputs": [],
   "source": [
    "microarray_stats_df['fraction_clusters_enriched'] = microarray_stats_df.apply(clustering_utils.compute_fraction_clusters_enriched, axis=1)"
   ]
  },
  {
   "cell_type": "code",
   "execution_count": 4,
   "metadata": {},
   "outputs": [],
   "source": [
    "rna_seq_stats_df['fraction_clusters_enriched'] = rna_seq_stats_df.apply(clustering_utils.compute_fraction_clusters_enriched, axis=1)"
   ]
  },
  {
   "cell_type": "code",
   "execution_count": 5,
   "metadata": {},
   "outputs": [
    {
     "name": "stdout",
     "output_type": "stream",
     "text": [
      "     clustering                    datetime dimensionality  \\\n",
      "281  leiden_cpm  2024-06-20 11:22:38.664884       baseline   \n",
      "720  leiden_cpm  2024-06-20 14:23:52.793743       baseline   \n",
      "\n",
      "                         graph  max_cluster_size  max_enriched_cluster_size  \\\n",
      "281  umap_fuzzy_simplicial_set                79                         79   \n",
      "720  umap_fuzzy_simplicial_set                79                         79   \n",
      "\n",
      "     max_fraction_same_cluster_Histone_subset.tsv  \\\n",
      "281                                           1.0   \n",
      "720                                           1.0   \n",
      "\n",
      "     max_fraction_same_cluster_MCMsubset.tsv  \\\n",
      "281                                      0.5   \n",
      "720                                      0.5   \n",
      "\n",
      "     max_fraction_same_cluster_MucocystSubsets.tsv  \\\n",
      "281                                            0.5   \n",
      "720                                            0.5   \n",
      "\n",
      "     max_fraction_same_cluster_ProteosomeSubset.tsv  ...  parameter  \\\n",
      "281                                             0.5  ...      0.005   \n",
      "720                                             0.5  ...      0.005   \n",
      "\n",
      "     partition_type  q1_cluster_size  q1_enriched_cluster_size  \\\n",
      "281             EXP             24.0                      28.0   \n",
      "720             EXP             24.0                      28.0   \n",
      "\n",
      "     q3_cluster_size q3_enriched_cluster_size  sd_cluster_size  \\\n",
      "281             40.0                     44.0        11.755163   \n",
      "720             40.0                     44.0        11.755163   \n",
      "\n",
      "     sd_enriched_cluster_size  silhouette_score  fraction_clusters_enriched  \n",
      "281                 12.855069          -0.05624                    0.300562  \n",
      "720                 12.855069          -0.05624                    0.300562  \n",
      "\n",
      "[2 rows x 34 columns]\n",
      "0.7744086219284216 0.001639505014289653 0.0002993312931564242\n",
      "10.515058121096594 29\n",
      "2.0864977566322544e-11 0.05\n",
      "True\n"
     ]
    },
    {
     "data": {
      "image/png": "[encoded data removed]",
      "text/plain": [
       "<Figure size 640x480 with 1 Axes>"
      ]
     },
     "metadata": {},
     "output_type": "display_data"
    },
    {
     "name": "stdout",
     "output_type": "stream",
     "text": [
      "Empty DataFrame\n",
      "Columns: [partition_type, dimensionality, metric, graph, nns, clustering, parameter, silhouette_score, modularity, nclusters, mean_cluster_size, median_cluster_size, sd_cluster_size, max_cluster_size, min_cluster_size, ngenes, nenriched_clusters, mean_enriched_cluster_size, median_enriched_cluster_size, sd_enriched_cluster_size, max_enriched_cluster_size, min_enriched_cluster_size, nenriched_cluster_genes, datetime, max_fraction_same_cluster_MCMsubset.tsv, max_fraction_same_cluster_RibosomalSubset.tsv, max_fraction_same_cluster_MucocystSubsets.tsv, max_fraction_same_cluster_Histone_subset.tsv, max_fraction_same_cluster_ProteosomeSubset.tsv, fraction_clusters_enriched]\n",
      "Index: []\n",
      "\n",
      "[0 rows x 30 columns]\n"
     ]
    },
    {
     "ename": "IndexError",
     "evalue": "index 0 is out of bounds for axis 0 with size 0",
     "output_type": "error",
     "traceback": [
      "\u001b[0;31m---------------------------------------------------------------------------\u001b[0m",
      "\u001b[0;31mIndexError\u001b[0m                                Traceback (most recent call last)",
      "Cell \u001b[0;32mIn[5], line 25\u001b[0m\n\u001b[1;32m     23\u001b[0m hist_data_tnc \u001b[38;5;241m=\u001b[39m df_stats_tnc[hist_clustering_metric]\u001b[38;5;241m.\u001b[39mvalues\n\u001b[1;32m     24\u001b[0m hist_data_tnc\n\u001b[0;32m---> 25\u001b[0m exp_line_at_x \u001b[38;5;241m=\u001b[39m \u001b[43mdf_stats_exp\u001b[49m\u001b[43m[\u001b[49m\u001b[43mhist_clustering_metric\u001b[49m\u001b[43m]\u001b[49m\u001b[38;5;241;43m.\u001b[39;49m\u001b[43mvalues\u001b[49m\u001b[43m[\u001b[49m\u001b[38;5;241;43m0\u001b[39;49m\u001b[43m]\u001b[49m\n\u001b[1;32m     26\u001b[0m exp_line_at_x\n\u001b[1;32m     27\u001b[0m \u001b[38;5;66;03m# tnc_line_at_x = df_stats_tnc[hist_clustering_metric].values[0]\u001b[39;00m\n\u001b[1;32m     28\u001b[0m \u001b[38;5;66;03m# tnc_line_at_x\u001b[39;00m\n\u001b[1;32m     29\u001b[0m \u001b[38;5;66;03m# Create the histogram\u001b[39;00m\n",
      "\u001b[0;31mIndexError\u001b[0m: index 0 is out of bounds for axis 0 with size 0"
     ]
    }
   ],
   "source": [
    "dfs = [rna_seq_stats_df, microarray_stats_df]\n",
    "\n",
    "for df_stats in dfs:\n",
    "\n",
    "    df_stats_exp = df_stats.loc[\n",
    "        (df_stats['partition_type'] == 'EXP')\n",
    "        &\n",
    "        (df_stats['metric'] == 'manhattan')\n",
    "        &\n",
    "        (df_stats['nns'] == 3)\n",
    "        &\n",
    "        (df_stats['parameter'] == 0.005)\n",
    "                                ]\n",
    "    \n",
    "    df_stats_nc = df_stats.loc[df_stats['partition_type'] == 'NC']\n",
    "    df_stats_tnc = df_stats.loc[df_stats['partition_type'] == 'TNC']\n",
    "    # hist_clustering_metric = 'silhouette_score'\n",
    "    hist_clustering_metric = 'modularity'\n",
    "\n",
    "    hist_data = df_stats_nc[hist_clustering_metric].values\n",
    "    hist_data\n",
    "    hist_data_tnc = df_stats_tnc[hist_clustering_metric].values\n",
    "    hist_data_tnc\n",
    "    exp_line_at_x = df_stats_exp[hist_clustering_metric].values[0]\n",
    "    exp_line_at_x\n",
    "    # tnc_line_at_x = df_stats_tnc[hist_clustering_metric].values[0]\n",
    "    # tnc_line_at_x\n",
    "    # Create the histogram\n",
    "    plt.hist(hist_data, bins=30, color='black', label='NC')\n",
    "    plt.hist(hist_data_tnc, bins=30, color='purple', label='TNC')\n",
    "\n",
    "    # Add a vertical line at the specified x value\n",
    "    # plt.axvline(x=exp_line_at_x, color='red', linestyle='dashed', linewidth=2, label='EXP at x={} ($P$ < 0.001)'.format(round(exp_line_at_x, 2)))\n",
    "    # plt.axvline(x=tnc_line_at_x, color='blue', linestyle='dashed', linewidth=2, label='TNC at x={}'.format(round(tnc_line_at_x, 2)))\n",
    "    plt.axvline(x=exp_line_at_x, color='#47EA00', linestyle='dashed', linewidth=2, label='EXP ($p$ < 0.001)')\n",
    "    # plt.axvline(x=tnc_line_at_x, color='purple', linestyle='dashed', linewidth=2, label='TNC')\n",
    "\n",
    "\n",
    "    # Add labels and title\n",
    "    plt.xlabel(hist_clustering_metric.capitalize())\n",
    "    plt.ylabel('# of Negative Control Paritions')\n",
    "    # plt.title(f'{len(hist_data)} Neg. Controls vs. Experimental {hist_clustering_metric.capitalize()} Distribution')\n",
    "\n",
    "    plt.legend(bbox_to_anchor=(0.575, 1))\n",
    "\n",
    "    nc_mean = df_stats_tnc[hist_clustering_metric].mean()\n",
    "    nc_std = df_stats_tnc[hist_clustering_metric].std()\n",
    "\n",
    "    nc_se = nc_std / (np.sqrt(len(hist_data)))\n",
    "\n",
    "    print(nc_mean, nc_std, nc_se)\n",
    "\n",
    "    t_stat = (exp_line_at_x - nc_mean) / nc_se\n",
    "\n",
    "    d_freedom = len(hist_data) - 1\n",
    "\n",
    "    print(t_stat, d_freedom)\n",
    "\n",
    "    # p_value = 2 * (1 - stats.t.cdf(abs(t_stat), d_freedom))\n",
    "    p_value = 2 * stats.t.sf(abs(t_stat), d_freedom)\n",
    "\n",
    "    alpha = 0.05\n",
    "\n",
    "    print(p_value, alpha)\n",
    "    print(p_value < alpha)\n",
    "\n",
    "    # Show the plot\n",
    "    plt.show()"
   ]
  },
  {
   "cell_type": "code",
   "execution_count": null,
   "metadata": {},
   "outputs": [],
   "source": [
    "df_stats_nc['silhouette_score'].mean()"
   ]
  },
  {
   "cell_type": "code",
   "execution_count": null,
   "metadata": {},
   "outputs": [],
   "source": [
    "df_stats_nc['silhouette_score'].median()"
   ]
  },
  {
   "cell_type": "code",
   "execution_count": null,
   "metadata": {},
   "outputs": [],
   "source": [
    "df_stats_nc['silhouette_score'].max()"
   ]
  },
  {
   "cell_type": "code",
   "execution_count": null,
   "metadata": {},
   "outputs": [],
   "source": [
    "df_stats_nc['modularity'].mean()"
   ]
  },
  {
   "cell_type": "code",
   "execution_count": null,
   "metadata": {},
   "outputs": [],
   "source": [
    "df_stats_nc['modularity'].median()"
   ]
  },
  {
   "cell_type": "code",
   "execution_count": null,
   "metadata": {},
   "outputs": [],
   "source": [
    "df_stats_nc['modularity'].max()"
   ]
  },
  {
   "cell_type": "code",
   "execution_count": null,
   "metadata": {},
   "outputs": [],
   "source": [
    "nc_mean = df_stats_nc[hist_clustering_metric].mean()\n",
    "nc_std = df_stats_nc[hist_clustering_metric].std()\n",
    "\n",
    "nc_se = nc_std / (np.sqrt(len(hist_data)))\n",
    "\n",
    "nc_mean, nc_std, nc_se"
   ]
  },
  {
   "cell_type": "code",
   "execution_count": null,
   "metadata": {},
   "outputs": [],
   "source": [
    "t_stat = (exp_line_at_x - nc_mean) / nc_se\n",
    "\n",
    "d_freedom = len(hist_data) - 1\n",
    "\n",
    "t_stat, d_freedom"
   ]
  },
  {
   "cell_type": "code",
   "execution_count": null,
   "metadata": {},
   "outputs": [],
   "source": [
    "p_value = 2 * (1 - stats.t.cdf(abs(t_stat), d_freedom))\n",
    "p_value"
   ]
  },
  {
   "cell_type": "code",
   "execution_count": null,
   "metadata": {},
   "outputs": [],
   "source": [
    "p_value = 2 * stats.t.sf(abs(t_stat), d_freedom)\n",
    "p_value"
   ]
  },
  {
   "cell_type": "code",
   "execution_count": null,
   "metadata": {},
   "outputs": [],
   "source": [
    "alpha = 0.05\n",
    "alpha"
   ]
  },
  {
   "cell_type": "code",
   "execution_count": null,
   "metadata": {},
   "outputs": [],
   "source": [
    "p_value < alpha"
   ]
  }
 ],
 "metadata": {
  "kernelspec": {
   "display_name": "tgne_all.env",
   "language": "python",
   "name": "python3"
  },
  "language_info": {
   "codemirror_mode": {
    "name": "ipython",
    "version": 3
   },
   "file_extension": ".py",
   "mimetype": "text/x-python",
   "name": "python",
   "nbconvert_exporter": "python",
   "pygments_lexer": "ipython3",
   "version": "3.8.16"
  }
 },
 "nbformat": 4,
 "nbformat_minor": 2
}

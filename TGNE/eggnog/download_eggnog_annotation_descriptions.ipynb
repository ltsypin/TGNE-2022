{
 "cells": [
  {
   "cell_type": "code",
   "execution_count": 1,
   "metadata": {},
   "outputs": [],
   "source": [
    "# FIXME add timestamp check for eggnog file"
   ]
  },
  {
   "cell_type": "code",
   "execution_count": 2,
   "metadata": {},
   "outputs": [],
   "source": [
    "import sys\n",
    "import os\n",
    "import subprocess"
   ]
  },
  {
   "cell_type": "code",
   "execution_count": 3,
   "metadata": {},
   "outputs": [],
   "source": [
    "download_scripts = [\n",
    "    'download_annotation_descriptions_go.py',\n",
    "    'download_annotation_descriptions_pfam.py',\n",
    "    'download_annotation_descriptions_kegg_ec.py',\n",
    "]\n",
    "\n",
    "if not all([\n",
    "        os.path.exists('../../active_files/ec_annotations.csv'), \n",
    "        os.path.exists('../../active_files/kegg_annotations.csv'), \n",
    "        os.path.exists('../../active_files/go_annotations.csv'), \n",
    "        os.path.exists('../../active_files/pfam_annotations.csv'), \n",
    "        ]):\n",
    "    \n",
    "    for script in download_scripts:  # FIXME test this\n",
    "        print(f'EXECUTING: {script}')\n",
    "        subprocess.run([sys.executable, script])"
   ]
  }
 ],
 "metadata": {
  "kernelspec": {
   "display_name": "tgne_all.env",
   "language": "python",
   "name": "python3"
  },
  "language_info": {
   "codemirror_mode": {
    "name": "ipython",
    "version": 3
   },
   "file_extension": ".py",
   "mimetype": "text/x-python",
   "name": "python",
   "nbconvert_exporter": "python",
   "pygments_lexer": "ipython3",
   "version": "3.8.16"
  }
 },
 "nbformat": 4,
 "nbformat_minor": 2
}

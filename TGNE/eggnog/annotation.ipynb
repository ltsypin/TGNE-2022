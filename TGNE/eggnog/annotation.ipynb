{
 "cells": [
  {
   "cell_type": "code",
   "execution_count": 1,
   "id": "f4f92d81-2871-4684-89d1-76344d51415c",
   "metadata": {},
   "outputs": [],
   "source": [
    "import pandas as pd\n",
    "from Bio import SeqIO"
   ]
  },
  {
   "cell_type": "code",
   "execution_count": 2,
   "id": "fa2b688a-5b79-4f24-9c34-ef93baac5442",
   "metadata": {
    "tags": []
   },
   "outputs": [],
   "source": [
    "with open('../../raw_data/Tthermophila_MAC_protein_2021.fasta', 'r') as f:\n",
    "    TGD2021_records = list(SeqIO.parse(f, 'fasta'))"
   ]
  },
  {
   "cell_type": "code",
   "execution_count": 3,
   "id": "55ad590f-cfff-41e3-85e1-81601e587ddd",
   "metadata": {},
   "outputs": [
    {
     "data": {
      "text/plain": [
       "SeqRecord(seq=Seq('MQNLNGSQILETIQDVFDEVKNKALFSKNILSETIAYLMGSEKYTDIDYIIDTD...IIY'), id='TTHERM_01528530', name='TTHERM_01528530', description='TTHERM_01528530\\tprotein kinase', dbxrefs=[])"
      ]
     },
     "execution_count": 3,
     "metadata": {},
     "output_type": "execute_result"
    }
   ],
   "source": [
    "TGD2021_records[0]"
   ]
  },
  {
   "cell_type": "code",
   "execution_count": 4,
   "id": "5753291b-2fe1-4804-b4ff-4eeaad41da7f",
   "metadata": {},
   "outputs": [
    {
     "data": {
      "text/plain": [
       "26258"
      ]
     },
     "execution_count": 4,
     "metadata": {},
     "output_type": "execute_result"
    }
   ],
   "source": [
    "len(TGD2021_records)"
   ]
  },
  {
   "cell_type": "code",
   "execution_count": 5,
   "id": "a47ec31b-4ff6-46fd-8e1c-a49056ab2dc1",
   "metadata": {},
   "outputs": [
    {
     "data": {
      "text/html": [
       "<div>\n",
       "<style scoped>\n",
       "    .dataframe tbody tr th:only-of-type {\n",
       "        vertical-align: middle;\n",
       "    }\n",
       "\n",
       "    .dataframe tbody tr th {\n",
       "        vertical-align: top;\n",
       "    }\n",
       "\n",
       "    .dataframe thead th {\n",
       "        text-align: right;\n",
       "    }\n",
       "</style>\n",
       "<table border=\"1\" class=\"dataframe\">\n",
       "  <thead>\n",
       "    <tr style=\"text-align: right;\">\n",
       "      <th></th>\n",
       "      <th>TTHERM_ID</th>\n",
       "      <th>seed_ortholog</th>\n",
       "      <th>evalue</th>\n",
       "      <th>score</th>\n",
       "      <th>eggNOG_OGs</th>\n",
       "      <th>max_annot_lvl</th>\n",
       "      <th>COG_category</th>\n",
       "      <th>Description</th>\n",
       "      <th>Preferred_name</th>\n",
       "      <th>GOs</th>\n",
       "      <th>...</th>\n",
       "      <th>KEGG_ko</th>\n",
       "      <th>KEGG_Pathway</th>\n",
       "      <th>KEGG_Module</th>\n",
       "      <th>KEGG_Reaction</th>\n",
       "      <th>KEGG_rclass</th>\n",
       "      <th>BRITE</th>\n",
       "      <th>KEGG_TC</th>\n",
       "      <th>CAZy</th>\n",
       "      <th>BiGG_Reaction</th>\n",
       "      <th>PFAMs</th>\n",
       "    </tr>\n",
       "  </thead>\n",
       "  <tbody>\n",
       "    <tr>\n",
       "      <th>0</th>\n",
       "      <td>TTHERM_01528530</td>\n",
       "      <td>5911.EAS00195</td>\n",
       "      <td>2.200000e-14</td>\n",
       "      <td>49.9</td>\n",
       "      <td>KOG0594@1|root,KOG0594@2759|Eukaryota</td>\n",
       "      <td>2759|Eukaryota</td>\n",
       "      <td>G</td>\n",
       "      <td>cyclin-dependent protein serine/threonine kina...</td>\n",
       "      <td>-</td>\n",
       "      <td>-</td>\n",
       "      <td>...</td>\n",
       "      <td>-</td>\n",
       "      <td>-</td>\n",
       "      <td>-</td>\n",
       "      <td>-</td>\n",
       "      <td>-</td>\n",
       "      <td>-</td>\n",
       "      <td>-</td>\n",
       "      <td>-</td>\n",
       "      <td>-</td>\n",
       "      <td>-</td>\n",
       "    </tr>\n",
       "    <tr>\n",
       "      <th>1</th>\n",
       "      <td>TTHERM_01528510</td>\n",
       "      <td>5911.EAR81750</td>\n",
       "      <td>1.100000e-194</td>\n",
       "      <td>633.4</td>\n",
       "      <td>2EI75@1|root,2SNPE@2759|Eukaryota,3ZBUW@5878|C...</td>\n",
       "      <td>5878|Ciliophora</td>\n",
       "      <td>-</td>\n",
       "      <td>-</td>\n",
       "      <td>-</td>\n",
       "      <td>-</td>\n",
       "      <td>...</td>\n",
       "      <td>-</td>\n",
       "      <td>-</td>\n",
       "      <td>-</td>\n",
       "      <td>-</td>\n",
       "      <td>-</td>\n",
       "      <td>-</td>\n",
       "      <td>-</td>\n",
       "      <td>-</td>\n",
       "      <td>-</td>\n",
       "      <td>-</td>\n",
       "    </tr>\n",
       "    <tr>\n",
       "      <th>2</th>\n",
       "      <td>TTHERM_01528500</td>\n",
       "      <td>5911.EAR81749</td>\n",
       "      <td>4.000000e-141</td>\n",
       "      <td>462.0</td>\n",
       "      <td>COG1100@1|root,KOG0074@2759|Eukaryota</td>\n",
       "      <td>2759|Eukaryota</td>\n",
       "      <td>KLT</td>\n",
       "      <td>GTP binding</td>\n",
       "      <td>ARL13B</td>\n",
       "      <td>GO:0000902,GO:0000904,GO:0001947,GO:0002009,GO...</td>\n",
       "      <td>...</td>\n",
       "      <td>ko:K07962</td>\n",
       "      <td>-</td>\n",
       "      <td>-</td>\n",
       "      <td>-</td>\n",
       "      <td>-</td>\n",
       "      <td>ko00000,ko04031</td>\n",
       "      <td>-</td>\n",
       "      <td>-</td>\n",
       "      <td>-</td>\n",
       "      <td>-</td>\n",
       "    </tr>\n",
       "    <tr>\n",
       "      <th>3</th>\n",
       "      <td>TTHERM_0015284992</td>\n",
       "      <td>5911.EAR97791</td>\n",
       "      <td>8.400000e-64</td>\n",
       "      <td>205.1</td>\n",
       "      <td>2ERUB@1|root,2SUIJ@2759|Eukaryota</td>\n",
       "      <td>5911.EAR97791|-</td>\n",
       "      <td>-</td>\n",
       "      <td>-</td>\n",
       "      <td>-</td>\n",
       "      <td>-</td>\n",
       "      <td>...</td>\n",
       "      <td>-</td>\n",
       "      <td>-</td>\n",
       "      <td>-</td>\n",
       "      <td>-</td>\n",
       "      <td>-</td>\n",
       "      <td>-</td>\n",
       "      <td>-</td>\n",
       "      <td>-</td>\n",
       "      <td>-</td>\n",
       "      <td>-</td>\n",
       "    </tr>\n",
       "    <tr>\n",
       "      <th>4</th>\n",
       "      <td>TTHERM_00897120</td>\n",
       "      <td>5911.EAR86071</td>\n",
       "      <td>5.200000e-77</td>\n",
       "      <td>248.8</td>\n",
       "      <td>2ERUB@1|root,2SUIJ@2759|Eukaryota</td>\n",
       "      <td>5911.EAR86071|-</td>\n",
       "      <td>-</td>\n",
       "      <td>-</td>\n",
       "      <td>-</td>\n",
       "      <td>-</td>\n",
       "      <td>...</td>\n",
       "      <td>-</td>\n",
       "      <td>-</td>\n",
       "      <td>-</td>\n",
       "      <td>-</td>\n",
       "      <td>-</td>\n",
       "      <td>-</td>\n",
       "      <td>-</td>\n",
       "      <td>-</td>\n",
       "      <td>-</td>\n",
       "      <td>-</td>\n",
       "    </tr>\n",
       "  </tbody>\n",
       "</table>\n",
       "<p>5 rows × 21 columns</p>\n",
       "</div>"
      ],
      "text/plain": [
       "           TTHERM_ID  seed_ortholog         evalue  score  \\\n",
       "0    TTHERM_01528530  5911.EAS00195   2.200000e-14   49.9   \n",
       "1    TTHERM_01528510  5911.EAR81750  1.100000e-194  633.4   \n",
       "2    TTHERM_01528500  5911.EAR81749  4.000000e-141  462.0   \n",
       "3  TTHERM_0015284992  5911.EAR97791   8.400000e-64  205.1   \n",
       "4    TTHERM_00897120  5911.EAR86071   5.200000e-77  248.8   \n",
       "\n",
       "                                          eggNOG_OGs    max_annot_lvl  \\\n",
       "0              KOG0594@1|root,KOG0594@2759|Eukaryota   2759|Eukaryota   \n",
       "1  2EI75@1|root,2SNPE@2759|Eukaryota,3ZBUW@5878|C...  5878|Ciliophora   \n",
       "2              COG1100@1|root,KOG0074@2759|Eukaryota   2759|Eukaryota   \n",
       "3                  2ERUB@1|root,2SUIJ@2759|Eukaryota  5911.EAR97791|-   \n",
       "4                  2ERUB@1|root,2SUIJ@2759|Eukaryota  5911.EAR86071|-   \n",
       "\n",
       "  COG_category                                        Description  \\\n",
       "0            G  cyclin-dependent protein serine/threonine kina...   \n",
       "1            -                                                  -   \n",
       "2          KLT                                        GTP binding   \n",
       "3            -                                                  -   \n",
       "4            -                                                  -   \n",
       "\n",
       "  Preferred_name                                                GOs  ...  \\\n",
       "0              -                                                  -  ...   \n",
       "1              -                                                  -  ...   \n",
       "2         ARL13B  GO:0000902,GO:0000904,GO:0001947,GO:0002009,GO...  ...   \n",
       "3              -                                                  -  ...   \n",
       "4              -                                                  -  ...   \n",
       "\n",
       "     KEGG_ko KEGG_Pathway KEGG_Module KEGG_Reaction KEGG_rclass  \\\n",
       "0          -            -           -             -           -   \n",
       "1          -            -           -             -           -   \n",
       "2  ko:K07962            -           -             -           -   \n",
       "3          -            -           -             -           -   \n",
       "4          -            -           -             -           -   \n",
       "\n",
       "             BRITE KEGG_TC CAZy BiGG_Reaction PFAMs  \n",
       "0                -       -    -             -     -  \n",
       "1                -       -    -             -     -  \n",
       "2  ko00000,ko04031       -    -             -     -  \n",
       "3                -       -    -             -     -  \n",
       "4                -       -    -             -     -  \n",
       "\n",
       "[5 rows x 21 columns]"
      ]
     },
     "execution_count": 5,
     "metadata": {},
     "output_type": "execute_result"
    }
   ],
   "source": [
    "eggnog_annot = pd.read_csv('./Ttherm2021MAC_eggnog_hmmer_default_evalue.emapper.annotations.backup', comment='#', delimiter='\\t')\n",
    "eggnog_annot = eggnog_annot.rename(columns={'query':'TTHERM_ID'})\n",
    "eggnog_annot.head()"
   ]
  },
  {
   "cell_type": "code",
   "execution_count": 6,
   "id": "76c50a3e-d4b8-4dde-8515-84904a50d9dc",
   "metadata": {},
   "outputs": [
    {
     "data": {
      "text/plain": [
       "17274"
      ]
     },
     "execution_count": 6,
     "metadata": {},
     "output_type": "execute_result"
    }
   ],
   "source": [
    "len(eggnog_annot)"
   ]
  },
  {
   "cell_type": "markdown",
   "id": "0305e11d-57f0-427b-bc7c-c6f46b9dbe30",
   "metadata": {},
   "source": [
    "Out of curiousity: how many of the genes that passed the filter are in the eggNOG annotations? and what proportion of the eggNOG set is covered by the genes I'm taking?"
   ]
  },
  {
   "cell_type": "code",
   "execution_count": 8,
   "id": "0bf3e056-2a9f-4a22-b08f-1a8f8556d79a",
   "metadata": {},
   "outputs": [
    {
     "data": {
      "text/html": [
       "<div>\n",
       "<style scoped>\n",
       "    .dataframe tbody tr th:only-of-type {\n",
       "        vertical-align: middle;\n",
       "    }\n",
       "\n",
       "    .dataframe tbody tr th {\n",
       "        vertical-align: top;\n",
       "    }\n",
       "\n",
       "    .dataframe thead th {\n",
       "        text-align: right;\n",
       "    }\n",
       "</style>\n",
       "<table border=\"1\" class=\"dataframe\">\n",
       "  <thead>\n",
       "    <tr style=\"text-align: right;\">\n",
       "      <th></th>\n",
       "      <th>TTHERM_ID</th>\n",
       "      <th>Ll_GSM283687</th>\n",
       "      <th>Ll_GSM284355</th>\n",
       "      <th>Lm_GSM283690</th>\n",
       "      <th>Lm_GSM284357</th>\n",
       "      <th>Lm_GSM284363</th>\n",
       "      <th>Lh_GSM283691</th>\n",
       "      <th>Lh_GSM284360</th>\n",
       "      <th>Lh_GSM284364</th>\n",
       "      <th>S0_GSM285363</th>\n",
       "      <th>...</th>\n",
       "      <th>C12_GSM656237</th>\n",
       "      <th>C14_GSM285580</th>\n",
       "      <th>C14_GSM285593</th>\n",
       "      <th>C14_GSM656238</th>\n",
       "      <th>C16_GSM285582</th>\n",
       "      <th>C16_GSM285595</th>\n",
       "      <th>C16_GSM656239</th>\n",
       "      <th>C18_GSM285583</th>\n",
       "      <th>C18_GSM285596</th>\n",
       "      <th>C18_GSM656240</th>\n",
       "    </tr>\n",
       "  </thead>\n",
       "  <tbody>\n",
       "    <tr>\n",
       "      <th>0</th>\n",
       "      <td>TTHERM_000000045</td>\n",
       "      <td>0.000000</td>\n",
       "      <td>0.379300</td>\n",
       "      <td>0.091199</td>\n",
       "      <td>0.494816</td>\n",
       "      <td>0.111282</td>\n",
       "      <td>0.233067</td>\n",
       "      <td>0.508778</td>\n",
       "      <td>0.420687</td>\n",
       "      <td>0.630805</td>\n",
       "      <td>...</td>\n",
       "      <td>0.724773</td>\n",
       "      <td>0.835377</td>\n",
       "      <td>0.764396</td>\n",
       "      <td>0.579918</td>\n",
       "      <td>0.761801</td>\n",
       "      <td>0.708173</td>\n",
       "      <td>0.561569</td>\n",
       "      <td>0.853476</td>\n",
       "      <td>0.740726</td>\n",
       "      <td>0.495882</td>\n",
       "    </tr>\n",
       "    <tr>\n",
       "      <th>1</th>\n",
       "      <td>TTHERM_00000010</td>\n",
       "      <td>0.063215</td>\n",
       "      <td>0.021196</td>\n",
       "      <td>0.241108</td>\n",
       "      <td>0.000000</td>\n",
       "      <td>0.013508</td>\n",
       "      <td>0.183958</td>\n",
       "      <td>0.134199</td>\n",
       "      <td>0.139126</td>\n",
       "      <td>0.748801</td>\n",
       "      <td>...</td>\n",
       "      <td>0.286399</td>\n",
       "      <td>0.452960</td>\n",
       "      <td>0.469213</td>\n",
       "      <td>0.443977</td>\n",
       "      <td>0.399684</td>\n",
       "      <td>0.489023</td>\n",
       "      <td>0.388266</td>\n",
       "      <td>0.469183</td>\n",
       "      <td>0.457502</td>\n",
       "      <td>0.373347</td>\n",
       "    </tr>\n",
       "    <tr>\n",
       "      <th>2</th>\n",
       "      <td>TTHERM_00000020</td>\n",
       "      <td>0.024412</td>\n",
       "      <td>0.022987</td>\n",
       "      <td>0.350290</td>\n",
       "      <td>0.101640</td>\n",
       "      <td>0.040838</td>\n",
       "      <td>0.551008</td>\n",
       "      <td>0.006193</td>\n",
       "      <td>0.060692</td>\n",
       "      <td>0.572309</td>\n",
       "      <td>...</td>\n",
       "      <td>0.124525</td>\n",
       "      <td>0.074104</td>\n",
       "      <td>0.203526</td>\n",
       "      <td>0.125144</td>\n",
       "      <td>0.112551</td>\n",
       "      <td>0.371761</td>\n",
       "      <td>0.111196</td>\n",
       "      <td>0.089908</td>\n",
       "      <td>0.156913</td>\n",
       "      <td>0.081067</td>\n",
       "    </tr>\n",
       "    <tr>\n",
       "      <th>3</th>\n",
       "      <td>TTHERM_00000030</td>\n",
       "      <td>0.020504</td>\n",
       "      <td>0.003167</td>\n",
       "      <td>0.109361</td>\n",
       "      <td>0.015885</td>\n",
       "      <td>0.072677</td>\n",
       "      <td>0.282161</td>\n",
       "      <td>0.003773</td>\n",
       "      <td>0.047352</td>\n",
       "      <td>0.856446</td>\n",
       "      <td>...</td>\n",
       "      <td>0.028122</td>\n",
       "      <td>0.084604</td>\n",
       "      <td>0.030403</td>\n",
       "      <td>0.083517</td>\n",
       "      <td>0.055961</td>\n",
       "      <td>0.062108</td>\n",
       "      <td>0.000000</td>\n",
       "      <td>0.068706</td>\n",
       "      <td>0.089184</td>\n",
       "      <td>0.029949</td>\n",
       "    </tr>\n",
       "    <tr>\n",
       "      <th>4</th>\n",
       "      <td>TTHERM_00000040</td>\n",
       "      <td>0.636879</td>\n",
       "      <td>0.556861</td>\n",
       "      <td>0.681895</td>\n",
       "      <td>0.540553</td>\n",
       "      <td>0.470173</td>\n",
       "      <td>0.301323</td>\n",
       "      <td>0.440293</td>\n",
       "      <td>0.368383</td>\n",
       "      <td>0.353101</td>\n",
       "      <td>...</td>\n",
       "      <td>0.227594</td>\n",
       "      <td>0.834581</td>\n",
       "      <td>0.779874</td>\n",
       "      <td>0.473698</td>\n",
       "      <td>0.303523</td>\n",
       "      <td>0.501913</td>\n",
       "      <td>0.139909</td>\n",
       "      <td>0.496543</td>\n",
       "      <td>0.437820</td>\n",
       "      <td>0.275806</td>\n",
       "    </tr>\n",
       "  </tbody>\n",
       "</table>\n",
       "<p>5 rows × 49 columns</p>\n",
       "</div>"
      ],
      "text/plain": [
       "          TTHERM_ID  Ll_GSM283687  Ll_GSM284355  Lm_GSM283690  Lm_GSM284357  \\\n",
       "0  TTHERM_000000045      0.000000      0.379300      0.091199      0.494816   \n",
       "1   TTHERM_00000010      0.063215      0.021196      0.241108      0.000000   \n",
       "2   TTHERM_00000020      0.024412      0.022987      0.350290      0.101640   \n",
       "3   TTHERM_00000030      0.020504      0.003167      0.109361      0.015885   \n",
       "4   TTHERM_00000040      0.636879      0.556861      0.681895      0.540553   \n",
       "\n",
       "   Lm_GSM284363  Lh_GSM283691  Lh_GSM284360  Lh_GSM284364  S0_GSM285363  ...  \\\n",
       "0      0.111282      0.233067      0.508778      0.420687      0.630805  ...   \n",
       "1      0.013508      0.183958      0.134199      0.139126      0.748801  ...   \n",
       "2      0.040838      0.551008      0.006193      0.060692      0.572309  ...   \n",
       "3      0.072677      0.282161      0.003773      0.047352      0.856446  ...   \n",
       "4      0.470173      0.301323      0.440293      0.368383      0.353101  ...   \n",
       "\n",
       "   C12_GSM656237  C14_GSM285580  C14_GSM285593  C14_GSM656238  C16_GSM285582  \\\n",
       "0       0.724773       0.835377       0.764396       0.579918       0.761801   \n",
       "1       0.286399       0.452960       0.469213       0.443977       0.399684   \n",
       "2       0.124525       0.074104       0.203526       0.125144       0.112551   \n",
       "3       0.028122       0.084604       0.030403       0.083517       0.055961   \n",
       "4       0.227594       0.834581       0.779874       0.473698       0.303523   \n",
       "\n",
       "   C16_GSM285595  C16_GSM656239  C18_GSM285583  C18_GSM285596  C18_GSM656240  \n",
       "0       0.708173       0.561569       0.853476       0.740726       0.495882  \n",
       "1       0.489023       0.388266       0.469183       0.457502       0.373347  \n",
       "2       0.371761       0.111196       0.089908       0.156913       0.081067  \n",
       "3       0.062108       0.000000       0.068706       0.089184       0.029949  \n",
       "4       0.501913       0.139909       0.496543       0.437820       0.275806  \n",
       "\n",
       "[5 rows x 49 columns]"
      ]
     },
     "execution_count": 8,
     "metadata": {},
     "output_type": "execute_result"
    }
   ],
   "source": [
    "full_filtered_norm_df = pd.read_csv('../microarray_probe_alignment_and_filtering/full_norm_filt_agg_tidy_2021aligned_qc_rma_expression.csv')\n",
    "full_filtered_norm_df = full_filtered_norm_df.rename(columns={'Unnamed: 0': 'TTHERM_ID'})\n",
    "full_filtered_norm_df.head()"
   ]
  },
  {
   "cell_type": "code",
   "execution_count": 9,
   "id": "684a3cba-c4d6-4e86-8ab8-37b79c3d463c",
   "metadata": {},
   "outputs": [],
   "source": [
    "g1 = set(full_filtered_norm_df['TTHERM_ID'].values)\n",
    "g2 = set(eggnog_annot['TTHERM_ID'].values)\n",
    "\n",
    "intersection = set.intersection(g1, g2)"
   ]
  },
  {
   "cell_type": "code",
   "execution_count": 10,
   "id": "deb72fb7-72a8-49af-b77c-118509f44d5c",
   "metadata": {},
   "outputs": [
    {
     "data": {
      "text/plain": [
       "0.7171471575778627"
      ]
     },
     "execution_count": 10,
     "metadata": {},
     "output_type": "execute_result"
    }
   ],
   "source": [
    "len(intersection)/len(g2)"
   ]
  },
  {
   "cell_type": "code",
   "execution_count": 11,
   "id": "277c50f8-d603-45e9-9efa-b21f7380bc4e",
   "metadata": {},
   "outputs": [
    {
     "data": {
      "text/plain": [
       "0.746489906598373"
      ]
     },
     "execution_count": 11,
     "metadata": {},
     "output_type": "execute_result"
    }
   ],
   "source": [
    "len(intersection)/len(g1)"
   ]
  },
  {
   "cell_type": "code",
   "execution_count": 12,
   "id": "69279c48-4b93-495b-b1ca-19cb15fe7b63",
   "metadata": {},
   "outputs": [
    {
     "data": {
      "text/plain": [
       "0.6578566532104502"
      ]
     },
     "execution_count": 12,
     "metadata": {},
     "output_type": "execute_result"
    }
   ],
   "source": [
    "len(eggnog_annot)/len(TGD2021_records)"
   ]
  },
  {
   "cell_type": "markdown",
   "id": "61dcfa54-3d2b-4f9d-b2cf-8c02c00f7ca5",
   "metadata": {},
   "source": [
    "It looks like 80% of the genes that have identifiable orthologous groups are in my dataset, and 72% of my dataset has identified orthologous groups. This seems very solid!"
   ]
  },
  {
   "cell_type": "markdown",
   "id": "626bc571-7321-4c48-b471-d8db1a81f5f2",
   "metadata": {},
   "source": [
    "Want to create a full dataframe including annotated and unannotated genes"
   ]
  },
  {
   "cell_type": "code",
   "execution_count": 13,
   "id": "4d37af0a-ad53-4af6-b412-70037e765b3b",
   "metadata": {},
   "outputs": [],
   "source": [
    "all_ttids = [r.id for r in TGD2021_records]"
   ]
  },
  {
   "cell_type": "code",
   "execution_count": 14,
   "id": "f3839008-da83-4692-afe7-1812cccb1a70",
   "metadata": {},
   "outputs": [],
   "source": [
    "eggnog_annot_ttids = eggnog_annot['TTHERM_ID'].values"
   ]
  },
  {
   "cell_type": "markdown",
   "id": "e12ef3a3-a9eb-4001-a335-e95a993e16dc",
   "metadata": {},
   "source": [
    "Collect all the unannotated genes"
   ]
  },
  {
   "cell_type": "code",
   "execution_count": 15,
   "id": "2a2a8e39-4eae-44fa-8044-31ce6fd3d131",
   "metadata": {},
   "outputs": [],
   "source": [
    "dummy_dict = {c: [] for c in eggnog_annot.columns}\n",
    "for ttherm in all_ttids:    \n",
    "    if ttherm not in eggnog_annot_ttids:\n",
    "        for i, c in enumerate(eggnog_annot.columns):\n",
    "            if c == 'TTHERM_ID':\n",
    "                dummy_dict[c].append(ttherm)\n",
    "            else:\n",
    "                dummy_dict[c].append('-')\n",
    "                "
   ]
  },
  {
   "cell_type": "markdown",
   "id": "653b13af-5613-46a6-a2c2-a8edde62697c",
   "metadata": {},
   "source": [
    "Combine unnanotated and annotated"
   ]
  },
  {
   "cell_type": "code",
   "execution_count": 16,
   "id": "aa96a93f-72e3-4002-9f53-122791efa3fc",
   "metadata": {},
   "outputs": [],
   "source": [
    "unannot_df = pd.DataFrame(dummy_dict)\n",
    "complete_annot = pd.concat([eggnog_annot, unannot_df])"
   ]
  },
  {
   "cell_type": "markdown",
   "id": "ee1aabe6-9fad-4329-9d8e-864eafac68dc",
   "metadata": {},
   "source": [
    "Confirm that all the genes that are in the 2021 genome are represented"
   ]
  },
  {
   "cell_type": "code",
   "execution_count": 17,
   "id": "1b5d93f3-ce72-44a1-a2bd-5b133a954ad9",
   "metadata": {},
   "outputs": [
    {
     "data": {
      "text/plain": [
       "26258"
      ]
     },
     "execution_count": 17,
     "metadata": {},
     "output_type": "execute_result"
    }
   ],
   "source": [
    "len(complete_annot)"
   ]
  },
  {
   "cell_type": "code",
   "execution_count": 19,
   "id": "e4a5f907-e002-40a9-ac7d-e0cb43a78a11",
   "metadata": {},
   "outputs": [],
   "source": [
    "record_dict = {r.id: r for r in TGD2021_records}\n",
    "complete_annot['TGD2021_description'] = [record_dict[ttid].description.split('\\t')[1] for ttid in complete_annot['TTHERM_ID'].values]"
   ]
  },
  {
   "cell_type": "code",
   "execution_count": 20,
   "id": "1c2e3dc7-021b-4960-9ac5-03c84305b8b1",
   "metadata": {},
   "outputs": [],
   "source": [
    "complete_annot.to_csv('./complete_eggnog_annotation.csv', index=False)"
   ]
  },
  {
   "cell_type": "code",
   "execution_count": null,
   "id": "6f2ab848-0193-4f93-8d9c-93cbf314f66b",
   "metadata": {},
   "outputs": [],
   "source": []
  }
 ],
 "metadata": {
  "kernelspec": {
   "display_name": "Python 3 (ipykernel)",
   "language": "python",
   "name": "python3"
  },
  "language_info": {
   "codemirror_mode": {
    "name": "ipython",
    "version": 3
   },
   "file_extension": ".py",
   "mimetype": "text/x-python",
   "name": "python",
   "nbconvert_exporter": "python",
   "pygments_lexer": "ipython3",
   "version": "3.9.7"
  }
 },
 "nbformat": 4,
 "nbformat_minor": 5
}

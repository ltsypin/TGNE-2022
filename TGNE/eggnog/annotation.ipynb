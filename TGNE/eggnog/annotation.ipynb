{
 "cells": [
  {
   "cell_type": "code",
   "execution_count": 1,
   "id": "f4f92d81-2871-4684-89d1-76344d51415c",
   "metadata": {},
   "outputs": [],
   "source": [
    "import pandas as pd\n",
    "from Bio import SeqIO"
   ]
  },
  {
   "cell_type": "code",
   "execution_count": 2,
   "id": "fa2b688a-5b79-4f24-9c34-ef93baac5442",
   "metadata": {
    "tags": []
   },
   "outputs": [],
   "source": [
    "with open('../../new_raw_data/Tthermophila_MAC_protein_2021.fasta', 'r') as f:\n",
    "    TGD2021_records = list(SeqIO.parse(f, 'fasta'))"
   ]
  },
  {
   "cell_type": "code",
   "execution_count": 3,
   "id": "55ad590f-cfff-41e3-85e1-81601e587ddd",
   "metadata": {},
   "outputs": [
    {
     "data": {
      "text/plain": [
       "SeqRecord(seq=Seq('MQNLNGSQILETIQDVFDEVKNKALFSKNILSETIAYLMGSEKYTDIDYIIDTD...IIY'), id='TTHERM_01528530', name='TTHERM_01528530', description='TTHERM_01528530\\tprotein kinase', dbxrefs=[])"
      ]
     },
     "execution_count": 3,
     "metadata": {},
     "output_type": "execute_result"
    }
   ],
   "source": [
    "TGD2021_records[0]"
   ]
  },
  {
   "cell_type": "code",
   "execution_count": 4,
   "id": "5753291b-2fe1-4804-b4ff-4eeaad41da7f",
   "metadata": {},
   "outputs": [
    {
     "data": {
      "text/plain": [
       "26258"
      ]
     },
     "execution_count": 4,
     "metadata": {},
     "output_type": "execute_result"
    }
   ],
   "source": [
    "len(TGD2021_records)"
   ]
  },
  {
   "cell_type": "code",
   "execution_count": 5,
   "id": "a47ec31b-4ff6-46fd-8e1c-a49056ab2dc1",
   "metadata": {},
   "outputs": [
    {
     "data": {
      "text/html": [
       "<div>\n",
       "<style scoped>\n",
       "    .dataframe tbody tr th:only-of-type {\n",
       "        vertical-align: middle;\n",
       "    }\n",
       "\n",
       "    .dataframe tbody tr th {\n",
       "        vertical-align: top;\n",
       "    }\n",
       "\n",
       "    .dataframe thead th {\n",
       "        text-align: right;\n",
       "    }\n",
       "</style>\n",
       "<table border=\"1\" class=\"dataframe\">\n",
       "  <thead>\n",
       "    <tr style=\"text-align: right;\">\n",
       "      <th></th>\n",
       "      <th>TTHERM_ID</th>\n",
       "      <th>seed_ortholog</th>\n",
       "      <th>evalue</th>\n",
       "      <th>score</th>\n",
       "      <th>eggNOG_OGs</th>\n",
       "      <th>max_annot_lvl</th>\n",
       "      <th>COG_category</th>\n",
       "      <th>Description</th>\n",
       "      <th>Preferred_name</th>\n",
       "      <th>GOs</th>\n",
       "      <th>...</th>\n",
       "      <th>KEGG_ko</th>\n",
       "      <th>KEGG_Pathway</th>\n",
       "      <th>KEGG_Module</th>\n",
       "      <th>KEGG_Reaction</th>\n",
       "      <th>KEGG_rclass</th>\n",
       "      <th>BRITE</th>\n",
       "      <th>KEGG_TC</th>\n",
       "      <th>CAZy</th>\n",
       "      <th>BiGG_Reaction</th>\n",
       "      <th>PFAMs</th>\n",
       "    </tr>\n",
       "  </thead>\n",
       "  <tbody>\n",
       "    <tr>\n",
       "      <th>0</th>\n",
       "      <td>TTHERM_01528530</td>\n",
       "      <td>5911.EAS00195</td>\n",
       "      <td>2.200000e-14</td>\n",
       "      <td>49.9</td>\n",
       "      <td>KOG0594@1|root,KOG0594@2759|Eukaryota</td>\n",
       "      <td>2759|Eukaryota</td>\n",
       "      <td>G</td>\n",
       "      <td>cyclin-dependent protein serine/threonine kina...</td>\n",
       "      <td>-</td>\n",
       "      <td>-</td>\n",
       "      <td>...</td>\n",
       "      <td>-</td>\n",
       "      <td>-</td>\n",
       "      <td>-</td>\n",
       "      <td>-</td>\n",
       "      <td>-</td>\n",
       "      <td>-</td>\n",
       "      <td>-</td>\n",
       "      <td>-</td>\n",
       "      <td>-</td>\n",
       "      <td>-</td>\n",
       "    </tr>\n",
       "    <tr>\n",
       "      <th>1</th>\n",
       "      <td>TTHERM_01528510</td>\n",
       "      <td>5911.EAR81750</td>\n",
       "      <td>1.100000e-194</td>\n",
       "      <td>633.4</td>\n",
       "      <td>2EI75@1|root,2SNPE@2759|Eukaryota,3ZBUW@5878|C...</td>\n",
       "      <td>5878|Ciliophora</td>\n",
       "      <td>-</td>\n",
       "      <td>-</td>\n",
       "      <td>-</td>\n",
       "      <td>-</td>\n",
       "      <td>...</td>\n",
       "      <td>-</td>\n",
       "      <td>-</td>\n",
       "      <td>-</td>\n",
       "      <td>-</td>\n",
       "      <td>-</td>\n",
       "      <td>-</td>\n",
       "      <td>-</td>\n",
       "      <td>-</td>\n",
       "      <td>-</td>\n",
       "      <td>-</td>\n",
       "    </tr>\n",
       "    <tr>\n",
       "      <th>2</th>\n",
       "      <td>TTHERM_01528500</td>\n",
       "      <td>5911.EAR81749</td>\n",
       "      <td>4.000000e-141</td>\n",
       "      <td>462.0</td>\n",
       "      <td>COG1100@1|root,KOG0074@2759|Eukaryota</td>\n",
       "      <td>2759|Eukaryota</td>\n",
       "      <td>KLT</td>\n",
       "      <td>GTP binding</td>\n",
       "      <td>ARL13B</td>\n",
       "      <td>GO:0000902,GO:0000904,GO:0001947,GO:0002009,GO...</td>\n",
       "      <td>...</td>\n",
       "      <td>ko:K07962</td>\n",
       "      <td>-</td>\n",
       "      <td>-</td>\n",
       "      <td>-</td>\n",
       "      <td>-</td>\n",
       "      <td>ko00000,ko04031</td>\n",
       "      <td>-</td>\n",
       "      <td>-</td>\n",
       "      <td>-</td>\n",
       "      <td>-</td>\n",
       "    </tr>\n",
       "    <tr>\n",
       "      <th>3</th>\n",
       "      <td>TTHERM_0015284992</td>\n",
       "      <td>5911.EAR97791</td>\n",
       "      <td>8.400000e-64</td>\n",
       "      <td>205.1</td>\n",
       "      <td>2ERUB@1|root,2SUIJ@2759|Eukaryota</td>\n",
       "      <td>5911.EAR97791|-</td>\n",
       "      <td>-</td>\n",
       "      <td>-</td>\n",
       "      <td>-</td>\n",
       "      <td>-</td>\n",
       "      <td>...</td>\n",
       "      <td>-</td>\n",
       "      <td>-</td>\n",
       "      <td>-</td>\n",
       "      <td>-</td>\n",
       "      <td>-</td>\n",
       "      <td>-</td>\n",
       "      <td>-</td>\n",
       "      <td>-</td>\n",
       "      <td>-</td>\n",
       "      <td>-</td>\n",
       "    </tr>\n",
       "    <tr>\n",
       "      <th>4</th>\n",
       "      <td>TTHERM_00897120</td>\n",
       "      <td>5911.EAR86071</td>\n",
       "      <td>5.200000e-77</td>\n",
       "      <td>248.8</td>\n",
       "      <td>2ERUB@1|root,2SUIJ@2759|Eukaryota</td>\n",
       "      <td>5911.EAR86071|-</td>\n",
       "      <td>-</td>\n",
       "      <td>-</td>\n",
       "      <td>-</td>\n",
       "      <td>-</td>\n",
       "      <td>...</td>\n",
       "      <td>-</td>\n",
       "      <td>-</td>\n",
       "      <td>-</td>\n",
       "      <td>-</td>\n",
       "      <td>-</td>\n",
       "      <td>-</td>\n",
       "      <td>-</td>\n",
       "      <td>-</td>\n",
       "      <td>-</td>\n",
       "      <td>-</td>\n",
       "    </tr>\n",
       "  </tbody>\n",
       "</table>\n",
       "<p>5 rows × 21 columns</p>\n",
       "</div>"
      ],
      "text/plain": [
       "           TTHERM_ID  seed_ortholog         evalue  score  \\\n",
       "0    TTHERM_01528530  5911.EAS00195   2.200000e-14   49.9   \n",
       "1    TTHERM_01528510  5911.EAR81750  1.100000e-194  633.4   \n",
       "2    TTHERM_01528500  5911.EAR81749  4.000000e-141  462.0   \n",
       "3  TTHERM_0015284992  5911.EAR97791   8.400000e-64  205.1   \n",
       "4    TTHERM_00897120  5911.EAR86071   5.200000e-77  248.8   \n",
       "\n",
       "                                          eggNOG_OGs    max_annot_lvl  \\\n",
       "0              KOG0594@1|root,KOG0594@2759|Eukaryota   2759|Eukaryota   \n",
       "1  2EI75@1|root,2SNPE@2759|Eukaryota,3ZBUW@5878|C...  5878|Ciliophora   \n",
       "2              COG1100@1|root,KOG0074@2759|Eukaryota   2759|Eukaryota   \n",
       "3                  2ERUB@1|root,2SUIJ@2759|Eukaryota  5911.EAR97791|-   \n",
       "4                  2ERUB@1|root,2SUIJ@2759|Eukaryota  5911.EAR86071|-   \n",
       "\n",
       "  COG_category                                        Description  \\\n",
       "0            G  cyclin-dependent protein serine/threonine kina...   \n",
       "1            -                                                  -   \n",
       "2          KLT                                        GTP binding   \n",
       "3            -                                                  -   \n",
       "4            -                                                  -   \n",
       "\n",
       "  Preferred_name                                                GOs  ...  \\\n",
       "0              -                                                  -  ...   \n",
       "1              -                                                  -  ...   \n",
       "2         ARL13B  GO:0000902,GO:0000904,GO:0001947,GO:0002009,GO...  ...   \n",
       "3              -                                                  -  ...   \n",
       "4              -                                                  -  ...   \n",
       "\n",
       "     KEGG_ko KEGG_Pathway KEGG_Module KEGG_Reaction KEGG_rclass  \\\n",
       "0          -            -           -             -           -   \n",
       "1          -            -           -             -           -   \n",
       "2  ko:K07962            -           -             -           -   \n",
       "3          -            -           -             -           -   \n",
       "4          -            -           -             -           -   \n",
       "\n",
       "             BRITE KEGG_TC CAZy BiGG_Reaction PFAMs  \n",
       "0                -       -    -             -     -  \n",
       "1                -       -    -             -     -  \n",
       "2  ko00000,ko04031       -    -             -     -  \n",
       "3                -       -    -             -     -  \n",
       "4                -       -    -             -     -  \n",
       "\n",
       "[5 rows x 21 columns]"
      ]
     },
     "execution_count": 5,
     "metadata": {},
     "output_type": "execute_result"
    }
   ],
   "source": [
    "eggnog_annot = pd.read_csv('./Ttherm2021MAC_eggnog_hmmer_default_evalue.emapper.annotations', comment='#', delimiter='\\t')\n",
    "eggnog_annot = eggnog_annot.rename(columns={'query':'TTHERM_ID'})\n",
    "eggnog_annot.head()"
   ]
  },
  {
   "cell_type": "code",
   "execution_count": 6,
   "id": "76c50a3e-d4b8-4dde-8515-84904a50d9dc",
   "metadata": {},
   "outputs": [
    {
     "data": {
      "text/plain": [
       "17274"
      ]
     },
     "execution_count": 6,
     "metadata": {},
     "output_type": "execute_result"
    }
   ],
   "source": [
    "len(eggnog_annot)"
   ]
  },
  {
   "cell_type": "markdown",
   "id": "0305e11d-57f0-427b-bc7c-c6f46b9dbe30",
   "metadata": {},
   "source": [
    "Out of curiousity: how many of the genes that passed the filter are in the eggNOG annotations? and what proportion of the eggNOG set is covered by the genes I'm taking?"
   ]
  },
  {
   "cell_type": "code",
   "execution_count": 7,
   "id": "0bf3e056-2a9f-4a22-b08f-1a8f8556d79a",
   "metadata": {},
   "outputs": [
    {
     "data": {
      "text/html": [
       "<div>\n",
       "<style scoped>\n",
       "    .dataframe tbody tr th:only-of-type {\n",
       "        vertical-align: middle;\n",
       "    }\n",
       "\n",
       "    .dataframe tbody tr th {\n",
       "        vertical-align: top;\n",
       "    }\n",
       "\n",
       "    .dataframe thead th {\n",
       "        text-align: right;\n",
       "    }\n",
       "</style>\n",
       "<table border=\"1\" class=\"dataframe\">\n",
       "  <thead>\n",
       "    <tr style=\"text-align: right;\">\n",
       "      <th></th>\n",
       "      <th>TTHERM_ID</th>\n",
       "      <th>000min_A</th>\n",
       "      <th>000min_B</th>\n",
       "      <th>030min_A</th>\n",
       "      <th>030min_B</th>\n",
       "      <th>060min_A</th>\n",
       "      <th>060min_B</th>\n",
       "      <th>090min_A</th>\n",
       "      <th>090min_B</th>\n",
       "      <th>120min_A</th>\n",
       "      <th>120min_B</th>\n",
       "      <th>150min_A</th>\n",
       "      <th>150min_B</th>\n",
       "      <th>180min_A</th>\n",
       "      <th>180min_B</th>\n",
       "      <th>210min_A</th>\n",
       "      <th>210min_B</th>\n",
       "      <th>240min_A</th>\n",
       "      <th>240min_B</th>\n",
       "    </tr>\n",
       "  </thead>\n",
       "  <tbody>\n",
       "    <tr>\n",
       "      <th>0</th>\n",
       "      <td>TTHERM_000000042</td>\n",
       "      <td>-1.145278</td>\n",
       "      <td>-1.366622</td>\n",
       "      <td>-1.090288</td>\n",
       "      <td>-1.054669</td>\n",
       "      <td>-0.998943</td>\n",
       "      <td>-0.856095</td>\n",
       "      <td>-0.308216</td>\n",
       "      <td>-0.037751</td>\n",
       "      <td>0.822677</td>\n",
       "      <td>0.404229</td>\n",
       "      <td>1.843396</td>\n",
       "      <td>0.462130</td>\n",
       "      <td>1.911465</td>\n",
       "      <td>1.004889</td>\n",
       "      <td>0.133971</td>\n",
       "      <td>0.902739</td>\n",
       "      <td>-0.836885</td>\n",
       "      <td>0.209251</td>\n",
       "    </tr>\n",
       "    <tr>\n",
       "      <th>1</th>\n",
       "      <td>TTHERM_000000045</td>\n",
       "      <td>2.132869</td>\n",
       "      <td>0.755428</td>\n",
       "      <td>1.926188</td>\n",
       "      <td>1.326219</td>\n",
       "      <td>0.306498</td>\n",
       "      <td>-0.096312</td>\n",
       "      <td>-0.831452</td>\n",
       "      <td>0.452220</td>\n",
       "      <td>-0.549956</td>\n",
       "      <td>-1.025380</td>\n",
       "      <td>-1.027583</td>\n",
       "      <td>-1.600241</td>\n",
       "      <td>-0.988495</td>\n",
       "      <td>-0.548833</td>\n",
       "      <td>-0.362177</td>\n",
       "      <td>0.142958</td>\n",
       "      <td>-0.081926</td>\n",
       "      <td>0.069974</td>\n",
       "    </tr>\n",
       "    <tr>\n",
       "      <th>2</th>\n",
       "      <td>TTHERM_000000090</td>\n",
       "      <td>-0.696709</td>\n",
       "      <td>0.949364</td>\n",
       "      <td>0.240858</td>\n",
       "      <td>0.180576</td>\n",
       "      <td>-1.455876</td>\n",
       "      <td>-1.220545</td>\n",
       "      <td>-0.889407</td>\n",
       "      <td>0.652444</td>\n",
       "      <td>-0.359168</td>\n",
       "      <td>-0.020221</td>\n",
       "      <td>-0.326191</td>\n",
       "      <td>2.483759</td>\n",
       "      <td>-0.500574</td>\n",
       "      <td>1.922257</td>\n",
       "      <td>-0.823688</td>\n",
       "      <td>-0.681138</td>\n",
       "      <td>0.105379</td>\n",
       "      <td>0.438881</td>\n",
       "    </tr>\n",
       "    <tr>\n",
       "      <th>3</th>\n",
       "      <td>TTHERM_00000010</td>\n",
       "      <td>2.212097</td>\n",
       "      <td>0.133578</td>\n",
       "      <td>2.596304</td>\n",
       "      <td>1.534106</td>\n",
       "      <td>-0.287727</td>\n",
       "      <td>-0.067082</td>\n",
       "      <td>-1.056191</td>\n",
       "      <td>-0.255277</td>\n",
       "      <td>-0.868698</td>\n",
       "      <td>-0.626752</td>\n",
       "      <td>-0.716381</td>\n",
       "      <td>-0.445309</td>\n",
       "      <td>-0.362213</td>\n",
       "      <td>-0.362831</td>\n",
       "      <td>-0.603433</td>\n",
       "      <td>-0.318380</td>\n",
       "      <td>-0.328054</td>\n",
       "      <td>-0.177758</td>\n",
       "    </tr>\n",
       "    <tr>\n",
       "      <th>4</th>\n",
       "      <td>TTHERM_00000020</td>\n",
       "      <td>-0.207069</td>\n",
       "      <td>-1.126478</td>\n",
       "      <td>0.403628</td>\n",
       "      <td>-0.919401</td>\n",
       "      <td>-0.324971</td>\n",
       "      <td>0.035467</td>\n",
       "      <td>0.330289</td>\n",
       "      <td>-1.353909</td>\n",
       "      <td>1.128683</td>\n",
       "      <td>-0.688178</td>\n",
       "      <td>0.662676</td>\n",
       "      <td>-0.624456</td>\n",
       "      <td>-0.697145</td>\n",
       "      <td>0.026312</td>\n",
       "      <td>0.170559</td>\n",
       "      <td>-0.333835</td>\n",
       "      <td>3.214856</td>\n",
       "      <td>0.302974</td>\n",
       "    </tr>\n",
       "  </tbody>\n",
       "</table>\n",
       "</div>"
      ],
      "text/plain": [
       "          TTHERM_ID  000min_A  000min_B  030min_A  030min_B  060min_A  \\\n",
       "0  TTHERM_000000042 -1.145278 -1.366622 -1.090288 -1.054669 -0.998943   \n",
       "1  TTHERM_000000045  2.132869  0.755428  1.926188  1.326219  0.306498   \n",
       "2  TTHERM_000000090 -0.696709  0.949364  0.240858  0.180576 -1.455876   \n",
       "3   TTHERM_00000010  2.212097  0.133578  2.596304  1.534106 -0.287727   \n",
       "4   TTHERM_00000020 -0.207069 -1.126478  0.403628 -0.919401 -0.324971   \n",
       "\n",
       "   060min_B  090min_A  090min_B  120min_A  120min_B  150min_A  150min_B  \\\n",
       "0 -0.856095 -0.308216 -0.037751  0.822677  0.404229  1.843396  0.462130   \n",
       "1 -0.096312 -0.831452  0.452220 -0.549956 -1.025380 -1.027583 -1.600241   \n",
       "2 -1.220545 -0.889407  0.652444 -0.359168 -0.020221 -0.326191  2.483759   \n",
       "3 -0.067082 -1.056191 -0.255277 -0.868698 -0.626752 -0.716381 -0.445309   \n",
       "4  0.035467  0.330289 -1.353909  1.128683 -0.688178  0.662676 -0.624456   \n",
       "\n",
       "   180min_A  180min_B  210min_A  210min_B  240min_A  240min_B  \n",
       "0  1.911465  1.004889  0.133971  0.902739 -0.836885  0.209251  \n",
       "1 -0.988495 -0.548833 -0.362177  0.142958 -0.081926  0.069974  \n",
       "2 -0.500574  1.922257 -0.823688 -0.681138  0.105379  0.438881  \n",
       "3 -0.362213 -0.362831 -0.603433 -0.318380 -0.328054 -0.177758  \n",
       "4 -0.697145  0.026312  0.170559 -0.333835  3.214856  0.302974  "
      ]
     },
     "execution_count": 7,
     "metadata": {},
     "output_type": "execute_result"
    }
   ],
   "source": [
    "# full_filtered_df = pd.read_csv('../microarray_probe_alignment_and_filtering/greedy_filt_agg_tidy_2021aligned_qc_rma_expression_full.csv')"
   ]
  },
  {
   "cell_type": "code",
   "execution_count": 8,
   "id": "684a3cba-c4d6-4e86-8ab8-37b79c3d463c",
   "metadata": {},
   "outputs": [],
   "source": [
    "# g1 = set(full_filtered_df['TTHERM_ID'].values)\n",
    "# g2 = set(eggnog_annot['TTHERM_ID'].values)\n",
    "\n",
    "# intersection = set.intersection(g1, g2)"
   ]
  },
  {
   "cell_type": "code",
   "execution_count": 9,
   "id": "deb72fb7-72a8-49af-b77c-118509f44d5c",
   "metadata": {},
   "outputs": [
    {
     "data": {
      "text/plain": [
       "0.9584925321292115"
      ]
     },
     "execution_count": 9,
     "metadata": {},
     "output_type": "execute_result"
    }
   ],
   "source": [
    "# Proportion of orthologs that are included in the filtered gene set\n",
    "# len(intersection)/len(g2)"
   ]
  },
  {
   "cell_type": "code",
   "execution_count": 10,
   "id": "277c50f8-d603-45e9-9efa-b21f7380bc4e",
   "metadata": {},
   "outputs": [
    {
     "data": {
      "text/plain": [
       "0.6867844698855152"
      ]
     },
     "execution_count": 10,
     "metadata": {},
     "output_type": "execute_result"
    }
   ],
   "source": [
    "# Proportion of filtered genes that have identifiable orthologs\n",
    "# len(intersection)/len(g1)"
   ]
  },
  {
   "cell_type": "code",
   "execution_count": 11,
   "id": "69279c48-4b93-495b-b1ca-19cb15fe7b63",
   "metadata": {},
   "outputs": [
    {
     "data": {
      "text/plain": [
       "0.6578566532104502"
      ]
     },
     "execution_count": 11,
     "metadata": {},
     "output_type": "execute_result"
    }
   ],
   "source": [
    "len(eggnog_annot)/len(TGD2021_records)"
   ]
  },
  {
   "cell_type": "code",
   "execution_count": 12,
   "id": "bee1101f-2152-41df-92f9-5f9ca1887de7",
   "metadata": {},
   "outputs": [],
   "source": [
    "# all_good_filtered_df = pd.read_csv('../microarray_probe_alignment_and_filtering/allgood_filt_agg_tidy_2021aligned_qc_rma_expression_full.csv')\n",
    "# all_good_filtered_df = all_good_filtered_df.rename(columns={'Unnamed: 0': 'TTHERM_ID'})\n",
    "# all_good_filtered_df.head()"
   ]
  },
  {
   "cell_type": "code",
   "execution_count": 13,
   "id": "de3d5baf-43f6-48d1-9b12-b57bb00c3b82",
   "metadata": {},
   "outputs": [],
   "source": [
    "# g1 = set(all_good_filtered_df['TTHERM_ID'].values)\n",
    "# g2 = set(eggnog_annot['TTHERM_ID'].values)\n",
    "\n",
    "# intersection = set.intersection(g1, g2)"
   ]
  },
  {
   "cell_type": "code",
   "execution_count": 14,
   "id": "887852e7-dfb9-4030-8071-2e2dc50936c1",
   "metadata": {},
   "outputs": [],
   "source": [
    "# Proportion of orthologs that are included in the filtered gene set\n",
    "# len(intersection)/len(g2)"
   ]
  },
  {
   "cell_type": "code",
   "execution_count": 15,
   "id": "70855814-6c8a-4727-9c71-1e00b83a3afb",
   "metadata": {},
   "outputs": [],
   "source": [
    "# Proportion of filtered genes that have identifiable orthologs\n",
    "# len(intersection)/len(g1)"
   ]
  },
  {
   "cell_type": "markdown",
   "id": "61dcfa54-3d2b-4f9d-b2cf-8c02c00f7ca5",
   "metadata": {},
   "source": [
    "It looks like when I consider the original greedy filter, I get ~72% of the genome that has identifiable orthologs in the dataset, but with the \"all good\" filter, I get ~75%. In both cases, I get 74-75% of the filtered genes as having identified orthologs. It makes sense that this proportion is smaller for the \"all good\" set because it has more genes."
   ]
  },
  {
   "cell_type": "markdown",
   "id": "626bc571-7321-4c48-b471-d8db1a81f5f2",
   "metadata": {},
   "source": [
    "Want to create a full dataframe including annotated and unannotated genes"
   ]
  },
  {
   "cell_type": "code",
   "execution_count": 16,
   "id": "4d37af0a-ad53-4af6-b412-70037e765b3b",
   "metadata": {},
   "outputs": [],
   "source": [
    "all_ttids = [r.id for r in TGD2021_records]"
   ]
  },
  {
   "cell_type": "code",
   "execution_count": 17,
   "id": "f3839008-da83-4692-afe7-1812cccb1a70",
   "metadata": {},
   "outputs": [],
   "source": [
    "eggnog_annot_ttids = eggnog_annot['TTHERM_ID'].values"
   ]
  },
  {
   "cell_type": "markdown",
   "id": "e12ef3a3-a9eb-4001-a335-e95a993e16dc",
   "metadata": {},
   "source": [
    "Collect all the unannotated genes"
   ]
  },
  {
   "cell_type": "code",
   "execution_count": 18,
   "id": "2a2a8e39-4eae-44fa-8044-31ce6fd3d131",
   "metadata": {},
   "outputs": [],
   "source": [
    "dummy_dict = {c: [] for c in eggnog_annot.columns}\n",
    "for ttherm in all_ttids:    \n",
    "    if ttherm not in eggnog_annot_ttids:\n",
    "        for i, c in enumerate(eggnog_annot.columns):\n",
    "            if c == 'TTHERM_ID':\n",
    "                dummy_dict[c].append(ttherm)\n",
    "            else:\n",
    "                dummy_dict[c].append('-')\n",
    "                "
   ]
  },
  {
   "cell_type": "markdown",
   "id": "653b13af-5613-46a6-a2c2-a8edde62697c",
   "metadata": {},
   "source": [
    "Combine unnanotated and annotated"
   ]
  },
  {
   "cell_type": "code",
   "execution_count": 19,
   "id": "aa96a93f-72e3-4002-9f53-122791efa3fc",
   "metadata": {},
   "outputs": [],
   "source": [
    "unannot_df = pd.DataFrame(dummy_dict)\n",
    "complete_annot = pd.concat([eggnog_annot, unannot_df])"
   ]
  },
  {
   "cell_type": "markdown",
   "id": "ee1aabe6-9fad-4329-9d8e-864eafac68dc",
   "metadata": {},
   "source": [
    "Confirm that all the genes that are in the 2021 genome are represented"
   ]
  },
  {
   "cell_type": "code",
   "execution_count": 20,
   "id": "1b5d93f3-ce72-44a1-a2bd-5b133a954ad9",
   "metadata": {},
   "outputs": [
    {
     "data": {
      "text/plain": [
       "26258"
      ]
     },
     "execution_count": 20,
     "metadata": {},
     "output_type": "execute_result"
    }
   ],
   "source": [
    "len(complete_annot)"
   ]
  },
  {
   "cell_type": "code",
   "execution_count": 21,
   "id": "e4a5f907-e002-40a9-ac7d-e0cb43a78a11",
   "metadata": {},
   "outputs": [],
   "source": [
    "record_dict = {r.id: r for r in TGD2021_records}\n",
    "complete_annot['TGD2021_description'] = [record_dict[ttid].description.split('\\t')[1] for ttid in complete_annot['TTHERM_ID'].values]"
   ]
  },
  {
   "cell_type": "code",
   "execution_count": 22,
   "id": "1c2e3dc7-021b-4960-9ac5-03c84305b8b1",
   "metadata": {},
   "outputs": [],
   "source": [
    "complete_annot.to_csv('./complete_eggnog_annotation.csv', index=False)"
   ]
  },
  {
   "cell_type": "code",
   "execution_count": null,
   "id": "6f2ab848-0193-4f93-8d9c-93cbf314f66b",
   "metadata": {},
   "outputs": [],
   "source": []
  }
 ],
 "metadata": {
  "kernelspec": {
   "display_name": "Python 3 (ipykernel)",
   "language": "python",
   "name": "python3"
  },
  "language_info": {
   "codemirror_mode": {
    "name": "ipython",
    "version": 3
   },
   "file_extension": ".py",
   "mimetype": "text/x-python",
   "name": "python",
   "nbconvert_exporter": "python",
   "pygments_lexer": "ipython3",
   "version": "3.9.9"
  }
 },
 "nbformat": 4,
 "nbformat_minor": 5
}

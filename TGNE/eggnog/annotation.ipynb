{
 "cells": [
  {
   "cell_type": "code",
   "execution_count": 24,
   "id": "f4f92d81-2871-4684-89d1-76344d51415c",
   "metadata": {},
   "outputs": [],
   "source": [
    "import pandas as pd\n",
    "from Bio import SeqIO"
   ]
  },
  {
   "cell_type": "code",
   "execution_count": 25,
   "id": "fa2b688a-5b79-4f24-9c34-ef93baac5442",
   "metadata": {
    "tags": []
   },
   "outputs": [],
   "source": [
    "with open('../../new_raw_data/Tthermophila_MAC_protein_2021.fasta', 'r') as f:\n",
    "    TGD2021_records = list(SeqIO.parse(f, 'fasta'))"
   ]
  },
  {
   "cell_type": "code",
   "execution_count": 26,
   "id": "55ad590f-cfff-41e3-85e1-81601e587ddd",
   "metadata": {},
   "outputs": [
    {
     "data": {
      "text/plain": [
       "SeqRecord(seq=Seq('MQNLNGSQILETIQDVFDEVKNKALFSKNILSETIAYLMGSEKYTDIDYIIDTD...IIY'), id='TTHERM_01528530', name='TTHERM_01528530', description='TTHERM_01528530\\tprotein kinase', dbxrefs=[])"
      ]
     },
     "execution_count": 26,
     "metadata": {},
     "output_type": "execute_result"
    }
   ],
   "source": [
    "TGD2021_records[0]"
   ]
  },
  {
   "cell_type": "code",
   "execution_count": 27,
   "id": "5753291b-2fe1-4804-b4ff-4eeaad41da7f",
   "metadata": {},
   "outputs": [
    {
     "data": {
      "text/plain": [
       "26258"
      ]
     },
     "execution_count": 27,
     "metadata": {},
     "output_type": "execute_result"
    }
   ],
   "source": [
    "len(TGD2021_records)"
   ]
  },
  {
   "cell_type": "code",
   "execution_count": 28,
   "id": "a47ec31b-4ff6-46fd-8e1c-a49056ab2dc1",
   "metadata": {},
   "outputs": [
    {
     "data": {
      "text/html": [
       "<div>\n",
       "<style scoped>\n",
       "    .dataframe tbody tr th:only-of-type {\n",
       "        vertical-align: middle;\n",
       "    }\n",
       "\n",
       "    .dataframe tbody tr th {\n",
       "        vertical-align: top;\n",
       "    }\n",
       "\n",
       "    .dataframe thead th {\n",
       "        text-align: right;\n",
       "    }\n",
       "</style>\n",
       "<table border=\"1\" class=\"dataframe\">\n",
       "  <thead>\n",
       "    <tr style=\"text-align: right;\">\n",
       "      <th></th>\n",
       "      <th>TTHERM_ID</th>\n",
       "      <th>seed_ortholog</th>\n",
       "      <th>evalue</th>\n",
       "      <th>score</th>\n",
       "      <th>eggNOG_OGs</th>\n",
       "      <th>max_annot_lvl</th>\n",
       "      <th>COG_category</th>\n",
       "      <th>Description</th>\n",
       "      <th>Preferred_name</th>\n",
       "      <th>GOs</th>\n",
       "      <th>...</th>\n",
       "      <th>KEGG_ko</th>\n",
       "      <th>KEGG_Pathway</th>\n",
       "      <th>KEGG_Module</th>\n",
       "      <th>KEGG_Reaction</th>\n",
       "      <th>KEGG_rclass</th>\n",
       "      <th>BRITE</th>\n",
       "      <th>KEGG_TC</th>\n",
       "      <th>CAZy</th>\n",
       "      <th>BiGG_Reaction</th>\n",
       "      <th>PFAMs</th>\n",
       "    </tr>\n",
       "  </thead>\n",
       "  <tbody>\n",
       "    <tr>\n",
       "      <th>0</th>\n",
       "      <td>TTHERM_01528530</td>\n",
       "      <td>5911.EAS00195</td>\n",
       "      <td>2.200000e-14</td>\n",
       "      <td>49.9</td>\n",
       "      <td>KOG0594@1|root,KOG0594@2759|Eukaryota</td>\n",
       "      <td>2759|Eukaryota</td>\n",
       "      <td>G</td>\n",
       "      <td>cyclin-dependent protein serine/threonine kina...</td>\n",
       "      <td>-</td>\n",
       "      <td>-</td>\n",
       "      <td>...</td>\n",
       "      <td>-</td>\n",
       "      <td>-</td>\n",
       "      <td>-</td>\n",
       "      <td>-</td>\n",
       "      <td>-</td>\n",
       "      <td>-</td>\n",
       "      <td>-</td>\n",
       "      <td>-</td>\n",
       "      <td>-</td>\n",
       "      <td>-</td>\n",
       "    </tr>\n",
       "    <tr>\n",
       "      <th>1</th>\n",
       "      <td>TTHERM_01528510</td>\n",
       "      <td>5911.EAR81750</td>\n",
       "      <td>1.100000e-194</td>\n",
       "      <td>633.4</td>\n",
       "      <td>2EI75@1|root,2SNPE@2759|Eukaryota,3ZBUW@5878|C...</td>\n",
       "      <td>5878|Ciliophora</td>\n",
       "      <td>-</td>\n",
       "      <td>-</td>\n",
       "      <td>-</td>\n",
       "      <td>-</td>\n",
       "      <td>...</td>\n",
       "      <td>-</td>\n",
       "      <td>-</td>\n",
       "      <td>-</td>\n",
       "      <td>-</td>\n",
       "      <td>-</td>\n",
       "      <td>-</td>\n",
       "      <td>-</td>\n",
       "      <td>-</td>\n",
       "      <td>-</td>\n",
       "      <td>-</td>\n",
       "    </tr>\n",
       "    <tr>\n",
       "      <th>2</th>\n",
       "      <td>TTHERM_01528500</td>\n",
       "      <td>5911.EAR81749</td>\n",
       "      <td>4.000000e-141</td>\n",
       "      <td>462.0</td>\n",
       "      <td>COG1100@1|root,KOG0074@2759|Eukaryota</td>\n",
       "      <td>2759|Eukaryota</td>\n",
       "      <td>KLT</td>\n",
       "      <td>GTP binding</td>\n",
       "      <td>ARL13B</td>\n",
       "      <td>GO:0000902,GO:0000904,GO:0001947,GO:0002009,GO...</td>\n",
       "      <td>...</td>\n",
       "      <td>ko:K07962</td>\n",
       "      <td>-</td>\n",
       "      <td>-</td>\n",
       "      <td>-</td>\n",
       "      <td>-</td>\n",
       "      <td>ko00000,ko04031</td>\n",
       "      <td>-</td>\n",
       "      <td>-</td>\n",
       "      <td>-</td>\n",
       "      <td>-</td>\n",
       "    </tr>\n",
       "    <tr>\n",
       "      <th>3</th>\n",
       "      <td>TTHERM_0015284992</td>\n",
       "      <td>5911.EAR97791</td>\n",
       "      <td>8.400000e-64</td>\n",
       "      <td>205.1</td>\n",
       "      <td>2ERUB@1|root,2SUIJ@2759|Eukaryota</td>\n",
       "      <td>5911.EAR97791|-</td>\n",
       "      <td>-</td>\n",
       "      <td>-</td>\n",
       "      <td>-</td>\n",
       "      <td>-</td>\n",
       "      <td>...</td>\n",
       "      <td>-</td>\n",
       "      <td>-</td>\n",
       "      <td>-</td>\n",
       "      <td>-</td>\n",
       "      <td>-</td>\n",
       "      <td>-</td>\n",
       "      <td>-</td>\n",
       "      <td>-</td>\n",
       "      <td>-</td>\n",
       "      <td>-</td>\n",
       "    </tr>\n",
       "    <tr>\n",
       "      <th>4</th>\n",
       "      <td>TTHERM_00897120</td>\n",
       "      <td>5911.EAR86071</td>\n",
       "      <td>5.200000e-77</td>\n",
       "      <td>248.8</td>\n",
       "      <td>2ERUB@1|root,2SUIJ@2759|Eukaryota</td>\n",
       "      <td>5911.EAR86071|-</td>\n",
       "      <td>-</td>\n",
       "      <td>-</td>\n",
       "      <td>-</td>\n",
       "      <td>-</td>\n",
       "      <td>...</td>\n",
       "      <td>-</td>\n",
       "      <td>-</td>\n",
       "      <td>-</td>\n",
       "      <td>-</td>\n",
       "      <td>-</td>\n",
       "      <td>-</td>\n",
       "      <td>-</td>\n",
       "      <td>-</td>\n",
       "      <td>-</td>\n",
       "      <td>-</td>\n",
       "    </tr>\n",
       "  </tbody>\n",
       "</table>\n",
       "<p>5 rows × 21 columns</p>\n",
       "</div>"
      ],
      "text/plain": [
       "           TTHERM_ID  seed_ortholog         evalue  score  \\\n",
       "0    TTHERM_01528530  5911.EAS00195   2.200000e-14   49.9   \n",
       "1    TTHERM_01528510  5911.EAR81750  1.100000e-194  633.4   \n",
       "2    TTHERM_01528500  5911.EAR81749  4.000000e-141  462.0   \n",
       "3  TTHERM_0015284992  5911.EAR97791   8.400000e-64  205.1   \n",
       "4    TTHERM_00897120  5911.EAR86071   5.200000e-77  248.8   \n",
       "\n",
       "                                          eggNOG_OGs    max_annot_lvl  \\\n",
       "0              KOG0594@1|root,KOG0594@2759|Eukaryota   2759|Eukaryota   \n",
       "1  2EI75@1|root,2SNPE@2759|Eukaryota,3ZBUW@5878|C...  5878|Ciliophora   \n",
       "2              COG1100@1|root,KOG0074@2759|Eukaryota   2759|Eukaryota   \n",
       "3                  2ERUB@1|root,2SUIJ@2759|Eukaryota  5911.EAR97791|-   \n",
       "4                  2ERUB@1|root,2SUIJ@2759|Eukaryota  5911.EAR86071|-   \n",
       "\n",
       "  COG_category                                        Description  \\\n",
       "0            G  cyclin-dependent protein serine/threonine kina...   \n",
       "1            -                                                  -   \n",
       "2          KLT                                        GTP binding   \n",
       "3            -                                                  -   \n",
       "4            -                                                  -   \n",
       "\n",
       "  Preferred_name                                                GOs  ...  \\\n",
       "0              -                                                  -  ...   \n",
       "1              -                                                  -  ...   \n",
       "2         ARL13B  GO:0000902,GO:0000904,GO:0001947,GO:0002009,GO...  ...   \n",
       "3              -                                                  -  ...   \n",
       "4              -                                                  -  ...   \n",
       "\n",
       "     KEGG_ko KEGG_Pathway KEGG_Module KEGG_Reaction KEGG_rclass  \\\n",
       "0          -            -           -             -           -   \n",
       "1          -            -           -             -           -   \n",
       "2  ko:K07962            -           -             -           -   \n",
       "3          -            -           -             -           -   \n",
       "4          -            -           -             -           -   \n",
       "\n",
       "             BRITE KEGG_TC CAZy BiGG_Reaction PFAMs  \n",
       "0                -       -    -             -     -  \n",
       "1                -       -    -             -     -  \n",
       "2  ko00000,ko04031       -    -             -     -  \n",
       "3                -       -    -             -     -  \n",
       "4                -       -    -             -     -  \n",
       "\n",
       "[5 rows x 21 columns]"
      ]
     },
     "execution_count": 28,
     "metadata": {},
     "output_type": "execute_result"
    }
   ],
   "source": [
    "eggnog_annot = pd.read_csv('./Ttherm2021MAC_eggnog_hmmer_default_evalue.emapper.annotations', comment='#', delimiter='\\t')\n",
    "eggnog_annot = eggnog_annot.rename(columns={'query':'TTHERM_ID'})\n",
    "eggnog_annot.head()"
   ]
  },
  {
   "cell_type": "code",
   "execution_count": 29,
   "id": "76c50a3e-d4b8-4dde-8515-84904a50d9dc",
   "metadata": {},
   "outputs": [
    {
     "data": {
      "text/plain": [
       "17274"
      ]
     },
     "execution_count": 29,
     "metadata": {},
     "output_type": "execute_result"
    }
   ],
   "source": [
    "len(eggnog_annot)"
   ]
  },
  {
   "cell_type": "markdown",
   "id": "0305e11d-57f0-427b-bc7c-c6f46b9dbe30",
   "metadata": {},
   "source": [
    "Out of curiousity: how many of the genes that passed the filter are in the eggNOG annotations? and what proportion of the eggNOG set is covered by the genes I'm taking?"
   ]
  },
  {
   "cell_type": "code",
   "execution_count": 30,
   "id": "0bf3e056-2a9f-4a22-b08f-1a8f8556d79a",
   "metadata": {},
   "outputs": [
    {
     "data": {
      "text/html": [
       "<div>\n",
       "<style scoped>\n",
       "    .dataframe tbody tr th:only-of-type {\n",
       "        vertical-align: middle;\n",
       "    }\n",
       "\n",
       "    .dataframe tbody tr th {\n",
       "        vertical-align: top;\n",
       "    }\n",
       "\n",
       "    .dataframe thead th {\n",
       "        text-align: right;\n",
       "    }\n",
       "</style>\n",
       "<table border=\"1\" class=\"dataframe\">\n",
       "  <thead>\n",
       "    <tr style=\"text-align: right;\">\n",
       "      <th></th>\n",
       "      <th>TTHERM_ID</th>\n",
       "      <th>Ll_GSM283687</th>\n",
       "      <th>Ll_GSM284355</th>\n",
       "      <th>Ll_GSM284362</th>\n",
       "      <th>Lm_GSM283690</th>\n",
       "      <th>Lm_GSM284357</th>\n",
       "      <th>Lm_GSM284363</th>\n",
       "      <th>Lh_GSM283691</th>\n",
       "      <th>Lh_GSM284360</th>\n",
       "      <th>Lh_GSM284364</th>\n",
       "      <th>...</th>\n",
       "      <th>C12_GSM656237</th>\n",
       "      <th>C14_GSM285580</th>\n",
       "      <th>C14_GSM285593</th>\n",
       "      <th>C14_GSM656238</th>\n",
       "      <th>C16_GSM285582</th>\n",
       "      <th>C16_GSM285595</th>\n",
       "      <th>C16_GSM656239</th>\n",
       "      <th>C18_GSM285583</th>\n",
       "      <th>C18_GSM285596</th>\n",
       "      <th>C18_GSM656240</th>\n",
       "    </tr>\n",
       "  </thead>\n",
       "  <tbody>\n",
       "    <tr>\n",
       "      <th>0</th>\n",
       "      <td>TTHERM_000000045</td>\n",
       "      <td>9.633489</td>\n",
       "      <td>9.977124</td>\n",
       "      <td>10.027529</td>\n",
       "      <td>9.720665</td>\n",
       "      <td>9.605762</td>\n",
       "      <td>10.225542</td>\n",
       "      <td>10.279608</td>\n",
       "      <td>10.459966</td>\n",
       "      <td>10.693337</td>\n",
       "      <td>...</td>\n",
       "      <td>11.130466</td>\n",
       "      <td>11.207738</td>\n",
       "      <td>11.009172</td>\n",
       "      <td>10.615417</td>\n",
       "      <td>11.038938</td>\n",
       "      <td>11.009222</td>\n",
       "      <td>10.216348</td>\n",
       "      <td>11.099187</td>\n",
       "      <td>11.172276</td>\n",
       "      <td>10.561021</td>\n",
       "    </tr>\n",
       "    <tr>\n",
       "      <th>1</th>\n",
       "      <td>TTHERM_00000010</td>\n",
       "      <td>5.066343</td>\n",
       "      <td>4.767264</td>\n",
       "      <td>5.010981</td>\n",
       "      <td>6.139047</td>\n",
       "      <td>4.619361</td>\n",
       "      <td>4.751761</td>\n",
       "      <td>5.818550</td>\n",
       "      <td>5.342529</td>\n",
       "      <td>5.483750</td>\n",
       "      <td>...</td>\n",
       "      <td>6.314438</td>\n",
       "      <td>7.423571</td>\n",
       "      <td>7.507645</td>\n",
       "      <td>7.417087</td>\n",
       "      <td>7.147801</td>\n",
       "      <td>7.747930</td>\n",
       "      <td>7.093641</td>\n",
       "      <td>7.672685</td>\n",
       "      <td>7.511290</td>\n",
       "      <td>6.890117</td>\n",
       "    </tr>\n",
       "    <tr>\n",
       "      <th>2</th>\n",
       "      <td>TTHERM_00000020</td>\n",
       "      <td>4.696881</td>\n",
       "      <td>4.638401</td>\n",
       "      <td>4.956299</td>\n",
       "      <td>6.942556</td>\n",
       "      <td>5.101252</td>\n",
       "      <td>4.730307</td>\n",
       "      <td>8.457690</td>\n",
       "      <td>4.526411</td>\n",
       "      <td>4.908300</td>\n",
       "      <td>...</td>\n",
       "      <td>5.250233</td>\n",
       "      <td>4.974993</td>\n",
       "      <td>5.747498</td>\n",
       "      <td>5.252167</td>\n",
       "      <td>5.210531</td>\n",
       "      <td>7.083187</td>\n",
       "      <td>5.252222</td>\n",
       "      <td>5.037613</td>\n",
       "      <td>5.495281</td>\n",
       "      <td>5.013987</td>\n",
       "    </tr>\n",
       "    <tr>\n",
       "      <th>3</th>\n",
       "      <td>TTHERM_00000030</td>\n",
       "      <td>4.654278</td>\n",
       "      <td>4.537105</td>\n",
       "      <td>4.928739</td>\n",
       "      <td>5.063991</td>\n",
       "      <td>4.584168</td>\n",
       "      <td>4.911880</td>\n",
       "      <td>5.935311</td>\n",
       "      <td>4.519470</td>\n",
       "      <td>4.757861</td>\n",
       "      <td>...</td>\n",
       "      <td>4.651688</td>\n",
       "      <td>4.920573</td>\n",
       "      <td>4.636333</td>\n",
       "      <td>4.883712</td>\n",
       "      <td>4.779395</td>\n",
       "      <td>4.744335</td>\n",
       "      <td>4.513140</td>\n",
       "      <td>4.838428</td>\n",
       "      <td>4.961475</td>\n",
       "      <td>4.653340</td>\n",
       "    </tr>\n",
       "    <tr>\n",
       "      <th>4</th>\n",
       "      <td>TTHERM_00000040</td>\n",
       "      <td>7.811975</td>\n",
       "      <td>7.646583</td>\n",
       "      <td>7.445984</td>\n",
       "      <td>7.874682</td>\n",
       "      <td>7.614192</td>\n",
       "      <td>7.439959</td>\n",
       "      <td>7.162609</td>\n",
       "      <td>7.429543</td>\n",
       "      <td>7.212770</td>\n",
       "      <td>...</td>\n",
       "      <td>6.970125</td>\n",
       "      <td>8.211853</td>\n",
       "      <td>7.956452</td>\n",
       "      <td>7.436405</td>\n",
       "      <td>7.208571</td>\n",
       "      <td>7.504531</td>\n",
       "      <td>6.901063</td>\n",
       "      <td>7.587402</td>\n",
       "      <td>7.378368</td>\n",
       "      <td>7.177293</td>\n",
       "    </tr>\n",
       "  </tbody>\n",
       "</table>\n",
       "<p>5 rows × 48 columns</p>\n",
       "</div>"
      ],
      "text/plain": [
       "          TTHERM_ID  Ll_GSM283687  Ll_GSM284355  Ll_GSM284362  Lm_GSM283690  \\\n",
       "0  TTHERM_000000045      9.633489      9.977124     10.027529      9.720665   \n",
       "1   TTHERM_00000010      5.066343      4.767264      5.010981      6.139047   \n",
       "2   TTHERM_00000020      4.696881      4.638401      4.956299      6.942556   \n",
       "3   TTHERM_00000030      4.654278      4.537105      4.928739      5.063991   \n",
       "4   TTHERM_00000040      7.811975      7.646583      7.445984      7.874682   \n",
       "\n",
       "   Lm_GSM284357  Lm_GSM284363  Lh_GSM283691  Lh_GSM284360  Lh_GSM284364  ...  \\\n",
       "0      9.605762     10.225542     10.279608     10.459966     10.693337  ...   \n",
       "1      4.619361      4.751761      5.818550      5.342529      5.483750  ...   \n",
       "2      5.101252      4.730307      8.457690      4.526411      4.908300  ...   \n",
       "3      4.584168      4.911880      5.935311      4.519470      4.757861  ...   \n",
       "4      7.614192      7.439959      7.162609      7.429543      7.212770  ...   \n",
       "\n",
       "   C12_GSM656237  C14_GSM285580  C14_GSM285593  C14_GSM656238  C16_GSM285582  \\\n",
       "0      11.130466      11.207738      11.009172      10.615417      11.038938   \n",
       "1       6.314438       7.423571       7.507645       7.417087       7.147801   \n",
       "2       5.250233       4.974993       5.747498       5.252167       5.210531   \n",
       "3       4.651688       4.920573       4.636333       4.883712       4.779395   \n",
       "4       6.970125       8.211853       7.956452       7.436405       7.208571   \n",
       "\n",
       "   C16_GSM285595  C16_GSM656239  C18_GSM285583  C18_GSM285596  C18_GSM656240  \n",
       "0      11.009222      10.216348      11.099187      11.172276      10.561021  \n",
       "1       7.747930       7.093641       7.672685       7.511290       6.890117  \n",
       "2       7.083187       5.252222       5.037613       5.495281       5.013987  \n",
       "3       4.744335       4.513140       4.838428       4.961475       4.653340  \n",
       "4       7.504531       6.901063       7.587402       7.378368       7.177293  \n",
       "\n",
       "[5 rows x 48 columns]"
      ]
     },
     "execution_count": 30,
     "metadata": {},
     "output_type": "execute_result"
    }
   ],
   "source": [
    "full_filtered_df = pd.read_csv('../microarray_probe_alignment_and_filtering/greedy_filt_agg_tidy_2021aligned_qc_rma_expression_full.csv')\n",
    "full_filtered_df = full_filtered_df.rename(columns={'Unnamed: 0': 'TTHERM_ID'})\n",
    "full_filtered_df.head()"
   ]
  },
  {
   "cell_type": "code",
   "execution_count": 31,
   "id": "684a3cba-c4d6-4e86-8ab8-37b79c3d463c",
   "metadata": {},
   "outputs": [],
   "source": [
    "g1 = set(full_filtered_df['TTHERM_ID'].values)\n",
    "g2 = set(eggnog_annot['TTHERM_ID'].values)\n",
    "\n",
    "intersection = set.intersection(g1, g2)"
   ]
  },
  {
   "cell_type": "code",
   "execution_count": 32,
   "id": "deb72fb7-72a8-49af-b77c-118509f44d5c",
   "metadata": {},
   "outputs": [
    {
     "data": {
      "text/plain": [
       "0.7163366909806645"
      ]
     },
     "execution_count": 32,
     "metadata": {},
     "output_type": "execute_result"
    }
   ],
   "source": [
    "# Proportion of orthologs that are included in the filtered gene set\n",
    "len(intersection)/len(g2)"
   ]
  },
  {
   "cell_type": "code",
   "execution_count": 33,
   "id": "277c50f8-d603-45e9-9efa-b21f7380bc4e",
   "metadata": {},
   "outputs": [
    {
     "data": {
      "text/plain": [
       "0.7457361537997951"
      ]
     },
     "execution_count": 33,
     "metadata": {},
     "output_type": "execute_result"
    }
   ],
   "source": [
    "# Proportion of filtered genes that have identifiable orthologs\n",
    "len(intersection)/len(g1)"
   ]
  },
  {
   "cell_type": "code",
   "execution_count": 34,
   "id": "69279c48-4b93-495b-b1ca-19cb15fe7b63",
   "metadata": {},
   "outputs": [
    {
     "data": {
      "text/plain": [
       "0.6578566532104502"
      ]
     },
     "execution_count": 34,
     "metadata": {},
     "output_type": "execute_result"
    }
   ],
   "source": [
    "len(eggnog_annot)/len(TGD2021_records)"
   ]
  },
  {
   "cell_type": "code",
   "execution_count": 35,
   "id": "bee1101f-2152-41df-92f9-5f9ca1887de7",
   "metadata": {},
   "outputs": [
    {
     "data": {
      "text/html": [
       "<div>\n",
       "<style scoped>\n",
       "    .dataframe tbody tr th:only-of-type {\n",
       "        vertical-align: middle;\n",
       "    }\n",
       "\n",
       "    .dataframe tbody tr th {\n",
       "        vertical-align: top;\n",
       "    }\n",
       "\n",
       "    .dataframe thead th {\n",
       "        text-align: right;\n",
       "    }\n",
       "</style>\n",
       "<table border=\"1\" class=\"dataframe\">\n",
       "  <thead>\n",
       "    <tr style=\"text-align: right;\">\n",
       "      <th></th>\n",
       "      <th>TTHERM_ID</th>\n",
       "      <th>Ll_GSM283687</th>\n",
       "      <th>Ll_GSM284355</th>\n",
       "      <th>Ll_GSM284362</th>\n",
       "      <th>Lm_GSM283690</th>\n",
       "      <th>Lm_GSM284357</th>\n",
       "      <th>Lm_GSM284363</th>\n",
       "      <th>Lh_GSM283691</th>\n",
       "      <th>Lh_GSM284360</th>\n",
       "      <th>Lh_GSM284364</th>\n",
       "      <th>...</th>\n",
       "      <th>C12_GSM656237</th>\n",
       "      <th>C14_GSM285580</th>\n",
       "      <th>C14_GSM285593</th>\n",
       "      <th>C14_GSM656238</th>\n",
       "      <th>C16_GSM285582</th>\n",
       "      <th>C16_GSM285595</th>\n",
       "      <th>C16_GSM656239</th>\n",
       "      <th>C18_GSM285583</th>\n",
       "      <th>C18_GSM285596</th>\n",
       "      <th>C18_GSM656240</th>\n",
       "    </tr>\n",
       "  </thead>\n",
       "  <tbody>\n",
       "    <tr>\n",
       "      <th>0</th>\n",
       "      <td>TTHERM_000000045</td>\n",
       "      <td>9.633489</td>\n",
       "      <td>9.977124</td>\n",
       "      <td>10.027529</td>\n",
       "      <td>9.720665</td>\n",
       "      <td>9.605762</td>\n",
       "      <td>10.225542</td>\n",
       "      <td>10.279608</td>\n",
       "      <td>10.459966</td>\n",
       "      <td>10.693337</td>\n",
       "      <td>...</td>\n",
       "      <td>11.130466</td>\n",
       "      <td>11.207738</td>\n",
       "      <td>11.009172</td>\n",
       "      <td>10.615417</td>\n",
       "      <td>11.038938</td>\n",
       "      <td>11.009222</td>\n",
       "      <td>10.216348</td>\n",
       "      <td>11.099187</td>\n",
       "      <td>11.172276</td>\n",
       "      <td>10.561021</td>\n",
       "    </tr>\n",
       "    <tr>\n",
       "      <th>1</th>\n",
       "      <td>TTHERM_00000010</td>\n",
       "      <td>5.066343</td>\n",
       "      <td>4.767264</td>\n",
       "      <td>5.010981</td>\n",
       "      <td>6.139047</td>\n",
       "      <td>4.619361</td>\n",
       "      <td>4.751761</td>\n",
       "      <td>5.818550</td>\n",
       "      <td>5.342529</td>\n",
       "      <td>5.483750</td>\n",
       "      <td>...</td>\n",
       "      <td>6.314438</td>\n",
       "      <td>7.423571</td>\n",
       "      <td>7.507645</td>\n",
       "      <td>7.417087</td>\n",
       "      <td>7.147801</td>\n",
       "      <td>7.747930</td>\n",
       "      <td>7.093641</td>\n",
       "      <td>7.672685</td>\n",
       "      <td>7.511290</td>\n",
       "      <td>6.890117</td>\n",
       "    </tr>\n",
       "    <tr>\n",
       "      <th>2</th>\n",
       "      <td>TTHERM_00000020</td>\n",
       "      <td>4.696881</td>\n",
       "      <td>4.638401</td>\n",
       "      <td>4.956299</td>\n",
       "      <td>6.942556</td>\n",
       "      <td>5.101252</td>\n",
       "      <td>4.730307</td>\n",
       "      <td>8.457690</td>\n",
       "      <td>4.526411</td>\n",
       "      <td>4.908300</td>\n",
       "      <td>...</td>\n",
       "      <td>5.250233</td>\n",
       "      <td>4.974993</td>\n",
       "      <td>5.747498</td>\n",
       "      <td>5.252167</td>\n",
       "      <td>5.210531</td>\n",
       "      <td>7.083187</td>\n",
       "      <td>5.252222</td>\n",
       "      <td>5.037613</td>\n",
       "      <td>5.495281</td>\n",
       "      <td>5.013987</td>\n",
       "    </tr>\n",
       "    <tr>\n",
       "      <th>3</th>\n",
       "      <td>TTHERM_00000030</td>\n",
       "      <td>4.654278</td>\n",
       "      <td>4.537105</td>\n",
       "      <td>4.928739</td>\n",
       "      <td>5.063991</td>\n",
       "      <td>4.584168</td>\n",
       "      <td>4.911880</td>\n",
       "      <td>5.935311</td>\n",
       "      <td>4.519470</td>\n",
       "      <td>4.757861</td>\n",
       "      <td>...</td>\n",
       "      <td>4.651688</td>\n",
       "      <td>4.920573</td>\n",
       "      <td>4.636333</td>\n",
       "      <td>4.883712</td>\n",
       "      <td>4.779395</td>\n",
       "      <td>4.744335</td>\n",
       "      <td>4.513140</td>\n",
       "      <td>4.838428</td>\n",
       "      <td>4.961475</td>\n",
       "      <td>4.653340</td>\n",
       "    </tr>\n",
       "    <tr>\n",
       "      <th>4</th>\n",
       "      <td>TTHERM_00000040</td>\n",
       "      <td>7.811975</td>\n",
       "      <td>7.646583</td>\n",
       "      <td>7.445984</td>\n",
       "      <td>7.874682</td>\n",
       "      <td>7.614192</td>\n",
       "      <td>7.439959</td>\n",
       "      <td>7.162609</td>\n",
       "      <td>7.429543</td>\n",
       "      <td>7.212770</td>\n",
       "      <td>...</td>\n",
       "      <td>6.970125</td>\n",
       "      <td>8.211853</td>\n",
       "      <td>7.956452</td>\n",
       "      <td>7.436405</td>\n",
       "      <td>7.208571</td>\n",
       "      <td>7.504531</td>\n",
       "      <td>6.901063</td>\n",
       "      <td>7.587402</td>\n",
       "      <td>7.378368</td>\n",
       "      <td>7.177293</td>\n",
       "    </tr>\n",
       "  </tbody>\n",
       "</table>\n",
       "<p>5 rows × 48 columns</p>\n",
       "</div>"
      ],
      "text/plain": [
       "          TTHERM_ID  Ll_GSM283687  Ll_GSM284355  Ll_GSM284362  Lm_GSM283690  \\\n",
       "0  TTHERM_000000045      9.633489      9.977124     10.027529      9.720665   \n",
       "1   TTHERM_00000010      5.066343      4.767264      5.010981      6.139047   \n",
       "2   TTHERM_00000020      4.696881      4.638401      4.956299      6.942556   \n",
       "3   TTHERM_00000030      4.654278      4.537105      4.928739      5.063991   \n",
       "4   TTHERM_00000040      7.811975      7.646583      7.445984      7.874682   \n",
       "\n",
       "   Lm_GSM284357  Lm_GSM284363  Lh_GSM283691  Lh_GSM284360  Lh_GSM284364  ...  \\\n",
       "0      9.605762     10.225542     10.279608     10.459966     10.693337  ...   \n",
       "1      4.619361      4.751761      5.818550      5.342529      5.483750  ...   \n",
       "2      5.101252      4.730307      8.457690      4.526411      4.908300  ...   \n",
       "3      4.584168      4.911880      5.935311      4.519470      4.757861  ...   \n",
       "4      7.614192      7.439959      7.162609      7.429543      7.212770  ...   \n",
       "\n",
       "   C12_GSM656237  C14_GSM285580  C14_GSM285593  C14_GSM656238  C16_GSM285582  \\\n",
       "0      11.130466      11.207738      11.009172      10.615417      11.038938   \n",
       "1       6.314438       7.423571       7.507645       7.417087       7.147801   \n",
       "2       5.250233       4.974993       5.747498       5.252167       5.210531   \n",
       "3       4.651688       4.920573       4.636333       4.883712       4.779395   \n",
       "4       6.970125       8.211853       7.956452       7.436405       7.208571   \n",
       "\n",
       "   C16_GSM285595  C16_GSM656239  C18_GSM285583  C18_GSM285596  C18_GSM656240  \n",
       "0      11.009222      10.216348      11.099187      11.172276      10.561021  \n",
       "1       7.747930       7.093641       7.672685       7.511290       6.890117  \n",
       "2       7.083187       5.252222       5.037613       5.495281       5.013987  \n",
       "3       4.744335       4.513140       4.838428       4.961475       4.653340  \n",
       "4       7.504531       6.901063       7.587402       7.378368       7.177293  \n",
       "\n",
       "[5 rows x 48 columns]"
      ]
     },
     "execution_count": 35,
     "metadata": {},
     "output_type": "execute_result"
    }
   ],
   "source": [
    "all_good_filtered_df = pd.read_csv('../microarray_probe_alignment_and_filtering/allgood_filt_agg_tidy_2021aligned_qc_rma_expression_full.csv')\n",
    "all_good_filtered_df = all_good_filtered_df.rename(columns={'Unnamed: 0': 'TTHERM_ID'})\n",
    "all_good_filtered_df.head()"
   ]
  },
  {
   "cell_type": "code",
   "execution_count": 36,
   "id": "de3d5baf-43f6-48d1-9b12-b57bb00c3b82",
   "metadata": {},
   "outputs": [],
   "source": [
    "g1 = set(all_good_filtered_df['TTHERM_ID'].values)\n",
    "g2 = set(eggnog_annot['TTHERM_ID'].values)\n",
    "\n",
    "intersection = set.intersection(g1, g2)"
   ]
  },
  {
   "cell_type": "code",
   "execution_count": 37,
   "id": "887852e7-dfb9-4030-8071-2e2dc50936c1",
   "metadata": {},
   "outputs": [
    {
     "data": {
      "text/plain": [
       "0.7536760449230057"
      ]
     },
     "execution_count": 37,
     "metadata": {},
     "output_type": "execute_result"
    }
   ],
   "source": [
    "# Proportion of orthologs that are included in the filtered gene set\n",
    "len(intersection)/len(g2)"
   ]
  },
  {
   "cell_type": "code",
   "execution_count": 38,
   "id": "70855814-6c8a-4727-9c71-1e00b83a3afb",
   "metadata": {},
   "outputs": [
    {
     "data": {
      "text/plain": [
       "0.7420347677400969"
      ]
     },
     "execution_count": 38,
     "metadata": {},
     "output_type": "execute_result"
    }
   ],
   "source": [
    "# Proportion of filtered genes that have identifiable orthologs\n",
    "len(intersection)/len(g1)"
   ]
  },
  {
   "cell_type": "markdown",
   "id": "61dcfa54-3d2b-4f9d-b2cf-8c02c00f7ca5",
   "metadata": {},
   "source": [
    "It looks like when I consider the original greedy filter, I get ~72% of the genome that has identifiable orthologs in the dataset, but with the \"all good\" filter, I get ~75%. In both cases, I get 74-75% of the filtered genes as having identified orthologs. It makes sense that this proportion is smaller for the \"all good\" set because it has more genes."
   ]
  },
  {
   "cell_type": "markdown",
   "id": "626bc571-7321-4c48-b471-d8db1a81f5f2",
   "metadata": {},
   "source": [
    "Want to create a full dataframe including annotated and unannotated genes"
   ]
  },
  {
   "cell_type": "code",
   "execution_count": 39,
   "id": "4d37af0a-ad53-4af6-b412-70037e765b3b",
   "metadata": {},
   "outputs": [],
   "source": [
    "all_ttids = [r.id for r in TGD2021_records]"
   ]
  },
  {
   "cell_type": "code",
   "execution_count": 40,
   "id": "f3839008-da83-4692-afe7-1812cccb1a70",
   "metadata": {},
   "outputs": [],
   "source": [
    "eggnog_annot_ttids = eggnog_annot['TTHERM_ID'].values"
   ]
  },
  {
   "cell_type": "markdown",
   "id": "e12ef3a3-a9eb-4001-a335-e95a993e16dc",
   "metadata": {},
   "source": [
    "Collect all the unannotated genes"
   ]
  },
  {
   "cell_type": "code",
   "execution_count": 19,
   "id": "2a2a8e39-4eae-44fa-8044-31ce6fd3d131",
   "metadata": {},
   "outputs": [],
   "source": [
    "dummy_dict = {c: [] for c in eggnog_annot.columns}\n",
    "for ttherm in all_ttids:    \n",
    "    if ttherm not in eggnog_annot_ttids:\n",
    "        for i, c in enumerate(eggnog_annot.columns):\n",
    "            if c == 'TTHERM_ID':\n",
    "                dummy_dict[c].append(ttherm)\n",
    "            else:\n",
    "                dummy_dict[c].append('-')\n",
    "                "
   ]
  },
  {
   "cell_type": "markdown",
   "id": "653b13af-5613-46a6-a2c2-a8edde62697c",
   "metadata": {},
   "source": [
    "Combine unnanotated and annotated"
   ]
  },
  {
   "cell_type": "code",
   "execution_count": 20,
   "id": "aa96a93f-72e3-4002-9f53-122791efa3fc",
   "metadata": {},
   "outputs": [],
   "source": [
    "unannot_df = pd.DataFrame(dummy_dict)\n",
    "complete_annot = pd.concat([eggnog_annot, unannot_df])"
   ]
  },
  {
   "cell_type": "markdown",
   "id": "ee1aabe6-9fad-4329-9d8e-864eafac68dc",
   "metadata": {},
   "source": [
    "Confirm that all the genes that are in the 2021 genome are represented"
   ]
  },
  {
   "cell_type": "code",
   "execution_count": 21,
   "id": "1b5d93f3-ce72-44a1-a2bd-5b133a954ad9",
   "metadata": {},
   "outputs": [
    {
     "data": {
      "text/plain": [
       "26258"
      ]
     },
     "execution_count": 21,
     "metadata": {},
     "output_type": "execute_result"
    }
   ],
   "source": [
    "len(complete_annot)"
   ]
  },
  {
   "cell_type": "code",
   "execution_count": 22,
   "id": "e4a5f907-e002-40a9-ac7d-e0cb43a78a11",
   "metadata": {},
   "outputs": [],
   "source": [
    "record_dict = {r.id: r for r in TGD2021_records}\n",
    "complete_annot['TGD2021_description'] = [record_dict[ttid].description.split('\\t')[1] for ttid in complete_annot['TTHERM_ID'].values]"
   ]
  },
  {
   "cell_type": "code",
   "execution_count": 23,
   "id": "1c2e3dc7-021b-4960-9ac5-03c84305b8b1",
   "metadata": {},
   "outputs": [],
   "source": [
    "complete_annot.to_csv('./complete_eggnog_annotation.csv', index=False)"
   ]
  },
  {
   "cell_type": "code",
   "execution_count": null,
   "id": "6f2ab848-0193-4f93-8d9c-93cbf314f66b",
   "metadata": {},
   "outputs": [],
   "source": []
  }
 ],
 "metadata": {
  "kernelspec": {
   "display_name": "Python 3 (ipykernel)",
   "language": "python",
   "name": "python3"
  },
  "language_info": {
   "codemirror_mode": {
    "name": "ipython",
    "version": 3
   },
   "file_extension": ".py",
   "mimetype": "text/x-python",
   "name": "python",
   "nbconvert_exporter": "python",
   "pygments_lexer": "ipython3",
   "version": "3.10.13"
  }
 },
 "nbformat": 4,
 "nbformat_minor": 5
}

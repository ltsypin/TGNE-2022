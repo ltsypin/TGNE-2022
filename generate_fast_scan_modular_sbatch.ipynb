{
 "cells": [
  {
   "cell_type": "code",
   "execution_count": 5,
   "metadata": {},
   "outputs": [],
   "source": [
    "import numpy as np"
   ]
  },
  {
   "cell_type": "code",
   "execution_count": 6,
   "metadata": {},
   "outputs": [],
   "source": [
    "# metrics = ['clr', 'manhattan', 'euclidean', 'cosine'] + [f'minkowski_{str(p)}' for p in np.array([0.5, 1, 2, 3, 4, 5])]\n",
    "# metrics"
   ]
  },
  {
   "cell_type": "code",
   "execution_count": 7,
   "metadata": {},
   "outputs": [
    {
     "data": {
      "text/plain": [
       "['angular',\n",
       " 'l2',\n",
       " 'l1',\n",
       " 'cityblock',\n",
       " 'braycurtis',\n",
       " 'canberra',\n",
       " 'chebyshev',\n",
       " 'correlation',\n",
       " 'hamming',\n",
       " 'mahalanobis',\n",
       " 'matching',\n",
       " 'seuclidean',\n",
       " 'sqeuclidean',\n",
       " 'wminkowski',\n",
       " 'nan_euclidean',\n",
       " 'haversine']"
      ]
     },
     "execution_count": 7,
     "metadata": {},
     "output_type": "execute_result"
    }
   ],
   "source": [
    "tags = ['set2']\n",
    "\n",
    "# manually curated metrics + metrics refered to in the documentation\n",
    "all_doc_metrics = ['angular', 'clr'] + ['cityblock', 'cosine', 'euclidean', 'l1', 'l2', 'manhattan'] + ['nan_euclidean'] + ['braycurtis', 'canberra', 'chebyshev', 'correlation', 'dice', 'hamming', 'jaccard', 'kulsinski', 'mahalanobis', 'minkowski', 'rogerstanimoto', 'russellrao', 'seuclidean', 'sokalmichener', 'sokalsneath', 'sqeuclidean', 'yule']\n",
    "# manually curated metrics + metrics refered to in metric parameter ValueError (sklearn documentation is likely not updated)\n",
    "all_metrics = ['angular', 'clr'] + ['euclidean', 'l2', 'l1', 'manhattan', 'cityblock', 'braycurtis', 'canberra', 'chebyshev', 'correlation', 'cosine', 'dice', 'hamming', 'jaccard', 'mahalanobis', 'matching', 'minkowski', 'rogerstanimoto', 'russellrao', 'seuclidean', 'sokalmichener', 'sokalsneath', 'sqeuclidean', 'yule', 'wminkowski', 'nan_euclidean', 'haversine']\n",
    "# metrics that covert data to boolean (essentially destroying all information for our data) (20 clusters are always produced with the same exact size)\n",
    "boolean_metrics = [\n",
    "'dice',\n",
    "'jaccard',\n",
    "'rogerstanimoto',\n",
    "'russellrao',\n",
    "'sokalmichener',\n",
    "'sokalsneath',\n",
    "'yule',\n",
    "]\n",
    "metrics = ['clr', 'manhattan', 'euclidean', 'cosine'] + [f'minkowski_{str(p)}' for p in np.array([0.5, 1, 2, 3, 4, 5])]\n",
    "# metrics = [sys.argv[1]]\n",
    "metrics = [m for m in all_metrics if m not in metrics + boolean_metrics and m[: len('minkowski')] != 'minkowski']\n",
    "metrics"
   ]
  },
  {
   "cell_type": "code",
   "execution_count": 8,
   "metadata": {},
   "outputs": [
    {
     "data": {
      "text/plain": [
       "16"
      ]
     },
     "execution_count": 8,
     "metadata": {},
     "output_type": "execute_result"
    }
   ],
   "source": [
    "len(metrics)"
   ]
  },
  {
   "cell_type": "code",
   "execution_count": 9,
   "metadata": {},
   "outputs": [
    {
     "data": {
      "text/plain": [
       "array([ 2,  3,  4,  5,  6,  7,  8,  9, 10, 11, 12])"
      ]
     },
     "execution_count": 9,
     "metadata": {},
     "output_type": "execute_result"
    }
   ],
   "source": [
    "nns = np.arange(2, 13, 1)\n",
    "nns"
   ]
  },
  {
   "cell_type": "code",
   "execution_count": 10,
   "metadata": {},
   "outputs": [
    {
     "name": "stdout",
     "output_type": "stream",
     "text": [
      "FILE CREATED: ./angular_metric_2nn_set2.sbatch\n",
      "FILE CREATED: ./angular_metric_3nn_set2.sbatch\n",
      "FILE CREATED: ./angular_metric_4nn_set2.sbatch\n",
      "FILE CREATED: ./angular_metric_5nn_set2.sbatch\n",
      "FILE CREATED: ./angular_metric_6nn_set2.sbatch\n",
      "FILE CREATED: ./angular_metric_7nn_set2.sbatch\n",
      "FILE CREATED: ./angular_metric_8nn_set2.sbatch\n",
      "FILE CREATED: ./angular_metric_9nn_set2.sbatch\n",
      "FILE CREATED: ./angular_metric_10nn_set2.sbatch\n",
      "FILE CREATED: ./angular_metric_11nn_set2.sbatch\n",
      "FILE CREATED: ./angular_metric_12nn_set2.sbatch\n",
      "FILE CREATED: ./l2_metric_2nn_set2.sbatch\n",
      "FILE CREATED: ./l2_metric_3nn_set2.sbatch\n",
      "FILE CREATED: ./l2_metric_4nn_set2.sbatch\n",
      "FILE CREATED: ./l2_metric_5nn_set2.sbatch\n",
      "FILE CREATED: ./l2_metric_6nn_set2.sbatch\n",
      "FILE CREATED: ./l2_metric_7nn_set2.sbatch\n",
      "FILE CREATED: ./l2_metric_8nn_set2.sbatch\n",
      "FILE CREATED: ./l2_metric_9nn_set2.sbatch\n",
      "FILE CREATED: ./l2_metric_10nn_set2.sbatch\n",
      "FILE CREATED: ./l2_metric_11nn_set2.sbatch\n",
      "FILE CREATED: ./l2_metric_12nn_set2.sbatch\n",
      "FILE CREATED: ./l1_metric_2nn_set2.sbatch\n",
      "FILE CREATED: ./l1_metric_3nn_set2.sbatch\n",
      "FILE CREATED: ./l1_metric_4nn_set2.sbatch\n",
      "FILE CREATED: ./l1_metric_5nn_set2.sbatch\n",
      "FILE CREATED: ./l1_metric_6nn_set2.sbatch\n",
      "FILE CREATED: ./l1_metric_7nn_set2.sbatch\n",
      "FILE CREATED: ./l1_metric_8nn_set2.sbatch\n",
      "FILE CREATED: ./l1_metric_9nn_set2.sbatch\n",
      "FILE CREATED: ./l1_metric_10nn_set2.sbatch\n",
      "FILE CREATED: ./l1_metric_11nn_set2.sbatch\n",
      "FILE CREATED: ./l1_metric_12nn_set2.sbatch\n",
      "FILE CREATED: ./cityblock_metric_2nn_set2.sbatch\n",
      "FILE CREATED: ./cityblock_metric_3nn_set2.sbatch\n",
      "FILE CREATED: ./cityblock_metric_4nn_set2.sbatch\n",
      "FILE CREATED: ./cityblock_metric_5nn_set2.sbatch\n",
      "FILE CREATED: ./cityblock_metric_6nn_set2.sbatch\n",
      "FILE CREATED: ./cityblock_metric_7nn_set2.sbatch\n",
      "FILE CREATED: ./cityblock_metric_8nn_set2.sbatch\n",
      "FILE CREATED: ./cityblock_metric_9nn_set2.sbatch\n",
      "FILE CREATED: ./cityblock_metric_10nn_set2.sbatch\n",
      "FILE CREATED: ./cityblock_metric_11nn_set2.sbatch\n",
      "FILE CREATED: ./cityblock_metric_12nn_set2.sbatch\n",
      "FILE CREATED: ./braycurtis_metric_2nn_set2.sbatch\n",
      "FILE CREATED: ./braycurtis_metric_3nn_set2.sbatch\n",
      "FILE CREATED: ./braycurtis_metric_4nn_set2.sbatch\n",
      "FILE CREATED: ./braycurtis_metric_5nn_set2.sbatch\n",
      "FILE CREATED: ./braycurtis_metric_6nn_set2.sbatch\n",
      "FILE CREATED: ./braycurtis_metric_7nn_set2.sbatch\n",
      "FILE CREATED: ./braycurtis_metric_8nn_set2.sbatch\n",
      "FILE CREATED: ./braycurtis_metric_9nn_set2.sbatch\n",
      "FILE CREATED: ./braycurtis_metric_10nn_set2.sbatch\n",
      "FILE CREATED: ./braycurtis_metric_11nn_set2.sbatch\n",
      "FILE CREATED: ./braycurtis_metric_12nn_set2.sbatch\n",
      "FILE CREATED: ./canberra_metric_2nn_set2.sbatch\n",
      "FILE CREATED: ./canberra_metric_3nn_set2.sbatch\n",
      "FILE CREATED: ./canberra_metric_4nn_set2.sbatch\n",
      "FILE CREATED: ./canberra_metric_5nn_set2.sbatch\n",
      "FILE CREATED: ./canberra_metric_6nn_set2.sbatch\n",
      "FILE CREATED: ./canberra_metric_7nn_set2.sbatch\n",
      "FILE CREATED: ./canberra_metric_8nn_set2.sbatch\n",
      "FILE CREATED: ./canberra_metric_9nn_set2.sbatch\n",
      "FILE CREATED: ./canberra_metric_10nn_set2.sbatch\n",
      "FILE CREATED: ./canberra_metric_11nn_set2.sbatch\n",
      "FILE CREATED: ./canberra_metric_12nn_set2.sbatch\n",
      "FILE CREATED: ./chebyshev_metric_2nn_set2.sbatch\n",
      "FILE CREATED: ./chebyshev_metric_3nn_set2.sbatch\n",
      "FILE CREATED: ./chebyshev_metric_4nn_set2.sbatch\n",
      "FILE CREATED: ./chebyshev_metric_5nn_set2.sbatch\n",
      "FILE CREATED: ./chebyshev_metric_6nn_set2.sbatch\n",
      "FILE CREATED: ./chebyshev_metric_7nn_set2.sbatch\n",
      "FILE CREATED: ./chebyshev_metric_8nn_set2.sbatch\n",
      "FILE CREATED: ./chebyshev_metric_9nn_set2.sbatch\n",
      "FILE CREATED: ./chebyshev_metric_10nn_set2.sbatch\n",
      "FILE CREATED: ./chebyshev_metric_11nn_set2.sbatch\n",
      "FILE CREATED: ./chebyshev_metric_12nn_set2.sbatch\n",
      "FILE CREATED: ./correlation_metric_2nn_set2.sbatch\n",
      "FILE CREATED: ./correlation_metric_3nn_set2.sbatch\n",
      "FILE CREATED: ./correlation_metric_4nn_set2.sbatch\n",
      "FILE CREATED: ./correlation_metric_5nn_set2.sbatch\n",
      "FILE CREATED: ./correlation_metric_6nn_set2.sbatch\n",
      "FILE CREATED: ./correlation_metric_7nn_set2.sbatch\n",
      "FILE CREATED: ./correlation_metric_8nn_set2.sbatch\n",
      "FILE CREATED: ./correlation_metric_9nn_set2.sbatch\n",
      "FILE CREATED: ./correlation_metric_10nn_set2.sbatch\n",
      "FILE CREATED: ./correlation_metric_11nn_set2.sbatch\n",
      "FILE CREATED: ./correlation_metric_12nn_set2.sbatch\n",
      "FILE CREATED: ./hamming_metric_2nn_set2.sbatch\n",
      "FILE CREATED: ./hamming_metric_3nn_set2.sbatch\n",
      "FILE CREATED: ./hamming_metric_4nn_set2.sbatch\n",
      "FILE CREATED: ./hamming_metric_5nn_set2.sbatch\n",
      "FILE CREATED: ./hamming_metric_6nn_set2.sbatch\n",
      "FILE CREATED: ./hamming_metric_7nn_set2.sbatch\n",
      "FILE CREATED: ./hamming_metric_8nn_set2.sbatch\n",
      "FILE CREATED: ./hamming_metric_9nn_set2.sbatch\n",
      "FILE CREATED: ./hamming_metric_10nn_set2.sbatch\n",
      "FILE CREATED: ./hamming_metric_11nn_set2.sbatch\n",
      "FILE CREATED: ./hamming_metric_12nn_set2.sbatch\n",
      "FILE CREATED: ./mahalanobis_metric_2nn_set2.sbatch\n",
      "FILE CREATED: ./mahalanobis_metric_3nn_set2.sbatch\n",
      "FILE CREATED: ./mahalanobis_metric_4nn_set2.sbatch\n",
      "FILE CREATED: ./mahalanobis_metric_5nn_set2.sbatch\n",
      "FILE CREATED: ./mahalanobis_metric_6nn_set2.sbatch\n",
      "FILE CREATED: ./mahalanobis_metric_7nn_set2.sbatch\n",
      "FILE CREATED: ./mahalanobis_metric_8nn_set2.sbatch\n",
      "FILE CREATED: ./mahalanobis_metric_9nn_set2.sbatch\n",
      "FILE CREATED: ./mahalanobis_metric_10nn_set2.sbatch\n",
      "FILE CREATED: ./mahalanobis_metric_11nn_set2.sbatch\n",
      "FILE CREATED: ./mahalanobis_metric_12nn_set2.sbatch\n",
      "FILE CREATED: ./matching_metric_2nn_set2.sbatch\n",
      "FILE CREATED: ./matching_metric_3nn_set2.sbatch\n",
      "FILE CREATED: ./matching_metric_4nn_set2.sbatch\n",
      "FILE CREATED: ./matching_metric_5nn_set2.sbatch\n",
      "FILE CREATED: ./matching_metric_6nn_set2.sbatch\n",
      "FILE CREATED: ./matching_metric_7nn_set2.sbatch\n",
      "FILE CREATED: ./matching_metric_8nn_set2.sbatch\n",
      "FILE CREATED: ./matching_metric_9nn_set2.sbatch\n",
      "FILE CREATED: ./matching_metric_10nn_set2.sbatch\n",
      "FILE CREATED: ./matching_metric_11nn_set2.sbatch\n",
      "FILE CREATED: ./matching_metric_12nn_set2.sbatch\n",
      "FILE CREATED: ./seuclidean_metric_2nn_set2.sbatch\n",
      "FILE CREATED: ./seuclidean_metric_3nn_set2.sbatch\n",
      "FILE CREATED: ./seuclidean_metric_4nn_set2.sbatch\n",
      "FILE CREATED: ./seuclidean_metric_5nn_set2.sbatch\n",
      "FILE CREATED: ./seuclidean_metric_6nn_set2.sbatch\n",
      "FILE CREATED: ./seuclidean_metric_7nn_set2.sbatch\n",
      "FILE CREATED: ./seuclidean_metric_8nn_set2.sbatch\n",
      "FILE CREATED: ./seuclidean_metric_9nn_set2.sbatch\n",
      "FILE CREATED: ./seuclidean_metric_10nn_set2.sbatch\n",
      "FILE CREATED: ./seuclidean_metric_11nn_set2.sbatch\n",
      "FILE CREATED: ./seuclidean_metric_12nn_set2.sbatch\n",
      "FILE CREATED: ./sqeuclidean_metric_2nn_set2.sbatch\n",
      "FILE CREATED: ./sqeuclidean_metric_3nn_set2.sbatch\n",
      "FILE CREATED: ./sqeuclidean_metric_4nn_set2.sbatch\n",
      "FILE CREATED: ./sqeuclidean_metric_5nn_set2.sbatch\n",
      "FILE CREATED: ./sqeuclidean_metric_6nn_set2.sbatch\n",
      "FILE CREATED: ./sqeuclidean_metric_7nn_set2.sbatch\n",
      "FILE CREATED: ./sqeuclidean_metric_8nn_set2.sbatch\n",
      "FILE CREATED: ./sqeuclidean_metric_9nn_set2.sbatch\n",
      "FILE CREATED: ./sqeuclidean_metric_10nn_set2.sbatch\n",
      "FILE CREATED: ./sqeuclidean_metric_11nn_set2.sbatch\n",
      "FILE CREATED: ./sqeuclidean_metric_12nn_set2.sbatch\n",
      "FILE CREATED: ./wminkowski_metric_2nn_set2.sbatch\n",
      "FILE CREATED: ./wminkowski_metric_3nn_set2.sbatch\n",
      "FILE CREATED: ./wminkowski_metric_4nn_set2.sbatch\n",
      "FILE CREATED: ./wminkowski_metric_5nn_set2.sbatch\n",
      "FILE CREATED: ./wminkowski_metric_6nn_set2.sbatch\n",
      "FILE CREATED: ./wminkowski_metric_7nn_set2.sbatch\n",
      "FILE CREATED: ./wminkowski_metric_8nn_set2.sbatch\n",
      "FILE CREATED: ./wminkowski_metric_9nn_set2.sbatch\n",
      "FILE CREATED: ./wminkowski_metric_10nn_set2.sbatch\n",
      "FILE CREATED: ./wminkowski_metric_11nn_set2.sbatch\n",
      "FILE CREATED: ./wminkowski_metric_12nn_set2.sbatch\n",
      "FILE CREATED: ./nan_euclidean_metric_2nn_set2.sbatch\n",
      "FILE CREATED: ./nan_euclidean_metric_3nn_set2.sbatch\n",
      "FILE CREATED: ./nan_euclidean_metric_4nn_set2.sbatch\n",
      "FILE CREATED: ./nan_euclidean_metric_5nn_set2.sbatch\n",
      "FILE CREATED: ./nan_euclidean_metric_6nn_set2.sbatch\n",
      "FILE CREATED: ./nan_euclidean_metric_7nn_set2.sbatch\n",
      "FILE CREATED: ./nan_euclidean_metric_8nn_set2.sbatch\n",
      "FILE CREATED: ./nan_euclidean_metric_9nn_set2.sbatch\n",
      "FILE CREATED: ./nan_euclidean_metric_10nn_set2.sbatch\n",
      "FILE CREATED: ./nan_euclidean_metric_11nn_set2.sbatch\n",
      "FILE CREATED: ./nan_euclidean_metric_12nn_set2.sbatch\n",
      "FILE CREATED: ./haversine_metric_2nn_set2.sbatch\n",
      "FILE CREATED: ./haversine_metric_3nn_set2.sbatch\n",
      "FILE CREATED: ./haversine_metric_4nn_set2.sbatch\n",
      "FILE CREATED: ./haversine_metric_5nn_set2.sbatch\n",
      "FILE CREATED: ./haversine_metric_6nn_set2.sbatch\n",
      "FILE CREATED: ./haversine_metric_7nn_set2.sbatch\n",
      "FILE CREATED: ./haversine_metric_8nn_set2.sbatch\n",
      "FILE CREATED: ./haversine_metric_9nn_set2.sbatch\n",
      "FILE CREATED: ./haversine_metric_10nn_set2.sbatch\n",
      "FILE CREATED: ./haversine_metric_11nn_set2.sbatch\n",
      "FILE CREATED: ./haversine_metric_12nn_set2.sbatch\n"
     ]
    }
   ],
   "source": [
    "for metric in metrics:\n",
    "    for nn in nns:\n",
    "\n",
    "        sbatch_str = f'''#!/bin/bash\n",
    "#SBATCH --job-name=run_scan_{metric}_{nn}\n",
    "#SBATCH --account=pi-apturkew\n",
    "#SBATCH --partition=broadwl\n",
    "#SBATCH --ntasks-per-node=1\n",
    "#SBATCH --cpus-per-task=20\n",
    "#SBATCH --mem-per-cpu=2000\n",
    "##SBATCH --output=myjob_%j.out      # Standard output log\n",
    "##SBATCH --error=myjob_%j.err       # Standard error log\n",
    "#SBATCH --mail-type=ALL\n",
    "#SBATCH --mail-user=bertagna@rcc.uchicago.edu\n",
    "\n",
    "source activate scan.env\n",
    "\n",
    "cmd=\"python3 fast_scan_modular_metrics.py {metric} {nn}\"\n",
    "\n",
    "echo $cmd\n",
    "\n",
    "eval $cmd\n",
    "'''\n",
    "        output_file = f'./{metric}_metric_{nn}nn_{\"_\".join(tags)}.sbatch'\n",
    "        with open(output_file, 'w') as f:\n",
    "            f.write(sbatch_str)\n",
    "            print('FILE CREATED:', output_file)"
   ]
  },
  {
   "cell_type": "code",
   "execution_count": null,
   "metadata": {},
   "outputs": [],
   "source": [
    "for metric in metrics:\n",
    "    sbatch_str = f'''#!/bin/bash\n",
    "#SBATCH --job-name=run_scan_{metric}\n",
    "#SBATCH --account=pi-apturkew\n",
    "#SBATCH --partition=broadwl\n",
    "#SBATCH --ntasks-per-node=1\n",
    "#SBATCH --cpus-per-task=20\n",
    "#SBATCH --mem-per-cpu=2000\n",
    "##SBATCH --output=myjob_%j.out      # Standard output log\n",
    "##SBATCH --error=myjob_%j.err       # Standard error log\n",
    "#SBATCH --mail-type=ALL\n",
    "#SBATCH --mail-user=bertagna@rcc.uchicago.edu\n",
    "\n",
    "source activate scan.env\n",
    "\n",
    "cmd=\"python3 fast_scan_modular_metrics.py {metric}\"\n",
    "\n",
    "echo $cmd\n",
    "\n",
    "eval $cmd\n",
    "'''\n",
    "    with open(f'./{metric}_metric.sbatch', 'w') as f:\n",
    "        f.write(sbatch_str)"
   ]
  },
  {
   "cell_type": "markdown",
   "metadata": {},
   "source": [
    "### CMD NOTES"
   ]
  },
  {
   "cell_type": "code",
   "execution_count": null,
   "metadata": {},
   "outputs": [],
   "source": [
    "'''\n",
    "put /Users/michaelbertagna/git/TGNE-2022/TGNE/clustering_optimization/clr_network_for_distances_*.csv.gz TGNE/clustering_optimization/\n",
    "\n",
    "put /Users/michaelbertagna/git/TGNE-2022/TGNE/microarray_probe_alignment_and_filtering/allgood_filt_agg_tidy_2021aligned_qc_rma_expression_full.csv TGNE/microarray_probe_alignment_and_filtering/allgood_filt_agg_tidy_2021aligned_qc_rma_expression_full.csv\n",
    "\n",
    "put /Users/michaelbertagna/git/TGNE-2022/TGNE/eggnog/complete_eggnog_annotation.csv TGNE/eggnog/complete_eggnog_annotation.csv\n",
    "\n",
    "put /Users/michaelbertagna/git/TGNE-2022/active_fastas/*.csv active_fastas/\n",
    "'''"
   ]
  },
  {
   "cell_type": "code",
   "execution_count": 1,
   "metadata": {},
   "outputs": [
    {
     "data": {
      "text/plain": [
       "'\\nsubmit *_metric_{6..12}nn.sbatch -x clr* cosine*\\n'"
      ]
     },
     "execution_count": 1,
     "metadata": {},
     "output_type": "execute_result"
    }
   ],
   "source": [
    "'''\n",
    "submit *_metric_{6..12}nn.sbatch -x clr* cosine*\n",
    "'''"
   ]
  },
  {
   "cell_type": "code",
   "execution_count": null,
   "metadata": {},
   "outputs": [],
   "source": [
    "'''\n",
    "submit minkowski_metric_1.0_11nn.sbatch\n",
    "submit minkowski_metric_1.0_10nn.sbatch\n",
    "submit manhattan_metric_10nn.sbatch\n",
    "submit manhattan_metric_11nn.sbatch\n",
    "submit clr_metric_4nn.sbatch\n",
    "submit clr_metric_8nn.sbatch\n",
    "submit clr_metric_5nn.sbatch\n",
    "'''"
   ]
  }
 ],
 "metadata": {
  "kernelspec": {
   "display_name": "Python 3",
   "language": "python",
   "name": "python3"
  },
  "language_info": {
   "codemirror_mode": {
    "name": "ipython",
    "version": 3
   },
   "file_extension": ".py",
   "mimetype": "text/x-python",
   "name": "python",
   "nbconvert_exporter": "python",
   "pygments_lexer": "ipython3",
   "version": "3.9.9"
  }
 },
 "nbformat": 4,
 "nbformat_minor": 2
}

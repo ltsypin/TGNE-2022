{
 "cells": [
  {
   "cell_type": "code",
   "execution_count": 1,
   "metadata": {},
   "outputs": [],
   "source": [
    "import numpy as np"
   ]
  },
  {
   "cell_type": "code",
   "execution_count": 2,
   "metadata": {},
   "outputs": [
    {
     "data": {
      "text/plain": [
       "['clr',\n",
       " 'manhattan',\n",
       " 'euclidean',\n",
       " 'cosine',\n",
       " 'minkowski_0.5',\n",
       " 'minkowski_1.0',\n",
       " 'minkowski_2.0',\n",
       " 'minkowski_3.0',\n",
       " 'minkowski_4.0',\n",
       " 'minkowski_5.0']"
      ]
     },
     "execution_count": 2,
     "metadata": {},
     "output_type": "execute_result"
    }
   ],
   "source": [
    "metrics = ['clr', 'manhattan', 'euclidean', 'cosine'] + [f'minkowski_{str(p)}' for p in np.array([0.5, 1, 2, 3, 4, 5])]\n",
    "metrics"
   ]
  },
  {
   "cell_type": "code",
   "execution_count": 3,
   "metadata": {},
   "outputs": [
    {
     "data": {
      "text/plain": [
       "10"
      ]
     },
     "execution_count": 3,
     "metadata": {},
     "output_type": "execute_result"
    }
   ],
   "source": [
    "len(metrics)"
   ]
  },
  {
   "cell_type": "code",
   "execution_count": null,
   "metadata": {},
   "outputs": [
    {
     "data": {
      "text/plain": [
       "array([ 2,  3,  4,  5,  6,  7,  8,  9, 10, 11, 12])"
      ]
     },
     "metadata": {},
     "output_type": "display_data"
    }
   ],
   "source": [
    "nns = np.arange(2, 13, 1)\n",
    "nns"
   ]
  },
  {
   "cell_type": "code",
   "execution_count": null,
   "metadata": {},
   "outputs": [],
   "source": [
    "for metric in metrics:\n",
    "    for nn in nns:\n",
    "\n",
    "        sbatch_str = f'''#!/bin/bash\n",
    "#SBATCH --job-name=run_scan_{metric}_{nn}\n",
    "#SBATCH --account=pi-apturkew\n",
    "#SBATCH --partition=broadwl\n",
    "#SBATCH --ntasks-per-node=1\n",
    "#SBATCH --cpus-per-task=20\n",
    "#SBATCH --mem-per-cpu=2000\n",
    "##SBATCH --output=myjob_%j.out      # Standard output log\n",
    "##SBATCH --error=myjob_%j.err       # Standard error log\n",
    "#SBATCH --mail-type=ALL\n",
    "#SBATCH --mail-user=bertagna@rcc.uchicago.edu\n",
    "\n",
    "source activate scan.env\n",
    "\n",
    "cmd=\"python3 fast_scan_modular_metrics_1m_1nn.py {metric} {nn}\"\n",
    "\n",
    "echo $cmd\n",
    "\n",
    "eval $cmd\n",
    "'''\n",
    "        with open(f'./{metric}_metric_{nn}nn.sbatch', 'w') as f:\n",
    "            f.write(sbatch_str)"
   ]
  },
  {
   "cell_type": "code",
   "execution_count": null,
   "metadata": {},
   "outputs": [],
   "source": [
    "for metric in metrics:\n",
    "    sbatch_str = f'''#!/bin/bash\n",
    "#SBATCH --job-name=run_scan_{metric}\n",
    "#SBATCH --account=pi-apturkew\n",
    "#SBATCH --partition=broadwl\n",
    "#SBATCH --ntasks-per-node=1\n",
    "#SBATCH --cpus-per-task=20\n",
    "#SBATCH --mem-per-cpu=2000\n",
    "##SBATCH --output=myjob_%j.out      # Standard output log\n",
    "##SBATCH --error=myjob_%j.err       # Standard error log\n",
    "#SBATCH --mail-type=ALL\n",
    "#SBATCH --mail-user=bertagna@rcc.uchicago.edu\n",
    "\n",
    "source activate scan.env\n",
    "\n",
    "cmd=\"python3 fast_scan_modular_metrics.py {metric}\"\n",
    "\n",
    "echo $cmd\n",
    "\n",
    "eval $cmd\n",
    "'''\n",
    "    with open(f'./{metric}_metric.sbatch', 'w') as f:\n",
    "        f.write(sbatch_str)"
   ]
  },
  {
   "cell_type": "markdown",
   "metadata": {},
   "source": [
    "### CMD NOTES"
   ]
  },
  {
   "cell_type": "code",
   "execution_count": null,
   "metadata": {},
   "outputs": [],
   "source": [
    "'''\n",
    "put /Users/michaelbertagna/git/TGNE-2022/TGNE/clustering_optimization/clr_network_for_distances_*.csv.gz TGNE/clustering_optimization/\n",
    "\n",
    "put /Users/michaelbertagna/git/TGNE-2022/TGNE/microarray_probe_alignment_and_filtering/allgood_filt_agg_tidy_2021aligned_qc_rma_expression_full.csv TGNE/microarray_probe_alignment_and_filtering/allgood_filt_agg_tidy_2021aligned_qc_rma_expression_full.csv\n",
    "\n",
    "put /Users/michaelbertagna/git/TGNE-2022/TGNE/eggnog/complete_eggnog_annotation.csv TGNE/eggnog/complete_eggnog_annotation.csv\n",
    "\n",
    "put /Users/michaelbertagna/git/TGNE-2022/active_fastas/*.csv active_fastas/\n",
    "'''"
   ]
  },
  {
   "cell_type": "code",
   "execution_count": 1,
   "metadata": {},
   "outputs": [
    {
     "data": {
      "text/plain": [
       "'\\nsubmit *_metric_{6..12}nn.sbatch -x clr* cosine*\\n'"
      ]
     },
     "execution_count": 1,
     "metadata": {},
     "output_type": "execute_result"
    }
   ],
   "source": [
    "'''\n",
    "submit *_metric_{6..12}nn.sbatch -x clr* cosine*\n",
    "'''"
   ]
  },
  {
   "cell_type": "code",
   "execution_count": null,
   "metadata": {},
   "outputs": [],
   "source": [
    "'''\n",
    "submit minkowski_metric_1.0_11nn.sbatch\n",
    "submit minkowski_metric_1.0_10nn.sbatch\n",
    "submit manhattan_metric_10nn.sbatch\n",
    "submit manhattan_metric_11nn.sbatch\n",
    "submit clr_metric_4nn.sbatch\n",
    "submit clr_metric_8nn.sbatch\n",
    "submit clr_metric_5nn.sbatch\n",
    "'''"
   ]
  }
 ],
 "metadata": {
  "kernelspec": {
   "display_name": "Python 3",
   "language": "python",
   "name": "python3"
  },
  "language_info": {
   "codemirror_mode": {
    "name": "ipython",
    "version": 3
   },
   "file_extension": ".py",
   "mimetype": "text/x-python",
   "name": "python",
   "nbconvert_exporter": "python",
   "pygments_lexer": "ipython3",
   "version": "3.9.9"
  }
 },
 "nbformat": 4,
 "nbformat_minor": 2
}

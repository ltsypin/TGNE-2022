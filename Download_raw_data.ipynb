{
 "cells": [
  {
   "cell_type": "code",
   "execution_count": 1,
   "id": "a46add30-e2ef-41d2-be30-5c46a8b22ffc",
   "metadata": {},
   "outputs": [],
   "source": [
    "import requests\n",
    "import zipfile\n",
    "import io\n",
    "import tarfile\n",
    "import os\n",
    "import re\n",
    "import tqdm\n",
    "import pdb\n",
    "import gzip\n",
    "import glob"
   ]
  },
  {
   "cell_type": "code",
   "execution_count": 2,
   "id": "f851c055-1bdb-41ab-a3e9-602ddc457020",
   "metadata": {},
   "outputs": [],
   "source": [
    "if not os.path.exists('./new_raw_data/'):\n",
    "    os.makedirs('./new_raw_data/')\n",
    "    \n",
    "if not os.path.exists('./new_raw_data/expression'):\n",
    "    os.makedirs('./new_raw_data/expression')"
   ]
  },
  {
   "cell_type": "markdown",
   "id": "f43e8ad9-f7f2-4afe-9a0b-f91a5ce2abc1",
   "metadata": {},
   "source": [
    "Get the fasta file for the CDSs of the 2021 genome"
   ]
  },
  {
   "cell_type": "code",
   "execution_count": 3,
   "id": "c333cbaf-c29b-4a37-8b6a-ac3099480038",
   "metadata": {},
   "outputs": [],
   "source": [
    "r = requests.get('https://tet.ciliate.org/common/downloads/tet/3-upd-cds-fasta-2021.fasta', stream=True)\n",
    "with open('./new_raw_data/Tthermophila_MAC_CDS_2021.fasta', 'wb') as f:\n",
    "    for chunk in r.iter_content(chunk_size=128):\n",
    "        f.write(chunk)"
   ]
  },
  {
   "cell_type": "markdown",
   "id": "c7a34657-0523-4da5-83fc-b71797e5c716",
   "metadata": {},
   "source": [
    "Get the fasta file for the protein sequences of the 2021 genome"
   ]
  },
  {
   "cell_type": "code",
   "execution_count": 3,
   "id": "a02d2ab0-3333-4cfc-a9f7-a06c95d3dda7",
   "metadata": {},
   "outputs": [],
   "source": [
    "r = requests.get('https://tet.ciliate.org/common/downloads/tet/4-upd-Protein-fasta-2021.fasta', stream=True)\n",
    "with open('./new_raw_data/Tthermophila_MAC_protein_2021.fasta', 'wb') as f:\n",
    "    for chunk in r.iter_content(chunk_size=128):\n",
    "        f.write(chunk)"
   ]
  },
  {
   "cell_type": "markdown",
   "id": "0d10cbf0-0289-4ccb-9237-a2e3341a0855",
   "metadata": {},
   "source": [
    "Get the .ndf file"
   ]
  },
  {
   "cell_type": "code",
   "execution_count": 4,
   "id": "a900adde-c86e-4aab-a8be-334758902a8b",
   "metadata": {},
   "outputs": [],
   "source": [
    "r = requests.get('https://www.ncbi.nlm.nih.gov/geo/download/?acc=GSE11300&format=file', stream=True)"
   ]
  },
  {
   "cell_type": "code",
   "execution_count": 5,
   "id": "9c0b7ecf-4025-40c3-a327-dad309c53a15",
   "metadata": {},
   "outputs": [],
   "source": [
    "with open('./new_raw_data/GSE11300.tar', 'wb') as f:\n",
    "    for chunk in r.iter_content(chunk_size=128):\n",
    "            f.write(chunk)"
   ]
  },
  {
   "cell_type": "code",
   "execution_count": 6,
   "id": "5aa1e021-c6d7-4c4c-89a0-b8fa86e6074e",
   "metadata": {},
   "outputs": [],
   "source": [
    "tar_folder = tarfile.open('./new_raw_data/GSE11300.tar')\n",
    "tar_folder.extractall(path='./new_raw_data/GSE11300/')\n",
    "tar_folder.close()"
   ]
  },
  {
   "cell_type": "markdown",
   "id": "fd41895a-5c5b-42a9-8a39-90a9955516ea",
   "metadata": {},
   "source": [
    "Get the raw reads"
   ]
  },
  {
   "cell_type": "code",
   "execution_count": 7,
   "id": "ac6f895a-81e2-4f32-9c91-9153c47ef2ed",
   "metadata": {},
   "outputs": [],
   "source": [
    "def download_raw_data(url, name):\n",
    "    r = requests.get(url, stream=True)\n",
    "    d = r.headers['content-disposition']\n",
    "    fname = re.findall(\"filename=(.+)\", d)[0]\n",
    "    name = re.search(r'GSE.*(tar|gz)', fname).group()\n",
    "    \n",
    "    if '.tar' in name:\n",
    "        with open(f'./new_raw_data/{name}', 'wb') as f:\n",
    "            for chunk in r.iter_content(chunk_size=128):\n",
    "                    f.write(chunk)\n",
    "\n",
    "        tar_folder = tarfile.open(f'./new_raw_data/{name}')\n",
    "        tar_folder.extractall(path=f'./new_raw_data/{name[:-4]}')\n",
    "        tar_folder.close()\n",
    "        \n",
    "        \n",
    "    else:\n",
    "        with open(f'./new_raw_data/{name}', 'wb') as f:\n",
    "            for chunk in r.iter_content(chunk_size=128):\n",
    "                f.write(chunk)\n",
    "                \n",
    "#         with gzip.open(f'./new_raw_data/{name}.txt.gz', 'rb') as gzip_file:\n",
    "#             file_content = gzip_file.read()\n",
    "            \n",
    "#             with open(f'./new_raw_data/{name}.txt', 'wb') as out_file:\n",
    "#                 out_file.write(file_content)\n",
    "    return\n",
    "\n",
    "def move_expression_files(target_dir='./new_raw_data/expression/'):\n",
    "    for f in data_files:\n",
    "        name = f.split('/')[-1]\n",
    "        os.rename(f, f'{target_dir}{name}')\n",
    "        \n",
    "# def uncompress_data_files(target_dir='./new_raw_data/expression/'):\n",
    "#     data_files = glob.glob(f'{target_dir}*.gz')\n",
    "    \n",
    "#     for f in data_files:\n",
    "#         uncompressed_name = f.split('.gz')[0]\n",
    "#         with gzip.open(f, 'rb') as gzip_file:\n",
    "#             file_content = gzip_file.read()\n",
    "            \n",
    "#         with open(uncompressed_name, 'wb') as out_file:\n",
    "#             out_file.write(file_content)\n",
    "            \n",
    "#     to_fix = glob.glob(f'{target_dir}*.pair')\n",
    "#     for f in to_fix:\n",
    "#         os.rename(f, f'{f}.txt')"
   ]
  },
  {
   "cell_type": "code",
   "execution_count": 8,
   "id": "b639487a-84c7-4e23-afd4-1381ca638c04",
   "metadata": {},
   "outputs": [],
   "source": [
    "r = requests.get('https://www.ncbi.nlm.nih.gov/geo/download/?acc=GSE11300&format=file&file=GSE11300%5FRaw%5FC1%5FSamples%2Etxt%2Egz', stream=True)"
   ]
  },
  {
   "cell_type": "code",
   "execution_count": 9,
   "id": "96f4500c-b0d6-45a7-8b7e-08762995c69e",
   "metadata": {},
   "outputs": [],
   "source": [
    "d = r.headers['content-disposition']\n",
    "fname = re.findall(\"filename=(.+)\", d)[0]"
   ]
  },
  {
   "cell_type": "code",
   "execution_count": 10,
   "id": "1fcf3c1f-cecd-4569-8454-1dd023d4ef64",
   "metadata": {},
   "outputs": [
    {
     "data": {
      "text/plain": [
       "'GSE11300_Raw_C1_Samples.txt'"
      ]
     },
     "execution_count": 10,
     "metadata": {},
     "output_type": "execute_result"
    }
   ],
   "source": [
    "re.search(r'GSE.*(tar|gz)', fname).group()[:-3]"
   ]
  },
  {
   "cell_type": "code",
   "execution_count": 13,
   "id": "8e79ad18-fe93-4f78-ab99-a1c8acaa4e0a",
   "metadata": {},
   "outputs": [
    {
     "data": {
      "text/plain": [
       "200"
      ]
     },
     "execution_count": 13,
     "metadata": {},
     "output_type": "execute_result"
    }
   ],
   "source": [
    "r.status_code"
   ]
  },
  {
   "cell_type": "code",
   "execution_count": 14,
   "id": "a6760022-b7f2-4ce5-ab03-8ea567a56219",
   "metadata": {},
   "outputs": [],
   "source": [
    "download_raw_data('https://www.ncbi.nlm.nih.gov/geo/download/?acc=GSE11300&format=file', 'GSE11300')"
   ]
  },
  {
   "cell_type": "code",
   "execution_count": 15,
   "id": "f484f5ac-a836-40e2-8e16-693b1ece6cdf",
   "metadata": {},
   "outputs": [],
   "source": [
    "raw_data_url_dict = {\n",
    "    'GSE26650': 'https://www.ncbi.nlm.nih.gov/geo/download/?acc=GSE26650&format=file', #Pearlman submission, .pair formatted\n",
    "    'GSE11300C1': 'https://www.ncbi.nlm.nih.gov/geo/download/?acc=GSE11300&format=file&file=GSE11300%5FRaw%5FC1%5FSamples%2Etxt%2Egz', #Miao submission, C1, \"samples\" format\n",
    "    'GSE11300C2': 'https://www.ncbi.nlm.nih.gov/geo/download/?acc=GSE11300&format=file&file=GSE11300%5FRaw%5FC2%5FSamples%2Etxt%2Egz', #Miao submission, C2, \"samples\" format\n",
    "    'GSE11300L1': 'https://www.ncbi.nlm.nih.gov/geo/download/?acc=GSE11300&format=file&file=GSE11300%5FRaw%5FL1%5FSamples%2Etxt%2Egz', #Miao submission, L1, \"samples\" format\n",
    "    'GSE11300L2': 'https://www.ncbi.nlm.nih.gov/geo/download/?acc=GSE11300&format=file&file=GSE11300%5FRaw%5FL2%5FSamples%2Etxt%2Egz', #Miao submission, L2, \"samples\" format\n",
    "    'GSE11300L3': 'https://www.ncbi.nlm.nih.gov/geo/download/?acc=GSE11300&format=file&file=GSE11300%5FRaw%5FL3%5FSamples%2Etxt%2Egz', #Miao submission, L3, \"samples\" format\n",
    "    'GSE11300S1': 'https://www.ncbi.nlm.nih.gov/geo/download/?acc=GSE11300&format=file&file=GSE11300%5FRaw%5FS1%5FSamples%2Etxt%2Egz', #Miao submission, S1, \"samples\" format\n",
    "    'GSE11300S2': 'https://www.ncbi.nlm.nih.gov/geo/download/?acc=GSE11300&format=file&file=GSE11300%5FRaw%5FS2%5FSamples%2Etxt%2Egz', #Miao submission, S2, \"samples\" format\n",
    "    'GSE11300S3': 'https://www.ncbi.nlm.nih.gov/geo/download/?acc=GSE11300&format=file&file=GSE11300%5FRaw%5FS3%5FSamples%2Etxt%2Egz', #Miao submission, S3, \"samples\" format\n",
    "    'GSE26384': 'https://www.ncbi.nlm.nih.gov/geo/download/?acc=GSE26384&format=file', #Miao submission, .pair formatted\n",
    "    'GSE26385': 'https://www.ncbi.nlm.nih.gov/geo/download/?acc=GSE26385&format=file', #Liu submission, .pair formatted\n",
    "}"
   ]
  },
  {
   "cell_type": "code",
   "execution_count": 16,
   "id": "65b1939a-f268-47ad-b078-df1b91ebd0f3",
   "metadata": {},
   "outputs": [
    {
     "name": "stdout",
     "output_type": "stream",
     "text": [
      "Automatic pdb calling has been turned ON\n"
     ]
    }
   ],
   "source": [
    "%pdb"
   ]
  },
  {
   "cell_type": "code",
   "execution_count": 17,
   "id": "3e089f0f-018d-41ce-b0f6-72c24ff4bd4b",
   "metadata": {},
   "outputs": [
    {
     "name": "stderr",
     "output_type": "stream",
     "text": [
      "100%|████████████████████████████████████████████████████████████████████████████████████████████████████████████████████████████████████████████████████| 11/11 [00:56<00:00,  5.11s/it]\n"
     ]
    }
   ],
   "source": [
    "for name, url in tqdm.tqdm(raw_data_url_dict.items()):\n",
    "    download_raw_data(url, name)"
   ]
  },
  {
   "cell_type": "code",
   "execution_count": 18,
   "id": "7fb70ed5-1d28-4831-801d-c2026ce7a80a",
   "metadata": {},
   "outputs": [
    {
     "data": {
      "text/plain": [
       "['./new_raw_data/GSE11300_Raw_C1_Samples.txt.gz',\n",
       " './new_raw_data/GSE11300_Raw_L1_Samples.txt.gz',\n",
       " './new_raw_data/GSE11300_Raw_L3_Samples.txt.gz',\n",
       " './new_raw_data/GSE11300_Raw_C2_Samples.txt.gz',\n",
       " './new_raw_data/GSE11300_Raw_L2_Samples.txt.gz',\n",
       " './new_raw_data/GSE11300_Raw_S2_Samples.txt.gz',\n",
       " './new_raw_data/GSE11300_Raw_S3_Samples.txt.gz',\n",
       " './new_raw_data/GSE11300_Raw_S1_Samples.txt.gz',\n",
       " './new_raw_data/GSE26650_RAW/GSM656231_4257502_532_pair.txt.gz',\n",
       " './new_raw_data/GSE26650_RAW/GSM656232_4257702_532_pair.txt.gz',\n",
       " './new_raw_data/GSE26650_RAW/GSM656237_4258302_532_pair.txt.gz',\n",
       " './new_raw_data/GSE26650_RAW/GSM656239_4261302_532_pair.txt.gz',\n",
       " './new_raw_data/GSE26650_RAW/GSM656234_4257802_532_pair.txt.gz',\n",
       " './new_raw_data/GSE26650_RAW/GSM656240_4261102_532_pair.txt.gz',\n",
       " './new_raw_data/GSE26650_RAW/GSM656236_4257902_532_pair.txt.gz',\n",
       " './new_raw_data/GSE26650_RAW/GSM656238_4259002_532_pair.txt.gz',\n",
       " './new_raw_data/GSE26650_RAW/GSM656235_4258102_532_pair.txt.gz',\n",
       " './new_raw_data/GSE26650_RAW/GSM656230_4257602_532_pair.txt.gz',\n",
       " './new_raw_data/GSE26650_RAW/GSM656233_4257402_532_pair.txt.gz',\n",
       " './new_raw_data/GSE26385_RAW/GSM647653_13401502_532_pair.txt.gz',\n",
       " './new_raw_data/GSE26385_RAW/GSM647654_13401702_532_pair.txt.gz',\n",
       " './new_raw_data/GSE26385_RAW/GSM647652_13399602_532_pair.txt.gz',\n",
       " './new_raw_data/GSE26385_RAW/GSM647651_13398502_532_pair.txt.gz',\n",
       " './new_raw_data/GSE26384_RAW/GSM647245.pair.gz',\n",
       " './new_raw_data/GSE26384_RAW/GSM647244.pair.gz']"
      ]
     },
     "execution_count": 18,
     "metadata": {},
     "output_type": "execute_result"
    }
   ],
   "source": [
    "data_files = glob.glob('./new_raw_data/*.txt.gz') + glob.glob('./new_raw_data/**/*pair.txt.gz', recursive=True) + glob.glob('./new_raw_data/**/*pair.gz', recursive=True)\n",
    "data_files"
   ]
  },
  {
   "cell_type": "code",
   "execution_count": 19,
   "id": "ba5354e7-077e-459a-9f5a-579cf696fda5",
   "metadata": {},
   "outputs": [],
   "source": [
    "move_expression_files()"
   ]
  },
  {
   "cell_type": "code",
   "execution_count": null,
   "id": "ceace1ec-0168-451e-80b0-f5b83b6e3da3",
   "metadata": {},
   "outputs": [],
   "source": []
  }
 ],
 "metadata": {
  "kernelspec": {
   "display_name": "Python 3 (ipykernel)",
   "language": "python",
   "name": "python3"
  },
  "language_info": {
   "codemirror_mode": {
    "name": "ipython",
    "version": 3
   },
   "file_extension": ".py",
   "mimetype": "text/x-python",
   "name": "python",
   "nbconvert_exporter": "python",
   "pygments_lexer": "ipython3",
   "version": "3.10.9"
  }
 },
 "nbformat": 4,
 "nbformat_minor": 5
}

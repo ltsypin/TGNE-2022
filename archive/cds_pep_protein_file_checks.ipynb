{
 "cells": [
  {
   "cell_type": "code",
   "execution_count": 1,
   "metadata": {},
   "outputs": [],
   "source": [
    "import numpy as np\n",
    "from Bio.Seq import Seq\n",
    "from Bio import SeqIO"
   ]
  },
  {
   "cell_type": "code",
   "execution_count": 2,
   "metadata": {},
   "outputs": [],
   "source": [
    "with open('/Users/michaelbertagna/git/TGNE-2022/new_raw_data/tgd2024_may15/Tetrahymena_Genome_annotation_V2024_CDS.fasta', 'r') as f:\n",
    "    cds = list(SeqIO.parse(f, 'fasta'))"
   ]
  },
  {
   "cell_type": "code",
   "execution_count": 3,
   "metadata": {},
   "outputs": [],
   "source": [
    "TTHERMS = ['TTHERM_00449389', 'TTHERM_00927401', 'TTHERM_00605940']"
   ]
  },
  {
   "cell_type": "code",
   "execution_count": 4,
   "metadata": {},
   "outputs": [
    {
     "name": "stdout",
     "output_type": "stream",
     "text": [
      "TTHERM_00605940\n",
      "TTTTTAAAAAACATTTTTAACAAATTTTTAATGATTAAATATTTACTTGAAAATCAATGA\n",
      "1\n",
      "KEDHQIIYQFLNPGQRINDRSIFRSVYIKTFLPYYFFAFQVFFLEGYIFRLFKKHFQQIFNDQIFT*KSM\n",
      "[66]\n",
      "\n",
      "TTHERM_00449389\n",
      "GATGCACCAATTTTAATATAAGCAATAGGAGAAATAGAAAATAAATTTCAATAAAAATGA\n",
      "2\n",
      "MKSMKRVKQ*SFYHKQEKHQLSYMLKKEQLIETQSLRIYQLLIIITIYQILDVQKIYLILKELNIIQQWEL*NGCHLSQRKRRKLKQLTTLKVIYLVQEWYCFICQLYLIYPQLILTNLARIKNLEL*ETLVNMFLRKQFYQQVKCQKLILILDLMHQFQYKQQEKQKINFNKN\n",
      "[9, 71, 127]\n",
      "\n",
      "TTHERM_00927401\n",
      "TATACTTTTTCACATAAGACAGGATTAGGAATGTGAAATATTTCTACTACAAGGGCTTGA\n",
      "0\n",
      "MIITFSFQKISSYSQTFGILNKRLLSDDTKFNDVVAWDDKSLERFSQNQNKSNYLLLSQSQLKDYCQPIELCQQNQTCINSFNNYRLQQNYMDDNIQYKKAQFSSWSSSMYIDWDDLAAAQKEYLIKMNLQQTFWQSYIINQKYDFIQSIRIYTARQSDGIYYQILSESYLLASSFSQNTYYGGPFACVKRNGRYPEYAFTSTDQFYGFQYQNQHIQTCGNSTSPCSCPYFNQKRLLPIEWRCRPWYQEANDTFYIKFSQPYIDQGLKTVASTSTFKIVKSQKNTYSIQDELNYQQDAVQAMDLYLQNIQTRFLQNFEDEEYSYLVSTNPSKNSTDYTPLIMAHPSMNINAQQYIYDVEFQNEQSNDNDKQMYANQTSFLREIFTIENSCKELIQMNNSYIRTIVKDGQQYLTRFSPIFVCYGNQYEQYSSKVGYYVKSISYQKRDKYTKEISQMMEFMVKTIIILVIVAILFISIIFFILLKYFLKHNFEIPIAIVSKVIQEADCESIYILNTKIESGQLKTSLELKNLIFTINKVILQFQEKINKKLQNKEDNFSQIQKKYLKSINTFYTFSHKTGLGM*NISTTRA*\n",
      "[581, 589]\n",
      "\n"
     ]
    },
    {
     "name": "stderr",
     "output_type": "stream",
     "text": [
      "/opt/anaconda3/envs/tgne_all.env/lib/python3.8/site-packages/Bio/Seq.py:2855: BiopythonWarning: Partial codon, len(sequence) not a multiple of three. Explicitly trim the sequence or add trailing N before translation. This may become an error in future.\n",
      "  warnings.warn(\n"
     ]
    }
   ],
   "source": [
    "for r in cds:\n",
    "    if r.id in TTHERMS:\n",
    "\n",
    "        # seq = ''.join([c for c in seq if c in ['A', 'T', 'G', 'C']])\n",
    "\n",
    "        # nt_seq = Seq(seq)\n",
    "\n",
    "        nt_seq = r.seq\n",
    "\n",
    "        aa_seq = nt_seq.translate(table=6)\n",
    "\n",
    "        print(r.id)\n",
    "        print(nt_seq[len(nt_seq) - 60: ])\n",
    "        print(len(nt_seq)%3)\n",
    "        print(aa_seq)\n",
    "        print([idx for idx, c in enumerate(aa_seq) if c == '*'])\n",
    "        print()\n",
    "\n",
    "        # print(len(seq)%3)\n",
    "\n",
    "        # seq = ''.join([c for c in seq if c in ['A', 'T', 'G', 'C']])\n",
    "\n",
    "        # print(len(seq)%3)\n",
    "\n",
    "        # for idx in np.arange(len(seq), step=3):\n",
    "        #     print(seq[idx: idx + 3], end=' ')"
   ]
  }
 ],
 "metadata": {
  "kernelspec": {
   "display_name": "Python 3",
   "language": "python",
   "name": "python3"
  },
  "language_info": {
   "codemirror_mode": {
    "name": "ipython",
    "version": 3
   },
   "file_extension": ".py",
   "mimetype": "text/x-python",
   "name": "python",
   "nbconvert_exporter": "python",
   "pygments_lexer": "ipython3",
   "version": "3.8.16"
  }
 },
 "nbformat": 4,
 "nbformat_minor": 2
}

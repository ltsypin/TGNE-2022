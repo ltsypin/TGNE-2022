{
 "cells": [
  {
   "cell_type": "markdown",
   "metadata": {},
   "source": [
    "\n",
    "# Import packages"
   ]
  },
  {
   "cell_type": "code",
   "execution_count": null,
   "metadata": {},
   "outputs": [],
   "source": [
    "import sys\n",
    "import pandas as pd\n",
    "import numpy as np\n",
    "import glob\n",
    "import os\n",
    "import scipy.stats as st\n",
    "import random\n",
    "import matplotlib.pyplot as plt\n",
    "\n",
    "sys.path.append('../../')\n",
    "from utils import dataframe_utils"
   ]
  },
  {
   "cell_type": "code",
   "execution_count": null,
   "metadata": {},
   "outputs": [],
   "source": [
    "satellite_ttherm_ids = list((pd.read_csv('./selected-annotation-data.tsv', delimiter='\\t'))['TTHERM_ID'].values)"
   ]
  },
  {
   "cell_type": "code",
   "execution_count": null,
   "metadata": {},
   "outputs": [],
   "source": [
    "len(satellite_ttherm_ids)"
   ]
  },
  {
   "cell_type": "markdown",
   "metadata": {},
   "source": [
    "# Import the data for each timepoint"
   ]
  },
  {
   "cell_type": "code",
   "execution_count": null,
   "metadata": {},
   "outputs": [],
   "source": [
    "# file_paths = sorted(glob.glob('./rna_seq_count_data/kallisto_quant_2024/kallisto_quant_p_trimmed_*'))\n",
    "# file_paths = sorted(glob.glob('./rna_seq_count_data/kallisto_quant_2024_exon/kallisto_quant_p_trimmed_*'))\n",
    "file_paths = sorted(glob.glob('./rna_seq_count_data/kallisto_quant_2024_jun28_cds/kallisto_quant_p_trimmed_*'))\n",
    "file_paths"
   ]
  },
  {
   "cell_type": "code",
   "execution_count": null,
   "metadata": {},
   "outputs": [],
   "source": [
    "dict_tpms = {}\n",
    "\n",
    "for fp in file_paths:\n",
    "    split = ((os.path.splitext(os.path.basename(fp))[0]).split('_'))\n",
    "    key = '_'.join(split[len(split)-2:len(split)])\n",
    "    print(key)\n",
    "    dict_tpms[key] = (pd.read_csv(os.path.join(fp, 'abundance.tsv'), delimiter='\\t'))\n",
    "\n",
    "print(np.unique([df.shape for df in dict_tpms.values()]))"
   ]
  },
  {
   "cell_type": "code",
   "execution_count": null,
   "metadata": {},
   "outputs": [],
   "source": [
    "dict_tpms['000min_A'].head()"
   ]
  },
  {
   "cell_type": "code",
   "execution_count": null,
   "metadata": {},
   "outputs": [],
   "source": [
    "def computeRPK(row):\n",
    "    if not row['eff_length'] > 0:\n",
    "        print('ZERO sequence length:', row['target_id'])\n",
    "        print(row)\n",
    "        return 'ZERO sequence length'\n",
    "    return row['est_counts']/row['eff_length']\n",
    "\n",
    "def computeTPM(row, normalization_factor):\n",
    "    return row['rpk']/normalization_factor\n",
    "\n",
    "def compute_tpm_columns(df_dict):\n",
    "    df_tpm = {}\n",
    "    normalization_factor_dict = {}\n",
    "    for key, df in df_dict.items():\n",
    "        tpm_df = df\n",
    "        tpm_df['rpk'] = tpm_df.apply(computeRPK, axis=1)\n",
    "        tpm_df = tpm_df.loc[tpm_df['rpk']!='ZERO sequence length']\n",
    "\n",
    "        sum_rpk = tpm_df['rpk'].sum()\n",
    "\n",
    "        normalization_factor = sum_rpk/1_000_000\n",
    "\n",
    "        tpm_df['tpm_manual'] = tpm_df.apply(computeTPM, axis=1, args=(normalization_factor,))\n",
    "\n",
    "        df_tpm[key] = tpm_df  \n",
    "        normalization_factor_dict[key] = normalization_factor\n",
    "\n",
    "    return df_tpm, normalization_factor_dict\n",
    "\n",
    "def compute_cpm_columns(df_dict):\n",
    "    df_cpm = {}\n",
    "    for key, df in df_dict.items():\n",
    "        cpm_df = df\n",
    "\n",
    "        sum_count = cpm_df['est_counts'].sum()\n",
    "\n",
    "        cpm_df['cpm_manual'] = (cpm_df['est_counts'] / sum_count) * 1_000_000\n",
    "\n",
    "        df_cpm[key] = cpm_df  \n",
    "\n",
    "    return df_cpm"
   ]
  },
  {
   "cell_type": "code",
   "execution_count": null,
   "metadata": {},
   "outputs": [],
   "source": [
    "dict_tpms, norm_factors_dict = compute_tpm_columns(dict_tpms)"
   ]
  },
  {
   "cell_type": "code",
   "execution_count": null,
   "metadata": {},
   "outputs": [],
   "source": [
    "dict_tpms['150min_A'].head()"
   ]
  },
  {
   "cell_type": "code",
   "execution_count": null,
   "metadata": {},
   "outputs": [],
   "source": [
    "dict_cpms = compute_cpm_columns(dict_tpms)"
   ]
  },
  {
   "cell_type": "code",
   "execution_count": null,
   "metadata": {},
   "outputs": [],
   "source": [
    "dict_cpms['150min_A'].head()"
   ]
  },
  {
   "cell_type": "code",
   "execution_count": null,
   "metadata": {},
   "outputs": [],
   "source": [
    "norm_factors_dict"
   ]
  },
  {
   "cell_type": "code",
   "execution_count": null,
   "metadata": {},
   "outputs": [],
   "source": [
    "ttherm_id = 'YF00013476.t1'\n",
    "\n",
    "dict_tpms['000min_A'].loc[dict_tpms['000min_A']['target_id'] == ttherm_id]"
   ]
  },
  {
   "cell_type": "code",
   "execution_count": null,
   "metadata": {},
   "outputs": [],
   "source": [
    "dict_tpms['000min_A'].shape"
   ]
  },
  {
   "cell_type": "markdown",
   "metadata": {},
   "source": [
    "## Checkout a single timepoint"
   ]
  },
  {
   "cell_type": "code",
   "execution_count": null,
   "metadata": {},
   "outputs": [],
   "source": [
    "num_nonzero = (dict_tpms['000min_A'].loc[dict_tpms['000min_A']['tpm'] != 0.0].shape)[0]\n",
    "\n",
    "mean = dict_tpms['000min_A']['tpm'].mean()\n",
    "\n",
    "std = dict_tpms['000min_A']['tpm'].std()\n",
    "\n",
    "str_summary_wzeros = f'''WITH ZEROS...\n",
    "MEAN: {mean}\n",
    "MEDIAN: {dict_tpms['000min_A']['tpm'].median()}\n",
    "STDEV: {std}\n",
    "CV: {(std/mean)*100}\n",
    "MAX: {dict_tpms['000min_A']['tpm'].max()}\n",
    "MIN: {dict_tpms['000min_A']['tpm'].min()}\n",
    "# GENES EXPRESSED: {num_nonzero}\n",
    "'''\n",
    "\n",
    "df_tpm_wozeros = dict_tpms['000min_A'].loc[dict_tpms['000min_A']['tpm'] != 0.0]\n",
    "\n",
    "mean_wozeros = df_tpm_wozeros['tpm'].mean()\n",
    "\n",
    "std_wozeros = df_tpm_wozeros['tpm'].std()\n",
    "\n",
    "str_summary_wozeros = f'''WITHOUT ZEROS...\n",
    "MEAN: {mean_wozeros}\n",
    "MEDIAN: {df_tpm_wozeros['tpm'].median()}\n",
    "STDEV: {std_wozeros}\n",
    "CV: {(std_wozeros/mean_wozeros)*100}\n",
    "MAX: {df_tpm_wozeros['tpm'].max()}\n",
    "MIN: {df_tpm_wozeros['tpm'].min()}\n",
    "# GENES EXPRESSED: {num_nonzero}\n",
    "'''\n",
    "\n",
    "print(str_summary_wzeros, '\\n', str_summary_wozeros, sep='')\n"
   ]
  },
  {
   "cell_type": "markdown",
   "metadata": {},
   "source": [
    "# Create a dataframe containing all data at every timepoint (sorted by TTHERM_ID)"
   ]
  },
  {
   "cell_type": "code",
   "execution_count": null,
   "metadata": {},
   "outputs": [],
   "source": [
    "column_prefixes = sorted(list(dict_tpms.keys()))\n",
    "column_prefixes"
   ]
  },
  {
   "cell_type": "code",
   "execution_count": null,
   "metadata": {},
   "outputs": [],
   "source": [
    "complete_data_df = None\n",
    "\n",
    "for col_prefix in column_prefixes:\n",
    "    curr_df = dict_tpms[col_prefix].sort_values(by='target_id')\n",
    "    curr_df.rename(columns={col: (f'{col_prefix}_{col}') for col in list(curr_df.columns) if col != 'target_id'}, inplace=True)\n",
    "\n",
    "    if complete_data_df is None:\n",
    "        complete_data_df = curr_df\n",
    "        continue\n",
    "\n",
    "    complete_data_df = dataframe_utils.sql_query_df({'complete_data_df': complete_data_df, 'curr_df': curr_df},\n",
    "                                                    '''SELECT * FROM complete_data_df\n",
    "                                                       INNER JOIN curr_df USING(target_id)'''\n",
    "                                                    )\n",
    "\n",
    "complete_data_df.rename(columns={'target_id': 'TTHERM_ID'}, inplace=True)\n",
    "complete_data_df\n"
   ]
  },
  {
   "cell_type": "markdown",
   "metadata": {},
   "source": [
    "# SATELLITE GENE COUNTS"
   ]
  },
  {
   "cell_type": "code",
   "execution_count": null,
   "metadata": {},
   "outputs": [],
   "source": [
    "(complete_data_df[['TTHERM_ID'] + [col for col in complete_data_df if 'counts' in col]].loc[complete_data_df['TTHERM_ID'].isin(satellite_ttherm_ids)])"
   ]
  },
  {
   "cell_type": "code",
   "execution_count": null,
   "metadata": {},
   "outputs": [],
   "source": [
    "# 10 reads cuttoff\n",
    "complete_data_df['max_count'] = complete_data_df[[col for col in complete_data_df if 'counts' in col]].apply(lambda x: max(x), axis=1)"
   ]
  },
  {
   "cell_type": "code",
   "execution_count": null,
   "metadata": {},
   "outputs": [],
   "source": [
    "complete_data_df_filtered = complete_data_df.loc[complete_data_df['max_count'] > 10]\n",
    "complete_data_df_filtered"
   ]
  },
  {
   "cell_type": "markdown",
   "metadata": {},
   "source": [
    "# SATELLITE GENE COUNTS AFTER FILTERING"
   ]
  },
  {
   "cell_type": "code",
   "execution_count": null,
   "metadata": {},
   "outputs": [],
   "source": [
    "(complete_data_df_filtered[['TTHERM_ID'] + [col for col in complete_data_df_filtered if 'counts' in col]].loc[complete_data_df_filtered['TTHERM_ID'].isin(satellite_ttherm_ids)])"
   ]
  },
  {
   "cell_type": "code",
   "execution_count": null,
   "metadata": {},
   "outputs": [],
   "source": [
    "# Assuming you have your gene expression dataset loaded into a DataFrame called 'data'\n",
    "# Columns: Genes (rows), Phases (columns)\n",
    "# Rows: Genes, Expression values across phases\n",
    "\n",
    "df_data = complete_data_df.loc[:, [col for col in complete_data_df if 'counts' in col]]\n",
    "\n",
    "# Plot boxplot for each phase\n",
    "plt.figure(figsize=(12, 8))\n",
    "df_data.boxplot(rot=90)\n",
    "plt.title('Read Count distribution of all genes for each phase')\n",
    "plt.xlabel('Phases')\n",
    "plt.ylabel('Read Count')\n",
    "plt.tight_layout()\n",
    "plt.ylim(top=1000)\n",
    "plt.ylim(bottom=-2.5)\n",
    "plt.show()"
   ]
  },
  {
   "cell_type": "markdown",
   "metadata": {},
   "source": [
    "# Create a dataframe containing all TPM data at every timepoint (sorted by TTHERM_ID)"
   ]
  },
  {
   "cell_type": "code",
   "execution_count": null,
   "metadata": {},
   "outputs": [],
   "source": [
    "columns = sorted(list(dict_tpms.keys()))\n",
    "columns"
   ]
  },
  {
   "cell_type": "code",
   "execution_count": null,
   "metadata": {},
   "outputs": [],
   "source": [
    "curr_df = dict_tpms['000min_A'].sort_values(by='target_id')\n",
    "dict_df_all_tpm = {'TTHERM_ID': curr_df['target_id'].values}\n",
    "print(curr_df.head(3))\n",
    "\n",
    "for col in columns:\n",
    "    curr_df = dict_tpms[col].sort_values(by='target_id')\n",
    "    print(curr_df.head(3))\n",
    "    dict_df_all_tpm[col] = (curr_df)['tpm'].values\n",
    "\n",
    "df_all_tpm = pd.DataFrame(dict_df_all_tpm)\n",
    "\n",
    "print(df_all_tpm.shape)\n",
    "\n",
    "df_all_tpm.head()"
   ]
  },
  {
   "cell_type": "code",
   "execution_count": null,
   "metadata": {},
   "outputs": [],
   "source": [
    "all_cols = list(df_all_tpm.columns)\n",
    "all_cols"
   ]
  },
  {
   "cell_type": "code",
   "execution_count": null,
   "metadata": {},
   "outputs": [],
   "source": [
    "tpm_cols = [col for col in df_all_tpm.columns[1:] if 'diff' not in col]\n",
    "tpm_cols"
   ]
  },
  {
   "cell_type": "markdown",
   "metadata": {},
   "source": [
    "# Create a dataframe containing all CPM data at every timepoint (sorted by TTHERM_ID)"
   ]
  },
  {
   "cell_type": "code",
   "execution_count": null,
   "metadata": {},
   "outputs": [],
   "source": [
    "columns = sorted(list(dict_tpms.keys()))\n",
    "columns"
   ]
  },
  {
   "cell_type": "code",
   "execution_count": null,
   "metadata": {},
   "outputs": [],
   "source": [
    "curr_df = dict_cpms['000min_A'].sort_values(by='target_id')\n",
    "dict_df_all_cpm = {'TTHERM_ID': curr_df['target_id'].values}\n",
    "print(curr_df.head(3))\n",
    "\n",
    "for col in columns:\n",
    "    curr_df = dict_cpms[col].sort_values(by='target_id')\n",
    "    print(curr_df.head(3))\n",
    "    dict_df_all_cpm[col] = (curr_df)['cpm_manual'].values\n",
    "\n",
    "df_all_cpm = pd.DataFrame(dict_df_all_cpm)\n",
    "\n",
    "print(df_all_cpm.shape)\n",
    "\n",
    "df_all_cpm.head()"
   ]
  },
  {
   "cell_type": "markdown",
   "metadata": {},
   "source": [
    "# Jaccard filtering: https://academic.oup.com/bioinformatics/article/29/17/2146/240530#SEC2.2"
   ]
  },
  {
   "cell_type": "code",
   "execution_count": null,
   "metadata": {},
   "outputs": [],
   "source": [
    "cols_a = [col for col in df_all_cpm if 'A' in col]\n",
    "cols_a"
   ]
  },
  {
   "cell_type": "code",
   "execution_count": null,
   "metadata": {},
   "outputs": [],
   "source": [
    "def jaccard_similarity(set1, set2):\n",
    "    # intersection of two sets\n",
    "    intersection = len(set1.intersection(set2))\n",
    "    # Unions of two sets\n",
    "    union = len(set1.union(set2))\n",
    "     \n",
    "    return intersection / union"
   ]
  },
  {
   "cell_type": "code",
   "execution_count": null,
   "metadata": {},
   "outputs": [],
   "source": [
    "np.percentile(df_all_cpm.loc[:, tpm_cols].to_numpy().flatten(), 14)"
   ]
  },
  {
   "cell_type": "code",
   "execution_count": null,
   "metadata": {},
   "outputs": [],
   "source": [
    "percentiles = np.arange(14, 31, 0.1)\n",
    "\n",
    "tpm_cutoffs = []\n",
    "\n",
    "jaccard_similarity_means = []\n",
    "\n",
    "for _percentile in percentiles:\n",
    "\n",
    "    tpm_cutoff = np.percentile(df_all_cpm.loc[:, tpm_cols].to_numpy().flatten(), _percentile)\n",
    "\n",
    "    tpm_cutoffs.append(tpm_cutoff)\n",
    "\n",
    "    jaccard_similarities = []\n",
    "\n",
    "    for col_a in cols_a:\n",
    "        col_b = col_a.replace('A', 'B')\n",
    "\n",
    "        jaccard_similarities.append(jaccard_similarity(set(df_all_cpm.loc[df_all_cpm[col_a] > tpm_cutoff, 'TTHERM_ID'].values), \n",
    "                                                        set(df_all_cpm.loc[df_all_cpm[col_b] > tpm_cutoff, 'TTHERM_ID'].values)))\n",
    "\n",
    "    jaccard_similarity_means.append(np.mean(jaccard_similarities))\n"
   ]
  },
  {
   "cell_type": "code",
   "execution_count": null,
   "metadata": {},
   "outputs": [],
   "source": [
    "plt.scatter(x=tpm_cutoffs, y=jaccard_similarity_means)\n",
    "plt.xlabel('Maximum CPM Threshold')\n",
    "plt.ylabel('Jaccard Similarity Mean')\n",
    "plt.show()"
   ]
  },
  {
   "cell_type": "code",
   "execution_count": null,
   "metadata": {},
   "outputs": [],
   "source": [
    "print(np.argmax(jaccard_similarity_means))\n",
    "print(jaccard_similarity_means[np.argmax(jaccard_similarity_means)])\n",
    "print(tpm_cutoffs[np.argmax(jaccard_similarity_means)])"
   ]
  },
  {
   "cell_type": "code",
   "execution_count": null,
   "metadata": {},
   "outputs": [],
   "source": [
    "CPM_THRESHOLD = tpm_cutoffs[np.argmax(jaccard_similarity_means)]"
   ]
  },
  {
   "cell_type": "code",
   "execution_count": null,
   "metadata": {},
   "outputs": [],
   "source": [
    "df_all_cpm['max_cpm'] = df_all_cpm[tpm_cols].apply(lambda x: max(x), axis=1)"
   ]
  },
  {
   "cell_type": "code",
   "execution_count": null,
   "metadata": {},
   "outputs": [],
   "source": [
    "df_all_cpm_filtered = df_all_cpm.loc[df_all_cpm['max_cpm'] > CPM_THRESHOLD]\n",
    "df_all_cpm_filtered.shape, df_all_cpm.shape"
   ]
  },
  {
   "cell_type": "code",
   "execution_count": null,
   "metadata": {},
   "outputs": [],
   "source": [
    "((df_all_cpm_filtered[['TTHERM_ID'] + tpm_cols].loc[df_all_cpm_filtered['TTHERM_ID'].isin(satellite_ttherm_ids)])).shape"
   ]
  },
  {
   "cell_type": "markdown",
   "metadata": {},
   "source": [
    "# Translate to TTHERM_ID"
   ]
  },
  {
   "cell_type": "code",
   "execution_count": null,
   "metadata": {},
   "outputs": [],
   "source": [
    "df_y_to_ttherm = pd.read_csv('../tgd2024/yf_ttherm_mapping_feb2024.csv')\n",
    "dict_y_to_ttherm = {yf: ttherm for yf, ttherm in zip(df_y_to_ttherm['yf2024'].values, df_y_to_ttherm['ttherm2021'].values)}"
   ]
  },
  {
   "cell_type": "code",
   "execution_count": null,
   "metadata": {},
   "outputs": [],
   "source": [
    "dict_y_to_ttherm"
   ]
  },
  {
   "cell_type": "code",
   "execution_count": null,
   "metadata": {},
   "outputs": [],
   "source": [
    "# df_all_tpm['TTHERM_ID'] = [dict_y_to_ttherm[id] if id in dict_y_to_ttherm else id for id in df_all_tpm['TTHERM_ID'].values]\n",
    "df_all_tpm.sample(10)"
   ]
  },
  {
   "cell_type": "code",
   "execution_count": null,
   "metadata": {},
   "outputs": [],
   "source": [
    "target_ttherms = [\n",
    "'YF00038249.t1',\n",
    "'YF00038144.t1',\n",
    "'YF00037875.t1',\n",
    "'YF00036137.t1',\n",
    "'YF00035125.t1',\n",
    "'YF00032971.t1',\n",
    "'YF00031769.t1',\n",
    "'YF00030211.t1',\n",
    "'YF00029957.t1',\n",
    "'YF00029882.t1',\n",
    "'YF00029765.t1',\n",
    "'YF00028141.t1',\n",
    "'YF00027752.t1',\n",
    "'YF00027453.t1',\n",
    "'YF00027225.t1',\n",
    "'YF00026417.t1',\n",
    "'YF00025835.t1',\n",
    "'YF00022485.t1',\n",
    "'YF00021713.t1',\n",
    "'YF00019938.t1',\n",
    "'YF00016416.t1',\n",
    "'YF00014101.t1',\n",
    "'YF00012770.t1',\n",
    "'YF00011364.t1',\n",
    "'YF00011107.t1',\n",
    "'YF00010540.t1',\n",
    "'YF00008765.t1',\n",
    "'YF00008689.t1',\n",
    "'YF00008085.t1',\n",
    "'YF00008072.t1',\n",
    "'YF00007477.t1',\n",
    "'YF00005570.t1',\n",
    "'YF00004316.t1',\n",
    "'YF00003349.t1',\n",
    "'YF00002595.t1',\n",
    "'YF00000081.t1',\n",
    "]\n",
    "\n",
    "df_all_tpm.loc[df_all_tpm['TTHERM_ID'].isin(target_ttherms)]"
   ]
  },
  {
   "cell_type": "markdown",
   "metadata": {},
   "source": [
    "## Check out genes with all zeros"
   ]
  },
  {
   "cell_type": "code",
   "execution_count": null,
   "metadata": {},
   "outputs": [],
   "source": [
    "rows_with_all_zeros = df_all_tpm[(df_all_tpm.iloc[:, 1:] == 0.0).all(axis=1)]\n",
    "\n",
    "print(rows_with_all_zeros.shape)\n",
    "\n",
    "rows_with_all_zeros.head()"
   ]
  },
  {
   "cell_type": "markdown",
   "metadata": {},
   "source": [
    "## Check out rows with one nonzero"
   ]
  },
  {
   "cell_type": "code",
   "execution_count": null,
   "metadata": {},
   "outputs": [],
   "source": [
    "rows_with_one_nonzero = df_all_tpm[(df_all_tpm.iloc[:, 1:] == 0.0).sum(axis=1) == 17]\n",
    "\n",
    "print(rows_with_one_nonzero.shape)\n",
    "\n",
    "rows_with_one_nonzero.head()"
   ]
  },
  {
   "cell_type": "markdown",
   "metadata": {},
   "source": [
    "## Check out the distribution of the number of zeros"
   ]
  },
  {
   "cell_type": "code",
   "execution_count": null,
   "metadata": {},
   "outputs": [],
   "source": [
    "num_zeros_counts = {}\n",
    "\n",
    "for i in range(20):\n",
    "    num_zeros = (df_all_tpm.iloc[:, 1:] == 0.0).sum(axis=1)\n",
    "    \n",
    "    rows_with_num_zeros = df_all_tpm[num_zeros == i]\n",
    "    \n",
    "    num_zeros_counts[i] = len(rows_with_num_zeros)\n",
    "\n",
    "for num_zeros, count in num_zeros_counts.items():\n",
    "    print(f\"Number of rows with {num_zeros} zeros: {count}\")"
   ]
  },
  {
   "cell_type": "markdown",
   "metadata": {},
   "source": [
    "## Filter out genes with all zeros"
   ]
  },
  {
   "cell_type": "code",
   "execution_count": null,
   "metadata": {},
   "outputs": [],
   "source": [
    "df_no_all_zeros = df_all_tpm[~df_all_tpm.isin(rows_with_all_zeros)].dropna()\n",
    "df_no_all_zeros.reset_index()\n",
    "print(df_all_tpm.shape[0]-df_no_all_zeros.shape[0])\n",
    "df_no_all_zeros.head()"
   ]
  },
  {
   "cell_type": "code",
   "execution_count": null,
   "metadata": {},
   "outputs": [],
   "source": [
    "df_all_zeros = df_all_tpm[df_all_tpm.isin(rows_with_all_zeros)].dropna()\n",
    "df_all_zeros.reset_index()\n",
    "print(df_all_tpm.shape[0]-df_all_zeros.shape[0])\n",
    "df_all_zeros.head()"
   ]
  },
  {
   "cell_type": "code",
   "execution_count": null,
   "metadata": {},
   "outputs": [],
   "source": [
    "df_no_all_zeros.shape"
   ]
  },
  {
   "cell_type": "markdown",
   "metadata": {},
   "source": [
    "## Check out the genes which display the highest expression"
   ]
  },
  {
   "cell_type": "code",
   "execution_count": null,
   "metadata": {},
   "outputs": [],
   "source": [
    "df_no_all_zeros.loc[:, df_no_all_zeros.columns[1:]].max(axis=None)"
   ]
  },
  {
   "cell_type": "code",
   "execution_count": null,
   "metadata": {},
   "outputs": [],
   "source": [
    "max_tpm_ttherms = []\n",
    "\n",
    "for col in df_no_all_zeros.columns[1:]:\n",
    "    max_tpm = df_no_all_zeros[col].max()\n",
    "    max_tpm_ttherm = df_no_all_zeros['TTHERM_ID'].loc[df_no_all_zeros[col] == df_no_all_zeros[col].max()].values[0]\n",
    "    print(col, 'MAX:', max_tpm, '|', max_tpm_ttherm)\n",
    "    max_tpm_ttherms.append(max_tpm_ttherm)\n",
    "    "
   ]
  },
  {
   "cell_type": "code",
   "execution_count": null,
   "metadata": {},
   "outputs": [],
   "source": [
    "np.unique(max_tpm_ttherms)"
   ]
  },
  {
   "cell_type": "markdown",
   "metadata": {},
   "source": [
    "Identifier\tGene Name\tAlias Name(s)\tDescription\n",
    "TTHERM_00105330\tRPS28\t7.m00482, PreTt23033\tRPS28 40S ribosomal protein S28e putative; Homolog of yeast RPS28- human RPS28;\n",
    "\n",
    "Identifier\tGene Name\tAlias Name(s)\tDescription\n",
    "TTHERM_00682940\t\t103.m00122, 3734.m00034, PreTt16131\t60S ribosomal protein L29"
   ]
  },
  {
   "cell_type": "code",
   "execution_count": null,
   "metadata": {},
   "outputs": [],
   "source": [
    "df_no_all_zeros_cols = df_no_all_zeros.columns[1:]\n",
    "df_no_all_zeros_cols"
   ]
  },
  {
   "cell_type": "code",
   "execution_count": null,
   "metadata": {},
   "outputs": [],
   "source": [
    "df_no_all_zeros_cols_a = [col for col in df_no_all_zeros_cols if 'A' in col]\n",
    "df_no_all_zeros_cols_a"
   ]
  },
  {
   "cell_type": "markdown",
   "metadata": {},
   "source": [
    "## Compute the TPM difference fractions between duplicates"
   ]
  },
  {
   "cell_type": "code",
   "execution_count": null,
   "metadata": {},
   "outputs": [],
   "source": [
    "def compute_diff_fraction(row):\n",
    "    values = row.values\n",
    "    if all(value == 0 for value in values):\n",
    "        return 1\n",
    "    return min(values) / max(values)\n",
    "\n",
    "for col_a in df_no_all_zeros_cols_a:\n",
    "    col_b = col_a.replace('A', 'B')\n",
    "    df_no_all_zeros[f'{col_a.replace(\"_A\", \"\")}_diff'] = df_no_all_zeros[[col_a, col_b]].apply(compute_diff_fraction, axis=1)"
   ]
  },
  {
   "cell_type": "code",
   "execution_count": null,
   "metadata": {},
   "outputs": [],
   "source": [
    "df_no_all_zeros.sample(10)"
   ]
  },
  {
   "cell_type": "markdown",
   "metadata": {},
   "source": [
    "### Sanity check"
   ]
  },
  {
   "cell_type": "code",
   "execution_count": null,
   "metadata": {},
   "outputs": [],
   "source": [
    "[(str(num)).zfill(3) for num in np.arange(0, 241, 30)]"
   ]
  },
  {
   "cell_type": "code",
   "execution_count": null,
   "metadata": {},
   "outputs": [],
   "source": [
    "random_ttherms = [random.choice(df_no_all_zeros['TTHERM_ID'].values) for _ in range(10)]\n",
    "random_time = random.choice([f'{((str(num)).zfill(3))}min' for num in np.arange(0, 241, 30)])\n",
    "\n",
    "print('TIME:', random_time)\n",
    "\n",
    "for ttherm in random_ttherms:\n",
    "    val_a = df_no_all_zeros[f'{random_time}_A'].loc[df_no_all_zeros['TTHERM_ID'] == ttherm].values[0]\n",
    "    val_b = df_no_all_zeros[f'{random_time}_B'].loc[df_no_all_zeros['TTHERM_ID'] == ttherm].values[0]\n",
    "    val_diff = df_no_all_zeros[f'{random_time}_diff'].loc[df_no_all_zeros['TTHERM_ID'] == ttherm].values[0]\n",
    "\n",
    "    manual_val_diff = 1 if all(value == 0 for value in (val_a, val_b)) else min((val_a, val_b))/max((val_a, val_b))\n",
    "\n",
    "    print(f'{ttherm} | {min([val_a, val_b])}/{max([val_a, val_b])} = {val_diff} | {manual_val_diff} | {val_diff == (manual_val_diff)}')\n"
   ]
  },
  {
   "cell_type": "markdown",
   "metadata": {},
   "source": [
    "## Compute the differences between TPM and ∆TPM for the two repeated cycles"
   ]
  },
  {
   "cell_type": "code",
   "execution_count": null,
   "metadata": {},
   "outputs": [],
   "source": [
    "df_no_all_zeros.head()"
   ]
  },
  {
   "cell_type": "code",
   "execution_count": null,
   "metadata": {},
   "outputs": [],
   "source": [
    "percent_diff_col_pairs = [['000min_A', '210min_A'], ['000min_B', '210min_B'], ['000min_diff', '210min_diff'], ['030min_A', '240min_A'], ['030min_B', '240min_B'], ['030min_diff', '240min_diff']]\n",
    "print_cols = []\n",
    "\n",
    "for pair in percent_diff_col_pairs:\n",
    "    col_1 = pair[0]\n",
    "    col_2 = pair[1]\n",
    "    new_col_name = f'percent_diff_{col_1}_{col_2}'\n",
    "    df_no_all_zeros[new_col_name] = np.nan_to_num(100 * (np.absolute(df_no_all_zeros[col_1] - df_no_all_zeros[col_2])/((df_no_all_zeros[col_1] + df_no_all_zeros[col_2]) / 2)), nan=0)\n",
    "    print_cols.append(new_col_name)\n",
    "\n",
    "df_no_all_zeros.head()"
   ]
  },
  {
   "cell_type": "code",
   "execution_count": null,
   "metadata": {},
   "outputs": [],
   "source": [
    "print_cols_padding = max([len(col) for col in print_cols])\n",
    "\n",
    "for col in print_cols:\n",
    "    print(f'{\" \"*(print_cols_padding-len(col))}{col}:', df_no_all_zeros[col].mean())"
   ]
  },
  {
   "cell_type": "code",
   "execution_count": null,
   "metadata": {},
   "outputs": [],
   "source": [
    "print_cols_padding = max([len(col) for col in print_cols])\n",
    "\n",
    "for col in print_cols:\n",
    "    print(f'{\" \"*(print_cols_padding-len(col))}{col}:', df_no_all_zeros[col].median())"
   ]
  },
  {
   "cell_type": "code",
   "execution_count": null,
   "metadata": {},
   "outputs": [],
   "source": [
    "print_cols_padding = max([len(col) for col in print_cols])\n",
    "\n",
    "for col in print_cols:\n",
    "    print(f'{\" \"*(print_cols_padding-len(col))}{col}:', df_no_all_zeros[col].std())"
   ]
  },
  {
   "cell_type": "markdown",
   "metadata": {},
   "source": [
    "## Take a look at the distribution of differences"
   ]
  },
  {
   "cell_type": "code",
   "execution_count": null,
   "metadata": {},
   "outputs": [],
   "source": [
    "diff_cols = [col for col in list(df_no_all_zeros.columns) if 'diff' in col and 'percent_diff' not in col]\n",
    "diff_cols"
   ]
  },
  {
   "cell_type": "code",
   "execution_count": null,
   "metadata": {},
   "outputs": [],
   "source": [
    "diffs_flattened = df_no_all_zeros.loc[:, diff_cols].to_numpy().flatten()\n",
    "diffs_flattened.shape, diffs_flattened"
   ]
  },
  {
   "cell_type": "code",
   "execution_count": null,
   "metadata": {},
   "outputs": [],
   "source": [
    "st.percentileofscore(diffs_flattened, 0, kind='weak')"
   ]
  },
  {
   "cell_type": "code",
   "execution_count": null,
   "metadata": {},
   "outputs": [],
   "source": [
    "sorted(diffs_flattened, reverse=True)"
   ]
  },
  {
   "cell_type": "code",
   "execution_count": null,
   "metadata": {},
   "outputs": [],
   "source": [
    "# plt.hist(diffs_flattened, bins=10000, edgecolor='black')\n",
    "\n",
    "# # line_num = 200\n",
    "# # plt.axvline(x=line_num, color='red', linestyle='dashed', linewidth=0.5, label='line at x={}'.format(line_num))\n",
    "# # plt.legend()\n",
    "\n",
    "# plt.xlabel('∆TPM Between Duplicates')\n",
    "# plt.ylabel('# of ∆TPMs')\n",
    "# plt.title(f'Distribution of ∆TPM Between Duplicates')\n",
    "\n",
    "# plt.show()\n",
    "\n",
    "# plt.hist(diffs_flattened, bins=10000, edgecolor='black')\n",
    "\n",
    "# # line_num = 200\n",
    "# # plt.axvline(x=line_num, color='red', linestyle='dashed', linewidth=0.5, label='line at x={}'.format(line_num))\n",
    "# # plt.legend()\n",
    "\n",
    "# plt.xlabel('∆TPM Between Duplicates')\n",
    "# plt.ylabel('# of ∆TPMs')\n",
    "# plt.title(f'Distribution of ∆TPM Between Duplicates')\n",
    "\n",
    "# plt.ylim(top=200)\n",
    "\n",
    "# plt.show()"
   ]
  },
  {
   "cell_type": "code",
   "execution_count": null,
   "metadata": {},
   "outputs": [],
   "source": [
    "tpms_flattened = df_no_all_zeros[tpm_cols].to_numpy().flatten()\n",
    "tpms_flattened.shape, tpms_flattened"
   ]
  },
  {
   "cell_type": "markdown",
   "metadata": {},
   "source": [
    "## Take a look at the distribution of TPMs"
   ]
  },
  {
   "cell_type": "code",
   "execution_count": null,
   "metadata": {},
   "outputs": [],
   "source": [
    "# plt.hist(tpms_flattened, bins=100000, edgecolor='black')\n",
    "\n",
    "# # line_num = 200\n",
    "# # plt.axvline(x=line_num, color='red', linestyle='dashed', linewidth=0.5, label='experimental at x={}'.format(line_num))\n",
    "# # plt.legend()\n",
    "\n",
    "# plt.xlabel('TPM')\n",
    "# plt.ylabel('# of TPMs')\n",
    "# plt.title(f'Distribution of TPMs')\n",
    "\n",
    "# plt.show()\n",
    "\n",
    "# plt.hist(tpms_flattened, bins=100000, edgecolor='black')\n",
    "\n",
    "# # line_num = 200\n",
    "# # plt.axvline(x=line_num, color='red', linestyle='dashed', linewidth=0.5, label='experimental at x={}'.format(line_num))\n",
    "# # plt.legend()\n",
    "\n",
    "# plt.xlabel('TPM')\n",
    "# plt.ylabel('# of TPMs')\n",
    "# plt.title(f'Distribution of TPMs')\n",
    "\n",
    "# plt.ylim(top=50)\n",
    "\n",
    "# plt.show()"
   ]
  },
  {
   "cell_type": "code",
   "execution_count": null,
   "metadata": {},
   "outputs": [],
   "source": [
    "sorted(tpms_flattened)"
   ]
  },
  {
   "cell_type": "markdown",
   "metadata": {},
   "source": [
    "# Take the geometric mean of each set of timepoint duplicates"
   ]
  },
  {
   "cell_type": "code",
   "execution_count": null,
   "metadata": {},
   "outputs": [],
   "source": [
    "def geo_mean_df_of_duplicates(df: pd.DataFrame):\n",
    "    return_df = df.loc[:, df.columns[0:1]]\n",
    "    num_df = df.loc[:, df.columns[1:]]\n",
    "\n",
    "    idxa = 0\n",
    "    idxb = 1\n",
    "\n",
    "    num_df_cols = list(num_df.columns)\n",
    "\n",
    "    while idxb < len(num_df_cols):\n",
    "        col_a_split = num_df_cols[idxa].split('_')\n",
    "        col_name = '_'.join(col_a_split[:len(col_a_split)-1])\n",
    "        return_df[col_name] = np.sqrt(num_df[num_df_cols[idxa]] * num_df[num_df_cols[idxb]])\n",
    "\n",
    "        idxa += 1\n",
    "        idxb += 1\n",
    "    \n",
    "    return return_df\n",
    "\n",
    "def ari_mean_df_of_duplicates(df: pd.DataFrame):\n",
    "    return_df = df.loc[:, df.columns[0:1]]\n",
    "    num_df = df.loc[:, df.columns[1:]]\n",
    "\n",
    "    idxa = 0\n",
    "    idxb = 1\n",
    "\n",
    "    num_df_cols = list(num_df.columns)\n",
    "\n",
    "    while idxb < len(num_df_cols):\n",
    "        col_a_split = num_df_cols[idxa].split('_')\n",
    "        col_name = '_'.join(col_a_split[:len(col_a_split)-1])\n",
    "        return_df[col_name] = num_df[num_df_cols[idxa]] + num_df[num_df_cols[idxb]] / 2\n",
    "\n",
    "        idxa += 1\n",
    "        idxb += 1\n",
    "    \n",
    "    return return_df"
   ]
  },
  {
   "cell_type": "code",
   "execution_count": null,
   "metadata": {},
   "outputs": [],
   "source": [
    "df_all_tpms_averaged_geo = geo_mean_df_of_duplicates(df_no_all_zeros.loc[:, all_cols])\n",
    "df_all_tpms_averaged_geo"
   ]
  },
  {
   "cell_type": "code",
   "execution_count": null,
   "metadata": {},
   "outputs": [],
   "source": [
    "df_all_tpms_averaged_geo_flattened = df_all_tpms_averaged_geo.iloc[:, 1:].to_numpy().flatten()"
   ]
  },
  {
   "cell_type": "code",
   "execution_count": null,
   "metadata": {},
   "outputs": [],
   "source": [
    "# plt.hist(df_all_tpms_averaged_geo_flattened, bins=100000, edgecolor='black')\n",
    "\n",
    "# # line_num = 200\n",
    "# # plt.axvline(x=line_num, color='red', linestyle='dashed', linewidth=0.5, label='experimental at x={}'.format(line_num))\n",
    "# # plt.legend()\n",
    "\n",
    "# plt.xlabel('TPM')\n",
    "# plt.ylabel('# of TPMs')\n",
    "# plt.title(f'Distribution of TPMs')\n",
    "\n",
    "# plt.show()\n",
    "\n",
    "# plt.hist(df_all_tpms_averaged_geo.iloc[:, 1:].to_numpy().flatten(), bins=100000, edgecolor='black')\n",
    "\n",
    "# # line_num = 200\n",
    "# # plt.axvline(x=line_num, color='red', linestyle='dashed', linewidth=0.5, label='experimental at x={}'.format(line_num))\n",
    "# # plt.legend()\n",
    "\n",
    "# plt.xlabel('TPM')\n",
    "# plt.ylabel('# of TPMs')\n",
    "# plt.title(f'Distribution of TPMs')\n",
    "\n",
    "# plt.ylim(top=50)\n",
    "\n",
    "# plt.show()"
   ]
  },
  {
   "cell_type": "code",
   "execution_count": null,
   "metadata": {},
   "outputs": [],
   "source": [
    "df_all_tpms_averaged_ari = ari_mean_df_of_duplicates(df_no_all_zeros.loc[:, all_cols])\n",
    "df_all_tpms_averaged_ari"
   ]
  },
  {
   "cell_type": "code",
   "execution_count": null,
   "metadata": {},
   "outputs": [],
   "source": [
    "df_all_tpms_averaged_ari_flattened = df_all_tpms_averaged_ari.iloc[:, 1:].to_numpy().flatten()"
   ]
  },
  {
   "cell_type": "code",
   "execution_count": null,
   "metadata": {},
   "outputs": [],
   "source": [
    "# plt.hist(df_all_tpms_averaged_ari_flattened, bins=100000, edgecolor='black')\n",
    "\n",
    "# # line_num = 200\n",
    "# # plt.axvline(x=line_num, color='red', linestyle='dashed', linewidth=0.5, label='experimental at x={}'.format(line_num))\n",
    "# # plt.legend()\n",
    "\n",
    "# plt.xlabel('TPM')\n",
    "# plt.ylabel('# of TPMs')\n",
    "# plt.title(f'Distribution of TPMs')\n",
    "\n",
    "# plt.show()\n",
    "\n",
    "# plt.hist(df_all_tpms_averaged_ari.iloc[:, 1:].to_numpy().flatten(), bins=100000, edgecolor='black')\n",
    "\n",
    "# # line_num = 200\n",
    "# # plt.axvline(x=line_num, color='red', linestyle='dashed', linewidth=0.5, label='experimental at x={}'.format(line_num))\n",
    "# # plt.legend()\n",
    "\n",
    "# plt.xlabel('TPM')\n",
    "# plt.ylabel('# of TPMs')\n",
    "# plt.title(f'Distribution of TPMs')\n",
    "\n",
    "# plt.ylim(top=50)\n",
    "\n",
    "# plt.show()"
   ]
  },
  {
   "cell_type": "markdown",
   "metadata": {},
   "source": [
    "# Check out the TPM values at different percentiles"
   ]
  },
  {
   "cell_type": "code",
   "execution_count": null,
   "metadata": {},
   "outputs": [],
   "source": [
    "print('% ALL TPMs <= 0: ', st.percentileofscore(tpms_flattened, 0, kind='weak'))\n",
    "print('% ALL TPMs == 0: ', (1 - (np.count_nonzero(tpms_flattened)/len(tpms_flattened))) * 100)\n",
    "print('TPM AT 10th PERCENTILE OF ALL TPMs: ', np.percentile(tpms_flattened, 10))\n",
    "print('TPM AT 10th PERCENTILE OF ALL TPMs W/O ZEROS: ', np.percentile(tpms_flattened[tpms_flattened != 0], 10))"
   ]
  },
  {
   "cell_type": "code",
   "execution_count": null,
   "metadata": {},
   "outputs": [],
   "source": [
    "print('% ALL TPMs <= 0: ', st.percentileofscore(df_all_tpms_averaged_geo_flattened, 0, kind='weak'))\n",
    "print('% ALL TPMs == 0: ', (1 - (np.count_nonzero(df_all_tpms_averaged_geo_flattened)/len(df_all_tpms_averaged_geo_flattened))) * 100)\n",
    "print('TPM AT 10th PERCENTILE OF ALL TPMs: ', np.percentile(df_all_tpms_averaged_geo_flattened, 10))\n",
    "print('TPM AT 10th PERCENTILE OF ALL TPMs W/O ZEROS: ', np.percentile(df_all_tpms_averaged_geo_flattened[df_all_tpms_averaged_geo_flattened != 0], 10))"
   ]
  },
  {
   "cell_type": "code",
   "execution_count": null,
   "metadata": {},
   "outputs": [],
   "source": [
    "print('% ALL TPMs <= 0: ', st.percentileofscore(df_all_tpms_averaged_ari_flattened, 0, kind='weak'))\n",
    "print('% ALL TPMs == 0: ', (1 - (np.count_nonzero(df_all_tpms_averaged_ari_flattened)/len(df_all_tpms_averaged_ari_flattened))) * 100)\n",
    "print('TPM AT 10th PERCENTILE OF ALL TPMs: ', np.percentile(df_all_tpms_averaged_ari_flattened, 10))\n",
    "print('TPM AT 10th PERCENTILE OF ALL TPMs W/O ZEROS: ', np.percentile(df_all_tpms_averaged_ari_flattened[df_all_tpms_averaged_ari_flattened != 0], 10))"
   ]
  },
  {
   "cell_type": "markdown",
   "metadata": {},
   "source": [
    "# Graphing exploration for filtering"
   ]
  },
  {
   "cell_type": "code",
   "execution_count": null,
   "metadata": {},
   "outputs": [],
   "source": [
    "satellite_ttherm_ids[: 20]"
   ]
  },
  {
   "cell_type": "code",
   "execution_count": null,
   "metadata": {},
   "outputs": [],
   "source": [
    "df_tpm_data = df_all_tpm[tpm_cols]"
   ]
  },
  {
   "cell_type": "code",
   "execution_count": null,
   "metadata": {},
   "outputs": [],
   "source": [
    "# Assuming you have your gene expression dataset loaded into a DataFrame called 'data'\n",
    "# Columns: Genes (rows), Phases (columns)\n",
    "# Rows: Genes, Expression values across phases\n",
    "\n",
    "# Plot boxplot for each phase\n",
    "plt.figure(figsize=(12, 8))\n",
    "df_tpm_data.boxplot(rot=90)\n",
    "plt.title('Expression distribution of all genes for each phase')\n",
    "plt.xlabel('Phases')\n",
    "plt.ylabel('Expression values')\n",
    "plt.tight_layout()\n",
    "plt.ylim(top=10)\n",
    "plt.ylim(bottom=-2.5)\n",
    "plt.show()\n"
   ]
  },
  {
   "cell_type": "code",
   "execution_count": null,
   "metadata": {},
   "outputs": [],
   "source": [
    "# Assuming you have your gene expression dataset loaded into a DataFrame called 'data'\n",
    "# Columns: Genes (rows), Phases (columns)\n",
    "# Rows: Genes, Expression values across phases\n",
    "\n",
    "# Step 1: Phase-specific outliers\n",
    "# Calculate expression distribution for each gene across phases\n",
    "gene_expression_distribution = df_tpm_data.describe().T  # Transpose for easier processing\n",
    "\n",
    "# Plot boxplots or histograms for each gene\n",
    "plt.figure(figsize=(10, 6))\n",
    "gene_expression_distribution.boxplot()\n",
    "plt.title('Expression distribution of each gene across phases')\n",
    "plt.xlabel('Phases')\n",
    "plt.ylabel('Expression values')\n",
    "plt.show()\n",
    "\n",
    "# Step 2: Gene-specific outliers\n",
    "# Calculate expression distribution for each phase across genes\n",
    "phase_expression_distribution = df_tpm_data.describe()\n",
    "\n",
    "# Plot boxplots or histograms for each phase\n",
    "plt.figure(figsize=(10, 6))\n",
    "phase_expression_distribution.T.boxplot()\n",
    "plt.title('Expression distribution of all genes for each phase')\n",
    "plt.xlabel('Phases')\n",
    "plt.ylabel('Expression values')\n",
    "plt.show()"
   ]
  },
  {
   "cell_type": "code",
   "execution_count": null,
   "metadata": {},
   "outputs": [],
   "source": [
    "# # Identify genes with consistently low or high expression values across phases\n",
    "# gene_outliers = []\n",
    "# for gene in data.index:\n",
    "#     if (data.loc[gene] < threshold).all() or (data.loc[gene] > threshold).all():\n",
    "#         gene_outliers.append(gene)\n",
    "\n",
    "# # Filter out genes with consistent outlier behavior\n",
    "# filtered_data = data.drop(gene_outliers, axis=0)"
   ]
  },
  {
   "cell_type": "markdown",
   "metadata": {},
   "source": [
    "# Filter out genes"
   ]
  },
  {
   "cell_type": "code",
   "execution_count": null,
   "metadata": {},
   "outputs": [],
   "source": [
    "tpm_cols"
   ]
  },
  {
   "cell_type": "code",
   "execution_count": null,
   "metadata": {},
   "outputs": [],
   "source": [
    "df_no_all_zeros['max_tpm'] = df_no_all_zeros[tpm_cols].apply(lambda x: max(x), axis=1)\n",
    "df_no_all_zeros.head()"
   ]
  },
  {
   "cell_type": "code",
   "execution_count": null,
   "metadata": {},
   "outputs": [],
   "source": [
    "TPM_THRESHOLD_PERCENTILE = 0"
   ]
  },
  {
   "cell_type": "code",
   "execution_count": null,
   "metadata": {},
   "outputs": [],
   "source": [
    "np.percentile(tpms_flattened[tpms_flattened != 0], TPM_THRESHOLD_PERCENTILE)"
   ]
  },
  {
   "cell_type": "code",
   "execution_count": null,
   "metadata": {},
   "outputs": [],
   "source": [
    "st.percentileofscore(tpms_flattened[tpms_flattened != 0], np.percentile(tpms_flattened[tpms_flattened != 0], TPM_THRESHOLD_PERCENTILE), kind='weak')"
   ]
  },
  {
   "cell_type": "code",
   "execution_count": null,
   "metadata": {},
   "outputs": [],
   "source": [
    "df_tpm_filtered = df_no_all_zeros.loc[df_no_all_zeros['max_tpm'] > np.percentile(tpms_flattened[tpms_flattened != 0], TPM_THRESHOLD_PERCENTILE)]\n",
    "df_no_all_zeros.shape, df_tpm_filtered.shape"
   ]
  },
  {
   "cell_type": "code",
   "execution_count": null,
   "metadata": {},
   "outputs": [],
   "source": [
    "df_tpm_filtered.loc[df_tpm_filtered['TTHERM_ID'].isin(target_ttherms)]"
   ]
  },
  {
   "cell_type": "code",
   "execution_count": null,
   "metadata": {},
   "outputs": [],
   "source": [
    "diff_cols"
   ]
  },
  {
   "cell_type": "code",
   "execution_count": null,
   "metadata": {},
   "outputs": [],
   "source": [
    "df_no_all_zeros['min_diff'] = df_no_all_zeros[diff_cols].apply(lambda x: np.min(x[x != 0]) if len(x[x != 0]) > 0 else 0, axis=1)\n",
    "df_no_all_zeros.head()"
   ]
  },
  {
   "cell_type": "code",
   "execution_count": null,
   "metadata": {},
   "outputs": [],
   "source": [
    "df_no_all_zeros_zero_min_diffs = df_no_all_zeros.loc[df_no_all_zeros['min_diff'] == 0].loc[:, ['TTHERM_ID']+diff_cols]\n",
    "df_no_all_zeros_zero_min_diffs.shape"
   ]
  },
  {
   "cell_type": "code",
   "execution_count": null,
   "metadata": {},
   "outputs": [],
   "source": [
    "df_no_all_zeros.loc[df_no_all_zeros['TTHERM_ID']=='YF00000043.t1'].loc[:, ['TTHERM_ID'] + diff_cols]"
   ]
  },
  {
   "cell_type": "code",
   "execution_count": null,
   "metadata": {},
   "outputs": [],
   "source": [
    "DIFF_THRESHOLD_PERCENTILE = 0"
   ]
  },
  {
   "cell_type": "code",
   "execution_count": null,
   "metadata": {},
   "outputs": [],
   "source": [
    "np.percentile(diffs_flattened[diffs_flattened != 0], DIFF_THRESHOLD_PERCENTILE)"
   ]
  },
  {
   "cell_type": "code",
   "execution_count": null,
   "metadata": {},
   "outputs": [],
   "source": [
    "st.percentileofscore(diffs_flattened[diffs_flattened != 0], np.percentile(diffs_flattened[diffs_flattened != 0], DIFF_THRESHOLD_PERCENTILE), kind='weak')"
   ]
  },
  {
   "cell_type": "code",
   "execution_count": null,
   "metadata": {},
   "outputs": [],
   "source": [
    "df_diff_filtered = df_no_all_zeros.loc[df_no_all_zeros['min_diff'] > np.percentile(diffs_flattened[diffs_flattened != 0], DIFF_THRESHOLD_PERCENTILE)]\n",
    "df_no_all_zeros.shape, df_diff_filtered.shape"
   ]
  },
  {
   "cell_type": "code",
   "execution_count": null,
   "metadata": {},
   "outputs": [],
   "source": [
    "list(np.unique(max_tpm_ttherms))"
   ]
  },
  {
   "cell_type": "code",
   "execution_count": null,
   "metadata": {},
   "outputs": [],
   "source": [
    "df_diff_filtered.loc[df_diff_filtered['TTHERM_ID'].isin(list(np.unique(max_tpm_ttherms)))]"
   ]
  },
  {
   "cell_type": "code",
   "execution_count": null,
   "metadata": {},
   "outputs": [],
   "source": [
    "df_filtered = df_diff_filtered.merge(df_tpm_filtered, how='inner', on='TTHERM_ID')\n",
    "print('# genes in df_tpm_filtered:', df_tpm_filtered.shape[0])\n",
    "print('# genes in df_diff_filtered:', df_diff_filtered.shape[0])\n",
    "print('# genes in df_filtered:', df_filtered.shape[0])"
   ]
  },
  {
   "cell_type": "code",
   "execution_count": null,
   "metadata": {},
   "outputs": [],
   "source": [
    "df_no_all_zeros.loc[df_no_all_zeros['TTHERM_ID'].isin(list(np.unique(max_tpm_ttherms)))]"
   ]
  },
  {
   "cell_type": "code",
   "execution_count": null,
   "metadata": {},
   "outputs": [],
   "source": [
    "df_filtered_diffs_flattened = df_diff_filtered.loc[:, diff_cols].to_numpy().flatten()"
   ]
  },
  {
   "cell_type": "code",
   "execution_count": null,
   "metadata": {},
   "outputs": [],
   "source": [
    "# plt.hist(df_filtered_diffs_flattened, bins=10000, edgecolor='black')\n",
    "\n",
    "# # line_num = 200\n",
    "# # plt.axvline(x=line_num, color='red', linestyle='dashed', linewidth=0.5, label='line at x={}'.format(line_num))\n",
    "# # plt.legend()\n",
    "\n",
    "# plt.xlabel('∆TPM Between Duplicates')\n",
    "# plt.ylabel('# of ∆TPMs')\n",
    "# plt.title(f'Distribution of ∆TPM Between Duplicates')\n",
    "\n",
    "# plt.show()\n",
    "\n",
    "# plt.hist(df_filtered_diffs_flattened, bins=10000, edgecolor='black')\n",
    "\n",
    "# # line_num = 200\n",
    "# # plt.axvline(x=line_num, color='red', linestyle='dashed', linewidth=0.5, label='line at x={}'.format(line_num))\n",
    "# # plt.legend()\n",
    "\n",
    "# plt.xlabel('∆TPM Between Duplicates')\n",
    "# plt.ylabel('# of ∆TPMs')\n",
    "# plt.title(f'Distribution of ∆TPM Between Duplicates')\n",
    "\n",
    "# plt.ylim(top=200)\n",
    "\n",
    "# plt.show()"
   ]
  },
  {
   "cell_type": "markdown",
   "metadata": {},
   "source": [
    "# Export the filtered TPM data to CSV"
   ]
  },
  {
   "cell_type": "markdown",
   "metadata": {},
   "source": [
    "# FILTER BY RAW COUNT SELECTION"
   ]
  },
  {
   "cell_type": "code",
   "execution_count": null,
   "metadata": {},
   "outputs": [],
   "source": [
    "df_no_all_zeros.shape, df_all_tpm.shape"
   ]
  },
  {
   "cell_type": "code",
   "execution_count": null,
   "metadata": {},
   "outputs": [],
   "source": [
    "# df_filtered = df_no_all_zeros # FIXME\n",
    "# df_filtered = df_no_all_zeros.loc[df_no_all_zeros['TTHERM_ID'].isin(complete_data_df_filtered['TTHERM_ID'].values)]\n",
    "\n",
    "df_filtered = df_all_tpm.loc[df_all_tpm['TTHERM_ID'].isin(df_all_cpm_filtered['TTHERM_ID'].values)]"
   ]
  },
  {
   "cell_type": "code",
   "execution_count": null,
   "metadata": {},
   "outputs": [],
   "source": [
    "df_filtered.shape"
   ]
  },
  {
   "cell_type": "code",
   "execution_count": null,
   "metadata": {},
   "outputs": [],
   "source": [
    "df_filtered.loc[df_filtered['TTHERM_ID'].isin(df_all_zeros['TTHERM_ID'].values)]"
   ]
  },
  {
   "cell_type": "code",
   "execution_count": null,
   "metadata": {},
   "outputs": [],
   "source": [
    "df_filtered.head()"
   ]
  },
  {
   "cell_type": "code",
   "execution_count": null,
   "metadata": {},
   "outputs": [],
   "source": [
    "df_filtered[tpm_cols].max(axis=None)"
   ]
  },
  {
   "cell_type": "code",
   "execution_count": null,
   "metadata": {},
   "outputs": [],
   "source": [
    "df_filtered.loc[:, all_cols].to_csv('./tpm_kallisto.csv', index=False)"
   ]
  },
  {
   "cell_type": "markdown",
   "metadata": {},
   "source": [
    "# Normalize expression per gene with zscore"
   ]
  },
  {
   "cell_type": "code",
   "execution_count": null,
   "metadata": {},
   "outputs": [],
   "source": [
    "# normalized_tpm_df = normalize_expression_per_gene(df_filtered)\n",
    "normalized_tpm_df = df_filtered"
   ]
  },
  {
   "cell_type": "markdown",
   "metadata": {},
   "source": [
    "Sanity check"
   ]
  },
  {
   "cell_type": "code",
   "execution_count": null,
   "metadata": {},
   "outputs": [],
   "source": [
    "row_to_check = normalized_tpm_df.loc[2, normalized_tpm_df.columns[1:]] \n",
    "\n",
    "row_mean = np.mean(row_to_check)\n",
    "row_std = np.std(row_to_check)\n",
    "\n",
    "print(row_mean)\n",
    "print(row_std)"
   ]
  },
  {
   "cell_type": "code",
   "execution_count": null,
   "metadata": {},
   "outputs": [],
   "source": [
    "normalized_tpm_df.shape"
   ]
  },
  {
   "cell_type": "code",
   "execution_count": null,
   "metadata": {},
   "outputs": [],
   "source": [
    "normalized_tpm_df"
   ]
  },
  {
   "cell_type": "markdown",
   "metadata": {},
   "source": [
    "# MEAN TYPE SELECTION"
   ]
  },
  {
   "cell_type": "code",
   "execution_count": null,
   "metadata": {},
   "outputs": [],
   "source": [
    "# df_filtered_averaged = ari_mean_df_of_duplicates(normalized_tpm_df.loc[:, all_cols])\n",
    "# df_filtered_averaged = geo_mean_df_of_duplicates(df_filtered.loc[:, all_cols])\n",
    "# df_filtered_averaged\n",
    "df_filtered_averaged = df_filtered"
   ]
  },
  {
   "cell_type": "code",
   "execution_count": null,
   "metadata": {},
   "outputs": [],
   "source": [
    "df_filtered.loc[:, all_cols]"
   ]
  },
  {
   "cell_type": "markdown",
   "metadata": {},
   "source": [
    "# Filter out genes with all zeros"
   ]
  },
  {
   "cell_type": "code",
   "execution_count": null,
   "metadata": {},
   "outputs": [],
   "source": [
    "df_filtered_averaged_with_all_zeros = df_filtered_averaged[(df_filtered_averaged.iloc[:, 1:] == 0.0).all(axis=1)]\n",
    "\n",
    "print(df_filtered_averaged_with_all_zeros.shape)\n",
    "\n",
    "df_filtered_averaged_with_all_zeros.head()"
   ]
  },
  {
   "cell_type": "code",
   "execution_count": null,
   "metadata": {},
   "outputs": [],
   "source": [
    "df_filtered_averaged_no_all_zeros = df_filtered_averaged[~df_filtered_averaged.isin(df_filtered_averaged_with_all_zeros)].dropna()\n",
    "df_filtered_averaged_no_all_zeros.reset_index()\n",
    "print(df_filtered_averaged.shape[0])\n",
    "print(df_filtered_averaged_no_all_zeros.shape[0])\n",
    "print(df_filtered_averaged.shape[0]-df_filtered_averaged_no_all_zeros.shape[0])\n",
    "df_filtered_averaged_no_all_zeros.head()"
   ]
  },
  {
   "cell_type": "code",
   "execution_count": null,
   "metadata": {},
   "outputs": [],
   "source": [
    "df_filtered_averaged_no_all_zeros[df_filtered_averaged_no_all_zeros['TTHERM_ID'].isin(satellite_ttherm_ids)]"
   ]
  },
  {
   "cell_type": "markdown",
   "metadata": {},
   "source": [
    "# SATELLITE GENE TPMS"
   ]
  },
  {
   "cell_type": "code",
   "execution_count": null,
   "metadata": {},
   "outputs": [],
   "source": [
    "(df_no_all_zeros[df_no_all_zeros['TTHERM_ID'].isin(satellite_ttherm_ids)])[all_cols]"
   ]
  },
  {
   "cell_type": "code",
   "execution_count": null,
   "metadata": {},
   "outputs": [],
   "source": [
    "df_filtered_averaged_no_all_zeros"
   ]
  },
  {
   "cell_type": "code",
   "execution_count": null,
   "metadata": {},
   "outputs": [],
   "source": [
    "df_filtered_averaged_no_all_zeros[df_filtered_averaged_no_all_zeros.isna().any(axis=1)]"
   ]
  },
  {
   "cell_type": "code",
   "execution_count": null,
   "metadata": {},
   "outputs": [],
   "source": [
    "df_filtered_averaged_no_all_zeros.sample(10)"
   ]
  },
  {
   "cell_type": "code",
   "execution_count": null,
   "metadata": {},
   "outputs": [],
   "source": [
    "df_filtered_averaged_no_all_zeros.to_csv('./kallisto.csv', index=False)"
   ]
  }
 ],
 "metadata": {
  "kernelspec": {
   "display_name": "Python 3",
   "language": "python",
   "name": "python3"
  },
  "language_info": {
   "codemirror_mode": {
    "name": "ipython",
    "version": 3
   },
   "file_extension": ".py",
   "mimetype": "text/x-python",
   "name": "python",
   "nbconvert_exporter": "python",
   "pygments_lexer": "ipython3",
   "version": "3.11.6"
  }
 },
 "nbformat": 4,
 "nbformat_minor": 2
}

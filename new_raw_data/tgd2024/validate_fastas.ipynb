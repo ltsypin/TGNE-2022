{
 "cells": [
  {
   "cell_type": "code",
   "execution_count": 1,
   "metadata": {},
   "outputs": [],
   "source": [
    "from Bio import SeqIO\n",
    "from glob import glob"
   ]
  },
  {
   "cell_type": "code",
   "execution_count": 2,
   "metadata": {},
   "outputs": [],
   "source": [
    "fasta_files = glob('./*.fasta')"
   ]
  },
  {
   "cell_type": "code",
   "execution_count": 3,
   "metadata": {},
   "outputs": [],
   "source": [
    "def validate_fasta(file_path):\n",
    "    try:\n",
    "        SeqIO.parse(file_path, \"fasta\")\n",
    "        print(f\"{file_path} is a valid FASTA file.\")\n",
    "    except Exception as e:\n",
    "        print(f\"Error validating {file_path}: {e}\")"
   ]
  },
  {
   "cell_type": "code",
   "execution_count": 4,
   "metadata": {},
   "outputs": [
    {
     "name": "stdout",
     "output_type": "stream",
     "text": [
      "./1-upd-Genome-assembly.fasta is a valid FASTA file.\n",
      "./Manual_check-total-gene.gff3_Right_UTR.gff3_cds.fasta is a valid FASTA file.\n",
      "./Manual_check-total-gene.gff3_Right_UTR.gff3_exon.fasta is a valid FASTA file.\n",
      "./Manual_check-total-gene.gff3_Right_UTR.gff3_pep.fasta is a valid FASTA file.\n"
     ]
    }
   ],
   "source": [
    "for fasta_file in fasta_files:\n",
    "    validate_fasta(fasta_file)"
   ]
  }
 ],
 "metadata": {
  "kernelspec": {
   "display_name": "debug_tgne.env",
   "language": "python",
   "name": "python3"
  },
  "language_info": {
   "codemirror_mode": {
    "name": "ipython",
    "version": 3
   },
   "file_extension": ".py",
   "mimetype": "text/x-python",
   "name": "python",
   "nbconvert_exporter": "python",
   "pygments_lexer": "ipython3",
   "version": "3.11.6"
  }
 },
 "nbformat": 4,
 "nbformat_minor": 2
}

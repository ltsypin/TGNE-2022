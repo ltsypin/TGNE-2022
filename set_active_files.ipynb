{
 "cells": [
  {
   "cell_type": "code",
   "execution_count": 1,
   "metadata": {},
   "outputs": [],
   "source": [
    "from Bio import SeqIO\n",
    "import pandas as pd \n",
    "from glob import glob\n",
    "import shutil\n",
    "import os"
   ]
  },
  {
   "cell_type": "code",
   "execution_count": 2,
   "metadata": {},
   "outputs": [],
   "source": [
    "GENE_MODEL_SETTINGS = {\n",
    "    'gene_model': 2024, # 2021 or 2024 (2024 WILL ALWAYS BE USED FOR RNA-seq)\n",
    "    'translate_gene_names_to_ttherm_ids': False # (unused if 'gene_model': 2021)\n",
    "}"
   ]
  },
  {
   "cell_type": "code",
   "execution_count": 3,
   "metadata": {},
   "outputs": [],
   "source": [
    "if GENE_MODEL_SETTINGS['gene_model'] == 2024:\n",
    "\n",
    "    with open('./new_raw_data/tgd2024/Manual_check-total-gene.gff3_Right_UTR.gff3_cds.fasta', 'r') as f:\n",
    "        cds_records = list(SeqIO.parse(f, 'fasta'))\n",
    "\n",
    "    with open('./new_raw_data/tgd2024/Manual_check-total-gene.gff3_Right_UTR.gff3_pep.fasta', 'r') as f:\n",
    "        pep_records = list(SeqIO.parse(f, 'fasta'))\n",
    "\n",
    "    rna_seq = pd.read_csv('./new_raw_data/rna_seq_processed/kallisto.csv')\n",
    "\n",
    "    annotations = pd.read_csv('./TGNE/eggnog/2024_none_eggnog_compiled.annotations', comment='#', delimiter='\\t')\n",
    "\n",
    "    annotation_desc_paths = glob('./TGNE/enrichment/2024/*.csv')\n",
    "\n",
    "    if GENE_MODEL_SETTINGS['translate_gene_names_to_ttherm_ids']:\n",
    "\n",
    "        df_y_to_ttherm = pd.read_csv('./new_raw_data/tgd2024/yf_ttherm_mapping_feb2024.csv')\n",
    "        dict_y_to_ttherm = {yf: ttherm for yf, ttherm in zip(df_y_to_ttherm['yf2024'].values, df_y_to_ttherm['ttherm2021'].values)}\n",
    "\n",
    "        for idx, r in enumerate(cds_records):\n",
    "            if (r.id).replace('.t1', '') in dict_y_to_ttherm:\n",
    "                r.id = dict_y_to_ttherm[(r.id).replace('.t1', '')]\n",
    "\n",
    "        with open('./new_raw_data/Tthermophila_MAC_protein_2021.fasta', 'r') as f:\n",
    "            pep_records_2021 = list(SeqIO.parse(f, 'fasta'))\n",
    "\n",
    "        dict_pep_records_2021 = {r.id: r for r in pep_records_2021}\n",
    "\n",
    "        for idx, r in enumerate(pep_records):\n",
    "            if (r.id).replace('.t1', '') in dict_y_to_ttherm:\n",
    "                r.id = dict_y_to_ttherm[(r.id).replace('.t1', '')]\n",
    "                r.description = dict_pep_records_2021[r.id].description\n",
    "\n",
    "        annotations['query'] = [yfid if yfid.replace('.t1', '') not in dict_y_to_ttherm else dict_y_to_ttherm[yfid.replace('.t1', '')] for yfid in annotations['query'].values]\n",
    "\n",
    "        rna_seq['TTHERM_ID'] = [yfid if yfid.replace('.t1', '') not in dict_y_to_ttherm else dict_y_to_ttherm[yfid.replace('.t1', '')] for yfid in rna_seq['TTHERM_ID'].values]"
   ]
  },
  {
   "cell_type": "code",
   "execution_count": 4,
   "metadata": {},
   "outputs": [],
   "source": [
    "if GENE_MODEL_SETTINGS['gene_model'] == 2021:\n",
    "\n",
    "    with open('./new_raw_data/Tthermophila_MAC_CDS_2021.fasta', 'r') as f:\n",
    "        cds_records = list(SeqIO.parse(f, 'fasta'))\n",
    "\n",
    "    with open('./new_raw_data/Tthermophila_MAC_protein_2021.fasta', 'r') as f:\n",
    "        pep_records = list(SeqIO.parse(f, 'fasta'))\n",
    "\n",
    "    annotations = pd.read_csv('./TGNE/eggnog/2021_none_eggnog_compiled.annotations', comment='#', delimiter='\\t')\n",
    "\n",
    "    annotation_desc_paths = glob('./TGNE/enrichment/2021/*.csv')"
   ]
  },
  {
   "cell_type": "code",
   "execution_count": 5,
   "metadata": {},
   "outputs": [
    {
     "data": {
      "text/plain": [
       "25987"
      ]
     },
     "execution_count": 5,
     "metadata": {},
     "output_type": "execute_result"
    }
   ],
   "source": [
    "SeqIO.write(cds_records, './active_fastas/cds.fasta', 'fasta')"
   ]
  },
  {
   "cell_type": "code",
   "execution_count": 6,
   "metadata": {},
   "outputs": [
    {
     "data": {
      "text/plain": [
       "25987"
      ]
     },
     "execution_count": 6,
     "metadata": {},
     "output_type": "execute_result"
    }
   ],
   "source": [
    "SeqIO.write(pep_records, './active_fastas/pep.fasta', 'fasta')"
   ]
  },
  {
   "cell_type": "code",
   "execution_count": 7,
   "metadata": {},
   "outputs": [],
   "source": [
    "rna_seq.to_csv('./active_fastas/rna_seq.csv', index=False)"
   ]
  },
  {
   "cell_type": "code",
   "execution_count": 8,
   "metadata": {},
   "outputs": [],
   "source": [
    "annotations.to_csv('./active_fastas/annotations.csv', index=False)"
   ]
  },
  {
   "cell_type": "code",
   "execution_count": 9,
   "metadata": {},
   "outputs": [],
   "source": [
    "destination_dir = './active_fastas/'\n",
    "\n",
    "for path in annotation_desc_paths:\n",
    "    destination_path = os.path.join(destination_dir, os.path.basename(path))\n",
    "    shutil.copy(path, destination_path)"
   ]
  },
  {
   "cell_type": "markdown",
   "metadata": {},
   "source": [
    "# QUICK ID TRANSLATION"
   ]
  },
  {
   "cell_type": "code",
   "execution_count": 10,
   "metadata": {},
   "outputs": [],
   "source": [
    "df_y_to_ttherm = pd.read_csv('./new_raw_data/tgd2024/yf_ttherm_mapping_feb2024.csv')\n",
    "dict_y_to_ttherm = {yf: ttherm for yf, ttherm in zip(df_y_to_ttherm['yf2024'].values, df_y_to_ttherm['ttherm2021'].values)}\n",
    "dict_ttherm_to_y = {ttherm: yf for yf, ttherm in zip(df_y_to_ttherm['yf2024'].values, df_y_to_ttherm['ttherm2021'].values)}"
   ]
  },
  {
   "cell_type": "code",
   "execution_count": 11,
   "metadata": {},
   "outputs": [
    {
     "name": "stdout",
     "output_type": "stream",
     "text": [
      "YF00024749, YF00036313, YF00005803, YF00003933, YF00013821\n"
     ]
    }
   ],
   "source": [
    "translate_ttherms = [\n",
    "'TTHERM_01055600', \n",
    "'TTHERM_01002870', \n",
    "'TTHERM_01002860', \n",
    "'TTHERM_00630470', \n",
    "'TTHERM_00624730', \n",
    "'TTHERM_00624720', \n",
    "'TTHERM_00527180', \n",
    "'TTHERM_00522600', \n",
    "'TTHERM_00378890', \n",
    "'TTHERM_00335830', \n",
    "'TTHERM_00221120',\n",
    "]\n",
    "\n",
    "print(', '.join([dict_ttherm_to_y[id] for id in translate_ttherms if id in dict_ttherm_to_y]))"
   ]
  },
  {
   "cell_type": "code",
   "execution_count": 12,
   "metadata": {},
   "outputs": [
    {
     "name": "stdout",
     "output_type": "stream",
     "text": [
      "YF00002277, YF00018466, YF00019887\n"
     ]
    }
   ],
   "source": [
    "translate_ttherms = [\n",
    "'TTHERM_00420610', \n",
    "'TTHERM_00410210', \n",
    "'TTHERM_00313130', \n",
    "'TTHERM_00467390',\n",
    "]\n",
    "\n",
    "print(', '.join([dict_ttherm_to_y[id] for id in translate_ttherms if id in dict_ttherm_to_y]))"
   ]
  },
  {
   "cell_type": "code",
   "execution_count": 13,
   "metadata": {},
   "outputs": [
    {
     "name": "stdout",
     "output_type": "stream",
     "text": [
      "YF00024749, YF00036313, YF00005803, YF00003933, YF00013821\n",
      "TTHERM_01055600, TTHERM_00630470, TTHERM_00624720, TTHERM_00527180, TTHERM_00335830\n"
     ]
    }
   ],
   "source": [
    "# mycocysts\n",
    "translate_ttherms = [\n",
    "\"TTHERM_01055600\", \"TTHERM_01002870\", \"TTHERM_01002860\", \"TTHERM_00630470\", \"TTHERM_00624730\", \"TTHERM_00624720\", \"TTHERM_00527180\", \"TTHERM_00522600\", \"TTHERM_00378890\", \"TTHERM_00335830\", \"TTHERM_00221120\"\n",
    "]\n",
    "\n",
    "print(', '.join([dict_ttherm_to_y[id] for id in translate_ttherms if id in dict_ttherm_to_y]))\n",
    "\n",
    "muco = ['YF00024749', 'YF00036313', 'YF00005803', 'YF00003933', 'YF00013821']\n",
    "\n",
    "print(', '.join([dict_y_to_ttherm[id] for id in muco if id in dict_y_to_ttherm]))"
   ]
  },
  {
   "cell_type": "code",
   "execution_count": 14,
   "metadata": {},
   "outputs": [
    {
     "name": "stdout",
     "output_type": "stream",
     "text": [
      "YF00005517\n"
     ]
    }
   ],
   "source": [
    "# (HH2A.1, HH2A.2, HH2B.1, HH2B.2, HH3, HH4.1, and HH4.2)\n",
    "translate_ttherms = [\n",
    "\"TTHERM_00189170\", \"TTHERM_00143660\", \"TTHERM_00633360\", \"THERM_00283180\", \n",
    "]\n",
    "\n",
    "print(', '.join([dict_ttherm_to_y[id] for id in translate_ttherms if id in dict_ttherm_to_y]))"
   ]
  },
  {
   "cell_type": "code",
   "execution_count": 15,
   "metadata": {},
   "outputs": [
    {
     "name": "stdout",
     "output_type": "stream",
     "text": [
      "YF00023687, YF00007642, YF00028933\n"
     ]
    }
   ],
   "source": [
    "# (Figure 3A; CPD1, CPD2, and CPG3 and SMC2 and SMC4).\n",
    "translate_ttherms = [\n",
    "\"TTHERM_00486070\", \"TTHERM_00392760\", \"TTHERM_00919690\", \"TTHERM_00812950\", \"TTHERM_0044640\", \n",
    "]\n",
    "\n",
    "print(', '.join([dict_ttherm_to_y[id] for id in translate_ttherms if id in dict_ttherm_to_y]))"
   ]
  },
  {
   "cell_type": "code",
   "execution_count": 16,
   "metadata": {},
   "outputs": [
    {
     "name": "stdout",
     "output_type": "stream",
     "text": [
      "YF00006914, YF00023330\n"
     ]
    }
   ],
   "source": [
    "# cyclin D family members, CYC4, CYC13, and CYC25\n",
    "translate_ttherms = [\n",
    "\"TTHERM_01043080\", \"TTHERM_01128530\", \"TTHERM_00717540\",\n",
    "]\n",
    "\n",
    "print(', '.join([dict_ttherm_to_y[id] for id in translate_ttherms if id in dict_ttherm_to_y]))"
   ]
  },
  {
   "cell_type": "code",
   "execution_count": 17,
   "metadata": {},
   "outputs": [
    {
     "name": "stdout",
     "output_type": "stream",
     "text": [
      "YF00036972, YF00010860, YF00003848, YF00004376, YF00023330, YF00018120, YF00008997, YF00023552, YF00004862, YF00027870, YF00027031, YF00005775, YF00007755, YF00035784, YF00035293, YF00013340, YF00026392, YF00029711, YF00025382, YF00015327, YF00024034, YF00034044, YF00017344, YF00001614, YF00006914, YF00030911, YF00017795, YF00001684, YF00024727, YF00004649\n"
     ]
    }
   ],
   "source": [
    "# all cyclins\n",
    "translate_ttherms = [\n",
    "'TTHERM_00196590',\n",
    "'TTHERM_00433390',\n",
    "'TTHERM_00526250',\n",
    "'TTHERM_00962160',\n",
    "'TTHERM_01128530',\n",
    "'TTHERM_00189230',\n",
    "'TTHERM_00425970',\n",
    "'TTHERM_00780580',\n",
    "'TTHERM_00693080',\n",
    "'TTHERM_00827080',\n",
    "'TTHERM_00698650',\n",
    "'TTHERM_00079530',\n",
    "'TTHERM_00624450',\n",
    "'TTHERM_00784350',\n",
    "'TTHERM_00933270',\n",
    "'TTHERM_00732460',\n",
    "'TTHERM_00842480',\n",
    "'TTHERM_00717540',\n",
    "'TTHERM_00066840',\n",
    "'TTHERM_000576939',\n",
    "'TTHERM_00082190',\n",
    "'TTHERM_00649450',\n",
    "'TTHERM_00180970',\n",
    "'TTHERM_00726380',\n",
    "'TTHERM_00013060',\n",
    "'TTHERM_00049420',\n",
    "'TTHERM_00294860',\n",
    "'TTHERM_00535270',\n",
    "'TTHERM_01043080',\n",
    "'TTHERM_00192000',\n",
    "'TTHERM_00194440',\n",
    "'TTHERM_00293270',\n",
    "'TTHERM_00332170',\n",
    "'TTHERM_00940290',\n",
    "]\n",
    "\n",
    "print(', '.join([dict_ttherm_to_y[id] for id in translate_ttherms if id in dict_ttherm_to_y]))"
   ]
  },
  {
   "cell_type": "code",
   "execution_count": 18,
   "metadata": {},
   "outputs": [
    {
     "name": "stdout",
     "output_type": "stream",
     "text": [
      "YF00036972, YF00008997, YF00005775, YF00013340, YF00017795, YF00024727\n"
     ]
    }
   ],
   "source": [
    "cyc_subset = [\n",
    "'TTHERM_00196590', # CYC1 \n",
    "'TTHERM_00425970', # CYC15\n",
    "'TTHERM_00624450', # CYC20\n",
    "'TTHERM_00842480', # CYC24\n",
    "'TTHERM_00194440', # CYC6\n",
    "'TTHERM_00332170', # CYC8\n",
    "]\n",
    "\n",
    "print(', '.join([dict_ttherm_to_y[id] for id in cyc_subset if id in dict_ttherm_to_y]))"
   ]
  },
  {
   "cell_type": "code",
   "execution_count": 19,
   "metadata": {},
   "outputs": [
    {
     "name": "stdout",
     "output_type": "stream",
     "text": [
      "YF00018405, YF00020828, YF00022663, YF00026883, YF00007567, YF00023257, YF00005758, YF00026390, YF00007765, YF00013716, YF00027327, YF00024788, YF00009986, YF00021147, YF00015028, YF00013233, YF00011258, YF00015418, YF00033310\n"
     ]
    }
   ],
   "source": [
    "all_cdks = [\n",
    "'TTHERM_00411810', #\tCDK1\n",
    "'TTHERM_00318700', #\tCDK10\n",
    "'TTHERM_00576780', #\tCDK11\n",
    "'TTHERM_00267860', #\tCDK13\n",
    "'TTHERM_00394590', #\tCDK14\n",
    "'TTHERM_01035490', #\tCDK15\n",
    "'TTHERM_00624260', #\tCDK16\n",
    "'TTHERM_00066860', #\tCDK17\n",
    "'TTHERM_00784290', #\tCDK18\n",
    "'TTHERM_00339880', #\tCDK19\n",
    "'TTHERM_01347900', #\tCDK20\n",
    "'TTHERM_000837979', #\tCDK21\n",
    "'TTHERM_000937671', #\tCDK22\n",
    "'TTHERM_00011670', #\tCDK3\n",
    "'TTHERM_00286770', #\tCDK4\n",
    "'TTHERM_01080600', #\tCDK5\n",
    "'TTHERM_00837980', #\tCDK6\n",
    "'TTHERM_00133750', #\tCDK7\n",
    "'TTHERM_00717780', #\tCDK8\n",
    "'TTHERM_00185770', #\tCDK9\n",
    "'TTHERM_00483640', #\tTCDK3\n",
    "]\n",
    "\n",
    "print(', '.join([dict_ttherm_to_y[id] for id in all_cdks if id in dict_ttherm_to_y]))"
   ]
  },
  {
   "cell_type": "code",
   "execution_count": 20,
   "metadata": {},
   "outputs": [
    {
     "name": "stdout",
     "output_type": "stream",
     "text": [
      "YF00036905, YF00001188, YF00019785, YF00005644, YF00009135, YF00006092, YF00000878, YF00016962, YF00012869, YF00022560, YF00009402, YF00035666\n"
     ]
    }
   ],
   "source": [
    "nucleic_acid_metabolic_process = [\n",
    "'TTHERM_00046490',\n",
    "'TTHERM_00535470',\n",
    "'TTHERM_00312260',\n",
    "'TTHERM_01079170',\n",
    "'TTHERM_000378989',\n",
    "'TTHERM_00825460',\n",
    "'TTHERM_00298220',\n",
    "'TTHERM_00684490',\n",
    "'TTHERM_00433640',\n",
    "'TTHERM_00787360',\n",
    "'TTHERM_00112560',\n",
    "'TTHERM_00561799',\n",
    "'TTHERM_00723610',\n",
    "'TTHERM_00794250',\n",
    "]\n",
    "\n",
    "print(', '.join([dict_ttherm_to_y[id] for id in nucleic_acid_metabolic_process if id in dict_ttherm_to_y]))"
   ]
  },
  {
   "cell_type": "code",
   "execution_count": 21,
   "metadata": {},
   "outputs": [
    {
     "name": "stdout",
     "output_type": "stream",
     "text": [
      "YF00009135, YF00022560, YF00009402\n"
     ]
    }
   ],
   "source": [
    "telomere_maintenance = [\n",
    "'TTHERM_000378989',\n",
    "'TTHERM_00433640',\n",
    "'TTHERM_00112560',\n",
    "'TTHERM_00561799',\n",
    "]\n",
    "\n",
    "print(', '.join([dict_ttherm_to_y[id] for id in telomere_maintenance if id in dict_ttherm_to_y]))"
   ]
  },
  {
   "cell_type": "code",
   "execution_count": 22,
   "metadata": {},
   "outputs": [
    {
     "name": "stdout",
     "output_type": "stream",
     "text": [
      "YF00023687, YF00037605, YF00021217, YF00012182, YF00022431, YF00027032, YF00036905, YF00035777, YF00018207, YF00007595, YF00036580, YF00024470\n"
     ]
    }
   ],
   "source": [
    "# DECENT\n",
    "mitotic_nuclear_division = [\n",
    "'TTHERM_00486070',\n",
    "'TTHERM_00919690',\n",
    "'TTHERM_00728870',\n",
    "'TTHERM_00540340',\n",
    "'TTHERM_00554600',\n",
    "'TTHERM_01299730',\n",
    "'TTHERM_00118700',\n",
    "'TTHERM_00079520',\n",
    "'TTHERM_00046490',\n",
    "'TTHERM_00624870',\n",
    "'TTHERM_000191179',\n",
    "'TTHERM_00393260',\n",
    "'TTHERM_00444760',\n",
    "'TTHERM_00498210',\n",
    "]\n",
    "\n",
    "print(', '.join([dict_ttherm_to_y[id] for id in mitotic_nuclear_division if id in dict_ttherm_to_y]))"
   ]
  },
  {
   "cell_type": "code",
   "execution_count": 23,
   "metadata": {},
   "outputs": [
    {
     "name": "stdout",
     "output_type": "stream",
     "text": [
      "YF00023687, YF00037605, YF00021217, YF00012182, YF00022431, YF00027032, YF00036905, YF00035777, YF00018207, YF00007595, YF00036580, YF00024470\n"
     ]
    }
   ],
   "source": [
    "mitotic_cell_cycle = [\n",
    "'TTHERM_00486070',\n",
    "'TTHERM_00919690',\n",
    "'TTHERM_00728870',\n",
    "'TTHERM_00540340',\n",
    "'TTHERM_00554600',\n",
    "'TTHERM_01299730',\n",
    "'TTHERM_00118700',\n",
    "'TTHERM_00079520',\n",
    "'TTHERM_00046490',\n",
    "'TTHERM_00624870',\n",
    "'TTHERM_000191179',\n",
    "'TTHERM_00393260',\n",
    "'TTHERM_00444760',\n",
    "'TTHERM_00498210',\n",
    "]\n",
    "\n",
    "print(', '.join([dict_ttherm_to_y[id] for id in mitotic_cell_cycle if id in dict_ttherm_to_y]))"
   ]
  },
  {
   "cell_type": "code",
   "execution_count": 24,
   "metadata": {},
   "outputs": [
    {
     "name": "stdout",
     "output_type": "stream",
     "text": [
      "YF00018670, YF00000554, YF00023687, YF00037605, YF00021217, YF00012182, YF00005517, YF00020953, YF00007595, YF00036580, YF00024270, YF00009135, YF00024033, YF00016962, YF00012869, YF00022560, YF00009402\n"
     ]
    }
   ],
   "source": [
    "chromosome_organization = [\n",
    "'TTHERM_00088010',\n",
    "'TTHERM_00307700',\n",
    "'TTHERM_00486070',\n",
    "'TTHERM_00919690',\n",
    "'TTHERM_00728870',\n",
    "'TTHERM_00540340',\n",
    "'TTHERM_00554600',\n",
    "'TTHERM_01299730',\n",
    "'TTHERM_00189170',\n",
    "'TTHERM_00790790',\n",
    "'TTHERM_00316500',\n",
    "'TTHERM_00143660',\n",
    "'TTHERM_00633360',\n",
    "'TTHERM_00283180',\n",
    "'TTHERM_00316410',\n",
    "'TTHERM_00393260',\n",
    "'TTHERM_00444760',\n",
    "'TTHERM_00455130',\n",
    "'TTHERM_000378989',\n",
    "'TTHERM_00726370',\n",
    "'TTHERM_00684490',\n",
    "'TTHERM_00433640',\n",
    "'TTHERM_00787360',\n",
    "'TTHERM_00112560',\n",
    "'TTHERM_00561799',\n",
    "]\n",
    "\n",
    "print(', '.join([dict_ttherm_to_y[id] for id in chromosome_organization if id in dict_ttherm_to_y]))"
   ]
  },
  {
   "cell_type": "code",
   "execution_count": 25,
   "metadata": {},
   "outputs": [
    {
     "name": "stdout",
     "output_type": "stream",
     "text": [
      "YF00000554, YF00036905, YF00035777, YF00018207, YF00019785, YF00020953, YF00028517, YF00005644, YF00036628, YF00024250, YF00006092, YF00024033, YF00005557, YF00016962, YF00009402, YF00035666, YF00035593, YF00006854, YF00016312\n"
     ]
    }
   ],
   "source": [
    "DNA_repair = [\n",
    "'TTHERM_00307700',\n",
    "'TTHERM_00046490',\n",
    "'TTHERM_00624870',\n",
    "'TTHERM_000191179',\n",
    "'TTHERM_00312260',\n",
    "'TTHERM_00316410',\n",
    "'TTHERM_00439320',\n",
    "'TTHERM_01050440',\n",
    "'TTHERM_01079170',\n",
    "'TTHERM_01106120',\n",
    "'TTHERM_00726470',\n",
    "'TTHERM_00455309',\n",
    "'TTHERM_00825460',\n",
    "'TTHERM_00726370',\n",
    "'TTHERM_00142290',\n",
    "'TTHERM_00684490',\n",
    "'TTHERM_00433640',\n",
    "'TTHERM_00561799',\n",
    "'TTHERM_00723610',\n",
    "'TTHERM_00888060',\n",
    "'TTHERM_00864890',\n",
    "'TTHERM_00829440',\n",
    "'TTHERM_00794250',\n",
    "]\n",
    "\n",
    "print(', '.join([dict_ttherm_to_y[id] for id in DNA_repair if id in dict_ttherm_to_y]))"
   ]
  },
  {
   "cell_type": "code",
   "execution_count": 26,
   "metadata": {},
   "outputs": [
    {
     "name": "stdout",
     "output_type": "stream",
     "text": [
      "\n"
     ]
    }
   ],
   "source": [
    "microtubule_cytoskeleton_organi = [\n",
    "'TTHERM_00335970'\n",
    "'TTHERM_00426160'\n",
    "'TTHERM_01220340'\n",
    "'TTHERM_00522990'\n",
    "'TTHERM_00338260'\n",
    "'TTHERM_000727749'\n",
    "'TTHERM_000123789'\n",
    "'TTHERM_000161298'\n",
    "'TTHERM_00030040'\n",
    "'TTHERM_000357129'\n",
    "'TTHERM_00046500'\n",
    "'TTHERM_000488189'\n",
    "'TTHERM_000706399'\n",
    "'TTHERM_00088040'\n",
    "'TTHERM_00133700'\n",
    "'TTHERM_00266668'\n",
    "'TTHERM_00346790'\n",
    "'TTHERM_00452020'\n",
    "'TTHERM_00493000'\n",
    "'TTHERM_00755750'\n",
    "'TTHERM_00842510'\n",
    "'TTHERM_00992710'\n",
    "]\n",
    "\n",
    "print(', '.join([dict_ttherm_to_y[id] for id in microtubule_cytoskeleton_organi if id in dict_ttherm_to_y]))"
   ]
  },
  {
   "cell_type": "code",
   "execution_count": 27,
   "metadata": {},
   "outputs": [
    {
     "name": "stdout",
     "output_type": "stream",
     "text": [
      "YF00012156, YF00018584, YF00026324, YF00025215, YF00009981, YF00003565, YF00003115, YF00035370\n"
     ]
    }
   ],
   "source": [
    "# all MCMs\n",
    "translate_ttherms = [\n",
    "'TTHERM_00554270',\n",
    "'TTHERM_00092850',\n",
    "'TTHERM_00277550',\n",
    "'TTHERM_00069420',\n",
    "'TTHERM_00448570',\n",
    "'TTHERM_00011740',\n",
    "'TTHERM_01031060',\n",
    "'TTHERM_00703910',\n",
    "'TTHERM_01207610',\n",
    "]\n",
    "\n",
    "print(', '.join([dict_ttherm_to_y[id] for id in translate_ttherms if id in dict_ttherm_to_y]))"
   ]
  },
  {
   "cell_type": "code",
   "execution_count": null,
   "metadata": {},
   "outputs": [],
   "source": []
  },
  {
   "cell_type": "code",
   "execution_count": 28,
   "metadata": {},
   "outputs": [
    {
     "name": "stdout",
     "output_type": "stream",
     "text": [
      "YF00005517, YF00005647, YF00018904, YF00023412, YF00014174, YF00017547\n"
     ]
    }
   ],
   "source": [
    "histones = ['TTHERM_00146340', 'TTHERM_00446570', 'TTHERM_00498190', 'TTHERM_00189170', 'TTHERM_00189180', 'TTHERM_00016170', 'TTHERM_00016200', 'TTHERM_00790790', 'TTHERM_00316500', 'TTHERM_00143660', 'TTHERM_01079200', 'TTHERM_00633360', 'TTHERM_00283180', 'TTHERM_00354710', 'TTHERM_00474790', 'TTHERM_00852840', 'TTHERM_01194650']\n",
    "print(', '.join([dict_ttherm_to_y[id] for id in histones if id in dict_ttherm_to_y]))"
   ]
  },
  {
   "cell_type": "code",
   "execution_count": null,
   "metadata": {},
   "outputs": [],
   "source": []
  },
  {
   "cell_type": "code",
   "execution_count": 29,
   "metadata": {},
   "outputs": [
    {
     "name": "stdout",
     "output_type": "stream",
     "text": [
      "TTHERM_00069420, TTHERM_00448570, TTHERM_00092850, TTHERM_00554270\n"
     ]
    }
   ],
   "source": [
    "MCMs = ['YF00026324.1', 'YF00025215.1', 'YF00018584.1', 'YF00012156.1']\n",
    "# YF00026324, YF00025215, YF00018584, YF00012156\n",
    "# MCM5, MCM6, MCM3, MCM2\n",
    "\n",
    "print(', '.join([dict_y_to_ttherm[id[:len(id) - 2]] for id in MCMs if id[:len(id) - 2] in dict_y_to_ttherm]))"
   ]
  },
  {
   "cell_type": "code",
   "execution_count": 30,
   "metadata": {},
   "outputs": [
    {
     "name": "stdout",
     "output_type": "stream",
     "text": [
      "\n"
     ]
    }
   ],
   "source": [
    "isolated = [\n",
    "'YF00022177',\n",
    "'YF00021470',\n",
    "'YF00015074',\n",
    "'YF00010747',\n",
    "'YF00010396',\n",
    "'YF00003723',\n",
    "]\n",
    "\n",
    "print(', '.join([dict_y_to_ttherm[id] for id in isolated if id in dict_y_to_ttherm]))"
   ]
  },
  {
   "cell_type": "code",
   "execution_count": 31,
   "metadata": {},
   "outputs": [
    {
     "name": "stdout",
     "output_type": "stream",
     "text": [
      "TTHERM_00630470\n"
     ]
    }
   ],
   "source": [
    "muco = ['YF00036313']\n",
    "\n",
    "print(', '.join([dict_y_to_ttherm[id] for id in muco if id in dict_y_to_ttherm]))"
   ]
  },
  {
   "cell_type": "code",
   "execution_count": 32,
   "metadata": {},
   "outputs": [],
   "source": [
    "mucocyst_cluster = [\n",
    "'YF00036312.t1',\n",
    "'YF00012829.t1',\n",
    "'YF00000889.t1',\n",
    "'TTHERM_00527180',\n",
    "'TTHERM_00335830',\n",
    "'YF00012830.t1',\n",
    "'YF00009126.t1',\n",
    "'YF00005954.t1',\n",
    "'YF00005804.t1',\n",
    "'TTHERM_01055600',\n",
    "'TTHERM_00624720',\n",
    "] # TTHERM_00630470: mucocyst gene with drastically different expression profile\n",
    "\n"
   ]
  }
 ],
 "metadata": {
  "kernelspec": {
   "display_name": "Python 3",
   "language": "python",
   "name": "python3"
  },
  "language_info": {
   "codemirror_mode": {
    "name": "ipython",
    "version": 3
   },
   "file_extension": ".py",
   "mimetype": "text/x-python",
   "name": "python",
   "nbconvert_exporter": "python",
   "pygments_lexer": "ipython3",
   "version": "3.9.9"
  }
 },
 "nbformat": 4,
 "nbformat_minor": 2
}

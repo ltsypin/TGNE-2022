{
 "cells": [
  {
   "cell_type": "code",
   "execution_count": 1,
   "metadata": {},
   "outputs": [],
   "source": [
    "from Bio import SeqIO\n",
    "import pandas as pd \n",
    "from glob import glob\n",
    "import shutil\n",
    "import os"
   ]
  },
  {
   "cell_type": "code",
   "execution_count": 2,
   "metadata": {},
   "outputs": [],
   "source": [
    "GENE_MODEL_SETTINGS = {\n",
    "    'gene_model': 2024, # 2021 or 2024\n",
    "    'translate_gene_names_to_ttherm_ids': False # unused if 'gene_model': 2021\n",
    "}"
   ]
  },
  {
   "cell_type": "code",
   "execution_count": 3,
   "metadata": {},
   "outputs": [],
   "source": [
    "if GENE_MODEL_SETTINGS['gene_model'] == 2024:\n",
    "\n",
    "    with open('./new_raw_data/tgd2024/Manual_check-total-gene.gff3_Right_UTR.gff3_cds.fasta', 'r') as f:\n",
    "        cds_records = list(SeqIO.parse(f, 'fasta'))\n",
    "\n",
    "    with open('./new_raw_data/tgd2024/Manual_check-total-gene.gff3_Right_UTR.gff3_pep.fasta', 'r') as f:\n",
    "        pep_records = list(SeqIO.parse(f, 'fasta'))\n",
    "\n",
    "    annotations = pd.read_csv('./TGNE/eggnog/2024_none_eggnog_compiled.annotations', comment='#', delimiter='\\t')\n",
    "\n",
    "    annotation_desc_paths = glob('./TGNE/enrichment/2024/*.csv')\n",
    "\n",
    "    if GENE_MODEL_SETTINGS['translate_gene_names_to_ttherm_ids']:\n",
    "\n",
    "        df_y_to_ttherm = pd.read_csv('./new_raw_data/tgd2024/yf_ttherm_mapping_feb2024.csv')\n",
    "        dict_y_to_ttherm = {yf: ttherm for yf, ttherm in zip(df_y_to_ttherm['yf2024'].values, df_y_to_ttherm['ttherm2021'].values)}\n",
    "\n",
    "        for idx, r in enumerate(cds_records):\n",
    "            if (r.id).replace('.t1', '') in dict_y_to_ttherm:\n",
    "                r.id = dict_y_to_ttherm[(r.id).replace('.t1', '')]\n",
    "\n",
    "        with open('./new_raw_data/Tthermophila_MAC_protein_2021.fasta', 'r') as f:\n",
    "            pep_records_2021 = list(SeqIO.parse(f, 'fasta'))\n",
    "\n",
    "        dict_pep_records_2021 = {r.id: r for r in pep_records_2021}\n",
    "\n",
    "        for idx, r in enumerate(pep_records):\n",
    "            if (r.id).replace('.t1', '') in dict_y_to_ttherm:\n",
    "                r.id = dict_y_to_ttherm[(r.id).replace('.t1', '')]\n",
    "                r.description = dict_pep_records_2021[r.id].description\n",
    "\n",
    "        annotations['query'] = [yfid if yfid.replace('.t1', '') not in dict_y_to_ttherm else dict_y_to_ttherm[yfid.replace('.t1', '')] for yfid in annotations['query'].values]\n"
   ]
  },
  {
   "cell_type": "code",
   "execution_count": 4,
   "metadata": {},
   "outputs": [],
   "source": [
    "if GENE_MODEL_SETTINGS['gene_model'] == 2021:\n",
    "\n",
    "    with open('./new_raw_data/Tthermophila_MAC_CDS_2021.fasta', 'r') as f:\n",
    "        cds_records = list(SeqIO.parse(f, 'fasta'))\n",
    "\n",
    "    with open('./new_raw_data/Tthermophila_MAC_protein_2021.fasta', 'r') as f:\n",
    "        pep_records = list(SeqIO.parse(f, 'fasta'))\n",
    "\n",
    "    annotations = pd.read_csv('./TGNE/eggnog/2021_none_eggnog_compiled.annotations', comment='#', delimiter='\\t')\n",
    "\n",
    "    annotation_desc_paths = glob('./TGNE/enrichment/2021/*.csv')"
   ]
  },
  {
   "cell_type": "code",
   "execution_count": 5,
   "metadata": {},
   "outputs": [
    {
     "data": {
      "text/plain": [
       "25987"
      ]
     },
     "execution_count": 5,
     "metadata": {},
     "output_type": "execute_result"
    }
   ],
   "source": [
    "SeqIO.write(cds_records, './active_fastas/cds.fasta', 'fasta')"
   ]
  },
  {
   "cell_type": "code",
   "execution_count": 6,
   "metadata": {},
   "outputs": [
    {
     "data": {
      "text/plain": [
       "25987"
      ]
     },
     "execution_count": 6,
     "metadata": {},
     "output_type": "execute_result"
    }
   ],
   "source": [
    "SeqIO.write(pep_records, './active_fastas/pep.fasta', 'fasta')"
   ]
  },
  {
   "cell_type": "code",
   "execution_count": 7,
   "metadata": {},
   "outputs": [],
   "source": [
    "annotations.to_csv('./active_fastas/annotations.csv', index=False)"
   ]
  },
  {
   "cell_type": "code",
   "execution_count": 8,
   "metadata": {},
   "outputs": [],
   "source": [
    "destination_dir = './active_fastas/'\n",
    "\n",
    "for path in annotation_desc_paths:\n",
    "    destination_path = os.path.join(destination_dir, os.path.basename(path))\n",
    "    shutil.copy(path, destination_path)"
   ]
  },
  {
   "cell_type": "markdown",
   "metadata": {},
   "source": [
    "# QUICK ID TRANSLATION"
   ]
  },
  {
   "cell_type": "code",
   "execution_count": 9,
   "metadata": {},
   "outputs": [],
   "source": [
    "df_y_to_ttherm = pd.read_csv('./new_raw_data/tgd2024/yf_ttherm_mapping_feb2024.csv')\n",
    "dict_y_to_ttherm = {yf: ttherm for yf, ttherm in zip(df_y_to_ttherm['yf2024'].values, df_y_to_ttherm['ttherm2021'].values)}\n",
    "dict_ttherm_to_y = {ttherm: yf for yf, ttherm in zip(df_y_to_ttherm['yf2024'].values, df_y_to_ttherm['ttherm2021'].values)}"
   ]
  },
  {
   "cell_type": "code",
   "execution_count": 10,
   "metadata": {},
   "outputs": [
    {
     "name": "stdout",
     "output_type": "stream",
     "text": [
      "YF00024749, YF00036313, YF00005803, YF00003933, YF00013821\n"
     ]
    }
   ],
   "source": [
    "translate_ttherms = [\n",
    "'TTHERM_01055600', \n",
    "'TTHERM_01002870', \n",
    "'TTHERM_01002860', \n",
    "'TTHERM_00630470', \n",
    "'TTHERM_00624730', \n",
    "'TTHERM_00624720', \n",
    "'TTHERM_00527180', \n",
    "'TTHERM_00522600', \n",
    "'TTHERM_00378890', \n",
    "'TTHERM_00335830', \n",
    "'TTHERM_00221120',\n",
    "]\n",
    "\n",
    "print(', '.join([dict_ttherm_to_y[id] for id in translate_ttherms if id in dict_ttherm_to_y]))"
   ]
  },
  {
   "cell_type": "code",
   "execution_count": 11,
   "metadata": {},
   "outputs": [
    {
     "name": "stdout",
     "output_type": "stream",
     "text": [
      "YF00002277, YF00018466, YF00019887\n"
     ]
    }
   ],
   "source": [
    "translate_ttherms = [\n",
    "'TTHERM_00420610', \n",
    "'TTHERM_00410210', \n",
    "'TTHERM_00313130', \n",
    "'TTHERM_00467390',\n",
    "]\n",
    "\n",
    "print(', '.join([dict_ttherm_to_y[id] for id in translate_ttherms if id in dict_ttherm_to_y]))"
   ]
  },
  {
   "cell_type": "code",
   "execution_count": 12,
   "metadata": {},
   "outputs": [
    {
     "name": "stdout",
     "output_type": "stream",
     "text": [
      "YF00024749, YF00036313, YF00005803, YF00003933, YF00013821\n",
      "TTHERM_01055600, TTHERM_00630470, TTHERM_00624720, TTHERM_00527180, TTHERM_00335830\n"
     ]
    }
   ],
   "source": [
    "# mycocysts\n",
    "translate_ttherms = [\n",
    "\"TTHERM_01055600\", \"TTHERM_01002870\", \"TTHERM_01002860\", \"TTHERM_00630470\", \"TTHERM_00624730\", \"TTHERM_00624720\", \"TTHERM_00527180\", \"TTHERM_00522600\", \"TTHERM_00378890\", \"TTHERM_00335830\", \"TTHERM_00221120\"\n",
    "]\n",
    "\n",
    "print(', '.join([dict_ttherm_to_y[id] for id in translate_ttherms if id in dict_ttherm_to_y]))\n",
    "\n",
    "muco = ['YF00024749', 'YF00036313', 'YF00005803', 'YF00003933', 'YF00013821']\n",
    "\n",
    "print(', '.join([dict_y_to_ttherm[id] for id in muco if id in dict_y_to_ttherm]))"
   ]
  },
  {
   "cell_type": "code",
   "execution_count": 13,
   "metadata": {},
   "outputs": [
    {
     "name": "stdout",
     "output_type": "stream",
     "text": [
      "YF00005517\n"
     ]
    }
   ],
   "source": [
    "# (HH2A.1, HH2A.2, HH2B.1, HH2B.2, HH3, HH4.1, and HH4.2)\n",
    "translate_ttherms = [\n",
    "\"TTHERM_00189170\", \"TTHERM_00143660\", \"TTHERM_00633360\", \"THERM_00283180\", \n",
    "]\n",
    "\n",
    "print(', '.join([dict_ttherm_to_y[id] for id in translate_ttherms if id in dict_ttherm_to_y]))"
   ]
  },
  {
   "cell_type": "code",
   "execution_count": 14,
   "metadata": {},
   "outputs": [
    {
     "name": "stdout",
     "output_type": "stream",
     "text": [
      "YF00023687, YF00007642, YF00028933\n"
     ]
    }
   ],
   "source": [
    "# (Figure 3A; CPD1, CPD2, and CPG3 and SMC2 and SMC4).\n",
    "translate_ttherms = [\n",
    "\"TTHERM_00486070\", \"TTHERM_00392760\", \"TTHERM_00919690\", \"TTHERM_00812950\", \"TTHERM_0044640\", \n",
    "]\n",
    "\n",
    "print(', '.join([dict_ttherm_to_y[id] for id in translate_ttherms if id in dict_ttherm_to_y]))"
   ]
  },
  {
   "cell_type": "code",
   "execution_count": 15,
   "metadata": {},
   "outputs": [
    {
     "name": "stdout",
     "output_type": "stream",
     "text": [
      "YF00006914, YF00023330\n"
     ]
    }
   ],
   "source": [
    "# cyclin D family members, CYC4, CYC13, and CYC25\n",
    "translate_ttherms = [\n",
    "\"TTHERM_01043080\", \"TTHERM_01128530\", \"TTHERM_00717540\",\n",
    "]\n",
    "\n",
    "print(', '.join([dict_ttherm_to_y[id] for id in translate_ttherms if id in dict_ttherm_to_y]))"
   ]
  },
  {
   "cell_type": "code",
   "execution_count": 16,
   "metadata": {},
   "outputs": [
    {
     "name": "stdout",
     "output_type": "stream",
     "text": [
      "YF00036972, YF00010860, YF00003848, YF00004376, YF00023330, YF00018120, YF00008997, YF00023552, YF00004862, YF00027870, YF00027031, YF00005775, YF00007755, YF00035784, YF00035293, YF00013340, YF00026392, YF00029711, YF00025382, YF00015327, YF00024034, YF00034044, YF00017344, YF00001614, YF00006914, YF00030911, YF00017795, YF00001684, YF00024727, YF00004649\n"
     ]
    }
   ],
   "source": [
    "# all cyclins\n",
    "translate_ttherms = [\n",
    "'TTHERM_00196590',\n",
    "'TTHERM_00433390',\n",
    "'TTHERM_00526250',\n",
    "'TTHERM_00962160',\n",
    "'TTHERM_01128530',\n",
    "'TTHERM_00189230',\n",
    "'TTHERM_00425970',\n",
    "'TTHERM_00780580',\n",
    "'TTHERM_00693080',\n",
    "'TTHERM_00827080',\n",
    "'TTHERM_00698650',\n",
    "'TTHERM_00079530',\n",
    "'TTHERM_00624450',\n",
    "'TTHERM_00784350',\n",
    "'TTHERM_00933270',\n",
    "'TTHERM_00732460',\n",
    "'TTHERM_00842480',\n",
    "'TTHERM_00717540',\n",
    "'TTHERM_00066840',\n",
    "'TTHERM_000576939',\n",
    "'TTHERM_00082190',\n",
    "'TTHERM_00649450',\n",
    "'TTHERM_00180970',\n",
    "'TTHERM_00726380',\n",
    "'TTHERM_00013060',\n",
    "'TTHERM_00049420',\n",
    "'TTHERM_00294860',\n",
    "'TTHERM_00535270',\n",
    "'TTHERM_01043080',\n",
    "'TTHERM_00192000',\n",
    "'TTHERM_00194440',\n",
    "'TTHERM_00293270',\n",
    "'TTHERM_00332170',\n",
    "'TTHERM_00940290',\n",
    "]\n",
    "\n",
    "print(', '.join([dict_ttherm_to_y[id] for id in translate_ttherms if id in dict_ttherm_to_y]))"
   ]
  },
  {
   "cell_type": "code",
   "execution_count": null,
   "metadata": {},
   "outputs": [],
   "source": []
  },
  {
   "cell_type": "code",
   "execution_count": 17,
   "metadata": {},
   "outputs": [
    {
     "name": "stdout",
     "output_type": "stream",
     "text": [
      "YF00012156, YF00018584, YF00026324, YF00025215, YF00009981, YF00003565, YF00003115, YF00035370\n"
     ]
    }
   ],
   "source": [
    "# all MCMs\n",
    "translate_ttherms = [\n",
    "'TTHERM_00554270',\n",
    "'TTHERM_00092850',\n",
    "'TTHERM_00277550',\n",
    "'TTHERM_00069420',\n",
    "'TTHERM_00448570',\n",
    "'TTHERM_00011740',\n",
    "'TTHERM_01031060',\n",
    "'TTHERM_00703910',\n",
    "'TTHERM_01207610',\n",
    "]\n",
    "\n",
    "print(', '.join([dict_ttherm_to_y[id] for id in translate_ttherms if id in dict_ttherm_to_y]))"
   ]
  },
  {
   "cell_type": "code",
   "execution_count": 18,
   "metadata": {},
   "outputs": [
    {
     "name": "stdout",
     "output_type": "stream",
     "text": [
      "TTHERM_00069420, TTHERM_00448570, TTHERM_00092850, TTHERM_00554270\n"
     ]
    }
   ],
   "source": [
    "MCMs = ['YF00026324.1', 'YF00025215.1', 'YF00018584.1', 'YF00012156.1']\n",
    "# YF00026324, YF00025215, YF00018584, YF00012156\n",
    "# MCM5, MCM6, MCM3, MCM2\n",
    "\n",
    "print(', '.join([dict_y_to_ttherm[id[:len(id) - 2]] for id in MCMs if id[:len(id) - 2] in dict_y_to_ttherm]))"
   ]
  },
  {
   "cell_type": "code",
   "execution_count": 19,
   "metadata": {},
   "outputs": [
    {
     "name": "stdout",
     "output_type": "stream",
     "text": [
      "\n"
     ]
    }
   ],
   "source": [
    "isolated = [\n",
    "'YF00022177',\n",
    "'YF00021470',\n",
    "'YF00015074',\n",
    "'YF00010747',\n",
    "'YF00010396',\n",
    "'YF00003723',\n",
    "]\n",
    "\n",
    "print(', '.join([dict_y_to_ttherm[id] for id in isolated if id in dict_y_to_ttherm]))"
   ]
  },
  {
   "cell_type": "code",
   "execution_count": 20,
   "metadata": {},
   "outputs": [
    {
     "name": "stdout",
     "output_type": "stream",
     "text": [
      "TTHERM_00630470\n"
     ]
    }
   ],
   "source": [
    "muco = ['YF00036313']\n",
    "\n",
    "print(', '.join([dict_y_to_ttherm[id] for id in muco if id in dict_y_to_ttherm]))"
   ]
  }
 ],
 "metadata": {
  "kernelspec": {
   "display_name": "Python 3",
   "language": "python",
   "name": "python3"
  },
  "language_info": {
   "codemirror_mode": {
    "name": "ipython",
    "version": 3
   },
   "file_extension": ".py",
   "mimetype": "text/x-python",
   "name": "python",
   "nbconvert_exporter": "python",
   "pygments_lexer": "ipython3",
   "version": "3.9.9"
  }
 },
 "nbformat": 4,
 "nbformat_minor": 2
}

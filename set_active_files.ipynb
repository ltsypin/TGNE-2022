{
 "cells": [
  {
   "cell_type": "code",
   "execution_count": 1,
   "metadata": {},
   "outputs": [],
   "source": [
    "from Bio import SeqIO\n",
    "import pandas as pd \n",
    "from glob import glob\n",
    "import shutil\n",
    "import os"
   ]
  },
  {
   "cell_type": "code",
   "execution_count": 2,
   "metadata": {},
   "outputs": [],
   "source": [
    "GENE_MODEL_SETTINGS = {\n",
    "    'gene_model': 2024, # 2021 or 2024 (2024 WILL ALWAYS BE USED FOR RNA-seq)\n",
    "    'translate_gene_names_to_ttherm_ids': False # (unused if 'gene_model': 2021)\n",
    "}"
   ]
  },
  {
   "cell_type": "code",
   "execution_count": 3,
   "metadata": {},
   "outputs": [],
   "source": [
    "if GENE_MODEL_SETTINGS['gene_model'] == 2024:\n",
    "\n",
    "    # with open('./new_raw_data/tgd2024/Manual_check-total-gene.gff3_Right_UTR.gff3_cds.fasta', 'r') as f:\n",
    "    # with open('./new_raw_data/tgd2024/Manual_check-total-gene.gff3_Right_UTR.gff3_exon.fasta', 'r') as f:\n",
    "    with open('./new_raw_data/tgd2024_may15/Tetrahymena_Genome_annotation_V2024_CDS.fasta', 'r') as f:\n",
    "        cds_records = list(SeqIO.parse(f, 'fasta'))\n",
    "\n",
    "    # with open('./new_raw_data/tgd2024/Manual_check-total-gene.gff3_Right_UTR.gff3_pep.fasta', 'r') as f:\n",
    "    with open('./new_raw_data/tgd2024_may15/Tetrahymena_Genome_annotation_V2024_Protein_addAnno.fasta', 'r') as f:\n",
    "        pep_records = list(SeqIO.parse(f, 'fasta'))\n",
    "\n",
    "    rna_seq = pd.read_csv('./new_raw_data/rna_seq_processed/kallisto.csv')\n",
    "\n",
    "    annotations = pd.read_csv('./TGNE/eggnog/eggnog_compiled_2024_may15.annotations', comment='#', delimiter='\\t')\n",
    "\n",
    "    annotation_desc_paths = glob('./TGNE/enrichment/2024/*.csv')\n",
    "\n",
    "    if GENE_MODEL_SETTINGS['translate_gene_names_to_ttherm_ids']:\n",
    "\n",
    "        df_y_to_ttherm = pd.read_csv('./new_raw_data/tgd2024/yf_ttherm_mapping_feb2024.csv')\n",
    "        dict_y_to_ttherm = {yf: ttherm for yf, ttherm in zip(df_y_to_ttherm['yf2024'].values, df_y_to_ttherm['ttherm2021'].values)}\n",
    "\n",
    "        for idx, r in enumerate(cds_records):\n",
    "            if (r.id) in dict_y_to_ttherm:\n",
    "                r.id = dict_y_to_ttherm[(r.id)]\n",
    "\n",
    "        with open('./new_raw_data/Tthermophila_MAC_protein_2021.fasta', 'r') as f:\n",
    "            pep_records_2021 = list(SeqIO.parse(f, 'fasta'))\n",
    "\n",
    "        dict_pep_records_2021 = {r.id: r for r in pep_records_2021}\n",
    "\n",
    "        for idx, r in enumerate(pep_records):\n",
    "            if (r.id) in dict_y_to_ttherm:\n",
    "                r.id = dict_y_to_ttherm[(r.id)]\n",
    "                r.description = dict_pep_records_2021[r.id].description\n",
    "\n",
    "        annotations['query'] = [yfid if yfid not in dict_y_to_ttherm else dict_y_to_ttherm[yfid] for yfid in annotations['query'].values]\n",
    "\n",
    "        rna_seq['TTHERM_ID'] = [yfid if yfid not in dict_y_to_ttherm else dict_y_to_ttherm[yfid] for yfid in rna_seq['TTHERM_ID'].values]"
   ]
  },
  {
   "cell_type": "code",
   "execution_count": 4,
   "metadata": {},
   "outputs": [],
   "source": [
    "if GENE_MODEL_SETTINGS['gene_model'] == 2021:\n",
    "\n",
    "    with open('./new_raw_data/Tthermophila_MAC_CDS_2021.fasta', 'r') as f:\n",
    "        cds_records = list(SeqIO.parse(f, 'fasta'))\n",
    "\n",
    "    with open('./new_raw_data/Tthermophila_MAC_protein_2021.fasta', 'r') as f:\n",
    "        pep_records = list(SeqIO.parse(f, 'fasta'))\n",
    "\n",
    "    annotations = pd.read_csv('./TGNE/eggnog/2021_none_eggnog_compiled.annotations', comment='#', delimiter='\\t')\n",
    "\n",
    "    annotation_desc_paths = glob('./TGNE/enrichment/2021/*.csv')"
   ]
  },
  {
   "cell_type": "code",
   "execution_count": 5,
   "metadata": {},
   "outputs": [
    {
     "data": {
      "text/plain": [
       "26686"
      ]
     },
     "execution_count": 5,
     "metadata": {},
     "output_type": "execute_result"
    }
   ],
   "source": [
    "SeqIO.write(cds_records, './active_fastas/cds.fasta', 'fasta')"
   ]
  },
  {
   "cell_type": "code",
   "execution_count": 7,
   "metadata": {},
   "outputs": [],
   "source": [
    "for idx, r in enumerate(pep_records):\n",
    "    r.id = r.id.split('|')[0]"
   ]
  },
  {
   "cell_type": "code",
   "execution_count": null,
   "metadata": {},
   "outputs": [
    {
     "data": {
      "text/plain": [
       "26686"
      ]
     },
     "execution_count": 6,
     "metadata": {},
     "output_type": "execute_result"
    }
   ],
   "source": [
    "SeqIO.write(pep_records, './active_fastas/pep.fasta', 'fasta')"
   ]
  },
  {
   "cell_type": "code",
   "execution_count": null,
   "metadata": {},
   "outputs": [],
   "source": [
    "rna_seq.to_csv('./active_fastas/rna_seq.csv', index=False)"
   ]
  },
  {
   "cell_type": "code",
   "execution_count": null,
   "metadata": {},
   "outputs": [],
   "source": [
    "annotations.to_csv('./active_fastas/annotations.csv', index=False)"
   ]
  },
  {
   "cell_type": "code",
   "execution_count": null,
   "metadata": {},
   "outputs": [],
   "source": [
    "destination_dir = './active_fastas/'\n",
    "\n",
    "for path in annotation_desc_paths:\n",
    "    destination_path = os.path.join(destination_dir, os.path.basename(path))\n",
    "    shutil.copy(path, destination_path)"
   ]
  }
 ],
 "metadata": {
  "kernelspec": {
   "display_name": "Python 3",
   "language": "python",
   "name": "python3"
  },
  "language_info": {
   "codemirror_mode": {
    "name": "ipython",
    "version": 3
   },
   "file_extension": ".py",
   "mimetype": "text/x-python",
   "name": "python",
   "nbconvert_exporter": "python",
   "pygments_lexer": "ipython3",
   "version": "3.8.16"
  }
 },
 "nbformat": 4,
 "nbformat_minor": 2
}

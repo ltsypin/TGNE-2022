{
 "cells": [
  {
   "cell_type": "code",
   "execution_count": 1,
   "id": "a46add30-e2ef-41d2-be30-5c46a8b22ffc",
   "metadata": {},
   "outputs": [],
   "source": [
    "import os\n",
    "import tqdm\n",
    "import glob\n",
    "import gdown\n",
    "\n",
    "from utils import file_utils"
   ]
  },
  {
   "cell_type": "code",
   "execution_count": 2,
   "id": "f851c055-1bdb-41ab-a3e9-602ddc457020",
   "metadata": {},
   "outputs": [],
   "source": [
    "file_utils.create_directories('./new_raw_data/')\n",
    "file_utils.create_directories('./new_raw_data/expression')\n",
    "file_utils.create_directories('./new_raw_data/expression/All_pair_sample_keys/')"
   ]
  },
  {
   "cell_type": "markdown",
   "id": "f43e8ad9-f7f2-4afe-9a0b-f91a5ce2abc1",
   "metadata": {},
   "source": [
    "Get the fasta file for the CDSs of the 2021 genome"
   ]
  },
  {
   "cell_type": "code",
   "execution_count": 3,
   "id": "c333cbaf-c29b-4a37-8b6a-ac3099480038",
   "metadata": {},
   "outputs": [
    {
     "name": "stdout",
     "output_type": "stream",
     "text": [
      "FILE SAVED: /Users/michaelbertagna/git/TGNE-2022/new_raw_data/Tthermophila_MAC_CDS_2021.fasta\n"
     ]
    }
   ],
   "source": [
    "file_utils.download_file_chunks('https://tet.ciliate.org/common/downloads/tet/legacy/3-upd-cds-fasta-2021.fasta', \n",
    "                                './new_raw_data/Tthermophila_MAC_CDS_2021.fasta')"
   ]
  },
  {
   "cell_type": "markdown",
   "id": "c7a34657-0523-4da5-83fc-b71797e5c716",
   "metadata": {},
   "source": [
    "Get the fasta file for the protein sequences of the 2021 genome"
   ]
  },
  {
   "cell_type": "code",
   "execution_count": 4,
   "id": "a02d2ab0-3333-4cfc-a9f7-a06c95d3dda7",
   "metadata": {},
   "outputs": [
    {
     "name": "stdout",
     "output_type": "stream",
     "text": [
      "FILE SAVED: /Users/michaelbertagna/git/TGNE-2022/new_raw_data/Tthermophila_MAC_protein_2021.fasta\n"
     ]
    }
   ],
   "source": [
    "file_utils.download_file_chunks('https://tet.ciliate.org/common/downloads/tet/legacy/4-upd-Protein-fasta-2021.fasta', \n",
    "                                './new_raw_data/Tthermophila_MAC_protein_2021.fasta')"
   ]
  },
  {
   "cell_type": "markdown",
   "id": "0d10cbf0-0289-4ccb-9237-a2e3341a0855",
   "metadata": {},
   "source": [
    "Get the .ndf file"
   ]
  },
  {
   "cell_type": "code",
   "execution_count": 5,
   "id": "c459efb4",
   "metadata": {},
   "outputs": [
    {
     "name": "stdout",
     "output_type": "stream",
     "text": [
      "FILE SAVED: /Users/michaelbertagna/git/TGNE-2022/new_raw_data/GSE11300.tar\n"
     ]
    }
   ],
   "source": [
    "file_utils.download_file_chunks('https://www.ncbi.nlm.nih.gov/geo/download/?acc=GSE11300&format=file', \n",
    "                                './new_raw_data/GSE11300.tar')"
   ]
  },
  {
   "cell_type": "code",
   "execution_count": 6,
   "id": "5aa1e021-c6d7-4c4c-89a0-b8fa86e6074e",
   "metadata": {},
   "outputs": [],
   "source": [
    "file_utils.extract_tar('./new_raw_data/GSE11300.tar')"
   ]
  },
  {
   "cell_type": "markdown",
   "id": "fd41895a-5c5b-42a9-8a39-90a9955516ea",
   "metadata": {},
   "source": [
    "Get the raw reads"
   ]
  },
  {
   "cell_type": "code",
   "execution_count": 7,
   "id": "ac6f895a-81e2-4f32-9c91-9153c47ef2ed",
   "metadata": {},
   "outputs": [],
   "source": [
    "def move_expression_files(data_files, target_dir='./new_raw_data/expression/'):\n",
    "    for f in data_files:\n",
    "        name = os.path.basename(f)\n",
    "        os.rename(f, f'{target_dir}{name}')"
   ]
  },
  {
   "cell_type": "code",
   "execution_count": 8,
   "id": "a6760022-b7f2-4ce5-ab03-8ea567a56219",
   "metadata": {},
   "outputs": [
    {
     "name": "stdout",
     "output_type": "stream",
     "text": [
      "FILE SAVED: /Users/michaelbertagna/git/TGNE-2022/new_raw_data/GSE11300_RAW.tar\n"
     ]
    }
   ],
   "source": [
    "file_utils.download_geo_data_file('https://www.ncbi.nlm.nih.gov/geo/download/?acc=GSE11300&format=file', 'GSE11300')"
   ]
  },
  {
   "cell_type": "code",
   "execution_count": 9,
   "id": "f484f5ac-a836-40e2-8e16-693b1ece6cdf",
   "metadata": {},
   "outputs": [],
   "source": [
    "raw_data_url_dict = {\n",
    "    'GSE26650': 'https://www.ncbi.nlm.nih.gov/geo/download/?acc=GSE26650&format=file', #Pearlman submission, .pair formatted\n",
    "    'GSE11300C1': 'https://www.ncbi.nlm.nih.gov/geo/download/?acc=GSE11300&format=file&file=GSE11300%5FRaw%5FC1%5FSamples%2Etxt%2Egz', #Miao submission, C1, \"samples\" format\n",
    "    'GSE11300C2': 'https://www.ncbi.nlm.nih.gov/geo/download/?acc=GSE11300&format=file&file=GSE11300%5FRaw%5FC2%5FSamples%2Etxt%2Egz', #Miao submission, C2, \"samples\" format\n",
    "    'GSE11300L1': 'https://www.ncbi.nlm.nih.gov/geo/download/?acc=GSE11300&format=file&file=GSE11300%5FRaw%5FL1%5FSamples%2Etxt%2Egz', #Miao submission, L1, \"samples\" format\n",
    "    'GSE11300L2': 'https://www.ncbi.nlm.nih.gov/geo/download/?acc=GSE11300&format=file&file=GSE11300%5FRaw%5FL2%5FSamples%2Etxt%2Egz', #Miao submission, L2, \"samples\" format\n",
    "    'GSE11300L3': 'https://www.ncbi.nlm.nih.gov/geo/download/?acc=GSE11300&format=file&file=GSE11300%5FRaw%5FL3%5FSamples%2Etxt%2Egz', #Miao submission, L3, \"samples\" format\n",
    "    'GSE11300S1': 'https://www.ncbi.nlm.nih.gov/geo/download/?acc=GSE11300&format=file&file=GSE11300%5FRaw%5FS1%5FSamples%2Etxt%2Egz', #Miao submission, S1, \"samples\" format\n",
    "    'GSE11300S2': 'https://www.ncbi.nlm.nih.gov/geo/download/?acc=GSE11300&format=file&file=GSE11300%5FRaw%5FS2%5FSamples%2Etxt%2Egz', #Miao submission, S2, \"samples\" format\n",
    "    'GSE11300S3': 'https://www.ncbi.nlm.nih.gov/geo/download/?acc=GSE11300&format=file&file=GSE11300%5FRaw%5FS3%5FSamples%2Etxt%2Egz', #Miao submission, S3, \"samples\" format\n",
    "    'GSE26384': 'https://www.ncbi.nlm.nih.gov/geo/download/?acc=GSE26384&format=file', #Miao submission, .pair formatted\n",
    "    'GSE26385': 'https://www.ncbi.nlm.nih.gov/geo/download/?acc=GSE26385&format=file', #Liu submission, .pair formatted\n",
    "}"
   ]
  },
  {
   "cell_type": "code",
   "execution_count": 10,
   "id": "3e089f0f-018d-41ce-b0f6-72c24ff4bd4b",
   "metadata": {},
   "outputs": [
    {
     "name": "stderr",
     "output_type": "stream",
     "text": [
      "  9%|▉         | 1/11 [00:16<02:45, 16.55s/it]"
     ]
    },
    {
     "name": "stdout",
     "output_type": "stream",
     "text": [
      "FILE SAVED: /Users/michaelbertagna/git/TGNE-2022/new_raw_data/GSE26650_RAW.tar\n"
     ]
    },
    {
     "name": "stderr",
     "output_type": "stream",
     "text": [
      " 18%|█▊        | 2/11 [00:21<01:29,  9.99s/it]"
     ]
    },
    {
     "name": "stdout",
     "output_type": "stream",
     "text": [
      "FILE SAVED: /Users/michaelbertagna/git/TGNE-2022/new_raw_data/GSE11300_Raw_C1_Samples.txt.gz\n"
     ]
    },
    {
     "name": "stderr",
     "output_type": "stream",
     "text": [
      " 27%|██▋       | 3/11 [00:27<01:04,  8.12s/it]"
     ]
    },
    {
     "name": "stdout",
     "output_type": "stream",
     "text": [
      "FILE SAVED: /Users/michaelbertagna/git/TGNE-2022/new_raw_data/GSE11300_Raw_C2_Samples.txt.gz\n"
     ]
    },
    {
     "name": "stderr",
     "output_type": "stream",
     "text": [
      " 36%|███▋      | 4/11 [00:29<00:38,  5.52s/it]"
     ]
    },
    {
     "name": "stdout",
     "output_type": "stream",
     "text": [
      "FILE SAVED: /Users/michaelbertagna/git/TGNE-2022/new_raw_data/GSE11300_Raw_L1_Samples.txt.gz\n"
     ]
    },
    {
     "name": "stderr",
     "output_type": "stream",
     "text": [
      " 45%|████▌     | 5/11 [00:30<00:23,  3.94s/it]"
     ]
    },
    {
     "name": "stdout",
     "output_type": "stream",
     "text": [
      "FILE SAVED: /Users/michaelbertagna/git/TGNE-2022/new_raw_data/GSE11300_Raw_L2_Samples.txt.gz\n"
     ]
    },
    {
     "name": "stderr",
     "output_type": "stream",
     "text": [
      " 55%|█████▍    | 6/11 [00:32<00:16,  3.26s/it]"
     ]
    },
    {
     "name": "stdout",
     "output_type": "stream",
     "text": [
      "FILE SAVED: /Users/michaelbertagna/git/TGNE-2022/new_raw_data/GSE11300_Raw_L3_Samples.txt.gz\n"
     ]
    },
    {
     "name": "stderr",
     "output_type": "stream",
     "text": [
      " 64%|██████▎   | 7/11 [00:35<00:12,  3.22s/it]"
     ]
    },
    {
     "name": "stdout",
     "output_type": "stream",
     "text": [
      "FILE SAVED: /Users/michaelbertagna/git/TGNE-2022/new_raw_data/GSE11300_Raw_S1_Samples.txt.gz\n"
     ]
    },
    {
     "name": "stderr",
     "output_type": "stream",
     "text": [
      " 73%|███████▎  | 8/11 [00:37<00:08,  2.80s/it]"
     ]
    },
    {
     "name": "stdout",
     "output_type": "stream",
     "text": [
      "FILE SAVED: /Users/michaelbertagna/git/TGNE-2022/new_raw_data/GSE11300_Raw_S2_Samples.txt.gz\n"
     ]
    },
    {
     "name": "stderr",
     "output_type": "stream",
     "text": [
      " 82%|████████▏ | 9/11 [00:39<00:05,  2.71s/it]"
     ]
    },
    {
     "name": "stdout",
     "output_type": "stream",
     "text": [
      "FILE SAVED: /Users/michaelbertagna/git/TGNE-2022/new_raw_data/GSE11300_Raw_S3_Samples.txt.gz\n"
     ]
    },
    {
     "name": "stderr",
     "output_type": "stream",
     "text": [
      " 91%|█████████ | 10/11 [00:51<00:05,  5.41s/it]"
     ]
    },
    {
     "name": "stdout",
     "output_type": "stream",
     "text": [
      "FILE SAVED: /Users/michaelbertagna/git/TGNE-2022/new_raw_data/GSE26384_RAW.tar\n"
     ]
    },
    {
     "name": "stderr",
     "output_type": "stream",
     "text": [
      "100%|██████████| 11/11 [01:01<00:00,  5.59s/it]"
     ]
    },
    {
     "name": "stdout",
     "output_type": "stream",
     "text": [
      "FILE SAVED: /Users/michaelbertagna/git/TGNE-2022/new_raw_data/GSE26385_RAW.tar\n"
     ]
    },
    {
     "name": "stderr",
     "output_type": "stream",
     "text": [
      "\n"
     ]
    }
   ],
   "source": [
    "for name, url in tqdm.tqdm(raw_data_url_dict.items()):\n",
    "    file_utils.download_geo_data_file(url, name)"
   ]
  },
  {
   "cell_type": "code",
   "execution_count": 11,
   "id": "bbd67e14",
   "metadata": {},
   "outputs": [
    {
     "name": "stderr",
     "output_type": "stream",
     "text": [
      "Downloading...\n",
      "From (original): https://drive.google.com/uc?id=1YkRZlYmfkq1m3oJ-zSJFTTZKT70HKCMA\n",
      "From (redirected): https://drive.google.com/uc?id=1YkRZlYmfkq1m3oJ-zSJFTTZKT70HKCMA&confirm=t&uuid=e459c552-9ca3-46f6-8768-4334d4071844\n",
      "To: /Users/michaelbertagna/git/TGNE-2022/new_raw_data/all_pair.zip\n",
      "100%|██████████| 157M/157M [00:15<00:00, 9.93MB/s] \n"
     ]
    },
    {
     "data": {
      "text/plain": [
       "'./new_raw_data/all_pair.zip'"
      ]
     },
     "execution_count": 11,
     "metadata": {},
     "output_type": "execute_result"
    }
   ],
   "source": [
    "gdrive_url = 'https://drive.google.com/uc?id=1YkRZlYmfkq1m3oJ-zSJFTTZKT70HKCMA'\n",
    "\n",
    "gdrive_output = './new_raw_data/all_pair.zip'\n",
    "\n",
    "gdown.download(gdrive_url, gdrive_output, quiet=False)"
   ]
  },
  {
   "cell_type": "code",
   "execution_count": 12,
   "id": "154ffc75",
   "metadata": {},
   "outputs": [],
   "source": [
    "zip_file_path = './new_raw_data/all_pair.zip'\n",
    "\n",
    "extract_to_directory = './new_raw_data/all_pair'\n",
    "\n",
    "file_utils.unzip_file(zip_file_path, extract_to_directory)"
   ]
  },
  {
   "cell_type": "code",
   "execution_count": 13,
   "id": "7fb70ed5-1d28-4831-801d-c2026ce7a80a",
   "metadata": {},
   "outputs": [
    {
     "data": {
      "text/plain": [
       "['./new_raw_data/all_pair/Microarray_Aaron/un-normalized-raw_data/All_pair-S2,S3.txt',\n",
       " './new_raw_data/all_pair/Microarray_Aaron/un-normalized-raw_data/All_pair-L1,L2.txt',\n",
       " './new_raw_data/all_pair/Microarray_Aaron/un-normalized-raw_data/All_pair-L3,S1.txt',\n",
       " './new_raw_data/all_pair/Microarray_Aaron/un-normalized-raw_data/All_pair-C1,C2.txt',\n",
       " './new_raw_data/GSE11300_Raw_C1_Samples.txt.gz',\n",
       " './new_raw_data/GSE11300_Raw_L1_Samples.txt.gz',\n",
       " './new_raw_data/GSE11300_Raw_L3_Samples.txt.gz',\n",
       " './new_raw_data/GSE11300_Raw_C2_Samples.txt.gz',\n",
       " './new_raw_data/GSE11300_Raw_L2_Samples.txt.gz',\n",
       " './new_raw_data/GSE11300_Raw_S2_Samples.txt.gz',\n",
       " './new_raw_data/GSE11300_Raw_S3_Samples.txt.gz',\n",
       " './new_raw_data/GSE11300_Raw_S1_Samples.txt.gz',\n",
       " './new_raw_data/GSE26650_RAW/GSM656231_4257502_532_pair.txt.gz',\n",
       " './new_raw_data/GSE26650_RAW/GSM656232_4257702_532_pair.txt.gz',\n",
       " './new_raw_data/GSE26650_RAW/GSM656237_4258302_532_pair.txt.gz',\n",
       " './new_raw_data/GSE26650_RAW/GSM656239_4261302_532_pair.txt.gz',\n",
       " './new_raw_data/GSE26650_RAW/GSM656234_4257802_532_pair.txt.gz',\n",
       " './new_raw_data/GSE26650_RAW/GSM656240_4261102_532_pair.txt.gz',\n",
       " './new_raw_data/GSE26650_RAW/GSM656236_4257902_532_pair.txt.gz',\n",
       " './new_raw_data/GSE26650_RAW/GSM656238_4259002_532_pair.txt.gz',\n",
       " './new_raw_data/GSE26650_RAW/GSM656235_4258102_532_pair.txt.gz',\n",
       " './new_raw_data/GSE26650_RAW/GSM656230_4257602_532_pair.txt.gz',\n",
       " './new_raw_data/GSE26650_RAW/GSM656233_4257402_532_pair.txt.gz',\n",
       " './new_raw_data/GSE26385_RAW/GSM647653_13401502_532_pair.txt.gz',\n",
       " './new_raw_data/GSE26385_RAW/GSM647654_13401702_532_pair.txt.gz',\n",
       " './new_raw_data/GSE26385_RAW/GSM647652_13399602_532_pair.txt.gz',\n",
       " './new_raw_data/GSE26385_RAW/GSM647651_13398502_532_pair.txt.gz',\n",
       " './new_raw_data/expression/GSM656231_4257502_532_pair.txt.gz',\n",
       " './new_raw_data/expression/GSM656232_4257702_532_pair.txt.gz',\n",
       " './new_raw_data/expression/GSM656237_4258302_532_pair.txt.gz',\n",
       " './new_raw_data/expression/GSM656239_4261302_532_pair.txt.gz',\n",
       " './new_raw_data/expression/GSM656234_4257802_532_pair.txt.gz',\n",
       " './new_raw_data/expression/GSM656240_4261102_532_pair.txt.gz',\n",
       " './new_raw_data/expression/GSM647653_13401502_532_pair.txt.gz',\n",
       " './new_raw_data/expression/GSM647654_13401702_532_pair.txt.gz',\n",
       " './new_raw_data/expression/GSM656236_4257902_532_pair.txt.gz',\n",
       " './new_raw_data/expression/GSM656238_4259002_532_pair.txt.gz',\n",
       " './new_raw_data/expression/GSM656235_4258102_532_pair.txt.gz',\n",
       " './new_raw_data/expression/GSM656230_4257602_532_pair.txt.gz',\n",
       " './new_raw_data/expression/GSM647652_13399602_532_pair.txt.gz',\n",
       " './new_raw_data/expression/GSM647651_13398502_532_pair.txt.gz',\n",
       " './new_raw_data/expression/GSM656233_4257402_532_pair.txt.gz',\n",
       " './new_raw_data/GSE26384_RAW/GSM647245.pair.gz',\n",
       " './new_raw_data/GSE26384_RAW/GSM647244.pair.gz',\n",
       " './new_raw_data/expression/GSM647245.pair.gz',\n",
       " './new_raw_data/expression/GSM647244.pair.gz']"
      ]
     },
     "execution_count": 13,
     "metadata": {},
     "output_type": "execute_result"
    }
   ],
   "source": [
    "data_files = glob.glob('./new_raw_data/all_pair/Microarray_Aaron/un-normalized-raw_data/*.txt') + glob.glob('./new_raw_data/*.txt.gz') + glob.glob('./new_raw_data/**/*pair.txt.gz', recursive=True) + glob.glob('./new_raw_data/**/*pair.gz', recursive=True)\n",
    "data_files"
   ]
  },
  {
   "cell_type": "code",
   "execution_count": 14,
   "id": "ba5354e7-077e-459a-9f5a-579cf696fda5",
   "metadata": {},
   "outputs": [],
   "source": [
    "file_utils.move_files(data_files, './new_raw_data/expression/')"
   ]
  },
  {
   "cell_type": "code",
   "execution_count": 15,
   "id": "cbfb2974",
   "metadata": {},
   "outputs": [
    {
     "data": {
      "text/plain": [
       "['./new_raw_data/all_pair/Microarray_Aaron/normalized_for_each_probe_data/SampleKey-C1 and C2.txt',\n",
       " './new_raw_data/all_pair/Microarray_Aaron/normalized_for_each_probe_data/SampleKey-S2 and S3.txt',\n",
       " './new_raw_data/all_pair/Microarray_Aaron/normalized_for_each_probe_data/SampleKey-L3 and S1.txt',\n",
       " './new_raw_data/all_pair/Microarray_Aaron/normalized_for_each_probe_data/SampleKey-L1 and L2.txt']"
      ]
     },
     "execution_count": 15,
     "metadata": {},
     "output_type": "execute_result"
    }
   ],
   "source": [
    "All_pair_sample_key_files = glob.glob('./new_raw_data/all_pair/Microarray_Aaron/normalized_for_each_probe_data/SampleKey*.txt')\n",
    "All_pair_sample_key_files"
   ]
  },
  {
   "cell_type": "code",
   "execution_count": 16,
   "id": "9f50bf20",
   "metadata": {},
   "outputs": [],
   "source": [
    "file_utils.move_files(All_pair_sample_key_files, './new_raw_data/expression/All_pair_sample_keys/')"
   ]
  }
 ],
 "metadata": {
  "kernelspec": {
   "display_name": "Python 3 (ipykernel)",
   "language": "python",
   "name": "python3"
  },
  "language_info": {
   "codemirror_mode": {
    "name": "ipython",
    "version": 3
   },
   "file_extension": ".py",
   "mimetype": "text/x-python",
   "name": "python",
   "nbconvert_exporter": "python",
   "pygments_lexer": "ipython3",
   "version": "3.8.16"
  }
 },
 "nbformat": 4,
 "nbformat_minor": 5
}

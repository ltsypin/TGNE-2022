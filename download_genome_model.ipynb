{
 "cells": [
  {
   "cell_type": "code",
   "execution_count": 1,
   "metadata": {},
   "outputs": [],
   "source": [
    "import requests\n",
    "import os\n",
    "from utils import file_utils"
   ]
  },
  {
   "cell_type": "code",
   "execution_count": 2,
   "metadata": {},
   "outputs": [],
   "source": [
    "def download_file(url, target_dir):\n",
    "    file_utils.create_directories(target_dir)\n",
    "    r = requests.get(url, stream=True)\n",
    "    save_path = os.path.join(target_dir, os.path.basename(url))\n",
    "    with open(save_path, 'wb') as f:\n",
    "        for chunk in r.iter_content(chunk_size=128):\n",
    "            f.write(chunk)\n",
    "    print(f'FILE SAVED: {os.path.abspath(save_path)}')"
   ]
  },
  {
   "cell_type": "code",
   "execution_count": 3,
   "metadata": {},
   "outputs": [],
   "source": [
    "file_utils.create_directories('./new_raw_data/tgd2024_may15')"
   ]
  },
  {
   "cell_type": "code",
   "execution_count": 4,
   "metadata": {},
   "outputs": [],
   "source": [
    "url = 'https://github.com/yefei521/Tetrahymena_Genome_annotation_V2024/releases/download/V2024/'\n",
    "\n",
    "files = [\n",
    "'Tetrahymena_Genome_annotation_V2024.gff3',\n",
    "'Tetrahymena_Genome_annotation_V2024T2021_gene-change-information.txt',\n",
    "'Tetrahymena_Genome_annotation_V2024_addAS-NAT-NC.gff3',\n",
    "'Tetrahymena_Genome_annotation_V2024_CDS.fasta',\n",
    "'Tetrahymena_Genome_annotation_V2024_mRNA.fasta',\n",
    "'Tetrahymena_Genome_annotation_V2024_Protein.fasta',\n",
    "'Tetrahymena_Genome_annotation_V2024_Tname2gname.txt',\n",
    "'Tetrahymena_Genome_V2024.fasta',\n",
    "'V2024.zip',\n",
    "'V2024.tar.gz',\n",
    "]"
   ]
  },
  {
   "cell_type": "code",
   "execution_count": 5,
   "metadata": {},
   "outputs": [
    {
     "name": "stdout",
     "output_type": "stream",
     "text": [
      "FILE SAVED: /Users/michaelbertagna/git/TGNE-2022/new_raw_data/tgd2024_may15/Tetrahymena_Genome_annotation_V2024.gff3\n",
      "FILE SAVED: /Users/michaelbertagna/git/TGNE-2022/new_raw_data/tgd2024_may15/Tetrahymena_Genome_annotation_V2024T2021_gene-change-information.txt\n",
      "FILE SAVED: /Users/michaelbertagna/git/TGNE-2022/new_raw_data/tgd2024_may15/Tetrahymena_Genome_annotation_V2024_addAS-NAT-NC.gff3\n",
      "FILE SAVED: /Users/michaelbertagna/git/TGNE-2022/new_raw_data/tgd2024_may15/Tetrahymena_Genome_annotation_V2024_CDS.fasta\n",
      "FILE SAVED: /Users/michaelbertagna/git/TGNE-2022/new_raw_data/tgd2024_may15/Tetrahymena_Genome_annotation_V2024_mRNA.fasta\n",
      "FILE SAVED: /Users/michaelbertagna/git/TGNE-2022/new_raw_data/tgd2024_may15/Tetrahymena_Genome_annotation_V2024_Protein.fasta\n",
      "FILE SAVED: /Users/michaelbertagna/git/TGNE-2022/new_raw_data/tgd2024_may15/Tetrahymena_Genome_annotation_V2024_Tname2gname.txt\n",
      "FILE SAVED: /Users/michaelbertagna/git/TGNE-2022/new_raw_data/tgd2024_may15/Tetrahymena_Genome_V2024.fasta\n",
      "FILE SAVED: /Users/michaelbertagna/git/TGNE-2022/new_raw_data/tgd2024_may15/V2024.zip\n",
      "FILE SAVED: /Users/michaelbertagna/git/TGNE-2022/new_raw_data/tgd2024_may15/V2024.tar.gz\n"
     ]
    }
   ],
   "source": [
    "for file in files:\n",
    "    download_file(os.path.join(url, file), './new_raw_data/tgd2024_may15/')"
   ]
  }
 ],
 "metadata": {
  "kernelspec": {
   "display_name": "cdh2_bokeh.env",
   "language": "python",
   "name": "python3"
  },
  "language_info": {
   "codemirror_mode": {
    "name": "ipython",
    "version": 3
   },
   "file_extension": ".py",
   "mimetype": "text/x-python",
   "name": "python",
   "nbconvert_exporter": "python",
   "pygments_lexer": "ipython3",
   "version": "3.8.16"
  }
 },
 "nbformat": 4,
 "nbformat_minor": 2
}

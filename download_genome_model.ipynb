{
 "cells": [
  {
   "cell_type": "code",
   "execution_count": 5,
   "metadata": {},
   "outputs": [],
   "source": [
    "import os\n",
    "from utils import file_utils"
   ]
  },
  {
   "cell_type": "code",
   "execution_count": 6,
   "metadata": {},
   "outputs": [],
   "source": [
    "file_utils.create_directories('./new_raw_data/tgd2024_may15')"
   ]
  },
  {
   "cell_type": "code",
   "execution_count": 7,
   "metadata": {},
   "outputs": [],
   "source": [
    "url = 'https://github.com/yefei521/Tetrahymena_Genome_annotation_V2024/releases/download/V2024/'\n",
    "\n",
    "files = [\n",
    "'Tetrahymena_Genome_annotation_V2024.gff3',\n",
    "'Tetrahymena_Genome_annotation_V2024T2021_gene-change-information.txt',\n",
    "'Tetrahymena_Genome_annotation_V2024_addAS-NAT-NC.gff3',\n",
    "'Tetrahymena_Genome_annotation_V2024_CDS.fasta',\n",
    "'Tetrahymena_Genome_annotation_V2024_mRNA.fasta',\n",
    "'Tetrahymena_Genome_annotation_V2024_Protein_addAnno.fasta',\n",
    "'Tetrahymena_Genome_annotation_V2024_Tname2gname.txt',\n",
    "'Tetrahymena_Genome_V2024.fasta',\n",
    "'V2024.zip',\n",
    "'V2024.tar.gz',\n",
    "]"
   ]
  },
  {
   "cell_type": "code",
   "execution_count": 8,
   "metadata": {},
   "outputs": [
    {
     "name": "stdout",
     "output_type": "stream",
     "text": [
      "FILE SAVED: /Users/michaelbertagna/git/TGNE-2022/new_raw_data/tgd2024_may15/Tetrahymena_Genome_annotation_V2024.gff3\n",
      "FILE SAVED: /Users/michaelbertagna/git/TGNE-2022/new_raw_data/tgd2024_may15/Tetrahymena_Genome_annotation_V2024T2021_gene-change-information.txt\n",
      "FILE SAVED: /Users/michaelbertagna/git/TGNE-2022/new_raw_data/tgd2024_may15/Tetrahymena_Genome_annotation_V2024_addAS-NAT-NC.gff3\n",
      "FILE SAVED: /Users/michaelbertagna/git/TGNE-2022/new_raw_data/tgd2024_may15/Tetrahymena_Genome_annotation_V2024_CDS.fasta\n",
      "FILE SAVED: /Users/michaelbertagna/git/TGNE-2022/new_raw_data/tgd2024_may15/Tetrahymena_Genome_annotation_V2024_mRNA.fasta\n",
      "FILE SAVED: /Users/michaelbertagna/git/TGNE-2022/new_raw_data/tgd2024_may15/Tetrahymena_Genome_annotation_V2024_Protein_addAnno.fasta\n",
      "FILE SAVED: /Users/michaelbertagna/git/TGNE-2022/new_raw_data/tgd2024_may15/Tetrahymena_Genome_annotation_V2024_Tname2gname.txt\n",
      "FILE SAVED: /Users/michaelbertagna/git/TGNE-2022/new_raw_data/tgd2024_may15/Tetrahymena_Genome_V2024.fasta\n",
      "FILE SAVED: /Users/michaelbertagna/git/TGNE-2022/new_raw_data/tgd2024_may15/V2024.zip\n",
      "FILE SAVED: /Users/michaelbertagna/git/TGNE-2022/new_raw_data/tgd2024_may15/V2024.tar.gz\n"
     ]
    }
   ],
   "source": [
    "for file in files:\n",
    "    file_utils.download_file_chunks(os.path.join(url, file), os.path.join('./new_raw_data/tgd2024_may15/', file))"
   ]
  }
 ],
 "metadata": {
  "kernelspec": {
   "display_name": "cdh2_bokeh.env",
   "language": "python",
   "name": "python3"
  },
  "language_info": {
   "codemirror_mode": {
    "name": "ipython",
    "version": 3
   },
   "file_extension": ".py",
   "mimetype": "text/x-python",
   "name": "python",
   "nbconvert_exporter": "python",
   "pygments_lexer": "ipython3",
   "version": "3.8.16"
  }
 },
 "nbformat": 4,
 "nbformat_minor": 2
}

{
 "cells": [
  {
   "cell_type": "code",
   "execution_count": 1,
   "metadata": {},
   "outputs": [],
   "source": [
    "import os\n",
    "from utils import file_utils"
   ]
  },
  {
   "cell_type": "code",
   "execution_count": 2,
   "metadata": {},
   "outputs": [],
   "source": [
    "file_utils.create_directories('./new_raw_data/tgd2024_jun28')"
   ]
  },
  {
   "cell_type": "code",
   "execution_count": 3,
   "metadata": {},
   "outputs": [
    {
     "data": {
      "text/plain": [
       "15"
      ]
     },
     "execution_count": 3,
     "metadata": {},
     "output_type": "execute_result"
    }
   ],
   "source": [
    "url = 'https://github.com/yefei521/Tetrahymena_Genome_annotation_V2024/releases/download/V2024.2/'\n",
    "\n",
    "files = [\n",
    "os.path.join(url, 'Tetrahymena_Genome_annotation_V2024.gff3'),\n",
    "os.path.join(url, 'Tetrahymena_Genome_annotation_V2024T2021_gene-change-information.txt'),\n",
    "os.path.join(url, 'Tetrahymena_Genome_annotation_V2024_addAS-NAT-NC.gff3'),\n",
    "os.path.join(url, 'Tetrahymena_Genome_annotation_V2024_CDS.fasta'),\n",
    "os.path.join(url, 'Tetrahymena_Genome_annotation_V2024_gene.fasta'),\n",
    "# os.path.join(url, 'Tetrahymena_Genome_annotation_V2024_mRNA.fasta'),\n",
    "os.path.join(url, 'Tetrahymena_Genome_annotation_V2024_Protein.fasta'),\n",
    "os.path.join(url, 'Tetrahymena_Genome_annotation_V2024_Protein_addAnno.fasta'),\n",
    "os.path.join(url, 'Tetrahymena_Genome_annotation_V2024_Tname2gname.txt'),\n",
    "os.path.join(url, 'Tetrahymena_Genome_annotation_V2024_TSSanno.gff3'),\n",
    "os.path.join(url, 'Tetrahymena_Genome_annotation_V2024_TSSanno_addAS-NAT-NC.gff3'),\n",
    "os.path.join(url, 'Tetrahymena_Genome_V2024.fasta'),\n",
    "os.path.join(url, 'TGD2024_Tname2Annotation.xlxs'),\n",
    "os.path.join(url, 'TGD2024_Tname_AnnotationGO.txt'),\n",
    "'https://github.com/yefei521/Tetrahymena_Genome_annotation_V2024/archive/refs/tags/V2024.2.zip',\n",
    "'https://github.com/yefei521/Tetrahymena_Genome_annotation_V2024/archive/refs/tags/V2024.2.tar.gz',\n",
    "]\n",
    "\n",
    "len(files)\n"
   ]
  },
  {
   "cell_type": "code",
   "execution_count": 5,
   "metadata": {},
   "outputs": [
    {
     "name": "stdout",
     "output_type": "stream",
     "text": [
      "FILE SAVED: /Users/michaelbertagna/git/TGNE-2022/new_raw_data/tgd2024_jun28/Tetrahymena_Genome_annotation_V2024.gff3\n",
      "FILE SAVED: /Users/michaelbertagna/git/TGNE-2022/new_raw_data/tgd2024_jun28/Tetrahymena_Genome_annotation_V2024T2021_gene-change-information.txt\n",
      "FILE SAVED: /Users/michaelbertagna/git/TGNE-2022/new_raw_data/tgd2024_jun28/Tetrahymena_Genome_annotation_V2024_addAS-NAT-NC.gff3\n",
      "FILE SAVED: /Users/michaelbertagna/git/TGNE-2022/new_raw_data/tgd2024_jun28/Tetrahymena_Genome_annotation_V2024_CDS.fasta\n",
      "FILE SAVED: /Users/michaelbertagna/git/TGNE-2022/new_raw_data/tgd2024_jun28/Tetrahymena_Genome_annotation_V2024_gene.fasta\n",
      "FILE SAVED: /Users/michaelbertagna/git/TGNE-2022/new_raw_data/tgd2024_jun28/Tetrahymena_Genome_annotation_V2024_Protein.fasta\n",
      "FILE SAVED: /Users/michaelbertagna/git/TGNE-2022/new_raw_data/tgd2024_jun28/Tetrahymena_Genome_annotation_V2024_Protein_addAnno.fasta\n",
      "FILE SAVED: /Users/michaelbertagna/git/TGNE-2022/new_raw_data/tgd2024_jun28/Tetrahymena_Genome_annotation_V2024_Tname2gname.txt\n",
      "FILE SAVED: /Users/michaelbertagna/git/TGNE-2022/new_raw_data/tgd2024_jun28/Tetrahymena_Genome_annotation_V2024_TSSanno.gff3\n",
      "FILE SAVED: /Users/michaelbertagna/git/TGNE-2022/new_raw_data/tgd2024_jun28/Tetrahymena_Genome_annotation_V2024_TSSanno_addAS-NAT-NC.gff3\n",
      "FILE SAVED: /Users/michaelbertagna/git/TGNE-2022/new_raw_data/tgd2024_jun28/Tetrahymena_Genome_V2024.fasta\n",
      "FILE SAVED: /Users/michaelbertagna/git/TGNE-2022/new_raw_data/tgd2024_jun28/TGD2024_Tname2Annotation.xlxs\n",
      "FILE SAVED: /Users/michaelbertagna/git/TGNE-2022/new_raw_data/tgd2024_jun28/TGD2024_Tname_AnnotationGO.txt\n",
      "FILE SAVED: /Users/michaelbertagna/git/TGNE-2022/new_raw_data/tgd2024_jun28/V2024.2.zip\n",
      "FILE SAVED: /Users/michaelbertagna/git/TGNE-2022/new_raw_data/tgd2024_jun28/V2024.2.tar.gz\n"
     ]
    }
   ],
   "source": [
    "for file in files:\n",
    "    file_utils.download_file_chunks(file, os.path.join('./new_raw_data/tgd2024_jun28/', os.path.basename(file)))"
   ]
  }
 ],
 "metadata": {
  "kernelspec": {
   "display_name": "cdh2_bokeh.env",
   "language": "python",
   "name": "python3"
  },
  "language_info": {
   "codemirror_mode": {
    "name": "ipython",
    "version": 3
   },
   "file_extension": ".py",
   "mimetype": "text/x-python",
   "name": "python",
   "nbconvert_exporter": "python",
   "pygments_lexer": "ipython3",
   "version": "3.8.undefined"
  }
 },
 "nbformat": 4,
 "nbformat_minor": 2
}
